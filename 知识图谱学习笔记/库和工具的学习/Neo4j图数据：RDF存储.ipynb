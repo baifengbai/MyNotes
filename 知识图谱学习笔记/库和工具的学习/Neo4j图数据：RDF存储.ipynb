{
 "cells": [
  {
   "cell_type": "markdown",
   "metadata": {},
   "source": [
    "# Neo4j 启动和简介"
   ]
  },
  {
   "cell_type": "markdown",
   "metadata": {},
   "source": [
    "## Neo4j简介"
   ]
  },
  {
   "cell_type": "markdown",
   "metadata": {},
   "source": [
    "neo4j是基于Java语言编写图形数据库。图是一组节点和连接这些节点的关系。图形数据库也被称为图形数据库管理系统或GDBMS。"
   ]
  },
  {
   "cell_type": "markdown",
   "metadata": {},
   "source": [
    "### 图"
   ]
  },
  {
   "cell_type": "markdown",
   "metadata": {},
   "source": [
    "图是最普遍的自然结构，是由`顶点（Vertex）`、`边（Edge）`和`属性（Property）`组成的，`顶点`也称作`节点`，`边`也称作`关系`，`顶点`和`边`可以`设置属性`，**每个节点和关系都可以由一个或多个属性**。"
   ]
  },
  {
   "cell_type": "markdown",
   "metadata": {},
   "source": [
    "### 图形数据库Graph Database"
   ]
  },
  {
   "cell_type": "markdown",
   "metadata": {},
   "source": [
    "也称为**图形数据库管理系统（GDBMS）**，区别于**关系型数据库（Oracle、Mysql）**，用于存储丰富的关系数据。图形数据库将结构化数据存储在图上而不是表中，是一个嵌入式的、基于磁盘的、具备完全事务特性的Java持久化引擎。\n",
    "\n",
    "Neo4j是一个无架构数据库，在开始添加数据时，**无需定义表和关系**，也不需要任何额外的RRBMS数据库来存储Neo4j数据。使用**查询语言Neo4j CQL**就能够很好的操作数据。"
   ]
  },
  {
   "cell_type": "markdown",
   "metadata": {},
   "source": [
    "### Neo4j模型规则"
   ]
  },
  {
   "cell_type": "markdown",
   "metadata": {},
   "source": [
    "Neo4j 的主要构建块 是：**节点、关系、属性**。**Neo4j将数据作为节点和关系存储**，节点和关系都可以包含属性，属性是**键值对的形式**；关系连接节点，具有方向性：单向和双向。每个关系包含开始节点和结束节点。"
   ]
  },
  {
   "cell_type": "markdown",
   "metadata": {},
   "source": [
    "#### 节点"
   ]
  },
  {
   "cell_type": "markdown",
   "metadata": {},
   "source": [
    "每一个节点可以有一个或者多个文字描述，称为**节点标签**，具有同样标签的节点用一种专用的方式存储；节点标签可用来对事物进行分类。"
   ]
  },
  {
   "cell_type": "markdown",
   "metadata": {},
   "source": [
    "#### 关系"
   ]
  },
  {
   "cell_type": "markdown",
   "metadata": {},
   "source": [
    "在Neo4j中，关系是有方向性的。如果我们尝试创建没有方向的关系，那么Neo4j会抛出一个错误消息，“关系应该是方向性的”。"
   ]
  },
  {
   "cell_type": "markdown",
   "metadata": {},
   "source": [
    "#### 属性"
   ]
  },
  {
   "cell_type": "markdown",
   "metadata": {},
   "source": [
    "节点 和 关系 都可以包含属性，属性是**键值对的形式**"
   ]
  },
  {
   "cell_type": "markdown",
   "metadata": {},
   "source": [
    "##  Neo4j启动命令"
   ]
  },
  {
   "cell_type": "markdown",
   "metadata": {},
   "source": [
    "windows下，以管理员身份在cmd控制台启动` .\\neo4j.bat console`，前提Neo4j安装和环境变量配置成功，默认跳到`http://localhost:7474`。\n",
    "\n",
    "初账号：neo4j，初始密码：neo4j"
   ]
  },
  {
   "cell_type": "markdown",
   "metadata": {},
   "source": [
    "## Neo4j数据库的构建"
   ]
  },
  {
   "cell_type": "markdown",
   "metadata": {},
   "source": [
    "社区版的`Neo4j`只能构建一个数据库,名为:`graph.db`。\n",
    "\n",
    "如果要修改此数据库名，可以修改`neo4j-community-3.5.5\\conf\\neo4j.conf`配置文件中`#dbms.active_database=graph.db`。\n",
    "\n",
    "同样如果想构建多个数据库，可以先修改`neo4j-community-3.5.5\\data\\databases`文件夹下的`graph.db`文件夹的名为其它名字；或者，直接修改配置文件里`#dbms.active_database=other_name.db`即可。但是，每次运行`neo4j`时，只能有一个数据库挂载。"
   ]
  },
  {
   "cell_type": "markdown",
   "metadata": {},
   "source": [
    "# 删除数据库"
   ]
  },
  {
   "cell_type": "markdown",
   "metadata": {},
   "source": [
    "## 删文件"
   ]
  },
  {
   "cell_type": "markdown",
   "metadata": {},
   "source": [
    "直接物理性删除`neo4j-community-3.5.5\\data\\databases`文件夹下的`graph.db`文件夹,再重启服务即可"
   ]
  },
  {
   "cell_type": "markdown",
   "metadata": {},
   "source": [
    "## 用cypher命令删除"
   ]
  },
  {
   "cell_type": "markdown",
   "metadata": {},
   "source": [
    "```Python\n",
    "match(p) detach delete p\n",
    "```"
   ]
  },
  {
   "cell_type": "markdown",
   "metadata": {},
   "source": [
    "# 查询语言：Cypher(CQL)"
   ]
  },
  {
   "cell_type": "markdown",
   "metadata": {},
   "source": [
    "`Cypher`发音：`[ˈsaɪfər]` , **Cypher语言的关键字不区分大小写，但是属性值，标签，关系类型 和 变量 是区分大小写的**"
   ]
  },
  {
   "cell_type": "markdown",
   "metadata": {},
   "source": [
    "## 常用查询命令CQL概览"
   ]
  },
  {
   "cell_type": "markdown",
   "metadata": {},
   "source": [
    "|CQL命令|用法|\n",
    "|:--:|:--:|\n",
    "|CREATE 创建|创建节点，关系和属性|\n",
    "|MATCH 匹配|检索有关节点，关系和属性|\n",
    "|RETURN 返回|返回查询结果|\n",
    "|WHERE 哪里|提供条件过滤检索数据|\n",
    "|DELETE 删除|删除节点和关系|\n",
    "|REMOVE 移除|删除节点和关系的属性|\n",
    "|ORDER BY 以...排序|排序检索数据|\n",
    "|SET 组|添加或更新标签|"
   ]
  },
  {
   "cell_type": "markdown",
   "metadata": {},
   "source": [
    "## CQL基本命令"
   ]
  },
  {
   "cell_type": "markdown",
   "metadata": {},
   "source": [
    "Neo4j的主要构建块是：节点、关系、属性，CQL命令用来操作这三个构建块，我们使用CQL基本命令来描绘如下图所示的关系：\n",
    "\n",
    "![](./image/)"
   ]
  },
  {
   "cell_type": "markdown",
   "metadata": {},
   "source": [
    "### CREATE语句"
   ]
  },
  {
   "cell_type": "markdown",
   "metadata": {},
   "source": [
    "创建节点或者关系，每个节点都有一个整数ID，语法如下：\n",
    "`CREATE (<node_name>:<label_name>)`"
   ]
  },
  {
   "cell_type": "markdown",
   "metadata": {},
   "source": [
    "#### 创建多个标签"
   ]
  },
  {
   "cell_type": "markdown",
   "metadata": {},
   "source": [
    "```Python\n",
    "// 创建多个标签\n",
    "create (p:Person:People)  // 创建一个节点p，它有两个标签Person 和 People\n",
    "```\n",
    "\n",
    "创建了`Pesron` 和 `People`两个标签，还有一个节点，而且这个节点有两个标签 Person 和 People，标签用来分类节点，结果如下:\n",
    "\n",
    "![](./image/neo4j_1.png)\n",
    "\n",
    "![](./image/neo4j_2.png)"
   ]
  },
  {
   "cell_type": "markdown",
   "metadata": {},
   "source": [
    "#### 创建无属性节点"
   ]
  },
  {
   "cell_type": "markdown",
   "metadata": {},
   "source": [
    "```Python\n",
    "// 创建无属性节点\n",
    "create (p:Person)\n",
    "```\n",
    "\n",
    "结果如下：\n",
    "![](./image/neo4j_3.png)\n",
    "\n",
    "![](./image/neo4j_4.png)"
   ]
  },
  {
   "cell_type": "markdown",
   "metadata": {},
   "source": [
    "#### 创建带属性节点"
   ]
  },
  {
   "cell_type": "markdown",
   "metadata": {},
   "source": [
    "```Python\n",
    "// 创建带属性的节点\n",
    "create (p:Person{姓名:\"刘备\",字:\"玄德\",坐骑:\"的卢\",武器:\"双股剑\",性别:\"男\"}) // 这里的`p`是泛指，而\":Person\"指代我们创建的这个节点的标签是'Person'\n",
    "create (p:Person{姓名:\"关羽\",字:\"长生\",坐骑:\"赤兔\",武器:\"青龙偃月刀\",性别:\"男\"})\n",
    "create (p:Person{姓名:\"张飞\",字:\"翼德\",坐骑:\"王追\",武器:\"丈八蛇矛\",性别:\"男\"})\n",
    "create (p:Person{姓名:\"曹操\",字:\"孟德\",坐骑:\"绝影\",武器:\"青虹剑\",性别:\"男\"})\n",
    "create (p:Person{姓名:\"孙权\",字:\"仲谋\",坐骑:\"快航\",武器:\"白虹剑\",性别:\"男\"})\n",
    "```\n",
    "\n",
    "结过如下：\n",
    "![](./image/neo4j_5.png)\n",
    "\n",
    "注意，属性用`{}`括起来，属性名可以是英文或汉字，属性值必须用`\"\"`包裹。"
   ]
  },
  {
   "cell_type": "markdown",
   "metadata": {},
   "source": [
    "#### 创建无属性的关系"
   ]
  },
  {
   "cell_type": "markdown",
   "metadata": {},
   "source": [
    "```Python\n",
    "// 创建无属性的关系\n",
    "match (p:Person),(g:Person)  // 匹配节点，它的类型是Person\n",
    "where p.姓名=\"刘备\" and g.姓名=\"关羽\"\n",
    "create (p)-[r:我的将军]->(g)\n",
    "```\n",
    "`(p)-[r:我的将军]->(g)` 表示两个节点的关系是`[r:我的将军]`,`r`表示关系，`:`后面接关系名，`->` 表示关系的方向，关系必须有方向，或者单向或者双向，结果如下：\n",
    "\n",
    "![](./image/neo4j_6.png)"
   ]
  },
  {
   "cell_type": "markdown",
   "metadata": {},
   "source": [
    "#### 创建带属性的关系"
   ]
  },
  {
   "cell_type": "markdown",
   "metadata": {},
   "source": [
    "```Python\n",
    "// 创建带属性的关系\n",
    "match (p:Person),(g:Person)\n",
    "where p.姓名=\"刘备\" and g.姓名=\"孙权\"\n",
    "create (p)-[r:我的敌人{危险程度:\"5\"}]->(g) \n",
    "return r\n",
    "```\n",
    "`{危险程度:\"5\"}`是关系`r:我的敌人`的属性，后面还有属性值，`return r`返回这个关系。结果如下：\n",
    "\n",
    "![](./image/neo4j_7.png)\n",
    "![](./image/neo4j_8.png)"
   ]
  },
  {
   "cell_type": "markdown",
   "metadata": {},
   "source": [
    "### MATCH语句"
   ]
  },
  {
   "cell_type": "markdown",
   "metadata": {},
   "source": [
    "匹配图形模式，可以**定位感兴趣的数据，不能单独使用MATCH子句**，语法如下：` match (p:Person)    //匹配模式，无return返回报错`\n",
    "\n",
    "```Python\n",
    "match (p:Person)  // 表示寻找节点p，其标签是Person\n",
    "return p.姓名\n",
    "```\n",
    "\n",
    "结果如下：\n",
    "![](./image/neo4j_10.png)"
   ]
  },
  {
   "cell_type": "markdown",
   "metadata": {},
   "source": [
    "### RETURN语句"
   ]
  },
  {
   "cell_type": "markdown",
   "metadata": {},
   "source": [
    "返回感兴趣的结果，**不能单独使用 RETURN 子句**； Neo4j使用**CQL MATCH + RETURN从数据库检索数据**，语法如下:\n",
    "\n",
    "`RETURN \n",
    "<node-name>.<property1-name>, \n",
    "........ \n",
    "<node-name>.<propertyn-name>`\n",
    "\n",
    "例如:\n",
    "\n",
    "`match (p:Person)\n",
    "return p.姓名\n",
    "`\n",
    "结果如下：\n",
    "\n",
    "![](./image/neo4j_9.png)"
   ]
  },
  {
   "cell_type": "markdown",
   "metadata": {},
   "source": [
    "### DELETE语句"
   ]
  },
  {
   "cell_type": "markdown",
   "metadata": {},
   "source": [
    "删除节点 和 关联关系，与 MATCH 命令一起使用。 语法如下：`DELETE <node-name-list>`"
   ]
  },
  {
   "cell_type": "markdown",
   "metadata": {},
   "source": [
    "#### 删除节点"
   ]
  },
  {
   "cell_type": "markdown",
   "metadata": {},
   "source": [
    "```Python\n",
    "// 删除节点\n",
    "match (p:Person)\n",
    "where p.姓名=\"曹操\"\n",
    "delete p\n",
    "```\n",
    "![](./image/neo4j_11.png)"
   ]
  },
  {
   "cell_type": "markdown",
   "metadata": {},
   "source": [
    "#### 删除关系"
   ]
  },
  {
   "cell_type": "markdown",
   "metadata": {},
   "source": [
    "```Python\n",
    "match (p:Person)-[r:我的将军]->(g:Person)\n",
    "delete r\n",
    "```\n",
    "![](./image/neo4j_12.png)"
   ]
  },
  {
   "cell_type": "markdown",
   "metadata": {},
   "source": [
    "### REMOVE语句"
   ]
  },
  {
   "cell_type": "markdown",
   "metadata": {},
   "source": [
    "删除 节点或关系 的标签、属性，与MATCH命令一起使用。语法如下： `REMOVE <property-name-list>`,例如："
   ]
  },
  {
   "cell_type": "markdown",
   "metadata": {},
   "source": [
    "#### 删除节点的属性"
   ]
  },
  {
   "cell_type": "markdown",
   "metadata": {},
   "source": [
    "```Python\n",
    "// 删除节点p的\"性别\"属性\n",
    "match(p:Person)\n",
    "remove p.性别\n",
    "return p\n",
    "```\n",
    "![](./image/neo4j_13.png)"
   ]
  },
  {
   "cell_type": "markdown",
   "metadata": {},
   "source": [
    "#### 删除节点的标签"
   ]
  },
  {
   "cell_type": "markdown",
   "metadata": {},
   "source": [
    "```Python\n",
    "match (m:Person)\n",
    "remove m:People\n",
    "```\n",
    "\n",
    "![](./image/neo4j_14.png)"
   ]
  },
  {
   "cell_type": "markdown",
   "metadata": {},
   "source": [
    "### SET语句"
   ]
  },
  {
   "cell_type": "markdown",
   "metadata": {},
   "source": [
    "**向现有 节点或关系 添加或更新 属性值**，语法如下: `SET <property-name-list>`"
   ]
  },
  {
   "cell_type": "markdown",
   "metadata": {},
   "source": [
    "#### 给节点添加属性"
   ]
  },
  {
   "cell_type": "markdown",
   "metadata": {},
   "source": [
    "```Python\n",
    "// 给满足条件的节点添加 朝代 属性\n",
    "match (p:Person)\n",
    "where p.name=\"关羽\"\n",
    "set p.朝代=\"三国\"\n",
    "return p\n",
    "```\n",
    "![](./image/neo4j_15.png)"
   ]
  },
  {
   "cell_type": "markdown",
   "metadata": {},
   "source": [
    "#### 给关系添加属性"
   ]
  },
  {
   "cell_type": "markdown",
   "metadata": {},
   "source": [
    "```Python\n",
    "match (p:Person)-[r:我的敌人]->(g:Person)\n",
    "set r.来自哪里=\"南方\"\n",
    "return r\n",
    "\n",
    "```\n",
    "![](./image/neo4j_16.png)"
   ]
  },
  {
   "cell_type": "markdown",
   "metadata": {},
   "source": [
    "### ORDER BY语句"
   ]
  },
  {
   "cell_type": "markdown",
   "metadata": {},
   "source": [
    "排序，语法如下：`ORDER BY <property-name-list> [DESC]` ,`[DESC]`表示降序，可选的参数。\n",
    "\n",
    "```Python\n",
    "// 按照姓名降序排序\n",
    "match (p:Person)\n",
    "return p.姓名,p.字\n",
    "order by p.姓名 DESC\n",
    "\n",
    "```\n",
    "![](./image/neo4j_17.png)"
   ]
  },
  {
   "cell_type": "markdown",
   "metadata": {},
   "source": [
    "### LIMIT语句"
   ]
  },
  {
   "cell_type": "markdown",
   "metadata": {},
   "source": [
    "过滤或限制查询返回的行数，语法如下: `LIMIT <number>`\n",
    "\n",
    "```Python\n",
    "// 返回3个Person标签的节点\n",
    "match (p:Person)\n",
    "return p\n",
    "limit 3\n",
    "```\n",
    "![](./image/neo4j_18.png)"
   ]
  },
  {
   "cell_type": "markdown",
   "metadata": {},
   "source": [
    "### SKIP语句"
   ]
  },
  {
   "cell_type": "markdown",
   "metadata": {},
   "source": [
    "从第几个记录开始，语法如下：`SKIP <number>`\n",
    "\n",
    "```Python\n",
    "// 返回从第2个记录开始的Person标签的节点\n",
    "match (p:Person)\n",
    "return p\n",
    "skip 2\n",
    "\n",
    "```\n",
    "![](./image/neo4j_19.png)"
   ]
  },
  {
   "cell_type": "markdown",
   "metadata": {},
   "source": [
    "### WHERE语句"
   ]
  },
  {
   "cell_type": "markdown",
   "metadata": {},
   "source": [
    "基于某些标准过滤数据，在where语句中使用 `and、or、not、xor、= 、<>、<、>、<=、>=` 等运算符,`<>`是`不等于`\n",
    "\n",
    "```Python\n",
    "match(p:Person)\n",
    "where p.姓名 <> \"刘备\"\n",
    "return p\n",
    "```\n",
    "![](./image/neo4j_20.png)"
   ]
  },
  {
   "cell_type": "markdown",
   "metadata": {},
   "source": [
    "## CQL函数"
   ]
  },
  {
   "cell_type": "markdown",
   "metadata": {},
   "source": [
    "### 字符串函数"
   ]
  },
  {
   "cell_type": "markdown",
   "metadata": {},
   "source": [
    "|函数|功能|\n",
    "|--|--|\n",
    "|UPPER|将所有字母改为大写字母|\n",
    "|LOWER|将所有字母改为小写字母|\n",
    "|SUBSTRING|获取给定String的子字符串|\n",
    "|REPLACE|替换一个字符串的子字符串|"
   ]
  },
  {
   "cell_type": "markdown",
   "metadata": {},
   "source": [
    "### 聚合函数"
   ]
  },
  {
   "cell_type": "markdown",
   "metadata": {},
   "source": [
    "|函数|功能|\n",
    "|--|--|\n",
    "|COUNT|返回由MATCH命令返回的行数|\n",
    "|MAX|从MATCH命令返回的一组行返回最大值|\n",
    "|MIN|返回由MATCH命令返回的一组行的最小值|\n",
    "|AVG|返回由MATCH命令返回的所有行的平均值|\n",
    "|SUM|返回由MATCH命令返回的所有行的求和值|"
   ]
  },
  {
   "cell_type": "markdown",
   "metadata": {},
   "source": [
    "### 关系函数"
   ]
  },
  {
   "cell_type": "markdown",
   "metadata": {},
   "source": [
    "|函数|功能|\n",
    "|--|--|\n",
    "|STARTNODE|用于知道关系的开始节点|\n",
    "|ENDNODE|用于知道关系的结束节点|\n",
    "|ID|用于知道关系的ID，获取指定节点的内部编号|\n",
    "|TYPE|查找一个关系的类型|\n",
    "|HAS|如果一个节点或关系具有给定名字的属性存在，返回true|\n",
    "|NODES|把一个路径转换成一个可迭代的节点集|"
   ]
  },
  {
   "cell_type": "markdown",
   "metadata": {},
   "source": [
    "### with语句的管道功能"
   ]
  },
  {
   "cell_type": "markdown",
   "metadata": {},
   "source": [
    "在`Cypher`中，可以**将一个查询的输出 链接到 另一个查询中**，从而创建功能强大的图形结构，`with` 的每一个结果，必须**使用别名标识** ,例如：\n",
    "\n",
    "```Python\n",
    "match (p:Person)-[:我的将军]->(g:Person)\n",
    "with p,p.姓名 as 姓名 // p ,p.姓名是 match语句返回的结果\n",
    "where 姓名 = \"刘备\"\n",
    "return p.姓名,p.字,p.武器\n",
    "```\n",
    "\n",
    "结果如下：\n",
    "![](./image/neo4j_21.png)"
   ]
  },
  {
   "cell_type": "markdown",
   "metadata": {},
   "source": [
    "## CQL 索引、约束"
   ]
  },
  {
   "cell_type": "markdown",
   "metadata": {},
   "source": [
    "`Neo4j CQL`支持**节点 或关系 属性 上的索引**，以提高应用程序的性能。 我们可以**为具有相同标签名称的所有节点的属性创建索引**。 我们可以在`MATCH` 或`WHERE` 或`IN` 运算符上使用这些索引列来改进`CQL Command`的执行。"
   ]
  },
  {
   "cell_type": "markdown",
   "metadata": {},
   "source": [
    "### Neo4j索引操作"
   ]
  },
  {
   "cell_type": "markdown",
   "metadata": {},
   "source": [
    "#### 创建索引"
   ]
  },
  {
   "cell_type": "markdown",
   "metadata": {},
   "source": [
    "创建索引` CREATE INDEX ON :<label_name> (<property_name>)`,例如:\n",
    "```Python\n",
    "CREATE INDEX ON :Person(姓名) // 在Person标签上创建索引\n",
    "```\n",
    "\n",
    "结果如下：\n",
    "![](./image/neo4j_22.png)"
   ]
  },
  {
   "cell_type": "markdown",
   "metadata": {},
   "source": [
    "#### 丢弃索引"
   ]
  },
  {
   "cell_type": "markdown",
   "metadata": {},
   "source": [
    "丢弃索引 `DROP INDEX ON :<label_name> (<property_name>)`，例如：\n",
    "```Python\n",
    "DROP INDEX ON :Person(姓名) // 丢弃在Person标签上的索引\n",
    "```\n",
    "\n",
    "结果如下：\n",
    "![](./image/neo4j_23.png)"
   ]
  },
  {
   "cell_type": "markdown",
   "metadata": {},
   "source": [
    "### 约束操作"
   ]
  },
  {
   "cell_type": "markdown",
   "metadata": {},
   "source": [
    "在Neo4j数据库中，CQL `CREATE`命令始终创建新的节点或关系，这意味着即使您使用相同的值，它也会插入一个新行。 根据我们对某些节点或关系的应用需求，我们必须避免这种重复。 然后我们不能直接得到这个。 我们应该使用一些**数据库约束** 来创建 **节点或关系的一个或多个属性的规则**。"
   ]
  },
  {
   "cell_type": "markdown",
   "metadata": {},
   "source": [
    "#### 给节点或关系的属性，添加UNIQUE约束，"
   ]
  },
  {
   "cell_type": "markdown",
   "metadata": {},
   "source": [
    "像SQL一样，Neo4j数据库也支持对** NODE 或 Relationship** 的属性的 **UNIQUE约束** ，**UNIQUE约束** 的使用是为了**避免重复记录**，强制执行**数据完整性规则**。语法如下：\n",
    "\n",
    "```Python\n",
    "CREATE CONSTRAINT ON (p:<label_name>) \n",
    "ASSERT p.<property_name> IS UNIQUE\n",
    "```\n",
    "\n",
    "例如:\n",
    "```Python\n",
    "create constraint on (p:Person) assert p.姓名 is unique\n",
    "```\n",
    "结过如下:\n",
    "![](./image/neo4j_24.png)"
   ]
  },
  {
   "cell_type": "markdown",
   "metadata": {},
   "source": [
    "#### 给节点或关系的属性，删除UNIQUE约束"
   ]
  },
  {
   "cell_type": "markdown",
   "metadata": {},
   "source": [
    "Neo4j CQL提供了**“DROP CONSTRAINT”** 命令，以从 **NODE 或 Relationship** 的属性中删除现有的 **Unique约束**。语法如下：\n",
    "```Python\n",
    "DROP CONSTRAINT ON (p:<label_name>) \n",
    "ASSERT p.<property_name> IS UNIQUE\n",
    "```\n",
    "例如:\n",
    "```Python\n",
    "drop constraint on (p:Person) assert p.姓名 is unique\n",
    "```\n",
    "结过如下:\n",
    "![](./image/neo4j_25.png)"
   ]
  },
  {
   "cell_type": "markdown",
   "metadata": {},
   "source": [
    "# Neo4j 和 Spring Data Neo4j"
   ]
  },
  {
   "cell_type": "code",
   "execution_count": null,
   "metadata": {},
   "outputs": [],
   "source": []
  },
  {
   "cell_type": "markdown",
   "metadata": {},
   "source": [
    "# Neo4j架构与应用"
   ]
  },
  {
   "cell_type": "code",
   "execution_count": null,
   "metadata": {},
   "outputs": [],
   "source": []
  },
  {
   "cell_type": "markdown",
   "metadata": {},
   "source": [
    "# Neo4j如何导入RDF文件"
   ]
  },
  {
   "cell_type": "markdown",
   "metadata": {},
   "source": [
    "1. 安装插件`neosemantics`jar包，下载地址:https://github.com/jbarrasa/neosemantics/releases\n",
    "\n",
    "\n",
    "2. 将下载的插件拷贝到`neo4j-community-3.5.5\\plugins\\`下面\n",
    "\n",
    "\n",
    "3. 在`neo4j-community-3.5.5\\conf\\neo4j.conf`配置文件最后一行下面添加如下语句`dbms.unmanaged_extension_classes=semantics.extension=/rdf`\n",
    "\n",
    "\n",
    "4. 重启Neo4j\n",
    "\n",
    "\n",
    "5. 输入查询语句 `:GET /rdf/ping`，若返回`{\"ping\":\"here!\"}`则表示配置成功\n",
    "\n",
    "6. 在Neo4j browser中运行如下查询语句：`CREATE INDEX ON : Resource(uri)`\n",
    "\n",
    "7. 之后，如果要导入远程数据：`CALL semantics.importRDF(\"https://www.w3.org/ns/org.ttl\",”Turtle”,{ languageFilter: ‘en’ })`,其中`\"https://www.w3.org/ns/org.ttl\"`是URI，`”Turtle”`是数据格式，都可以自己指定\n",
    "\n",
    "\n",
    "8. 如果要导入本地文件，则需要将URI替换成本地路径，并在路径前加入`file:///`,注意路径最好全是英文，中文可能报错，如：`CALL semantics.importRDF(\"file:///D:/workspace/little.rdf\",\"RDF/XML\", { shortenUrls: false, typesToLabels: true, commitSize: 9000 })`"
   ]
  },
  {
   "cell_type": "markdown",
   "metadata": {},
   "source": [
    "# Neo4j如何支持SPARQL查询语句"
   ]
  },
  {
   "cell_type": "code",
   "execution_count": null,
   "metadata": {},
   "outputs": [],
   "source": []
  },
  {
   "cell_type": "code",
   "execution_count": null,
   "metadata": {},
   "outputs": [],
   "source": []
  },
  {
   "cell_type": "markdown",
   "metadata": {},
   "source": [
    "# Python如何调用Neo4j查询数据"
   ]
  },
  {
   "cell_type": "markdown",
   "metadata": {},
   "source": [
    "## 以CQL语句查询"
   ]
  },
  {
   "cell_type": "markdown",
   "metadata": {},
   "source": [
    "## 以SPARQL语句查询"
   ]
  }
 ],
 "metadata": {
  "kernelspec": {
   "display_name": "Python 3",
   "language": "python",
   "name": "python3"
  },
  "language_info": {
   "codemirror_mode": {
    "name": "ipython",
    "version": 3
   },
   "file_extension": ".py",
   "mimetype": "text/x-python",
   "name": "python",
   "nbconvert_exporter": "python",
   "pygments_lexer": "ipython3",
   "version": "3.7.0"
  },
  "toc": {
   "base_numbering": 1,
   "nav_menu": {},
   "number_sections": true,
   "sideBar": true,
   "skip_h1_title": false,
   "title_cell": "Table of Contents",
   "title_sidebar": "Contents",
   "toc_cell": false,
   "toc_position": {},
   "toc_section_display": true,
   "toc_window_display": true
  },
  "varInspector": {
   "cols": {
    "lenName": 16,
    "lenType": 16,
    "lenVar": 40
   },
   "kernels_config": {
    "python": {
     "delete_cmd_postfix": "",
     "delete_cmd_prefix": "del ",
     "library": "var_list.py",
     "varRefreshCmd": "print(var_dic_list())"
    },
    "r": {
     "delete_cmd_postfix": ") ",
     "delete_cmd_prefix": "rm(",
     "library": "var_list.r",
     "varRefreshCmd": "cat(var_dic_list()) "
    }
   },
   "types_to_exclude": [
    "module",
    "function",
    "builtin_function_or_method",
    "instance",
    "_Feature"
   ],
   "window_display": false
  }
 },
 "nbformat": 4,
 "nbformat_minor": 2
}
