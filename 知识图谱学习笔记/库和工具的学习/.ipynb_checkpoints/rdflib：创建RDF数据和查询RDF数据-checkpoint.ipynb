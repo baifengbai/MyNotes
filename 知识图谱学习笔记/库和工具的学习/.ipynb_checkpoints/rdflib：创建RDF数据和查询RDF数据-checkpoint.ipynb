{
 "cells": [
  {
   "cell_type": "markdown",
   "metadata": {},
   "source": [
    "知识图谱越来越火，技术人员开始习惯使用`Sparql`查询`RDF`数据。但是，我们**如何构建一个RDF数据呢?**"
   ]
  },
  {
   "cell_type": "markdown",
   "metadata": {},
   "source": [
    "# 构建RDF数据的工具"
   ]
  },
  {
   "cell_type": "markdown",
   "metadata": {},
   "source": [
    "## Jena：JAVA语言编写"
   ]
  },
  {
   "cell_type": "markdown",
   "metadata": {},
   "source": [
    "Java 语言编写的，具有推理功能，适合开发和技术研究使用。"
   ]
  },
  {
   "cell_type": "markdown",
   "metadata": {},
   "source": [
    "## rdflib：Python语言编写"
   ]
  },
  {
   "cell_type": "markdown",
   "metadata": {},
   "source": [
    "RDFlib是一个纯Python包，用于RDF。RDFLib包含了大多数处理RDF所需的内容,包括:\n",
    "1. 解析和序列化w文件：RDF/XML, N3, NTriples, N-Quads, Turtle, TriX, RDFa， Microdata格式的数据\n",
    "2. 一个图形接口，可以由许多存储实现中的任何一个来支持\n",
    "3. 基于伯克利数据库，为内存存储和持久存储做了存储实现\n",
    "4. SPARQL 1.1 实现 - 支持 SPARQL 1.1 查询和更新数据\n",
    "5. 支持的文件格式有: 'rdf/xml'，'xml' , 'n3' ,'nt' ,'trix','rdfa'\n",
    "\n",
    "安装：`pip install rdflib`"
   ]
  },
  {
   "cell_type": "markdown",
   "metadata": {},
   "source": [
    "# 使用rdflib库"
   ]
  },
  {
   "cell_type": "markdown",
   "metadata": {},
   "source": [
    "## 创建RDF数据文件"
   ]
  },
  {
   "cell_type": "code",
   "execution_count": 1,
   "metadata": {
    "ExecuteTime": {
     "end_time": "2019-04-24T04:15:39.856744Z",
     "start_time": "2019-04-24T04:15:39.296242Z"
    }
   },
   "outputs": [],
   "source": [
    "# 创建一个节点，并以rdf格式序列化输出\n",
    "from rdflib import Graph\n",
    "import rdflib\n",
    "\n",
    "# 创建图：RDF本质上也是一个图\n",
    "g = Graph() \n",
    "\n",
    "# 创建关系：属性\n",
    "has_border_with = rdflib.URIRef('http://localhost/has_border_with') # 国与国之间的边界相邻\n",
    "located_in = rdflib.URIRef('http://localhost/located_in') # 国家位于哪里\n",
    "\n",
    "# 创建资源：国家\n",
    "Germany = rdflib.URIRef('http://localhost/germany') # 德国\n",
    "France = rdflib.URIRef('http://localhost/france') # 法国\n",
    "China = rdflib.URIRef('http://localhost/china') # 我国\n",
    "Korea = rdflib.URIRef('http://localhost/korea') # 朝鲜\n",
    "\n",
    "# 创建资源：洲\n",
    "Europa = rdflib.URIRef('http://localhost/europa') # 欧洲\n",
    "Asia = rdflib.URIRef('http://localhost/asia') # 亚洲\n",
    "\n",
    "# 创建RDF三元组: (资源，关系，资源)\n",
    "g.add((Germany,has_border_with,France))\n",
    "g.add((China,has_border_with,Korea))\n",
    "g.add((Germany,located_in,Europa))\n",
    "g.add((France,located_in,Europa))\n",
    "g.add((China,located_in,Asia))\n",
    "g.add((Korea,located_in,Asia))\n",
    "\n",
    "# 序列化输出RDF数据\n",
    "g.serialize('./code/1.rdf')"
   ]
  },
  {
   "cell_type": "markdown",
   "metadata": {},
   "source": [
    "结果如下:\n",
    "![](./image/1.png)"
   ]
  },
  {
   "cell_type": "markdown",
   "metadata": {},
   "source": [
    "## 导入数据"
   ]
  },
  {
   "cell_type": "markdown",
   "metadata": {},
   "source": [
    " 导入上步创建的RDF数据：`./code/1.rdf`"
   ]
  },
  {
   "cell_type": "code",
   "execution_count": 2,
   "metadata": {
    "ExecuteTime": {
     "end_time": "2019-04-24T04:15:39.876690Z",
     "start_time": "2019-04-24T04:15:39.858739Z"
    }
   },
   "outputs": [
    {
     "name": "stdout",
     "output_type": "stream",
     "text": [
      "图的大小为： 6\n",
      "\n",
      "(rdflib.term.URIRef('http://localhost/germany'),\n",
      " rdflib.term.URIRef('http://localhost/has_border_with'),\n",
      " rdflib.term.URIRef('http://localhost/france'))\n",
      "\n",
      "(rdflib.term.URIRef('http://localhost/china'),\n",
      " rdflib.term.URIRef('http://localhost/located_in'),\n",
      " rdflib.term.URIRef('http://localhost/asia'))\n",
      "\n",
      "(rdflib.term.URIRef('http://localhost/china'),\n",
      " rdflib.term.URIRef('http://localhost/has_border_with'),\n",
      " rdflib.term.URIRef('http://localhost/korea'))\n",
      "\n",
      "(rdflib.term.URIRef('http://localhost/france'),\n",
      " rdflib.term.URIRef('http://localhost/located_in'),\n",
      " rdflib.term.URIRef('http://localhost/europa'))\n",
      "\n",
      "(rdflib.term.URIRef('http://localhost/germany'),\n",
      " rdflib.term.URIRef('http://localhost/located_in'),\n",
      " rdflib.term.URIRef('http://localhost/europa'))\n",
      "\n",
      "(rdflib.term.URIRef('http://localhost/korea'),\n",
      " rdflib.term.URIRef('http://localhost/located_in'),\n",
      " rdflib.term.URIRef('http://localhost/asia'))\n",
      "\n"
     ]
    }
   ],
   "source": [
    "from rdflib import Graph\n",
    "import pprint\n",
    "\n",
    "# 创建一个图：RDF本质是也是一个图\n",
    "g = Graph()\n",
    "\n",
    "# 导入rdf文件，并解析\n",
    "g.parse('./code/1.rdf',format='xml')\n",
    "\n",
    "print('图的大小为：',len(g))\n",
    "print()\n",
    "# 遍历图中所有的三元组\n",
    "for triple in g:\n",
    "    pprint.pprint(triple)\n",
    "    print()"
   ]
  },
  {
   "cell_type": "markdown",
   "metadata": {},
   "source": [
    "## Sparql查询"
   ]
  },
  {
   "cell_type": "markdown",
   "metadata": {},
   "source": [
    "### 查询<a,?,?>类型的RDF三元组数据"
   ]
  },
  {
   "cell_type": "markdown",
   "metadata": {},
   "source": [
    "`<a,?,?>`这里`a`是已经给定的，待查询的内容是`?,?`的内容"
   ]
  },
  {
   "cell_type": "code",
   "execution_count": 3,
   "metadata": {
    "ExecuteTime": {
     "end_time": "2019-04-24T04:15:40.770300Z",
     "start_time": "2019-04-24T04:15:39.878685Z"
    }
   },
   "outputs": [
    {
     "name": "stdout",
     "output_type": "stream",
     "text": [
      "<rdflib.plugins.sparql.processor.SPARQLResult object at 0x0000022FFF802DA0>\n",
      "\n",
      "(rdflib.term.URIRef('http://localhost/has_border_with'), rdflib.term.URIRef('http://localhost/france'))\n",
      "\n",
      "(rdflib.term.URIRef('http://localhost/located_in'), rdflib.term.URIRef('http://localhost/europa'))\n",
      "\n"
     ]
    }
   ],
   "source": [
    "# Sparql查询语句\n",
    "# <a,?,?>,这里的relation 和 part 都是用来指代待查询的内容，\n",
    "# 而且这个名字不需要与RDF内一致，自己可以随时修改，\n",
    "# 它们代表的其实是待查询的三元组中的某个位置，\n",
    "# 但必须在前面加上 ? 标识待查询\n",
    "# 而且在 where语句中，相对顺序不能变，而且要用空格与其他变量隔开\n",
    "q = \"select ?relation ?part where {<http://localhost/germany> ?relation ?part}\"\n",
    "r1 = g.query(q)\n",
    "print(r1)\n",
    "print()\n",
    "r1 = list(r1)\n",
    "for i in r1:\n",
    "    print(i)\n",
    "    print()"
   ]
  },
  {
   "cell_type": "markdown",
   "metadata": {},
   "source": [
    "由于我们查询的是`德国`，因此返回的内容都是与德国组成的三元组信息，并且RDF三元组结构都是`(Germany,?,?)`。"
   ]
  },
  {
   "cell_type": "markdown",
   "metadata": {},
   "source": [
    "### 查询 <\\?,a,\\?> 类型的RDF三元组数据"
   ]
  },
  {
   "cell_type": "code",
   "execution_count": 4,
   "metadata": {
    "ExecuteTime": {
     "end_time": "2019-04-24T04:15:40.786259Z",
     "start_time": "2019-04-24T04:15:40.773293Z"
    }
   },
   "outputs": [
    {
     "name": "stdout",
     "output_type": "stream",
     "text": [
      "<rdflib.plugins.sparql.processor.SPARQLResult object at 0x0000022FFF759048>\n",
      "\n",
      "(rdflib.term.URIRef('http://localhost/france'), rdflib.term.URIRef('http://localhost/europa'))\n",
      "\n",
      "(rdflib.term.URIRef('http://localhost/china'), rdflib.term.URIRef('http://localhost/asia'))\n",
      "\n",
      "(rdflib.term.URIRef('http://localhost/germany'), rdflib.term.URIRef('http://localhost/europa'))\n",
      "\n",
      "(rdflib.term.URIRef('http://localhost/korea'), rdflib.term.URIRef('http://localhost/asia'))\n",
      "\n"
     ]
    }
   ],
   "source": [
    "# Sparql查询语句\n",
    "q = \"select ?country ?part where{?country <http://localhost/located_in> ?part}\"\n",
    "r1 = g.query(q)\n",
    "print(r1)\n",
    "print()\n",
    "r1 = list(r1)\n",
    "for i in r1:\n",
    "    print(i)\n",
    "    print()"
   ]
  },
  {
   "cell_type": "markdown",
   "metadata": {},
   "source": [
    "### 查询<?,?,a>类型的RDF三元组数据"
   ]
  },
  {
   "cell_type": "code",
   "execution_count": 5,
   "metadata": {
    "ExecuteTime": {
     "end_time": "2019-04-24T04:15:40.799223Z",
     "start_time": "2019-04-24T04:15:40.790248Z"
    }
   },
   "outputs": [
    {
     "name": "stdout",
     "output_type": "stream",
     "text": [
      "<rdflib.plugins.sparql.processor.SPARQLResult object at 0x0000022FFF7EC5C0>\n",
      "\n",
      "(rdflib.term.URIRef('http://localhost/germany'), rdflib.term.URIRef('http://localhost/has_border_with'))\n",
      "\n"
     ]
    }
   ],
   "source": [
    "# Sparql查询语句\n",
    "q = \"select ?country ?relation where{?country  ?relation <http://localhost/france>}\"\n",
    "r1 = g.query(q)\n",
    "print(r1)\n",
    "print()\n",
    "r1 = list(r1)\n",
    "for i in r1:\n",
    "    print(i)\n",
    "    print()"
   ]
  },
  {
   "cell_type": "markdown",
   "metadata": {},
   "source": [
    "### 查询<a,b,?>类型的RDF三元组数据"
   ]
  },
  {
   "cell_type": "code",
   "execution_count": 6,
   "metadata": {
    "ExecuteTime": {
     "end_time": "2019-04-24T04:15:40.815180Z",
     "start_time": "2019-04-24T04:15:40.802215Z"
    }
   },
   "outputs": [
    {
     "name": "stdout",
     "output_type": "stream",
     "text": [
      "<rdflib.plugins.sparql.processor.SPARQLResult object at 0x0000022FFF0ADAC8>\n",
      "\n",
      "(rdflib.term.URIRef('http://localhost/europa'),)\n",
      "\n"
     ]
    }
   ],
   "source": [
    "# Sparql查询语句\n",
    "q = \"select ?country  where{<http://localhost/germany> <http://localhost/located_in> ?country}\"\n",
    "r1 = g.query(q)\n",
    "print(r1)\n",
    "print()\n",
    "r1 = list(r1)\n",
    "for i in r1:\n",
    "    print(i)\n",
    "    print()"
   ]
  },
  {
   "cell_type": "markdown",
   "metadata": {},
   "source": [
    "### 查询<a,?,b>类型的RDF三元组数据"
   ]
  },
  {
   "cell_type": "code",
   "execution_count": 7,
   "metadata": {
    "ExecuteTime": {
     "end_time": "2019-04-24T04:15:40.829143Z",
     "start_time": "2019-04-24T04:15:40.817176Z"
    }
   },
   "outputs": [
    {
     "name": "stdout",
     "output_type": "stream",
     "text": [
      "<rdflib.plugins.sparql.processor.SPARQLResult object at 0x0000022FFF08DFD0>\n",
      "\n",
      "(rdflib.term.URIRef('http://localhost/has_border_with'),)\n",
      "\n"
     ]
    }
   ],
   "source": [
    "# Sparql查询语句\n",
    "q = \"select ?relation where{<http://localhost/germany>  ?relation <http://localhost/france>}\"\n",
    "r1 = g.query(q)\n",
    "print(r1)\n",
    "print()\n",
    "r1 = list(r1)\n",
    "for i in r1:\n",
    "    print(i)\n",
    "    print()"
   ]
  },
  {
   "cell_type": "markdown",
   "metadata": {},
   "source": [
    "### 查询<?,a,b>类型的RDF三元组数据"
   ]
  },
  {
   "cell_type": "code",
   "execution_count": 8,
   "metadata": {
    "ExecuteTime": {
     "end_time": "2019-04-24T04:15:40.839116Z",
     "start_time": "2019-04-24T04:15:40.831143Z"
    }
   },
   "outputs": [
    {
     "name": "stdout",
     "output_type": "stream",
     "text": [
      "<rdflib.plugins.sparql.processor.SPARQLResult object at 0x0000022FFF852438>\n",
      "\n",
      "(rdflib.term.URIRef('http://localhost/france'),)\n",
      "\n",
      "(rdflib.term.URIRef('http://localhost/germany'),)\n",
      "\n"
     ]
    }
   ],
   "source": [
    "# Sparql查询语句\n",
    "q = \"select ?country where{?country  <http://localhost/located_in> <http://localhost/europa>}\"\n",
    "r1 = g.query(q)\n",
    "print(r1)\n",
    "print()\n",
    "r1 = list(r1)\n",
    "for i in r1:\n",
    "    print(i)\n",
    "    print()"
   ]
  },
  {
   "cell_type": "markdown",
   "metadata": {},
   "source": [
    "### 如何判断查询结果是否为空"
   ]
  },
  {
   "cell_type": "code",
   "execution_count": 9,
   "metadata": {
    "ExecuteTime": {
     "end_time": "2019-04-24T04:15:40.849111Z",
     "start_time": "2019-04-24T04:15:40.841110Z"
    }
   },
   "outputs": [
    {
     "name": "stdout",
     "output_type": "stream",
     "text": [
      "<rdflib.plugins.sparql.processor.SPARQLResult object at 0x0000022FFF7F8C50>\n",
      "\n"
     ]
    }
   ],
   "source": [
    "# Sparql查询语句\n",
    "q = \"select ?relation where{<http://localhost/germany>  ?relation <http://localhost/china>}\"\n",
    "r1 = g.query(q)\n",
    "print(r1)\n",
    "print()\n",
    "r1 = list(r1)\n",
    "for i in r1:\n",
    "    print(i)\n",
    "    print()"
   ]
  },
  {
   "cell_type": "markdown",
   "metadata": {},
   "source": [
    "显然，在我们定义的RDF中，德国 和 中国并有联系，而查询结果也表明了结果为空，但是我们如何用程序来判定呢？"
   ]
  },
  {
   "cell_type": "code",
   "execution_count": 10,
   "metadata": {
    "ExecuteTime": {
     "end_time": "2019-04-24T04:15:40.866044Z",
     "start_time": "2019-04-24T04:15:40.851086Z"
    }
   },
   "outputs": [
    {
     "name": "stdout",
     "output_type": "stream",
     "text": [
      "r1.vars:  [rdflib.term.Variable('relation')]\n",
      "\n",
      "r1.bindings:  []\n",
      "\n",
      "r1.graph:  None\n"
     ]
    }
   ],
   "source": [
    "# 我们来输出几个关于查询结果的信息\n",
    "# Sparql查询语句\n",
    "q = \"select ?relation where{<http://localhost/germany>  ?relation <http://localhost/china>}\"\n",
    "r1 = g.query(q)\n",
    "print('r1.vars: ',r1.vars)\n",
    "print()\n",
    "print('r1.bindings: ',r1.bindings)\n",
    "print()\n",
    "print('r1.graph: ',r1.graph)"
   ]
  },
  {
   "cell_type": "markdown",
   "metadata": {},
   "source": [
    "`r1.vars`：是我们待查询的变量，`r1.graph`：是查询结果构成的图，`r1.bindings`: 是查询结果组成的列表，因此我们可以**通过判断`r1.bindings`是否为空列表，来判断查询内容是否为空**"
   ]
  },
  {
   "cell_type": "code",
   "execution_count": 11,
   "metadata": {
    "ExecuteTime": {
     "end_time": "2019-04-24T04:15:40.877015Z",
     "start_time": "2019-04-24T04:15:40.868039Z"
    }
   },
   "outputs": [
    {
     "name": "stdout",
     "output_type": "stream",
     "text": [
      "查询结果为空\n"
     ]
    }
   ],
   "source": [
    "if r1.bindings == [] :\n",
    "    print('查询结果为空')"
   ]
  }
 ],
 "metadata": {
  "kernelspec": {
   "display_name": "Python 3",
   "language": "python",
   "name": "python3"
  },
  "language_info": {
   "codemirror_mode": {
    "name": "ipython",
    "version": 3
   },
   "file_extension": ".py",
   "mimetype": "text/x-python",
   "name": "python",
   "nbconvert_exporter": "python",
   "pygments_lexer": "ipython3",
   "version": "3.7.0"
  },
  "toc": {
   "base_numbering": 1,
   "nav_menu": {},
   "number_sections": true,
   "sideBar": true,
   "skip_h1_title": false,
   "title_cell": "Table of Contents",
   "title_sidebar": "Contents",
   "toc_cell": false,
   "toc_position": {},
   "toc_section_display": true,
   "toc_window_display": false
  },
  "varInspector": {
   "cols": {
    "lenName": 16,
    "lenType": 16,
    "lenVar": 40
   },
   "kernels_config": {
    "python": {
     "delete_cmd_postfix": "",
     "delete_cmd_prefix": "del ",
     "library": "var_list.py",
     "varRefreshCmd": "print(var_dic_list())"
    },
    "r": {
     "delete_cmd_postfix": ") ",
     "delete_cmd_prefix": "rm(",
     "library": "var_list.r",
     "varRefreshCmd": "cat(var_dic_list()) "
    }
   },
   "types_to_exclude": [
    "module",
    "function",
    "builtin_function_or_method",
    "instance",
    "_Feature"
   ],
   "window_display": false
  }
 },
 "nbformat": 4,
 "nbformat_minor": 2
}
