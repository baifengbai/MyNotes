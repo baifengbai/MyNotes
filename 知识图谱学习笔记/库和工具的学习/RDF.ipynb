{
 "cells": [
  {
   "cell_type": "markdown",
   "metadata": {},
   "source": [
    "本文学习于[W3C RDF](http://phpstudy.php.cn/e/rdf/index.html)"
   ]
  },
  {
   "cell_type": "markdown",
   "metadata": {},
   "source": [
    "# 简介"
   ]
  },
  {
   "cell_type": "markdown",
   "metadata": {},
   "source": [
    "**资源描述框架(RDF)是用于描述网络资源的W3C标准**，比如网页的标题、作者、修改日期、内容以及版权信息。"
   ]
  },
  {
   "cell_type": "markdown",
   "metadata": {},
   "source": [
    "## RDF文档实例"
   ]
  },
  {
   "cell_type": "markdown",
   "metadata": {},
   "source": [
    "```Python\n",
    "<?xml version=\"1.0\"?>\n",
    "\n",
    "<rdf:RDF\n",
    " xmlns:rdf=\"http://www.w3.org/1999/02/22-rdf-syntax-ns#\"\n",
    " xmlns:si=\"http://www.runoob.com/rdf/\">\n",
    "    \n",
    "<rdf:Description rdf:about=\"http://www.runoob.com\">\n",
    "   <si:title>RUNOOB</si:title>\n",
    "   <si:author>Jan Egil Refsnes</si:author>        \n",
    "</rdf:Description>\n",
    "    \n",
    "</rdf:RDF>\n",
    "```"
   ]
  },
  {
   "cell_type": "markdown",
   "metadata": {},
   "source": [
    "## 应当具备的基础知识"
   ]
  },
  {
   "cell_type": "markdown",
   "metadata": {},
   "source": [
    "1. HTML\n",
    "2. XHTML\n",
    "3. XML\n",
    "4. XML命名空间"
   ]
  },
  {
   "cell_type": "markdown",
   "metadata": {},
   "source": [
    "## 什么是RDF？"
   ]
  },
  {
   "cell_type": "markdown",
   "metadata": {},
   "source": [
    "1. RDF 指资源描述框架（Resource Description Framework）\n",
    "2. RDF 是一个用于描述 Web 上的资源的框架\n",
    "3. RDF 提供了针对数据的模型以及语法，这样独立的团体们就可以交换和使用它\n",
    "4. RDF 被设计为可被计算机阅读和理解\n",
    "5. RDF 被设计的目的不是为了向人们显示出来\n",
    "6. RDF 使用 XML 编写\n",
    "7. RDF 是 W3C 语义网络活动的组成部分\n",
    "8. RDF 是一个 W3C 推荐标准"
   ]
  },
  {
   "cell_type": "markdown",
   "metadata": {},
   "source": [
    "## RDF应用举例"
   ]
  },
  {
   "cell_type": "markdown",
   "metadata": {},
   "source": [
    "1. 描述购物项目的属性，比如价格以及可用性\n",
    "2. 描述 Web 事件的时间表\n",
    "3. 描述有关网页的信息，比如内容、作者以及被创建和修改的日期\n",
    "4. 描述网络图片的内容和等级\n",
    "5. 描述针对搜索引擎的内容\n",
    "6. 描述电子图书馆"
   ]
  },
  {
   "cell_type": "markdown",
   "metadata": {},
   "source": [
    "## RDF被设计为可被计算机读取"
   ]
  },
  {
   "cell_type": "markdown",
   "metadata": {},
   "source": [
    "RDF 被设计为提供一种描述信息的通用方法，这样就可以被计算机应用程序读取并理解。RDF 描述不是被设计用来在网络上显示的。"
   ]
  },
  {
   "cell_type": "markdown",
   "metadata": {},
   "source": [
    "## RDF使用XML编写"
   ]
  },
  {
   "cell_type": "markdown",
   "metadata": {},
   "source": [
    "**RDF 文档使用 XML 编写。被 RDF 使用的 XML 语言被称为 RDF/XML**。通过使用 XML，RDF 信息可以轻易地在使用不同类型的操作系统和应用语言的计算机之间进行交换。"
   ]
  },
  {
   "cell_type": "markdown",
   "metadata": {},
   "source": [
    "## RDF和语义网"
   ]
  },
  {
   "cell_type": "markdown",
   "metadata": {},
   "source": [
    "RDF 语言是 W3C 的语义网活动的组成部分。W3C 的\"语义网远景 (Semantic Web Vision)\"的目标是：\n",
    "1. Web 信息拥有确切的含义\n",
    "2. Web 信息可被计算机理解并处理\n",
    "3. 计算机可从 Web 上整合信息"
   ]
  },
  {
   "cell_type": "markdown",
   "metadata": {},
   "source": [
    "## RDF是W3C标准"
   ]
  },
  {
   "cell_type": "markdown",
   "metadata": {},
   "source": [
    "RDF 在 2004 年 2 月成为 W3C 标准。W3C 推荐（标准）被业界以及 web 团体奉为 web 标准。W3C推荐标准 是由 W3C 工作组开发并经 W3C 成员评审的稳定规范。可以通过[此链接](http://www.w3.org/RDF/)找到官方的 W3C 推荐标准。"
   ]
  },
  {
   "cell_type": "markdown",
   "metadata": {},
   "source": [
    "# RDF规则"
   ]
  },
  {
   "cell_type": "markdown",
   "metadata": {},
   "source": [
    "**RDF 使用 Web 标识符 (URIs) 来标识资源。 RDF 使用属性和属性值来描述资源。**"
   ]
  },
  {
   "cell_type": "markdown",
   "metadata": {},
   "source": [
    "## RDF资源、属性和属性值 的解释"
   ]
  },
  {
   "cell_type": "markdown",
   "metadata": {},
   "source": [
    "RDF 使用 Web 标识符来标识事物，并通过属性和属性值来描述资源。对资源、属性和属性值的解释：\n",
    "1. 资源是可拥有 URI 的任何事物，比如 \"http://www.runoob.com/rdf\"\n",
    "2. 属性是拥有名称的资源，比如 \"author\" 或 \"homepage\"\n",
    "3. 属性值是某个属性的值，比如 \"David\" 或 \"http://www.runoob.com\" （请注意一个属性值可以是另外一个资源）\n",
    "\n",
    "下面的 RDF 文档可描述资源 \"http://www.runoob.com/rdf\"：\n",
    "```Python\n",
    "<?xml version=\"1.0\"?>\n",
    "\n",
    "<RDF>\n",
    "  <Description about=\"http://www.runoob.com/rdf\">\n",
    "    <author>Jan Egil Refsnes</author>\n",
    "    <homepage>http://www.runoob.com</homepage>\n",
    "  </Description>\n",
    "</RDF> \n",
    "```\n",
    "\n",
    "上面是一个简化的例子。命名空间被忽略了。"
   ]
  },
  {
   "cell_type": "markdown",
   "metadata": {},
   "source": [
    "## RDF陈述"
   ]
  },
  {
   "cell_type": "markdown",
   "metadata": {},
   "source": [
    "**资源、属性和属性值的组合可形成一个陈述（被称为陈述的主体、谓语和客体）**。\n",
    "\n",
    "请看一些陈述的具体例子，来加深理解：\n",
    "1. 陈述：\"The author of http://www.runoob.com/rdf is David.\"\n",
    "    1. 陈述的主体是：http://www.runoob.com/rdf\n",
    "    2. 谓语是：author\n",
    "    3. 客体是：David\n",
    "\n",
    "2. 陈述：\"The homepage of http://www.runoob.com/rdf is http://www.runoob.com\".\n",
    "    1. 陈述的主体是：http://www.runoob.com/rdf\n",
    "    2. 谓语是：homepage\n",
    "    3. 客体是：http://www.runoob.com"
   ]
  },
  {
   "cell_type": "markdown",
   "metadata": {},
   "source": [
    "# RDF实例"
   ]
  },
  {
   "cell_type": "markdown",
   "metadata": {},
   "source": [
    "## RDF实例"
   ]
  },
  {
   "cell_type": "markdown",
   "metadata": {},
   "source": [
    "这是一个 CD 列表的其中几行:\n",
    "\n",
    "|标题|艺术家|国家|公司|价格|年份|\n",
    "|:--:|:--:|:--:|:--:|:--:|:--:|\n",
    "|Empire Burlesque|Bob Dylan|USA|Columbia|10.90|1985|\n",
    "|Hide your heart|Bonnie Tyler|UK|CBS Records|9.90|1988|\n",
    "\n",
    "这是一个 RDF 文档的其中几行：\n",
    "\n",
    "```Python\n",
    "<?xml version=\"1.0\"?>\n",
    "\n",
    "<rdf:RDF\n",
    "xmlns:rdf=\"http://www.w3.org/1999/02/22-rdf-syntax-ns#\"\n",
    "xmlns:cd=\"http://www.recshop.fake/cd#\">\n",
    "\n",
    "<rdf:Description\n",
    "rdf:about=\"http://www.recshop.fake/cd/Empire Burlesque\">\n",
    "  <cd:artist>Bob Dylan</cd:artist>\n",
    "  <cd:country>USA</cd:country>\n",
    "  <cd:company>Columbia</cd:company>\n",
    "  <cd:price>10.90</cd:price>\n",
    "  <cd:year>1985</cd:year>\n",
    "</rdf:Description>\n",
    "\n",
    "<rdf:Description\n",
    "rdf:about=\"http://www.recshop.fake/cd/Hide your heart\">\n",
    "  <cd:artist>Bonnie Tyler</cd:artist>\n",
    "  <cd:country>UK</cd:country>\n",
    "  <cd:company>CBS Records</cd:company>\n",
    "  <cd:price>9.90</cd:price>\n",
    "  <cd:year>1988</cd:year>\n",
    "</rdf:Description>\n",
    "\n",
    "</rdf:RDF> \n",
    "```\n",
    "\n",
    "具体解释：\n",
    "\n",
    "1. 此 RDF 文档的第一行是 `XML 声明`\n",
    "2. 这个 XML 声明之后是 `RDF 文档的根元素：<rdf:RDF>`\n",
    "2. `xmlns:rdf 命名空间`，规定了带有 `前缀 rdf `的元素来自命名空间 \"http://www.w3.org/1999/02/22-rdf-syntax-ns#\"\n",
    "3. `xmlns:cd 命名空间`，规定了带有 `前缀 cd ` 的元素来自命名空间 \"http://www.recshop.fake/cd#\"\n",
    "4. `<rdf:Description> 元素 `包含了对被 ` rdf:about 属性` 标识的资源 `的描述`\n",
    "5. 元素：`<cd:artist>`、`<cd:country>`、`<cd:company>` 等是此资源的 `属性`"
   ]
  },
  {
   "cell_type": "markdown",
   "metadata": {},
   "source": [
    "## RDF 文件在线验证器"
   ]
  },
  {
   "cell_type": "markdown",
   "metadata": {},
   "source": [
    "W3C 的 [RDF 验证服务](http://www.w3.org/RDF/Validator/)在您学习 RDF 时是很有帮助的。在此您可对 RDF 文件进行试验。RDF 在线验证器可解析您的 RDF 文档，检查其中的语法，并为您的 RDF 文档生成表格和图形视图。\n",
    "\n",
    "**下面是该网站的截图**：\n",
    "\n",
    "![](./image/validation_service.png)\n",
    "\n",
    "**下面是我们输入上述RDF文档内容的结果**：\n",
    "\n",
    "![](./image/RDF_result1.png)\n",
    "\n",
    "![](./image/RDF_result2.png)\n",
    "\n",
    "![](./image/RDF_result3.png)"
   ]
  },
  {
   "cell_type": "markdown",
   "metadata": {},
   "source": [
    "# RDF主要元素"
   ]
  },
  {
   "cell_type": "markdown",
   "metadata": {},
   "source": [
    "RDF 的主要元素有两个：\n",
    "1. `<RDF>`：RDF文档的根元素，写法为`<rdf:RDF></rdf:RDF>`\n",
    "2. 可表示某个资源的`<Description>`元素,写法为`<rdf:Description></rdf:Description>`"
   ]
  },
  {
   "cell_type": "markdown",
   "metadata": {},
   "source": [
    "## `<rdf:RDF>`元素"
   ]
  },
  {
   "cell_type": "markdown",
   "metadata": {},
   "source": [
    "`<rdf:RDF>` 是`RDF 文档的根元素`。它把 `XML 文档` 定义为一个 `RDF 文档`。它也包含了对` RDF 命名空间` 的引用,如:\n",
    "\n",
    "```Python\n",
    "<?xml version=\"1.0\"?>\n",
    "\n",
    "<rdf:RDF\n",
    "xmlns:rdf=\"http://www.w3.org/1999/02/22-rdf-syntax-ns#\">\n",
    "  ...Description goes here...\n",
    "</rdf:RDF> \n",
    "```\n",
    "\n",
    "其中，`xmlns:rdf`就表示命名空间，规定了带有 `前缀 rdf `的元素来自命名空间 \"http://www.w3.org/1999/02/22-rdf-syntax-ns#\""
   ]
  },
  {
   "cell_type": "markdown",
   "metadata": {},
   "source": [
    "## `<rdf:Description>`元素"
   ]
  },
  {
   "cell_type": "markdown",
   "metadata": {},
   "source": [
    "`<rdf:Description>` 元素可通过 `about` 属性标识一个资源。`<rdf:Description>` 元素可**包含描述资源的那些元素**：\n",
    "\n",
    "```Python\n",
    "<?xml version=\"1.0\"?>\n",
    "\n",
    "<rdf:RDF\n",
    "xmlns:rdf=\"http://www.w3.org/1999/02/22-rdf-syntax-ns#\"\n",
    "xmlns:cd=\"http://www.recshop.fake/cd#\">\n",
    "\n",
    "<rdf:Description\n",
    "rdf:about=\"http://www.recshop.fake/cd/Empire Burlesque\">\n",
    "  <cd:artist>Bob Dylan</cd:artist>\n",
    "  <cd:country>USA</cd:country>\n",
    "  <cd:company>Columbia</cd:company>\n",
    "  <cd:price>10.90</cd:price>\n",
    "  <cd:year>1985</cd:year>\n",
    "</rdf:Description>\n",
    "\n",
    "</rdf:RDF> \n",
    "```\n",
    "\n",
    "`artist`、`country`、`company`、`price` 以及` year` 这些元素被定义在**命名空间** `http://www.recshop.fake/cd#` 中。此命名空间在` RDF` 之外（并非 `RDF `的组成部分）。\n",
    "\n",
    "`RDF` 仅仅定义了这个框架。而` artist`、`country`、`company`、`price` 以及 `year` 这些元素必须被其他人（公司、组织或个人等）进行定义。"
   ]
  },
  {
   "cell_type": "markdown",
   "metadata": {},
   "source": [
    "## 属性元素（property）来定义属性（attribute）"
   ]
  },
  {
   "cell_type": "markdown",
   "metadata": {},
   "source": [
    "`属性元素`（property elements）也可作为`属性`（attributes）来被定义（取代元素）：\n",
    "\n",
    "```Python\n",
    "<?xml version=\"1.0\"?>\n",
    "\n",
    "<rdf:RDF\n",
    "xmlns:rdf=\"http://www.w3.org/1999/02/22-rdf-syntax-ns#\"\n",
    "xmlns:cd=\"http://www.recshop.fake/cd#\">\n",
    "\n",
    "<rdf:Description\n",
    "rdf:about=\"http://www.recshop.fake/cd/Empire Burlesque\"\n",
    "cd:artist=\"Bob Dylan\" cd:country=\"USA\" # 作为属性而非元素\n",
    "cd:company=\"Columbia\" cd:price=\"10.90\" # 作为属性而非元素\n",
    "cd:year=\"1985\" />               # 作为属性而非元素\n",
    "\n",
    "</rdf:RDF> \n",
    "```"
   ]
  },
  {
   "cell_type": "markdown",
   "metadata": {},
   "source": [
    "```Python\n",
    "<?xml version=\"1.0\"?>\n",
    "\n",
    "<rdf:RDF\n",
    "xmlns:rdf=\"http://www.w3.org/1999/02/22-rdf-syntax-ns#\"\n",
    "xmlns:cd=\"http://www.recshop.fake/cd#\">\n",
    "\n",
    "<rdf:Description\n",
    "rdf:about=\"http://www.recshop.fake/cd/Empire Burlesque\">\n",
    "  <cd:artist rdf:resource=\"http://www.recshop.fake/cd/dylan\" /> # 这个例子中，属性 artist 没有值，但是却引用了一个对包含有关艺术家的信息的资源。\n",
    "  ...\n",
    "  ...\n",
    "</rdf:Description>\n",
    "\n",
    "</rdf:RDF>\n",
    "```"
   ]
  },
  {
   "cell_type": "markdown",
   "metadata": {},
   "source": [
    "# RDF容器"
   ]
  },
  {
   "cell_type": "markdown",
   "metadata": {},
   "source": [
    "**`RDF 容器` 用于描述一组事物**。举个例子，把某本书的作者列在一起。下面的 RDF 元素用于描述这些的组：`<Bag>`、`<Seq> `以及` <Alt>`。"
   ]
  },
  {
   "cell_type": "markdown",
   "metadata": {},
   "source": [
    "## `<rdf:Bag>`: 无序列表"
   ]
  },
  {
   "cell_type": "markdown",
   "metadata": {},
   "source": [
    "`<rdf:Bag>` 元素用于描述一个规定为**无序的值的列表**。`<rdf:Bag> `元素**可包含重复的值**。例如：\n",
    "\n",
    "```Python\n",
    "<?xml version=\"1.0\"?>\n",
    "\n",
    "<rdf:RDF\n",
    "xmlns:rdf=\"http://www.w3.org/1999/02/22-rdf-syntax-ns#\"\n",
    "xmlns:cd=\"http://www.recshop.fake/cd#\">\n",
    "\n",
    "<rdf:Description\n",
    "rdf:about=\"http://www.recshop.fake/cd/Beatles\">\n",
    "  <cd:artist>\n",
    "    <rdf:Bag>               # 无序值列表\n",
    "      <rdf:li>John</rdf:li>\n",
    "      <rdf:li>Paul</rdf:li>\n",
    "      <rdf:li>George</rdf:li>\n",
    "      <rdf:li>Ringo</rdf:li>\n",
    "    </rdf:Bag>              #无序值列表\n",
    "  </cd:artist>\n",
    "</rdf:Description>\n",
    "\n",
    "</rdf:RDF>\n",
    "```"
   ]
  },
  {
   "cell_type": "markdown",
   "metadata": {},
   "source": [
    "## `<rdf:Seq>`: 有序列表"
   ]
  },
  {
   "cell_type": "markdown",
   "metadata": {},
   "source": [
    "`<rdf:Seq>` 元素用于描述一个规定为**有序的值的列表**（比如一个字母顺序的排序）。注意，`<rdf:Bag>` 元素**却可包含重复的值**。\n",
    "\n",
    "```Python\n",
    "<?xml version=\"1.0\"?>\n",
    "\n",
    "<rdf:RDF\n",
    "xmlns:rdf=\"http://www.w3.org/1999/02/22-rdf-syntax-ns#\"\n",
    "xmlns:cd=\"http://www.recshop.fake/cd#\">\n",
    "\n",
    "<rdf:Description\n",
    "rdf:about=\"http://www.recshop.fake/cd/Beatles\">\n",
    "  <cd:artist>\n",
    "    <rdf:Seq>             # 有序列表\n",
    "      <rdf:li>George</rdf:li>\n",
    "      <rdf:li>John</rdf:li>\n",
    "      <rdf:li>Paul</rdf:li>\n",
    "      <rdf:li>Ringo</rdf:li>\n",
    "    </rdf:Seq>\n",
    "  </cd:artist>\n",
    "</rdf:Description>\n",
    "\n",
    "</rdf:RDF> \n",
    "```"
   ]
  },
  {
   "cell_type": "markdown",
   "metadata": {},
   "source": [
    "## `<rdf:Alt>`: 可选值列表"
   ]
  },
  {
   "cell_type": "markdown",
   "metadata": {},
   "source": [
    "`<rdf:Alt>` 元素用于一个**可替换的值的列表**（用户仅可选择这些值的其中之一）。例如：\n",
    "\n",
    "```Python\n",
    "<?xml version=\"1.0\"?>\n",
    "\n",
    "<rdf:RDF\n",
    "xmlns:rdf=\"http://www.w3.org/1999/02/22-rdf-syntax-ns#\"\n",
    "xmlns:cd=\"http://www.recshop.fake/cd#\">\n",
    "\n",
    "<rdf:Descriptio\n",
    "rdf:about=\"http://www.recshop.fake/cd/Beatles\">\n",
    "  <cd:format>\n",
    "    <rdf:Alt>\n",
    "      <rdf:li>CD</rdf:li>\n",
    "      <rdf:li>Record</rdf:li>\n",
    "      <rdf:li>Tape</rdf:li>\n",
    "    </rdf:Alt>\n",
    "  </cd:format>\n",
    "</rdf:Descriptio>\n",
    "\n",
    "</rdf:RDF> \n",
    "\n",
    "```"
   ]
  },
  {
   "cell_type": "markdown",
   "metadata": {},
   "source": [
    "## RDF术语"
   ]
  },
  {
   "cell_type": "markdown",
   "metadata": {},
   "source": [
    "在上面的例子中，我们在描述容器元素时已经讨论了\"值的列表\"。在 RDF 中，**这些\"值的列表\"被称为成员（members）**。因此，我们可以这么说：\n",
    "1. 一个容器是一个包含事物的 资源\n",
    "2. 被包含的事物被称为成员（不能称为\"值的列表\"）。"
   ]
  },
  {
   "cell_type": "markdown",
   "metadata": {},
   "source": [
    "# RDF集合"
   ]
  },
  {
   "cell_type": "markdown",
   "metadata": {},
   "source": [
    "**RDF 集合** 用于**描述仅包含指定成员的组**。"
   ]
  },
  {
   "cell_type": "markdown",
   "metadata": {},
   "source": [
    "## `<rdf:parseType=\"Collection\">`属性"
   ]
  },
  {
   "cell_type": "markdown",
   "metadata": {},
   "source": [
    "正如在前面的章节所看到的，我们无法关闭一个容器。**容器规定了所包含的资源为成员 - 它没有规定其他的成员是不被允许的**。RDF 集合用于描述仅包含指定成员的组。**集合是通过属性 rdf:parseType=\"Collection\" 来描述的**。\n",
    "\n",
    "```Python\n",
    "<?xml version=\"1.0\"?>\n",
    "\n",
    "<rdf:RDF\n",
    "xmlns:rdf=\"http://www.w3.org/1999/02/22-rdf-syntax-ns#\"\n",
    "xmlns:cd=\"http://recshop.fake/cd#\">\n",
    "\n",
    "<rdf:Description\n",
    "rdf:about=\"http://recshop.fake/cd/Beatles\">\n",
    "  <cd:artist rdf:parseType=\"Collection\">\n",
    "    <rdf:Description rdf:about=\"http://recshop.fake/cd/Beatles/George\"/>\n",
    "    <rdf:Description rdf:about=\"http://recshop.fake/cd/Beatles/John\"/>\n",
    "    <rdf:Description rdf:about=\"http://recshop.fake/cd/Beatles/Paul\"/>\n",
    "    <rdf:Description rdf:about=\"http://recshop.fake/cd/Beatles/Ringo\"/>\n",
    "  </cd:artist>\n",
    "</rdf:Description>\n",
    "\n",
    "</rdf:RDF> \n",
    "```"
   ]
  },
  {
   "cell_type": "markdown",
   "metadata": {},
   "source": [
    "# RDF Schema: RDFS"
   ]
  },
  {
   "cell_type": "markdown",
   "metadata": {},
   "source": [
    "RDF Schema(RDFS)是对RDF的一种扩展。"
   ]
  },
  {
   "cell_type": "markdown",
   "metadata": {},
   "source": [
    "## RDF Schema 和 应用程序的类"
   ]
  },
  {
   "cell_type": "markdown",
   "metadata": {},
   "source": [
    "**RDF 通过类、属性和值来描述资源**。此外，**RDF 还需要一种定义应用程序专业的类和属性的方法**。应用程序专用的类和属性必须使用对 RDF 的扩展来定义。`RDF Schema `就是这样一种扩展。"
   ]
  },
  {
   "cell_type": "markdown",
   "metadata": {},
   "source": [
    "## RDF Schema（RDFS）"
   ]
  },
  {
   "cell_type": "markdown",
   "metadata": {},
   "source": [
    "`RDF Schema `不提供实际的应用程序专用的类和属性，而是提供了描述应用程序专用的类和属性的框架。`RDF Schema` 中的类与面向对象编程语言中的类非常相似。这就使得资源能够作为类的实例和类的子类来被定义。"
   ]
  },
  {
   "cell_type": "markdown",
   "metadata": {},
   "source": [
    "## RDFS实例"
   ]
  },
  {
   "cell_type": "markdown",
   "metadata": {},
   "source": [
    "下面的实例演示了` RDFS` 的能力的某些方面：\n",
    "\n",
    "```Python\n",
    "<?xml version=\"1.0\"?>\n",
    "\n",
    "<rdf:RDF \n",
    "xmlns:rdf=\"http://www.w3.org/1999/02/22-rdf-syntax-ns#\" # 命名空间rdf\n",
    "xmlns:rdfs=\"http://www.w3.org/2000/01/rdf-schema#\"    # 命名空间rdfs\n",
    "xmlns:base=\"http://www.animals.fake/animals#\">       # 命名空间base\n",
    "\n",
    "<rdf:Description rdf:ID=\"animal\"> # 资源1\n",
    "   <rdf:type rdf:resource=\"http://www.w3.org/2000/01/rdf-schema#Class\"/>     \n",
    "</rdf:Description>\n",
    "    \n",
    "<rdf:Description rdf:ID=\"horse\">\n",
    "    <rdf:type rdf:resource=\"http://www.w3.org/2000/01/rdf-schema#Class\"/>\n",
    "    <rdfs:subClassOf rdf:resource=\"#animal\"/>\n",
    "</rdf:Description>\n",
    "    \n",
    "</rdf:RDF>\n",
    "```\n",
    "\n",
    "在上面的例子中，资源 \"horse\" 是类 \"animal\" 的子类。"
   ]
  },
  {
   "cell_type": "markdown",
   "metadata": {},
   "source": [
    "## 简写的例子"
   ]
  },
  {
   "cell_type": "markdown",
   "metadata": {},
   "source": [
    "由于一个 RDFS 类就是一个 RDF 资源，我们可以通过使用 rdfs:Class 取代 rdf:Description，并去掉 rdf:type 信息，来把上面的例子简写一下：\n",
    "\n",
    "```Python\n",
    "<?xml version=\"1.0\"?>\n",
    "\n",
    "<rdf:RDF\n",
    "xmlns:rdf=\"http://www.w3.org/1999/02/22-rdf-syntax-ns#\"\n",
    "xmlns:rdfs=\"http://www.w3.org/2000/01/rdf-schema#\"\n",
    "xml:base=\"http://www.animals.fake/animals#\">\n",
    "\n",
    "<rdfs:Class rdf:ID=\"animal\" />\n",
    "\n",
    "<rdfs:Class rdf:ID=\"horse\">\n",
    "  <rdfs:subClassOf rdf:resource=\"#animal\"/>\n",
    "</rdfs:Class>\n",
    "\n",
    "</rdf:RDF> \n",
    "```"
   ]
  },
  {
   "cell_type": "markdown",
   "metadata": {},
   "source": [
    "# RDF 都柏林核心元素数据倡议"
   ]
  },
  {
   "cell_type": "markdown",
   "metadata": {},
   "source": [
    "都柏林核心元数据倡议 (DCMI) 已创建了一些**供描述文档的预定义属性**。"
   ]
  },
  {
   "cell_type": "markdown",
   "metadata": {},
   "source": [
    "## Dublin核心"
   ]
  },
  {
   "cell_type": "markdown",
   "metadata": {},
   "source": [
    "RDF 是**元数据（关于数据的数据）**。RDF **被用于描述信息资源**。\n",
    "\n",
    "都柏林核心是一套供描述文档的预定义属性。\n",
    "\n",
    "第一份都柏林核心属性是于1995年 在俄亥俄州的都柏林的元数据工作组被定义的，目前由都柏林元数据倡议来维护。\n",
    "\n",
    "|属性|定义|\n",
    "|--|--|\n",
    "|Contributor|一个负责为资源内容作出贡献的实体(如作者)|\n",
    "|Coverage|资源内容的氛围或作用域|\n",
    "|Creator|一个主要负责创建资源内容的实体|\n",
    "|Format|物理或数字的资源表现形式|\n",
    "|Date|在资源生命周期中某事件的日期|\n",
    "|Description|对资源内容的说明|\n",
    "|Identifier|一个对在给定上下文中的资源的明确引用|\n",
    "|Language|资源智力内容所用的语言|\n",
    "|Publisher|一个负责使得资源内容可用的实体|\n",
    "|Relation|一个对某个相关资源的引用|\n",
    "|Rights|有关保留在资源之内和之上的权利的信息|\n",
    "|Source|一个对作为目前资源的来源的资源引用|\n",
    "|Subject|一个资源内容的主题|\n",
    "|Title|一个给资源起的名称|\n",
    "|Type|资源内容的种类或类型|\n",
    "\n",
    "通过浏览上面这个表格，我们可以发现 RDF 是非常适合表示都柏林核心信息的。"
   ]
  },
  {
   "cell_type": "markdown",
   "metadata": {},
   "source": [
    "## RDF实例"
   ]
  },
  {
   "cell_type": "markdown",
   "metadata": {},
   "source": [
    "下面的例子演示了都柏林核心属性在一个 RDF 文档中的使用：\n",
    "\n",
    "```Python\n",
    "<?xml version=\"1.0\"?>\n",
    "\n",
    "<rdf:RDF\n",
    "xmlns:rdf=\"http://www.w3.org/1999/02/22-rdf-syntax-ns#\"\n",
    "xmlns:dc= \"http://purl.org/dc/elements/1.1/\">\n",
    "\n",
    "<rdf:Description rdf:about=\"http://www.runoob.com\">\n",
    "  <dc:description>Run Noob - 奔跑吧！菜鸟</dc:description>\n",
    "  <dc:publisher>Refsnes Data as</dc:publisher>\n",
    "  <dc:date>2008-09-01</dc:date>\n",
    "  <dc:type>Web Development</dc:type>\n",
    "  <dc:format>text/html</dc:format>\n",
    "  <dc:language>en</dc:language>\n",
    "</rdf:Description>\n",
    "\n",
    "</rdf:RDF> \n",
    "```"
   ]
  },
  {
   "cell_type": "markdown",
   "metadata": {},
   "source": [
    "# OWL简介"
   ]
  },
  {
   "cell_type": "markdown",
   "metadata": {},
   "source": [
    "OWL 是一门供处理 web 信息的语言。"
   ]
  },
  {
   "cell_type": "markdown",
   "metadata": {},
   "source": [
    "## 应具备的基础知识"
   ]
  },
  {
   "cell_type": "markdown",
   "metadata": {},
   "source": [
    "在您学习 OWL 之前，应当对 XML、XML 命名空间以及 RDF 有基本的了解。"
   ]
  },
  {
   "cell_type": "markdown",
   "metadata": {},
   "source": [
    "## 什么是OWL？"
   ]
  },
  {
   "cell_type": "markdown",
   "metadata": {},
   "source": [
    "1. OWL 指的是 web 本体语言\n",
    "2. OWL 构建在 RDF 的顶端之上\n",
    "3. OWL 用于处理 web 上的信息\n",
    "4. OWL 被设计为供计算机进行解释\n",
    "5. OWL 不是被设计为供人类进行阅读的\n",
    "6. OWL 由 XML 来编写\n",
    "7. OWL 拥有三种子语言\n",
    "8. OWL 是一项 web 标准"
   ]
  },
  {
   "cell_type": "markdown",
   "metadata": {},
   "source": [
    "## 什么是本体？"
   ]
  },
  {
   "cell_type": "markdown",
   "metadata": {},
   "source": [
    "本体\"这个术语来自于哲学，它是研究世界上的各种实体以及他们是怎么关联的科学。**对于 web，本体则是关于对 web 信息及 web 信息之间的关系的精确描述**。"
   ]
  },
  {
   "cell_type": "markdown",
   "metadata": {},
   "source": [
    "## 为什么使用OWL？"
   ]
  },
  {
   "cell_type": "markdown",
   "metadata": {},
   "source": [
    "OWL 是\"语义网远景\"的组成部分 - 目标是：\n",
    "1. Web 信息拥有确切的含义 \n",
    "2. Web 信息可被计算机理解并处理 \n",
    "3. 计算机可从 Web 上整合信息"
   ]
  },
  {
   "cell_type": "markdown",
   "metadata": {},
   "source": [
    "## OWL被设计为供计算机来处理信息"
   ]
  },
  {
   "cell_type": "markdown",
   "metadata": {},
   "source": [
    "OWL 被设计为提供一种通用的处理 Web 信息的内容的方法（而不是把它显示出来）。\n",
    "\n",
    "OWL 被设计为由计算机应用程序来读取（而不是被人类）。"
   ]
  },
  {
   "cell_type": "markdown",
   "metadata": {},
   "source": [
    "## OWL与RDF不同"
   ]
  },
  {
   "cell_type": "markdown",
   "metadata": {},
   "source": [
    "OWL 与 RDF 有很多相似之处，但是**较之 RDF， OWL 是一门具有更强机器解释能力的更强大的语言**。与 RDF 相比，OWL 拥有更大的词汇表以及更强大的语言。"
   ]
  },
  {
   "cell_type": "markdown",
   "metadata": {},
   "source": [
    "## OWL子语言"
   ]
  },
  {
   "cell_type": "markdown",
   "metadata": {},
   "source": [
    "OWL 有三门子语言：\n",
    "1. OWL Lite\n",
    "2. OWL DL (包含 OWL Lite)\n",
    "3. OWL Full (包含 OWL DL)"
   ]
  },
  {
   "cell_type": "markdown",
   "metadata": {},
   "source": [
    "## OWL使用XML编写"
   ]
  },
  {
   "cell_type": "markdown",
   "metadata": {},
   "source": [
    "通过使用 XML，OWL 信息可在使用不同类型的操作系统和应用语言的不同类型的计算机之间进行交换。"
   ]
  },
  {
   "cell_type": "markdown",
   "metadata": {},
   "source": [
    "## OWL是一个Web标准"
   ]
  },
  {
   "cell_type": "markdown",
   "metadata": {},
   "source": [
    "OWL 于 2004 年 2 月成为一项 W3C 的推荐标准。W3C 推荐（标准）被业界以及 web 团体奉为 web 标准。W3C推荐标准 是由 W3C 工作组开发并经 W3C 成员评审的稳定规范。\n",
    "在 w3c 有关 OWL 的文档：http://www.w3.org/2004/OWL/"
   ]
  },
  {
   "cell_type": "markdown",
   "metadata": {},
   "source": [
    "# RDF参考手册"
   ]
  },
  {
   "cell_type": "markdown",
   "metadata": {},
   "source": [
    "## RDF命名空间"
   ]
  },
  {
   "cell_type": "markdown",
   "metadata": {},
   "source": [
    "RDF 命名空间(xmlns:rdf)::` http://www.w3.org/1999/02/22-rdf-syntax-ns#`\n",
    "\n",
    "RDF 命名空间(xmlns:rdfs )::` http://www.w3.org/2000/01/rdf-schema#`"
   ]
  },
  {
   "cell_type": "markdown",
   "metadata": {},
   "source": [
    "## RDF扩展名"
   ]
  },
  {
   "cell_type": "markdown",
   "metadata": {},
   "source": [
    "RDF 文件的推荐扩展名为`.rdf`,然而，扩展名`.XML`是经常被用来兼容旧的XML解析器。"
   ]
  },
  {
   "cell_type": "markdown",
   "metadata": {},
   "source": [
    "## RDFS/RDF 类"
   ]
  },
  {
   "cell_type": "markdown",
   "metadata": {},
   "source": [
    "![](./image/rdf_class.png)"
   ]
  },
  {
   "cell_type": "markdown",
   "metadata": {},
   "source": [
    "## RDFS/RDF 属性"
   ]
  },
  {
   "cell_type": "markdown",
   "metadata": {},
   "source": [
    "![](./image/rdf_property.png)"
   ]
  },
  {
   "cell_type": "markdown",
   "metadata": {},
   "source": [
    "## RDF属性"
   ]
  },
  {
   "cell_type": "markdown",
   "metadata": {},
   "source": [
    "![](./image/rdf_property2.png)"
   ]
  }
 ],
 "metadata": {
  "kernelspec": {
   "display_name": "Python 3",
   "language": "python",
   "name": "python3"
  },
  "language_info": {
   "codemirror_mode": {
    "name": "ipython",
    "version": 3
   },
   "file_extension": ".py",
   "mimetype": "text/x-python",
   "name": "python",
   "nbconvert_exporter": "python",
   "pygments_lexer": "ipython3",
   "version": "3.7.0"
  },
  "toc": {
   "base_numbering": 1,
   "nav_menu": {},
   "number_sections": true,
   "sideBar": true,
   "skip_h1_title": false,
   "title_cell": "Table of Contents",
   "title_sidebar": "Contents",
   "toc_cell": false,
   "toc_position": {},
   "toc_section_display": true,
   "toc_window_display": false
  },
  "varInspector": {
   "cols": {
    "lenName": 16,
    "lenType": 16,
    "lenVar": 40
   },
   "kernels_config": {
    "python": {
     "delete_cmd_postfix": "",
     "delete_cmd_prefix": "del ",
     "library": "var_list.py",
     "varRefreshCmd": "print(var_dic_list())"
    },
    "r": {
     "delete_cmd_postfix": ") ",
     "delete_cmd_prefix": "rm(",
     "library": "var_list.r",
     "varRefreshCmd": "cat(var_dic_list()) "
    }
   },
   "types_to_exclude": [
    "module",
    "function",
    "builtin_function_or_method",
    "instance",
    "_Feature"
   ],
   "window_display": false
  }
 },
 "nbformat": 4,
 "nbformat_minor": 2
}
