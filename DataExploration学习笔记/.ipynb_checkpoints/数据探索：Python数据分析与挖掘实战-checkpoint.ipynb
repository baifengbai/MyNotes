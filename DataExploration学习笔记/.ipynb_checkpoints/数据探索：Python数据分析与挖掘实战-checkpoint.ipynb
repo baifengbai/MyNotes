{
 "cells": [
  {
   "cell_type": "markdown",
   "metadata": {},
   "source": [
    "本部分内容学习于《Python数据分析与挖掘实战》第三章内容，作者：张良均等；编辑：Weiyang,Time:2019.1.23"
   ]
  },
  {
   "cell_type": "markdown",
   "metadata": {},
   "source": [
    "收集到数据集后，接下来要思考的问题便是:\n",
    "1. 样本数据集的数量和质量是否满足模型构建的要求？\n",
    "2. 是否出现从未设想过的数据状态？\n",
    "3. 其中有没有明显的规律和趋势？\n",
    "4. 各因素之间有什么样的关联性？\n",
    "\n",
    "**数据探索**便是，通过检验数据集的数据质量、绘制图表、计算某些特征量等手段，对样本数据集的结构和规律进行分析的过程。数据探索有助于选择合适的数据预处理和建模方法，甚至可以完成一些通常是由数据挖掘解决的问题。"
   ]
  },
  {
   "cell_type": "markdown",
   "metadata": {},
   "source": [
    "# 数据质量分析"
   ]
  },
  {
   "cell_type": "markdown",
   "metadata": {},
   "source": [
    "数据质量分析的主要任务是检查原始数据中是否存在**脏数据**，**脏数据**一般是指不符合要求，以及不能直接进行相应分析的数据。\n",
    "**脏数据**包括如下内容:\n",
    "1. 缺失值；\n",
    "2. 异常值；\n",
    "3. 不一致的值；\n",
    "4. 重复数据及含有特殊符号(#,￥,*)的数据；"
   ]
  },
  {
   "cell_type": "markdown",
   "metadata": {},
   "source": [
    "## 缺失值分析"
   ]
  },
  {
   "cell_type": "markdown",
   "metadata": {},
   "source": [
    "数据的缺失主要包括记录的缺失和记录中某个字段信息的缺失。某些情况下，存在缺失值并不意味着数据有错误，而是对于某些对象而言某些属性是不应该存在的。\n",
    "\n",
    "缺失值的处理:\n",
    "1. 删除存在缺失值的记录；\n",
    "2. 对可能值进行插补；\n",
    "3. 不处理；"
   ]
  },
  {
   "cell_type": "markdown",
   "metadata": {},
   "source": [
    "## 异常值分析"
   ]
  },
  {
   "cell_type": "markdown",
   "metadata": {},
   "source": [
    "异常值分析是检验数据是否有录入错误以及含有不合常理的数据。**异常值**是指样本中的个别值，其数值明显偏离其余的观测值。异常值也称为离群点，因此也称为离群点分析。"
   ]
  },
  {
   "cell_type": "markdown",
   "metadata": {},
   "source": [
    "### 描述性统计分析 检测异常值"
   ]
  },
  {
   "cell_type": "markdown",
   "metadata": {},
   "source": [
    "常用的统计量为**最大值**和**最小值**，可用来判断某个变量的取值是否超出了合理范围。"
   ]
  },
  {
   "cell_type": "markdown",
   "metadata": {},
   "source": [
    "### 3$\\sigma$ 原则 检测异常值"
   ]
  },
  {
   "cell_type": "markdown",
   "metadata": {},
   "source": [
    "如果数据服从正态分布，在3$\\sigma$原则下，异常值被定义为一组测定值中与平均值的偏差超过3倍标准差的值。\n",
    "\n",
    "在正态分布的假设下，距离平均值3$\\sigma$之外的值出现的概率为$P(|x-\\mu|>3\\sigma)\\leq 0.003$,属于极个别的小概率事件。\n",
    "\n",
    "如果数据不付出正态分布，也可以用远离平均值的多少倍标准差来描述。"
   ]
  },
  {
   "cell_type": "markdown",
   "metadata": {},
   "source": [
    "### 箱型图 检测异常值"
   ]
  },
  {
   "cell_type": "markdown",
   "metadata": {},
   "source": [
    "箱型图识别异常值的标准：\n",
    "\n",
    "异常值通常被定义为小于$Q_{L}-1.5IQR$或大于$Q_{U}+1.5IQR$的值。\n",
    "\n",
    "$Q_{L}$称为下四分位数，表示全部观察值中有四分之一的数据取值比它小；\n",
    "\n",
    "$Q_{U}$称为上四分位数，表示全部观察值中有四分之一的数据取值比它大；\n",
    "\n",
    "$IQR$称为四分位数间距，是上四分位数$Q_{U}$与下四分位数$Q_{L}$之差，其间包含了全部观察值的一半。\n",
    "***\n",
    "\n",
    "箱型图依据实际数据绘制，没有对数据作任何限制要求(如服从某种特定的分布形式)，它只是真实直观地表现数据分布的本来面貌；另一方面，箱型图判断异常值的标准以四分位数和四分位距为基础，四分位数具有一定的鲁棒性：多达25%的数据可以变得任意远而不会很大地扰动四分位数，所以异常值不能对这个标准施加影响。"
   ]
  },
  {
   "cell_type": "markdown",
   "metadata": {},
   "source": [
    "如下利用餐饮系统中的销量额数据作异常值分析，在Pandas库中，只需读入数据，再使用**describe（）**函数就可以查看数据的基本情况。"
   ]
  },
  {
   "cell_type": "code",
   "execution_count": 1,
   "metadata": {},
   "outputs": [
    {
     "data": {
      "text/html": [
       "<div>\n",
       "<style>\n",
       "    .dataframe thead tr:only-child th {\n",
       "        text-align: right;\n",
       "    }\n",
       "\n",
       "    .dataframe thead th {\n",
       "        text-align: left;\n",
       "    }\n",
       "\n",
       "    .dataframe tbody tr th {\n",
       "        vertical-align: top;\n",
       "    }\n",
       "</style>\n",
       "<table border=\"1\" class=\"dataframe\">\n",
       "  <thead>\n",
       "    <tr style=\"text-align: right;\">\n",
       "      <th></th>\n",
       "      <th>销量</th>\n",
       "    </tr>\n",
       "  </thead>\n",
       "  <tbody>\n",
       "    <tr>\n",
       "      <th>count</th>\n",
       "      <td>200.000000</td>\n",
       "    </tr>\n",
       "    <tr>\n",
       "      <th>mean</th>\n",
       "      <td>2755.214700</td>\n",
       "    </tr>\n",
       "    <tr>\n",
       "      <th>std</th>\n",
       "      <td>751.029772</td>\n",
       "    </tr>\n",
       "    <tr>\n",
       "      <th>min</th>\n",
       "      <td>22.000000</td>\n",
       "    </tr>\n",
       "    <tr>\n",
       "      <th>25%</th>\n",
       "      <td>2451.975000</td>\n",
       "    </tr>\n",
       "    <tr>\n",
       "      <th>50%</th>\n",
       "      <td>2655.850000</td>\n",
       "    </tr>\n",
       "    <tr>\n",
       "      <th>75%</th>\n",
       "      <td>3026.125000</td>\n",
       "    </tr>\n",
       "    <tr>\n",
       "      <th>max</th>\n",
       "      <td>9106.440000</td>\n",
       "    </tr>\n",
       "  </tbody>\n",
       "</table>\n",
       "</div>"
      ],
      "text/plain": [
       "                销量\n",
       "count   200.000000\n",
       "mean   2755.214700\n",
       "std     751.029772\n",
       "min      22.000000\n",
       "25%    2451.975000\n",
       "50%    2655.850000\n",
       "75%    3026.125000\n",
       "max    9106.440000"
      ]
     },
     "execution_count": 1,
     "metadata": {},
     "output_type": "execute_result"
    }
   ],
   "source": [
    "import pandas as pd\n",
    "\n",
    "catering_sale = './data/catering_sale.xls' # 餐饮数据\n",
    "data = pd.read_excel(catering_sale,index_col=u'日期') # 读取数据，指定'日期'列为索引列\n",
    "data.describe()"
   ]
  },
  {
   "cell_type": "markdown",
   "metadata": {},
   "source": [
    "1. count是数据中的非空值的数目，通过print(len(data))可以直到数据记录为201条，因此缺失值数为1;\n",
    "2. mean:平均值\n",
    "3. std:标准差\n",
    "4. min:最小值\n",
    "5. 25%:$\\frac{1}{4}$分位数，即下四分位数；\n",
    "6. 50%:$\\frac{1}{2}$分位数，即中值；\n",
    "7. 75%:$\\frac{3}{4}$分位数，即上四分位数；\n",
    "8. max:最大值"
   ]
  },
  {
   "cell_type": "code",
   "execution_count": 2,
   "metadata": {},
   "outputs": [
    {
     "name": "stdout",
     "output_type": "stream",
     "text": [
      "                销量\n",
      "日期                \n",
      "2015-03-01    51.0\n",
      "2015-02-28  2618.2\n",
      "2015-02-27  2608.4\n",
      "2015-02-26  2651.9\n",
      "2015-02-25  3442.1\n",
      "2015-02-24  3393.1\n",
      "2015-02-23  3136.6\n",
      "2015-02-22  3744.1\n",
      "2015-02-21  6607.4\n",
      "2015-02-20  4060.3\n",
      "2015-02-19  3614.7\n",
      "2015-02-18  3295.5\n",
      "2015-02-16  2332.1\n",
      "2015-02-15  2699.3\n",
      "2015-02-14     NaN\n",
      "2015-02-13  3036.8\n",
      "2015-02-12   865.0\n",
      "2015-02-11  3014.3\n",
      "2015-02-10  2742.8\n",
      "2015-02-09  2173.5\n",
      "2015-02-08  3161.8\n",
      "2015-02-07  3023.8\n",
      "2015-02-06  2998.1\n",
      "2015-02-05  2805.9\n",
      "2015-02-04  2383.4\n",
      "2015-02-03  2620.2\n",
      "2015-02-02  2600.0\n",
      "2015-02-01  2358.6\n",
      "2015-01-31  2682.2\n",
      "2015-01-30  2766.8\n",
      "...            ...\n",
      "2014-08-31  3494.7\n",
      "2014-08-30  3691.9\n",
      "2014-08-29  2929.5\n",
      "2014-08-28  2760.6\n",
      "2014-08-27  2593.7\n",
      "2014-08-26  2884.4\n",
      "2014-08-25  2591.3\n",
      "2014-08-24  3022.6\n",
      "2014-08-23  3052.1\n",
      "2014-08-22  2789.2\n",
      "2014-08-21  2909.8\n",
      "2014-08-20  2326.8\n",
      "2014-08-19  2453.1\n",
      "2014-08-18  2351.2\n",
      "2014-08-17  3279.1\n",
      "2014-08-16  3381.9\n",
      "2014-08-15  2988.1\n",
      "2014-08-14  2577.7\n",
      "2014-08-13  2332.3\n",
      "2014-08-12  2518.6\n",
      "2014-08-11  2697.5\n",
      "2014-08-10  3244.7\n",
      "2014-08-09  3346.7\n",
      "2014-08-08  2900.6\n",
      "2014-08-07  2759.1\n",
      "2014-08-06  2915.8\n",
      "2014-08-05  2618.1\n",
      "2014-08-04  2993.0\n",
      "2014-08-03  3436.4\n",
      "2014-08-02  2261.7\n",
      "\n",
      "[201 rows x 1 columns]\n"
     ]
    }
   ],
   "source": [
    "print(data)"
   ]
  },
  {
   "cell_type": "markdown",
   "metadata": {},
   "source": [
    "画箱型图检测异常值:\n",
    "1. DataFrame中的data.boxplot()\n",
    "2. seaborn.boxplot()\n",
    "3. plt.boxplot()"
   ]
  },
  {
   "cell_type": "markdown",
   "metadata": {},
   "source": [
    "#### DataFrame中的data.boxplot()"
   ]
  },
  {
   "cell_type": "code",
   "execution_count": 3,
   "metadata": {},
   "outputs": [
    {
     "name": "stdout",
     "output_type": "stream",
     "text": [
      "[ 1.  1.  1.  1.  1.  1.  1.  1.]\n",
      "[   51.     865.      22.      60.    6607.4   4060.3   9106.44  4065.2 ]\n"
     ]
    },
    {
     "data": {
      "image/png": "[encoded data removed]",
      "text/plain": [
       "<matplotlib.figure.Figure at 0x7f57af708668>"
      ]
     },
     "metadata": {},
     "output_type": "display_data"
    }
   ],
   "source": [
    "import matplotlib.pyplot as plt\n",
    "\n",
    "plt.rcParams['font.sans-serif'] = ['SimHei'] # 用来正常显示中文标签\n",
    "plt.rcParams['axes.unicode_minus'] = False # 用来正常显示负号\n",
    "\n",
    "plt.figure()\n",
    "p = data.boxplot(return_type='dict') # 画箱线图，直接使用DataFrame的方法\n",
    "x = p['fliers'][0].get_xdata() # 'flies'即为异常值的标签\n",
    "y = p['fliers'][0].get_ydata() # 获取具体的异常值\n",
    "print(x)\n",
    "print(y)\n",
    "y.sort() # 从小到大排序，该方法直接改变原对象\n",
    "plt.show()"
   ]
  },
  {
   "cell_type": "markdown",
   "metadata": {},
   "source": [
    "若要显示异常值的具体值，则需要为异常值在图中加标签"
   ]
  },
  {
   "cell_type": "code",
   "execution_count": 4,
   "metadata": {},
   "outputs": [
    {
     "data": {
      "image/png": "[encoded data removed]",
      "text/plain": [
       "<matplotlib.figure.Figure at 0x7f57a5cd0f98>"
      ]
     },
     "metadata": {},
     "output_type": "display_data"
    }
   ],
   "source": [
    "plt.figure()\n",
    "p = data.boxplot(return_type='dict') # 画箱线图，直接使用DataFrame的方法\n",
    "x = p['fliers'][0].get_xdata() # 'flies'即为异常值的标签\n",
    "y = p['fliers'][0].get_ydata() \n",
    "y.sort() # 从小到大排序，该方法直接改变原对象\n",
    "\n",
    "# 用annotate添加注释\n",
    "# 其中有些相近的点，注解会出现重叠，难以看清，需要一些技巧来控制，下面的参数都是经过调试的\n",
    "for i in range(len(x)):\n",
    "    if i % 2 == 0:\n",
    "        plt.annotate(y[i],xy=(x[i],y[i]),xytext=(x[i]-1/(y[i]-y[i-1]),y[i]))\n",
    "    else:\n",
    "        plt.annotate(y[i],xy=(x[i],y[i]),xytext=(x[i]+0.13,y[i]))\n",
    "plt.show()"
   ]
  },
  {
   "cell_type": "markdown",
   "metadata": {},
   "source": [
    "#### seaborn.boxplot()"
   ]
  },
  {
   "cell_type": "code",
   "execution_count": 5,
   "metadata": {},
   "outputs": [
    {
     "data": {
      "image/png": "[encoded data removed]",
      "text/plain": [
       "<matplotlib.figure.Figure at 0x7f57d02d4668>"
      ]
     },
     "metadata": {},
     "output_type": "display_data"
    }
   ],
   "source": [
    "import seaborn as sns\n",
    "\n",
    "ax = sns.boxplot(y=data['销量'])\n",
    "plt.show()"
   ]
  },
  {
   "cell_type": "code",
   "execution_count": 6,
   "metadata": {},
   "outputs": [
    {
     "data": {
      "image/png": "[encoded data removed]",
      "text/plain": [
       "<matplotlib.figure.Figure at 0x7f579cda3278>"
      ]
     },
     "metadata": {},
     "output_type": "display_data"
    }
   ],
   "source": [
    "import numpy as np\n",
    "\n",
    "labels = ['A','B','C','D','E']\n",
    "data = pd.DataFrame(np.random.normal(size=(1000,5)),columns=labels)\n",
    "data.boxplot()\n",
    "plt.show()"
   ]
  },
  {
   "cell_type": "markdown",
   "metadata": {},
   "source": [
    "seaborn似乎无法对矩阵的各列同时进行箱线图描述，而DataFrame和plt.boxplot()则可以。"
   ]
  },
  {
   "cell_type": "markdown",
   "metadata": {},
   "source": [
    "#### plt.boxplot()"
   ]
  },
  {
   "cell_type": "markdown",
   "metadata": {},
   "source": [
    "用matplotlib.pyplot的plt.boxplot()在一张图中画多个箱型图"
   ]
  },
  {
   "cell_type": "code",
   "execution_count": 7,
   "metadata": {},
   "outputs": [
    {
     "data": {
      "image/png": "[encoded data removed]",
      "text/plain": [
       "<matplotlib.figure.Figure at 0x7f579cda35f8>"
      ]
     },
     "metadata": {},
     "output_type": "display_data"
    }
   ],
   "source": [
    "import numpy as np\n",
    "\n",
    "#为每个箱型图设置一个名字\n",
    "labels = ['A','B','C','D','E']\n",
    "data = np.random.normal(size=(1000,5))\n",
    "plt.boxplot(data,labels=labels,sym='x')\n",
    "plt.show()"
   ]
  },
  {
   "cell_type": "markdown",
   "metadata": {},
   "source": [
    "至于是否确实为异常值，则需要结合具体业务来判定，而不是依赖既定的统计判定规则。"
   ]
  },
  {
   "cell_type": "markdown",
   "metadata": {},
   "source": [
    "## 一致性分析"
   ]
  },
  {
   "cell_type": "markdown",
   "metadata": {},
   "source": [
    "数据不一致性是指数据的矛盾性、不相容性，多发生在数据集成的过程中，可能是由于数据来源于不同的数据集，对重复数据未能进行一致性更新。"
   ]
  },
  {
   "cell_type": "markdown",
   "metadata": {},
   "source": [
    "# 数据特征分析"
   ]
  },
  {
   "cell_type": "markdown",
   "metadata": {},
   "source": [
    "一般是通过绘制图表，计算特征量进行特征分析。"
   ]
  },
  {
   "cell_type": "markdown",
   "metadata": {},
   "source": [
    "## 分布分析"
   ]
  },
  {
   "cell_type": "markdown",
   "metadata": {},
   "source": [
    "分布分析能揭示数据的分布特征和分布类型。\n",
    "\n",
    "对于**定量数据**，欲了解其分布形式是对称的还是非对称的，发现某些特大或特小的可疑值，可通过以下图形分析：\n",
    "1. 频率分布表\n",
    "2. 频率分布直方图\n",
    "3. 茎叶图\n",
    "\n",
    "对于**定性数据**,可通过以下图形了解其分布形式:\n",
    "1. 饼图\n",
    "2. 条形图"
   ]
  },
  {
   "cell_type": "markdown",
   "metadata": {},
   "source": [
    "### 定量数据的分布分析"
   ]
  },
  {
   "cell_type": "markdown",
   "metadata": {},
   "source": [
    "对定量数据而言，选择**组数**和**组宽**是做**频率分布分析**时最主要的问题，流程如下：\n",
    "1. 求极差：最大值=最小值\n",
    "2. 决定组距和组数\n",
    "3. 决定分点\n",
    "4. 列出频率分布表\n",
    "5. 绘制频率分布直方图\n",
    "\n",
    "遵循的原则：\n",
    "1. 各组之间必须是相互排斥的\n",
    "2. 各组必须将所有的数据包含在内\n",
    "3. 各组的组宽最好相等"
   ]
  },
  {
   "cell_type": "markdown",
   "metadata": {},
   "source": [
    "下面结合具体实例进行分析：菜品\"捞起生鱼片\"在2014年第二个季度的销售数据"
   ]
  },
  {
   "cell_type": "code",
   "execution_count": 8,
   "metadata": {},
   "outputs": [
    {
     "name": "stdout",
     "output_type": "stream",
     "text": [
      "----- 获取 菜品：捞起生鱼片 在2014年第二个季度的销售数据 ----- \n",
      "\n",
      "              销量\n",
      "日期              \n",
      "2014-04-01   420\n",
      "2014-04-02   900\n",
      "2014-04-03  1290\n",
      "2014-04-04   420\n",
      "2014-04-05  1710\n",
      "2014-04-06  1290\n",
      "2014-04-07  2610\n",
      "2014-04-08   840\n",
      "2014-04-09   450\n",
      "2014-04-10   420\n"
     ]
    }
   ],
   "source": [
    "import pandas as pd\n",
    "\n",
    "catering_sale = './data/catering_fish_congee.xls' # 餐饮数据\n",
    "data = pd.read_excel(catering_sale,header=None,names=['日期','销量']) # 读取数据,指定原数据中两列的列名为:日期和销量\n",
    "# 指定日期列为行索引\n",
    "data = data.set_index('日期')\n",
    "print('-'*5,'获取 菜品：捞起生鱼片 在2014年第二个季度的销售数据','-'*5,'\\n')\n",
    "data = data['2014-04-01':'2014-06-30']\n",
    "print(data.head(10))"
   ]
  },
  {
   "cell_type": "code",
   "execution_count": 9,
   "metadata": {},
   "outputs": [
    {
     "name": "stdout",
     "output_type": "stream",
     "text": [
      "菜品：捞起生鱼片 在2014年第二个季度的销售数据的统计分析\n",
      "\n",
      "                销量\n",
      "count    91.000000\n",
      "mean   1232.307692\n",
      "std     940.025008\n",
      "min      45.000000\n",
      "25%     420.000000\n",
      "50%     900.000000\n",
      "75%    1785.000000\n",
      "max    3960.000000\n"
     ]
    }
   ],
   "source": [
    "print('菜品：捞起生鱼片 在2014年第二个季度的销售数据的统计分析\\n')\n",
    "print(data.describe())"
   ]
  },
  {
   "cell_type": "markdown",
   "metadata": {},
   "source": [
    "#### 求极差"
   ]
  },
  {
   "cell_type": "code",
   "execution_count": 10,
   "metadata": {},
   "outputs": [
    {
     "name": "stdout",
     "output_type": "stream",
     "text": [
      "销售额数据的极差为:  销量    3915\n",
      "dtype: int64\n"
     ]
    }
   ],
   "source": [
    "R = data.max() - data.min() # 极差\n",
    "print('销售额数据的极差为: ',R)"
   ]
  },
  {
   "cell_type": "markdown",
   "metadata": {},
   "source": [
    "#### 分组"
   ]
  },
  {
   "cell_type": "markdown",
   "metadata": {},
   "source": [
    "这里根据业务数据的含义，取组距为500"
   ]
  },
  {
   "cell_type": "code",
   "execution_count": 11,
   "metadata": {},
   "outputs": [
    {
     "name": "stdout",
     "output_type": "stream",
     "text": [
      "组数为:  8\n"
     ]
    }
   ],
   "source": [
    "import math\n",
    "\n",
    "number = math.ceil(R / float(500)) # 组距向上取整\n",
    "print('组数为: ',number)"
   ]
  },
  {
   "cell_type": "markdown",
   "metadata": {},
   "source": [
    "#### 决定分点"
   ]
  },
  {
   "cell_type": "code",
   "execution_count": 12,
   "metadata": {
    "code_folding": []
   },
   "outputs": [
    {
     "name": "stdout",
     "output_type": "stream",
     "text": [
      "销量数据分组情况如下：\n",
      "\n",
      "[ 0 , 500 )\n",
      "[ 500 , 1000 )\n",
      "[ 1000 , 1500 )\n",
      "[ 1500 , 2000 )\n",
      "[ 2000 , 2500 )\n",
      "[ 2500 , 3000 )\n",
      "[ 3000 , 3500 )\n",
      "[ 3500 , 4000 )\n"
     ]
    }
   ],
   "source": [
    "print('销量数据分组情况如下：\\n')\n",
    "for i in range(0,4000,500):\n",
    "    print('[',i,',',i+500,')')"
   ]
  },
  {
   "cell_type": "markdown",
   "metadata": {},
   "source": [
    "销量数据最小值为45，最大值为3960，组距为500，因此将销量数据的分布区间分为如下:\n",
    "\n",
    "\n",
    "<center>分布区间</center>\n",
    "\n",
    "|[0,500)|[500,1000)|[1000,1500)|[1500,2000)|\n",
    "|:-----:|:--------:|:---------:|:---------:|\n",
    "|[2000,2500)|[2500,3000)|[3000,3500)|[3500,4000)|\n",
    "\n",
    "习惯上将各组设为左闭右开的半开区间，第一个组段要包括最小值，最后一个组段要包括最大值"
   ]
  },
  {
   "cell_type": "markdown",
   "metadata": {},
   "source": [
    "#### 列出频率分布表"
   ]
  },
  {
   "cell_type": "markdown",
   "metadata": {},
   "source": [
    "##### 利用pd.cut()分组数据"
   ]
  },
  {
   "cell_type": "code",
   "execution_count": 13,
   "metadata": {},
   "outputs": [
    {
     "name": "stdout",
     "output_type": "stream",
     "text": [
      "日期\n",
      "2014-04-01        [0,500)\n",
      "2014-04-02     [500,1000)\n",
      "2014-04-03    [1000,1500)\n",
      "2014-04-04        [0,500)\n",
      "2014-04-05    [1500,2000)\n",
      "2014-04-06    [1000,1500)\n",
      "2014-04-07    [2500,3000)\n",
      "2014-04-08     [500,1000)\n",
      "2014-04-09        [0,500)\n",
      "2014-04-10        [0,500)\n",
      "Name: 销量, dtype: category\n",
      "Categories (8, object): [[0,500) < [500,1000) < [1000,1500) < [1500,2000) < [2000,2500) < [2500,3000) < [3000,3500) < [3500,4000)]\n"
     ]
    }
   ],
   "source": [
    "bins=[i for i in range(0,4000+500,500)] # 各分位点\n",
    "labels = ['['+str(i)+','+str(i+500)+')' for i in range(0,4000,500)] # 各分组的组名\n",
    "split_result = pd.cut(data['销量'],bins=bins,right=False,labels=labels)\n",
    "print(split_result.head(10)) # 列出前10条分组结果"
   ]
  },
  {
   "cell_type": "markdown",
   "metadata": {},
   "source": [
    "##### pd.value_counts()统计各分组的频数"
   ]
  },
  {
   "cell_type": "code",
   "execution_count": 14,
   "metadata": {},
   "outputs": [
    {
     "name": "stdout",
     "output_type": "stream",
     "text": [
      "[0,500)        29\n",
      "[500,1000)     20\n",
      "[1500,2000)    12\n",
      "[1000,1500)    12\n",
      "[2000,2500)     8\n",
      "[3000,3500)     4\n",
      "[3500,4000)     3\n",
      "[2500,3000)     3\n",
      "Name: 销量, dtype: int64\n"
     ]
    }
   ],
   "source": [
    "counts = pd.value_counts(split_result)\n",
    "print(counts)"
   ]
  },
  {
   "cell_type": "code",
   "execution_count": 15,
   "metadata": {},
   "outputs": [
    {
     "name": "stdout",
     "output_type": "stream",
     "text": [
      "各分组的区间如下:\n",
      "\n",
      "['[0,500)', '[500,1000)', '[1000,1500)', '[1500,2000)', '[2000,2500)', '[2500,3000)', '[3000,3500)', '[3500,4000)']\n",
      "\n",
      "各分组的频数如下：\n",
      "\n",
      "{'[0,500)': 29, '[500,1000)': 20, '[1000,1500)': 12, '[1500,2000)': 12, '[2000,2500)': 8, '[2500,3000)': 3, '[3000,3500)': 4, '[3500,4000)': 3}\n"
     ]
    }
   ],
   "source": [
    "print('各分组的区间如下:\\n')\n",
    "print(labels)\n",
    "print()\n",
    "#存储各分组的频数\n",
    "sub_array = {label:counts[label] for label in labels}\n",
    "print('各分组的频数如下：\\n')\n",
    "print(sub_array)"
   ]
  },
  {
   "cell_type": "markdown",
   "metadata": {},
   "source": [
    "##### 从最小区间开始依次统计各分组的频率"
   ]
  },
  {
   "cell_type": "code",
   "execution_count": 16,
   "metadata": {},
   "outputs": [
    {
     "name": "stdout",
     "output_type": "stream",
     "text": [
      "[0.31868131868131866, 0.21978021978021978, 0.13186813186813187, 0.13186813186813187, 0.087912087912087919, 0.032967032967032968, 0.043956043956043959, 0.032967032967032968]\n"
     ]
    }
   ],
   "source": [
    "# 各分组各自的频率\n",
    "sub_array_freq = [counts[label]/float(len(data['销量'])) for label in labels]\n",
    "print(sub_array_freq)"
   ]
  },
  {
   "cell_type": "markdown",
   "metadata": {},
   "source": [
    "##### 构建频率分布表"
   ]
  },
  {
   "cell_type": "code",
   "execution_count": 17,
   "metadata": {},
   "outputs": [
    {
     "name": "stdout",
     "output_type": "stream",
     "text": [
      "\n",
      "菜品:捞起生鱼片 2014年第二季度的销售数据的频率分布表如下\n"
     ]
    },
    {
     "data": {
      "text/html": [
       "<div>\n",
       "<style>\n",
       "    .dataframe thead tr:only-child th {\n",
       "        text-align: right;\n",
       "    }\n",
       "\n",
       "    .dataframe thead th {\n",
       "        text-align: left;\n",
       "    }\n",
       "\n",
       "    .dataframe tbody tr th {\n",
       "        vertical-align: top;\n",
       "    }\n",
       "</style>\n",
       "<table border=\"1\" class=\"dataframe\">\n",
       "  <thead>\n",
       "    <tr style=\"text-align: right;\">\n",
       "      <th></th>\n",
       "      <th>组中值x</th>\n",
       "      <th>频数</th>\n",
       "      <th>频率f</th>\n",
       "      <th>累计频率</th>\n",
       "    </tr>\n",
       "  </thead>\n",
       "  <tbody>\n",
       "    <tr>\n",
       "      <th>[0,500)</th>\n",
       "      <td>250</td>\n",
       "      <td>29</td>\n",
       "      <td>31.87%</td>\n",
       "      <td>31.87%</td>\n",
       "    </tr>\n",
       "    <tr>\n",
       "      <th>[500,1000)</th>\n",
       "      <td>750</td>\n",
       "      <td>20</td>\n",
       "      <td>21.98%</td>\n",
       "      <td>53.85%</td>\n",
       "    </tr>\n",
       "    <tr>\n",
       "      <th>[1000,1500)</th>\n",
       "      <td>1250</td>\n",
       "      <td>12</td>\n",
       "      <td>13.19%</td>\n",
       "      <td>67.03%</td>\n",
       "    </tr>\n",
       "    <tr>\n",
       "      <th>[1500,2000)</th>\n",
       "      <td>1750</td>\n",
       "      <td>12</td>\n",
       "      <td>13.19%</td>\n",
       "      <td>80.22%</td>\n",
       "    </tr>\n",
       "    <tr>\n",
       "      <th>[2000,2500)</th>\n",
       "      <td>2250</td>\n",
       "      <td>8</td>\n",
       "      <td>8.79%</td>\n",
       "      <td>89.01%</td>\n",
       "    </tr>\n",
       "    <tr>\n",
       "      <th>[2500,3000)</th>\n",
       "      <td>2750</td>\n",
       "      <td>3</td>\n",
       "      <td>3.3%</td>\n",
       "      <td>92.31%</td>\n",
       "    </tr>\n",
       "    <tr>\n",
       "      <th>[3000,3500)</th>\n",
       "      <td>3250</td>\n",
       "      <td>4</td>\n",
       "      <td>4.4%</td>\n",
       "      <td>96.7%</td>\n",
       "    </tr>\n",
       "    <tr>\n",
       "      <th>[3500,4000)</th>\n",
       "      <td>3750</td>\n",
       "      <td>3</td>\n",
       "      <td>3.3%</td>\n",
       "      <td>100.0%</td>\n",
       "    </tr>\n",
       "  </tbody>\n",
       "</table>\n",
       "</div>"
      ],
      "text/plain": [
       "             组中值x  频数     频率f    累计频率\n",
       "[0,500)       250  29  31.87%  31.87%\n",
       "[500,1000)    750  20  21.98%  53.85%\n",
       "[1000,1500)  1250  12  13.19%  67.03%\n",
       "[1500,2000)  1750  12  13.19%  80.22%\n",
       "[2000,2500)  2250   8   8.79%  89.01%\n",
       "[2500,3000)  2750   3    3.3%  92.31%\n",
       "[3000,3500)  3250   4    4.4%   96.7%\n",
       "[3500,4000)  3750   3    3.3%  100.0%"
      ]
     },
     "execution_count": 17,
     "metadata": {},
     "output_type": "execute_result"
    }
   ],
   "source": [
    "# 构建分布表各列数据\n",
    "index = labels  # 行索引\n",
    "sub_array_mean = [int((i+i+500)/2.0) for i in range(0,4000,500)] # 组中值，有该分组上下限取均值得到\n",
    "sub_array_freqNumber = [counts[label] for label in labels] # 各分组的频数\n",
    "sub_array_freq_percent = [str(round(value,4)*100)+'%' for value in sub_array_freq] #各分组的频率\n",
    "\n",
    "d = {\n",
    "    '组中值x':sub_array_mean,\n",
    "    '频数':sub_array_freqNumber,\n",
    "    '频率f':sub_array_freq_percent,\n",
    "    '累计频率':sub_array_freq\n",
    "}\n",
    "# 构建频率分布表\n",
    "distribution_table = pd.DataFrame(data=d,index=labels,columns=['组中值x','频数','频率f','累计频率'])\n",
    "#从最小区间开始依次统计各分组的累计频率,并转化为百分数\n",
    "distribution_table['累计频率'] = [str(round(value,4)*100)+'%' for value in distribution_table['累计频率'].cumsum()]\n",
    "print()\n",
    "print('菜品:捞起生鱼片 2014年第二季度的销售数据的频率分布表如下')\n",
    "distribution_table # 在jupyter中不用print()函数，反而会将DataFrame输出为表格的形式"
   ]
  },
  {
   "cell_type": "markdown",
   "metadata": {},
   "source": [
    "##### 绘制频率分布直方图Histogram"
   ]
  },
  {
   "cell_type": "markdown",
   "metadata": {},
   "source": [
    "直方图又称为质量分布图，由一系列高度不等的纵向条纹或线段表示表示数据分布情况。一般横轴表示数据类型(或等长区间)，纵轴表示分布情况(落在该区间的频数)。\n",
    "\n",
    "直方图的常见作用有以下三点：\n",
    "\n",
    "1. 显示数据点波动的状态；\n",
    "2. 较直观地传递有关过程状况的信息；\n",
    "3. 通过研究质量波动状况之后，就能掌握过程的状况，从而确定在什么地方集中力量进行质量改进工作；"
   ]
  },
  {
   "cell_type": "markdown",
   "metadata": {},
   "source": [
    "以2014年第二季度\"捞起生鱼片\"每天的销售额为**横轴**，以各组的频率密度(频率/组距)为**纵轴**，这里程序中是以频数为纵轴的"
   ]
  },
  {
   "cell_type": "code",
   "execution_count": 18,
   "metadata": {},
   "outputs": [
    {
     "name": "stdout",
     "output_type": "stream",
     "text": [
      "             销量\n",
      "日期             \n",
      "2014-04-01  420\n",
      "2014-04-02  900\n"
     ]
    },
    {
     "data": {
      "image/png": "[encoded data removed]",
      "text/plain": [
       "<matplotlib.figure.Figure at 0x7f579cb120b8>"
      ]
     },
     "metadata": {},
     "output_type": "display_data"
    },
    {
     "name": "stdout",
     "output_type": "stream",
     "text": [
      "2014年第二季度\"捞起生鱼片\"销售额频率的分布直方图\n"
     ]
    }
   ],
   "source": [
    "print(data.head(2))\n",
    "data['销量'].hist(bins=8) # 8组数据，故而分成8桶bins=8\n",
    "plt.show()\n",
    "print('2014年第二季度\"捞起生鱼片\"销售额频率的分布直方图')"
   ]
  },
  {
   "cell_type": "markdown",
   "metadata": {},
   "source": [
    "### 定性数据的分布分析"
   ]
  },
  {
   "cell_type": "markdown",
   "metadata": {},
   "source": [
    "对于定性变量，常常根据变量的分类类型来分组，可以采用**饼图**和**条形图**来描述定性变量的分布。\n",
    "\n",
    "**饼图**的每一个扇形部分代表每一类型的百分比或频数，根据定性变量的类型数目将饼图分成几个部分，每一部分的大小与每一类型的频数成正比。\n",
    "**条形图**的高度代表每一类型的百分比或频数，条形图的宽度没有意义。注意，直方图与条形图很相似，但直方图是对定量数据而言的。"
   ]
  },
  {
   "cell_type": "markdown",
   "metadata": {},
   "source": [
    "读取各个菜品在2015年一月份的销量数据"
   ]
  },
  {
   "cell_type": "code",
   "execution_count": 19,
   "metadata": {},
   "outputs": [
    {
     "data": {
      "text/html": [
       "<div>\n",
       "<style>\n",
       "    .dataframe thead tr:only-child th {\n",
       "        text-align: right;\n",
       "    }\n",
       "\n",
       "    .dataframe thead th {\n",
       "        text-align: left;\n",
       "    }\n",
       "\n",
       "    .dataframe tbody tr th {\n",
       "        vertical-align: top;\n",
       "    }\n",
       "</style>\n",
       "<table border=\"1\" class=\"dataframe\">\n",
       "  <thead>\n",
       "    <tr style=\"text-align: right;\">\n",
       "      <th></th>\n",
       "      <th>日期</th>\n",
       "      <th>百合酱蒸凤爪</th>\n",
       "      <th>翡翠蒸香茜饺</th>\n",
       "      <th>金银蒜汁蒸排骨</th>\n",
       "      <th>乐膳真味鸡</th>\n",
       "      <th>蜜汁焗餐包</th>\n",
       "      <th>生炒菜心</th>\n",
       "      <th>铁板酸菜豆腐</th>\n",
       "      <th>香煎韭菜饺</th>\n",
       "      <th>香煎罗卜糕</th>\n",
       "      <th>原汁原味菜心</th>\n",
       "    </tr>\n",
       "  </thead>\n",
       "  <tbody>\n",
       "    <tr>\n",
       "      <th>0</th>\n",
       "      <td>2015-01-01</td>\n",
       "      <td>17</td>\n",
       "      <td>6</td>\n",
       "      <td>8</td>\n",
       "      <td>24</td>\n",
       "      <td>13.0</td>\n",
       "      <td>13</td>\n",
       "      <td>18</td>\n",
       "      <td>10</td>\n",
       "      <td>10</td>\n",
       "      <td>27</td>\n",
       "    </tr>\n",
       "    <tr>\n",
       "      <th>1</th>\n",
       "      <td>2015-01-02</td>\n",
       "      <td>11</td>\n",
       "      <td>15</td>\n",
       "      <td>14</td>\n",
       "      <td>13</td>\n",
       "      <td>9.0</td>\n",
       "      <td>10</td>\n",
       "      <td>19</td>\n",
       "      <td>13</td>\n",
       "      <td>14</td>\n",
       "      <td>13</td>\n",
       "    </tr>\n",
       "    <tr>\n",
       "      <th>2</th>\n",
       "      <td>2015-01-03</td>\n",
       "      <td>10</td>\n",
       "      <td>8</td>\n",
       "      <td>12</td>\n",
       "      <td>13</td>\n",
       "      <td>8.0</td>\n",
       "      <td>3</td>\n",
       "      <td>7</td>\n",
       "      <td>11</td>\n",
       "      <td>10</td>\n",
       "      <td>9</td>\n",
       "    </tr>\n",
       "    <tr>\n",
       "      <th>3</th>\n",
       "      <td>2015-01-04</td>\n",
       "      <td>9</td>\n",
       "      <td>6</td>\n",
       "      <td>6</td>\n",
       "      <td>3</td>\n",
       "      <td>10.0</td>\n",
       "      <td>9</td>\n",
       "      <td>9</td>\n",
       "      <td>13</td>\n",
       "      <td>14</td>\n",
       "      <td>13</td>\n",
       "    </tr>\n",
       "    <tr>\n",
       "      <th>4</th>\n",
       "      <td>2015-01-05</td>\n",
       "      <td>4</td>\n",
       "      <td>10</td>\n",
       "      <td>13</td>\n",
       "      <td>8</td>\n",
       "      <td>12.0</td>\n",
       "      <td>10</td>\n",
       "      <td>17</td>\n",
       "      <td>11</td>\n",
       "      <td>13</td>\n",
       "      <td>14</td>\n",
       "    </tr>\n",
       "    <tr>\n",
       "      <th>5</th>\n",
       "      <td>2015-01-06</td>\n",
       "      <td>13</td>\n",
       "      <td>10</td>\n",
       "      <td>13</td>\n",
       "      <td>16</td>\n",
       "      <td>8.0</td>\n",
       "      <td>9</td>\n",
       "      <td>12</td>\n",
       "      <td>11</td>\n",
       "      <td>5</td>\n",
       "      <td>9</td>\n",
       "    </tr>\n",
       "    <tr>\n",
       "      <th>6</th>\n",
       "      <td>2015-01-07</td>\n",
       "      <td>9</td>\n",
       "      <td>7</td>\n",
       "      <td>13</td>\n",
       "      <td>8</td>\n",
       "      <td>5.0</td>\n",
       "      <td>7</td>\n",
       "      <td>10</td>\n",
       "      <td>8</td>\n",
       "      <td>10</td>\n",
       "      <td>7</td>\n",
       "    </tr>\n",
       "    <tr>\n",
       "      <th>7</th>\n",
       "      <td>2015-01-08</td>\n",
       "      <td>9</td>\n",
       "      <td>12</td>\n",
       "      <td>13</td>\n",
       "      <td>6</td>\n",
       "      <td>7.0</td>\n",
       "      <td>8</td>\n",
       "      <td>6</td>\n",
       "      <td>12</td>\n",
       "      <td>11</td>\n",
       "      <td>5</td>\n",
       "    </tr>\n",
       "    <tr>\n",
       "      <th>8</th>\n",
       "      <td>2015-01-12</td>\n",
       "      <td>6</td>\n",
       "      <td>8</td>\n",
       "      <td>8</td>\n",
       "      <td>3</td>\n",
       "      <td>NaN</td>\n",
       "      <td>4</td>\n",
       "      <td>5</td>\n",
       "      <td>5</td>\n",
       "      <td>7</td>\n",
       "      <td>10</td>\n",
       "    </tr>\n",
       "    <tr>\n",
       "      <th>9</th>\n",
       "      <td>2015-01-13</td>\n",
       "      <td>9</td>\n",
       "      <td>11</td>\n",
       "      <td>13</td>\n",
       "      <td>6</td>\n",
       "      <td>8.0</td>\n",
       "      <td>7</td>\n",
       "      <td>6</td>\n",
       "      <td>9</td>\n",
       "      <td>8</td>\n",
       "      <td>9</td>\n",
       "    </tr>\n",
       "    <tr>\n",
       "      <th>10</th>\n",
       "      <td>2015-01-14</td>\n",
       "      <td>6</td>\n",
       "      <td>7</td>\n",
       "      <td>8</td>\n",
       "      <td>9</td>\n",
       "      <td>4.0</td>\n",
       "      <td>7</td>\n",
       "      <td>8</td>\n",
       "      <td>5</td>\n",
       "      <td>3</td>\n",
       "      <td>10</td>\n",
       "    </tr>\n",
       "    <tr>\n",
       "      <th>11</th>\n",
       "      <td>2015-01-15</td>\n",
       "      <td>5</td>\n",
       "      <td>9</td>\n",
       "      <td>4</td>\n",
       "      <td>7</td>\n",
       "      <td>8.0</td>\n",
       "      <td>9</td>\n",
       "      <td>15</td>\n",
       "      <td>9</td>\n",
       "      <td>13</td>\n",
       "      <td>9</td>\n",
       "    </tr>\n",
       "    <tr>\n",
       "      <th>12</th>\n",
       "      <td>2015-01-16</td>\n",
       "      <td>9</td>\n",
       "      <td>7</td>\n",
       "      <td>11</td>\n",
       "      <td>9</td>\n",
       "      <td>11.0</td>\n",
       "      <td>8</td>\n",
       "      <td>14</td>\n",
       "      <td>9</td>\n",
       "      <td>9</td>\n",
       "      <td>15</td>\n",
       "    </tr>\n",
       "    <tr>\n",
       "      <th>13</th>\n",
       "      <td>2015-01-17</td>\n",
       "      <td>10</td>\n",
       "      <td>8</td>\n",
       "      <td>10</td>\n",
       "      <td>6</td>\n",
       "      <td>14.0</td>\n",
       "      <td>13</td>\n",
       "      <td>16</td>\n",
       "      <td>9</td>\n",
       "      <td>4</td>\n",
       "      <td>14</td>\n",
       "    </tr>\n",
       "    <tr>\n",
       "      <th>14</th>\n",
       "      <td>2015-01-18</td>\n",
       "      <td>13</td>\n",
       "      <td>12</td>\n",
       "      <td>12</td>\n",
       "      <td>10</td>\n",
       "      <td>9.0</td>\n",
       "      <td>11</td>\n",
       "      <td>8</td>\n",
       "      <td>12</td>\n",
       "      <td>9</td>\n",
       "      <td>15</td>\n",
       "    </tr>\n",
       "    <tr>\n",
       "      <th>15</th>\n",
       "      <td>2015-01-19</td>\n",
       "      <td>4</td>\n",
       "      <td>8</td>\n",
       "      <td>12</td>\n",
       "      <td>11</td>\n",
       "      <td>9.0</td>\n",
       "      <td>7</td>\n",
       "      <td>10</td>\n",
       "      <td>6</td>\n",
       "      <td>11</td>\n",
       "      <td>11</td>\n",
       "    </tr>\n",
       "    <tr>\n",
       "      <th>16</th>\n",
       "      <td>2015-01-20</td>\n",
       "      <td>6</td>\n",
       "      <td>12</td>\n",
       "      <td>10</td>\n",
       "      <td>9</td>\n",
       "      <td>11.0</td>\n",
       "      <td>4</td>\n",
       "      <td>8</td>\n",
       "      <td>14</td>\n",
       "      <td>6</td>\n",
       "      <td>13</td>\n",
       "    </tr>\n",
       "    <tr>\n",
       "      <th>17</th>\n",
       "      <td>2015-01-21</td>\n",
       "      <td>9</td>\n",
       "      <td>15</td>\n",
       "      <td>4</td>\n",
       "      <td>12</td>\n",
       "      <td>7.0</td>\n",
       "      <td>9</td>\n",
       "      <td>1</td>\n",
       "      <td>5</td>\n",
       "      <td>12</td>\n",
       "      <td>8</td>\n",
       "    </tr>\n",
       "    <tr>\n",
       "      <th>18</th>\n",
       "      <td>2015-01-22</td>\n",
       "      <td>3</td>\n",
       "      <td>10</td>\n",
       "      <td>13</td>\n",
       "      <td>13</td>\n",
       "      <td>13.0</td>\n",
       "      <td>8</td>\n",
       "      <td>13</td>\n",
       "      <td>5</td>\n",
       "      <td>11</td>\n",
       "      <td>11</td>\n",
       "    </tr>\n",
       "    <tr>\n",
       "      <th>19</th>\n",
       "      <td>2015-01-23</td>\n",
       "      <td>8</td>\n",
       "      <td>7</td>\n",
       "      <td>9</td>\n",
       "      <td>20</td>\n",
       "      <td>5.0</td>\n",
       "      <td>12</td>\n",
       "      <td>8</td>\n",
       "      <td>7</td>\n",
       "      <td>8</td>\n",
       "      <td>11</td>\n",
       "    </tr>\n",
       "    <tr>\n",
       "      <th>20</th>\n",
       "      <td>2015-01-24</td>\n",
       "      <td>11</td>\n",
       "      <td>6</td>\n",
       "      <td>11</td>\n",
       "      <td>8</td>\n",
       "      <td>7.0</td>\n",
       "      <td>8</td>\n",
       "      <td>9</td>\n",
       "      <td>7</td>\n",
       "      <td>10</td>\n",
       "      <td>9</td>\n",
       "    </tr>\n",
       "    <tr>\n",
       "      <th>21</th>\n",
       "      <td>2015-01-25</td>\n",
       "      <td>11</td>\n",
       "      <td>6</td>\n",
       "      <td>5</td>\n",
       "      <td>15</td>\n",
       "      <td>7.0</td>\n",
       "      <td>14</td>\n",
       "      <td>14</td>\n",
       "      <td>7</td>\n",
       "      <td>6</td>\n",
       "      <td>8</td>\n",
       "    </tr>\n",
       "    <tr>\n",
       "      <th>22</th>\n",
       "      <td>2015-01-26</td>\n",
       "      <td>4</td>\n",
       "      <td>7</td>\n",
       "      <td>10</td>\n",
       "      <td>7</td>\n",
       "      <td>6.0</td>\n",
       "      <td>10</td>\n",
       "      <td>9</td>\n",
       "      <td>12</td>\n",
       "      <td>7</td>\n",
       "      <td>5</td>\n",
       "    </tr>\n",
       "    <tr>\n",
       "      <th>23</th>\n",
       "      <td>2015-01-27</td>\n",
       "      <td>7</td>\n",
       "      <td>5</td>\n",
       "      <td>6</td>\n",
       "      <td>7</td>\n",
       "      <td>12.0</td>\n",
       "      <td>15</td>\n",
       "      <td>6</td>\n",
       "      <td>12</td>\n",
       "      <td>9</td>\n",
       "      <td>4</td>\n",
       "    </tr>\n",
       "    <tr>\n",
       "      <th>24</th>\n",
       "      <td>2015-01-28</td>\n",
       "      <td>8</td>\n",
       "      <td>8</td>\n",
       "      <td>12</td>\n",
       "      <td>14</td>\n",
       "      <td>8.0</td>\n",
       "      <td>11</td>\n",
       "      <td>7</td>\n",
       "      <td>12</td>\n",
       "      <td>10</td>\n",
       "      <td>6</td>\n",
       "    </tr>\n",
       "    <tr>\n",
       "      <th>25</th>\n",
       "      <td>2015-01-29</td>\n",
       "      <td>4</td>\n",
       "      <td>10</td>\n",
       "      <td>12</td>\n",
       "      <td>9</td>\n",
       "      <td>7.0</td>\n",
       "      <td>8</td>\n",
       "      <td>8</td>\n",
       "      <td>10</td>\n",
       "      <td>10</td>\n",
       "      <td>11</td>\n",
       "    </tr>\n",
       "    <tr>\n",
       "      <th>26</th>\n",
       "      <td>2015-01-30</td>\n",
       "      <td>6</td>\n",
       "      <td>7</td>\n",
       "      <td>7</td>\n",
       "      <td>11</td>\n",
       "      <td>7.0</td>\n",
       "      <td>7</td>\n",
       "      <td>9</td>\n",
       "      <td>16</td>\n",
       "      <td>10</td>\n",
       "      <td>11</td>\n",
       "    </tr>\n",
       "    <tr>\n",
       "      <th>27</th>\n",
       "      <td>2015-01-31</td>\n",
       "      <td>8</td>\n",
       "      <td>5</td>\n",
       "      <td>11</td>\n",
       "      <td>10</td>\n",
       "      <td>8.0</td>\n",
       "      <td>11</td>\n",
       "      <td>8</td>\n",
       "      <td>10</td>\n",
       "      <td>10</td>\n",
       "      <td>9</td>\n",
       "    </tr>\n",
       "    <tr>\n",
       "      <th>28</th>\n",
       "      <td>2015-02-01</td>\n",
       "      <td>8</td>\n",
       "      <td>6</td>\n",
       "      <td>7</td>\n",
       "      <td>9</td>\n",
       "      <td>6.0</td>\n",
       "      <td>4</td>\n",
       "      <td>6</td>\n",
       "      <td>11</td>\n",
       "      <td>6</td>\n",
       "      <td>9</td>\n",
       "    </tr>\n",
       "  </tbody>\n",
       "</table>\n",
       "</div>"
      ],
      "text/plain": [
       "           日期  百合酱蒸凤爪  翡翠蒸香茜饺  金银蒜汁蒸排骨  乐膳真味鸡  蜜汁焗餐包  生炒菜心  铁板酸菜豆腐  香煎韭菜饺  \\\n",
       "0  2015-01-01      17       6        8     24   13.0    13      18     10   \n",
       "1  2015-01-02      11      15       14     13    9.0    10      19     13   \n",
       "2  2015-01-03      10       8       12     13    8.0     3       7     11   \n",
       "3  2015-01-04       9       6        6      3   10.0     9       9     13   \n",
       "4  2015-01-05       4      10       13      8   12.0    10      17     11   \n",
       "5  2015-01-06      13      10       13     16    8.0     9      12     11   \n",
       "6  2015-01-07       9       7       13      8    5.0     7      10      8   \n",
       "7  2015-01-08       9      12       13      6    7.0     8       6     12   \n",
       "8  2015-01-12       6       8        8      3    NaN     4       5      5   \n",
       "9  2015-01-13       9      11       13      6    8.0     7       6      9   \n",
       "10 2015-01-14       6       7        8      9    4.0     7       8      5   \n",
       "11 2015-01-15       5       9        4      7    8.0     9      15      9   \n",
       "12 2015-01-16       9       7       11      9   11.0     8      14      9   \n",
       "13 2015-01-17      10       8       10      6   14.0    13      16      9   \n",
       "14 2015-01-18      13      12       12     10    9.0    11       8     12   \n",
       "15 2015-01-19       4       8       12     11    9.0     7      10      6   \n",
       "16 2015-01-20       6      12       10      9   11.0     4       8     14   \n",
       "17 2015-01-21       9      15        4     12    7.0     9       1      5   \n",
       "18 2015-01-22       3      10       13     13   13.0     8      13      5   \n",
       "19 2015-01-23       8       7        9     20    5.0    12       8      7   \n",
       "20 2015-01-24      11       6       11      8    7.0     8       9      7   \n",
       "21 2015-01-25      11       6        5     15    7.0    14      14      7   \n",
       "22 2015-01-26       4       7       10      7    6.0    10       9     12   \n",
       "23 2015-01-27       7       5        6      7   12.0    15       6     12   \n",
       "24 2015-01-28       8       8       12     14    8.0    11       7     12   \n",
       "25 2015-01-29       4      10       12      9    7.0     8       8     10   \n",
       "26 2015-01-30       6       7        7     11    7.0     7       9     16   \n",
       "27 2015-01-31       8       5       11     10    8.0    11       8     10   \n",
       "28 2015-02-01       8       6        7      9    6.0     4       6     11   \n",
       "\n",
       "    香煎罗卜糕  原汁原味菜心  \n",
       "0      10      27  \n",
       "1      14      13  \n",
       "2      10       9  \n",
       "3      14      13  \n",
       "4      13      14  \n",
       "5       5       9  \n",
       "6      10       7  \n",
       "7      11       5  \n",
       "8       7      10  \n",
       "9       8       9  \n",
       "10      3      10  \n",
       "11     13       9  \n",
       "12      9      15  \n",
       "13      4      14  \n",
       "14      9      15  \n",
       "15     11      11  \n",
       "16      6      13  \n",
       "17     12       8  \n",
       "18     11      11  \n",
       "19      8      11  \n",
       "20     10       9  \n",
       "21      6       8  \n",
       "22      7       5  \n",
       "23      9       4  \n",
       "24     10       6  \n",
       "25     10      11  \n",
       "26     10      11  \n",
       "27     10       9  \n",
       "28      6       9  "
      ]
     },
     "execution_count": 19,
     "metadata": {},
     "output_type": "execute_result"
    }
   ],
   "source": [
    "import pandas as pd\n",
    "\n",
    "data = pd.read_excel('./data/catering_sale_all.xls')\n",
    "data # 显示数据"
   ]
  },
  {
   "cell_type": "code",
   "execution_count": 20,
   "metadata": {},
   "outputs": [
    {
     "data": {
      "text/html": [
       "<div>\n",
       "<style>\n",
       "    .dataframe thead tr:only-child th {\n",
       "        text-align: right;\n",
       "    }\n",
       "\n",
       "    .dataframe thead th {\n",
       "        text-align: left;\n",
       "    }\n",
       "\n",
       "    .dataframe tbody tr th {\n",
       "        vertical-align: top;\n",
       "    }\n",
       "</style>\n",
       "<table border=\"1\" class=\"dataframe\">\n",
       "  <thead>\n",
       "    <tr style=\"text-align: right;\">\n",
       "      <th></th>\n",
       "      <th>百合酱蒸凤爪</th>\n",
       "      <th>翡翠蒸香茜饺</th>\n",
       "      <th>金银蒜汁蒸排骨</th>\n",
       "      <th>乐膳真味鸡</th>\n",
       "      <th>蜜汁焗餐包</th>\n",
       "      <th>生炒菜心</th>\n",
       "      <th>铁板酸菜豆腐</th>\n",
       "      <th>香煎韭菜饺</th>\n",
       "      <th>香煎罗卜糕</th>\n",
       "      <th>原汁原味菜心</th>\n",
       "    </tr>\n",
       "    <tr>\n",
       "      <th>日期</th>\n",
       "      <th></th>\n",
       "      <th></th>\n",
       "      <th></th>\n",
       "      <th></th>\n",
       "      <th></th>\n",
       "      <th></th>\n",
       "      <th></th>\n",
       "      <th></th>\n",
       "      <th></th>\n",
       "      <th></th>\n",
       "    </tr>\n",
       "  </thead>\n",
       "  <tbody>\n",
       "    <tr>\n",
       "      <th>2015-01-01</th>\n",
       "      <td>17</td>\n",
       "      <td>6</td>\n",
       "      <td>8</td>\n",
       "      <td>24</td>\n",
       "      <td>13.0</td>\n",
       "      <td>13</td>\n",
       "      <td>18</td>\n",
       "      <td>10</td>\n",
       "      <td>10</td>\n",
       "      <td>27</td>\n",
       "    </tr>\n",
       "    <tr>\n",
       "      <th>2015-01-02</th>\n",
       "      <td>11</td>\n",
       "      <td>15</td>\n",
       "      <td>14</td>\n",
       "      <td>13</td>\n",
       "      <td>9.0</td>\n",
       "      <td>10</td>\n",
       "      <td>19</td>\n",
       "      <td>13</td>\n",
       "      <td>14</td>\n",
       "      <td>13</td>\n",
       "    </tr>\n",
       "    <tr>\n",
       "      <th>2015-01-03</th>\n",
       "      <td>10</td>\n",
       "      <td>8</td>\n",
       "      <td>12</td>\n",
       "      <td>13</td>\n",
       "      <td>8.0</td>\n",
       "      <td>3</td>\n",
       "      <td>7</td>\n",
       "      <td>11</td>\n",
       "      <td>10</td>\n",
       "      <td>9</td>\n",
       "    </tr>\n",
       "    <tr>\n",
       "      <th>2015-01-04</th>\n",
       "      <td>9</td>\n",
       "      <td>6</td>\n",
       "      <td>6</td>\n",
       "      <td>3</td>\n",
       "      <td>10.0</td>\n",
       "      <td>9</td>\n",
       "      <td>9</td>\n",
       "      <td>13</td>\n",
       "      <td>14</td>\n",
       "      <td>13</td>\n",
       "    </tr>\n",
       "    <tr>\n",
       "      <th>2015-01-05</th>\n",
       "      <td>4</td>\n",
       "      <td>10</td>\n",
       "      <td>13</td>\n",
       "      <td>8</td>\n",
       "      <td>12.0</td>\n",
       "      <td>10</td>\n",
       "      <td>17</td>\n",
       "      <td>11</td>\n",
       "      <td>13</td>\n",
       "      <td>14</td>\n",
       "    </tr>\n",
       "    <tr>\n",
       "      <th>2015-01-06</th>\n",
       "      <td>13</td>\n",
       "      <td>10</td>\n",
       "      <td>13</td>\n",
       "      <td>16</td>\n",
       "      <td>8.0</td>\n",
       "      <td>9</td>\n",
       "      <td>12</td>\n",
       "      <td>11</td>\n",
       "      <td>5</td>\n",
       "      <td>9</td>\n",
       "    </tr>\n",
       "    <tr>\n",
       "      <th>2015-01-07</th>\n",
       "      <td>9</td>\n",
       "      <td>7</td>\n",
       "      <td>13</td>\n",
       "      <td>8</td>\n",
       "      <td>5.0</td>\n",
       "      <td>7</td>\n",
       "      <td>10</td>\n",
       "      <td>8</td>\n",
       "      <td>10</td>\n",
       "      <td>7</td>\n",
       "    </tr>\n",
       "    <tr>\n",
       "      <th>2015-01-08</th>\n",
       "      <td>9</td>\n",
       "      <td>12</td>\n",
       "      <td>13</td>\n",
       "      <td>6</td>\n",
       "      <td>7.0</td>\n",
       "      <td>8</td>\n",
       "      <td>6</td>\n",
       "      <td>12</td>\n",
       "      <td>11</td>\n",
       "      <td>5</td>\n",
       "    </tr>\n",
       "    <tr>\n",
       "      <th>2015-01-12</th>\n",
       "      <td>6</td>\n",
       "      <td>8</td>\n",
       "      <td>8</td>\n",
       "      <td>3</td>\n",
       "      <td>NaN</td>\n",
       "      <td>4</td>\n",
       "      <td>5</td>\n",
       "      <td>5</td>\n",
       "      <td>7</td>\n",
       "      <td>10</td>\n",
       "    </tr>\n",
       "    <tr>\n",
       "      <th>2015-01-13</th>\n",
       "      <td>9</td>\n",
       "      <td>11</td>\n",
       "      <td>13</td>\n",
       "      <td>6</td>\n",
       "      <td>8.0</td>\n",
       "      <td>7</td>\n",
       "      <td>6</td>\n",
       "      <td>9</td>\n",
       "      <td>8</td>\n",
       "      <td>9</td>\n",
       "    </tr>\n",
       "    <tr>\n",
       "      <th>2015-01-14</th>\n",
       "      <td>6</td>\n",
       "      <td>7</td>\n",
       "      <td>8</td>\n",
       "      <td>9</td>\n",
       "      <td>4.0</td>\n",
       "      <td>7</td>\n",
       "      <td>8</td>\n",
       "      <td>5</td>\n",
       "      <td>3</td>\n",
       "      <td>10</td>\n",
       "    </tr>\n",
       "    <tr>\n",
       "      <th>2015-01-15</th>\n",
       "      <td>5</td>\n",
       "      <td>9</td>\n",
       "      <td>4</td>\n",
       "      <td>7</td>\n",
       "      <td>8.0</td>\n",
       "      <td>9</td>\n",
       "      <td>15</td>\n",
       "      <td>9</td>\n",
       "      <td>13</td>\n",
       "      <td>9</td>\n",
       "    </tr>\n",
       "    <tr>\n",
       "      <th>2015-01-16</th>\n",
       "      <td>9</td>\n",
       "      <td>7</td>\n",
       "      <td>11</td>\n",
       "      <td>9</td>\n",
       "      <td>11.0</td>\n",
       "      <td>8</td>\n",
       "      <td>14</td>\n",
       "      <td>9</td>\n",
       "      <td>9</td>\n",
       "      <td>15</td>\n",
       "    </tr>\n",
       "    <tr>\n",
       "      <th>2015-01-17</th>\n",
       "      <td>10</td>\n",
       "      <td>8</td>\n",
       "      <td>10</td>\n",
       "      <td>6</td>\n",
       "      <td>14.0</td>\n",
       "      <td>13</td>\n",
       "      <td>16</td>\n",
       "      <td>9</td>\n",
       "      <td>4</td>\n",
       "      <td>14</td>\n",
       "    </tr>\n",
       "    <tr>\n",
       "      <th>2015-01-18</th>\n",
       "      <td>13</td>\n",
       "      <td>12</td>\n",
       "      <td>12</td>\n",
       "      <td>10</td>\n",
       "      <td>9.0</td>\n",
       "      <td>11</td>\n",
       "      <td>8</td>\n",
       "      <td>12</td>\n",
       "      <td>9</td>\n",
       "      <td>15</td>\n",
       "    </tr>\n",
       "    <tr>\n",
       "      <th>2015-01-19</th>\n",
       "      <td>4</td>\n",
       "      <td>8</td>\n",
       "      <td>12</td>\n",
       "      <td>11</td>\n",
       "      <td>9.0</td>\n",
       "      <td>7</td>\n",
       "      <td>10</td>\n",
       "      <td>6</td>\n",
       "      <td>11</td>\n",
       "      <td>11</td>\n",
       "    </tr>\n",
       "    <tr>\n",
       "      <th>2015-01-20</th>\n",
       "      <td>6</td>\n",
       "      <td>12</td>\n",
       "      <td>10</td>\n",
       "      <td>9</td>\n",
       "      <td>11.0</td>\n",
       "      <td>4</td>\n",
       "      <td>8</td>\n",
       "      <td>14</td>\n",
       "      <td>6</td>\n",
       "      <td>13</td>\n",
       "    </tr>\n",
       "    <tr>\n",
       "      <th>2015-01-21</th>\n",
       "      <td>9</td>\n",
       "      <td>15</td>\n",
       "      <td>4</td>\n",
       "      <td>12</td>\n",
       "      <td>7.0</td>\n",
       "      <td>9</td>\n",
       "      <td>1</td>\n",
       "      <td>5</td>\n",
       "      <td>12</td>\n",
       "      <td>8</td>\n",
       "    </tr>\n",
       "    <tr>\n",
       "      <th>2015-01-22</th>\n",
       "      <td>3</td>\n",
       "      <td>10</td>\n",
       "      <td>13</td>\n",
       "      <td>13</td>\n",
       "      <td>13.0</td>\n",
       "      <td>8</td>\n",
       "      <td>13</td>\n",
       "      <td>5</td>\n",
       "      <td>11</td>\n",
       "      <td>11</td>\n",
       "    </tr>\n",
       "    <tr>\n",
       "      <th>2015-01-23</th>\n",
       "      <td>8</td>\n",
       "      <td>7</td>\n",
       "      <td>9</td>\n",
       "      <td>20</td>\n",
       "      <td>5.0</td>\n",
       "      <td>12</td>\n",
       "      <td>8</td>\n",
       "      <td>7</td>\n",
       "      <td>8</td>\n",
       "      <td>11</td>\n",
       "    </tr>\n",
       "    <tr>\n",
       "      <th>2015-01-24</th>\n",
       "      <td>11</td>\n",
       "      <td>6</td>\n",
       "      <td>11</td>\n",
       "      <td>8</td>\n",
       "      <td>7.0</td>\n",
       "      <td>8</td>\n",
       "      <td>9</td>\n",
       "      <td>7</td>\n",
       "      <td>10</td>\n",
       "      <td>9</td>\n",
       "    </tr>\n",
       "    <tr>\n",
       "      <th>2015-01-25</th>\n",
       "      <td>11</td>\n",
       "      <td>6</td>\n",
       "      <td>5</td>\n",
       "      <td>15</td>\n",
       "      <td>7.0</td>\n",
       "      <td>14</td>\n",
       "      <td>14</td>\n",
       "      <td>7</td>\n",
       "      <td>6</td>\n",
       "      <td>8</td>\n",
       "    </tr>\n",
       "    <tr>\n",
       "      <th>2015-01-26</th>\n",
       "      <td>4</td>\n",
       "      <td>7</td>\n",
       "      <td>10</td>\n",
       "      <td>7</td>\n",
       "      <td>6.0</td>\n",
       "      <td>10</td>\n",
       "      <td>9</td>\n",
       "      <td>12</td>\n",
       "      <td>7</td>\n",
       "      <td>5</td>\n",
       "    </tr>\n",
       "    <tr>\n",
       "      <th>2015-01-27</th>\n",
       "      <td>7</td>\n",
       "      <td>5</td>\n",
       "      <td>6</td>\n",
       "      <td>7</td>\n",
       "      <td>12.0</td>\n",
       "      <td>15</td>\n",
       "      <td>6</td>\n",
       "      <td>12</td>\n",
       "      <td>9</td>\n",
       "      <td>4</td>\n",
       "    </tr>\n",
       "    <tr>\n",
       "      <th>2015-01-28</th>\n",
       "      <td>8</td>\n",
       "      <td>8</td>\n",
       "      <td>12</td>\n",
       "      <td>14</td>\n",
       "      <td>8.0</td>\n",
       "      <td>11</td>\n",
       "      <td>7</td>\n",
       "      <td>12</td>\n",
       "      <td>10</td>\n",
       "      <td>6</td>\n",
       "    </tr>\n",
       "    <tr>\n",
       "      <th>2015-01-29</th>\n",
       "      <td>4</td>\n",
       "      <td>10</td>\n",
       "      <td>12</td>\n",
       "      <td>9</td>\n",
       "      <td>7.0</td>\n",
       "      <td>8</td>\n",
       "      <td>8</td>\n",
       "      <td>10</td>\n",
       "      <td>10</td>\n",
       "      <td>11</td>\n",
       "    </tr>\n",
       "    <tr>\n",
       "      <th>2015-01-30</th>\n",
       "      <td>6</td>\n",
       "      <td>7</td>\n",
       "      <td>7</td>\n",
       "      <td>11</td>\n",
       "      <td>7.0</td>\n",
       "      <td>7</td>\n",
       "      <td>9</td>\n",
       "      <td>16</td>\n",
       "      <td>10</td>\n",
       "      <td>11</td>\n",
       "    </tr>\n",
       "    <tr>\n",
       "      <th>2015-01-31</th>\n",
       "      <td>8</td>\n",
       "      <td>5</td>\n",
       "      <td>11</td>\n",
       "      <td>10</td>\n",
       "      <td>8.0</td>\n",
       "      <td>11</td>\n",
       "      <td>8</td>\n",
       "      <td>10</td>\n",
       "      <td>10</td>\n",
       "      <td>9</td>\n",
       "    </tr>\n",
       "    <tr>\n",
       "      <th>2015-02-01</th>\n",
       "      <td>8</td>\n",
       "      <td>6</td>\n",
       "      <td>7</td>\n",
       "      <td>9</td>\n",
       "      <td>6.0</td>\n",
       "      <td>4</td>\n",
       "      <td>6</td>\n",
       "      <td>11</td>\n",
       "      <td>6</td>\n",
       "      <td>9</td>\n",
       "    </tr>\n",
       "  </tbody>\n",
       "</table>\n",
       "</div>"
      ],
      "text/plain": [
       "            百合酱蒸凤爪  翡翠蒸香茜饺  金银蒜汁蒸排骨  乐膳真味鸡  蜜汁焗餐包  生炒菜心  铁板酸菜豆腐  香煎韭菜饺  香煎罗卜糕  \\\n",
       "日期                                                                              \n",
       "2015-01-01      17       6        8     24   13.0    13      18     10     10   \n",
       "2015-01-02      11      15       14     13    9.0    10      19     13     14   \n",
       "2015-01-03      10       8       12     13    8.0     3       7     11     10   \n",
       "2015-01-04       9       6        6      3   10.0     9       9     13     14   \n",
       "2015-01-05       4      10       13      8   12.0    10      17     11     13   \n",
       "2015-01-06      13      10       13     16    8.0     9      12     11      5   \n",
       "2015-01-07       9       7       13      8    5.0     7      10      8     10   \n",
       "2015-01-08       9      12       13      6    7.0     8       6     12     11   \n",
       "2015-01-12       6       8        8      3    NaN     4       5      5      7   \n",
       "2015-01-13       9      11       13      6    8.0     7       6      9      8   \n",
       "2015-01-14       6       7        8      9    4.0     7       8      5      3   \n",
       "2015-01-15       5       9        4      7    8.0     9      15      9     13   \n",
       "2015-01-16       9       7       11      9   11.0     8      14      9      9   \n",
       "2015-01-17      10       8       10      6   14.0    13      16      9      4   \n",
       "2015-01-18      13      12       12     10    9.0    11       8     12      9   \n",
       "2015-01-19       4       8       12     11    9.0     7      10      6     11   \n",
       "2015-01-20       6      12       10      9   11.0     4       8     14      6   \n",
       "2015-01-21       9      15        4     12    7.0     9       1      5     12   \n",
       "2015-01-22       3      10       13     13   13.0     8      13      5     11   \n",
       "2015-01-23       8       7        9     20    5.0    12       8      7      8   \n",
       "2015-01-24      11       6       11      8    7.0     8       9      7     10   \n",
       "2015-01-25      11       6        5     15    7.0    14      14      7      6   \n",
       "2015-01-26       4       7       10      7    6.0    10       9     12      7   \n",
       "2015-01-27       7       5        6      7   12.0    15       6     12      9   \n",
       "2015-01-28       8       8       12     14    8.0    11       7     12     10   \n",
       "2015-01-29       4      10       12      9    7.0     8       8     10     10   \n",
       "2015-01-30       6       7        7     11    7.0     7       9     16     10   \n",
       "2015-01-31       8       5       11     10    8.0    11       8     10     10   \n",
       "2015-02-01       8       6        7      9    6.0     4       6     11      6   \n",
       "\n",
       "            原汁原味菜心  \n",
       "日期                  \n",
       "2015-01-01      27  \n",
       "2015-01-02      13  \n",
       "2015-01-03       9  \n",
       "2015-01-04      13  \n",
       "2015-01-05      14  \n",
       "2015-01-06       9  \n",
       "2015-01-07       7  \n",
       "2015-01-08       5  \n",
       "2015-01-12      10  \n",
       "2015-01-13       9  \n",
       "2015-01-14      10  \n",
       "2015-01-15       9  \n",
       "2015-01-16      15  \n",
       "2015-01-17      14  \n",
       "2015-01-18      15  \n",
       "2015-01-19      11  \n",
       "2015-01-20      13  \n",
       "2015-01-21       8  \n",
       "2015-01-22      11  \n",
       "2015-01-23      11  \n",
       "2015-01-24       9  \n",
       "2015-01-25       8  \n",
       "2015-01-26       5  \n",
       "2015-01-27       4  \n",
       "2015-01-28       6  \n",
       "2015-01-29      11  \n",
       "2015-01-30      11  \n",
       "2015-01-31       9  \n",
       "2015-02-01       9  "
      ]
     },
     "execution_count": 20,
     "metadata": {},
     "output_type": "execute_result"
    }
   ],
   "source": [
    "# 将日期这列设为行索引\n",
    "data = data.set_index('日期')\n",
    "data"
   ]
  },
  {
   "cell_type": "code",
   "execution_count": 21,
   "metadata": {},
   "outputs": [
    {
     "data": {
      "text/html": [
       "<div>\n",
       "<style>\n",
       "    .dataframe thead tr:only-child th {\n",
       "        text-align: right;\n",
       "    }\n",
       "\n",
       "    .dataframe thead th {\n",
       "        text-align: left;\n",
       "    }\n",
       "\n",
       "    .dataframe tbody tr th {\n",
       "        vertical-align: top;\n",
       "    }\n",
       "</style>\n",
       "<table border=\"1\" class=\"dataframe\">\n",
       "  <thead>\n",
       "    <tr style=\"text-align: right;\">\n",
       "      <th></th>\n",
       "      <th>百合酱蒸凤爪</th>\n",
       "      <th>翡翠蒸香茜饺</th>\n",
       "      <th>金银蒜汁蒸排骨</th>\n",
       "      <th>乐膳真味鸡</th>\n",
       "      <th>蜜汁焗餐包</th>\n",
       "      <th>生炒菜心</th>\n",
       "      <th>铁板酸菜豆腐</th>\n",
       "      <th>香煎韭菜饺</th>\n",
       "      <th>香煎罗卜糕</th>\n",
       "      <th>原汁原味菜心</th>\n",
       "    </tr>\n",
       "    <tr>\n",
       "      <th>日期</th>\n",
       "      <th></th>\n",
       "      <th></th>\n",
       "      <th></th>\n",
       "      <th></th>\n",
       "      <th></th>\n",
       "      <th></th>\n",
       "      <th></th>\n",
       "      <th></th>\n",
       "      <th></th>\n",
       "      <th></th>\n",
       "    </tr>\n",
       "  </thead>\n",
       "  <tbody>\n",
       "    <tr>\n",
       "      <th>2015-01-01</th>\n",
       "      <td>17</td>\n",
       "      <td>6</td>\n",
       "      <td>8</td>\n",
       "      <td>24</td>\n",
       "      <td>13.0</td>\n",
       "      <td>13</td>\n",
       "      <td>18</td>\n",
       "      <td>10</td>\n",
       "      <td>10</td>\n",
       "      <td>27</td>\n",
       "    </tr>\n",
       "    <tr>\n",
       "      <th>2015-01-02</th>\n",
       "      <td>11</td>\n",
       "      <td>15</td>\n",
       "      <td>14</td>\n",
       "      <td>13</td>\n",
       "      <td>9.0</td>\n",
       "      <td>10</td>\n",
       "      <td>19</td>\n",
       "      <td>13</td>\n",
       "      <td>14</td>\n",
       "      <td>13</td>\n",
       "    </tr>\n",
       "    <tr>\n",
       "      <th>2015-01-03</th>\n",
       "      <td>10</td>\n",
       "      <td>8</td>\n",
       "      <td>12</td>\n",
       "      <td>13</td>\n",
       "      <td>8.0</td>\n",
       "      <td>3</td>\n",
       "      <td>7</td>\n",
       "      <td>11</td>\n",
       "      <td>10</td>\n",
       "      <td>9</td>\n",
       "    </tr>\n",
       "    <tr>\n",
       "      <th>2015-01-04</th>\n",
       "      <td>9</td>\n",
       "      <td>6</td>\n",
       "      <td>6</td>\n",
       "      <td>3</td>\n",
       "      <td>10.0</td>\n",
       "      <td>9</td>\n",
       "      <td>9</td>\n",
       "      <td>13</td>\n",
       "      <td>14</td>\n",
       "      <td>13</td>\n",
       "    </tr>\n",
       "    <tr>\n",
       "      <th>2015-01-05</th>\n",
       "      <td>4</td>\n",
       "      <td>10</td>\n",
       "      <td>13</td>\n",
       "      <td>8</td>\n",
       "      <td>12.0</td>\n",
       "      <td>10</td>\n",
       "      <td>17</td>\n",
       "      <td>11</td>\n",
       "      <td>13</td>\n",
       "      <td>14</td>\n",
       "    </tr>\n",
       "    <tr>\n",
       "      <th>2015-01-06</th>\n",
       "      <td>13</td>\n",
       "      <td>10</td>\n",
       "      <td>13</td>\n",
       "      <td>16</td>\n",
       "      <td>8.0</td>\n",
       "      <td>9</td>\n",
       "      <td>12</td>\n",
       "      <td>11</td>\n",
       "      <td>5</td>\n",
       "      <td>9</td>\n",
       "    </tr>\n",
       "    <tr>\n",
       "      <th>2015-01-07</th>\n",
       "      <td>9</td>\n",
       "      <td>7</td>\n",
       "      <td>13</td>\n",
       "      <td>8</td>\n",
       "      <td>5.0</td>\n",
       "      <td>7</td>\n",
       "      <td>10</td>\n",
       "      <td>8</td>\n",
       "      <td>10</td>\n",
       "      <td>7</td>\n",
       "    </tr>\n",
       "    <tr>\n",
       "      <th>2015-01-08</th>\n",
       "      <td>9</td>\n",
       "      <td>12</td>\n",
       "      <td>13</td>\n",
       "      <td>6</td>\n",
       "      <td>7.0</td>\n",
       "      <td>8</td>\n",
       "      <td>6</td>\n",
       "      <td>12</td>\n",
       "      <td>11</td>\n",
       "      <td>5</td>\n",
       "    </tr>\n",
       "    <tr>\n",
       "      <th>2015-01-12</th>\n",
       "      <td>6</td>\n",
       "      <td>8</td>\n",
       "      <td>8</td>\n",
       "      <td>3</td>\n",
       "      <td>NaN</td>\n",
       "      <td>4</td>\n",
       "      <td>5</td>\n",
       "      <td>5</td>\n",
       "      <td>7</td>\n",
       "      <td>10</td>\n",
       "    </tr>\n",
       "    <tr>\n",
       "      <th>2015-01-13</th>\n",
       "      <td>9</td>\n",
       "      <td>11</td>\n",
       "      <td>13</td>\n",
       "      <td>6</td>\n",
       "      <td>8.0</td>\n",
       "      <td>7</td>\n",
       "      <td>6</td>\n",
       "      <td>9</td>\n",
       "      <td>8</td>\n",
       "      <td>9</td>\n",
       "    </tr>\n",
       "    <tr>\n",
       "      <th>2015-01-14</th>\n",
       "      <td>6</td>\n",
       "      <td>7</td>\n",
       "      <td>8</td>\n",
       "      <td>9</td>\n",
       "      <td>4.0</td>\n",
       "      <td>7</td>\n",
       "      <td>8</td>\n",
       "      <td>5</td>\n",
       "      <td>3</td>\n",
       "      <td>10</td>\n",
       "    </tr>\n",
       "    <tr>\n",
       "      <th>2015-01-15</th>\n",
       "      <td>5</td>\n",
       "      <td>9</td>\n",
       "      <td>4</td>\n",
       "      <td>7</td>\n",
       "      <td>8.0</td>\n",
       "      <td>9</td>\n",
       "      <td>15</td>\n",
       "      <td>9</td>\n",
       "      <td>13</td>\n",
       "      <td>9</td>\n",
       "    </tr>\n",
       "    <tr>\n",
       "      <th>2015-01-16</th>\n",
       "      <td>9</td>\n",
       "      <td>7</td>\n",
       "      <td>11</td>\n",
       "      <td>9</td>\n",
       "      <td>11.0</td>\n",
       "      <td>8</td>\n",
       "      <td>14</td>\n",
       "      <td>9</td>\n",
       "      <td>9</td>\n",
       "      <td>15</td>\n",
       "    </tr>\n",
       "    <tr>\n",
       "      <th>2015-01-17</th>\n",
       "      <td>10</td>\n",
       "      <td>8</td>\n",
       "      <td>10</td>\n",
       "      <td>6</td>\n",
       "      <td>14.0</td>\n",
       "      <td>13</td>\n",
       "      <td>16</td>\n",
       "      <td>9</td>\n",
       "      <td>4</td>\n",
       "      <td>14</td>\n",
       "    </tr>\n",
       "    <tr>\n",
       "      <th>2015-01-18</th>\n",
       "      <td>13</td>\n",
       "      <td>12</td>\n",
       "      <td>12</td>\n",
       "      <td>10</td>\n",
       "      <td>9.0</td>\n",
       "      <td>11</td>\n",
       "      <td>8</td>\n",
       "      <td>12</td>\n",
       "      <td>9</td>\n",
       "      <td>15</td>\n",
       "    </tr>\n",
       "    <tr>\n",
       "      <th>2015-01-19</th>\n",
       "      <td>4</td>\n",
       "      <td>8</td>\n",
       "      <td>12</td>\n",
       "      <td>11</td>\n",
       "      <td>9.0</td>\n",
       "      <td>7</td>\n",
       "      <td>10</td>\n",
       "      <td>6</td>\n",
       "      <td>11</td>\n",
       "      <td>11</td>\n",
       "    </tr>\n",
       "    <tr>\n",
       "      <th>2015-01-20</th>\n",
       "      <td>6</td>\n",
       "      <td>12</td>\n",
       "      <td>10</td>\n",
       "      <td>9</td>\n",
       "      <td>11.0</td>\n",
       "      <td>4</td>\n",
       "      <td>8</td>\n",
       "      <td>14</td>\n",
       "      <td>6</td>\n",
       "      <td>13</td>\n",
       "    </tr>\n",
       "    <tr>\n",
       "      <th>2015-01-21</th>\n",
       "      <td>9</td>\n",
       "      <td>15</td>\n",
       "      <td>4</td>\n",
       "      <td>12</td>\n",
       "      <td>7.0</td>\n",
       "      <td>9</td>\n",
       "      <td>1</td>\n",
       "      <td>5</td>\n",
       "      <td>12</td>\n",
       "      <td>8</td>\n",
       "    </tr>\n",
       "    <tr>\n",
       "      <th>2015-01-22</th>\n",
       "      <td>3</td>\n",
       "      <td>10</td>\n",
       "      <td>13</td>\n",
       "      <td>13</td>\n",
       "      <td>13.0</td>\n",
       "      <td>8</td>\n",
       "      <td>13</td>\n",
       "      <td>5</td>\n",
       "      <td>11</td>\n",
       "      <td>11</td>\n",
       "    </tr>\n",
       "    <tr>\n",
       "      <th>2015-01-23</th>\n",
       "      <td>8</td>\n",
       "      <td>7</td>\n",
       "      <td>9</td>\n",
       "      <td>20</td>\n",
       "      <td>5.0</td>\n",
       "      <td>12</td>\n",
       "      <td>8</td>\n",
       "      <td>7</td>\n",
       "      <td>8</td>\n",
       "      <td>11</td>\n",
       "    </tr>\n",
       "    <tr>\n",
       "      <th>2015-01-24</th>\n",
       "      <td>11</td>\n",
       "      <td>6</td>\n",
       "      <td>11</td>\n",
       "      <td>8</td>\n",
       "      <td>7.0</td>\n",
       "      <td>8</td>\n",
       "      <td>9</td>\n",
       "      <td>7</td>\n",
       "      <td>10</td>\n",
       "      <td>9</td>\n",
       "    </tr>\n",
       "    <tr>\n",
       "      <th>2015-01-25</th>\n",
       "      <td>11</td>\n",
       "      <td>6</td>\n",
       "      <td>5</td>\n",
       "      <td>15</td>\n",
       "      <td>7.0</td>\n",
       "      <td>14</td>\n",
       "      <td>14</td>\n",
       "      <td>7</td>\n",
       "      <td>6</td>\n",
       "      <td>8</td>\n",
       "    </tr>\n",
       "    <tr>\n",
       "      <th>2015-01-26</th>\n",
       "      <td>4</td>\n",
       "      <td>7</td>\n",
       "      <td>10</td>\n",
       "      <td>7</td>\n",
       "      <td>6.0</td>\n",
       "      <td>10</td>\n",
       "      <td>9</td>\n",
       "      <td>12</td>\n",
       "      <td>7</td>\n",
       "      <td>5</td>\n",
       "    </tr>\n",
       "    <tr>\n",
       "      <th>2015-01-27</th>\n",
       "      <td>7</td>\n",
       "      <td>5</td>\n",
       "      <td>6</td>\n",
       "      <td>7</td>\n",
       "      <td>12.0</td>\n",
       "      <td>15</td>\n",
       "      <td>6</td>\n",
       "      <td>12</td>\n",
       "      <td>9</td>\n",
       "      <td>4</td>\n",
       "    </tr>\n",
       "    <tr>\n",
       "      <th>2015-01-28</th>\n",
       "      <td>8</td>\n",
       "      <td>8</td>\n",
       "      <td>12</td>\n",
       "      <td>14</td>\n",
       "      <td>8.0</td>\n",
       "      <td>11</td>\n",
       "      <td>7</td>\n",
       "      <td>12</td>\n",
       "      <td>10</td>\n",
       "      <td>6</td>\n",
       "    </tr>\n",
       "    <tr>\n",
       "      <th>2015-01-29</th>\n",
       "      <td>4</td>\n",
       "      <td>10</td>\n",
       "      <td>12</td>\n",
       "      <td>9</td>\n",
       "      <td>7.0</td>\n",
       "      <td>8</td>\n",
       "      <td>8</td>\n",
       "      <td>10</td>\n",
       "      <td>10</td>\n",
       "      <td>11</td>\n",
       "    </tr>\n",
       "    <tr>\n",
       "      <th>2015-01-30</th>\n",
       "      <td>6</td>\n",
       "      <td>7</td>\n",
       "      <td>7</td>\n",
       "      <td>11</td>\n",
       "      <td>7.0</td>\n",
       "      <td>7</td>\n",
       "      <td>9</td>\n",
       "      <td>16</td>\n",
       "      <td>10</td>\n",
       "      <td>11</td>\n",
       "    </tr>\n",
       "    <tr>\n",
       "      <th>2015-01-31</th>\n",
       "      <td>8</td>\n",
       "      <td>5</td>\n",
       "      <td>11</td>\n",
       "      <td>10</td>\n",
       "      <td>8.0</td>\n",
       "      <td>11</td>\n",
       "      <td>8</td>\n",
       "      <td>10</td>\n",
       "      <td>10</td>\n",
       "      <td>9</td>\n",
       "    </tr>\n",
       "  </tbody>\n",
       "</table>\n",
       "</div>"
      ],
      "text/plain": [
       "            百合酱蒸凤爪  翡翠蒸香茜饺  金银蒜汁蒸排骨  乐膳真味鸡  蜜汁焗餐包  生炒菜心  铁板酸菜豆腐  香煎韭菜饺  香煎罗卜糕  \\\n",
       "日期                                                                              \n",
       "2015-01-01      17       6        8     24   13.0    13      18     10     10   \n",
       "2015-01-02      11      15       14     13    9.0    10      19     13     14   \n",
       "2015-01-03      10       8       12     13    8.0     3       7     11     10   \n",
       "2015-01-04       9       6        6      3   10.0     9       9     13     14   \n",
       "2015-01-05       4      10       13      8   12.0    10      17     11     13   \n",
       "2015-01-06      13      10       13     16    8.0     9      12     11      5   \n",
       "2015-01-07       9       7       13      8    5.0     7      10      8     10   \n",
       "2015-01-08       9      12       13      6    7.0     8       6     12     11   \n",
       "2015-01-12       6       8        8      3    NaN     4       5      5      7   \n",
       "2015-01-13       9      11       13      6    8.0     7       6      9      8   \n",
       "2015-01-14       6       7        8      9    4.0     7       8      5      3   \n",
       "2015-01-15       5       9        4      7    8.0     9      15      9     13   \n",
       "2015-01-16       9       7       11      9   11.0     8      14      9      9   \n",
       "2015-01-17      10       8       10      6   14.0    13      16      9      4   \n",
       "2015-01-18      13      12       12     10    9.0    11       8     12      9   \n",
       "2015-01-19       4       8       12     11    9.0     7      10      6     11   \n",
       "2015-01-20       6      12       10      9   11.0     4       8     14      6   \n",
       "2015-01-21       9      15        4     12    7.0     9       1      5     12   \n",
       "2015-01-22       3      10       13     13   13.0     8      13      5     11   \n",
       "2015-01-23       8       7        9     20    5.0    12       8      7      8   \n",
       "2015-01-24      11       6       11      8    7.0     8       9      7     10   \n",
       "2015-01-25      11       6        5     15    7.0    14      14      7      6   \n",
       "2015-01-26       4       7       10      7    6.0    10       9     12      7   \n",
       "2015-01-27       7       5        6      7   12.0    15       6     12      9   \n",
       "2015-01-28       8       8       12     14    8.0    11       7     12     10   \n",
       "2015-01-29       4      10       12      9    7.0     8       8     10     10   \n",
       "2015-01-30       6       7        7     11    7.0     7       9     16     10   \n",
       "2015-01-31       8       5       11     10    8.0    11       8     10     10   \n",
       "\n",
       "            原汁原味菜心  \n",
       "日期                  \n",
       "2015-01-01      27  \n",
       "2015-01-02      13  \n",
       "2015-01-03       9  \n",
       "2015-01-04      13  \n",
       "2015-01-05      14  \n",
       "2015-01-06       9  \n",
       "2015-01-07       7  \n",
       "2015-01-08       5  \n",
       "2015-01-12      10  \n",
       "2015-01-13       9  \n",
       "2015-01-14      10  \n",
       "2015-01-15       9  \n",
       "2015-01-16      15  \n",
       "2015-01-17      14  \n",
       "2015-01-18      15  \n",
       "2015-01-19      11  \n",
       "2015-01-20      13  \n",
       "2015-01-21       8  \n",
       "2015-01-22      11  \n",
       "2015-01-23      11  \n",
       "2015-01-24       9  \n",
       "2015-01-25       8  \n",
       "2015-01-26       5  \n",
       "2015-01-27       4  \n",
       "2015-01-28       6  \n",
       "2015-01-29      11  \n",
       "2015-01-30      11  \n",
       "2015-01-31       9  "
      ]
     },
     "execution_count": 21,
     "metadata": {},
     "output_type": "execute_result"
    }
   ],
   "source": [
    "#读取2015年1月份的数据\n",
    "data = data['2015-01']\n",
    "data"
   ]
  },
  {
   "cell_type": "code",
   "execution_count": 22,
   "metadata": {},
   "outputs": [
    {
     "data": {
      "text/plain": [
       "[229, 242, 280, 287, 233.0, 252, 280, 270, 260, 296]"
      ]
     },
     "execution_count": 22,
     "metadata": {},
     "output_type": "execute_result"
    }
   ],
   "source": [
    "# 菜品标签\n",
    "labels = data.columns\n",
    "# 各个菜品在1月份的销量总额\n",
    "sales = [data[label].sum() for label in labels]\n",
    "sales"
   ]
  },
  {
   "cell_type": "markdown",
   "metadata": {},
   "source": [
    "#### 画饼图"
   ]
  },
  {
   "cell_type": "code",
   "execution_count": 23,
   "metadata": {},
   "outputs": [
    {
     "data": {
      "image/png": "[encoded data removed]",
      "text/plain": [
       "<matplotlib.figure.Figure at 0x7f579ca6c898>"
      ]
     },
     "metadata": {},
     "output_type": "display_data"
    }
   ],
   "source": [
    "import matplotlib.pyplot as plt\n",
    "plt.rcParams['font.sans-serif'] = [u'SimHei'] # 用来正常显示中文标签\n",
    "\n",
    "explode = [0]*len(sales) # 表示各个扇区之间的距离，可用于凸出某块\n",
    "index = sales.index(max(sales)) # 返回值最大的索引\n",
    "explode[index] = 0.3 # 将最大值的索引对应的位置的值改为0.3\n",
    "plt.figure(figsize=(6,6)) # 设置图片大小\n",
    "plt.pie(x=sales,labels=labels,explode=explode,autopct='%.2f %%',shadow=True)\n",
    "plt.title('菜品销售量分布')\n",
    "plt.show()"
   ]
  },
  {
   "cell_type": "markdown",
   "metadata": {},
   "source": [
    "饼状图的作用:\n",
    "1. 饼状图显示一个数据序列中各项的大小和各项占总和的比例;\n",
    "2. 饼状图中的数据点显示为整个饼状图的百分比;"
   ]
  },
  {
   "cell_type": "markdown",
   "metadata": {},
   "source": [
    "#### 画条形图"
   ]
  },
  {
   "cell_type": "code",
   "execution_count": 24,
   "metadata": {},
   "outputs": [
    {
     "data": {
      "image/png": "[encoded data removed]",
      "text/plain": [
       "<matplotlib.figure.Figure at 0x7f579c949a90>"
      ]
     },
     "metadata": {},
     "output_type": "display_data"
    }
   ],
   "source": [
    "x_labels = np.arange(1,len(labels)+1) # 各个标签在横轴上的坐标\n",
    "rect = plt.bar(left=x_labels,height=sales,tick_label=labels,width=0.5,color='lightblue')\n",
    "# 给各个条形柱添加数据标签\n",
    "for rec in rect:\n",
    "    x = rec.get_x()\n",
    "    height = rec.get_height()\n",
    "    plt.text(x+0.1,1.02*height,str(height))\n",
    "#将横轴标签旋转90°，便于显示\n",
    "plt.xticks(rotation=90)\n",
    "plt.title('菜品的销量分布')\n",
    "plt.show()"
   ]
  },
  {
   "cell_type": "markdown",
   "metadata": {},
   "source": [
    "## 对比分析"
   ]
  },
  {
   "cell_type": "markdown",
   "metadata": {},
   "source": [
    "对比分析是指把两个相互联系的指标进行比较，从数量上展示和说明研究对象规模的大小，水平的高低，速度的快慢，以及各种关系是否协调。特别适用于指标间的横纵向比较，时间序列的比较分析。\n",
    "\n",
    "对比分析主要分为两种形式:\n",
    "1. 绝对数比较\n",
    "利用绝对数对比，从而寻找差异的一种方法。\n",
    "2. 相对数比较\n",
    "相对数比较是由两个有联系的指标对比计算的，用以反映客观现象之间数量联系程度的综合指标，其数值表现为相对数。由于研究目的和对比基础不同，相对数可以分为以下几种:\n",
    "    1. 结构相对数:     \n",
    "    将同一总体内的部分数值与全部数值对比求得比重，用以说明事物的性质、结构或质量。比如居民食品支出额占消费支出总额比重、产品合格率等。\n",
    "    2. 比例相对数:    \n",
    "    将同一总体内不同部分的数值进行对比，表面总体内各部分的比例关系。如人口性别比例、投资与消费比例等。\n",
    "    3. 比较相对数:  \n",
    "    将同一时期两个性质相同的指标数值进行对比，说明同类现象在不同空间条件下的数量对比关系。如不同地区商品价格对比，不同行业、不同企业间某项指标对比等。\n",
    "    4. 强度相对数:  \n",
    "    将两个性质不同但有一定联系的总量指标进行对比，用以说明现象的强度、密度和普遍程度。如人均国内生产总值用“元/人”表示，人口密度用\"人/平方公里\"表示，也有用百分比或千分数表示的，如人口出生率用‰表示。\n",
    "    5. 计划完成程度相对数:  \n",
    "    是某一时期实际完成数与计划数的对比，用以说明计划完成的程度。\n",
    "    6. 动态相对数:  \n",
    "    将同一现象在不同时期的指标数值进行对比，用以说明发展方向和变化的速度。比如发展速度，增长速度等。"
   ]
  },
  {
   "cell_type": "markdown",
   "metadata": {},
   "source": [
    "### 同一年度不同部门之间的比较"
   ]
  },
  {
   "cell_type": "markdown",
   "metadata": {},
   "source": [
    "就各菜品的销售数据来看，从时间的维度上分析，可以看到甜品部A，海鲜部B，素菜部C三个部分之间的销售金额随时间的变化趋势，可以了解在此期间哪个部分的销售金额较高，趋势比较平稳:"
   ]
  },
  {
   "cell_type": "markdown",
   "metadata": {},
   "source": [
    "构造伪数据"
   ]
  },
  {
   "cell_type": "code",
   "execution_count": 25,
   "metadata": {},
   "outputs": [
    {
     "data": {
      "text/html": [
       "<div>\n",
       "<style>\n",
       "    .dataframe thead tr:only-child th {\n",
       "        text-align: right;\n",
       "    }\n",
       "\n",
       "    .dataframe thead th {\n",
       "        text-align: left;\n",
       "    }\n",
       "\n",
       "    .dataframe tbody tr th {\n",
       "        vertical-align: top;\n",
       "    }\n",
       "</style>\n",
       "<table border=\"1\" class=\"dataframe\">\n",
       "  <thead>\n",
       "    <tr style=\"text-align: right;\">\n",
       "      <th></th>\n",
       "      <th>甜品部A</th>\n",
       "      <th>海鲜部B</th>\n",
       "      <th>素菜部C</th>\n",
       "    </tr>\n",
       "  </thead>\n",
       "  <tbody>\n",
       "    <tr>\n",
       "      <th>2018-01-01</th>\n",
       "      <td>268</td>\n",
       "      <td>627</td>\n",
       "      <td>593</td>\n",
       "    </tr>\n",
       "    <tr>\n",
       "      <th>2018-01-02</th>\n",
       "      <td>684</td>\n",
       "      <td>634</td>\n",
       "      <td>399</td>\n",
       "    </tr>\n",
       "    <tr>\n",
       "      <th>2018-01-03</th>\n",
       "      <td>566</td>\n",
       "      <td>175</td>\n",
       "      <td>460</td>\n",
       "    </tr>\n",
       "    <tr>\n",
       "      <th>2018-01-04</th>\n",
       "      <td>363</td>\n",
       "      <td>774</td>\n",
       "      <td>533</td>\n",
       "    </tr>\n",
       "    <tr>\n",
       "      <th>2018-01-05</th>\n",
       "      <td>707</td>\n",
       "      <td>687</td>\n",
       "      <td>825</td>\n",
       "    </tr>\n",
       "    <tr>\n",
       "      <th>2018-01-06</th>\n",
       "      <td>147</td>\n",
       "      <td>931</td>\n",
       "      <td>387</td>\n",
       "    </tr>\n",
       "    <tr>\n",
       "      <th>2018-01-07</th>\n",
       "      <td>830</td>\n",
       "      <td>504</td>\n",
       "      <td>224</td>\n",
       "    </tr>\n",
       "    <tr>\n",
       "      <th>2018-01-08</th>\n",
       "      <td>728</td>\n",
       "      <td>905</td>\n",
       "      <td>779</td>\n",
       "    </tr>\n",
       "    <tr>\n",
       "      <th>2018-01-09</th>\n",
       "      <td>295</td>\n",
       "      <td>202</td>\n",
       "      <td>872</td>\n",
       "    </tr>\n",
       "    <tr>\n",
       "      <th>2018-01-10</th>\n",
       "      <td>975</td>\n",
       "      <td>151</td>\n",
       "      <td>459</td>\n",
       "    </tr>\n",
       "    <tr>\n",
       "      <th>2018-01-11</th>\n",
       "      <td>650</td>\n",
       "      <td>645</td>\n",
       "      <td>670</td>\n",
       "    </tr>\n",
       "    <tr>\n",
       "      <th>2018-01-12</th>\n",
       "      <td>992</td>\n",
       "      <td>355</td>\n",
       "      <td>423</td>\n",
       "    </tr>\n",
       "    <tr>\n",
       "      <th>2018-01-13</th>\n",
       "      <td>425</td>\n",
       "      <td>188</td>\n",
       "      <td>808</td>\n",
       "    </tr>\n",
       "    <tr>\n",
       "      <th>2018-01-14</th>\n",
       "      <td>402</td>\n",
       "      <td>554</td>\n",
       "      <td>451</td>\n",
       "    </tr>\n",
       "    <tr>\n",
       "      <th>2018-01-15</th>\n",
       "      <td>311</td>\n",
       "      <td>221</td>\n",
       "      <td>131</td>\n",
       "    </tr>\n",
       "    <tr>\n",
       "      <th>2018-01-16</th>\n",
       "      <td>550</td>\n",
       "      <td>692</td>\n",
       "      <td>664</td>\n",
       "    </tr>\n",
       "    <tr>\n",
       "      <th>2018-01-17</th>\n",
       "      <td>338</td>\n",
       "      <td>150</td>\n",
       "      <td>232</td>\n",
       "    </tr>\n",
       "    <tr>\n",
       "      <th>2018-01-18</th>\n",
       "      <td>830</td>\n",
       "      <td>419</td>\n",
       "      <td>307</td>\n",
       "    </tr>\n",
       "    <tr>\n",
       "      <th>2018-01-19</th>\n",
       "      <td>661</td>\n",
       "      <td>907</td>\n",
       "      <td>748</td>\n",
       "    </tr>\n",
       "    <tr>\n",
       "      <th>2018-01-20</th>\n",
       "      <td>534</td>\n",
       "      <td>593</td>\n",
       "      <td>606</td>\n",
       "    </tr>\n",
       "    <tr>\n",
       "      <th>2018-01-21</th>\n",
       "      <td>371</td>\n",
       "      <td>845</td>\n",
       "      <td>593</td>\n",
       "    </tr>\n",
       "    <tr>\n",
       "      <th>2018-01-22</th>\n",
       "      <td>492</td>\n",
       "      <td>859</td>\n",
       "      <td>501</td>\n",
       "    </tr>\n",
       "    <tr>\n",
       "      <th>2018-01-23</th>\n",
       "      <td>860</td>\n",
       "      <td>606</td>\n",
       "      <td>985</td>\n",
       "    </tr>\n",
       "    <tr>\n",
       "      <th>2018-01-24</th>\n",
       "      <td>685</td>\n",
       "      <td>797</td>\n",
       "      <td>973</td>\n",
       "    </tr>\n",
       "    <tr>\n",
       "      <th>2018-01-25</th>\n",
       "      <td>466</td>\n",
       "      <td>864</td>\n",
       "      <td>574</td>\n",
       "    </tr>\n",
       "    <tr>\n",
       "      <th>2018-01-26</th>\n",
       "      <td>546</td>\n",
       "      <td>183</td>\n",
       "      <td>196</td>\n",
       "    </tr>\n",
       "    <tr>\n",
       "      <th>2018-01-27</th>\n",
       "      <td>655</td>\n",
       "      <td>900</td>\n",
       "      <td>638</td>\n",
       "    </tr>\n",
       "    <tr>\n",
       "      <th>2018-01-28</th>\n",
       "      <td>598</td>\n",
       "      <td>688</td>\n",
       "      <td>866</td>\n",
       "    </tr>\n",
       "    <tr>\n",
       "      <th>2018-01-29</th>\n",
       "      <td>238</td>\n",
       "      <td>908</td>\n",
       "      <td>134</td>\n",
       "    </tr>\n",
       "    <tr>\n",
       "      <th>2018-01-30</th>\n",
       "      <td>416</td>\n",
       "      <td>749</td>\n",
       "      <td>858</td>\n",
       "    </tr>\n",
       "    <tr>\n",
       "      <th>...</th>\n",
       "      <td>...</td>\n",
       "      <td>...</td>\n",
       "      <td>...</td>\n",
       "    </tr>\n",
       "    <tr>\n",
       "      <th>2018-12-02</th>\n",
       "      <td>875</td>\n",
       "      <td>920</td>\n",
       "      <td>816</td>\n",
       "    </tr>\n",
       "    <tr>\n",
       "      <th>2018-12-03</th>\n",
       "      <td>1271</td>\n",
       "      <td>1520</td>\n",
       "      <td>1503</td>\n",
       "    </tr>\n",
       "    <tr>\n",
       "      <th>2018-12-04</th>\n",
       "      <td>1396</td>\n",
       "      <td>1786</td>\n",
       "      <td>1280</td>\n",
       "    </tr>\n",
       "    <tr>\n",
       "      <th>2018-12-05</th>\n",
       "      <td>1853</td>\n",
       "      <td>856</td>\n",
       "      <td>1175</td>\n",
       "    </tr>\n",
       "    <tr>\n",
       "      <th>2018-12-06</th>\n",
       "      <td>1673</td>\n",
       "      <td>1467</td>\n",
       "      <td>906</td>\n",
       "    </tr>\n",
       "    <tr>\n",
       "      <th>2018-12-07</th>\n",
       "      <td>1979</td>\n",
       "      <td>1932</td>\n",
       "      <td>1126</td>\n",
       "    </tr>\n",
       "    <tr>\n",
       "      <th>2018-12-08</th>\n",
       "      <td>1787</td>\n",
       "      <td>1497</td>\n",
       "      <td>1437</td>\n",
       "    </tr>\n",
       "    <tr>\n",
       "      <th>2018-12-09</th>\n",
       "      <td>1944</td>\n",
       "      <td>1920</td>\n",
       "      <td>1988</td>\n",
       "    </tr>\n",
       "    <tr>\n",
       "      <th>2018-12-10</th>\n",
       "      <td>1910</td>\n",
       "      <td>1355</td>\n",
       "      <td>1426</td>\n",
       "    </tr>\n",
       "    <tr>\n",
       "      <th>2018-12-11</th>\n",
       "      <td>1455</td>\n",
       "      <td>1237</td>\n",
       "      <td>989</td>\n",
       "    </tr>\n",
       "    <tr>\n",
       "      <th>2018-12-12</th>\n",
       "      <td>1519</td>\n",
       "      <td>1503</td>\n",
       "      <td>1278</td>\n",
       "    </tr>\n",
       "    <tr>\n",
       "      <th>2018-12-13</th>\n",
       "      <td>1197</td>\n",
       "      <td>948</td>\n",
       "      <td>1418</td>\n",
       "    </tr>\n",
       "    <tr>\n",
       "      <th>2018-12-14</th>\n",
       "      <td>1722</td>\n",
       "      <td>1316</td>\n",
       "      <td>1746</td>\n",
       "    </tr>\n",
       "    <tr>\n",
       "      <th>2018-12-15</th>\n",
       "      <td>1836</td>\n",
       "      <td>1081</td>\n",
       "      <td>1243</td>\n",
       "    </tr>\n",
       "    <tr>\n",
       "      <th>2018-12-16</th>\n",
       "      <td>1830</td>\n",
       "      <td>1440</td>\n",
       "      <td>811</td>\n",
       "    </tr>\n",
       "    <tr>\n",
       "      <th>2018-12-17</th>\n",
       "      <td>1522</td>\n",
       "      <td>1509</td>\n",
       "      <td>1095</td>\n",
       "    </tr>\n",
       "    <tr>\n",
       "      <th>2018-12-18</th>\n",
       "      <td>1501</td>\n",
       "      <td>1429</td>\n",
       "      <td>1157</td>\n",
       "    </tr>\n",
       "    <tr>\n",
       "      <th>2018-12-19</th>\n",
       "      <td>1405</td>\n",
       "      <td>1208</td>\n",
       "      <td>1233</td>\n",
       "    </tr>\n",
       "    <tr>\n",
       "      <th>2018-12-20</th>\n",
       "      <td>801</td>\n",
       "      <td>1783</td>\n",
       "      <td>1054</td>\n",
       "    </tr>\n",
       "    <tr>\n",
       "      <th>2018-12-21</th>\n",
       "      <td>1617</td>\n",
       "      <td>1588</td>\n",
       "      <td>1485</td>\n",
       "    </tr>\n",
       "    <tr>\n",
       "      <th>2018-12-22</th>\n",
       "      <td>1731</td>\n",
       "      <td>1194</td>\n",
       "      <td>1733</td>\n",
       "    </tr>\n",
       "    <tr>\n",
       "      <th>2018-12-23</th>\n",
       "      <td>1173</td>\n",
       "      <td>1120</td>\n",
       "      <td>1027</td>\n",
       "    </tr>\n",
       "    <tr>\n",
       "      <th>2018-12-24</th>\n",
       "      <td>1022</td>\n",
       "      <td>1290</td>\n",
       "      <td>1612</td>\n",
       "    </tr>\n",
       "    <tr>\n",
       "      <th>2018-12-25</th>\n",
       "      <td>1708</td>\n",
       "      <td>1394</td>\n",
       "      <td>1024</td>\n",
       "    </tr>\n",
       "    <tr>\n",
       "      <th>2018-12-26</th>\n",
       "      <td>1343</td>\n",
       "      <td>1345</td>\n",
       "      <td>1097</td>\n",
       "    </tr>\n",
       "    <tr>\n",
       "      <th>2018-12-27</th>\n",
       "      <td>1052</td>\n",
       "      <td>1274</td>\n",
       "      <td>1832</td>\n",
       "    </tr>\n",
       "    <tr>\n",
       "      <th>2018-12-28</th>\n",
       "      <td>1142</td>\n",
       "      <td>1436</td>\n",
       "      <td>974</td>\n",
       "    </tr>\n",
       "    <tr>\n",
       "      <th>2018-12-29</th>\n",
       "      <td>1886</td>\n",
       "      <td>1239</td>\n",
       "      <td>1081</td>\n",
       "    </tr>\n",
       "    <tr>\n",
       "      <th>2018-12-30</th>\n",
       "      <td>1824</td>\n",
       "      <td>1074</td>\n",
       "      <td>877</td>\n",
       "    </tr>\n",
       "    <tr>\n",
       "      <th>2018-12-31</th>\n",
       "      <td>1002</td>\n",
       "      <td>1910</td>\n",
       "      <td>1372</td>\n",
       "    </tr>\n",
       "  </tbody>\n",
       "</table>\n",
       "<p>365 rows × 3 columns</p>\n",
       "</div>"
      ],
      "text/plain": [
       "            甜品部A  海鲜部B  素菜部C\n",
       "2018-01-01   268   627   593\n",
       "2018-01-02   684   634   399\n",
       "2018-01-03   566   175   460\n",
       "2018-01-04   363   774   533\n",
       "2018-01-05   707   687   825\n",
       "2018-01-06   147   931   387\n",
       "2018-01-07   830   504   224\n",
       "2018-01-08   728   905   779\n",
       "2018-01-09   295   202   872\n",
       "2018-01-10   975   151   459\n",
       "2018-01-11   650   645   670\n",
       "2018-01-12   992   355   423\n",
       "2018-01-13   425   188   808\n",
       "2018-01-14   402   554   451\n",
       "2018-01-15   311   221   131\n",
       "2018-01-16   550   692   664\n",
       "2018-01-17   338   150   232\n",
       "2018-01-18   830   419   307\n",
       "2018-01-19   661   907   748\n",
       "2018-01-20   534   593   606\n",
       "2018-01-21   371   845   593\n",
       "2018-01-22   492   859   501\n",
       "2018-01-23   860   606   985\n",
       "2018-01-24   685   797   973\n",
       "2018-01-25   466   864   574\n",
       "2018-01-26   546   183   196\n",
       "2018-01-27   655   900   638\n",
       "2018-01-28   598   688   866\n",
       "2018-01-29   238   908   134\n",
       "2018-01-30   416   749   858\n",
       "...          ...   ...   ...\n",
       "2018-12-02   875   920   816\n",
       "2018-12-03  1271  1520  1503\n",
       "2018-12-04  1396  1786  1280\n",
       "2018-12-05  1853   856  1175\n",
       "2018-12-06  1673  1467   906\n",
       "2018-12-07  1979  1932  1126\n",
       "2018-12-08  1787  1497  1437\n",
       "2018-12-09  1944  1920  1988\n",
       "2018-12-10  1910  1355  1426\n",
       "2018-12-11  1455  1237   989\n",
       "2018-12-12  1519  1503  1278\n",
       "2018-12-13  1197   948  1418\n",
       "2018-12-14  1722  1316  1746\n",
       "2018-12-15  1836  1081  1243\n",
       "2018-12-16  1830  1440   811\n",
       "2018-12-17  1522  1509  1095\n",
       "2018-12-18  1501  1429  1157\n",
       "2018-12-19  1405  1208  1233\n",
       "2018-12-20   801  1783  1054\n",
       "2018-12-21  1617  1588  1485\n",
       "2018-12-22  1731  1194  1733\n",
       "2018-12-23  1173  1120  1027\n",
       "2018-12-24  1022  1290  1612\n",
       "2018-12-25  1708  1394  1024\n",
       "2018-12-26  1343  1345  1097\n",
       "2018-12-27  1052  1274  1832\n",
       "2018-12-28  1142  1436   974\n",
       "2018-12-29  1886  1239  1081\n",
       "2018-12-30  1824  1074   877\n",
       "2018-12-31  1002  1910  1372\n",
       "\n",
       "[365 rows x 3 columns]"
      ]
     },
     "execution_count": 25,
     "metadata": {},
     "output_type": "execute_result"
    }
   ],
   "source": [
    "import pandas as pd\n",
    "import numpy as np\n",
    "\n",
    "np.random.seed(2)\n",
    "\n",
    "datetime = pd.date_range(start='20180101',periods=365,freq='D') # 构造日期标签,2018年的每一天\n",
    "\n",
    "# 为方便显示各部门之间销量的规律，构造的数据要有明显的层次性\n",
    "data_A = pd.Series(np.random.randint(low=100,high=1000,size=365,dtype=np.int32),index=datetime) # 构造甜品部A每天的销量\n",
    "data_B = pd.Series(np.random.randint(low=500,high=1500,size=365,dtype=np.int32),index=datetime) # 构造海鲜部B每天的销量\n",
    "data_C = pd.Series(np.random.randint(low=800,high=2000,size=365,dtype=np.int32),index=datetime) # 构造素菜部C每天的销量\n",
    "data = pd.DataFrame(np.array([data_A.values,data_B.values,data_C.values]).reshape(365,3),index=datetime,columns=['甜品部A','海鲜部B','素菜部C'])\n",
    "\n",
    "#data = pd.DataFrame(np.random.randint(low=500,high=2000,size=(365,3),dtype=np.int32),index=datetime,columns=['甜品部A','海鲜部B','素菜部C'])\n",
    "\n",
    "data"
   ]
  },
  {
   "cell_type": "markdown",
   "metadata": {},
   "source": [
    "统计各部门每个月的销量"
   ]
  },
  {
   "cell_type": "code",
   "execution_count": 26,
   "metadata": {},
   "outputs": [
    {
     "data": {
      "text/html": [
       "<div>\n",
       "<style>\n",
       "    .dataframe thead tr:only-child th {\n",
       "        text-align: right;\n",
       "    }\n",
       "\n",
       "    .dataframe thead th {\n",
       "        text-align: left;\n",
       "    }\n",
       "\n",
       "    .dataframe tbody tr th {\n",
       "        vertical-align: top;\n",
       "    }\n",
       "</style>\n",
       "<table border=\"1\" class=\"dataframe\">\n",
       "  <thead>\n",
       "    <tr style=\"text-align: right;\">\n",
       "      <th></th>\n",
       "      <th>甜品部A</th>\n",
       "      <th>海鲜部B</th>\n",
       "      <th>素菜部C</th>\n",
       "    </tr>\n",
       "  </thead>\n",
       "  <tbody>\n",
       "    <tr>\n",
       "      <th>2018-01</th>\n",
       "      <td>17521</td>\n",
       "      <td>17899</td>\n",
       "      <td>17443</td>\n",
       "    </tr>\n",
       "    <tr>\n",
       "      <th>2018-02</th>\n",
       "      <td>15217</td>\n",
       "      <td>16702</td>\n",
       "      <td>17535</td>\n",
       "    </tr>\n",
       "    <tr>\n",
       "      <th>2018-03</th>\n",
       "      <td>15781</td>\n",
       "      <td>15084</td>\n",
       "      <td>15935</td>\n",
       "    </tr>\n",
       "    <tr>\n",
       "      <th>2018-04</th>\n",
       "      <td>15018</td>\n",
       "      <td>16217</td>\n",
       "      <td>17279</td>\n",
       "    </tr>\n",
       "    <tr>\n",
       "      <th>2018-05</th>\n",
       "      <td>30703</td>\n",
       "      <td>30074</td>\n",
       "      <td>32673</td>\n",
       "    </tr>\n",
       "    <tr>\n",
       "      <th>2018-06</th>\n",
       "      <td>30453</td>\n",
       "      <td>30271</td>\n",
       "      <td>30525</td>\n",
       "    </tr>\n",
       "    <tr>\n",
       "      <th>2018-07</th>\n",
       "      <td>32063</td>\n",
       "      <td>30129</td>\n",
       "      <td>31836</td>\n",
       "    </tr>\n",
       "    <tr>\n",
       "      <th>2018-08</th>\n",
       "      <td>30080</td>\n",
       "      <td>29479</td>\n",
       "      <td>32142</td>\n",
       "    </tr>\n",
       "    <tr>\n",
       "      <th>2018-09</th>\n",
       "      <td>41198</td>\n",
       "      <td>44845</td>\n",
       "      <td>39876</td>\n",
       "    </tr>\n",
       "    <tr>\n",
       "      <th>2018-10</th>\n",
       "      <td>45566</td>\n",
       "      <td>39826</td>\n",
       "      <td>42273</td>\n",
       "    </tr>\n",
       "    <tr>\n",
       "      <th>2018-11</th>\n",
       "      <td>43020</td>\n",
       "      <td>44726</td>\n",
       "      <td>41169</td>\n",
       "    </tr>\n",
       "    <tr>\n",
       "      <th>2018-12</th>\n",
       "      <td>46538</td>\n",
       "      <td>42372</td>\n",
       "      <td>38729</td>\n",
       "    </tr>\n",
       "  </tbody>\n",
       "</table>\n",
       "</div>"
      ],
      "text/plain": [
       "          甜品部A   海鲜部B   素菜部C\n",
       "2018-01  17521  17899  17443\n",
       "2018-02  15217  16702  17535\n",
       "2018-03  15781  15084  15935\n",
       "2018-04  15018  16217  17279\n",
       "2018-05  30703  30074  32673\n",
       "2018-06  30453  30271  30525\n",
       "2018-07  32063  30129  31836\n",
       "2018-08  30080  29479  32142\n",
       "2018-09  41198  44845  39876\n",
       "2018-10  45566  39826  42273\n",
       "2018-11  43020  44726  41169\n",
       "2018-12  46538  42372  38729"
      ]
     },
     "execution_count": 26,
     "metadata": {},
     "output_type": "execute_result"
    }
   ],
   "source": [
    "data.resample('M').sum().to_period('M')"
   ]
  },
  {
   "cell_type": "markdown",
   "metadata": {},
   "source": [
    "画折线图"
   ]
  },
  {
   "cell_type": "code",
   "execution_count": 27,
   "metadata": {},
   "outputs": [
    {
     "data": {
      "image/png": "[encoded data removed]",
      "text/plain": [
       "<matplotlib.figure.Figure at 0x7f579c9494e0>"
      ]
     },
     "metadata": {},
     "output_type": "display_data"
    }
   ],
   "source": [
    "import matplotlib.pyplot as plt\n",
    "plt.rcParams['font.sans-serif'] = [u'SimHei'] # 用来正常显示中文标签\n",
    "\n",
    "M = data.resample('M').sum().to_period('M') # 各部门每月的销量\n",
    "M.plot()\n",
    "plt.show()"
   ]
  },
  {
   "cell_type": "markdown",
   "metadata": {},
   "source": [
    "从总体上看，三个部门的销量呈增长趋势。"
   ]
  },
  {
   "cell_type": "markdown",
   "metadata": {},
   "source": [
    "### 不同年度同一部门之间的比较"
   ]
  },
  {
   "cell_type": "markdown",
   "metadata": {},
   "source": [
    "构造海鲜部2016-2018年每月的伪销量数据"
   ]
  },
  {
   "cell_type": "code",
   "execution_count": 28,
   "metadata": {},
   "outputs": [
    {
     "data": {
      "text/html": [
       "<div>\n",
       "<style>\n",
       "    .dataframe thead tr:only-child th {\n",
       "        text-align: right;\n",
       "    }\n",
       "\n",
       "    .dataframe thead th {\n",
       "        text-align: left;\n",
       "    }\n",
       "\n",
       "    .dataframe tbody tr th {\n",
       "        vertical-align: top;\n",
       "    }\n",
       "</style>\n",
       "<table border=\"1\" class=\"dataframe\">\n",
       "  <thead>\n",
       "    <tr style=\"text-align: right;\">\n",
       "      <th></th>\n",
       "      <th>2016年</th>\n",
       "      <th>2017年</th>\n",
       "      <th>2018年</th>\n",
       "    </tr>\n",
       "  </thead>\n",
       "  <tbody>\n",
       "    <tr>\n",
       "      <th>Jan</th>\n",
       "      <td>1692</td>\n",
       "      <td>1027</td>\n",
       "      <td>993</td>\n",
       "    </tr>\n",
       "    <tr>\n",
       "      <th>Feb</th>\n",
       "      <td>799</td>\n",
       "      <td>966</td>\n",
       "      <td>1599</td>\n",
       "    </tr>\n",
       "    <tr>\n",
       "      <th>Mar</th>\n",
       "      <td>860</td>\n",
       "      <td>1787</td>\n",
       "      <td>1174</td>\n",
       "    </tr>\n",
       "    <tr>\n",
       "      <th>Apr</th>\n",
       "      <td>933</td>\n",
       "      <td>1107</td>\n",
       "      <td>1087</td>\n",
       "    </tr>\n",
       "    <tr>\n",
       "      <th>May</th>\n",
       "      <td>1225</td>\n",
       "      <td>1571</td>\n",
       "      <td>1331</td>\n",
       "    </tr>\n",
       "    <tr>\n",
       "      <th>Jun</th>\n",
       "      <td>1811</td>\n",
       "      <td>1230</td>\n",
       "      <td>904</td>\n",
       "    </tr>\n",
       "    <tr>\n",
       "      <th>Jul</th>\n",
       "      <td>624</td>\n",
       "      <td>1305</td>\n",
       "      <td>1179</td>\n",
       "    </tr>\n",
       "    <tr>\n",
       "      <th>Aug</th>\n",
       "      <td>1719</td>\n",
       "      <td>1626</td>\n",
       "      <td>1272</td>\n",
       "    </tr>\n",
       "    <tr>\n",
       "      <th>Sep</th>\n",
       "      <td>1438</td>\n",
       "      <td>1375</td>\n",
       "      <td>551</td>\n",
       "    </tr>\n",
       "    <tr>\n",
       "      <th>Oct</th>\n",
       "      <td>859</td>\n",
       "      <td>1392</td>\n",
       "      <td>755</td>\n",
       "    </tr>\n",
       "    <tr>\n",
       "      <th>Nov</th>\n",
       "      <td>1847</td>\n",
       "      <td>1849</td>\n",
       "      <td>1612</td>\n",
       "    </tr>\n",
       "    <tr>\n",
       "      <th>Dec</th>\n",
       "      <td>1826</td>\n",
       "      <td>1978</td>\n",
       "      <td>1875</td>\n",
       "    </tr>\n",
       "  </tbody>\n",
       "</table>\n",
       "</div>"
      ],
      "text/plain": [
       "     2016年  2017年  2018年\n",
       "Jan   1692   1027    993\n",
       "Feb    799    966   1599\n",
       "Mar    860   1787   1174\n",
       "Apr    933   1107   1087\n",
       "May   1225   1571   1331\n",
       "Jun   1811   1230    904\n",
       "Jul    624   1305   1179\n",
       "Aug   1719   1626   1272\n",
       "Sep   1438   1375    551\n",
       "Oct    859   1392    755\n",
       "Nov   1847   1849   1612\n",
       "Dec   1826   1978   1875"
      ]
     },
     "execution_count": 28,
     "metadata": {},
     "output_type": "execute_result"
    }
   ],
   "source": [
    "import pandas as pd\n",
    "import numpy as np\n",
    "\n",
    "np.random.seed(2)\n",
    "\n",
    "datetime = ['Jan','Feb','Mar','Apr','May','Jun','Jul','Aug','Sep','Oct','Nov','Dec']\n",
    "data = pd.DataFrame(np.random.randint(low=500,high=2000,size=(12,3),dtype=np.int32),index=datetime,columns=['2016年','2017年','2018年'])\n",
    "data"
   ]
  },
  {
   "cell_type": "code",
   "execution_count": 29,
   "metadata": {},
   "outputs": [
    {
     "data": {
      "image/png": "[encoded data removed]",
      "text/plain": [
       "<matplotlib.figure.Figure at 0x7f579c7a25f8>"
      ]
     },
     "metadata": {},
     "output_type": "display_data"
    }
   ],
   "source": [
    "import matplotlib.pyplot as plt\n",
    "plt.rcParams['font.sans-serif'] = [u'SimHei'] # 用来正常显示中文标签\n",
    "\n",
    "data.plot()\n",
    "plt.show()"
   ]
  },
  {
   "cell_type": "markdown",
   "metadata": {},
   "source": [
    "## 统计量分析"
   ]
  },
  {
   "cell_type": "markdown",
   "metadata": {},
   "source": [
    "用**统计指标**对**定量数据**进行**描述统计**，常从**集中趋势**和**离中趋势**两个方面进行分析"
   ]
  },
  {
   "cell_type": "markdown",
   "metadata": {},
   "source": [
    "### 集中趋势"
   ]
  },
  {
   "cell_type": "markdown",
   "metadata": {},
   "source": [
    "平均水平的指标是对个体集中趋势的度量，使用最广泛的是均值和中位数。"
   ]
  },
  {
   "cell_type": "markdown",
   "metadata": {},
   "source": [
    "#### 均值"
   ]
  },
  {
   "cell_type": "markdown",
   "metadata": {},
   "source": [
    "均值是所有数据的平均值。有时为了反映不同成分所占的不同重要程度，为数据集中的每一个$x_{i}$赋予$w_{i}$,就可以得到加权均值的计算公式。\n",
    "\n",
    "作为一个统计量，均值的主要问题是对**极端值**很敏感。如果数据中存在极端值或者数据是偏态分布的，那么均值就不能很好地度量数据的集中趋势。为了消除少数极端值的影响，可以使用截断均值或者中位数来度量数据的集中趋势。\n",
    "\n",
    "**截断均值**是去掉高、低极端值之后的平均数。"
   ]
  },
  {
   "cell_type": "markdown",
   "metadata": {},
   "source": [
    "#### 中位数"
   ]
  },
  {
   "cell_type": "markdown",
   "metadata": {},
   "source": [
    "中位数是将一组观察值从小到大的顺序排列，位于中间的那个数。即在全部数据中，小于和大于中位数的数据个数相等。"
   ]
  },
  {
   "cell_type": "markdown",
   "metadata": {},
   "source": [
    "当数据个数为奇数时,中位数为$data[\\frac {n+1}{2}]$"
   ]
  },
  {
   "cell_type": "code",
   "execution_count": 30,
   "metadata": {},
   "outputs": [
    {
     "data": {
      "text/plain": [
       "array([-0.87810789, -0.15643417,  0.25657045, -0.98877905, -0.33882197,\n",
       "       -0.23618403, -0.63765501, -1.18761229, -1.42121723])"
      ]
     },
     "execution_count": 30,
     "metadata": {},
     "output_type": "execute_result"
    }
   ],
   "source": [
    "import numpy as np\n",
    "\n",
    "data = np.random.randn(9)\n",
    "data"
   ]
  },
  {
   "cell_type": "code",
   "execution_count": 31,
   "metadata": {},
   "outputs": [
    {
     "data": {
      "text/plain": [
       "-0.33882196602919634"
      ]
     },
     "execution_count": 31,
     "metadata": {},
     "output_type": "execute_result"
    }
   ],
   "source": [
    "M = data[int((len(data)+1)/2-1)] # index 从0开始\n",
    "M"
   ]
  },
  {
   "cell_type": "markdown",
   "metadata": {},
   "source": [
    "当数据个数为偶数时，中位数为$\\frac {data[\\frac {n}{2}] + data[\\frac {n+1}{2}]}{2}$"
   ]
  },
  {
   "cell_type": "code",
   "execution_count": 32,
   "metadata": {},
   "outputs": [
    {
     "data": {
      "text/plain": [
       "array([ -1.53495196e-01,  -2.69056960e-01,   2.23136679e+00,\n",
       "        -2.43476758e+00,   1.12726505e-01,   3.70444537e-01,\n",
       "         1.35963386e+00,   5.01857207e-01,  -8.44213704e-01,\n",
       "         9.76147160e-06])"
      ]
     },
     "execution_count": 32,
     "metadata": {},
     "output_type": "execute_result"
    }
   ],
   "source": [
    "data = np.random.randn(10)\n",
    "data"
   ]
  },
  {
   "cell_type": "code",
   "execution_count": 33,
   "metadata": {},
   "outputs": [
    {
     "data": {
      "text/plain": [
       "0.22545300963329784"
      ]
     },
     "execution_count": 33,
     "metadata": {},
     "output_type": "execute_result"
    }
   ],
   "source": [
    "M = data[int((len(data)/2)-1)] + data[int((len(data)+1)/2-1)]\n",
    "M"
   ]
  },
  {
   "cell_type": "markdown",
   "metadata": {},
   "source": [
    "#### 众数"
   ]
  },
  {
   "cell_type": "markdown",
   "metadata": {},
   "source": [
    "众数是指数据集中出现最频繁的值。众数并不经常用来度量**定量数据**的中心位置，更适合于**定性数据**。因此众数一般用于离散型变量而非**连续型变量**。"
   ]
  },
  {
   "cell_type": "code",
   "execution_count": 34,
   "metadata": {},
   "outputs": [
    {
     "data": {
      "text/plain": [
       "Counter({1: 1, 2: 3, 5: 2, 6: 3, 8: 1, 9: 1})"
      ]
     },
     "execution_count": 34,
     "metadata": {},
     "output_type": "execute_result"
    }
   ],
   "source": [
    "from collections import Counter\n",
    "\n",
    "data = [1,5,6,2,2,5,6,6,8,9,2]\n",
    "result = Counter(data)\n",
    "result"
   ]
  },
  {
   "cell_type": "code",
   "execution_count": 35,
   "metadata": {},
   "outputs": [
    {
     "data": {
      "text/plain": [
       "[(6, 3), (2, 3)]"
      ]
     },
     "execution_count": 35,
     "metadata": {},
     "output_type": "execute_result"
    }
   ],
   "source": [
    "result.most_common(2)"
   ]
  },
  {
   "cell_type": "markdown",
   "metadata": {},
   "source": [
    "### 离中趋势"
   ]
  },
  {
   "cell_type": "markdown",
   "metadata": {},
   "source": [
    "反映变异程度的指标则是对个体离开平均水平的度量，使用最广泛的是标准差(方差)，四分位间距。"
   ]
  },
  {
   "cell_type": "markdown",
   "metadata": {},
   "source": [
    "#### 极差"
   ]
  },
  {
   "cell_type": "markdown",
   "metadata": {},
   "source": [
    "极差就是最大值减去最小值。极差对数据集的极端值非常敏感，但它忽略了位于最大值与最小值之间的数据的分布情况。"
   ]
  },
  {
   "cell_type": "code",
   "execution_count": 36,
   "metadata": {},
   "outputs": [
    {
     "data": {
      "text/plain": [
       "8"
      ]
     },
     "execution_count": 36,
     "metadata": {},
     "output_type": "execute_result"
    }
   ],
   "source": [
    "Max = max(data)\n",
    "Min = min(data)\n",
    "Range = Max - Min\n",
    "Range"
   ]
  },
  {
   "cell_type": "markdown",
   "metadata": {},
   "source": [
    "#### 标准差"
   ]
  },
  {
   "cell_type": "markdown",
   "metadata": {},
   "source": [
    "标准差度量数据偏离均值的程度，计算公式:\n",
    "$$ s = \\sqrt [2]{\\frac {\\sum (x_{i}-\\bar {x})^{2}}{n}} $$"
   ]
  },
  {
   "cell_type": "markdown",
   "metadata": {},
   "source": [
    "#### 变异系数"
   ]
  },
  {
   "cell_type": "markdown",
   "metadata": {},
   "source": [
    "变异系数度量标准差相对于均值的离中趋势，计算公式:\n",
    "$$ CV = \\frac {s}{\\bar {x}} * 100 \\% $$\n",
    "变异系数主要用来比较两个或多个具有不同单位或不同波动幅度的数据集的离中趋势。"
   ]
  },
  {
   "cell_type": "markdown",
   "metadata": {},
   "source": [
    "#### 四分位数间距"
   ]
  },
  {
   "cell_type": "markdown",
   "metadata": {},
   "source": [
    "四分位数包括上四分位数和下四分位数。  \n",
    "将所有数值由小到大排列并分成四等份，处于第一个分割点位置的数值是下四分位数，处于第二个分割点位置(中间位置)的数值是中位数，处于第三个分割点位置的是上四分位数。  \n",
    "**四分位数间距**，是上四分位数$Q_{U}$与下四分位数$Q_{L}$之差，其间包含了全部观察值的一半。其值越大，说明**数据的变异程度**越大；反之，越小。"
   ]
  },
  {
   "cell_type": "markdown",
   "metadata": {},
   "source": [
    "DataFrame对象的describe()方法已经可以给出一些基本的统计量，基于此，可以衍生出我们所需要的统计量。  \n",
    "基于餐饮销量数据进行统计量分析"
   ]
  },
  {
   "cell_type": "code",
   "execution_count": 37,
   "metadata": {},
   "outputs": [
    {
     "data": {
      "text/html": [
       "<div>\n",
       "<style>\n",
       "    .dataframe thead tr:only-child th {\n",
       "        text-align: right;\n",
       "    }\n",
       "\n",
       "    .dataframe thead th {\n",
       "        text-align: left;\n",
       "    }\n",
       "\n",
       "    .dataframe tbody tr th {\n",
       "        vertical-align: top;\n",
       "    }\n",
       "</style>\n",
       "<table border=\"1\" class=\"dataframe\">\n",
       "  <thead>\n",
       "    <tr style=\"text-align: right;\">\n",
       "      <th></th>\n",
       "      <th>销量</th>\n",
       "    </tr>\n",
       "  </thead>\n",
       "  <tbody>\n",
       "    <tr>\n",
       "      <th>count</th>\n",
       "      <td>195.000000</td>\n",
       "    </tr>\n",
       "    <tr>\n",
       "      <th>mean</th>\n",
       "      <td>2744.595385</td>\n",
       "    </tr>\n",
       "    <tr>\n",
       "      <th>std</th>\n",
       "      <td>424.739407</td>\n",
       "    </tr>\n",
       "    <tr>\n",
       "      <th>min</th>\n",
       "      <td>865.000000</td>\n",
       "    </tr>\n",
       "    <tr>\n",
       "      <th>25%</th>\n",
       "      <td>2460.600000</td>\n",
       "    </tr>\n",
       "    <tr>\n",
       "      <th>50%</th>\n",
       "      <td>2655.900000</td>\n",
       "    </tr>\n",
       "    <tr>\n",
       "      <th>75%</th>\n",
       "      <td>3023.200000</td>\n",
       "    </tr>\n",
       "    <tr>\n",
       "      <th>max</th>\n",
       "      <td>4065.200000</td>\n",
       "    </tr>\n",
       "    <tr>\n",
       "      <th>range</th>\n",
       "      <td>3200.200000</td>\n",
       "    </tr>\n",
       "    <tr>\n",
       "      <th>var</th>\n",
       "      <td>0.154755</td>\n",
       "    </tr>\n",
       "    <tr>\n",
       "      <th>dis</th>\n",
       "      <td>562.600000</td>\n",
       "    </tr>\n",
       "  </tbody>\n",
       "</table>\n",
       "</div>"
      ],
      "text/plain": [
       "                销量\n",
       "count   195.000000\n",
       "mean   2744.595385\n",
       "std     424.739407\n",
       "min     865.000000\n",
       "25%    2460.600000\n",
       "50%    2655.900000\n",
       "75%    3023.200000\n",
       "max    4065.200000\n",
       "range  3200.200000\n",
       "var       0.154755\n",
       "dis     562.600000"
      ]
     },
     "execution_count": 37,
     "metadata": {},
     "output_type": "execute_result"
    }
   ],
   "source": [
    "import pandas as pd\n",
    "\n",
    "catering_sale = './data/catering_sale.xls' # 餐饮数据\n",
    "data = pd.read_excel(catering_sale,index_col=u'日期') # 读取数据，指定'日期'列为索引列\n",
    "data = data[(data[u'销量']>400)&(data[u'销量']<5000)] # 过滤异常数据\n",
    "statistics = data.describe() # 保存基本统计量\n",
    "\n",
    "# 计算衍生统计量\n",
    "statistics.loc['range'] = statistics.loc['max'] - statistics.loc['min'] # 极差\n",
    "statistics.loc['var'] = statistics.loc['std']/statistics.loc['mean'] # 变异系数\n",
    "statistics.loc['dis'] = statistics.loc['75%'] - statistics.loc['25%'] # 四分位数间距\n",
    "statistics"
   ]
  },
  {
   "cell_type": "markdown",
   "metadata": {},
   "source": [
    "## 周期性分析"
   ]
  },
  {
   "cell_type": "markdown",
   "metadata": {},
   "source": [
    "周期性分析是探索某个变量是否随着时间变化而呈现出某种周期变化趋势。时间尺度相对较长的周期性趋势有年度周期性趋势，季节性周期趋势，相对较短的有月度周期性趋势，周度周期性趋势，甚至更短的天、小时周期性趋势。一般通过画时序图观察起来比较方便。"
   ]
  },
  {
   "cell_type": "markdown",
   "metadata": {},
   "source": [
    "例如，要对某单位用电量进行预测，可以先分析该用电单位日用电量的时序图来直观地估计其用电量变化趋势。"
   ]
  },
  {
   "cell_type": "markdown",
   "metadata": {},
   "source": [
    "下面我们来用正弦曲线来构造一些用电量的伪数据。"
   ]
  },
  {
   "cell_type": "code",
   "execution_count": 38,
   "metadata": {},
   "outputs": [
    {
     "data": {
      "image/png": "[encoded data removed]",
      "text/plain": [
       "<matplotlib.figure.Figure at 0x7f579cae6fd0>"
      ]
     },
     "metadata": {},
     "output_type": "display_data"
    }
   ],
   "source": [
    "import numpy as np\n",
    "import pandas as pd\n",
    "import matplotlib.pyplot as plt\n",
    "plt.rcParams['font.sans-serif'] = [u'SimHei'] # 用来正常显示中文标签\n",
    "\n",
    "base = np.arange(0,2*np.pi,0.1) # 先构建一个一周0~2π的数据点,每个数据点间隔0.1,共63个数据点\n",
    "base = np.array([base+i*2*np.pi for i in range(1,7)]) # 将数据扩展到6个周期\n",
    "base = base.flatten() # 将数据展开成一维\n",
    "base = base[:365] # 取一年的数据\n",
    "base = (np.sin(base)+2)*1000 \n",
    "datetime = pd.date_range('2018-01-01',periods=365)\n",
    "\n",
    "# 创建某用电单位2018年每日用电量数据\n",
    "data = pd.DataFrame(base,index=datetime,columns=['用电量'])\n",
    "# 画该用电单位2018年的时序图\n",
    "data.plot(x=datetime)\n",
    "plt.xlabel(u'2018年日用电量时序图')\n",
    "plt.ylabel(u'用电量')\n",
    "plt.xticks(rotation=90)\n",
    "plt.show()"
   ]
  },
  {
   "cell_type": "markdown",
   "metadata": {},
   "source": [
    "## 贡献度分析:帕累托图"
   ]
  },
  {
   "cell_type": "markdown",
   "metadata": {},
   "source": [
    "贡献度分析又称**帕累托分析**，它的原理是**帕累托法则**，又称**20/80**定律。同样的投入放在不同地方会产生不同的收益。例如，对一个公司来讲，80%的利润常常来自于20%最畅销的产品，而其他80%的产品只产生了20%的利润。"
   ]
  },
  {
   "cell_type": "markdown",
   "metadata": {},
   "source": [
    "对餐饮企业来讲，应用**贡献度分析**可以重点改善某菜系盈利最高的前80%的菜品，或者重点发展综合影响最高的80%部门。这种结果可以通过**帕累托图**直观地呈现出来。"
   ]
  },
  {
   "cell_type": "markdown",
   "metadata": {},
   "source": [
    "下表是餐饮系统对应的菜品盈利数据"
   ]
  },
  {
   "cell_type": "code",
   "execution_count": 39,
   "metadata": {},
   "outputs": [
    {
     "data": {
      "text/html": [
       "<div>\n",
       "<style>\n",
       "    .dataframe thead tr:only-child th {\n",
       "        text-align: right;\n",
       "    }\n",
       "\n",
       "    .dataframe thead th {\n",
       "        text-align: left;\n",
       "    }\n",
       "\n",
       "    .dataframe tbody tr th {\n",
       "        vertical-align: top;\n",
       "    }\n",
       "</style>\n",
       "<table border=\"1\" class=\"dataframe\">\n",
       "  <thead>\n",
       "    <tr style=\"text-align: right;\">\n",
       "      <th></th>\n",
       "      <th>菜品ID</th>\n",
       "      <th>盈利</th>\n",
       "    </tr>\n",
       "    <tr>\n",
       "      <th>菜品名</th>\n",
       "      <th></th>\n",
       "      <th></th>\n",
       "    </tr>\n",
       "  </thead>\n",
       "  <tbody>\n",
       "    <tr>\n",
       "      <th>A1</th>\n",
       "      <td>17148</td>\n",
       "      <td>9173</td>\n",
       "    </tr>\n",
       "    <tr>\n",
       "      <th>A2</th>\n",
       "      <td>17154</td>\n",
       "      <td>5729</td>\n",
       "    </tr>\n",
       "    <tr>\n",
       "      <th>A3</th>\n",
       "      <td>109</td>\n",
       "      <td>4811</td>\n",
       "    </tr>\n",
       "    <tr>\n",
       "      <th>A4</th>\n",
       "      <td>117</td>\n",
       "      <td>3594</td>\n",
       "    </tr>\n",
       "    <tr>\n",
       "      <th>A5</th>\n",
       "      <td>17151</td>\n",
       "      <td>3195</td>\n",
       "    </tr>\n",
       "    <tr>\n",
       "      <th>A6</th>\n",
       "      <td>14</td>\n",
       "      <td>3026</td>\n",
       "    </tr>\n",
       "    <tr>\n",
       "      <th>A7</th>\n",
       "      <td>2868</td>\n",
       "      <td>2378</td>\n",
       "    </tr>\n",
       "    <tr>\n",
       "      <th>A8</th>\n",
       "      <td>397</td>\n",
       "      <td>1970</td>\n",
       "    </tr>\n",
       "    <tr>\n",
       "      <th>A9</th>\n",
       "      <td>88</td>\n",
       "      <td>1877</td>\n",
       "    </tr>\n",
       "    <tr>\n",
       "      <th>A10</th>\n",
       "      <td>426</td>\n",
       "      <td>1782</td>\n",
       "    </tr>\n",
       "  </tbody>\n",
       "</table>\n",
       "</div>"
      ],
      "text/plain": [
       "      菜品ID    盈利\n",
       "菜品名             \n",
       "A1   17148  9173\n",
       "A2   17154  5729\n",
       "A3     109  4811\n",
       "A4     117  3594\n",
       "A5   17151  3195\n",
       "A6      14  3026\n",
       "A7    2868  2378\n",
       "A8     397  1970\n",
       "A9      88  1877\n",
       "A10    426  1782"
      ]
     },
     "execution_count": 39,
     "metadata": {},
     "output_type": "execute_result"
    }
   ],
   "source": [
    "import pandas as pd\n",
    "import matplotlib.pyplot as plt\n",
    "plt.rcParams['font.sans-serif'] = [u'SimHei'] # 用来正常显示中文标签\n",
    "\n",
    "# 读取盈利数据\n",
    "dish_profit = './data/catering_dish_profit.xls'\n",
    "data = pd.read_excel(dish_profit,index_col=u'菜品名')\n",
    "data"
   ]
  },
  {
   "cell_type": "code",
   "execution_count": 40,
   "metadata": {},
   "outputs": [
    {
     "data": {
      "image/png": "[encoded data removed]",
      "text/plain": [
       "<matplotlib.figure.Figure at 0x7f579ca0e780>"
      ]
     },
     "metadata": {},
     "output_type": "display_data"
    }
   ],
   "source": [
    "data.sort_values(by=u'盈利',axis=0,ascending=False) # 将数据按照列'盈利'倒序排，便于画帕累托分割点\n",
    "plt.figure()\n",
    "data[u'盈利'].plot(kind='bar') # 画条形图\n",
    "plt.ylabel(u'盈利(元)') # 纵轴名\n",
    "p = 1.0*data[u'盈利'].cumsum()/data[u'盈利'].sum() # 各个累计和占总体的比例\n",
    "p.plot(color='r',kind='line',secondary_y=True,style='-o',linewidth=2) # 折线图,secondary_y=True设置第二个y轴，位于右侧\n",
    "plt.ylabel(u'盈利(比例)') # 右侧纵轴名\n",
    "for i in range(len(p)) :\n",
    "    if p[i] >= 0.70: # 标记出盈利比例超过70%的所有累计和的点，这些便是不同比例的帕累托点\n",
    "        plt.annotate(format(p[i],'.4%'),xy=(i,p[i]),xytext=(i*0.9,p[i]*0.9),arrowprops=dict(arrowstyle='->',connectionstyle='arc3,rad=.2'))\n",
    "plt.title(u'帕累托图')\n",
    "plt.show()"
   ]
  },
  {
   "cell_type": "markdown",
   "metadata": {},
   "source": [
    "## 相关性分析"
   ]
  },
  {
   "cell_type": "markdown",
   "metadata": {},
   "source": [
    "分析**连续变量**之间**线性相关程度**的强弱，并用适当的统计指标表示出来的过程称为相关性分析。线性相关程度强，就可以试着构造线性方程来拟合关系。"
   ]
  },
  {
   "cell_type": "markdown",
   "metadata": {
    "collapsed": true
   },
   "source": [
    "### 直接绘制散点图"
   ]
  },
  {
   "cell_type": "markdown",
   "metadata": {},
   "source": [
    "判断两个变量是否具有线性相关关系的最直观的方法是直接绘制散点图"
   ]
  },
  {
   "cell_type": "markdown",
   "metadata": {},
   "source": [
    "构造伪数据"
   ]
  },
  {
   "cell_type": "code",
   "execution_count": 41,
   "metadata": {},
   "outputs": [
    {
     "data": {
      "image/png": "[encoded data removed]",
      "text/plain": [
       "<matplotlib.figure.Figure at 0x7f579caab780>"
      ]
     },
     "metadata": {},
     "output_type": "display_data"
    }
   ],
   "source": [
    "import matplotlib.pyplot as plt\n",
    "plt.rcParams['font.sans-serif'] = [u'SimHei'] # 用来正常显示中文标签\n",
    "import numpy as np \n",
    "np.random.seed(2)\n",
    "\n",
    "variable = np.arange(0,5,0.5) # 自变量x的变化范围\n",
    "y_all_positive_linear = 3*variable + 1 # 完全正线性相关\n",
    "y_all_negative_linear = -3*variable + 1 # 完全负线性相关\n",
    "y_positive_linear = 3*variable + 1 + np.random.randn(len(variable))  # 正线性相关，加了一些随机噪声\n",
    "y_negative_linear = -3*variable +1 + np.random.randn(len(variable))\n",
    "y_none_linear = -3*(variable-1)*(variable-1) + 1 # 非线性相关\n",
    "y_none_related = np.random.randn(len(variable))\n",
    "\n",
    "# 画图\n",
    "fig = plt.figure()\n",
    "fig.suptitle('相关关系的图示',x=0.5,y=0.009) # 整个图的标题\n",
    "\n",
    "ax1 = plt.subplot(231)\n",
    "plt.scatter(variable,y_all_positive_linear,c='c')\n",
    "plt.plot(variable,y_all_positive_linear,c='g') # 画折线图\n",
    "ax1.set_title('完全正线性相关')\n",
    "plt.tight_layout(1) # 设置子图间距\n",
    "\n",
    "ax2 = plt.subplot(232)\n",
    "plt.scatter(variable,y_all_negative_linear,c='c')\n",
    "plt.plot(variable,y_all_negative_linear,c='g')\n",
    "ax2.set_title('完全负线性相关')\n",
    "plt.tight_layout(1) \n",
    "\n",
    "ax3 = plt.subplot(233)\n",
    "plt.scatter(variable,y_none_linear,c='c')\n",
    "plt.plot(variable,y_none_linear,c='g')\n",
    "ax3.set_title('非线性相关')\n",
    "plt.tight_layout(1) \n",
    "\n",
    "ax4 = plt.subplot(234)\n",
    "plt.scatter(variable,y_positive_linear,c='c')\n",
    "plt.plot(variable,y_all_positive_linear,c='g')\n",
    "ax4.set_title('正线性相关')\n",
    "plt.tight_layout(1) \n",
    "\n",
    "ax5 = plt.subplot(235)\n",
    "plt.scatter(variable,y_negative_linear,c='c')\n",
    "plt.plot(variable,y_all_negative_linear,c='g')\n",
    "ax5.set_title('负线性相关')\n",
    "plt.tight_layout(1) \n",
    "\n",
    "ax6 = plt.subplot(236)\n",
    "plt.scatter(variable,y_none_related,c='c')\n",
    "ax6.set_title('不相关')\n",
    "plt.tight_layout(1) \n",
    "\n",
    "plt.show()"
   ]
  },
  {
   "cell_type": "markdown",
   "metadata": {},
   "source": [
    "### 绘制散点图矩阵"
   ]
  },
  {
   "cell_type": "markdown",
   "metadata": {},
   "source": [
    "需要**同时考察多个变量间的相关关系**时，一一绘制它们之间的散点图是十分麻烦的。此时可以利用**散点图矩阵**同时绘制各变量间的散点图，从而快速发现**多个变量间的主要相关性**，这在进行**多元线性回归**时显得尤为重要。"
   ]
  },
  {
   "cell_type": "markdown",
   "metadata": {},
   "source": [
    "构造伪数据"
   ]
  },
  {
   "cell_type": "code",
   "execution_count": 42,
   "metadata": {},
   "outputs": [
    {
     "data": {
      "text/html": [
       "<div>\n",
       "<style>\n",
       "    .dataframe thead tr:only-child th {\n",
       "        text-align: right;\n",
       "    }\n",
       "\n",
       "    .dataframe thead th {\n",
       "        text-align: left;\n",
       "    }\n",
       "\n",
       "    .dataframe tbody tr th {\n",
       "        vertical-align: top;\n",
       "    }\n",
       "</style>\n",
       "<table border=\"1\" class=\"dataframe\">\n",
       "  <thead>\n",
       "    <tr style=\"text-align: right;\">\n",
       "      <th></th>\n",
       "      <th>A</th>\n",
       "      <th>B</th>\n",
       "      <th>C</th>\n",
       "      <th>D</th>\n",
       "    </tr>\n",
       "  </thead>\n",
       "  <tbody>\n",
       "    <tr>\n",
       "      <th>0</th>\n",
       "      <td>1.000000</td>\n",
       "      <td>6.000000</td>\n",
       "      <td>-0.416758</td>\n",
       "      <td>5.110291</td>\n",
       "    </tr>\n",
       "    <tr>\n",
       "      <th>1</th>\n",
       "      <td>1.555556</td>\n",
       "      <td>6.308642</td>\n",
       "      <td>-0.056267</td>\n",
       "      <td>5.458442</td>\n",
       "    </tr>\n",
       "    <tr>\n",
       "      <th>2</th>\n",
       "      <td>2.111111</td>\n",
       "      <td>7.234568</td>\n",
       "      <td>-2.136196</td>\n",
       "      <td>5.008308</td>\n",
       "    </tr>\n",
       "    <tr>\n",
       "      <th>3</th>\n",
       "      <td>2.666667</td>\n",
       "      <td>8.777778</td>\n",
       "      <td>1.640271</td>\n",
       "      <td>4.776415</td>\n",
       "    </tr>\n",
       "    <tr>\n",
       "      <th>4</th>\n",
       "      <td>3.222222</td>\n",
       "      <td>10.938272</td>\n",
       "      <td>-1.793436</td>\n",
       "      <td>5.107812</td>\n",
       "    </tr>\n",
       "    <tr>\n",
       "      <th>5</th>\n",
       "      <td>3.777778</td>\n",
       "      <td>13.716049</td>\n",
       "      <td>-0.841747</td>\n",
       "      <td>4.880768</td>\n",
       "    </tr>\n",
       "    <tr>\n",
       "      <th>6</th>\n",
       "      <td>4.333333</td>\n",
       "      <td>17.111111</td>\n",
       "      <td>0.502881</td>\n",
       "      <td>4.996174</td>\n",
       "    </tr>\n",
       "    <tr>\n",
       "      <th>7</th>\n",
       "      <td>4.888889</td>\n",
       "      <td>21.123457</td>\n",
       "      <td>-1.245288</td>\n",
       "      <td>5.235000</td>\n",
       "    </tr>\n",
       "    <tr>\n",
       "      <th>8</th>\n",
       "      <td>5.444444</td>\n",
       "      <td>25.753086</td>\n",
       "      <td>-1.057952</td>\n",
       "      <td>4.850426</td>\n",
       "    </tr>\n",
       "    <tr>\n",
       "      <th>9</th>\n",
       "      <td>6.000000</td>\n",
       "      <td>31.000000</td>\n",
       "      <td>-0.909008</td>\n",
       "      <td>5.001805</td>\n",
       "    </tr>\n",
       "  </tbody>\n",
       "</table>\n",
       "</div>"
      ],
      "text/plain": [
       "          A          B         C         D\n",
       "0  1.000000   6.000000 -0.416758  5.110291\n",
       "1  1.555556   6.308642 -0.056267  5.458442\n",
       "2  2.111111   7.234568 -2.136196  5.008308\n",
       "3  2.666667   8.777778  1.640271  4.776415\n",
       "4  3.222222  10.938272 -1.793436  5.107812\n",
       "5  3.777778  13.716049 -0.841747  4.880768\n",
       "6  4.333333  17.111111  0.502881  4.996174\n",
       "7  4.888889  21.123457 -1.245288  5.235000\n",
       "8  5.444444  25.753086 -1.057952  4.850426\n",
       "9  6.000000  31.000000 -0.909008  5.001805"
      ]
     },
     "execution_count": 42,
     "metadata": {},
     "output_type": "execute_result"
    }
   ],
   "source": [
    "import matplotlib.pyplot as plt\n",
    "plt.rcParams['font.sans-serif'] = [u'SimHei'] # 用来正常显示中文标签\n",
    "import numpy as np \n",
    "np.random.seed(2)\n",
    "import pandas as pd\n",
    "\n",
    "variable = np.linspace(0,5,10)\n",
    "y1 = variable + 1\n",
    "y2 = variable*variable + 6 \n",
    "y3 = np.random.randn(len(variable))\n",
    "y4 = np.random.normal(loc=5,scale=0.2,size=(len(variable)))\n",
    "data = {'A':y1.tolist(),'B':y2.tolist(),'C':y3.tolist(),'D':y4.tolist()}\n",
    "\n",
    "data = pd.DataFrame(data)\n",
    "data"
   ]
  },
  {
   "cell_type": "markdown",
   "metadata": {},
   "source": [
    "画散点图矩阵"
   ]
  },
  {
   "cell_type": "code",
   "execution_count": 43,
   "metadata": {},
   "outputs": [
    {
     "data": {
      "image/png": "[encoded data removed]",
      "text/plain": [
       "<matplotlib.figure.Figure at 0x7f579ca0e630>"
      ]
     },
     "metadata": {},
     "output_type": "display_data"
    }
   ],
   "source": [
    "pd.plotting.scatter_matrix(data,diagonal='kde',c='r') # diagonal='kde' 对角线上是 核密度估计\n",
    "plt.show()"
   ]
  },
  {
   "cell_type": "code",
   "execution_count": 44,
   "metadata": {},
   "outputs": [
    {
     "data": {
      "image/png": "[encoded data removed]",
      "text/plain": [
       "<matplotlib.figure.Figure at 0x7f579c36f908>"
      ]
     },
     "metadata": {},
     "output_type": "display_data"
    }
   ],
   "source": [
    "pd.plotting.scatter_matrix(data,diagonal='hist',c='r') # diagonal='hist' 对角线上是 直方图\n",
    "plt.show()"
   ]
  },
  {
   "cell_type": "markdown",
   "metadata": {},
   "source": [
    "1. 矩阵的对角线是每个特征的直方图；\n",
    "2. 散点图矩阵是散点图的高维扩展，它从一定程度上克服了在平面上展示高维数据的困难，在展示多维数据的两两关系时有着不可替代的作用；"
   ]
  },
  {
   "cell_type": "markdown",
   "metadata": {},
   "source": [
    "### 计算相关系数"
   ]
  },
  {
   "cell_type": "markdown",
   "metadata": {},
   "source": [
    "为了更加准确地描述变量之间的**线性相关程度**，可以通过计算**相关系数**来进行相关分析。在二元变量的相关分析过程中比较常用的有$Pearson$相关系数、$Spearman$秩相关系数、判定系数。"
   ]
  },
  {
   "cell_type": "markdown",
   "metadata": {},
   "source": [
    "#### Pearson相关系数"
   ]
  },
  {
   "cell_type": "markdown",
   "metadata": {},
   "source": [
    "一般用于分析两个**连续性变量**之间的关系，要求连续变量的取值服从**正态分布**，计算公式如下:\n",
    "\n",
    "$$r=\\frac {\\sum _{i=1}^{n} (x_{i} - \\bar {x})(y_{i} - \\bar {y})}{\\sqrt{\\sum _{i=1}^{n} (x_{i} - \\bar {x})^{2} \\sum _{i=1}^{n}(y_{i} - \\bar {y})^{2}}}$$"
   ]
  },
  {
   "cell_type": "markdown",
   "metadata": {},
   "source": [
    "相关系数$r$的取值范围: $-1 \\leq r \\leq 1$  \n",
    "$$\\left\\{\\begin{matrix}\n",
    "r>0 \\mbox{为正相关,}r <0 \\mbox{为负相关}\\\\\n",
    "|r|=0 \\mbox{表示不存在线性关系}\\\\\n",
    "|r|=1 \\mbox{表示完全线性相关}\n",
    "\\end{matrix}\\right.$$  \n",
    "\n",
    "$0<|r|<1$表示存在不同程度线性相关:  \n",
    "$$\\left\\{\\begin{matrix}\n",
    "|r|\\leq 0.3 \\mbox{为不存在线性相关}\\\\\n",
    "0.3<|r|\\leq0.5 \\mbox{为低度线性相关}\\\\\n",
    "0.5<|r|\\leq0.8 \\mbox{为显著线性相关}\\\\\n",
    "|r|>0.8 \\mbox{为高度线性相关}\n",
    "\\end{matrix}\\right.$$"
   ]
  },
  {
   "cell_type": "markdown",
   "metadata": {},
   "source": [
    "#### Spearman秩相关系数(等级相关关系)"
   ]
  },
  {
   "cell_type": "markdown",
   "metadata": {},
   "source": [
    "该相关系数适用于获取以下类型变量的关联性:\n",
    "1. 不服从正态分布的变量\n",
    "2. 分类变量或等级变量  \n",
    "计算公式如下:\n",
    "$$r_{s}=1 - \\frac {6\\sum _{i=1}^{n}(R_{i} - Q_{i})^2}{n(n^{2}-1)}$$  \n",
    "\n",
    "对两个变量成对的取值分别按照从小到大(或从大到小)顺序编秩，$R_{i}$代表$x_{i}$的秩次，$Q_{i}$代表$y_{i}$的秩次，$R_{i}-Q_{i}$为$x_{i}$、$y_{i}$的秩次之差。"
   ]
  },
  {
   "cell_type": "markdown",
   "metadata": {},
   "source": [
    "下表给出一个变量$x(x_{1},x_{2},x_{3},...,x_{i},...,x_{n})$秩次的计算过程\n",
    "\n",
    "<center>变量$x$秩次计算过程</center>\n",
    "\n",
    "|$x_{i}$从小到大排序|从小到大排序时的位置|秩次$R_{i}$|\n",
    "|:-------------:|:---------------:|:--------:|\n",
    "|0.5|1|1|\n",
    "|0.8|2|2|\n",
    "|1.0|3|3|\n",
    "|1.2|4|（4+5）/2=4.5|\n",
    "|1.2|5|(4-5）)2=4.5|\n",
    "|2.3|6|6|\n",
    "|2.8|7|7|"
   ]
  },
  {
   "cell_type": "markdown",
   "metadata": {},
   "source": [
    "1. 因为一个变量的相同取值必须有相同的秩次，因此在计算过程中采用的秩次是排序后所在位置的平均值；\n",
    "2. 只要两个变量具有**严格单调的函数关系**，那么它们就是完全$Spearman$相关的，这与$Pearson$相关不同，$Pearson$相关只有在变量具有**线性关系**时才是完全相关的；"
   ]
  },
  {
   "cell_type": "markdown",
   "metadata": {},
   "source": [
    "#### T检验: Spearman 与 Pearson"
   ]
  },
  {
   "cell_type": "markdown",
   "metadata": {},
   "source": [
    "在实际应用计算中，上述两种相关系数都要对其进行假设检验，使用$t$检验方法检验其显著性水平以确定其相关程度。\n",
    "\n",
    "研究表名，在正态分布假定下，$Spearman$秩相关系数与$Pearson$相关系数在效率上是等价的；而对于连续数据，更适合于$Pearson$系数来进行分析。"
   ]
  },
  {
   "cell_type": "markdown",
   "metadata": {},
   "source": [
    "##### 何谓 t检验"
   ]
  },
  {
   "cell_type": "markdown",
   "metadata": {},
   "source": [
    "T检验，亦称**student t检验**（Student's t test），主要用于**样本含量较小（例如n < 30）**，**总体标准差σ未知**的**正态分布**。 T检验是用t分布理论来**推论差异发生的概率**，从而**比较两个平均数的差异**是否显著。它与**f检验**、**卡方检验**并列。"
   ]
  },
  {
   "cell_type": "markdown",
   "metadata": {},
   "source": [
    "##### 适用条件"
   ]
  },
  {
   "cell_type": "markdown",
   "metadata": {},
   "source": [
    "1. 总体均值已知，总体标准差未知；\n",
    "2. 可以计算出样本均值和样本标准差；\n",
    "3. 样本分布服从于或近似服从于正态分布；"
   ]
  },
  {
   "cell_type": "markdown",
   "metadata": {},
   "source": [
    "##### t检验分类"
   ]
  },
  {
   "cell_type": "markdown",
   "metadata": {},
   "source": [
    "###### 单总体检验"
   ]
  },
  {
   "cell_type": "markdown",
   "metadata": {},
   "source": [
    "**单总体t检验是检验一个样本平均数与一个已知的总体平均数的差异是否显著**。当总体分布是正态分布，如总体标准差未知且样本容量小于30，那么样本平均数与总体平均数的**离差统计量**呈t分布。\n",
    "\n",
    "单总体t检验统计量为:\n",
    "$$ t = \\frac {\\bar {x} - \\mu}{\\frac {\\sigma _{x}}{\\sqrt {n-1}}} $$\n",
    "\n",
    "其中,$\\bar{x}$ 为样本均值，$n$为样本的个数，$\\sigma_{x}$为样本标准差，而分母总体为 样本标准偏差$/\\sqrt{n}$,样本标准偏差为$s=\\sqrt{\\frac{\\sum_{i=1}{n}(x_{i} - \\bar{x})^{2}}{n-1}}$ 。\n",
    "\n",
    "该统计量$t$的零假设:$\\mu=\\mu_{0}$为真的条件下，统计量$t$服从自由度为$n-1$的$t$分布。"
   ]
  },
  {
   "cell_type": "markdown",
   "metadata": {},
   "source": [
    "###### 双总体检验"
   ]
  },
  {
   "cell_type": "markdown",
   "metadata": {},
   "source": [
    "**双总体t检验是检验两个样本平均数与其各自所代表的总体的差异是否显著**。\n",
    "\n",
    "双总体t检验又分为两种情况:\n",
    "1. 独立样本t检验  \n",
    "用于独立样本:各实验处理组之间毫无相关存在，该检验用于检验两组非相关样本被试所获得数据的差异性;\n",
    "\n",
    "2. 配对样本t检验  \n",
    "用于相关样本：用于检验匹配而成的两组被试获得的数据或同组被试在不同条件下所获得的数据的差异性;"
   ]
  },
  {
   "cell_type": "markdown",
   "metadata": {},
   "source": [
    "独立样本t检验的统计量\n",
    "\n",
    "$$ t = \\frac{\\bar{x}_{1} - \\bar{x}_{2}}{\\sqrt{\\frac{(n_{1} - 1)S_{1}^{2} + (n_{2} - 1)S_{2}^{2}}{n_{1} + n_{2} - 2}(\\frac{1}{n_{1}} + \\frac{1}{n_{2}})}} $$\n",
    "\n",
    "$S_{1}^{2}$和$S_{2}^{2}$为样本方差，$n_{1}$和$n_{2}$为样本个数。\n",
    "\n",
    "该统计量$t$的零假设:$\\mu_{1}=\\mu_{2}$为真的条件下，统计量服从自由度为$n_{1}+n_{2}-1$的$t$分布。"
   ]
  },
  {
   "cell_type": "markdown",
   "metadata": {},
   "source": [
    "配对样本t检验的统计量\n",
    "\n",
    "$$ t = \\frac{\\bar{D} - \\mu_{0}}{s_{d}/\\sqrt{n}} $$\n",
    "\n",
    "其中$\\bar{D}$为两个样本$x_{i}$,$y_{i}$对应值之差的平均值，而 $s_{d}=\\sqrt {\\frac{\\sum_{i=1}^{n}(d_{i} - \\bar{d})^{2}}{n-1}}$为两个样本(配对样本)对应值之差的标准偏差。 **$\\mu_{0}$是两个样本差值序列的均值，事先已知**。\n",
    "\n",
    "配对样本t检验是单样本t检验的特例。配对t检验有多种情况：\n",
    "1. 配对的两个受试对象分别接受两种不同的处理；\n",
    "2. 同一受试对象接受两种不同的处理；\n",
    "3. 同一受试对象处理前后的结果进行比较（即自身配对）；\n",
    "4. 同一对象的两个部位给予不同的处理；\n",
    "\n",
    "该统计量$t$的零假设:两个样本差值序列的均值$\\mu$ = $\\mu_{0}$ 为真的条件下服从自由度为$n-1$的$t$分布"
   ]
  },
  {
   "cell_type": "markdown",
   "metadata": {
    "collapsed": true
   },
   "source": [
    "#### 假设检验的基本流程"
   ]
  },
  {
   "cell_type": "markdown",
   "metadata": {},
   "source": [
    "1. 问题是什么？  \n",
    "针对该问题做出两个相反的假设:零假设(原假设)$H_{0$}和备择假设$H_{1}$\n",
    "\n",
    "2. 证据是什么？  \n",
    "根据中心极限定理，合理且足够多的样本可以代表总体。证据便是，在零假设成立的前提下，根据样本数据计算出样本观察结果出现的概率p值(即$p\\_value$)\n",
    "\n",
    "3. 判断标准是什么？  \n",
    "判断标准，又称决策标准，即显著性水平$α$,即如果p值$\\leq α$ ，那么零假设不成立，拒绝接受;只有p值$\\geq α$，零假设成立，才接受零假设。\n",
    "\n",
    "4. 做出结论  \n",
    "如果p值$\\leq α$ ，那么零假设不成立，拒绝接受，$α$一般取0.01,0.05,0.1"
   ]
  },
  {
   "cell_type": "markdown",
   "metadata": {},
   "source": [
    "#### t检验Pearson相关系数"
   ]
  },
  {
   "cell_type": "markdown",
   "metadata": {},
   "source": [
    "1. 我们构造一批伪数据，这批数据满足$y=3x+1$，我们通过先构造$x$来构造$y$，并且在构造$y$时加上一些随机噪声来使数据更真实,记作$y_{1}$;\n",
    "2. 通过计算$x$序列与$y$序列的$Pearson$相关系数来确定$x$与$y$之间是否存在线性相关性;\n",
    "3. 通过scipy.stats.linregress()对$x$序列和$y$序列根据最小二乘法做线性回归分析，拟合出曲线$y=3x+1$;\n",
    "4. 依据拟合出的曲线$y=3x+1$，依据$x$序列求出$y$序列，记作$y_{2}$;\n",
    "5. 对$y_{1}$序列和$y_{2}$序列做**独立样本t检验**;\n",
    "6. 画出拟合出的曲线和$y_{1}$序列"
   ]
  },
  {
   "cell_type": "markdown",
   "metadata": {
    "collapsed": true
   },
   "source": [
    "一、构造一批伪数据"
   ]
  },
  {
   "cell_type": "code",
   "execution_count": 45,
   "metadata": {
    "collapsed": true
   },
   "outputs": [],
   "source": [
    "import numpy as np\n",
    "np.random.seed(3)\n",
    "import pandas as pd\n",
    "import matplotlib.pyplot as plt\n",
    "plt.rcParams['font.sans-serif'] = [u'SimHei'] # 用来正常显示中文标签\n",
    "\n",
    "variable = np.linspace(0,20,30) # 0-20内均等抽出30个数据点用作自变量x值\n",
    "y_1 = 3*variable + 1 + np.random.randn(30) # "
   ]
  },
  {
   "cell_type": "markdown",
   "metadata": {},
   "source": [
    "二、计算$x$序列与$y$序列的$Pearson$相关系数"
   ]
  },
  {
   "cell_type": "code",
   "execution_count": 46,
   "metadata": {},
   "outputs": [
    {
     "data": {
      "text/html": [
       "<div>\n",
       "<style>\n",
       "    .dataframe thead tr:only-child th {\n",
       "        text-align: right;\n",
       "    }\n",
       "\n",
       "    .dataframe thead th {\n",
       "        text-align: left;\n",
       "    }\n",
       "\n",
       "    .dataframe tbody tr th {\n",
       "        vertical-align: top;\n",
       "    }\n",
       "</style>\n",
       "<table border=\"1\" class=\"dataframe\">\n",
       "  <thead>\n",
       "    <tr style=\"text-align: right;\">\n",
       "      <th></th>\n",
       "      <th>x</th>\n",
       "      <th>y</th>\n",
       "    </tr>\n",
       "  </thead>\n",
       "  <tbody>\n",
       "    <tr>\n",
       "      <th>0</th>\n",
       "      <td>0.000000</td>\n",
       "      <td>2.788628</td>\n",
       "    </tr>\n",
       "    <tr>\n",
       "      <th>1</th>\n",
       "      <td>0.689655</td>\n",
       "      <td>3.505475</td>\n",
       "    </tr>\n",
       "    <tr>\n",
       "      <th>2</th>\n",
       "      <td>1.379310</td>\n",
       "      <td>5.234429</td>\n",
       "    </tr>\n",
       "    <tr>\n",
       "      <th>3</th>\n",
       "      <td>2.068966</td>\n",
       "      <td>5.343404</td>\n",
       "    </tr>\n",
       "    <tr>\n",
       "      <th>4</th>\n",
       "      <td>2.758621</td>\n",
       "      <td>8.998474</td>\n",
       "    </tr>\n",
       "    <tr>\n",
       "      <th>5</th>\n",
       "      <td>3.448276</td>\n",
       "      <td>10.990069</td>\n",
       "    </tr>\n",
       "    <tr>\n",
       "      <th>6</th>\n",
       "      <td>4.137931</td>\n",
       "      <td>13.331052</td>\n",
       "    </tr>\n",
       "    <tr>\n",
       "      <th>7</th>\n",
       "      <td>4.827586</td>\n",
       "      <td>14.855758</td>\n",
       "    </tr>\n",
       "    <tr>\n",
       "      <th>8</th>\n",
       "      <td>5.517241</td>\n",
       "      <td>17.507906</td>\n",
       "    </tr>\n",
       "    <tr>\n",
       "      <th>9</th>\n",
       "      <td>6.206897</td>\n",
       "      <td>19.143472</td>\n",
       "    </tr>\n",
       "    <tr>\n",
       "      <th>10</th>\n",
       "      <td>6.896552</td>\n",
       "      <td>20.375790</td>\n",
       "    </tr>\n",
       "    <tr>\n",
       "      <th>11</th>\n",
       "      <td>7.586207</td>\n",
       "      <td>24.643243</td>\n",
       "    </tr>\n",
       "    <tr>\n",
       "      <th>12</th>\n",
       "      <td>8.275862</td>\n",
       "      <td>26.708904</td>\n",
       "    </tr>\n",
       "    <tr>\n",
       "      <th>13</th>\n",
       "      <td>8.965517</td>\n",
       "      <td>29.606125</td>\n",
       "    </tr>\n",
       "    <tr>\n",
       "      <th>14</th>\n",
       "      <td>9.655172</td>\n",
       "      <td>30.015551</td>\n",
       "    </tr>\n",
       "    <tr>\n",
       "      <th>15</th>\n",
       "      <td>10.344828</td>\n",
       "      <td>31.629805</td>\n",
       "    </tr>\n",
       "    <tr>\n",
       "      <th>16</th>\n",
       "      <td>11.034483</td>\n",
       "      <td>33.558088</td>\n",
       "    </tr>\n",
       "    <tr>\n",
       "      <th>17</th>\n",
       "      <td>11.724138</td>\n",
       "      <td>34.625936</td>\n",
       "    </tr>\n",
       "    <tr>\n",
       "      <th>18</th>\n",
       "      <td>12.413793</td>\n",
       "      <td>39.223747</td>\n",
       "    </tr>\n",
       "    <tr>\n",
       "      <th>19</th>\n",
       "      <td>13.103448</td>\n",
       "      <td>39.209277</td>\n",
       "    </tr>\n",
       "    <tr>\n",
       "      <th>20</th>\n",
       "      <td>13.793103</td>\n",
       "      <td>41.194264</td>\n",
       "    </tr>\n",
       "    <tr>\n",
       "      <th>21</th>\n",
       "      <td>14.482759</td>\n",
       "      <td>44.242626</td>\n",
       "    </tr>\n",
       "    <tr>\n",
       "      <th>22</th>\n",
       "      <td>15.172414</td>\n",
       "      <td>48.003390</td>\n",
       "    </tr>\n",
       "    <tr>\n",
       "      <th>23</th>\n",
       "      <td>15.862069</td>\n",
       "      <td>48.822923</td>\n",
       "    </tr>\n",
       "    <tr>\n",
       "      <th>24</th>\n",
       "      <td>16.551724</td>\n",
       "      <td>49.631387</td>\n",
       "    </tr>\n",
       "    <tr>\n",
       "      <th>25</th>\n",
       "      <td>17.241379</td>\n",
       "      <td>52.011145</td>\n",
       "    </tr>\n",
       "    <tr>\n",
       "      <th>26</th>\n",
       "      <td>17.931034</td>\n",
       "      <td>55.418348</td>\n",
       "    </tr>\n",
       "    <tr>\n",
       "      <th>27</th>\n",
       "      <td>18.620690</td>\n",
       "      <td>56.701556</td>\n",
       "    </tr>\n",
       "    <tr>\n",
       "      <th>28</th>\n",
       "      <td>19.310345</td>\n",
       "      <td>58.162198</td>\n",
       "    </tr>\n",
       "    <tr>\n",
       "      <th>29</th>\n",
       "      <td>20.000000</td>\n",
       "      <td>60.769969</td>\n",
       "    </tr>\n",
       "  </tbody>\n",
       "</table>\n",
       "</div>"
      ],
      "text/plain": [
       "            x          y\n",
       "0    0.000000   2.788628\n",
       "1    0.689655   3.505475\n",
       "2    1.379310   5.234429\n",
       "3    2.068966   5.343404\n",
       "4    2.758621   8.998474\n",
       "5    3.448276  10.990069\n",
       "6    4.137931  13.331052\n",
       "7    4.827586  14.855758\n",
       "8    5.517241  17.507906\n",
       "9    6.206897  19.143472\n",
       "10   6.896552  20.375790\n",
       "11   7.586207  24.643243\n",
       "12   8.275862  26.708904\n",
       "13   8.965517  29.606125\n",
       "14   9.655172  30.015551\n",
       "15  10.344828  31.629805\n",
       "16  11.034483  33.558088\n",
       "17  11.724138  34.625936\n",
       "18  12.413793  39.223747\n",
       "19  13.103448  39.209277\n",
       "20  13.793103  41.194264\n",
       "21  14.482759  44.242626\n",
       "22  15.172414  48.003390\n",
       "23  15.862069  48.822923\n",
       "24  16.551724  49.631387\n",
       "25  17.241379  52.011145\n",
       "26  17.931034  55.418348\n",
       "27  18.620690  56.701556\n",
       "28  19.310345  58.162198\n",
       "29  20.000000  60.769969"
      ]
     },
     "execution_count": 46,
     "metadata": {},
     "output_type": "execute_result"
    }
   ],
   "source": [
    "data = {'x':variable,'y':y_1}\n",
    "data = pd.DataFrame(data)\n",
    "data"
   ]
  },
  {
   "cell_type": "code",
   "execution_count": 47,
   "metadata": {},
   "outputs": [
    {
     "data": {
      "text/html": [
       "<div>\n",
       "<style>\n",
       "    .dataframe thead tr:only-child th {\n",
       "        text-align: right;\n",
       "    }\n",
       "\n",
       "    .dataframe thead th {\n",
       "        text-align: left;\n",
       "    }\n",
       "\n",
       "    .dataframe tbody tr th {\n",
       "        vertical-align: top;\n",
       "    }\n",
       "</style>\n",
       "<table border=\"1\" class=\"dataframe\">\n",
       "  <thead>\n",
       "    <tr style=\"text-align: right;\">\n",
       "      <th></th>\n",
       "      <th>x</th>\n",
       "      <th>y</th>\n",
       "    </tr>\n",
       "  </thead>\n",
       "  <tbody>\n",
       "    <tr>\n",
       "      <th>x</th>\n",
       "      <td>1.000000</td>\n",
       "      <td>0.998714</td>\n",
       "    </tr>\n",
       "    <tr>\n",
       "      <th>y</th>\n",
       "      <td>0.998714</td>\n",
       "      <td>1.000000</td>\n",
       "    </tr>\n",
       "  </tbody>\n",
       "</table>\n",
       "</div>"
      ],
      "text/plain": [
       "          x         y\n",
       "x  1.000000  0.998714\n",
       "y  0.998714  1.000000"
      ]
     },
     "execution_count": 47,
     "metadata": {},
     "output_type": "execute_result"
    }
   ],
   "source": [
    "data.corr(method='pearson') # 计算数据样本的Pearson相关系数矩阵"
   ]
  },
  {
   "cell_type": "markdown",
   "metadata": {},
   "source": [
    "由此可见，$x$序列与$y$序列的$Pearson$相关系数等于0.998714 ，大于0.8，说明$x$与$y$之间为高度线性相关"
   ]
  },
  {
   "cell_type": "markdown",
   "metadata": {},
   "source": [
    "三、通过scipy.stats.linregress()对$x$序列和$y$序列根据最小二乘法做线性回归分析，拟合出曲线"
   ]
  },
  {
   "cell_type": "code",
   "execution_count": 48,
   "metadata": {},
   "outputs": [
    {
     "data": {
      "text/plain": [
       "LinregressResult(slope=2.9833387172164887, intercept=1.0417108090664833, rvalue=0.99871446830061461, pvalue=8.1785302408265437e-38, stderr=0.028615344608071566)"
      ]
     },
     "execution_count": 48,
     "metadata": {},
     "output_type": "execute_result"
    }
   ],
   "source": [
    "from scipy import stats\n",
    "\n",
    "stats.linregress(variable,y_1)"
   ]
  },
  {
   "cell_type": "markdown",
   "metadata": {},
   "source": [
    "由此可见,斜率slope=2.9833387172164887,截距intercept=1.0417108090664833,相关系数rvalue=0.99871446830061461,判定系数为rvalue*rvalue"
   ]
  },
  {
   "cell_type": "code",
   "execution_count": 49,
   "metadata": {
    "collapsed": true
   },
   "outputs": [],
   "source": [
    "slope,intercept,_,_,_ = stats.linregress(variable,y_1)"
   ]
  },
  {
   "cell_type": "markdown",
   "metadata": {},
   "source": [
    "四、依据拟合出的曲线$y=3x+1$，依据$x$序列求出$y$序列，记作$y_{2}$"
   ]
  },
  {
   "cell_type": "code",
   "execution_count": 50,
   "metadata": {},
   "outputs": [
    {
     "data": {
      "text/plain": [
       "array([  1.04171081,   3.09918579,   5.15666076,   7.21413574,\n",
       "         9.27161072,  11.3290857 ,  13.38656067,  15.44403565,\n",
       "        17.50151063,  19.55898561,  21.61646058,  23.67393556,\n",
       "        25.73141054,  27.78888552,  29.84636049,  31.90383547,\n",
       "        33.96131045,  36.01878542,  38.0762604 ,  40.13373538,\n",
       "        42.19121036,  44.24868533,  46.30616031,  48.36363529,\n",
       "        50.42111027,  52.47858524,  54.53606022,  56.5935352 ,\n",
       "        58.65101018,  60.70848515])"
      ]
     },
     "execution_count": 50,
     "metadata": {},
     "output_type": "execute_result"
    }
   ],
   "source": [
    "y_2 = slope*variable + intercept \n",
    "y_2"
   ]
  },
  {
   "cell_type": "markdown",
   "metadata": {},
   "source": [
    "五、对$y_{1}$序列和$y_{2}$序列做**独立样本t检验**"
   ]
  },
  {
   "cell_type": "markdown",
   "metadata": {},
   "source": [
    "零假设(原假设)$H_{0}$: $\\mu_{1}=\\mu_{2}$,$α$=0.05\n",
    "\n",
    "备择假设$H_{1}$:$\\mu_{1}\\neq\\mu_{2}$,$α$=0.05"
   ]
  },
  {
   "cell_type": "code",
   "execution_count": 51,
   "metadata": {},
   "outputs": [
    {
     "data": {
      "text/plain": [
       "Ttest_indResult(statistic=7.5917328211267045e-16, pvalue=0.99999999999999933)"
      ]
     },
     "execution_count": 51,
     "metadata": {},
     "output_type": "execute_result"
    }
   ],
   "source": [
    "# 独立样本t检验\n",
    "stats.ttest_ind(y_1,y_2)"
   ]
  },
  {
   "cell_type": "markdown",
   "metadata": {},
   "source": [
    "可见$pvalue$=0.9999999999999993，无论是单边检验还是双边检验都远远大于$α$=0.05，故接受原假设。即$y_{1}$序列和$y_{2}$序列无显著差异，即拟合的线性曲线在显著性水平为0.05时完全可以接受，也就是对相关系数做了检验。"
   ]
  },
  {
   "cell_type": "markdown",
   "metadata": {},
   "source": [
    "六、画出拟合后的曲线"
   ]
  },
  {
   "cell_type": "code",
   "execution_count": 52,
   "metadata": {},
   "outputs": [
    {
     "data": {
      "image/png": "[encoded data removed]",
      "text/plain": [
       "<matplotlib.figure.Figure at 0x7f579c495780>"
      ]
     },
     "metadata": {},
     "output_type": "display_data"
    }
   ],
   "source": [
    "import matplotlib.pyplot as plt\n",
    "plt.rcParams['font.sans-serif'] = [u'SimHei'] # 用来正常显示中文标签\n",
    "import numpy as np\n",
    "import pandas as pd\n",
    "\n",
    "plt.figure()\n",
    "plt.scatter(variable,y_1,c='c') # 原始数据的散点图\n",
    "plt.plot(variable,y_2,c='r') # 拟合后的曲线\n",
    "plt.show()"
   ]
  },
  {
   "cell_type": "markdown",
   "metadata": {},
   "source": [
    "#### 单边检验和双边检验"
   ]
  },
  {
   "cell_type": "markdown",
   "metadata": {},
   "source": [
    "所谓双侧和单侧之别，是以做检验时拒绝域在数据分布的两侧还是单侧来区分的。\n",
    "\n",
    "若是双侧检验，代表研究者不确定数据均值是高于检验值还是低于检验值，比如你的数据，如果你不清楚后测数据是否高于前测数据，就想知道前后测的均值是否不同，那就用双侧检验；\n",
    "\n",
    "如果你仅仅想知道后测是不是高于前测，或者仅仅想知道前测是不是低于后测，那可以用单侧检验，因为此时你只关心某一侧的拒绝域，对另一侧不感兴趣，那既然如此这个时候你就索性把不关心的那一侧的拒绝域挪到感兴趣的那一侧。\n",
    "\n",
    "综上，你用单侧还是双侧，主要取决于你的研究兴趣，你可以自由选择使用双侧或单侧，其次也跟你的经验有关，如果你十分确定**拒绝域绝不会在数据分布的某一侧**，那你就直接用单侧，比如你比较智力超常者和智力障碍者的智力测验得分，此时你很清楚超常者得分一定高于障碍者，那你的研究假设就应该是超常者得分是否高于障碍者，而不是是否不同于障碍者。\n",
    "\n",
    "一般研究当中都是默认双侧检验，如无特殊理由，直接用双侧是比较稳妥的做法。\n",
    "\n",
    "单侧应该是更容易发现显著的，因为同样是以0.05为显著性水平，如果是单侧检验，右侧拒绝域为0.05，左侧为0，而双侧左右拒绝域各为0.025，显然单侧的拒绝域更容易达到，所以相同的t值情况下，单侧的P值应该是比双侧更低的"
   ]
  },
  {
   "cell_type": "markdown",
   "metadata": {},
   "source": [
    "#### 判定系数"
   ]
  },
  {
   "cell_type": "markdown",
   "metadata": {},
   "source": [
    "判定系数是相关系数的平方,用$r^{2}$表示；用来衡量回归方程对$y$的解释程度。  \n",
    "\n",
    "判定系数的取值范围: $0\\leq r^{2}\\leq1$ \n",
    "\n",
    "$r^{2}$越接近1，表明$x$与$y$之间的相关性越强;$r^{2}$越接近0，表明两个变量之间几乎没有直线相关关系。"
   ]
  },
  {
   "cell_type": "markdown",
   "metadata": {},
   "source": [
    "# Python主要数据探索函数"
   ]
  },
  {
   "cell_type": "markdown",
   "metadata": {},
   "source": [
    "Python中用于数据探索的库主要是pandas(数据分析)和Matplotlib(数据可视化)。其中pandas提供了大量的与数据探索相关的函数，这些数据探索函数可分为统计特征函数和统计作图函数。"
   ]
  },
  {
   "cell_type": "markdown",
   "metadata": {},
   "source": [
    "## 基本统计特征函数"
   ]
  },
  {
   "cell_type": "markdown",
   "metadata": {},
   "source": [
    "统计特征函数用于计算数据的均值，方差，标准差，分位数，相关系数和协方差，它们能反映出数据的整体分布。这里的统计特征函数主要作为pandas的DataFrame或Series对象的方法存在。\n",
    "\n",
    "DataFrame提取行用DataFrame.loc[行名],提取列用DataFrame[列名]"
   ]
  },
  {
   "cell_type": "markdown",
   "metadata": {},
   "source": [
    "<center>Pandas主要统计特征函数</center>\n",
    "\n",
    "|对象|方法名|函数功能|所属库|调用方式|\n",
    "|:--:|:--:|:--:|:--:|:--:|\n",
    "|DataFrame或Series对象|sum()|计算数据样本的总和(按列求和)|Pandas|D.sum(),S.sum()|\n",
    "|DataFrame或Series对象|mean()|计算数据样本的算术平均数（按列）|Pandas|D.mean(),S.mean()|\n",
    "|DataFrame或Series对象|var()|计算数据样本的方差（按列）|Pandas|D.var(),S.var()|\n",
    "|DataFrame或Series对象|std()|计算数据样本的标准差（按列）|Pandas|D.std(),S.std()|\n",
    "|DataFrame或Series对象|corr()|计算数据样本的相关系数矩阵|Pandas|D.corr(),S1.corr(S2)|\n",
    "|DataFrame或Series对象|cov()|计算数据样本的协方差矩阵|Pandas|D.cov(),S1.cov(S2)|\n",
    "|DataFrame或Series对象|skew()|计算数据样本的偏度(三阶矩)|Pandas|D.skew(),S.skew()|\n",
    "|DataFrame或Series对象|kurt()|计算数据样本的峰度(四阶矩)|Pandas|D.kurt(),S.kurt()|\n",
    "|DataFrame或Series对象|describe()|给出样本的基本描述(基本统计量如均值，标准差，最大值，最小值等)|Pandas|D.describe(),S.describe()|"
   ]
  },
  {
   "cell_type": "markdown",
   "metadata": {
    "collapsed": true
   },
   "source": [
    "1. 协方差  \n",
    "\n",
    "直观上而言，协方差（Covariance）在概率论和统计学中用于衡量两个变量的总体误差。而方差是协方差的一种特殊情况，即当两个变量是相同的情况。\n",
    "\n",
    "协方差表示的是两个变量的总体的误差，这与只表示一个变量误差的方差不同。 如果两个变量的变化趋势一致，也就是说如果其中一个大于自身的期望值，另外一个也大于自身的期望值，那么两个变量之间的协方差就是正值。 如果两个变量的变化趋势相反，即其中一个大于自身的期望值，另外一个却小于自身的期望值，那么两个变量之间的协方差就是负值。\n",
    "\n",
    "如果$X$与$Y$是统计独立的，那么二者之间的协方差就是0，因为两个独立的随机变量满足$E[XY]=E[X]E[Y]$。但是，反过来并不成立。即如果$X$与$Y$的协方差为0，二者并不一定是统计独立的。\n",
    "\n",
    "两个变量的协方差公式:  \n",
    "$$Cov(X,Y)=E[X-E(X)][Y-E(Y)]=E(XY)-2E(X)E(Y)+E(X)E(Y)=E(XY)-E(X)E(Y)$$  \n",
    "\n",
    "协方差作为描述$X$和$Y$**相关程度**的量，在同一物理量纲之下有一定的作用，但同样的两个量采用不同的量纲使它们的协方差在数值上表现出很大的差异。因此引入相关系数。\n",
    "\n",
    "两个变量的相关系数公式为:\n",
    "$$\\frac {Cov(X,Y)}{\\sqrt{D(X)}\\sqrt{D(Y)}}$$  \n",
    "其中，$\\sqrt{D(X)}$为变量$X$的方差。\n",
    "\n",
    "2. 峰度\n",
    "\n",
    "峰度（peakedness；kurtosis）又称峰态系数。表征概率密度分布曲线在平均值处峰值高低的特征数。直观看来，峰度反映了峰部的尖度。随机变量的峰度计算方法为：随机变量的四阶中心矩与方差平方的比值。峰度包括正态分布（峰度值=3），厚尾（峰度值>3），瘦尾（峰度值< 3)。\n",
    "\n",
    "峰度曲线分为:\n",
    "\n",
    "![峰度](./image/峰度.jpg)\n",
    "\n",
    "3. 偏度\n",
    "\n",
    "偏度（skewness），是统计数据分布**偏斜方向和程度**的度量，是统计**数据分布非对称程度**的数字特征。定义上偏度是样本的三阶标准化矩。\n",
    "\n",
    "偏度定义中包括\n",
    "    1. 正态分布（偏度=0）;\n",
    "    2. 右偏分布（也叫正偏分布，其偏度>0,概率密度曲线上的最高点，或者峰顶偏向$x$轴左边）;\n",
    "    3. 左偏分布（也叫负偏分布，其偏度< 0，最高点偏向$x$轴右边）;\n",
    "    4. 这个最高点其实是众数，因为概率密度最大，发生频率最高，故为众数；\n",
    "\n",
    "正偏分布满足:平均数>中位数>众数\n",
    "\n",
    "![正偏分布](./image/正偏分布.jpg)\n",
    "\n",
    "右偏分步满足:平均数<中位数<众数\n",
    "\n",
    "![右偏分布](./image/右偏分布.jpg)"
   ]
  },
  {
   "cell_type": "markdown",
   "metadata": {},
   "source": [
    "## 拓展统计特征函数：累积计算cum和滚动计算rolling"
   ]
  },
  {
   "cell_type": "markdown",
   "metadata": {},
   "source": [
    "<center>Pandas累积计算统计特征函数</center>\n",
    "\n",
    "|对象|方法名|函数功能|所属库|调用方式|\n",
    "|:--:|:--:|:--:|:--:|:--:|\n",
    "|DataFrame或Series对象|cumsum()|依次给出前1、2、...、n个数的和|Pandas|D.cumsum(),S.cumsum()|\n",
    "|DataFrame或Series对象|cumprod()|依次给出前1、2、...、n个数的积|Pandas|D.cumprod(),S.cumprod()|\n",
    "|DataFrame或Series对象|cummax()|依次给出前1、2、...、n个数的最大值|Pandas|D.cummax(),S.cummax()|\n",
    "|DataFrame或Series对象|cummin()|依次给出前1、2、...、n个数的最小值|Pandas|D.cummin(),S.cummin()|"
   ]
  },
  {
   "cell_type": "markdown",
   "metadata": {},
   "source": [
    "<center>Pandas滚动计算统计特征函数</center>\n",
    "\n",
    "|对象|方法名|函数功能|所属库|调用方式|\n",
    "|:--:|:--:|:--:|:--:|:--:|\n",
    "|不是对象的方法|rolling_sum()|计算窗口内数据样本的和(按列)|Pandas|pd.rolling_sum(D,window),pd.rolling_sum(S,window)|\n",
    "|不是对象的方法|rolling_mean()|计算窗口内数据样本的均值(按列)|Pandas|pd.rolling_mean(D,window),pd.rolling_mean(S,window)|\n",
    "|不是对象的方法|rolling_var()|计算窗口内数据样本的方差(按列)|Pandas|pd.rolling_var(D,window),pd.rolling_var(S,window)|\n",
    "|不是对象的方法|rolling_std()|计算窗口内数据样本的标准差(按列)|Pandas|pd.rolling_std(D,window),pd.rolling_std(S,window)|\n",
    "|不是对象的方法|rolling_corr()|计算窗口内数据样本的相关系数矩阵|Pandas|pd.rolling_corr(D,window),pd.rolling_corr(S,window)|\n",
    "|不是对象的方法|rolling_skew()|计算窗口内数据样本的偏度(三阶矩)|Pandas|pd.rolling_skew(D,window),pd.rolling_skew(S,window)|\n",
    "|不是对象的方法|rolling_kurt()|计算窗口内数据样本的峰度(四阶距)|Pandas|pd.rolling_kurt(D,window),pd.rolling_kurt(S,window)|\n",
    "|不是对象的方法|rolling_count()|计算窗口内非NA观测值的数量(按列)|Pandas|pd.rolling_count(D,window),pd.rolling_count(S,window)|"
   ]
  },
  {
   "cell_type": "markdown",
   "metadata": {},
   "source": [
    "## 统计作图函数"
   ]
  },
  {
   "cell_type": "markdown",
   "metadata": {
    "collapsed": true
   },
   "source": [
    "<center>Python主要统计作图函数</center>\n",
    "\n",
    "|作图函数名|作图函数功能|所属工具箱|\n",
    "|:--:|:--:|:--:|\n",
    "|plot()|绘制线性二维图，折线图|Matplotlib/Pandas|\n",
    "|pie()|绘制饼型图|Matplotlib/Pandas|\n",
    "|hist()|绘制二维条形直方图，可显示数据的分配情形|Matplotlib/Pandas|\n",
    "|boxplot()|绘制样本数据的箱型图|Pandas|\n",
    "|plot(logy=True)|绘制$y$轴的对数图形|Pandas|\n",
    "|plot(yerr=error)|绘制误差条形图|Pandas|"
   ]
  },
  {
   "cell_type": "markdown",
   "metadata": {},
   "source": [
    "### Matplotlib的plot()"
   ]
  },
  {
   "cell_type": "markdown",
   "metadata": {},
   "source": [
    "#### plt.plot()"
   ]
  },
  {
   "cell_type": "markdown",
   "metadata": {},
   "source": [
    "功能:绘制线性二维图、折线图\n",
    "\n",
    "使用格式:plt.plot(x,y,S)\n",
    "\n",
    "绘制$y$对于$x$(即以x为横轴的二维图形)，字符串参量S指定绘制时图形的类型，样式和颜色。常用的选项有:'b'为蓝色,'r'为红色,'g'为绿色,'o'为圆圈,'+'为加好标记,'-'为实线,'--'为虚线。当$x,y$均为实数同维向量时，则描出点$(x_{i},y_{i})$,然后用直线依次相连。"
   ]
  },
  {
   "cell_type": "markdown",
   "metadata": {},
   "source": [
    "#### plt.pie()"
   ]
  },
  {
   "cell_type": "markdown",
   "metadata": {},
   "source": [
    "功能:绘制饼图\n",
    "\n",
    "使用格式:plt.pie(sizes)\n",
    "\n",
    "sizes是一个列表，记录各个扇形的比例"
   ]
  },
  {
   "cell_type": "markdown",
   "metadata": {},
   "source": [
    "#### plt.hist()"
   ]
  },
  {
   "cell_type": "markdown",
   "metadata": {},
   "source": [
    "功能:绘制二维条形直方图，可显示数据的分布情形\n",
    "\n",
    "使用格式:plt.hist(x,y)\n",
    "\n",
    "$x$是待绘制直方图的一维数组，$y$可以是整数，表示均分为$n$组;也可以是列表，列表各个数字为分组的边界点(即手动指定分界点)，因此直方图是对定量数据而言的。"
   ]
  },
  {
   "cell_type": "markdown",
   "metadata": {},
   "source": [
    "### DataFrame或Series对象的方法"
   ]
  },
  {
   "cell_type": "markdown",
   "metadata": {},
   "source": [
    "#### D.plot() / S.plot()"
   ]
  },
  {
   "cell_type": "markdown",
   "metadata": {},
   "source": [
    "功能:依据kind参数的不同，可以画不同的图形。\n",
    "\n",
    "使用格式: D.plot(kind) / S.plot(kind)\n",
    "\n",
    "这是DataFrame或Series对象内置的方法，默认以行索引Index为横轴，每列的数据为纵坐标自动作图。kind可为'line'（线）,'bar'（条形）,'barh','hist'（直方图）,'box'（箱线图）,'kde'（密度图）,'area','pie'（饼图）。"
   ]
  },
  {
   "cell_type": "markdown",
   "metadata": {},
   "source": [
    "#### D.boxplot() / S.boxplot()"
   ]
  },
  {
   "cell_type": "markdown",
   "metadata": {},
   "source": [
    "功能:绘制样本数据的箱形图\n",
    "\n",
    "使用格式:D.boxplot() / S.boxplot()"
   ]
  },
  {
   "cell_type": "markdown",
   "metadata": {},
   "source": [
    "#### D.plot(logx=True) / S.plot(logy=True)"
   ]
  },
  {
   "cell_type": "markdown",
   "metadata": {},
   "source": [
    "功能:绘制$x$或$y$轴的对数图形\n",
    "\n",
    "使用格式:D.plot(logx=True) / S.plot(logx=True) / D.plot(logy=True) / S.plot(logy=True)\n",
    "\n",
    "对$x$轴($y$轴)使用对数刻度(以10为底),$y$轴（$x$轴）使用线性刻度，进行plot函数绘图"
   ]
  },
  {
   "cell_type": "markdown",
   "metadata": {},
   "source": [
    "构造指数函数数据，使用plot(logy=True)函数进行绘图"
   ]
  },
  {
   "cell_type": "code",
   "execution_count": 53,
   "metadata": {},
   "outputs": [
    {
     "data": {
      "image/png": "[encoded data removed]",
      "text/plain": [
       "<matplotlib.figure.Figure at 0x7f579bd55748>"
      ]
     },
     "metadata": {},
     "output_type": "display_data"
    },
    {
     "data": {
      "image/png": "[encoded data removed]",
      "text/plain": [
       "<matplotlib.figure.Figure at 0x7f57a5c93b38>"
      ]
     },
     "metadata": {},
     "output_type": "display_data"
    }
   ],
   "source": [
    "import matplotlib.pyplot as plt\n",
    "plt.rcParams['font.sans-serif'] = [u'SimHei'] # 用来正常显示中文标签\n",
    "import numpy as np\n",
    "import pandas as pd\n",
    "\n",
    "x = pd.Series(np.exp(np.arange(20))) #原始数据\n",
    "x.plot(label=u'原始数据图',legend=True,c='c')\n",
    "plt.show()\n",
    "x.plot(logy=True,label=u'对数数据图',legend=True,c='c')\n",
    "plt.show()"
   ]
  },
  {
   "cell_type": "markdown",
   "metadata": {},
   "source": [
    "#### D.plot(yerr=error) / S.plot(yerr=error)"
   ]
  },
  {
   "cell_type": "markdown",
   "metadata": {},
   "source": [
    "功能:绘制误差条形图\n",
    "\n",
    "使用格式:D.plot(yerr=error) / S.plot(yerr=error)\n",
    "\n",
    "绘制误差条形图，D或S代表着均值数据列，而error则是误差列，此命令在$y$轴方向画出**误差棒图**；类似地，如果设置参数xerr=error，则在$x$轴方向画出误差棒图。"
   ]
  },
  {
   "cell_type": "markdown",
   "metadata": {},
   "source": [
    "绘制误差棒图"
   ]
  },
  {
   "cell_type": "code",
   "execution_count": 54,
   "metadata": {},
   "outputs": [
    {
     "data": {
      "image/png": "[encoded data removed]",
      "text/plain": [
       "<matplotlib.figure.Figure at 0x7f579c813048>"
      ]
     },
     "metadata": {},
     "output_type": "display_data"
    }
   ],
   "source": [
    "import matplotlib.pyplot as plt\n",
    "plt.rcParams['font.sans-serif'] = [u'SimHei'] # 用来正常显示中文标签\n",
    "import numpy as np\n",
    "np.random.seed(2)\n",
    "import pandas as pd\n",
    "\n",
    "error = np.random.randn(10) # 定义误差序列\n",
    "y = pd.Series(np.sin(np.arange(10))) # 均值数据列\n",
    "y.plot(yerr=error,c='c') # 绘制误差图\n",
    "plt.show()"
   ]
  },
  {
   "cell_type": "markdown",
   "metadata": {},
   "source": [
    "误差棒是以被测量的算术平均值为中点，在表示测量值大小的方向上画出的一个线段，线段长度的一半等于（标准或扩展）不确定度。它表示被测量以某一概率（68%或95%）落在棒上。**误差棒**代表加减一个标准差，数据的变异情况，很明显，误差棒大的表示**样本数据的变异性**较大。"
   ]
  }
 ],
 "metadata": {
  "kernelspec": {
   "display_name": "Python 3",
   "language": "python",
   "name": "python3"
  },
  "language_info": {
   "codemirror_mode": {
    "name": "ipython",
    "version": 3
   },
   "file_extension": ".py",
   "mimetype": "text/x-python",
   "name": "python",
   "nbconvert_exporter": "python",
   "pygments_lexer": "ipython3",
   "version": "3.6.2"
  },
  "toc": {
   "base_numbering": 1,
   "nav_menu": {},
   "number_sections": true,
   "sideBar": true,
   "skip_h1_title": false,
   "title_cell": "Table of Contents",
   "title_sidebar": "Contents",
   "toc_cell": false,
   "toc_position": {
    "height": "calc(100% - 180px)",
    "left": "10px",
    "top": "150px",
    "width": "383px"
   },
   "toc_section_display": true,
   "toc_window_display": true
  },
  "varInspector": {
   "cols": {
    "lenName": 16,
    "lenType": 16,
    "lenVar": 40
   },
   "kernels_config": {
    "python": {
     "delete_cmd_postfix": "",
     "delete_cmd_prefix": "del ",
     "library": "var_list.py",
     "varRefreshCmd": "print(var_dic_list())"
    },
    "r": {
     "delete_cmd_postfix": ") ",
     "delete_cmd_prefix": "rm(",
     "library": "var_list.r",
     "varRefreshCmd": "cat(var_dic_list()) "
    }
   },
   "types_to_exclude": [
    "module",
    "function",
    "builtin_function_or_method",
    "instance",
    "_Feature"
   ],
   "window_display": false
  }
 },
 "nbformat": 4,
 "nbformat_minor": 2
}
