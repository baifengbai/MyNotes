{
 "cells": [
  {
   "cell_type": "markdown",
   "metadata": {},
   "source": [
    "**`XPath` 是一门在 `XML` 文档中查找信息的语言**。`XPath` 是 `XSLT` 中的主要元素。`XQuery` 和 `XPointer` 均构建于 `XPath` 表达式之上。"
   ]
  },
  {
   "cell_type": "markdown",
   "metadata": {},
   "source": [
    "# 简介"
   ]
  },
  {
   "cell_type": "markdown",
   "metadata": {},
   "source": [
    "## 什么是XPath？"
   ]
  },
  {
   "cell_type": "markdown",
   "metadata": {},
   "source": [
    "1. `XPath` **使用路径表达式在 `XML` 文档中进行导航**\n",
    "2. `XPath` 包含一个标准函数库\n",
    "3. `XPath` 是 `XSLT` 中的主要元素\n",
    "4. `XPath` 是一个 `W3C` 标准\n",
    "\n",
    "![](./image/xpath.gif)"
   ]
  },
  {
   "cell_type": "markdown",
   "metadata": {},
   "source": [
    "## XPath路径表达式"
   ]
  },
  {
   "cell_type": "markdown",
   "metadata": {},
   "source": [
    "`XPath` 使用路径表达式来选取 `XML` 文档中的节点或者节点集。**这些 路径表达式 和 我们在常规的电脑文件系统中看到的表达式 非常相似**。"
   ]
  },
  {
   "cell_type": "markdown",
   "metadata": {},
   "source": [
    "## XPath标准函数"
   ]
  },
  {
   "cell_type": "markdown",
   "metadata": {},
   "source": [
    "`XPath` 含有超过 100 个内建的函数。这些函数用于字符串值、数值、日期和时间比较、节点和 `QName` 处理、序列处理、逻辑值等等。"
   ]
  },
  {
   "cell_type": "markdown",
   "metadata": {},
   "source": [
    "# 节点"
   ]
  },
  {
   "cell_type": "markdown",
   "metadata": {},
   "source": [
    "## 术语"
   ]
  },
  {
   "cell_type": "markdown",
   "metadata": {},
   "source": [
    "### 节点类型"
   ]
  },
  {
   "cell_type": "markdown",
   "metadata": {},
   "source": [
    "在 `XPath` 中，有七种类型的节点："
   ]
  },
  {
   "cell_type": "markdown",
   "metadata": {},
   "source": [
    "#### 元素节点"
   ]
  },
  {
   "cell_type": "markdown",
   "metadata": {},
   "source": [
    "元素: 指的是从（且包括）**开始标签**直到（且包括）**结束标签**的部分。一个元素可以包含：\n",
    "    1. 其他元素\n",
    "    2. 文本\n",
    "    3. 属性\n",
    "    4. 或混合以上所有...\n",
    "    5. 比如属性：`<title>Harry Potter</title>`"
   ]
  },
  {
   "cell_type": "markdown",
   "metadata": {},
   "source": [
    "#### 属性节点"
   ]
  },
  {
   "cell_type": "markdown",
   "metadata": {},
   "source": [
    "属性（Attribute）提供有关元素的额外信息,必须被引号包围，不过单引号和双引号均可使用。比如一个人的性别，`person` 元素可以这样写：`<person sex=\"female\">`"
   ]
  },
  {
   "cell_type": "markdown",
   "metadata": {},
   "source": [
    "#### 文本节点"
   ]
  },
  {
   "cell_type": "markdown",
   "metadata": {},
   "source": [
    "文本: 元素包含的内容可以是文本"
   ]
  },
  {
   "cell_type": "markdown",
   "metadata": {},
   "source": [
    "#### 命名空间节点"
   ]
  },
  {
   "cell_type": "markdown",
   "metadata": {},
   "source": [
    "`XML` 命名空间提供避免元素命名冲突的方法。在` XML` 中，元素名称是由开发者定义的，当两个不同的文档使用相同的元素名时，就会发生命名冲突。当在` XML` 中使用 `前缀`时，一个所谓的用于前缀的命名空间必须被定义。**命名空间是在元素的开始标签的 `xmlns `属性中定义的**。命名空间声明的语法如下: `xmlns:前缀=\"URI\"`，例如：`<h:table xmlns:h=\"http://www.w3.org/TR/html4/\"> ...</h:table>`,`<table>` 标签的 `xmlns `属性定义了` h: ` 前缀的合格命名空间。"
   ]
  },
  {
   "cell_type": "markdown",
   "metadata": {},
   "source": [
    "#### 处理指令节点"
   ]
  },
  {
   "cell_type": "markdown",
   "metadata": {},
   "source": [
    "#### 注释节点"
   ]
  },
  {
   "cell_type": "markdown",
   "metadata": {},
   "source": [
    "注释: `<!-- This is a comment -->`"
   ]
  },
  {
   "cell_type": "markdown",
   "metadata": {},
   "source": [
    "#### 文档节点"
   ]
  },
  {
   "cell_type": "markdown",
   "metadata": {},
   "source": [
    " 文档（根）节点：`XML` 文档形成了一种树结构，它从\"根部\"开始，然后扩展到\"枝叶\"。根元素是所有其他元素的父元素。\n",
    "\n",
    "`XML` 文档是被作为 **节点树** 来对待的。**树的根** 被称为 **文档节点** 或者 **根节点**。"
   ]
  },
  {
   "cell_type": "markdown",
   "metadata": {},
   "source": [
    "### XML文档是一种树结构"
   ]
  },
  {
   "cell_type": "markdown",
   "metadata": {},
   "source": [
    "`XML` 文档必须包含根元素。该元素是所有其他元素的父元素。\n",
    "\n",
    "`XML` 文档中的元素形成了一棵文档树。这棵树从根部开始，并扩展到树的最底端。\n",
    "\n",
    "所有的元素都可以有子元素。父、子以及同胞等术语用于描述元素之间的关系。\n",
    "\n",
    "父元素拥有子元素。相同层级上的子元素成为同胞（兄弟或姐妹）。所有的元素都可以有文本内容和属性（类似 HTML 中）"
   ]
  },
  {
   "cell_type": "markdown",
   "metadata": {},
   "source": [
    "#### 实例"
   ]
  },
  {
   "cell_type": "markdown",
   "metadata": {},
   "source": [
    "```xml\n",
    "<?xml version=\"1.0\" encoding=\"UTF-8\"?>\n",
    "<bookstore>\n",
    "    <book category=\"COOKING\">\n",
    "        <title lang=\"en\">Everyday Italian</title>\n",
    "        <author>Giada De Laurentiis</author>\n",
    "        <year>2005</year>\n",
    "        <price>30.00</price>\n",
    "    </book>\n",
    "    <book category=\"CHILDREN\">\n",
    "        <title lang=\"en\">Harry Potter</title>\n",
    "        <author>J K. Rowling</author>\n",
    "        <year>2005</year>\n",
    "        <price>29.99</price>\n",
    "    </book>\n",
    "    <book category=\"WEB\">\n",
    "        <title lang=\"en\">Learning XML</title>\n",
    "        <author>Erik T. Ray</author>\n",
    "        <year>2003</year>\n",
    "        <price>39.95</price>\n",
    "    </book>\n",
    "</bookstore>\n",
    "```"
   ]
  },
  {
   "cell_type": "markdown",
   "metadata": {},
   "source": [
    "#### 解析"
   ]
  },
  {
   "cell_type": "markdown",
   "metadata": {},
   "source": [
    "第一行是` XML 声明`。它定义` XML 的版本`（1.0）和所使用的 `编码`（UTF-8 : 万国码, 可显示各种语言）,其它解释如下：\n",
    "\n",
    "![](./image/nodetree.gif)"
   ]
  },
  {
   "cell_type": "markdown",
   "metadata": {},
   "source": [
    "### 基本值，或称原子值,Atomic value"
   ]
  },
  {
   "cell_type": "markdown",
   "metadata": {},
   "source": [
    "基本值是**无父或无子的节点**。例如，有如下文档\n",
    "\n",
    "```xml\n",
    "<?xml version=\"1.0\" encoding=\"UTF-8\"?>\n",
    "\n",
    "<bookstore>\n",
    "  <book>\n",
    "    <title lang=\"en\">Harry Potter</title>\n",
    "    <author>J K. Rowling</author>\n",
    "    <year>2005</year>\n",
    "    <price>29.99</price>\n",
    "  </book>\n",
    "</bookstore> \n",
    "```\n",
    "\n",
    "上面的XML文档中的节点例子：\n",
    "\n",
    "```xml\n",
    "<bookstore> (文档节点)\n",
    "\n",
    "<author>J K. Rowling</author> (元素节点)\n",
    "\n",
    "lang=\"en\" (属性节点) \n",
    "```\n",
    "\n",
    "**基本值的例子**：\n",
    "```Python\n",
    "J K. Rowling\n",
    "\n",
    "\"en\" \n",
    "```"
   ]
  },
  {
   "cell_type": "markdown",
   "metadata": {},
   "source": [
    "### 项目Item"
   ]
  },
  {
   "cell_type": "markdown",
   "metadata": {},
   "source": [
    "项目 是 **基本值 或者 节点**。"
   ]
  },
  {
   "cell_type": "markdown",
   "metadata": {},
   "source": [
    "## 节点关系"
   ]
  },
  {
   "cell_type": "markdown",
   "metadata": {},
   "source": [
    "### 父(Parent)"
   ]
  },
  {
   "cell_type": "markdown",
   "metadata": {},
   "source": [
    "每个元素以及属性都有一个父。 在下面的例子中，book 元素是 title、author、year 以及 price 元素的父：\n",
    "```xml\n",
    "<book>\n",
    "  <title>Harry Potter</title>\n",
    "  <author>J K. Rowling</author>\n",
    "  <year>2005</year>\n",
    "  <price>29.99</price>\n",
    "</book> \n",
    "```"
   ]
  },
  {
   "cell_type": "markdown",
   "metadata": {},
   "source": [
    "### 子(Children)"
   ]
  },
  {
   "cell_type": "markdown",
   "metadata": {},
   "source": [
    "元素节点可有零个、一个或多个子。 在下面的例子中，title、author、year 以及 price 元素都是 book 元素的子：\n",
    "```xml\n",
    "<book>\n",
    "  <title>Harry Potter</title>\n",
    "  <author>J K. Rowling</author>\n",
    "  <year>2005</year>\n",
    "  <price>29.99</price>\n",
    "</book> \n",
    "```"
   ]
  },
  {
   "cell_type": "markdown",
   "metadata": {},
   "source": [
    "### 同胞(Sibling)"
   ]
  },
  {
   "cell_type": "markdown",
   "metadata": {},
   "source": [
    "拥有相同的父的节点 在下面的例子中，title、author、year 以及 price 元素都是同胞：\n",
    "```xml\n",
    "<book>\n",
    "  <title>Harry Potter</title>\n",
    "  <author>J K. Rowling</author>\n",
    "  <year>2005</year>\n",
    "  <price>29.99</price>\n",
    "</book> \n",
    "```"
   ]
  },
  {
   "cell_type": "markdown",
   "metadata": {},
   "source": [
    "### 先辈(Ancestor)"
   ]
  },
  {
   "cell_type": "markdown",
   "metadata": {},
   "source": [
    "某节点的父、父的父，等等。 在下面的例子中，title 元素的先辈是 book 元素和 bookstore 元素：\n",
    "```xml\n",
    "<bookstore>\n",
    "\n",
    "<book>\n",
    "  <title>Harry Potter</title>\n",
    "  <author>J K. Rowling</author>\n",
    "  <year>2005</year>\n",
    "  <price>29.99</price>\n",
    "</book>\n",
    "\n",
    "</bookstore> \n",
    "```"
   ]
  },
  {
   "cell_type": "markdown",
   "metadata": {},
   "source": [
    "### 后代(Descendant)"
   ]
  },
  {
   "cell_type": "markdown",
   "metadata": {},
   "source": [
    "某个节点的子，子的子，等等。 在下面的例子中，bookstore 的后代是 book、title、author、year 以及 price 元素：\n",
    "```xml\n",
    "<bookstore>\n",
    "\n",
    "<book>\n",
    "  <title>Harry Potter</title>\n",
    "  <author>J K. Rowling</author>\n",
    "  <year>2005</year>\n",
    "  <price>29.99</price>\n",
    "</book>\n",
    "\n",
    "</bookstore> \n",
    "```"
   ]
  },
  {
   "cell_type": "markdown",
   "metadata": {},
   "source": [
    "# 语法"
   ]
  },
  {
   "cell_type": "markdown",
   "metadata": {},
   "source": [
    "`XPath `使用**路径表达式**来选取` XML `文档中的**节点或节点集**。节点是通过沿着**路径 (path) 或者步 (steps)** 来选取的。"
   ]
  },
  {
   "cell_type": "markdown",
   "metadata": {},
   "source": [
    "## XML实例文档"
   ]
  },
  {
   "cell_type": "markdown",
   "metadata": {},
   "source": [
    "我们将在下面的例子中使用这个` XML `文档:\n",
    "```xml\n",
    "<?xml version=\"1.0\" encoding=\"UTF-8\"?>\n",
    "\n",
    "<bookstore>\n",
    "\n",
    "<book>\n",
    "  <title lang=\"eng\">Harry Potter</title>\n",
    "  <price>29.99</price>\n",
    "</book>\n",
    "\n",
    "<book>\n",
    "  <title lang=\"eng\">Learning XML</title>\n",
    "  <price>39.95</price>\n",
    "</book>\n",
    "\n",
    "</bookstore> \n",
    "```"
   ]
  },
  {
   "cell_type": "markdown",
   "metadata": {},
   "source": [
    "## 选取节点"
   ]
  },
  {
   "cell_type": "markdown",
   "metadata": {},
   "source": [
    "`XPath` 使用路径表达式在 `XML` 文档中选取节点。节点是通过沿着路径或者 step 来选取的。 下面列出了最有用的路径表达式：\n",
    "\n",
    "|表达式|描述|\n",
    "|--|--|\n",
    "|nodename|选取此节点的所有子节点|\n",
    "|/|从根节点选取|\n",
    "|//|从匹配选择的当前节点选择文档中的节点，而不考虑它们的位置|\n",
    "|**.**|选取当前节点|\n",
    "|**..**|选取当前节点的父节点|\n",
    "|@|选取属性|\n",
    "\n",
    "以上文中的例子为例，在下面的表格中，我们已列出了一些路径表达式以及表达式的结果：\n",
    "\n",
    "|路径表达式|结果|\n",
    "|--|--|\n",
    "|bookstore|选取 bookstore 元素的所有子节点|\n",
    "|/bookstore|选取根元素 bookstore。注释：假如路径起始于正斜杠( / )，则此路径始终代表到某元素的绝对路径！|\n",
    "|//book|选取所有 book 子元素，而不管它们在文档中的位置|\n",
    "|bookstore//book|选择属于 bookstore 元素的后代的所有 book 元素，而不管它们位于 bookstore 之下的什么位置|\n",
    "|//@lang|选取名为 lang 的所有属性|"
   ]
  },
  {
   "cell_type": "markdown",
   "metadata": {},
   "source": [
    "## 谓语(Predicates)"
   ]
  },
  {
   "cell_type": "markdown",
   "metadata": {},
   "source": [
    "**谓语用来查找某个特定的节点或者包含某个指定的值的节点。 谓语被嵌在方括号中**。在下面的表格中，我们列出了带有谓语的一些路径表达式，以及表达式的结果：\n",
    "\n",
    "|路径表达式|结果|\n",
    "|--|--|\n",
    "|/bookstore/book[1]|选取属于 bookstore 子元素的第一个 book 元素|\n",
    "|/bookstore/book[last()]|选取属于 bookstore 子元素的最后一个 book 元素|\n",
    "|/bookstore/book[last()-1]|选取属于 bookstore 子元素的倒数第二个 book 元素|\n",
    "|/bookstore/book[position()<3]|选取最前面的两个属于 bookstore 元素的子元素的 book 元素|\n",
    "|//title[@lang]|选取所有拥有名为 lang 的属性的 title 元素|\n",
    "|//title[@lang='eng']|选取所有 title 元素，且这些元素拥有值为 eng 的 lang 属性|\n",
    "|/bookstore/book[price>35.00]|选取 bookstore 元素的所有 book 元素，且其中的 price 元素的值须大于 35.00|\n",
    "|/bookstore/book[price>35.00]/title|选取 bookstore 元素中的 book 元素的所有 title 元素，且其中的 price 元素的值须大于 35.00|"
   ]
  },
  {
   "cell_type": "markdown",
   "metadata": {},
   "source": [
    "## XPath通配符：选取未知节点"
   ]
  },
  {
   "cell_type": "markdown",
   "metadata": {},
   "source": [
    "`XPath 通配符` 可用来**选取未知的` XML 元素`**：\n",
    "\n",
    "|通配符|描述|\n",
    "|--|--|\n",
    "|*|匹配任何元素节点|\n",
    "|@*|匹配任何属性节点|\n",
    "|node()|匹配任何类型的节点|\n",
    "\n",
    "在下面的表格中，我们列出了一些路径表达式，以及这些表达式的结果：\n",
    "\n",
    "|路径表达式|结果|\n",
    "|--|--|\n",
    "|/bookstore/*|选取 bookstore 元素的所有子元素|\n",
    "|//*|选取文档中的所有元素|\n",
    "|//title[@*]|选取所有带有属性的 title 元素|"
   ]
  },
  {
   "cell_type": "markdown",
   "metadata": {},
   "source": [
    "## 选取若干路径"
   ]
  },
  {
   "cell_type": "markdown",
   "metadata": {},
   "source": [
    "通过**在路径表达式中使用\"|\"运算符**，您**可以选取若干个路径**。在下面的表格中，我们列出了一些路径表达式，以及这些表达式的结果：\n",
    "\n",
    "|路径表达式|结果|\n",
    "|--|--|\n",
    "|//book/title \\| //book/price|选取 book 元素的所有 title 和 price 元素|\n",
    "|//title \\| //price|选取文档中的所有 title 和 price 元素|\n",
    "|/bookstore/book/title \\| //price|选取属于 bookstore 元素的 book 元素的所有 title 元素，以及文档中所有的 price 元素|"
   ]
  },
  {
   "cell_type": "markdown",
   "metadata": {},
   "source": [
    "# 轴(Axes)"
   ]
  },
  {
   "cell_type": "markdown",
   "metadata": {},
   "source": [
    "## XML实例文档"
   ]
  },
  {
   "cell_type": "markdown",
   "metadata": {},
   "source": [
    "```XML\n",
    "<?xml version=\"1.0\" encoding=\"ISO-8859-1\"?>\n",
    "\n",
    "<bookstore>\n",
    "\n",
    "<book>\n",
    "  <title lang=\"eng\">Harry Potter</title>\n",
    "  <price>29.99</price>\n",
    "</book>\n",
    "\n",
    "<book>\n",
    "  <title lang=\"eng\">Learning XML</title>\n",
    "  <price>39.95</price>\n",
    "</book>\n",
    "\n",
    "</bookstore>\n",
    "```"
   ]
  },
  {
   "cell_type": "markdown",
   "metadata": {},
   "source": [
    "## XPath轴"
   ]
  },
  {
   "cell_type": "markdown",
   "metadata": {},
   "source": [
    "轴可定义相对于当前节点的节点集:\n",
    "\n",
    "![](./image/xpath_route.png)"
   ]
  },
  {
   "cell_type": "markdown",
   "metadata": {},
   "source": [
    "## 位置路径表达式"
   ]
  },
  {
   "cell_type": "markdown",
   "metadata": {},
   "source": [
    "位置路径可以是绝对的，也可以是相对的。\n",
    "\n",
    "**绝对路径**起始于正斜杠( / )，而**相对路径**不会这样。在两种情况中，**位置路径均包括一个或多个步，每个步均被斜杠分割**："
   ]
  },
  {
   "cell_type": "markdown",
   "metadata": {},
   "source": [
    "### 绝对位置路径"
   ]
  },
  {
   "cell_type": "markdown",
   "metadata": {},
   "source": [
    "`/step/step/...`"
   ]
  },
  {
   "cell_type": "markdown",
   "metadata": {},
   "source": [
    "### 相对位置路径"
   ]
  },
  {
   "cell_type": "markdown",
   "metadata": {},
   "source": [
    "`step/step/...`"
   ]
  },
  {
   "cell_type": "markdown",
   "metadata": {},
   "source": [
    "### 步(step)"
   ]
  },
  {
   "cell_type": "markdown",
   "metadata": {},
   "source": [
    "每个步均根据当前节点集之中的节点来进行计算，它包括："
   ]
  },
  {
   "cell_type": "markdown",
   "metadata": {},
   "source": [
    "#### 轴(axis)"
   ]
  },
  {
   "cell_type": "markdown",
   "metadata": {},
   "source": [
    "定义所选节点与当前节点之间的树关系"
   ]
  },
  {
   "cell_type": "markdown",
   "metadata": {},
   "source": [
    "#### 节点测试(node-test)"
   ]
  },
  {
   "cell_type": "markdown",
   "metadata": {},
   "source": [
    "识别某个轴内部的节点"
   ]
  },
  {
   "cell_type": "markdown",
   "metadata": {},
   "source": [
    "#### 零个或者更多谓语(predicate)"
   ]
  },
  {
   "cell_type": "markdown",
   "metadata": {},
   "source": [
    "更深入地提炼所选的节点集"
   ]
  },
  {
   "cell_type": "markdown",
   "metadata": {},
   "source": [
    "#### 步的语法"
   ]
  },
  {
   "cell_type": "markdown",
   "metadata": {},
   "source": [
    "`轴名称::节点测试[谓语]`"
   ]
  },
  {
   "cell_type": "markdown",
   "metadata": {},
   "source": [
    "### 用法举例"
   ]
  },
  {
   "cell_type": "markdown",
   "metadata": {},
   "source": [
    "![](./image/xpath_route2.png)"
   ]
  },
  {
   "cell_type": "markdown",
   "metadata": {},
   "source": [
    "# 运算符"
   ]
  },
  {
   "cell_type": "markdown",
   "metadata": {},
   "source": [
    "`XPath `表达式可返回**节点集、字符串、逻辑值以及数字**。 下面列出了可用在 XPath 表达式中的运算符：\n",
    "![](./image/xpath_route3.png)"
   ]
  },
  {
   "cell_type": "markdown",
   "metadata": {},
   "source": [
    "# 实例"
   ]
  },
  {
   "cell_type": "markdown",
   "metadata": {},
   "source": [
    "## 实例文档"
   ]
  },
  {
   "cell_type": "markdown",
   "metadata": {},
   "source": [
    "我们将在下面的例子中使用这个 XML 文档'books.xml'：\n",
    "\n",
    "```xml\n",
    "<?xml version=\"1.0\" encoding=\"ISO-8859-1\"?>\n",
    "\n",
    "<bookstore>\n",
    "\n",
    "<book category=\"COOKING\">\n",
    "  <title lang=\"en\">Everyday Italian</title>\n",
    "  <author>Giada De Laurentiis</author>\n",
    "  <year>2005</year>\n",
    "  <price>30.00</price>\n",
    "</book>\n",
    "\n",
    "<book category=\"CHILDREN\">\n",
    "  <title lang=\"en\">Harry Potter</title>\n",
    "  <author>J K. Rowling</author>\n",
    "  <year>2005</year>\n",
    "  <price>29.99</price>\n",
    "</book>\n",
    "\n",
    "<book category=\"WEB\">\n",
    "  <title lang=\"en\">XQuery Kick Start</title>\n",
    "  <author>James McGovern</author>\n",
    "  <author>Per Bothner</author>\n",
    "  <author>Kurt Cagle</author>\n",
    "  <author>James Linn</author>\n",
    "  <author>Vaidyanathan Nagarajan</author>\n",
    "  <year>2003</year>\n",
    "  <price>49.99</price>\n",
    "</book>\n",
    "\n",
    "<book category=\"WEB\">\n",
    "  <title lang=\"en\">Learning XML</title>\n",
    "  <author>Erik T. Ray</author>\n",
    "  <year>2003</year>\n",
    "  <price>39.95</price>\n",
    "</book>\n",
    "\n",
    "</bookstore>\n",
    "```"
   ]
  },
  {
   "cell_type": "markdown",
   "metadata": {},
   "source": [
    "## 选取所有title"
   ]
  },
  {
   "cell_type": "markdown",
   "metadata": {},
   "source": [
    "下面的例子选取所有 title 节点：`/bookstore/book/title`,结果如下:\n",
    "```Python\n",
    "Harry Potter\n",
    "Everyday Italian\n",
    "Learning XML\n",
    "XQuery Kick Start\n",
    "```"
   ]
  },
  {
   "cell_type": "markdown",
   "metadata": {},
   "source": [
    "## 选取第一个 book 的 title"
   ]
  },
  {
   "cell_type": "markdown",
   "metadata": {},
   "source": [
    "下面的例子选取 bookstore 元素下面的第一个 book 节点的 title：`/bookstore/book[1]/title`,结果如下：\n",
    "```Python\n",
    "Harry Potter\n",
    "```\n",
    "\n",
    "这里有一个问题。上面的例子在` IE` 和`其他浏览器`中输出不同的结果。`IE5` 以及更高版本将` [0]` 视为第一个节点，而根据 W3C 的标准，应该是` [1]`"
   ]
  },
  {
   "cell_type": "markdown",
   "metadata": {},
   "source": [
    "## 选取所有价格"
   ]
  },
  {
   "cell_type": "markdown",
   "metadata": {},
   "source": [
    "下面的例子选取` price` 节点中的所有文本：`/bookstore/book/price/text()`,结果如下:\n",
    "```Python\n",
    "29.99\n",
    "30.00\n",
    "39.95\n",
    "49.99\n",
    "```"
   ]
  },
  {
   "cell_type": "markdown",
   "metadata": {},
   "source": [
    "## 选取价格高于 35 的 price 节点"
   ]
  },
  {
   "cell_type": "markdown",
   "metadata": {},
   "source": [
    "下面的例子选取价格高于 35 的所有 price 节点：`/bookstore/book[price>35]/price`,结果如下：\n",
    "```Python\n",
    "39.95\n",
    "49.99\n",
    "```"
   ]
  },
  {
   "cell_type": "markdown",
   "metadata": {},
   "source": [
    "## 选取价格高于 35 的 title 节点"
   ]
  },
  {
   "cell_type": "markdown",
   "metadata": {},
   "source": [
    "下面的例子选取价格高于 35 的所有 title 节点：`/bookstore/book[price>35]/title`,结果如下：\n",
    "```Python\n",
    "Learning XML\n",
    "XQuery Kick Start\n",
    "```"
   ]
  },
  {
   "cell_type": "markdown",
   "metadata": {},
   "source": [
    "# XPath函数"
   ]
  },
  {
   "cell_type": "markdown",
   "metadata": {},
   "source": [
    "1. 存取函数\n",
    "2. 错误跟踪函数\n",
    "3. 有关数值的函数\n",
    "4. 有关字符串的函数\n",
    "5. 针对anyURI的函数\n",
    "6. 关于布尔值的函数\n",
    "7. 有关持续时间、日期和时间的函数\n",
    "8. 与 QNames 相关的函数\n",
    "9. 关于节点的函数\n",
    "10. 有关序列的函数\n",
    "11. 上下文函数\n",
    "\n",
    "具体可查阅http://www.w3school.com.cn/xpath/xpath_functions.asp"
   ]
  }
 ],
 "metadata": {
  "kernelspec": {
   "display_name": "Python 3",
   "language": "python",
   "name": "python3"
  },
  "language_info": {
   "codemirror_mode": {
    "name": "ipython",
    "version": 3
   },
   "file_extension": ".py",
   "mimetype": "text/x-python",
   "name": "python",
   "nbconvert_exporter": "python",
   "pygments_lexer": "ipython3",
   "version": "3.7.0"
  },
  "toc": {
   "base_numbering": 1,
   "nav_menu": {},
   "number_sections": true,
   "sideBar": true,
   "skip_h1_title": false,
   "title_cell": "Table of Contents",
   "title_sidebar": "Contents",
   "toc_cell": false,
   "toc_position": {},
   "toc_section_display": true,
   "toc_window_display": true
  },
  "varInspector": {
   "cols": {
    "lenName": 16,
    "lenType": 16,
    "lenVar": 40
   },
   "kernels_config": {
    "python": {
     "delete_cmd_postfix": "",
     "delete_cmd_prefix": "del ",
     "library": "var_list.py",
     "varRefreshCmd": "print(var_dic_list())"
    },
    "r": {
     "delete_cmd_postfix": ") ",
     "delete_cmd_prefix": "rm(",
     "library": "var_list.r",
     "varRefreshCmd": "cat(var_dic_list()) "
    }
   },
   "types_to_exclude": [
    "module",
    "function",
    "builtin_function_or_method",
    "instance",
    "_Feature"
   ],
   "window_display": false
  }
 },
 "nbformat": 4,
 "nbformat_minor": 2
}
