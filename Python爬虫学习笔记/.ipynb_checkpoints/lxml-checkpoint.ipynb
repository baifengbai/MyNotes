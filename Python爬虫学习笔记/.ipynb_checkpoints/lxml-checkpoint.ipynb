{
 "cells": [
  {
   "cell_type": "markdown",
   "metadata": {},
   "source": [
    "本文学习于https://www.cnblogs.com/zhangxinqi/p/9210211.html#_label16"
   ]
  },
  {
   "cell_type": "markdown",
   "metadata": {},
   "source": [
    "# lxml库"
   ]
  },
  {
   "cell_type": "markdown",
   "metadata": {},
   "source": [
    "## 简介"
   ]
  },
  {
   "cell_type": "markdown",
   "metadata": {},
   "source": [
    "`lxml`是python的一个解析库，支持`HTML`和`XML`的解析，支持`XPath`解析方式，而且解析效率非常高。\n",
    "\n",
    "`XPath`，全称`XML Path Language`，即**XML路径语言**，它是一门在XML文档中查找信息的语言，它最初是用来搜寻XML文档的，但是它同样适用于HTML文档的搜索。\n",
    "\n",
    "XPath的选择功能十分强大，它提供了非常简明的路径选择表达式，另外，它还提供了超过100个内建函数，用于字符串、数值、时间的匹配以及节点、序列的处理等，**几乎所有我们想要定位的节点，都可以用XPath来选择**。\n",
    "\n",
    "XPath于1999年11月16日成为W3C标准，它被设计为供XSLT、XPointer以及其他XML解析软件使用，更多的文档可以访问其官方网站：https://www.w3.org/TR/xpath/"
   ]
  },
  {
   "cell_type": "markdown",
   "metadata": {},
   "source": [
    "## 安装"
   ]
  },
  {
   "cell_type": "markdown",
   "metadata": {},
   "source": [
    "`pip install lxml`"
   ]
  },
  {
   "cell_type": "markdown",
   "metadata": {},
   "source": [
    "# XPath常用规则"
   ]
  },
  {
   "cell_type": "markdown",
   "metadata": {},
   "source": [
    "|表达式|描述|\n",
    "|:--:|:--:|\n",
    "|nodename|选取此节点的所有子节点|\n",
    "|/|从当前节点选取直接子节点|\n",
    "|//|从当前节点选取子孙节点|\n",
    "|**.**|选取当前节点|\n",
    "|**..**|选取当前节点的父节点|\n",
    "|@|选取属性|\n",
    "|*|通配符，选择所有元素节点与元素名|\n",
    "|@*|选取所有属性|\n",
    "|[@attrib]|选取具有给定属性的所有元素|\n",
    "|[@attrib='value']|选取给定属性具有给定值的所有元素|\n",
    "|[tag]|选取所有具有指定元素的直接子节点|\n",
    "|[tag='text']|选取所有具有指定元素并且文本内容是text节点|"
   ]
  },
  {
   "cell_type": "markdown",
   "metadata": {},
   "source": [
    "## starts-with() ,contains() 和 text(),last()函数的用法"
   ]
  },
  {
   "cell_type": "markdown",
   "metadata": {},
   "source": [
    "1. `starts-with(key,value)`: 查找key以value开头的相应节点，如：`div[starts-with(@class,\"par\")]` 即查找属性class以`\"par\"`开头的`div`节点\n",
    "\n",
    "2. `contains(key,value)`：查找key包含value的相应节点，如：`div[contains(@class,\"para\")]`即查找属性class包含`para`的`div`节点\n",
    "\n",
    "3. `text()`：函数文本定位，如:`//a/text()`，即获取所有a节点下的文本，不包含其子节点中的文本；`//a//text()`,获取所有a节点下的文本，包含其子节点的文本；`a[text()=\"百度搜索\"]`,即获取所有文本内容是`百度搜索的`的`a`节点\n",
    "\n",
    "4. `last()`: 函数定位，最后位置"
   ]
  },
  {
   "cell_type": "code",
   "execution_count": null,
   "metadata": {},
   "outputs": [],
   "source": []
  },
  {
   "cell_type": "markdown",
   "metadata": {},
   "source": [
    "## 读取文本解析节点"
   ]
  },
  {
   "cell_type": "markdown",
   "metadata": {},
   "source": [
    "`html = etree.HTML(text)` : 生成一个XPath解析对象\n",
    "\n",
    "`result = etree.tostring(html,encoding='utf-8')` ： 将XPath解析对象输出为字节\n",
    "\n",
    "`result.decode('utf-8')`：将结果解码成utf-8"
   ]
  },
  {
   "cell_type": "code",
   "execution_count": 1,
   "metadata": {
    "ExecuteTime": {
     "end_time": "2019-05-01T02:48:29.156989Z",
     "start_time": "2019-05-01T02:48:29.132056Z"
    }
   },
   "outputs": [
    {
     "name": "stdout",
     "output_type": "stream",
     "text": [
      "type(html):   <class 'lxml.etree._Element'>\n",
      "\n",
      "type(result):   <class 'bytes'>\n",
      "\n",
      "b'<html><body><div>\\n    <ul>\\n         <li class=\"item-0\"><a href=\"link1.html\">\\xe7\\xac\\xac\\xe4\\xb8\\x80\\xe4\\xb8\\xaa</a></li>\\n         <li class=\"item-1\"><a href=\"link2.html\">second item</a></li>\\n         <li class=\"item-0\"><a href=\"link5.html\">a\\xe5\\xb1\\x9e\\xe6\\x80\\xa7</a>\\n     </li></ul>\\n </div>\\n</body></html>'\n",
      "\n",
      "<html><body><div>\n",
      "    <ul>\n",
      "         <li class=\"item-0\"><a href=\"link1.html\">第一个</a></li>\n",
      "         <li class=\"item-1\"><a href=\"link2.html\">second item</a></li>\n",
      "         <li class=\"item-0\"><a href=\"link5.html\">a属性</a>\n",
      "     </li></ul>\n",
      " </div>\n",
      "</body></html>\n"
     ]
    }
   ],
   "source": [
    "from lxml import etree\n",
    "\n",
    "text='''\n",
    "<div>\n",
    "    <ul>\n",
    "         <li class=\"item-0\"><a href=\"link1.html\">第一个</a></li>\n",
    "         <li class=\"item-1\"><a href=\"link2.html\">second item</a></li>\n",
    "         <li class=\"item-0\"><a href=\"link5.html\">a属性</a>\n",
    "     </ul>\n",
    " </div>\n",
    "'''\n",
    "\n",
    "html = etree.HTML(text) # 初始化生成一个XPath解析对象\n",
    "result = etree.tostring(html,encoding='utf-8') # 解析对象为字节\n",
    "\n",
    "print('type(html):  ',type(html))\n",
    "print()\n",
    "print('type(result):  ',type(result))\n",
    "print()\n",
    "print(result)\n",
    "print()\n",
    "print(result.decode('utf-8'))"
   ]
  },
  {
   "cell_type": "markdown",
   "metadata": {},
   "source": [
    "由最后一行的输出结果可知，etree会修复HTML文本节点。"
   ]
  },
  {
   "cell_type": "markdown",
   "metadata": {},
   "source": [
    "## 读取HTML文件进行解析"
   ]
  },
  {
   "cell_type": "code",
   "execution_count": 2,
   "metadata": {
    "ExecuteTime": {
     "end_time": "2019-05-01T02:48:29.231788Z",
     "start_time": "2019-05-01T02:48:29.158984Z"
    }
   },
   "outputs": [
    {
     "name": "stdout",
     "output_type": "stream",
     "text": [
      "type(html):   <class 'lxml.etree._ElementTree'>\n",
      "\n",
      "type(result):   <class 'bytes'>\n",
      "\n",
      "b'<!DOCTYPE html>\\n<!-- saved from url=(0047)https://baike.baidu.com/item/%E8%B5%B5%E6%9B%99 --><html><head><meta http-equiv=\"Content-Type\" content=\"text/html; charset=UTF-8\"/><script async=\"\" src=\"./&#36213;&#26329;_&#30334;&#24230;&#30334;&#31185;_files/element.min.js\"/><script async=\"\" src=\"./&#36213;&#26329;_&#30334;&#24230;&#30334;&#31185;_files/monkey.min.js\"/><script async=\"\" src=\"./&#36213;&#26329;_&#30334;&#24230;&#30334;&#31185;_files/dp.min.js\"/><script type=\"text/javascript\" async=\"\" src=\"./&#36213;&#26329;_&#30334;&#24230;&#30334;&#31185;_files/auto_dup\"/>\\n\\n<meta http-equiv=\"X-UA-Compatible\" content=\"IE=Edge\"/>\\n<meta name=\"referrer\" content=\"always\"/>\\n<meta name=\"description\" content=\"&#36213;&#26329;&#65288;1032&#24180;2&#26376;16&#26085;&#65293;1067&#24180;1&#26376;25&#26085;&#65289;&#65292;&#21363;&#23435;&#33521;&#23447;&#65288;1063&#24180;5&#26376;&#19968;1067&#24180;1&#26376;&#22312;&#20301;&#65289;&#65292;&#21407;&#21517;&#36213;&#23447;&#23454;&#65292;&#21518;&#25913;&#21517;&#36213;&#26329;&#65292;&#23435;&#26397;&#31532;&#20116;&#20301;&#30343;&#24093;&#65292;&#23435;&#22826;&#23447;&#36213;&#20809;&#20041;&#26366;&#23385;&#65292;&#21830;&#29579;&#36213;&#20803;&#20221;&#20043;&#23385;&#65292;&#28654;&#29579;&#36213;&#20801;&#35753;&#31532;&#21313;&#19977;&#23376;&#65292;&#23435;&#20161;&#23447;&#36213;&#31087;&#20859;&#23376;&#12290;&#36213;&#26329;&#24188;&#24180;&#26102;&#34987;&#26080;&#23376;&#30340;&#20161;&#23447;&#25509;&#20837;&#30343;&#23467;&#25242;&#20859;&#65292;&#36176;&#21517;&#20026;&#36213;&#23447;&#23454;&#12290;&#25285;&#20219;&#24038;&#30417;&#38376;&#21355;&#29575;&#24220;&#21103;&#29575;&#65292;&#21518;&#21382;&#20219;&#21491;&#32701;&#26519;&#20891;&#22823;&#23558;&#20891;&#12289;&#23452;&#24030;&#21050;&#21490;&#12289;&#23731;&#24030;&#22242;&#32451;&#20351;&#12289;&#31206;&#24030;&#38450;&#24481;&#20351;&#12290;&#22025;&#31056;&#19971;&#24180;&#65288;1062&#24180;&#65289;&#65292;&#34987;&#31435;&#20026;&#30343;&#23376;&#65292;&#25913;&#21517;&#36213;&#26329;&#65292;&#23553;&#24040;&#40575;&#37089;&#20844;&#12290;&#22025;&#31056;&#20843;&#24180;&#65288;1063&#24180;&#65289;&#65292;&#36213;&#26329;&#21363;&#24093;&#20301;&#12290;&#36213;&#26329;&#20026;&#24093;&#20043;&#21518;&#65292;&#20219;&#29992;&#26087;&#33251;&#38889;&#29734;&#31561;&#20154;&#65292;&#19982;&#36797;&#22269;&#21644;&#35199;&#22799;&#27809;&#26377;&#21457;&#29983;&#22823;&#35268;&#27169;&#30340;&#25112;&#20105;&#12290;&#27835;&#24179;&#19977;&#24180;&#65288;1066&#24180;&#65289;&#65292;&#36213;&#26329;&#21629;&#21496;&#39532;&#20809;&#35774;&#23616;&#19987;&#20462;&#12298;&#36164;&#27835;&#36890;&#37492;&#12299;&#12290;&#27835;&#24179;&#22235;&#24180;&#65288;1067&#24180;&#65289;&#65292;&#36213;&#26329;&#22240;&#30149;&#39550;&#23849;&#20110;&#23467;&#20013;&#31119;&#23425;&#27583;&#65292;&#20139;&#24180;&#19977;&#21313;&#20116;&#23681;&#65292;&#22312;&#20301;4&#24180;&#65292;&#35877;&#21495;&#20026;&#23466;&#25991;&#32899;&#27494;&#23459;&#23389;&#30343;&#24093;&#65292;&#24217;&#21495;&#33521;&#23447;&#65292;&#33900;&#20110;&#27704;&#21402;&#38517;&#65288;&#20170;&#27827;&#21335;&#24041;&#20041;&#23389;&#20041;&#22561;&#65289;&#12290;&#20803;&#20016;&#20845;&#24180;&#65288;1083&#24180;&#65289;&#21313;&#19968;&#26376;&#65292;&#21152;&#35877;&#20307;&#20094;&#24212;&#21382;&#38534;&#21151;&#30427;&#24503;&#23466;&#25991;&#32899;&#27494;&#30591;&#22307;&#23459;&#23389;&#30343;&#24093;&#12290;...\"/>\\n<title>&#36213;&#26329;_&#30334;&#24230;&#30334;&#31185;</title>\\n<link rel=\"shortcut icon\" href=\"https://baike.baidu.com/favicon.ico\" type=\"image/x-icon\"/>\\n<link rel=\"icon\" sizes=\"any\" mask=\"\" href=\"https://www.baidu.com/img/baidu.svg\"/>\\n\\n<meta name=\"keywords\" content=\"&#36213;&#26329; &#21271;&#23435;&#33521;&#23447; &#23435;&#33521;&#23447; &#36213;&#26329;&#20154;&#29289;&#29983;&#24179; &#36213;&#26329;&#20026;&#25919;&#20030;&#25514; &#36213;&#26329;&#21382;&#21490;&#35780;&#20215; &#36213;&#26329;&#36726;&#20107;&#20856;&#25925; &#36213;&#26329;&#23478;&#24237;&#25104;&#21592; &#36213;&#26329;&#21490;&#20070;&#35760;&#36733;\"/>\\n<meta name=\"image\" content=\"https://bkssl.bdimg.com/cms/static/baike.png\"/>\\n<script src=\"./&#36213;&#26329;_&#30334;&#24230;&#30334;&#31185;_files/hm.js\"/><script async=\"\" src=\"./&#36213;&#26329;_&#30334;&#24230;&#30334;&#31185;_files/alog.min.js\"/><script type=\"text/javascript\">\\n  // &#37197;&#32622; PD &#30417;&#25511;&#12290;\\n  window.alogObjectConfig = {\\n    product: \\'103\\',\\n    page: \\'103_1\\',\\n    speed: {\\n      sample: \\'0.008\\'\\n    },\\n    monkey: {\\n      sample: \\'1\\',\\n      hid: \\'1533\\'\\n    },\\n    exception: { \\n      sample: \\'0.004\\'\\n    },\\n    feature: {\\n      sample: \\'0.004\\'\\n    },\\n    csp: {\\n      sample: \\'0.008\\',\\n      \\'default-src\\': [\\n        {match: \\'*.baidu.com,*.bdimg.com,localhost\\', target: \\'Accept\\'},\\n        {match: \\'*\\', target: \\'Accept,Warn\\'}\\n      ]\\n    }\\n  };\\n\\n  void function(a,b,c,d,e,f,g){a.alogObjectName=e,a[e]=a[e]||function(){(a[e].q=a[e].q||[]).push(arguments)},a[e].l=a[e].l||+new Date,d=\"https:\"===a.location.protocol?\"https://fex.bdstatic.com\"+d:\"http://fex.bdstatic.com\"+d;var h=!0;if(a.alogObjectConfig&amp;&amp;a.alogObjectConfig.sample){var i=Math.random();a.alogObjectConfig.rand=i,i&gt;a.alogObjectConfig.sample&amp;&amp;(h=!1)}h&amp;&amp;(f=b.createElement(c),f.async=!0,f.src=d+\"?v=\"+~(new Date/864e5)+~(new Date/864e5),g=b.getElementsByTagName(c)[0],g.parentNode.insertBefore(f,g))}(window,document,\"script\",\"/hunter/alog/alog.min.js\",\"alog\"),void function(){function a(){}window.PDC={mark:function(a,b){alog(\"speed.set\",a,b||+new Date),alog.fire&amp;&amp;alog.fire(\"mark\")},init:function(a){alog(\"speed.set\",\"options\",a)},view_start:a,tti:a,page_ready:a}}();\\n  void function(n){var o=!1;n.onerror=function(n,e,t,c){var i=!0;return!e&amp;&amp;/^script error/i.test(n)&amp;&amp;(o?i=!1:o=!0),i&amp;&amp;alog(\"exception.send\",\"exception\",{msg:n,js:e,ln:t,col:c}),!1},alog(\"exception.on\",\"catch\",function(n){alog(\"exception.send\",\"exception\",{msg:n.msg,js:n.path,ln:n.ln,method:n.method,flag:\"catch\"})})}(window);\\n</script>\\n<meta name=\"csrf-token\" content=\"\"/>\\n<meta itemprop=\"dateUpdate\" content=\"2019-04-17 11:46:39\"/>\\n\\n<!--[if lte IE 9]>\\n<script>\\n    (function() {\\n      var e = \"abbr,article,aside,audio,canvas,datalist,details,dialog,eventsource,figure,footer,header,hgroup,mark,menu,meter,nav,output,progress,section,time,video\".split(\",\"),\\n        i = e.length;\\n      while (i--) {\\n        document.createElement(e[i]);\\n      }\\n    })();\\n  </script>\\n<![endif]-->\\n<link rel=\"stylesheet\" type=\"text/css\" href=\"./&#36213;&#26329;_&#30334;&#24230;&#30334;&#31185;_files/wiki-lemma_a152d97.css\"/><link rel=\"stylesheet\" type=\"text/css\" href=\"./&#36213;&#26329;_&#30334;&#24230;&#30334;&#31185;_files/wiki-common-base_66a9374.css\"/><link rel=\"stylesheet\" type=\"text/css\" href=\"./&#36213;&#26329;_&#30334;&#24230;&#30334;&#31185;_files/userbar-n_2890903.css\"/><link rel=\"stylesheet\" type=\"text/css\" href=\"./&#36213;&#26329;_&#30334;&#24230;&#30334;&#31185;_files/larkplayer_981c735.css\"/><link rel=\"stylesheet\" type=\"text/css\" href=\"./&#36213;&#26329;_&#30334;&#24230;&#30334;&#31185;_files/webuploader_08d9db4.css\"/><link rel=\"stylesheet\" type=\"text/css\" href=\"./&#36213;&#26329;_&#30334;&#24230;&#30334;&#31185;_files/wiki-lemma-module_30d5b43.css\"/><link rel=\"stylesheet\" type=\"text/css\" href=\"./&#36213;&#26329;_&#30334;&#24230;&#30334;&#31185;_files/announcement_cba33f4.css\"/><link rel=\"stylesheet\" type=\"text/css\" href=\"./&#36213;&#26329;_&#30334;&#24230;&#30334;&#31185;_files/label_ca156c6.css\"/><link rel=\"stylesheet\" type=\"text/css\" href=\"./&#36213;&#26329;_&#30334;&#24230;&#30334;&#31185;_files/sideShare_9c411cd.css\"/><link rel=\"stylesheet\" type=\"text/css\" href=\"./&#36213;&#26329;_&#30334;&#24230;&#30334;&#31185;_files/pageMask_ff9a193.css\"/><link rel=\"stylesheet\" type=\"text/css\" href=\"./&#36213;&#26329;_&#30334;&#24230;&#30334;&#31185;_files/focusAndRelation_3a5f624.css\"/><link rel=\"stylesheet\" type=\"text/css\" href=\"./&#36213;&#26329;_&#30334;&#24230;&#30334;&#31185;_files/mainContent_98e3702.css\"/><link rel=\"stylesheet\" type=\"text/css\" href=\"./&#36213;&#26329;_&#30334;&#24230;&#30334;&#31185;_files/lemmaRelation_ac86a59.css\"/><link rel=\"stylesheet\" type=\"text/css\" href=\"./&#36213;&#26329;_&#30334;&#24230;&#30334;&#31185;_files/zhixin_3b0d7a5.css\"/><link rel=\"stylesheet\" type=\"text/css\" href=\"./&#36213;&#26329;_&#30334;&#24230;&#30334;&#31185;_files/toolButtons-n_8b4919b.css\"/><link rel=\"stylesheet\" type=\"text/css\" href=\"./&#36213;&#26329;_&#30334;&#24230;&#30334;&#31185;_files/userInfo-n_7e90184.css\"/><link rel=\"stylesheet\" type=\"text/css\" href=\"./&#36213;&#26329;_&#30334;&#24230;&#30334;&#31185;_files/searchHeader-n_f9a6e5b.css\"/>    \\n<script type=\"text/javascript\">\\n    alog(\\'speed.set\\', \\'ht\\', +new Date);\\n</script><script>\\n        var _hmt = _hmt || [];\\n        (function() {\\n            var hm = document.createElement(\"script\");\\n            hm.src = \"https://hm.baidu.com/hm.js?55b574651fcae74b0a9f1cf9c8d7c93a\";\\n            var s = document.getElementsByTagName(\"script\")[0];\\n            s.parentNode.insertBefore(hm, s);\\n        })();\\n    </script><script type=\"text/javascript\" src=\"./&#36213;&#26329;_&#30334;&#24230;&#30334;&#31185;_files/wiki-lemma-module-lemmaRelation_853c311.js\"/><script type=\"text/javascript\" src=\"./&#36213;&#26329;_&#30334;&#24230;&#30334;&#31185;_files/lemmaReferenceTip_3a154ae.js\"/><link rel=\"stylesheet\" href=\"./&#36213;&#26329;_&#30334;&#24230;&#30334;&#31185;_files/share_style0_16.css\"/><script src=\"./&#36213;&#26329;_&#30334;&#24230;&#30334;&#31185;_files/qc.php\" type=\"text/javascript\" charset=\"utf-8\"/></head>\\n\\n\\n\\n\\n<body class=\"wiki-lemma normal\"><div id=\"BAIDU_DUP_fp_wrapper\" style=\"position: absolute; left: -1px; bottom: -1px; z-index: 0; width: 0px; height: 0px; overflow: hidden;"
     ]
    },
    {
     "data": {
      "text/html": [
       "<b>limit_output extension: Maximum message size of 10000 exceeded with 570189 characters</b>"
      ]
     },
     "metadata": {},
     "output_type": "display_data"
    }
   ],
   "source": [
    "from lxml import etree\n",
    "\n",
    "# 指定解析器HTMLParser，会根据文件修复HTML文件中缺失的元素\n",
    "html = etree.parse('./data/赵曙_百度百科.html',etree.HTMLParser())\n",
    "result = etree.tostring(html) # 解析成字节\n",
    "\n",
    "print('type(html):  ',type(html))\n",
    "print()\n",
    "print('type(result):  ',type(result))\n",
    "print()\n",
    "print(result)\n",
    "print()\n",
    "print(result.decode('utf-8'))"
   ]
  },
  {
   "cell_type": "code",
   "execution_count": 3,
   "metadata": {
    "ExecuteTime": {
     "end_time": "2019-05-01T02:48:29.257720Z",
     "start_time": "2019-05-01T02:48:29.233783Z"
    }
   },
   "outputs": [
    {
     "name": "stdout",
     "output_type": "stream",
     "text": [
      "type(html):   <class 'lxml.etree._ElementTree'>\n",
      "\n",
      "type(result):   <class 'list'>\n",
      "\n",
      "[b'<!DOCTYPE html>\\n<!-- saved from url=(0047)https://baike.baidu.com/item/%E8%B5%B5%E6%9B%99 --><html><head><meta http-equiv=\"Content-Type\" content=\"text/html; charset=UTF-8\"/><script async=\"\" src=\"./&#36213;&#26329;_&#30334;&#24230;&#30334;&#31185;_files/element.min.js\"/><script async=\"\" src=\"./&#36213;&#26329;_&#30334;&#24230;&#30334;&#31185;_files/monkey.min.js\"/><script async=\"\" src=\"./&#36213;&#26329;_&#30334;&#24230;&#30334;&#31185;_files/dp.min.js\"/><script type=\"text/javascript\" async=\"\" src=\"./&#36213;&#26329;_&#30334;&#24230;&#30334;&#31185;_files/auto_dup\"/>\\n\\n<meta http-equiv=\"X-UA-Compatible\" content=\"IE=Edge\"/>\\n<meta name=\"referrer\" content=\"always\"/>\\n<meta name=\"description\" content=\"&#36213;&#26329;&#65288;1032&#24180;2&#26376;16&#26085;&#65293;1067&#24180;1&#26376;25&#26085;&#65289;&#65292;&#21363;&#23435;&#33521;&#23447;&#65288;1063&#24180;5&#26376;&#19968;1067&#24180;1&#26376;&#22312;&#20301;&#65289;&#65292;&#21407;&#21517;&#36213;&#23447;&#23454;&#65292;&#21518;&#25913;&#21517;&#36213;&#26329;&#65292;&#23435;&#26397;&#31532;&#20116;&#20301;&#30343;&#24093;&#65292;&#23435;&#22826;&#23447;&#36213;&#20809;&#20041;&#26366;&#23385;&#65292;&#21830;&#29579;&#36213;&#20803;&#20221;&#20043;&#23385;&#65292;&#28654;&#29579;&#36213;&#20801;&#35753;&#31532;&#21313;&#19977;&#23376;&#65292;&#23435;&#20161;&#23447;&#36213;&#31087;&#20859;&#23376;&#12290;&#36213;&#26329;&#24188;&#24180;&#26102;&#34987;&#26080;&#23376;&#30340;&#20161;&#23447;&#25509;&#20837;&#30343;&#23467;&#25242;&#20859;&#65292;&#36176;&#21517;&#20026;&#36213;&#23447;&#23454;&#12290;&#25285;&#20219;&#24038;&#30417;&#38376;&#21355;&#29575;&#24220;&#21103;&#29575;&#65292;&#21518;&#21382;&#20219;&#21491;&#32701;&#26519;&#20891;&#22823;&#23558;&#20891;&#12289;&#23452;&#24030;&#21050;&#21490;&#12289;&#23731;&#24030;&#22242;&#32451;&#20351;&#12289;&#31206;&#24030;&#38450;&#24481;&#20351;&#12290;&#22025;&#31056;&#19971;&#24180;&#65288;1062&#24180;&#65289;&#65292;&#34987;&#31435;&#20026;&#30343;&#23376;&#65292;&#25913;&#21517;&#36213;&#26329;&#65292;&#23553;&#24040;&#40575;&#37089;&#20844;&#12290;&#22025;&#31056;&#20843;&#24180;&#65288;1063&#24180;&#65289;&#65292;&#36213;&#26329;&#21363;&#24093;&#20301;&#12290;&#36213;&#26329;&#20026;&#24093;&#20043;&#21518;&#65292;&#20219;&#29992;&#26087;&#33251;&#38889;&#29734;&#31561;&#20154;&#65292;&#19982;&#36797;&#22269;&#21644;&#35199;&#22799;&#27809;&#26377;&#21457;&#29983;&#22823;&#35268;&#27169;&#30340;&#25112;&#20105;&#12290;&#27835;&#24179;&#19977;&#24180;&#65288;1066&#24180;&#65289;&#65292;&#36213;&#26329;&#21629;&#21496;&#39532;&#20809;&#35774;&#23616;&#19987;&#20462;&#12298;&#36164;&#27835;&#36890;&#37492;&#12299;&#12290;&#27835;&#24179;&#22235;&#24180;&#65288;1067&#24180;&#65289;&#65292;&#36213;&#26329;&#22240;&#30149;&#39550;&#23849;&#20110;&#23467;&#20013;&#31119;&#23425;&#27583;&#65292;&#20139;&#24180;&#19977;&#21313;&#20116;&#23681;&#65292;&#22312;&#20301;4&#24180;&#65292;&#35877;&#21495;&#20026;&#23466;&#25991;&#32899;&#27494;&#23459;&#23389;&#30343;&#24093;&#65292;&#24217;&#21495;&#33521;&#23447;&#65292;&#33900;&#20110;&#27704;&#21402;&#38517;&#65288;&#20170;&#27827;&#21335;&#24041;&#20041;&#23389;&#20041;&#22561;&#65289;&#12290;&#20803;&#20016;&#20845;&#24180;&#65288;1083&#24180;&#65289;&#21313;&#19968;&#26376;&#65292;&#21152;&#35877;&#20307;&#20094;&#24212;&#21382;&#38534;&#21151;&#30427;&#24503;&#23466;&#25991;&#32899;&#27494;&#30591;&#22307;&#23459;&#23389;&#30343;&#24093;&#12290;...\"/>\\n<title>&#36213;&#26329;_&#30334;&#24230;&#30334;&#31185;</title>\\n<link rel=\"shortcut icon\" href=\"https://baike.baidu.com/favicon.ico\" type=\"image/x-icon\"/>\\n<link rel=\"icon\" sizes=\"any\" mask=\"\" href=\"https://www.baidu.com/img/baidu.svg\"/>\\n\\n<meta name=\"keywords\" content=\"&#36213;&#26329; &#21271;&#23435;&#33521;&#23447; &#23435;&#33521;&#23447; &#36213;&#26329;&#20154;&#29289;&#29983;&#24179; &#36213;&#26329;&#20026;&#25919;&#20030;&#25514; &#36213;&#26329;&#21382;&#21490;&#35780;&#20215; &#36213;&#26329;&#36726;&#20107;&#20856;&#25925; &#36213;&#26329;&#23478;&#24237;&#25104;&#21592; &#36213;&#26329;&#21490;&#20070;&#35760;&#36733;\"/>\\n<meta name=\"image\" content=\"https://bkssl.bdimg.com/cms/static/baike.png\"/>\\n<script src=\"./&#36213;&#26329;_&#30334;&#24230;&#30334;&#31185;_files/hm.js\"/><script async=\"\" src=\"./&#36213;&#26329;_&#30334;&#24230;&#30334;&#31185;_files/alog.min.js\"/><script type=\"text/javascript\">\\n  // &#37197;&#32622; PD &#30417;&#25511;&#12290;\\n  window.alogObjectConfig = {\\n    product: \\'103\\',\\n    page: \\'103_1\\',\\n    speed: {\\n      sample: \\'0.008\\'\\n    },\\n    monkey: {\\n      sample: \\'1\\',\\n      hid: \\'1533\\'\\n    },\\n    exception: { \\n      sample: \\'0.004\\'\\n    },\\n    feature: {\\n      sample: \\'0.004\\'\\n    },\\n    csp: {\\n      sample: \\'0.008\\',\\n      \\'default-src\\': [\\n        {match: \\'*.baidu.com,*.bdimg.com,localhost\\', target: \\'Accept\\'},\\n        {match: \\'*\\', target: \\'Accept,Warn\\'}\\n      ]\\n    }\\n  };\\n\\n  void function(a,b,c,d,e,f,g){a.alogObjectName=e,a[e]=a[e]||function(){(a[e].q=a[e].q||[]).push(arguments)},a[e].l=a[e].l||+new Date,d=\"https:\"===a.location.protocol?\"https://fex.bdstatic.com\"+d:\"http://fex.bdstatic.com\"+d;var h=!0;if(a.alogObjectConfig&amp;&amp;a.alogObjectConfig.sample){var i=Math.random();a.alogObjectConfig.rand=i,i&gt;a.alogObjectConfig.sample&amp;&amp;(h=!1)}h&amp;&amp;(f=b.createElement(c),f.async=!0,f.src=d+\"?v=\"+~(new Date/864e5)+~(new Date/864e5),g=b.getElementsByTagName(c)[0],g.parentNode.insertBefore(f,g))}(window,document,\"script\",\"/hunter/alog/alog.min.js\",\"alog\"),void function(){function a(){}window.PDC={mark:function(a,b){alog(\"speed.set\",a,b||+new Date),alog.fire&amp;&amp;alog.fire(\"mark\")},init:function(a){alog(\"speed.set\",\"options\",a)},view_start:a,tti:a,page_ready:a}}();\\n  void function(n){var o=!1;n.onerror=function(n,e,t,c){var i=!0;return!e&amp;&amp;/^script error/i.test(n)&amp;&amp;(o?i=!1:o=!0),i&amp;&amp;alog(\"exception.send\",\"exception\",{msg:n,js:e,ln:t,col:c}),!1},alog(\"exception.on\",\"catch\",function(n){alog(\"exception.send\",\"exception\",{msg:n.msg,js:n.path,ln:n.ln,method:n.method,flag:\"catch\"})})}(window);\\n</script>\\n<meta name=\"csrf-token\" content=\"\"/>\\n<meta itemprop=\"dateUpdate\" content=\"2019-04-17 11:46:39\"/>\\n\\n<!--[if lte IE 9]>\\n<script>\\n    (function() {\\n      var e = \"abbr,article,aside,audio,canvas,datalist,details,dialog,eventsource,figure,footer,header,hgroup,mark,menu,meter,nav,output,progress,section,time,video\".split(\",\"),\\n        i = e.length;\\n      while (i--) {\\n        document.createElement(e[i]);\\n      }\\n    })();\\n  </script>\\n<![endif]-->\\n<link rel=\"stylesheet\" type=\"text/css\" href=\"./&#36213;&#26329;_&#30334;&#24230;&#30334;&#31185;_files/wiki-lemma_a152d97.css\"/><link rel=\"stylesheet\" type=\"text/css\" href=\"./&#36213;&#26329;_&#30334;&#24230;&#30334;&#31185;_files/wiki-common-base_66a9374.css\"/><link rel=\"stylesheet\" type=\"text/css\" href=\"./&#36213;&#26329;_&#30334;&#24230;&#30334;&#31185;_files/userbar-n_2890903.css\"/><link rel=\"stylesheet\" type=\"text/css\" href=\"./&#36213;&#26329;_&#30334;&#24230;&#30334;&#31185;_files/larkplayer_981c735.css\"/><link rel=\"stylesheet\" type=\"text/css\" href=\"./&#36213;&#26329;_&#30334;&#24230;&#30334;&#31185;_files/webuploader_08d9db4.css\"/><link rel=\"stylesheet\" type=\"text/css\" href=\"./&#36213;&#26329;_&#30334;&#24230;&#30334;&#31185;_files/wiki-lemma-module_30d5b43.css\"/><link rel=\"stylesheet\" type=\"text/css\" href=\"./&#36213;&#26329;_&#30334;&#24230;&#30334;&#31185;_files/announcement_cba33f4.css\"/><link rel=\"stylesheet\" type=\"text/css\" href=\"./&#36213;&#26329;_&#30334;&#24230;&#30334;&#31185;_files/label_ca156c6.css\"/><link rel=\"stylesheet\" type=\"text/css\" href=\"./&#36213;&#26329;_&#30334;&#24230;&#30334;&#31185;_files/sideShare_9c411cd.css\"/><link rel=\"stylesheet\" type=\"text/css\" href=\"./&#36213;&#26329;_&#30334;&#24230;&#30334;&#31185;_files/pageMask_ff9a193.css\"/><link rel=\"stylesheet\" type=\"text/css\" href=\"./&#36213;&#26329;_&#30334;&#24230;&#30334;&#31185;_files/focusAndRelation_3a5f624.css\"/><link rel=\"stylesheet\" type=\"text/css\" href=\"./&#36213;&#26329;_&#30334;&#24230;&#30334;&#31185;_files/mainContent_98e3702.css\"/><link rel=\"stylesheet\" type=\"text/css\" href=\"./&#36213;&#26329;_&#30334;&#24230;&#30334;&#31185;_files/lemmaRelation_ac86a59.css\"/><link rel=\"stylesheet\" type=\"text/css\" href=\"./&#36213;&#26329;_&#30334;&#24230;&#30334;&#31185;_files/zhixin_3b0d7a5.css\"/><link rel=\"stylesheet\" type=\"text/css\" href=\"./&#36213;&#26329;_&#30334;&#24230;&#30334;&#31185;_files/toolButtons-n_8b4919b.css\"/><link rel=\"stylesheet\" type=\"text/css\" href=\"./&#36213;&#26329;_&#30334;&#24230;&#30334;&#31185;_files/userInfo-n_7e90184.css\"/><link rel=\"stylesheet\" type=\"text/css\" href=\"./&#36213;&#26329;_&#30334;&#24230;&#30334;&#31185;_files/searchHeader-n_f9a6e5b.css\"/>    \\n<script type=\"text/javascript\">\\n    alog(\\'speed.set\\', \\'ht\\', +new Date);\\n</script><script>\\n        var _hmt = _hmt || [];\\n        (function() {\\n            var hm = document.createElement(\"script\");\\n            hm.src = \"https://hm.baidu.com/hm.js?55b574651fcae74b0a9f1cf9c8d7c93a\";\\n            var s = document.getElementsByTagName(\"script\")[0];\\n            s.parentNode.insertBefore(hm, s);\\n        })();\\n    </script><script type=\"text/javascript\" src=\"./&#36213;&#26329;_&#30334;&#24230;&#30334;&#31185;_files/wiki-lemma-module-lemmaRelation_853c311.js\"/><script type=\"text/javascript\" src=\"./&#36213;&#26329;_&#30334;&#24230;&#30334;&#31185;_files/lemmaReferenceTip_3a154ae.js\"/><link rel=\"stylesheet\" href=\"./&#36213;&#26329;_&#30334;&#24230;&#30334;&#31185;_files/share_style0_16.css\"/><script src=\"./&#36213;&#26329;_&#30334;&#24230;&#30334;&#31185;_files/qc.php\" type=\"text/javascript\" charset=\"utf-8\"/></head>\\n\\n\\n\\n\\n<body class=\"wiki-lemma normal\"><div id=\"BAIDU_DUP_fp_wrapper\" style=\"position: absolute; left: -1px; bottom: -1px; z-index: 0; width: 0px; height: 0px; overflow: hidden;"
     ]
    },
    {
     "data": {
      "text/html": [
       "<b>limit_output extension: Maximum message size of 10000 exceeded with 288641 characters</b>"
      ]
     },
     "metadata": {},
     "output_type": "display_data"
    }
   ],
   "source": [
    "result = etree.tostringlist(html) # 解析成列表\n",
    "\n",
    "print('type(html):  ',type(html))\n",
    "print()\n",
    "print('type(result):  ',type(result))\n",
    "print()\n",
    "print(result)"
   ]
  },
  {
   "cell_type": "markdown",
   "metadata": {},
   "source": [
    "## 获取所有节点"
   ]
  },
  {
   "cell_type": "markdown",
   "metadata": {},
   "source": [
    "返回一个列表，其中每个元素都是Element类型，所有节点都包含在其中"
   ]
  },
  {
   "cell_type": "code",
   "execution_count": 4,
   "metadata": {
    "ExecuteTime": {
     "end_time": "2019-05-01T02:48:29.278701Z",
     "start_time": "2019-05-01T02:48:29.260713Z"
    }
   },
   "outputs": [
    {
     "name": "stdout",
     "output_type": "stream",
     "text": [
      "type(html):  <class 'lxml.etree._ElementTree'>\n",
      "\n",
      "type(result):  <class 'list'>\n",
      "\n",
      "result:  [<Element html at 0x11b974ff448>, <Element head at 0x11b973fbb48>, <Element meta at 0x11b974decc8>, <Element script at 0x11b974dec48>, <Element script at 0x11b974ff408>, <Element script at 0x11b974ff4c8>, <Element script at 0x11b974ff508>, <Element meta at 0x11b974ff548>, <Element meta at 0x11b974ff588>, <Element meta at 0x11b974ff488>]\n"
     ]
    }
   ],
   "source": [
    "from lxml import etree\n",
    "\n",
    "html = etree.parse('./data/赵曙_百度百科.html',etree.HTMLParser())\n",
    "result = html.xpath('//*') # //* 代表获取子孙节点，* 代表获取所有\n",
    "\n",
    "print('type(html): ',type(html))\n",
    "print()\n",
    "print('type(result): ',type(result))\n",
    "print()\n",
    "print('result: ',result[:10])"
   ]
  },
  {
   "cell_type": "markdown",
   "metadata": {},
   "source": [
    "如要获取`div`节点，可以使用`//`后面加上节点名称，然后调用`xpath()`方法"
   ]
  },
  {
   "cell_type": "code",
   "execution_count": 5,
   "metadata": {
    "ExecuteTime": {
     "end_time": "2019-05-01T02:48:29.285646Z",
     "start_time": "2019-05-01T02:48:29.279662Z"
    }
   },
   "outputs": [
    {
     "name": "stdout",
     "output_type": "stream",
     "text": [
      "[<Element div at 0x11b974ffe48>, <Element div at 0x11b974ffec8>, <Element div at 0x11b974fff08>, <Element div at 0x11b97503188>, <Element div at 0x11b975031c8>, <Element div at 0x11b97503488>, <Element div at 0x11b975034c8>, <Element div at 0x11b97503508>, <Element div at 0x11b97503548>, <Element div at 0x11b975036c8>]\n"
     ]
    }
   ],
   "source": [
    "div_result = html.xpath('//div') # 获取所有子孙节点的div节点\n",
    "print(div_result[:10])"
   ]
  },
  {
   "cell_type": "markdown",
   "metadata": {},
   "source": [
    "## 获取子节点"
   ]
  },
  {
   "cell_type": "markdown",
   "metadata": {},
   "source": [
    "通过 `/` 或者 `//` ，即可查找元素的子节点或者子孙节点，如果想要选择 `div` 节点的所有直接`a`节点，可以这样使用"
   ]
  },
  {
   "cell_type": "code",
   "execution_count": 6,
   "metadata": {
    "ExecuteTime": {
     "end_time": "2019-05-01T02:48:29.292628Z",
     "start_time": "2019-05-01T02:48:29.287641Z"
    }
   },
   "outputs": [
    {
     "name": "stdout",
     "output_type": "stream",
     "text": [
      "[<Element a at 0x11b97503208>, <Element a at 0x11b97503248>, <Element a at 0x11b97503288>, <Element a at 0x11b975032c8>, <Element a at 0x11b97503308>, <Element a at 0x11b97503348>, <Element a at 0x11b97503388>, <Element a at 0x11b975033c8>, <Element a at 0x11b97503408>, <Element a at 0x11b97503588>]\n"
     ]
    }
   ],
   "source": [
    "# 通过追加 /a 选择所有div 节点的所有直接节点，\n",
    "# 因为//div 用于选中所有div节点，/a 用于选中div节点的所有直接子节点a\n",
    "a_result = html.xpath('//div/a')\n",
    "print(a_result[:10])"
   ]
  },
  {
   "cell_type": "markdown",
   "metadata": {},
   "source": [
    "## 获取父节点"
   ]
  },
  {
   "cell_type": "markdown",
   "metadata": {},
   "source": [
    "我们知道，通过连续的`/`或者`//`，可以查找直接子节点或子孙节点，那么要查找 父节点可以使用`..`来实现，也可以使用`轴`，即`parent::`来获取父节点。\n",
    "\n",
    "比如，我们想要获取所有包含属性`href=\"https://baike.baidu.com/item/%E6%AC%A7%E9%98%B3%E4%BF%AE\"`的`a`元素的`父节点`，首先我们要定位`a`元素节点，即用`//a`，然后定位属性,即`//a[@href=\"https://baike.baidu.com/item/%E6%AC%A7%E9%98%B3%E4%BF%AE\"]/`,然后锁定其父节点,即`//a[@href=\"https://baike.baidu.com/item/%E6%AC%A7%E9%98%B3%E4%BF%AE\"]/..`；另一种写法是`//a[@href=\"https://baike.baidu.com/item/%E6%AC%A7%E9%98%B3%E4%BF%AE\"]/parent::` 。\n",
    "\n",
    "如果进一步，我们想要获取其父节点的属性`class`的值呢，则可以`//a[@href=\"https://baike.baidu.com/item/%E6%AC%A7%E9%98%B3%E4%BF%AE\"]/../@class` 或 `//a[@href=\"https://baike.baidu.com/item/%E6%AC%A7%E9%98%B3%E4%BF%AE\"]/parent::*/@class`"
   ]
  },
  {
   "cell_type": "code",
   "execution_count": 7,
   "metadata": {
    "ExecuteTime": {
     "end_time": "2019-05-01T02:48:29.303608Z",
     "start_time": "2019-05-01T02:48:29.294621Z"
    }
   },
   "outputs": [
    {
     "name": "stdout",
     "output_type": "stream",
     "text": [
      "父节点：  [<Element div at 0x11b9750fc08>, <Element div at 0x11b984e03c8>]\n",
      "\n",
      "父节点的属性class：  ['para', 'para']\n"
     ]
    }
   ],
   "source": [
    "result = html.xpath('//a[@href=\"https://baike.baidu.com/item/%E6%AC%A7%E9%98%B3%E4%BF%AE\"]/..')\n",
    "print('父节点： ',result)\n",
    "print()\n",
    "result = html.xpath('//a[@href=\"https://baike.baidu.com/item/%E6%AC%A7%E9%98%B3%E4%BF%AE\"]/../@class')\n",
    "print('父节点的属性class： ',result)"
   ]
  },
  {
   "cell_type": "markdown",
   "metadata": {},
   "source": [
    "## 属性匹配：用@进行属性过滤"
   ]
  },
  {
   "cell_type": "markdown",
   "metadata": {},
   "source": [
    "在选取的时候，我们还可以**用`@`符号进行属性过滤**。比如，这里如果要选取`class`为`para`的`div`节点，可以这样实现："
   ]
  },
  {
   "cell_type": "code",
   "execution_count": 8,
   "metadata": {
    "ExecuteTime": {
     "end_time": "2019-05-01T02:48:29.313571Z",
     "start_time": "2019-05-01T02:48:29.305591Z"
    }
   },
   "outputs": [
    {
     "name": "stdout",
     "output_type": "stream",
     "text": [
      "[<Element div at 0x11b9750b608>, <Element div at 0x11b9750b788>, <Element div at 0x11b9750b888>, <Element div at 0x11b9750ba88>, <Element div at 0x11b9750e548>, <Element div at 0x11b9750eb08>, <Element div at 0x11b9750ebc8>, <Element div at 0x11b9750ec48>, <Element div at 0x11b9750ed08>, <Element div at 0x11b9750f088>]\n"
     ]
    }
   ],
   "source": [
    "result = html.xpath('//div[@class=\"para\"]')\n",
    "print(result[:10])"
   ]
  },
  {
   "cell_type": "markdown",
   "metadata": {},
   "source": [
    "## 文本获取：获取节点包裹的文本"
   ]
  },
  {
   "cell_type": "markdown",
   "metadata": {},
   "source": [
    "我们用`XPath`中的`text()方法`，**获取节点中的文本**"
   ]
  },
  {
   "cell_type": "code",
   "execution_count": 9,
   "metadata": {
    "ExecuteTime": {
     "end_time": "2019-05-01T02:48:29.326537Z",
     "start_time": "2019-05-01T02:48:29.315566Z"
    }
   },
   "outputs": [
    {
     "name": "stdout",
     "output_type": "stream",
     "text": [
      "['赵曙（1032年2月16日－1067年1月25日），即宋英宗（1063年5月一1067年1月在位），原名赵宗实，后改名赵曙，', '第五位皇帝，宋太宗', '曾孙，商王', '之孙，濮王', '第十三子，宋仁宗', '养子。', '赵曙幼年时被无子的仁宗接入皇宫抚养，赐名为赵宗实。担任左监门卫率府副率，后历任右', '大将军、宜州刺史、', '团练使、秦州防御使。嘉祐七年（1062年），被立为皇子，改名赵曙，封巨鹿', '。']\n",
      "\n",
      "['赵曙（1032年2月16日－1067年1月25日），即宋英宗（1063年5月一1067年1月在位），原名赵宗实，后改名赵曙，', '宋朝', '第五位皇帝，宋太宗', '赵光义', '曾孙，商王', '赵元份', '之孙，濮王', '赵允让', '第十三子，宋仁宗', '赵祯']\n",
      "\n",
      "['宋朝', '赵光义', '赵元份', '赵允让', '赵祯', '羽林军', '岳州', '郡公', '韩琦', '辽国']\n"
     ]
    }
   ],
   "source": [
    "div_result = html.xpath('//div[@class=\"para\"]/text()') # 获取属性为class=\"para\"的div节点中的文本,不包含其子节点a中的内容\n",
    "all_div_result = html.xpath('//div[@class=\"para\"]//text()')# 获取div节点中的所有文本，包含其子节点内的内容\n",
    "a_div_result = html.xpath('//div[@class=\"para\"]/a/text()') # 获取div下a节点下的内容\n",
    "\n",
    "print(div_result[:10])\n",
    "print()\n",
    "print(all_div_result[:10])\n",
    "print()\n",
    "print(a_div_result[:10])"
   ]
  },
  {
   "cell_type": "markdown",
   "metadata": {},
   "source": [
    "## 属性获取"
   ]
  },
  {
   "cell_type": "markdown",
   "metadata": {},
   "source": [
    "**使用`@`符号即可获取节点的属性**，例如：获取所有`div`节点下，所有`a`节点的`href`属性"
   ]
  },
  {
   "cell_type": "code",
   "execution_count": 10,
   "metadata": {
    "ExecuteTime": {
     "end_time": "2019-05-01T02:48:29.401336Z",
     "start_time": "2019-05-01T02:48:29.328531Z"
    }
   },
   "outputs": [
    {
     "name": "stdout",
     "output_type": "stream",
     "text": [
      "['https://www.baidu.com/', 'http://news.baidu.com/', 'https://tieba.baidu.com/', 'https://zhidao.baidu.com/', 'http://music.baidu.com/', 'http://image.baidu.com/', 'http://v.baidu.com/', 'http://map.baidu.com/', 'https://wenku.baidu.com/', 'https://baike.baidu.com/']\n",
      "\n",
      "['http://www.baidu.com/', 'javascript:;', 'https://passport.baidu.com/v2/?reg&regType=1&tpl=wk', 'https://www.baidu.com/', 'http://news.baidu.com/', 'https://tieba.baidu.com/', 'https://zhidao.baidu.com/', 'http://music.baidu.com/', 'http://image.baidu.com/', 'http://v.baidu.com/']\n"
     ]
    }
   ],
   "source": [
    "result1 = html.xpath('//div/a/@href') #获取a的href属性\n",
    "result2 = html.xpath('//div//@href') #获取所有div子孙节点的href属性\n",
    "\n",
    "print(result1[:10])\n",
    "print()\n",
    "print(result2[:10])"
   ]
  },
  {
   "cell_type": "markdown",
   "metadata": {},
   "source": [
    "## 属性多值匹配"
   ]
  },
  {
   "cell_type": "markdown",
   "metadata": {},
   "source": [
    "如果某个属性的值有多个时，我们可以使用`contains()`函数来获取，`contains(property,value)`匹配一个属性property中包含的字符串value。"
   ]
  },
  {
   "cell_type": "code",
   "execution_count": 11,
   "metadata": {
    "ExecuteTime": {
     "end_time": "2019-05-01T02:48:29.412306Z",
     "start_time": "2019-05-01T02:48:29.403330Z"
    }
   },
   "outputs": [
    {
     "name": "stdout",
     "output_type": "stream",
     "text": [
      "['宋朝', '赵光义', '赵元份', '赵允让', '赵祯', '羽林军', '岳州', '郡公', '韩琦', '辽国', '西夏', '司马光', '资治通鉴', '\\xa0', '福宁殿', '庙号', '永厚陵', '赵光义', '重孙', '赵恒', '赵元份', '赵祯', '赵允让', '母亲', '节度使', '\\xa0', '宋仁宗', '曹太后', '儒者', '羽林军', '刺史', '仁宗', '赵昕', '\\xa0', '庆历', '赵昕', '团练使', '嘉祐', '韩琦', '包拯', '秦州', '宗正', '\\xa0', '嘉祐', '遗诏', '韩琦', '韩贽', '安州', '\\xa0', '欧阳修', '\\xa0', '濮议', '大祥', '西蕃', '濮议', '中书', '皇考', '欧阳修', '诏书', '宦官', '中书省', '吕诲', '\\xa0', '韩琦', '赵顼', '\\xa0', '福宁殿', '永厚陵', '孝义', '\\xa0', '富弼', '\\xa0', '\\xa0', '\\xa0', '司马光', '资治通鉴', '龙图阁', '天章阁', '昭文馆', '史馆', '集贤院', '秘阁', '\\xa0', '司马光', '\\xa0', '王称', '\\xa0', '脱脱', '\\xa0', '王夫之', '\\xa0', '\\xa0', '苏轼', '翰林院', '知制诰', '起居注', '史馆', '\\xa0', '赵光义', '赵元份', '赵允让', '高滔滔', '赵顼', '赵颢', '赵頵', '宝安公主', '寿康公主', '昭仪', '贵仪', '婕妤', '\\xa0', '赵顼', '赵颢', '赵颜', '赵頵', '嘉祐', '德宁公主', '徐国', '左卫', '王师', '陈国', '长公主', '燕国大长公主', '元祐', '秦国大长公主', '宝安公主', '宋神宗', '舒国', '王诜', '越国', '荆国大长公主', '寿康公主', '卫国公主', '冀国', '政和', '宣和', '舒国公主', '东都事略', '\\xa0', '宋史', '\\xa0', '宋史全文', '\\xa0']\n",
      "\n",
      "['宋朝', '赵光义', '赵元份', '赵允让', '赵祯', '羽林军', '岳州', '郡公', '韩琦', '辽国', '西夏', '司马光', '资治通鉴', '\\xa0', '福宁殿', '庙号', '永厚陵', '编辑', '赵光义', '重孙', '赵恒', '赵元份', '赵祯', '赵允让', '母亲', '节度使', '\\xa0', '宋仁宗', '曹太后', '儒者', '羽林军', '刺史', '仁宗', '赵昕', '\\xa0', '庆历', '赵昕', '团练使', '嘉祐', '韩琦', '包拯', '秦州', '宗正', '\\xa0', '嘉祐', '遗诏', '韩琦', '韩贽', '安州', '\\xa0', '欧阳修', '\\xa0', '濮议', '大祥', '西蕃', '濮议', '中书', '皇考', '欧阳修', '诏书', '宦官', '中书省', '吕诲', '\\xa0', '韩琦', '赵顼', '\\xa0', '福宁殿', '永厚陵', '孝义', '\\xa0', '编辑', '富弼', '\\xa0', '\\xa0', '\\xa0', '司马光', '资治通鉴', '龙图阁', '天章阁', '昭文馆', '史馆', '集贤院', '秘阁', '\\xa0', '编辑', '司马光', '\\xa0', '王称', '\\xa0', '脱脱', '\\xa0', '王夫之', '\\xa0', '编辑', '\\xa0', '苏轼', '翰林院', '知制诰', '起居注', '史馆', '\\xa0', '编辑', '赵光义', '赵元份', '赵允让', '高滔滔', '赵顼', '赵颢', '赵頵', '宝安公主', '寿康公主', '昭仪', '贵仪', '婕妤', '\\xa0', '赵顼', '赵颢', '赵颜', '赵頵', '嘉祐', '德宁公主', '徐国', '左卫', '王师', '陈国', '长公主', '燕国大长公主', '元祐', '秦国大长公主', '宝安公主', '宋神宗', '舒国', '王诜', '越国', '荆国大长公主', '寿康公主', '卫国公主', '冀国', '政和', '宣和', '舒国公主', '编辑', '东都事略', '\\xa0', '宋史', '\\xa0', '宋史全文', '\\xa0']\n"
     ]
    }
   ],
   "source": [
    "result = html.xpath('//div[@class=\"para\"]/a/text()')\n",
    "print(result)\n",
    "print()\n",
    "\n",
    "result = html.xpath('//div[contains(@class,\"para\")]/a/text()')\n",
    "print(result)"
   ]
  },
  {
   "cell_type": "markdown",
   "metadata": {},
   "source": [
    "## 多属性匹配：and运算符"
   ]
  },
  {
   "cell_type": "markdown",
   "metadata": {},
   "source": [
    "另外我们还可能遇到一种情况，那就是**根据多个属性确定一个节点，这时便需要同时匹配多个属性**，此时可运用`and`运算符来连接使用："
   ]
  },
  {
   "cell_type": "code",
   "execution_count": 12,
   "metadata": {
    "ExecuteTime": {
     "end_time": "2019-05-01T02:48:29.485112Z",
     "start_time": "2019-05-01T02:48:29.475139Z"
    }
   },
   "outputs": [
    {
     "name": "stdout",
     "output_type": "stream",
     "text": [
      "['赵曙（1032年2月16日－1067年1月25日），即宋英宗（1063年5月一1067年1月在位），原名赵宗实，后改名赵曙，', '第五位皇帝，宋太宗', '曾孙，商王', '之孙，濮王', '第十三子，宋仁宗', '养子。', '赵曙幼年时被无子的仁宗接入皇宫抚养，赐名为赵宗实。担任左监门卫率府副率，后历任右', '大将军、宜州刺史、', '团练使、秦州防御使。嘉祐七年（1062年），被立为皇子，改名赵曙，封巨鹿', '。']\n",
      "\n",
      "['赵曙（1032年2月16日－1067年1月25日），即宋英宗（1063年5月一1067年1月在位），原名赵宗实，后改名赵曙，', '第五位皇帝，宋太宗', '曾孙，商王', '之孙，濮王', '第十三子，宋仁宗', '养子。', '赵曙幼年时被无子的仁宗接入皇宫抚养，赐名为赵宗实。担任左监门卫率府副率，后历任右', '大将军、宜州刺史、', '团练使、秦州防御使。嘉祐七年（1062年），被立为皇子，改名赵曙，封巨鹿', '。']\n"
     ]
    }
   ],
   "source": [
    "result = html.xpath('//div[@class=\"para\" and @label-module=\"para\"]/text()')\n",
    "print(result[:10])\n",
    "\n",
    "print()\n",
    "\n",
    "result = html.xpath('//div[contains(@class,\"para\") and @label-module=\"para\"]/text()')\n",
    "print(result[:10])"
   ]
  },
  {
   "cell_type": "markdown",
   "metadata": {},
   "source": [
    "## XPath中的运算符"
   ]
  },
  {
   "cell_type": "markdown",
   "metadata": {},
   "source": [
    "|运算符|描述|实例|返回值|\n",
    "|:--:|:--:|:--:|:--:|\n",
    "|or|或|age=19 or age=20|如果age等于19或者等于20则返回true否则返回false|\n",
    "|and|与|age>19 and age<21|如果age等于20则返回true，否则返回false|\n",
    "|mod|取余|5 mod 2|1|\n",
    "|\\||取两个节点的集合|//book \\| //cd|返回所有拥有book和cd元素的节点集合|\n",
    "|+|加|6+4|10|\n",
    "|-|减|6-4|2|\n",
    "|*|乘|6*4|24|\n",
    "|div|除|8 div 4|2|\n",
    "|=|等于|age=19|true|\n",
    "|!=|不等于|age!=19|true|\n",
    "|<|小于|age<19|true|\n",
    "|<=|小于或等于|age<=19|true|\n",
    "|>|大于|age>19|true|\n",
    "|>=|大于或等于|age>=19|true|"
   ]
  },
  {
   "cell_type": "markdown",
   "metadata": {},
   "source": [
    "## 按序选择"
   ]
  },
  {
   "cell_type": "markdown",
   "metadata": {},
   "source": [
    "有时候，我们在选择的时候，某些属性可能同时匹配多个节点，但我们只想要其中的某个节点，如第二个节点或者最后一个节点，这时可以**利用中括号引入索引的方法，来获取特定次序的节点**。"
   ]
  },
  {
   "cell_type": "code",
   "execution_count": 13,
   "metadata": {
    "ExecuteTime": {
     "end_time": "2019-05-01T02:48:29.709548Z",
     "start_time": "2019-05-01T02:48:29.694552Z"
    }
   },
   "outputs": [
    {
     "name": "stdout",
     "output_type": "stream",
     "text": [
      "['宋朝', '赵光义', '赵元份', '赵允让', '赵祯', '羽林军', '岳州', '郡公', '韩琦', '辽国']\n",
      "\n",
      "['宋朝', '赵光义', '赵元份', '赵允让', '赵祯', '濮议']\n",
      "\n",
      "['福宁殿', '庙号', '永厚陵', '濮议']\n",
      "\n",
      "['韩琦', '辽国', '西夏', '司马光', '资治通鉴', '\\xa0']\n",
      "\n",
      "['羽林军', '岳州', '郡公']\n",
      "\n"
     ]
    }
   ],
   "source": [
    "result = html.xpath('//div[contains(@class,\"para\")]/a/text()') # 获取div节点下a节点的文本内容\n",
    "print(result[:10])\n",
    "\n",
    "print()\n",
    "\n",
    "result = html.xpath('//div[1][contains(@class,\"para\")]/a/text()') # 获取第一个div节点......\n",
    "print(result)\n",
    "\n",
    "print()\n",
    "\n",
    "result = html.xpath('//div[last()][contains(@class,\"para\")]/a/text()') # 获取最后一个div节点......\n",
    "print(result)\n",
    "\n",
    "print()\n",
    "\n",
    "result = html.xpath('//div[position()>2 and position()<4][contains(@class,\"para\")]/a/text()') # 获取第三个div节点......\n",
    "print(result)\n",
    "\n",
    "print()\n",
    "\n",
    "result = html.xpath('//div[last()-2][contains(@class,\"para\")]/a/text()') # 获取倒数第三个div节点......\n",
    "print(result)\n",
    "print()"
   ]
  },
  {
   "cell_type": "markdown",
   "metadata": {},
   "source": [
    "这里使用了`last()`、`position()`函数，在`XPath`中，提供了100多个函数，包括`存取、数值、字符串、逻辑、节点、序列`等处理功能，它们的具体作用可参考：http://www.w3school.com.cn/xpath/xpath_functions.asp"
   ]
  },
  {
   "cell_type": "markdown",
   "metadata": {},
   "source": [
    "## 节点轴选择"
   ]
  },
  {
   "cell_type": "markdown",
   "metadata": {},
   "source": [
    "XPath 提供了很多节点选择方法，包括获取直接子元素、子孙元素、兄弟元素、父元素、祖先元素等，例如："
   ]
  },
  {
   "cell_type": "code",
   "execution_count": 14,
   "metadata": {
    "ExecuteTime": {
     "end_time": "2019-05-01T02:48:30.262036Z",
     "start_time": "2019-05-01T02:48:29.921947Z"
    }
   },
   "outputs": [
    {
     "name": "stdout",
     "output_type": "stream",
     "text": [
      "[<Element html at 0x11b974ff448>, <Element body at 0x11b984e0cc8>, <Element div at 0x11b984e1dc8>, <Element div at 0x11b984e1ec8>, <Element div at 0x11b984e2088>, <Element div at 0x11b984e2308>, <Element div at 0x11b984e2488>, <Element div at 0x11b984e25c8>, <Element div at 0x11b984e2888>, <Element ul at 0x11b984e21c8>]\n",
      "\n",
      "[<Element div at 0x11b984e1dc8>, <Element div at 0x11b984e1ec8>, <Element div at 0x11b984e2088>, <Element div at 0x11b984e2308>, <Element div at 0x11b984e2488>, <Element div at 0x11b984e25c8>, <Element div at 0x11b984e2888>, <Element div at 0x11b984e2988>, <Element div at 0x11b984e2ac8>, <Element div at 0x11b984e2c08>]\n",
      "\n",
      "['BAIDU_DUP_fp_wrapper', 'position: absolute; left: -1px; bottom: -1px; z-index: 0; width: 0px; height: 0px; overflow: hidden; visibility: hidden; display: none;', 'topbar cmn-clearfix', 'separator', 'layout', 'wgt-searchbar wgt-searchbar-new wgt-searchbar-main cmn-clearfix wgt-searchbar-large', 'logo-container', 'form', 'sug', 'declare']\n",
      "\n",
      "[<Element iframe at 0x11b9750bc88>, <Element ul at 0x11b9750bdc8>, <Element div at 0x11b97507148>, <Element div at 0x11b9750bf08>, <Element div at 0x11b984e2488>, <Element div at 0x11b97507348>, <Element a at 0x11b97503588>, <Element div at 0x11b984e25c8>, <Element form at 0x11b9750b048>, <Element form at 0x11b9750bf48>]\n",
      "\n",
      "[<Element a at 0x11b97504648>, <Element a at 0x11b9750e2c8>]\n",
      "\n",
      "[<Element div at 0x11b984e1dc8>, <Element div at 0x11b984e1ec8>, <Element ul at 0x11b9750bdc8>, <Element li at 0x11b9750fe48>, <Element a at 0x11b9750f048>, <Element li at 0x11b9750f408>, <Element a at 0x11b9750f508>, <Element li at 0x11b9750f708>, <Element a at 0x11b9750f748>, <Element a at 0x11b9750f3c8>]\n",
      "\n",
      "[<Element div at 0x11b984e1dc8>, <Element div at 0x11b9750bf08>, <Element div at 0x11b984e2088>, <Element div at 0x11b984e25c8>, <Element li at 0x11b984e0b48>, <Element div at 0x11b984e2988>, <Element div at 0x11b984e2c08>, <Element div at 0x11b984e05c8>, <Element div at 0x11b984e0708>, <Element div at 0x11b97503cc8>]\n"
     ]
    }
   ],
   "source": [
    "result1 = html.xpath('//div[1]/ancestor::*') # 获取第一个div节点的所有祖先节点\n",
    "result2 = html.xpath('//div[1]/ancestor::div') # 获取第一个div节点的div祖先节点\n",
    "result3 = html.xpath('//div[1]/attribute::*') # 获取第一个div节点的所有属性值\n",
    "result4 = html.xpath('//div[1]/child::*') # 获取第一个div节点的直接子节点\n",
    "result5 = html.xpath('//div[10]/descendant::a') # 获取第一个div节点的子孙节点的a节点\n",
    "result6 = html.xpath('//div[1]/following::*') # 获取第一个div节点的之后的所有节点\n",
    "result7 = html.xpath('//div[1]/following-sibling::*') # 获取第一个div节点的所有同级节点\n",
    "\n",
    "print(result1[:10])\n",
    "print()\n",
    "print(result2[:10])\n",
    "print()\n",
    "print(result3[:10])\n",
    "print()\n",
    "print(result4[:10])\n",
    "print()\n",
    "print(result5[:10])\n",
    "print()\n",
    "print(result6[:10])\n",
    "print()\n",
    "print(result7[:10])"
   ]
  },
  {
   "cell_type": "markdown",
   "metadata": {},
   "source": [
    "# 案例"
   ]
  },
  {
   "cell_type": "markdown",
   "metadata": {},
   "source": [
    "爬取网页中的图片，并存放在不同的文件夹中，网页地址：https://www.ivsky.com/tupian/ziranfengguang/"
   ]
  },
  {
   "cell_type": "markdown",
   "metadata": {},
   "source": [
    "## 获取网页: requests"
   ]
  },
  {
   "cell_type": "code",
   "execution_count": 15,
   "metadata": {
    "ExecuteTime": {
     "end_time": "2019-05-01T02:48:30.552258Z",
     "start_time": "2019-05-01T02:48:30.264029Z"
    }
   },
   "outputs": [
    {
     "name": "stdout",
     "output_type": "stream",
     "text": [
      "<Response [200]>\n"
     ]
    }
   ],
   "source": [
    "import requests\n",
    "from requests.exceptions import RequestException\n",
    "\n",
    "url = 'https://www.ivsky.com/tupian/ziranfengguang/'\n",
    "# 处理异常，如果获取网页失败，则处理\n",
    "try:\n",
    "    response = requests.get(url)\n",
    "    print(response)\n",
    "except RequestException as e:\n",
    "    print('Request is error!',e)"
   ]
  },
  {
   "cell_type": "markdown",
   "metadata": {},
   "source": [
    "响应码/状态码：\n",
    "\n",
    "1. 200：表示成功\n",
    "2. 404：资源不存在\n",
    "3. 500：服务器错误"
   ]
  },
  {
   "cell_type": "code",
   "execution_count": 16,
   "metadata": {
    "ExecuteTime": {
     "end_time": "2019-05-01T02:48:30.559238Z",
     "start_time": "2019-05-01T02:48:30.554252Z"
    }
   },
   "outputs": [
    {
     "name": "stdout",
     "output_type": "stream",
     "text": [
      "b'<!doctype html><html><head><meta charset=utf-8 /><title>\\xe8\\x87\\xaa\\xe7\\x84\\xb6\\xe9\\xa3\\x8e\\xe5\\x85\\x89\\xe5\\x9b\\xbe\\xe7\\x89\\x87 - \\xe8\\x87\\xaa\\xe7\\x84\\xb6\\xe9\\xa3\\x8e\\xe6\\x99\\xaf\\xe5\\x9b\\xbe\\xe7\\x89\\x87 (\\xe5\\xa4\\xa9\\xe5\\xa0\\x82\\xe5\\x9b\\xbe\\xe7\\x89\\x87\\xe7\\xbd\\x91)</title><meta name=\"description\" content=\"\\xe8\\x87\\xaa\\xe7\\x84\\xb6\\xe9\\xa3\\x8e\\xe5\\x85\\x89\\xe5\\x9b\\xbe\\xe7\\x89\\x87 - \\xe8\\x87\\xaa\\xe7\\x84\\xb6\\xe9\\xa3\\x8e\\xe6\\x99\\xaf\\xe5\\x9b\\xbe\\xe7\\x89\\x87,\" /><meta name=\"keywords\" content=\"\" /><meta http-equiv=\"X-UA-Compatible\" content=\"IE=edge,chrome=1\" /><meta name=\"renderer\" content=\"webkit\" /><meta name=\"applicable-device\" content=\"pc\" /><link rel=\"alternate\" media=\"only screen and(max-width: 640px)\" href=\"https://m.ivsky.com/tupian/ziranfengguang/\"><meta name=\"mobile-agent\" content=\"format=html5; url=https://m.ivsky.com/tupian/ziranfengguang/\"><link type=\"text/css\" href=\"/img/a.css\" rel=\"stylesheet\" /><script type=\"text/javascript\" src=\"//img.ivsky.com/img/jq.js\"></script><script type=\"text/javascript\" src=\"/img/a.js\"></script></head><body><div id=\"header\"><div class=\"box\"><div id=\"logo\"><a href=\"https://www.ivsky.com\">\\xe5\\xa4\\xa9\\xe5\\xa0\\x82\\xe5\\x9b\\xbe\\xe7\\x89\\x87\\xe7\\xbd\\x91</a></div><ul id=\"menu\"><li><a href=\"/\">\\xe9\\xa6\\x96\\xe9\\xa1\\xb5</a></li><li><a href=\"/tupian/\">\\xe5\\x9b\\xbe\\xe7\\x89\\x87\\xe5\\xa4\\xa7\\xe5\\x85\\xa8</a></li><li><a href=\"/bizhi/\">\\xe6\\xa1\\x8c\\xe9\\x9d\\xa2\\xe5\\xa3\\x81\\xe7\\xba\\xb8</a></li></ul><div id=\"search\"><div class=\"inp\"><input type=\"text\" id=\"ser_inp\" class=\"ser_inp\" /></div><div class=\"inp-btn\"><input type=\"submit\" value=\"\" id=\"ser_btn\" class=\"ser_btn\" /></div></div><div id=\"login\"></div></div><div class=\"hbg\"></div></div><div class=\"box\"><div id=\"alltop\"><script>dy(\"alltop\");</script></div><div id=\"tplisttop1\"><script>dy(\"tplisttop1\");</script></div><div id=\"tplisttop2\"><script>dy(\"tplisttop2\");</script></div></div><div class=\"box\"><div class=\"pos\"><a href=\\'https://www.ivsky.com/\\'>\\xe9\\xa6\\x96\\xe9\\xa1\\xb5</a> > <a href=\"/tupian/\">\\xe5\\x9b\\xbe\\xe7\\x89\\x87\\xe5\\xa4\\xa7\\xe5\\x85\\xa8</a> > <a href=\"/tupian/ziranfengguang/\">\\xe8\\x87\\xaa\\xe7\\x84\\xb6\\xe9\\xa3\\x8e\\xe5\\x85\\x89\\xe5\\x9b\\xbe\\xe7\\x89\\x87 - \\xe8\\x87\\xaa\\xe7\\x84\\xb6\\xe9\\xa3\\x8e\\xe6\\x99\\xaf\\xe5\\x9b\\xbe\\xe7\\x89\\x87</a> </div><div class=\"left\"><div class=\"sort\"><ul class=\"tpmenu\"><li class=\"s1\"><a href=\"/tupian/\" title=\"\\xe5\\x9b\\xbe\\xe7\\x89\\x87\\xe5\\xa4\\xa7\\xe5\\x85\\xa8 - \\xe5\\x94\\xaf\\xe7\\xbe\\x8e\\xe5\\x9b\\xbe\\xe7\\x89\\x87 - \\xe5\\xa5\\xbd\\xe7\\x9c\\x8b\\xe7\\x9a\\x84\\xe5\\x9b\\xbe\\xe7\\x89\\x87\">\\xe6\\x89\\x80\\xe6\\x9c\\x89\\xe5\\x9b\\xbe\\xe7\\x89\\x87</a></li><li class=\"s2on active\"><a href=\"/tupian/ziranfengguang/\" title=\"\\xe8\\x87\\xaa\\xe7\\x84\\xb6\\xe9\\xa3\\x8e\\xe5\\x85\\x89\\xe5\\x9b\\xbe\\xe7\\x89\\x87 - \\xe8\\x87\\xaa\\xe7\\x84\\xb6\\xe9\\xa3\\x8e\\xe6\\x99\\xaf\\xe5\\x9b\\xbe\\xe7\\x89\\x87\">\\xe8\\x87\\xaa\\xe7\\x84\\xb6\\xe9\\xa3\\x8e\\xe5\\x85\\x89</a></li><li class=\"s3\"><a href=\"/tupian/chengshilvyou/\" title=\"\\xe5\\x9f\\x8e\\xe5\\xb8\\x82\\xe6\\x97\\x85\\xe6\\xb8\\xb8\\xe5\\x9b\\xbe\\xe7\\x89\\x87 - \\xe4\\xb8\\x96\\xe7\\x95\\x8c\\xe5\\x90\\x84\\xe5\\x9b\\xbd\\xe5\\x9f\\x8e\\xe5\\xb8\\x82\\xe5\\x9b\\xbe\\xe7\\x89\\x87\">\\xe5\\x9f\\x8e\\xe5\\xb8\\x82\\xe6\\x97\\x85\\xe6\\xb8\\xb8</a></li><li class=\"s4\"><a href=\"/tupian/dongwutupian/\" title=\"\\xe5\\x8a\\xa8\\xe7\\x89\\xa9\\xe5\\x9b\\xbe\\xe7\\x89\\x87 - \\xe5\\xae\\xa0\\xe7\\x89\\xa9\\xe5\\x9b\\xbe\\xe7\\x89\\x87 - \\xe9\\x87\\x8e\\xe7\\x94\\x9f\\xe5\\x8a\\xa8\\xe7\\x89\\xa9\\xe5\\x9b\\xbe\\xe7\\x89\\x87\">\\xe5\\x8a\\xa8\\xe7\\x89\\xa9\\xe5\\x9b\\xbe\\xe7\\x89\\x87</a></li><li class=\"s5\"><a href=\"/tupian/zhiwuhuahui/\" title=\"\\xe6\\xa4\\x8d\\xe7\\x89\\xa9\\xe8\\x8a\\xb1\\xe5\\x8d\\x89\\xe5\\x9b\\xbe\\xe7\\x89\\x87 - \\xe8\\x8a\\xb1\\xe5\\x9b\\xbe\\xe7\\x89\\x87 - \\xe8\\x8a\\xb1\\xe8\\x8d\\x89\\xe5\\x9b\\xbe\\xe7\\x89\\x87 - \\xe6\\xa4\\x8d\\xe7\\x89\\xa9\\xe5\\x9b\\xbe\\xe7\\x89\\x87\">\\xe6\\xa4\\x8d\\xe7\\x89\\xa9\\xe8\\x8a\\xb1\\xe5\\x8d\\x89</a></li><li class=\"s6\"><a href=\"/tupian/haiyangshijie/\" title=\"\\xe6\\xb5\\xb7\\xe6\\xb4\\x8b\\xe4\\xb8\\x96\\xe7\\x95\\x8c - \\xe6\\xb5\\xb7\\xe6\\xb4\\x8b\\xe9\\xa3\\x8e\\xe5\\x85\\x89\\xe5\\x9b\\xbe\\xe7\\x89\\x87 - \\xe6\\xb5\\xb7\\xe5\\xba\\x95\\xe4\\xb8\\x96\\xe7\\x95\\x8c\\xe5\\x9b\\xbe\\xe7\\x89\\x87\">\\xe6\\xb5\\xb7\\xe6\\xb4\\x8b\\xe4\\xb8\\x96\\xe7\\x95\\x8c</a></li><li class=\"s7\"><a href=\"/tupian/renwutupian/\" title=\"\\xe4\\xba\\xba\\xe7\\x89\\xa9\\xe5\\x9b\\xbe\\xe7\\x89\\x87 - \\xe4\\xba\\xba\\xe7\\x89\\xa9\\xe5\\x9b\\xbe\\xe7\\x89\\x87\\xe5\\xa4\\xa7\\xe5\\x85\\xa8\">\\xe4\\xba\\xba\\xe7\\x89\\xa9\\xe5\\x9b\\xbe\\xe7\\x89\\x87</a></li><li class=\"s8\"><a href=\"/tupian/meishishijie/\" title=\"\\xe7\\xbe\\x8e\\xe9\\xa3\\x9f\\xe5\\x9b\\xbe\\xe7\\x89\\x87 - \\xe5\\x9b\\xbd\\xe5\\xa4\\x96\\xe7\\xbe\\x8e\\xe9\\xa3\\x9f\\xe7\\x94\\x9c\\xe7\\x82\\xb9\\xe5\\x9b\\xbe\\xe7\\x89\\x87 - \\xe4\\xb8\\xad\\xe5\\x9b\\xbd\\xe4\\xbc\\xa0\\xe7\\xbb\\x9f\\xe7\\xbe\\x8e\\xe9\\xa3\\x9f\\xe5\\xb0\\x8f\\xe5\\x90\\x83\\xe5\\x9b\\xbe\\xe7\\x89\\x87\">\\xe7\\xbe\\x8e\\xe9\\xa3\\x9f\\xe4\\xb8\\x96\\xe7\\x95\\x8c</a></li><li class=\"s9\"><a href=\"/tupian/wupin/\" title=\"\\xe7\\x89\\xa9\\xe5\\x93\\x81\\xe7\\x89\\xa9\\xe4\\xbb\\xb6\\xe5\\xa4\\xa7\\xe5\\x85\\xa8 - \\xe7\\x94\\x9f\\xe6\\xb4\\xbb\\xe7\\x94\\xa8\\xe5\\x93\\x81 - \\xe5\\xad\\xa6\\xe4\\xb9\\xa0\\xe7\\x94\\xa8\\xe5\\x93\\x81\\xe5\\x9b\\xbe\\xe7\\x89\\x87\">\\xe7\\x89\\xa9\\xe5\\x93\\x81\\xe7\\x89\\xa9\\xe4\\xbb\\xb6</a></li><li class=\"s10\"><a href=\"/tupian/yundongtiyu/\" title=\"\\xe8\\xbf\\x90\\xe5\\x8a\\xa8\\xe5\\x9b\\xbe\\xe7\\x89\\x87 - \\xe4\\xbd\\x93\\xe8\\x82\\xb2\\xe3\\x80\\x81\\xe4\\xbc\\x91\\xe9\\x97\\xb2\\xe3\\x80\\x81\\xe7\\xab\\x9e\\xe8\\xb5\\x9b\\xe5\\x9b\\xbe\\xe7\\x89\\x87\">\\xe8\\xbf\\x90\\xe5\\x8a\\xa8\\xe4\\xbd\\x93\\xe8\\x82\\xb2</a></li><li class=\"s11\"><a href=\"/tupian/jiaotongyunshu/\" title=\"\\xe5\\x85\\xac\\xe8\\xb7\\xaf\\xe9\\x93\\x81\\xe8\\xb7\\xaf\\xe8\\xbf\\x90\\xe8\\xbe\\x93 - \\xe6\\xa1\\xa5\\xe6\\xa2\\x81\\xe7\\xa0\\x81\\xe5\\xa4\\xb4\\xe5\\x9b\\xbe\\xe7\\x89\\x87 - \\xe8\\xbd\\xa6\\xe8\\x88\\xb9\\xe9\\xa3\\x9e\\xe6\\x9c\\xba\\xe5\\x9b\\xbe\\xe7\\x89\\x87\">\\xe4\\xba\\xa4\\xe9\\x80\\x9a\\xe8\\xbf\\x90\\xe8\\xbe\\x93</a></li><li class=\"s12\"><a href=\"/tupian/jianzhuhuanjing/\" title=\"\\xe4\\xb8\\x96\\xe7\\x95\\x8c\\xe8\\x91\\x97\\xe5\\x90\\x8d\\xe5\\xbb\\xba\\xe7\\xad\\x91 - \\xe5\\x90\\x84\\xe5\\x9b\\xbd\\xe5\\xbb\\xba\\xe7\\xad\\x91\\xe5\\x9b\\xbe\\xe7\\x89\\x87 - \\xe5\\xbb\\xba\\xe7\\xad\\x91\\xe7\\x8e\\xaf\\xe5\\xa2\\x83\\xe5\\x9b\\xbe\\xe7\\x89\\x87\">\\xe5\\xbb\\xba\\xe7\\xad\\x91\\xe7\\x8e\\xaf\\xe5\\xa2\\x83</a></li><li class=\"s13\"><a href=\"/tupian/jiaju/\" title=\"\\xe5\\xae\\xb6\\xe5\\xb1\\x85\\xe8\\xa3\\x85\\xe9\\xa5\\xb0\\xe8\\xae\\xbe\\xe8\\xae\\xa1\\xe5\\x9b\\xbe\\xe7\\x89\\x87 - \\xe8\\xa3\\x85\\xe4\\xbf\\xae\\xe6\\x95\\x88\\xe6\\x9e\\x9c\\xe5\\x9b\\xbe - \\xe6\\x97\\xb6\\xe5\\xb0\\x9a\\xe5\\xae\\xb6\\xe5\\xb1\\x85\\xe5\\x9b\\xbe\\xe7\\x89\\x87\">\\xe8\\xa3\\x85\\xe9\\xa5\\xb0\\xe8\\xa3\\x85\\xe4\\xbf\\xae</a></li><li class=\"s14\"><a href=\"/tupian/guanggaosheji/\" title=\"\\xe5\\x93\\x81\\xe7\\x89\\x8c\\xe5\\xb9\\xbf\\xe5\\x91\\x8a\\xe8\\xae\\xbe\\xe8\\xae\\xa1 - \\xe5\\xb9\\xbf\\xe5\\x91\\x8a\\xe8\\xae\\xbe\\xe8\\xae\\xa1\\xe5\\x88\\x9b\\xe6\\x84\\x8f\\xe5\\x9b\\xbe\\xe7\\x89\\x87\">\\xe5\\xb9\\xbf\\xe5\\x91\\x8a\\xe8\\xae\\xbe\\xe8\\xae\\xa1</a></li><li class=\"s15\"><a href=\"/tupian/katongtupian/\" title=\"\\xe5\\x8d\\xa1\\xe9\\x80\\x9a\\xe6\\x8f\\x92\\xe7\\x94\\xbb\\xe5\\x9b\\xbe\\xe7\\x89\\x87 - \\xe5\\x8d\\xa1\\xe9\\x80\\x9a\\xe4\\xba\\xba\\xe7\\x89\\xa9\\xe5\\xbd\\xa2\\xe8\\xb1\\xa1\\xe3\\x80\\x81\\xe5\\x8d\\xa1\\xe9\\x80\\x9a\\xe9\\xa3\\x8e\\xe6\\x99\\xaf\\xe5\\x9b\\xbe\\xe7\\x89\\x87\">\\xe5\\x8d\\xa1\\xe9\\x80\\x9a\\xe5\\x9b\\xbe\\xe7\\x89\\x87</a></li><li class=\"s16\"><a href=\"/tupian/jieritupian/\" title=\"\\xe4\\xb8\\xad\\xe5\\x9b\\xbd\\xe4\\xbc\\xa0\\xe7\\xbb\\x9f\\xe8\\x8a\\x82\\xe6\\x97\\xa5\\xe5\\x9b\\xbe\\xe7\\x89\\x87 - \\xe5\\x9b\\xbd\\xe5\\xa4\\x96\\xe7\\x9f\\xa5\\xe5\\x90\\x8d\\xe8\\x8a\\x82\\xe6\\x97\\xa5\\xe5\\x9b\\xbe\\xe7\\x89\\x87\">\\xe8\\x8a\\x82\\xe6\\x97\\xa5\\xe5\\x9b\\xbe\\xe7\\x89\\x87</a></li><li class=\"s17\"><a href=\"/tupian/shejisucai/\" title=\"\\xe8\\xae\\xbe\\xe8\\xae\\xa1\\xe7\\xb4\\xa0\\xe6\\x9d\\x90\\xe5\\x9b\\xbe\\xe7\\x89\\x87 - \\xe8\\x83\\x8c\\xe6\\x99\\xaf\\xe5\\x9b\\xbe\\xe7\\x89\\x87 - \\xe8\\x8a\\xb1\\xe7\\xba\\xb9\\xe3\\x80\\x81\\xe5\\xba\\x95\\xe7\\xba\\xb9\\xe3\\x80\\x81\\xe8\\xbe\\xb9\\xe6\\xa1\\x86\\xe7\\xb4\\xa0\\xe6\\x9d\\x90\\xe5\\x9b\\xbe\\xe7\\x89\\x87\">\\xe8\\xae\\xbe\\xe8\\xae\\xa1\\xe7\\xb4\\xa0\\xe6\\x9d\\x90</a></li><li class=\"s18\"><a href=\"/tupian/yishu/\" title=\"\\xe8\\x89\\xba\\xe6\\x9c\\xaf - \\xe7\\xbb\\x98\\xe7\\x94\\xbb - \\xe6\\xb0\\x91\\xe6\\x97\\x8f\\xe8\\x89\\xba\\xe6\\x9c\\xaf\">\\xe8\\x89\\xba\\xe6\\x9c\\xaf\\xe7\\xbb\\x98\\xe7\\x94\\xbb</a></li><li class=\"s19\"><a href=\"/tupian/qita/\" title=\"\\xe5\\x85\\xb6\\xe4\\xbb\\x96\\xe7\\xb1\\xbb\\xe5\\x88\\xab\\xe5\\x9b\\xbe\\xe7\\x89\\x87\">\\xe5\\x85\\xb6\\xe4\\xbb\\x96\\xe7\\xb1\\xbb\\xe5\\x88\\xab</a></li></ul></div><div class=\"sline\" id=\"sline2\"><div><b>\\xe5\\xb0\\x8f\\xe5\\x88\\x86\\xe7\\xb1\\xbb</b><a href=\"/tupian/ziranfengjing_t2800/\"  title=\"\\xe8\\x87\\xaa\\xe7\\x84\\xb6\\xe9\\xa3\\x8e\\xe6\\x99\\xaf\\xe5\\x9b\\xbe\\xe7\\x89\\x87_\\xe8\\x87\\xaa\\xe7\\x84\\xb6\\xe9\\xa3\\x8e\\xe6\\x99\\xaf\\xe5\\x9b\\xbe\\xe7\\x89\\x87\\xe5\\xa4\\xa7\\xe5\\x85\\xa8\">\\xe8\\x87\\xaa\\xe7\\x84\\xb6\\xe9\\xa3\\x8e\\xe6\\x99\\xaf</a> <a href=\"/tupian/tiankong_t811/\"  title=\"\\xe5\\xa4\\xa9\\xe7\\xa9\\xba\\xe5\\x9b\\xbe\\xe7\\x89\\x87\">\\xe5\\xa4\\xa9\\xe7\\xa9\\xba</a> <a href=\"/tupian/lantianbaiyun_t1485/\"  title=\"\\xe8\\x93\\x9d\\xe5\\xa4\\xa9\\xe7\\x99\\xbd\\xe4\\xba\\x91\\xe5\\x9b\\xbe\\xe7\\x89\\x87\">\\xe8\\x93\\x9d\\xe5\\xa4\\xa9\\xe7\\x99\\xbd\\xe4\\xba\\x91</a> <a href=\"/tupian/yangguang_t599/\"  title=\"\\xe9\\x98\\xb3\\xe5\\x85\\x89\\xe5\\x9b\\xbe\\xe7\\x89\\x87\">\\xe9\\x98\\xb3\\xe5\\x85\\x89</a> <a href=\"/tupian/richu_t165/\"  title=\"\\xe6\\x97\\xa5\\xe5\\x87\\xba\\xe5\\x9b\\xbe\\xe7\\x89\\x87\">\\xe6\\x97\\xa5\\xe5\\x87\\xba</a> <a href=\"/tupian/wanxia_t84/\"  title=\"\\xe6\\x99\\x9a\\xe9\\x9c\\x9e\\xe5\\x9b\\xbe\\xe7\\x89\\x87\">\\xe6\\x99\\x9a\\xe9\\x9c\\x9e</a> <a href=\"/tupian/xiyang_t15/\"  title=\"\\xe5\\xa4\\x95\\xe9\\x98\\xb3\\xe5\\x9b\\xbe\\xe7\\x89\\x87\">\\xe5\\xa4\\x95\\xe9\\x98\\xb3</a> <a href=\"/tupian/luori_t8846/\"  title=\"\\xe8\\x90\\xbd\\xe6\\x97\\xa5\\xe5\\x9b\\xbe\\xe7\\x89\\x87\">\\xe8\\x90\\xbd\\xe6\\x97\\xa5</a> <a href=\"/tupian/xingkong_t810/\"  title=\"\\xe6\\x98\\x9f\\xe7\\xa9\\xba\\xe5\\x9b\\xbe\\xe7\\x89\\x87\">\\xe6\\x98\\x9f\\xe7\\xa9\\xba</a> <a href=\"/tupian/yekong_t19444/\"  title=\"\\xe5\\xa4\\x9c\\xe7\\xa9\\xba\\xe5\\x9b\\xbe\\xe7\\x89\\x87\">\\xe5\\xa4\\x9c\\xe7\\xa9\\xba</a> <a href=\"/tupian/tudi_t4728/\"  title=\"\\xe5\\x9c\\x9f\\xe5\\x9c\\xb0\\xe5\\x9b\\xbe\\xe7\\x89\\x87\">\\xe5\\x9c\\x9f\\xe5\\x9c\\xb0</a> <a href=\"/tupian/gebi_t19445/\"  title=\"\\xe6\\x88\\x88\\xe5\\xa3\\x81\\xe5\\x9b\\xbe\\xe7\\x89\\x87\">\\xe6\\x88\\x88\\xe5\\xa3\\x81</a> <a href=\"/tupian/shamo_t2726/\"  title=\"\\xe6\\xb2\\x99\\xe6\\xbc\\xa0\\xe5\\x9b\\xbe\\xe7\\x89\\x87\">\\xe6\\xb2\\x99\\xe6\\xbc\\xa0</a> <a href=\"/tupian/xiagu_t94/\"  title=\"\\xe5\\xb3\\xa1\\xe8\\xb0\\xb7\\xe5\\x9b\\xbe\\xe7\\x89\\x87\">\\xe5\\xb3\\xa1\\xe8\\xb0\\xb7</a> <a href=\"/tupian/shanmai_t95/\"  title=\"\\xe5\\xb1\\xb1\\xe8\\x84\\x89\\xe5\\x9b\\xbe"
     ]
    },
    {
     "data": {
      "text/html": [
       "<b>limit_output extension: Maximum message size of 10000 exceeded with 39914 characters</b>"
      ]
     },
     "metadata": {},
     "output_type": "display_data"
    }
   ],
   "source": [
    "print(response.content) # 返回字节类型"
   ]
  },
  {
   "cell_type": "code",
   "execution_count": 17,
   "metadata": {
    "ExecuteTime": {
     "end_time": "2019-05-01T02:48:30.566222Z",
     "start_time": "2019-05-01T02:48:30.561236Z"
    }
   },
   "outputs": [
    {
     "name": "stdout",
     "output_type": "stream",
     "text": [
      "<!doctype html><html><head><meta charset=utf-8 /><title>自然风光图片 - 自然风景图片 (天堂图片网)</title><meta name=\"description\" content=\"自然风光图片 - 自然风景图片,\" /><meta name=\"keywords\" content=\"\" /><meta http-equiv=\"X-UA-Compatible\" content=\"IE=edge,chrome=1\" /><meta name=\"renderer\" content=\"webkit\" /><meta name=\"applicable-device\" content=\"pc\" /><link rel=\"alternate\" media=\"only screen and(max-width: 640px)\" href=\"https://m.ivsky.com/tupian/ziranfengguang/\"><meta name=\"mobile-agent\" content=\"format=html5; url=https://m.ivsky.com/tupian/ziranfengguang/\"><link type=\"text/css\" href=\"/img/a.css\" rel=\"stylesheet\" /><script type=\"text/javascript\" src=\"//img.ivsky.com/img/jq.js\"></script><script type=\"text/javascript\" src=\"/img/a.js\"></script></head><body><div id=\"header\"><div class=\"box\"><div id=\"logo\"><a href=\"https://www.ivsky.com\">天堂图片网</a></div><ul id=\"menu\"><li><a href=\"/\">首页</a></li><li><a href=\"/tupian/\">图片大全</a></li><li><a href=\"/bizhi/\">桌面壁纸</a></li></ul><div id=\"search\"><div class=\"inp\"><input type=\"text\" id=\"ser_inp\" class=\"ser_inp\" /></div><div class=\"inp-btn\"><input type=\"submit\" value=\"\" id=\"ser_btn\" class=\"ser_btn\" /></div></div><div id=\"login\"></div></div><div class=\"hbg\"></div></div><div class=\"box\"><div id=\"alltop\"><script>dy(\"alltop\");</script></div><div id=\"tplisttop1\"><script>dy(\"tplisttop1\");</script></div><div id=\"tplisttop2\"><script>dy(\"tplisttop2\");</script></div></div><div class=\"box\"><div class=\"pos\"><a href='https://www.ivsky.com/'>首页</a> > <a href=\"/tupian/\">图片大全</a> > <a href=\"/tupian/ziranfengguang/\">自然风光图片 - 自然风景图片</a> </div><div class=\"left\"><div class=\"sort\"><ul class=\"tpmenu\"><li class=\"s1\"><a href=\"/tupian/\" title=\"图片大全 - 唯美图片 - 好看的图片\">所有图片</a></li><li class=\"s2on active\"><a href=\"/tupian/ziranfengguang/\" title=\"自然风光图片 - 自然风景图片\">自然风光</a></li><li class=\"s3\"><a href=\"/tupian/chengshilvyou/\" title=\"城市旅游图片 - 世界各国城市图片\">城市旅游</a></li><li class=\"s4\"><a href=\"/tupian/dongwutupian/\" title=\"动物图片 - 宠物图片 - 野生动物图片\">动物图片</a></li><li class=\"s5\"><a href=\"/tupian/zhiwuhuahui/\" title=\"植物花卉图片 - 花图片 - 花草图片 - 植物图片\">植物花卉</a></li><li class=\"s6\"><a href=\"/tupian/haiyangshijie/\" title=\"海洋世界 - 海洋风光图片 - 海底世界图片\">海洋世界</a></li><li class=\"s7\"><a href=\"/tupian/renwutupian/\" title=\"人物图片 - 人物图片大全\">人物图片</a></li><li class=\"s8\"><a href=\"/tupian/meishishijie/\" title=\"美食图片 - 国外美食甜点图片 - 中国传统美食小吃图片\">美食世界</a></li><li class=\"s9\"><a href=\"/tupian/wupin/\" title=\"物品物件大全 - 生活用品 - 学习用品图片\">物品物件</a></li><li class=\"s10\"><a href=\"/tupian/yundongtiyu/\" title=\"运动图片 - 体育、休闲、竞赛图片\">运动体育</a></li><li class=\"s11\"><a href=\"/tupian/jiaotongyunshu/\" title=\"公路铁路运输 - 桥梁码头图片 - 车船飞机图片\">交通运输</a></li><li class=\"s12\"><a href=\"/tupian/jianzhuhuanjing/\" title=\"世界著名建筑 - 各国建筑图片 - 建筑环境图片\">建筑环境</a></li><li class=\"s13\"><a href=\"/tupian/jiaju/\" title=\"家居装饰设计图片 - 装修效果图 - 时尚家居图片\">装饰装修</a></li><li class=\"s14\"><a href=\"/tupian/guanggaosheji/\" title=\"品牌广告设计 - 广告设计创意图片\">广告设计</a></li><li class=\"s15\"><a href=\"/tupian/katongtupian/\" title=\"卡通插画图片 - 卡通人物形象、卡通风景图片\">卡通图片</a></li><li class=\"s16\"><a href=\"/tupian/jieritupian/\" title=\"中国传统节日图片 - 国外知名节日图片\">节日图片</a></li><li class=\"s17\"><a href=\"/tupian/shejisucai/\" title=\"设计素材图片 - 背景图片 - 花纹、底纹、边框素材图片\">设计素材</a></li><li class=\"s18\"><a href=\"/tupian/yishu/\" title=\"艺术 - 绘画 - 民族艺术\">艺术绘画</a></li><li class=\"s19\"><a href=\"/tupian/qita/\" title=\"其他类别图片\">其他类别</a></li></ul></div><div class=\"sline\" id=\"sline2\"><div><b>小分类</b><a href=\"/tupian/ziranfengjing_t2800/\"  title=\"自然风景图片_自然风景图片大全\">自然风景</a> <a href=\"/tupian/tiankong_t811/\"  title=\"天空图片\">天空</a> <a href=\"/tupian/lantianbaiyun_t1485/\"  title=\"蓝天白云图片\">蓝天白云</a> <a href=\"/tupian/yangguang_t599/\"  title=\"阳光图片\">阳光</a> <a href=\"/tupian/richu_t165/\"  title=\"日出图片\">日出</a> <a href=\"/tupian/wanxia_t84/\"  title=\"晚霞图片\">晚霞</a> <a href=\"/tupian/xiyang_t15/\"  title=\"夕阳图片\">夕阳</a> <a href=\"/tupian/luori_t8846/\"  title=\"落日图片\">落日</a> <a href=\"/tupian/xingkong_t810/\"  title=\"星空图片\">星空</a> <a href=\"/tupian/yekong_t19444/\"  title=\"夜空图片\">夜空</a> <a href=\"/tupian/tudi_t4728/\"  title=\"土地图片\">土地</a> <a href=\"/tupian/gebi_t19445/\"  title=\"戈壁图片\">戈壁</a> <a href=\"/tupian/shamo_t2726/\"  title=\"沙漠图片\">沙漠</a> <a href=\"/tupian/xiagu_t94/\"  title=\"峡谷图片\">峡谷</a> <a href=\"/tupian/shanmai_t95/\"  title=\"山脉图片\">山脉</a> <a href=\"/tupian/shanchuan_t2213/\"  title=\"山川图片\">山川</a> <a href=\"/tupian/shanlin_t19446/\"  title=\"山林图片\">山林</a> <a href=\"/tupian/senlin_t2303/\"  title=\"森林图片\">森林</a> <a href=\"/tupian/shulin_t3166/\"  title=\"树林图片\">树林</a> <a href=\"/tupian/caoyuan_t933/\"  title=\"草原图片\">草原</a> <a href=\"/tupian/tianye_t1472/\"  title=\"田野图片\">田野</a> <a href=\"/tupian/caodi_t2229/\"  title=\"草地图片\">草地</a> <a href=\"/tupian/tianyuan_t3171/\"  title=\"田园图片\">田园</a> <a href=\"/tupian/nongtian_t5097/\"  title=\"农田图片\">农田</a> <a href=\"/tupian/maitian_t268/\"  title=\"麦田图片\">麦田</a> <a href=\"/tupian/caitian_t19447/\"  title=\"菜田图片\">菜田</a> <a href=\"/tupian/daotian_t3887/\"  title=\"稻田图片\">稻田</a> <a href=\"/tupian/titian_t10931/\"  title=\"梯田图片\">梯田</a> <a href=\"/tupian/heliu_t11199/\"  title=\"河流图片\">河流</a> <a href=\"/tupian/xiliu_t169/\"  title=\"溪流图片\">溪流</a> <a href=\"/tupian/pubu_t163/\"  title=\"瀑布图片\">瀑布</a> <a href=\"/tupian/hubo_t11602/\"  title=\"湖泊图片\">湖泊</a> <a href=\"/tupian/daoyu_t503/\"  title=\"岛屿图片\">岛屿</a> <a href=\"/tupian/haidao_t934/\"  title=\"海岛图片\">海岛</a> <a href=\"/tupian/dahai_t660/\"  title=\"大海图片\">大海</a> <a href=\"/tupian/hailang_t499/\"  title=\"海浪图片\">海浪</a> <a href=\"/tupian/haitan_t1225/\"  title=\"海滩图片\">海滩</a> <a href=\"/tupian/shatan_t600/\"  title=\"沙滩图片\">沙滩</a> <a href=\"/tupian/haian_t20/\"  title=\"海岸图片\">海岸</a> <a href=\"/tupian/haijing_t16177/\"  title=\"海景图片\">海景</a> <a href=\"/tupian/chunji_t8857/\"  title=\"春季图片\">春季</a> <a href=\"/tupian/xiaji_t3145/\"  title=\"夏季图片\">夏季</a> <a href=\"/tupian/qiuji_t3374/\"  title=\"秋天图片大全_秋季的图片_秋季图片\">秋季</a> <a href=\"/tupian/dongji_t3144/\"  title=\"冬季图片\">冬季</a> <a href=\"/tupian/siji_t5102/\"  title=\"四季图片\">四季</a> <a href=\"/tupian/tianqiqihou_t19449/\"  title=\"天气气候图片\">天气气候</a> <a href=\"/tupian/bingxuejingse_t19450/\"  title=\"冰雪景色图片\">冰雪景色</a> <a href=\"/tupian/bingshan_t471/\"  title=\"冰山图片\">冰山</a> </div></div><div id=\"tplistleft\"><script>dy(\"tplistleft\");</script></div><ul class=\"ali\">    <li><div class=\"il_img\"><a href=\"/tupian/senlin_wu_v52634/\" title=\"大雾天的森林图片 (13张)\" target=\"_blank\"><img src=\"//img.ivsky.com/img/tupian/li/201810/16/senlin_wu-011.jpg\" alt=\"大雾天的森林图片 \"></a></div><p><a href=\"/tupian/senlin_wu_v52634/\" title=\"大雾天的森林图片 \" target=\"_blank\">大雾天的森林图片 (13张)</a></p></li><li><div class=\"il_img\"><a href=\"/tupian/shamo_v52632/\" title=\"沙漠中的人图片(14张)\" target=\"_blank\"><img src=\"//img.ivsky.com/img/tupian/li/201810/16/shamo.jpg\" alt=\"沙漠中的人图片\"></a></div><p><a href=\"/tupian/shamo_v52632/\" title=\"沙漠中的人图片\" target=\"_blank\">沙漠中的人图片(14张)</a></p></li><li><div class=\"il_img\"><a href=\"/tupian/caoyuan_v52629/\" title=\"宽广的草原图片(15张)\" target=\"_blank\"><img src=\"//img.ivsky.com/img/tupian/li/201810/16/caoyuan-007.jpg\" alt=\"宽广的草原图片\"></a></div><p><a href=\"/tupian/caoyuan_v52629/\" title=\"宽广的草原图片\" target=\"_blank\">宽广的草原图片(15张)</a></p></li><li><div class=\"il_img\"><a href=\"/tupian/xuanya_v52630/\" title=\"极度危险的悬崖图片(13张)\" target=\"_blank\"><img src=\"//img.ivsky.com/img/tupian/li/201810/16/xuanya-005.jpg\" alt=\"极度危险的悬崖图片\"></a></div><p><a href=\"/tupian/xuanya_v52630/\" title=\"极度危险的悬崖图片\" target=\"_blank\">极度危险的悬崖图片(13张)</a></p></li><li><div class=\"il_img\"><a href=\"/tupian/hongse_de_yanshi_v52610/\" title=\"红色的岩石图片(11张)\" target=\"_blank\"><img src=\"//img.ivsky.com/img/tupian/li/201810/16/hongse_de_yanshi.jpg\" alt=\"红色的岩石图片\"></a></div><p><a href=\"/tupian/hongse_de_yanshi_v52610/\" title=\"红色的岩石图片\" target=\"_blank\">红色的岩石图片(11张)</a></p></li><li><div class=\"il_img\"><a href=\"/tupian/xiagu_pubu_v52609/\" title=\"峡谷瀑布图片(12张)\" target=\"_blank\"><img src=\"//img.ivsky.com/img/tupian/li/201810/16/xiagu_pubu-011.jpg\" alt=\"峡谷瀑布图片\"></a></div><p><a href=\"/tupian/xiagu_pubu_v52609/\" title=\"峡谷瀑布图片\" target=\"_blank\">峡谷瀑布图片(12张)</a></p></li><li><div class=\"il_img\"><a href=\"/tupian/kongzhong_de_yuncai_v52605/\" title=\"空中的云彩图片(10张)\" target=\"_blank\"><img src=\"//img.ivsky.com/img/tupian/li/201810/16/kongzhong_de_yuncai-007.jpg\" alt=\"空中的云彩图片\"></a></div><p><a href=\"/tupian/kongzhong_de_yuncai_v52605/\" title=\"空中的云彩图片\" target=\"_blank\">空中的云彩图片(10张)</a></p></li><li><div class=\"il_img\"><a href=\"/tupian/haidao_v52603/\" title=\"海岛图片(11张)\" target=\"_blank\"><img src=\"//img.ivsky.com/img/tupian/li/201810/16/haidao-006.jpg\" alt=\"海岛图片\"></a></div><p><a href=\"/tupian/haidao_v52603/\" title=\"海岛图片\" target=\"_blank\">海岛图片(11张)</a></p></li><li><div class=\"il_img\"><a href=\"/tupian/haitan_yanshi_v52596/\" title=\"海滩上的岩石图片(12张)\" target=\"_blank\"><img src=\"//img.ivsky.com/img/tupian/li/201810/16/haitan_yanshi-006.jpg\" alt=\"海滩上的岩石图片\"></a></div><p><a href=\"/tupian/haitan_yanshi_v52596/\" title=\"海滩上的岩石图片\" target=\"_blank\">海滩上的岩石图片(12张)</a></p></li><li><div class=\"il_img\"><a href=\"/tupian/qiutian_shulin_v52597/\" title=\"秋天的树林图片(12张)\" target=\"_blank\"><img src=\"//img.ivsky.com/img/tupian/li/201810/16/qiutian_shulin-002.jpg\" alt=\"秋天的树林图片\"></a></div><p><a href=\"/tupian/qiutian_shulin_v52597/\" title=\"秋天的树林图片\" target=\"_blank\">秋天的树林图片(12张)</a></p></li><li><div class=\"il_img\"><a href=\"/tupian/xiaoxi_liushui_v52407/\" title=\"森林小溪山间流水图片(15张)\" target=\"_blank\"><img src=\"//img.ivsky.com/img/tupian/li/201810/09/xiaoxi_liushui-013.jpg\" alt=\"森林小溪山间流水图片\"></a></div><p><a href=\"/tupian/xiaoxi_liushui_v52407/\" title=\"森林小溪山间流水图片\" target=\"_blank\">森林小溪山间流水图片(15张)</a></p></li><li><div class=\"il_img\"><a href=\"/tupian/luzhu_v52379/\" title=\"清晨草上的露珠图片(10张)\" target=\"_blank\"><img src=\"//img.ivsky.com/img/tupian/li/201810/08/luzhu-007.jpg\" alt=\"清晨草上的露珠图片\"></a></div><p><a href=\"/tupian/luzhu_v52379/\" title=\"清晨草上的露珠图片\" target=\"_blank\">清晨草上的露珠图片(10张)</a></p></li><li><div class=\"il_img\"><a href=\"/tupian/haitan_v52380/\" title=\"凉爽的海滩图片(10张)\" target=\"_blank\"><img src=\"//img.ivsky.com/img/tupian/li/201810/08/haitan-002.jpg\" alt=\"凉爽的海滩图片\"></a></div><p><a href=\"/tupian/haitan_v52380/\" title=\"凉爽的海滩图片\" target=\"_blank\">凉爽的海滩图片(10张)</a></p></li><li><div class=\"il_img\"><a href=\"/tupian/caihong_v52357/\" title=\"七色的彩虹图片(14张)\" target=\"_blank\"><img src=\"//img.ivsky.com/img/tupian/li/201810/07/caihong-006.jpg\" alt=\"七色的彩虹图片\"></a></div><p><a href=\"/t"
     ]
    },
    {
     "data": {
      "text/html": [
       "<b>limit_output extension: Maximum message size of 10000 exceeded with 16805 characters</b>"
      ]
     },
     "metadata": {},
     "output_type": "display_data"
    }
   ],
   "source": [
    "print(response.text) # 返回字符串类型"
   ]
  },
  {
   "cell_type": "markdown",
   "metadata": {},
   "source": [
    "## 解析网页：lxml"
   ]
  },
  {
   "cell_type": "markdown",
   "metadata": {},
   "source": [
    "通过分析网页结构:\n",
    "\n",
    "![](./image/lxml.png)\n",
    "\n",
    "我们发现，图片都存储在`<ul class=\"ali\">/<div class=\"il_img\">/<li>/<a>/<img>`的属性`src`中"
   ]
  },
  {
   "cell_type": "code",
   "execution_count": 18,
   "metadata": {
    "ExecuteTime": {
     "end_time": "2019-05-01T02:48:30.576194Z",
     "start_time": "2019-05-01T02:48:30.568220Z"
    }
   },
   "outputs": [
    {
     "name": "stdout",
     "output_type": "stream",
     "text": [
      "[<Element img at 0x11b98926808>, <Element img at 0x11b98926848>, <Element img at 0x11b98926888>, <Element img at 0x11b989268c8>, <Element img at 0x11b98926908>, <Element img at 0x11b98926988>, <Element img at 0x11b989269c8>, <Element img at 0x11b98926a08>, <Element img at 0x11b98926a48>, <Element img at 0x11b98926948>]\n"
     ]
    }
   ],
   "source": [
    "from lxml import etree\n",
    "\n",
    "html = etree.HTML(response.text,etree.HTMLParser()) # 解析HTML文本内容\n",
    "img_list = html.xpath('//ul[@class=\"ali\"]/li//a/img') # 注意 a 标签不是 li的直接子节点，故用//\n",
    "print(img_list[:10])"
   ]
  },
  {
   "cell_type": "markdown",
   "metadata": {},
   "source": [
    "## 下载图片"
   ]
  },
  {
   "cell_type": "code",
   "execution_count": 19,
   "metadata": {
    "ExecuteTime": {
     "end_time": "2019-05-01T02:48:32.959049Z",
     "start_time": "2019-05-01T02:48:30.578191Z"
    }
   },
   "outputs": [
    {
     "name": "stdout",
     "output_type": "stream",
     "text": [
      "https://img.ivsky.com/img/tupian/li/201810/16/senlin_wu-011.jpg\n",
      "https://img.ivsky.com/img/tupian/li/201810/16/shamo.jpg\n",
      "https://img.ivsky.com/img/tupian/li/201810/16/caoyuan-007.jpg\n",
      "https://img.ivsky.com/img/tupian/li/201810/16/xuanya-005.jpg\n",
      "https://img.ivsky.com/img/tupian/li/201810/16/hongse_de_yanshi.jpg\n",
      "https://img.ivsky.com/img/tupian/li/201810/16/xiagu_pubu-011.jpg\n",
      "https://img.ivsky.com/img/tupian/li/201810/16/kongzhong_de_yuncai-007.jpg\n",
      "https://img.ivsky.com/img/tupian/li/201810/16/haidao-006.jpg\n",
      "https://img.ivsky.com/img/tupian/li/201810/16/haitan_yanshi-006.jpg\n",
      "https://img.ivsky.com/img/tupian/li/201810/16/qiutian_shulin-002.jpg\n",
      "https://img.ivsky.com/img/tupian/li/201810/09/xiaoxi_liushui-013.jpg\n",
      "https://img.ivsky.com/img/tupian/li/201810/08/luzhu-007.jpg\n",
      "https://img.ivsky.com/img/tupian/li/201810/08/haitan-002.jpg\n",
      "https://img.ivsky.com/img/tupian/li/201810/07/caihong-006.jpg\n",
      "https://img.ivsky.com/img/tupian/li/201810/07/xingkong-010.jpg\n",
      "https://img.ivsky.com/img/tupian/li/201810/06/xueshan-003.jpg\n",
      "https://img.ivsky.com/img/tupian/li/201810/06/yangguang_shuimian.jpg\n",
      "https://img.ivsky.com/img/tupian/li/201810/06/qiujing-002.jpg\n"
     ]
    }
   ],
   "source": [
    "# 遍历img节点列表\n",
    "for img in img_list:\n",
    "    title = img.xpath('@alt')[0] # 图片的标题\n",
    "    img_url = 'https:' + img.xpath('@src')[0]# 图片地址\n",
    "    print(img_url)\n",
    "    # 处理异常\n",
    "    try:\n",
    "        img_response = requests.get(img_url) # 通过URL获取图片数据\n",
    "    except RequestException as e:\n",
    "        print('request is error!',e)\n",
    "        continue\n",
    "    \n",
    "    # 存储图片\n",
    "    file = open('./data/lxml_result/'+title+'.jpg','wb')\n",
    "    file.write(img_response.content)\n",
    "    file.close()"
   ]
  },
  {
   "cell_type": "markdown",
   "metadata": {},
   "source": [
    "爬取结果如下:\n",
    "![](./image/lxml2.png)"
   ]
  },
  {
   "cell_type": "markdown",
   "metadata": {},
   "source": [
    "这里我们只是做了个简单的爬虫，但实际上仍有很大问题，比如下载的图片，事实上像素太小；我们只是下载了一个网页上的图片，爬虫没有处理多网页的情况。"
   ]
  }
 ],
 "metadata": {
  "kernelspec": {
   "display_name": "Python 3",
   "language": "python",
   "name": "python3"
  },
  "language_info": {
   "codemirror_mode": {
    "name": "ipython",
    "version": 3
   },
   "file_extension": ".py",
   "mimetype": "text/x-python",
   "name": "python",
   "nbconvert_exporter": "python",
   "pygments_lexer": "ipython3",
   "version": "3.7.0"
  },
  "toc": {
   "base_numbering": 1,
   "nav_menu": {},
   "number_sections": true,
   "sideBar": true,
   "skip_h1_title": false,
   "title_cell": "Table of Contents",
   "title_sidebar": "Contents",
   "toc_cell": false,
   "toc_position": {},
   "toc_section_display": true,
   "toc_window_display": false
  },
  "varInspector": {
   "cols": {
    "lenName": 16,
    "lenType": 16,
    "lenVar": 40
   },
   "kernels_config": {
    "python": {
     "delete_cmd_postfix": "",
     "delete_cmd_prefix": "del ",
     "library": "var_list.py",
     "varRefreshCmd": "print(var_dic_list())"
    },
    "r": {
     "delete_cmd_postfix": ") ",
     "delete_cmd_prefix": "rm(",
     "library": "var_list.r",
     "varRefreshCmd": "cat(var_dic_list()) "
    }
   },
   "types_to_exclude": [
    "module",
    "function",
    "builtin_function_or_method",
    "instance",
    "_Feature"
   ],
   "window_display": false
  }
 },
 "nbformat": 4,
 "nbformat_minor": 2
}
