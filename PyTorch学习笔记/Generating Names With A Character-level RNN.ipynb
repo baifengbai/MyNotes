{
 "cells": [
  {
   "cell_type": "markdown",
   "metadata": {},
   "source": [
    "本文是对PyTorch Tutorials的学习，原文地址https://pytorch.org/tutorials/intermediate/char_rnn_generation_tutorial.html,\n",
    "编辑:weiyang,微信:damo894127201,Time:2019.2.2"
   ]
  },
  {
   "cell_type": "markdown",
   "metadata": {},
   "source": [
    "这次我们使用char-RNN来生成名字\n",
    "\n",
    "```Python\n",
    "> python sample.py Russian RUS\n",
    "Rovakov\n",
    "Uantov\n",
    "Shavakov\n",
    "\n",
    "> python sample.py German GER\n",
    "Gerren\n",
    "Ereng\n",
    "Rosher\n",
    "\n",
    "> python sample.py Spanish SPA\n",
    "Salla\n",
    "Parer\n",
    "Allan\n",
    "\n",
    "> python sample.py Chinese CHI\n",
    "Chan\n",
    "Hang\n",
    "Iun\n",
    "```"
   ]
  },
  {
   "cell_type": "markdown",
   "metadata": {},
   "source": [
    "我们手工编写有几个线性层的RNN。与读取名字的每个字符(字母)来预测名字所属的语言类别不同的是，我们输入语言类别并一次输出一个字符。循环预测字符形成语言(这可以用单词或其它更高阶的结构来完成)通常被称为**\"语言模型\"**。"
   ]
  },
  {
   "cell_type": "markdown",
   "metadata": {},
   "source": [
    "# Preparing the Data：准备数据"
   ]
  },
  {
   "cell_type": "markdown",
   "metadata": {},
   "source": [
    "data/names文件夹下有一大堆纯文本文件[Language].txt,文件内容是每行一个name。我们将会将每行放进一个array，然后将Unicode编码转为ASCII，最后输出一个字典{language:[names,...]} 。"
   ]
  },
  {
   "cell_type": "code",
   "execution_count": 1,
   "metadata": {
    "collapsed": true
   },
   "outputs": [],
   "source": [
    "from __future__ import unicode_literals,print_function,division\n",
    "from io import open\n",
    "import glob  # 使用通配符查找文件目录和文件的模块\n",
    "import os\n",
    "import unicodedata # 将文本编码标准化\n",
    "import string"
   ]
  },
  {
   "cell_type": "markdown",
   "metadata": {},
   "source": [
    "## 生成模型的字符列表"
   ]
  },
  {
   "cell_type": "markdown",
   "metadata": {
    "collapsed": true
   },
   "source": [
    "string.ascii_letters 生成26个字母，包含大小写\n",
    "\n",
    "string.digits 生成0-9的数字"
   ]
  },
  {
   "cell_type": "code",
   "execution_count": 2,
   "metadata": {
    "collapsed": true
   },
   "outputs": [],
   "source": [
    "all_letters = string.ascii_letters + \" .,;'-\" # 所需要的字符集合\n",
    "n_letters = len(all_letters) + 1 # puls EOS marker 字符类型个数应该加上结束符EOS"
   ]
  },
  {
   "cell_type": "markdown",
   "metadata": {},
   "source": [
    "## 定义利用通配符查找文件的函数"
   ]
  },
  {
   "cell_type": "markdown",
   "metadata": {},
   "source": [
    "glob模块支持 * ? [] 三种通配符\n",
    "\n",
    "1. \\*代表0个或多个字符\n",
    "2. ?代表一个字符\n",
    "3. []匹配指定范围内的字符，如[0-9]匹配数字\n",
    "\n",
    "glob.glob(regx):返回符合条件的文件列表\n",
    "\n",
    "glob.iglob(regx):返回符合条件的文件迭代器，适合于大量文件的目录"
   ]
  },
  {
   "cell_type": "code",
   "execution_count": 3,
   "metadata": {
    "collapsed": true
   },
   "outputs": [],
   "source": [
    "def findFiles(path):\n",
    "    return glob.glob(path)"
   ]
  },
  {
   "cell_type": "markdown",
   "metadata": {},
   "source": [
    "## 将Unicode字符串转为纯ASCII字符串:字符串标准化"
   ]
  },
  {
   "cell_type": "code",
   "execution_count": 4,
   "metadata": {
    "collapsed": true
   },
   "outputs": [],
   "source": [
    "def unicodeToAscii(s):\n",
    "    return ''.join(\n",
    "        c for c in unicodedata.normalize('NFD',s) # 把Unicode字符转为Normalization Form D(NFD)格式的字符串\n",
    "        if unicodedata.category(c) != 'Mn' # 该字符c在unicode分类的类型，不是 Mark, Nonspacing\n",
    "        and c in all_letters\n",
    "    ) # join()里其实是个列表推导"
   ]
  },
  {
   "cell_type": "markdown",
   "metadata": {},
   "source": [
    "## 读取文件并将其分割成一行一行"
   ]
  },
  {
   "cell_type": "code",
   "execution_count": 5,
   "metadata": {
    "collapsed": true
   },
   "outputs": [],
   "source": [
    "def readLines(filename):\n",
    "    lines = open(filename,encoding='utf-8').read().strip().split('\\n')\n",
    "    return [unicodeToAscii(line) for line in lines]"
   ]
  },
  {
   "cell_type": "markdown",
   "metadata": {},
   "source": [
    "## 构建{语言类别:names}字典，其中names是个name列表"
   ]
  },
  {
   "cell_type": "code",
   "execution_count": 6,
   "metadata": {},
   "outputs": [
    {
     "name": "stdout",
     "output_type": "stream",
     "text": [
      "# categories: 18 ['English', 'Korean', 'Greek', 'Czech', 'Polish', 'Chinese', 'Japanese', 'Vietnamese', 'Scottish', 'French', 'Russian', 'Portuguese', 'Dutch', 'German', 'Arabic', 'Spanish', 'Irish', 'Italian']\n",
      "\n",
      "O'Neal\n"
     ]
    }
   ],
   "source": [
    "category_lines = {}\n",
    "all_categories = []\n",
    "# 遍历data/names文件下的文件\n",
    "for filename in findFiles('data/names/*.txt'):\n",
    "    # os.path.basename(filename)返回filename最后位置处的文件名\n",
    "    # os.path.splitext（）分离文件名与扩展名\n",
    "    category = os.path.splitext(os.path.basename(filename))[0]# 获取语言类别\n",
    "    all_categories.append(category)\n",
    "    lines = readLines(filename)\n",
    "    category_lines[category] = lines\n",
    "    \n",
    "n_categories = len(all_categories) # 语言类别个数\n",
    "if n_categories == 0:\n",
    "    raise RuntimeError('Data not found. Make sure that you downloaded data '\n",
    "        'from https://download.pytorch.org/tutorial/data.zip and extract it to '\n",
    "        'the current directory.')\n",
    "    \n",
    "print('# categories:',n_categories,all_categories)\n",
    "print()\n",
    "print(unicodeToAscii(\"O'Néàl\")) # 查看字符串标准化是否运行异常"
   ]
  },
  {
   "cell_type": "markdown",
   "metadata": {},
   "source": [
    "# Creating the Network:搭建网络"
   ]
  },
  {
   "cell_type": "markdown",
   "metadata": {},
   "source": [
    "该网络扩展了[Classifying Names with a Character-Level RNN](https://pytorch.org/tutorials/intermediate/char_rnn_classification_tutorial.html)教程的RNN，并为类别Tensor提供了额外的参数，该参数与其他类型连接在一起。 类别张量是一个单热矢量，就像字母输入一样。\n",
    "\n",
    "我们将输出(output)解释为下一个字母(next letter)的概率。 采样(sample)时，最可能的(概率最大)输出字母用作下一个输入字母。\n",
    "\n",
    "在hidden层和output层之后，我添加了第二个线性层$o2o$以使得网络更健壮。网络里也增加了dropout层，它会随机将输入input的一部分以0.1的概率置为0，这经常用来模糊输入input以防止过拟合。在这儿，我们在网络的尾端使用dropout，故意增加input的混乱以增加采样sampling的多样性，好使得输出字母的能更多样。\n",
    "\n",
    "![网络结构](./image/char_RNN_generating_names.png)"
   ]
  },
  {
   "cell_type": "markdown",
   "metadata": {},
   "source": [
    "下面是一个完整的RNN结构"
   ]
  },
  {
   "cell_type": "code",
   "execution_count": 7,
   "metadata": {
    "collapsed": true
   },
   "outputs": [],
   "source": [
    "import torch\n",
    "import torch.nn as nn\n",
    "\n",
    "class RNN(nn.Module):\n",
    "    \n",
    "    def __init__(self,input_size,hidden_size,output_size):\n",
    "        super(RNN,self).__init__()\n",
    "        self.hidden_size = hidden_size\n",
    "        \n",
    "        self.i2h = nn.Linear(n_categories + input_size + hidden_size,hidden_size)\n",
    "        self.i2o = nn.Linear(n_categories + input_size + hidden_size,output_size)\n",
    "        self.o2o = nn.Linear(hidden_size + output_size,output_size)\n",
    "        self.dropout = nn.Dropout(0.1)\n",
    "        self.softmax = nn.LogSoftmax(dim=1)\n",
    "        \n",
    "    def forward(self,category,input,hidden):\n",
    "        input_combined = torch.cat((category,input,hidden),1)\n",
    "        hidden = self.i2h(input_combined)\n",
    "        output = self.i2o(input_combined)\n",
    "        output_combined = torch.cat((hidden,output),1)\n",
    "        output = self.o2o(output_combined)\n",
    "        output = self.dropout(output)\n",
    "        output = self.softmax(output)\n",
    "        return output,hidden # RNN的输出和隐状态\n",
    "    \n",
    "    def initHidden(self): # RNN隐藏层初始状态\n",
    "        return torch.zeros(1,self.hidden_size)"
   ]
  },
  {
   "cell_type": "markdown",
   "metadata": {},
   "source": [
    "# Training：训练"
   ]
  },
  {
   "cell_type": "markdown",
   "metadata": {},
   "source": [
    "## Preparing for Training"
   ]
  },
  {
   "cell_type": "markdown",
   "metadata": {},
   "source": [
    "用辅助函数来随机获取(category,name)对"
   ]
  },
  {
   "cell_type": "code",
   "execution_count": 8,
   "metadata": {
    "collapsed": true
   },
   "outputs": [],
   "source": [
    "import random\n",
    "\n",
    "# Random item from a list\n",
    "def randomChoice(lst):\n",
    "    return lst[random.randint(0,len(lst) -1)]\n",
    "\n",
    "# get a random category and random name from that category\n",
    "def randomTrainingPair():\n",
    "    category = randomChoice(all_categories)\n",
    "    name = randomChoice(category_lines[category])\n",
    "    return category,name"
   ]
  },
  {
   "cell_type": "markdown",
   "metadata": {},
   "source": [
    "对于每个时间步timestep(也就是训练Word的每个字母),RNN的输入是(category,current_letter,hidden_state)，输出是(next_letter,next_hidden_state)。因此对于训练集，我们需要准备语言类别category，输入name的字母集合,输出目标name的字母集合。\n",
    "\n",
    "由于我们是通过当前时间步的字母来预测下一个时间步的字母的，因此**字母对**letter paris是当前输入name的连续字母组，如输入$\"ABCD<EOS>\"$，将会转变为$('A','B'),('B','C'),('C','D'),('D','EOS')。\n",
    "\n",
    "![RNN_input](./image/RNN_input.png)"
   ]
  },
  {
   "cell_type": "markdown",
   "metadata": {},
   "source": [
    "category Tensor是一个(1 x n_categories)维的one-hot张量。在训练时，每个时间步timestep我们都要灌进网络里--这是一个可选项，它是初始隐状态或其他策略的一部分。"
   ]
  },
  {
   "cell_type": "markdown",
   "metadata": {},
   "source": [
    "category的one-hot向量 "
   ]
  },
  {
   "cell_type": "code",
   "execution_count": 9,
   "metadata": {
    "collapsed": true
   },
   "outputs": [],
   "source": [
    "def categoryTensor(category):\n",
    "    li = all_categories.index(category) # 获取类别索引位置编号\n",
    "    tensor = torch.zeros(1,n_categories)\n",
    "    tensor[0][li] = 1\n",
    "    return tensor"
   ]
  },
  {
   "cell_type": "markdown",
   "metadata": {},
   "source": [
    "RNN的输入： input name 中从第一个字母到最后一个字母的one-hot matrix，不包括<EOS>"
   ]
  },
  {
   "cell_type": "code",
   "execution_count": 10,
   "metadata": {
    "collapsed": true
   },
   "outputs": [],
   "source": [
    "def inputTensor(line):\n",
    "    tensor = torch.zeros(len(line),1,n_letters) # len(name) x 1 x 字符的个数(包括EOS)\n",
    "    for li in range(len(line)):\n",
    "        letter = line[li]\n",
    "        tensor[li][0][all_letters.find(letter)] = 1\n",
    "    return tensor"
   ]
  },
  {
   "cell_type": "markdown",
   "metadata": {},
   "source": [
    "RNN的目标输出： input name 中从第二个字母到EOS结束的one-hot matrix,第一个字母的目标输出是第二个字母，第二个是第三个,...,最后一个字母目标输出是EOS"
   ]
  },
  {
   "cell_type": "code",
   "execution_count": 11,
   "metadata": {
    "collapsed": true
   },
   "outputs": [],
   "source": [
    "def targetTensor(line):\n",
    "    letter_indexes = [all_letters.find(line[li]) for li in range(1,len(line))]\n",
    "    letter_indexes.append(n_letters - 1) # 再加上EOS\n",
    "    return torch.LongTensor(letter_indexes)"
   ]
  },
  {
   "cell_type": "markdown",
   "metadata": {},
   "source": [
    "我们再写一个辅助函数，用来对输入数据进行随机抽取，然后将抽取的(category,name)对转为RNN的输入tensor（category,input,target）"
   ]
  },
  {
   "cell_type": "code",
   "execution_count": 12,
   "metadata": {
    "collapsed": true
   },
   "outputs": [],
   "source": [
    "# make (category,input,target) tensors from a random (category,name)对\n",
    "def randomTrainingExample():\n",
    "    category,line = randomTrainingPair()\n",
    "    category_tensor = categoryTensor(category)\n",
    "    input_line_tensor = inputTensor(line)\n",
    "    target_line_tensor = targetTensor(line)\n",
    "    return category_tensor,input_line_tensor,target_line_tensor"
   ]
  },
  {
   "cell_type": "markdown",
   "metadata": {},
   "source": [
    "## Training the Network"
   ]
  },
  {
   "cell_type": "markdown",
   "metadata": {},
   "source": [
    "用RNN分类时，只有最后时间步的输出有用，而在这里，每一时间步都要做预测，因此每一时间步都要计算损失。\n",
    "\n",
    "自动微分模块autograd允许你轻松计算每一时间步的损失和，最后再调用backward反向传播更新权重"
   ]
  },
  {
   "cell_type": "code",
   "execution_count": 13,
   "metadata": {
    "collapsed": true
   },
   "outputs": [],
   "source": [
    "# 由于已经用softmax做过对数了，因此用NLLLoss\n",
    "# 损失函数NLLLoss() 的 输入 是一个对数概率向量和一个目标标签. \n",
    "# 它不会为我们计算对数概率，适合最后一层是log_softmax()的网络\n",
    "loss_func = nn.NLLLoss() # 定义损失函数\n",
    "learning_rate = 0.0005\n",
    "\n",
    "def train(category_tensor,input_line_tensor,target_line_tensor):\n",
    "    target_line_tensor.unsqueeze_(-1) # 在最后一个维度上增加一个维度，以便在维度上与RNN的输出output相一致\n",
    "    hidden = rnn.initHidden() # 初始化最开始的隐状态\n",
    "    \n",
    "    rnn.zero_grad()\n",
    "    loss = 0\n",
    "    \n",
    "    for i in range(input_line_tensor.size(0)):\n",
    "        output,hidden = rnn(category_tensor,input_line_tensor[i],hidden)\n",
    "        ls = loss_func(output,target_line_tensor[i]) # 计算损失\n",
    "        loss += ls\n",
    "    \n",
    "    loss.backward()\n",
    "    \n",
    "    for p in rnn.parameters():\n",
    "        p.data.add_(-learning_rate,p.grad.data) # 挨个更新参数\n",
    "    \n",
    "    return output,loss.item() / input_line_tensor.size(0)"
   ]
  },
  {
   "cell_type": "markdown",
   "metadata": {},
   "source": [
    "计算网络训练时长"
   ]
  },
  {
   "cell_type": "code",
   "execution_count": 14,
   "metadata": {
    "collapsed": true
   },
   "outputs": [],
   "source": [
    "import time\n",
    "import math\n",
    "\n",
    "def timeSince(since):\n",
    "    now = time.time()\n",
    "    s = now - since\n",
    "    m = math.floor(s / 60)\n",
    "    s -= m * 60\n",
    "    return '%dm %ds'% (m,s)"
   ]
  },
  {
   "cell_type": "markdown",
   "metadata": {},
   "source": [
    "训练时，会输出当前时间和相应的损失，并保留相应的损失便于后期可视化损失"
   ]
  },
  {
   "cell_type": "code",
   "execution_count": 15,
   "metadata": {},
   "outputs": [
    {
     "name": "stdout",
     "output_type": "stream",
     "text": [
      "0m 20s (5000 5%) 2.7672\n",
      "0m 33s (10000 10%) 2.7377\n",
      "0m 48s (15000 15%) 2.5650\n",
      "1m 5s (20000 20%) 3.0229\n",
      "1m 19s (25000 25%) 1.2880\n",
      "1m 33s (30000 30%) 2.5434\n",
      "1m 47s (35000 35%) 2.1538\n",
      "2m 5s (40000 40%) 3.3355\n",
      "2m 22s (45000 45%) 2.2169\n",
      "2m 37s (50000 50%) 2.6645\n",
      "2m 51s (55000 55%) 2.3424\n",
      "3m 10s (60000 60%) 3.1401\n",
      "3m 24s (65000 65%) 2.4152\n",
      "3m 36s (70000 70%) 2.1437\n",
      "3m 52s (75000 75%) 1.1670\n",
      "4m 7s (80000 80%) 1.8012\n",
      "4m 21s (85000 85%) 2.1307\n",
      "4m 36s (90000 90%) 2.0935\n",
      "4m 49s (95000 95%) 2.1107\n",
      "5m 2s (100000 100%) 1.9913\n"
     ]
    }
   ],
   "source": [
    "rnn = RNN(n_letters,128,n_letters)\n",
    "\n",
    "n_iters = 100000\n",
    "print_every = 5000\n",
    "plot_every = 500\n",
    "all_losses = []\n",
    "total_loss = 0 # reset every plot_every iters\n",
    "\n",
    "start = time.time()\n",
    "\n",
    "for it in range(1,n_iters + 1):\n",
    "    output,loss = train(*randomTrainingExample())\n",
    "    total_loss += loss\n",
    "    \n",
    "    if it % print_every == 0:\n",
    "        print('%s (%d %d%%) %.4f' % (timeSince(start), it, it / n_iters * 100, loss))\n",
    "    \n",
    "    if it % plot_every == 0:\n",
    "        all_losses.append(total_loss / plot_every)\n",
    "        total_loss = 0"
   ]
  },
  {
   "cell_type": "markdown",
   "metadata": {},
   "source": [
    "## Plotting the Losses"
   ]
  },
  {
   "cell_type": "markdown",
   "metadata": {},
   "source": [
    "展示训练过程中的损失变化"
   ]
  },
  {
   "cell_type": "code",
   "execution_count": 16,
   "metadata": {},
   "outputs": [
    {
     "data": {
      "image/png": "[encoded data removed]",
      "text/plain": [
       "<matplotlib.figure.Figure at 0x7f1b29a65ba8>"
      ]
     },
     "metadata": {},
     "output_type": "display_data"
    }
   ],
   "source": [
    "import matplotlib.pyplot as plt\n",
    "import matplotlib.ticker as ticker\n",
    "\n",
    "plt.figure()\n",
    "plt.plot(all_losses)\n",
    "plt.xlabel('Epoch')\n",
    "plt.ylabel('Loss')\n",
    "plt.show()"
   ]
  },
  {
   "cell_type": "markdown",
   "metadata": {},
   "source": [
    "# Sampling the Network:预测"
   ]
  },
  {
   "cell_type": "markdown",
   "metadata": {},
   "source": [
    "抽样就是，我们给定一个字母letter，然后希望RNN能够出定下一个字母(next letter),然后将这个字母输入RNN，重复这个过程，直至遇到\\<EOS>。"
   ]
  },
  {
   "cell_type": "markdown",
   "metadata": {},
   "source": [
    "1. 为input category,starting letter创建tensors，并将初始的hidden state置为0\n",
    "2. 用starting letter构建output_name字符串\n",
    "3. 重复，直至output最大的长度:\n",
    "    1. 将当前字母letter灌进RNN\n",
    "    2. 获取RNN概率最大的输出output作为next letter 和 next hidden state\n",
    "    3. 如果当前字母为EOS，则停止\n",
    "    4. 如果是其他字母，就将其加入output_name中，然后继续循环\n",
    "4. 返回output_name"
   ]
  },
  {
   "cell_type": "markdown",
   "metadata": {},
   "source": [
    "Notes:另一种策略不是必须给它一个起始字母，而是在训练中包括“字符串开始”标记，并让网络选择自己的起始字母。"
   ]
  },
  {
   "cell_type": "code",
   "execution_count": 17,
   "metadata": {},
   "outputs": [
    {
     "name": "stdout",
     "output_type": "stream",
     "text": [
      "start letter : R\n",
      " Rovekov\n",
      "start letter : U\n",
      " Uarinov\n",
      "start letter : S\n",
      " Shanovek\n",
      "start letter : G\n",
      " Geren\n",
      "start letter : E\n",
      " Eren\n",
      "start letter : R\n",
      " Roun\n",
      "start letter : S\n",
      " Sanera\n",
      "start letter : P\n",
      " Pares\n",
      "start letter : A\n",
      " Allan\n",
      "start letter : C\n",
      " Chan\n",
      "start letter : H\n",
      " Hai\n",
      "start letter : I\n",
      " Iui\n"
     ]
    }
   ],
   "source": [
    "max_length = 20\n",
    "\n",
    "# sampling from a category and starting letter \n",
    "def sample(category,start_letter='A'):\n",
    "    with torch.no_grad(): \n",
    "        category_tensor = categoryTensor(category)\n",
    "        input_ = inputTensor(start_letter)\n",
    "        hidden = rnn.initHidden()\n",
    "        \n",
    "        output_name = start_letter\n",
    "        \n",
    "        for i in range(max_length):\n",
    "            output,hidden = rnn(category_tensor,input_[0],hidden)\n",
    "            topv,topi = output.topk(1) # 返回最大的K个元素\n",
    "            topi = topi[0][0] # 获取最大值对应的索引\n",
    "            if topi == n_letters - 1: # 如果是EOS\n",
    "                break\n",
    "            else:\n",
    "                letter = all_letters[topi]\n",
    "                output_name += letter\n",
    "            input_ = inputTensor(letter)\n",
    "            \n",
    "        return output_name\n",
    "    \n",
    "# 获取含有多个起始字母的结果\n",
    "def samples(category,start_letters='ABC'):\n",
    "    for start_letter in start_letters:\n",
    "        print('start letter : %s\\n'%start_letter,sample(category,start_letter))\n",
    "\n",
    "samples('Russian', 'RUS')\n",
    "\n",
    "samples('German', 'GER')\n",
    "\n",
    "samples('Spanish', 'SPA')\n",
    "\n",
    "samples('Chinese', 'CHI')"
   ]
  }
 ],
 "metadata": {
  "kernelspec": {
   "display_name": "Python 3",
   "language": "python",
   "name": "python3"
  },
  "language_info": {
   "codemirror_mode": {
    "name": "ipython",
    "version": 3
   },
   "file_extension": ".py",
   "mimetype": "text/x-python",
   "name": "python",
   "nbconvert_exporter": "python",
   "pygments_lexer": "ipython3",
   "version": "3.7.0"
  },
  "toc": {
   "base_numbering": 1,
   "nav_menu": {},
   "number_sections": true,
   "sideBar": true,
   "skip_h1_title": false,
   "title_cell": "Table of Contents",
   "title_sidebar": "Contents",
   "toc_cell": false,
   "toc_position": {},
   "toc_section_display": true,
   "toc_window_display": true
  },
  "varInspector": {
   "cols": {
    "lenName": 16,
    "lenType": 16,
    "lenVar": 40
   },
   "kernels_config": {
    "python": {
     "delete_cmd_postfix": "",
     "delete_cmd_prefix": "del ",
     "library": "var_list.py",
     "varRefreshCmd": "print(var_dic_list())"
    },
    "r": {
     "delete_cmd_postfix": ") ",
     "delete_cmd_prefix": "rm(",
     "library": "var_list.r",
     "varRefreshCmd": "cat(var_dic_list()) "
    }
   },
   "types_to_exclude": [
    "module",
    "function",
    "builtin_function_or_method",
    "instance",
    "_Feature"
   ],
   "window_display": false
  }
 },
 "nbformat": 4,
 "nbformat_minor": 2
}
