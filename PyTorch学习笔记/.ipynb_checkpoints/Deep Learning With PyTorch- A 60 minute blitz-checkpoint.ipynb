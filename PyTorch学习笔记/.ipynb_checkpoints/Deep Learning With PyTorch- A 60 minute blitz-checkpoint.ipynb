{
 "cells": [
  {
   "cell_type": "markdown",
   "metadata": {},
   "source": [
    "本文是对PyTorch Tutorials的学习，原文地址https://pytorch.org/tutorials/beginner/deep_learning_60min_blitz.html,\n",
    "编辑:weiyang\n",
    "Time:2019.1.22"
   ]
  },
  {
   "cell_type": "markdown",
   "metadata": {},
   "source": [
    "# What is PyTorch?"
   ]
  },
  {
   "cell_type": "markdown",
   "metadata": {},
   "source": [
    "## Tensors:张量"
   ]
  },
  {
   "cell_type": "markdown",
   "metadata": {},
   "source": [
    "Tensors类似于numpy中的多维数组ndarrays,此外Tensors也可用于GPU加速。"
   ]
  },
  {
   "cell_type": "code",
   "execution_count": 1,
   "metadata": {
    "collapsed": true
   },
   "outputs": [],
   "source": [
    "from __future__ import print_function\n",
    "import torch"
   ]
  },
  {
   "cell_type": "markdown",
   "metadata": {},
   "source": [
    "### 创建一个5*3的空矩阵"
   ]
  },
  {
   "cell_type": "code",
   "execution_count": 2,
   "metadata": {},
   "outputs": [
    {
     "name": "stdout",
     "output_type": "stream",
     "text": [
      "tensor([[-1.3829e+28,  4.5643e-41, -1.3829e+28],\n",
      "        [ 4.5643e-41,  0.0000e+00,  0.0000e+00],\n",
      "        [ 0.0000e+00,  0.0000e+00,  0.0000e+00],\n",
      "        [ 0.0000e+00,  0.0000e+00,  0.0000e+00],\n",
      "        [ 0.0000e+00,  0.0000e+00,  0.0000e+00]])\n"
     ]
    }
   ],
   "source": [
    "x = torch.empty(5,3)\n",
    "print(x)"
   ]
  },
  {
   "cell_type": "markdown",
   "metadata": {},
   "source": [
    "### 创建一个5*3的随机矩阵"
   ]
  },
  {
   "cell_type": "code",
   "execution_count": 3,
   "metadata": {},
   "outputs": [
    {
     "name": "stdout",
     "output_type": "stream",
     "text": [
      "tensor([[0.6734, 0.6641, 0.7423],\n",
      "        [0.7237, 0.3977, 0.1221],\n",
      "        [0.6801, 0.2178, 0.7548],\n",
      "        [0.7811, 0.0297, 0.0636],\n",
      "        [0.8439, 0.3778, 0.4921]])\n"
     ]
    }
   ],
   "source": [
    "x = torch.rand(5,3)\n",
    "print(x)"
   ]
  },
  {
   "cell_type": "markdown",
   "metadata": {},
   "source": [
    "### 创建一个5*3的零矩阵，类型为long"
   ]
  },
  {
   "cell_type": "code",
   "execution_count": 4,
   "metadata": {},
   "outputs": [
    {
     "name": "stdout",
     "output_type": "stream",
     "text": [
      "tensor([[0, 0, 0],\n",
      "        [0, 0, 0],\n",
      "        [0, 0, 0],\n",
      "        [0, 0, 0],\n",
      "        [0, 0, 0]])\n"
     ]
    }
   ],
   "source": [
    "x = torch.zeros(5,3,dtype=torch.long)\n",
    "print(x)"
   ]
  },
  {
   "cell_type": "markdown",
   "metadata": {},
   "source": [
    "### 直接从数据中创建Tensor"
   ]
  },
  {
   "cell_type": "code",
   "execution_count": 5,
   "metadata": {},
   "outputs": [
    {
     "name": "stdout",
     "output_type": "stream",
     "text": [
      "tensor([5.5000, 3.0000])\n"
     ]
    }
   ],
   "source": [
    "x = torch.tensor([5.5,3])\n",
    "print(x)"
   ]
  },
  {
   "cell_type": "markdown",
   "metadata": {},
   "source": [
    "### 基于原有的Tensor创建新的Tensor"
   ]
  },
  {
   "cell_type": "markdown",
   "metadata": {},
   "source": [
    "同时，我们可以重用原有tensor的属性,eg:dtype"
   ]
  },
  {
   "cell_type": "code",
   "execution_count": 6,
   "metadata": {},
   "outputs": [
    {
     "name": "stdout",
     "output_type": "stream",
     "text": [
      "tensor([[1., 1., 1.],\n",
      "        [1., 1., 1.],\n",
      "        [1., 1., 1.],\n",
      "        [1., 1., 1.],\n",
      "        [1., 1., 1.]], dtype=torch.float64)\n",
      "tensor([[ 0.7052, -1.1409,  0.2414],\n",
      "        [ 0.3400,  0.5385, -0.3468],\n",
      "        [-1.7687, -0.6268, -0.0680],\n",
      "        [-1.7249, -1.7264,  1.4626],\n",
      "        [-0.5589, -0.5679, -0.5002]])\n"
     ]
    }
   ],
   "source": [
    "# new_* methods take in sizes\n",
    "x = x.new_ones(5,3,dtype=torch.double)\n",
    "print(x)\n",
    "\n",
    "# override dtype,result has the same size\n",
    "x = torch.randn_like(x,dtype=torch.float)\n",
    "print(x)"
   ]
  },
  {
   "cell_type": "markdown",
   "metadata": {},
   "source": [
    "### 获取Tensor的shape"
   ]
  },
  {
   "cell_type": "code",
   "execution_count": 7,
   "metadata": {},
   "outputs": [
    {
     "name": "stdout",
     "output_type": "stream",
     "text": [
      "torch.Size([5, 3])\n"
     ]
    }
   ],
   "source": [
    "print(x.size())"
   ]
  },
  {
   "cell_type": "markdown",
   "metadata": {},
   "source": [
    "torch.Size实际上是一个元组tuple，所以它支持所有的元组操作。"
   ]
  },
  {
   "cell_type": "markdown",
   "metadata": {},
   "source": [
    "## Operations:运算"
   ]
  },
  {
   "cell_type": "markdown",
   "metadata": {},
   "source": [
    "有多种运算操作，下面介绍加法运算"
   ]
  },
  {
   "cell_type": "markdown",
   "metadata": {},
   "source": [
    "### 语法1"
   ]
  },
  {
   "cell_type": "code",
   "execution_count": 8,
   "metadata": {},
   "outputs": [
    {
     "name": "stdout",
     "output_type": "stream",
     "text": [
      "tensor([[ 0.8781, -1.0273,  0.5520],\n",
      "        [ 0.5045,  0.8991, -0.0733],\n",
      "        [-1.5357, -0.2772,  0.6541],\n",
      "        [-0.7498, -1.5069,  2.3605],\n",
      "        [ 0.0547,  0.2792,  0.4149]])\n"
     ]
    }
   ],
   "source": [
    "y = torch.rand(5,3)\n",
    "print(x + y)"
   ]
  },
  {
   "cell_type": "markdown",
   "metadata": {},
   "source": [
    "### 语法2"
   ]
  },
  {
   "cell_type": "code",
   "execution_count": 9,
   "metadata": {},
   "outputs": [
    {
     "name": "stdout",
     "output_type": "stream",
     "text": [
      "tensor([[ 0.8781, -1.0273,  0.5520],\n",
      "        [ 0.5045,  0.8991, -0.0733],\n",
      "        [-1.5357, -0.2772,  0.6541],\n",
      "        [-0.7498, -1.5069,  2.3605],\n",
      "        [ 0.0547,  0.2792,  0.4149]])\n"
     ]
    }
   ],
   "source": [
    "print(torch.add(x,y))"
   ]
  },
  {
   "cell_type": "markdown",
   "metadata": {},
   "source": [
    "### 将运算结果输出到另一个tensor中"
   ]
  },
  {
   "cell_type": "code",
   "execution_count": 10,
   "metadata": {},
   "outputs": [
    {
     "name": "stdout",
     "output_type": "stream",
     "text": [
      "tensor([[ 0.8781, -1.0273,  0.5520],\n",
      "        [ 0.5045,  0.8991, -0.0733],\n",
      "        [-1.5357, -0.2772,  0.6541],\n",
      "        [-0.7498, -1.5069,  2.3605],\n",
      "        [ 0.0547,  0.2792,  0.4149]])\n"
     ]
    }
   ],
   "source": [
    "result = torch.empty(5,3)\n",
    "torch.add(x,y,out=result)\n",
    "print(result)"
   ]
  },
  {
   "cell_type": "markdown",
   "metadata": {},
   "source": [
    "### 将运算结果输出到某一操作数中"
   ]
  },
  {
   "cell_type": "code",
   "execution_count": 11,
   "metadata": {},
   "outputs": [
    {
     "name": "stdout",
     "output_type": "stream",
     "text": [
      "tensor([[ 0.8781, -1.0273,  0.5520],\n",
      "        [ 0.5045,  0.8991, -0.0733],\n",
      "        [-1.5357, -0.2772,  0.6541],\n",
      "        [-0.7498, -1.5069,  2.3605],\n",
      "        [ 0.0547,  0.2792,  0.4149]])\n"
     ]
    }
   ],
   "source": [
    "# add x to y\n",
    "y.add_(x)\n",
    "print(y)"
   ]
  },
  {
   "cell_type": "markdown",
   "metadata": {},
   "source": [
    "注意：任何就地调整操作数张量的运算，将以_结尾。例如，x.copy_(),x.t_(),都会改变x 。"
   ]
  },
  {
   "cell_type": "markdown",
   "metadata": {},
   "source": [
    "### 使用类似于numpy中的索引取数"
   ]
  },
  {
   "cell_type": "code",
   "execution_count": 12,
   "metadata": {},
   "outputs": [
    {
     "name": "stdout",
     "output_type": "stream",
     "text": [
      "tensor([-1.1409,  0.5385, -0.6268, -1.7264, -0.5679])\n"
     ]
    }
   ],
   "source": [
    "print(x[:,1])"
   ]
  },
  {
   "cell_type": "markdown",
   "metadata": {},
   "source": [
    "### 改变Tensor的维度：torch.view"
   ]
  },
  {
   "cell_type": "code",
   "execution_count": 13,
   "metadata": {},
   "outputs": [
    {
     "name": "stdout",
     "output_type": "stream",
     "text": [
      "torch.Size([4, 4]) torch.Size([16]) torch.Size([2, 8])\n",
      "tensor([ 1.0410, -0.4295, -0.0290, -0.0412, -0.5820, -0.9355, -0.7741, -0.0697,\n",
      "        -2.6173,  0.0052,  0.5319,  0.5271,  0.2834,  1.3085, -1.5437,  1.6228])\n"
     ]
    }
   ],
   "source": [
    "x = torch.randn(4,4)\n",
    "y = x.view(16)\n",
    "z = x.view(-1,8) # the size -1 is inferred from other dimensions\n",
    "print(x.size(),y.size(),z.size())\n",
    "print(y)"
   ]
  },
  {
   "cell_type": "markdown",
   "metadata": {},
   "source": [
    "### 获取Tensor的元素"
   ]
  },
  {
   "cell_type": "markdown",
   "metadata": {},
   "source": [
    "如果tensor只有一个元素，可以使用 .item()来获取该元素值"
   ]
  },
  {
   "cell_type": "code",
   "execution_count": 14,
   "metadata": {},
   "outputs": [
    {
     "name": "stdout",
     "output_type": "stream",
     "text": [
      "tensor([0.3524])\n",
      "0.35244986414909363\n"
     ]
    }
   ],
   "source": [
    "x = torch.randn(1)\n",
    "print(x)\n",
    "print(x.item())"
   ]
  },
  {
   "cell_type": "markdown",
   "metadata": {},
   "source": [
    "PyTorch提供了超过100种的运算，包括转置，索引，切片，数学运算，线性代数，随机数等，具体查看https://pytorch.org/docs/stable/torch.html"
   ]
  },
  {
   "cell_type": "markdown",
   "metadata": {},
   "source": [
    "## Numpy Bridge: Tensor与Numpy的相互转换"
   ]
  },
  {
   "cell_type": "markdown",
   "metadata": {},
   "source": [
    "Torch Tensor和NumPy阵列将共享其底层内存位置，更改一个将改变另一个。"
   ]
  },
  {
   "cell_type": "markdown",
   "metadata": {},
   "source": [
    "### 将Torch Tensor转换成 Numpy Array"
   ]
  },
  {
   "cell_type": "code",
   "execution_count": 15,
   "metadata": {},
   "outputs": [
    {
     "name": "stdout",
     "output_type": "stream",
     "text": [
      "tensor([1., 1., 1., 1., 1.])\n"
     ]
    }
   ],
   "source": [
    "a = torch.ones(5)\n",
    "print(a)"
   ]
  },
  {
   "cell_type": "code",
   "execution_count": 16,
   "metadata": {},
   "outputs": [
    {
     "name": "stdout",
     "output_type": "stream",
     "text": [
      "[ 1.  1.  1.  1.  1.]\n"
     ]
    }
   ],
   "source": [
    "b = a.numpy()\n",
    "print(b)"
   ]
  },
  {
   "cell_type": "markdown",
   "metadata": {},
   "source": [
    "现在我们改变tensor或numpy array中任何一个值，查看两者的变化"
   ]
  },
  {
   "cell_type": "code",
   "execution_count": 17,
   "metadata": {},
   "outputs": [
    {
     "name": "stdout",
     "output_type": "stream",
     "text": [
      "tensor([2., 2., 2., 2., 2.])\n",
      "[ 2.  2.  2.  2.  2.]\n",
      "\n",
      "tensor([4., 4., 4., 4., 4.])\n",
      "[ 4.  4.  4.  4.  4.]\n"
     ]
    }
   ],
   "source": [
    "# change tensor\n",
    "a.add_(1)\n",
    "print(a)\n",
    "print(b)\n",
    "print()\n",
    "# change numpy array\n",
    "import numpy as np\n",
    "\n",
    "np.add(b,2,out=b)\n",
    "print(a)\n",
    "print(b)"
   ]
  },
  {
   "cell_type": "markdown",
   "metadata": {},
   "source": [
    "### 将Numpy array 转换为Torch Tensor"
   ]
  },
  {
   "cell_type": "markdown",
   "metadata": {},
   "source": [
    "了解更改numpy array 如何自动更改 Torch Tensor"
   ]
  },
  {
   "cell_type": "code",
   "execution_count": 18,
   "metadata": {},
   "outputs": [
    {
     "name": "stdout",
     "output_type": "stream",
     "text": [
      "[ 2.  2.  2.  2.  2.]\n",
      "tensor([2., 2., 2., 2., 2.], dtype=torch.float64)\n",
      "\n",
      "[ 4.  4.  4.  4.  4.]\n",
      "tensor([4., 4., 4., 4., 4.], dtype=torch.float64)\n"
     ]
    }
   ],
   "source": [
    "import numpy as np\n",
    "\n",
    "# change numpy array\n",
    "a = np.ones(5)\n",
    "b = torch.from_numpy(a)\n",
    "np.add(a,1,out=a)\n",
    "print(a)\n",
    "print(b)\n",
    "print()\n",
    "# change torch tensor\n",
    "b.add_(2)\n",
    "print(a)\n",
    "print(b)"
   ]
  },
  {
   "cell_type": "markdown",
   "metadata": {},
   "source": [
    "除了CharTensor之外，CPU上的所有Tensors都支持转换为NumPy并返回。"
   ]
  },
  {
   "cell_type": "markdown",
   "metadata": {},
   "source": [
    "## CUDA Tensors"
   ]
  },
  {
   "cell_type": "markdown",
   "metadata": {},
   "source": [
    "使用 .to 方法可以将Tensors移植到任何设备上。"
   ]
  },
  {
   "cell_type": "code",
   "execution_count": 19,
   "metadata": {
    "collapsed": true
   },
   "outputs": [],
   "source": [
    "# let us run this cell only if CUDA is available\n",
    "# We will use ``torch.device`` objects to move tensors in and out of GPU\n",
    "if torch.cuda.is_available():\n",
    "    device = torch.device(\"cuda\")          # a CUDA device object\n",
    "    y = torch.ones_like(x, device=device)  # directly create a tensor on GPU\n",
    "    x = x.to(device)                       # or just use strings ``.to(\"cuda\")``\n",
    "    z = x + y\n",
    "    print(z)\n",
    "    print(z.to(\"cpu\", torch.double))       # ``.to`` can also change dtype together!"
   ]
  },
  {
   "cell_type": "markdown",
   "metadata": {},
   "source": [
    "# Autograd: Automatic Defferentiation 自动微分"
   ]
  },
  {
   "cell_type": "markdown",
   "metadata": {},
   "source": [
    "PyTorch中所有神经网络的核心是autograd包。 让我们首先简要地访问它，然后我们将去训练我们的第一个神经网络。\n",
    "\n",
    "**autograd**软件包为Tensors上的所有操作提供自动区分。 它是一个逐行运行的框架，这意味着你的backpropagation是由你的代码运行方式定义的，并且每个迭代都可以是不同的。"
   ]
  },
  {
   "cell_type": "markdown",
   "metadata": {},
   "source": [
    "## Tensor:张量"
   ]
  },
  {
   "cell_type": "markdown",
   "metadata": {},
   "source": [
    "**torch.Tensor**是**PyTorch**包的核心类。 如果将其属性**.requires_grad**设置为**True**，它将开始跟踪其上的所有操作。 在你完成神经网络的计算后，您可以调用**.backward（）**并自动计算所有梯度。 此张量的梯度将累积到**.grad**属性中。\n",
    "\n",
    "要阻止张量跟踪其历史记录，可以调用**.detach（）**将其从计算历史记录中分离出来，并防止将来的计算被跟踪。\n",
    "\n",
    "要防止跟踪历史记录（和使用内存），您还可以使用 **with torch.no_grad（）:** 包装代码块： 在评估模型时这可能特别有用，因为模型可能具有requires_grad = True的可训练参数，如果我们不需要梯度的话。\n",
    "\n",
    "还有一个类对于**autograd**实现非常重要 - **Function**。\n",
    "\n",
    "**Tensor**和**Function**互相连接并构建一个非循环图，它编码完整的计算历史。 每个张量都有一个**.grad_fn**属性，该属性引用创建**Tensor**的**Function**,即是什么操作产生了该Tensor（除了用户创建的**Tensors**  - 他们的**grad_fn**为**None**）。\n",
    "\n",
    "如果要计算导数，可以在**Tensor**上调用**.backward（）**。 如果**Tensor**是标量（即它包含一个元素数据），则不需要为**backward（）**指定任何参数，但是如果它有更多元素，则需要指定一个梯度参数，该参数是匹配形状的张量。"
   ]
  },
  {
   "cell_type": "code",
   "execution_count": 20,
   "metadata": {
    "collapsed": true
   },
   "outputs": [],
   "source": [
    "import torch"
   ]
  },
  {
   "cell_type": "markdown",
   "metadata": {},
   "source": [
    "创建一个张量Tensor，并设置requires_grad=True来跟踪计算"
   ]
  },
  {
   "cell_type": "code",
   "execution_count": 21,
   "metadata": {},
   "outputs": [
    {
     "name": "stdout",
     "output_type": "stream",
     "text": [
      "tensor([[1., 1.],\n",
      "        [1., 1.]], requires_grad=True)\n"
     ]
    }
   ],
   "source": [
    "x = torch.ones(2,2,requires_grad=True)\n",
    "print(x)"
   ]
  },
  {
   "cell_type": "markdown",
   "metadata": {},
   "source": [
    "对张量进行操作"
   ]
  },
  {
   "cell_type": "code",
   "execution_count": 22,
   "metadata": {},
   "outputs": [
    {
     "name": "stdout",
     "output_type": "stream",
     "text": [
      "tensor([[3., 3.],\n",
      "        [3., 3.]], grad_fn=<AddBackward0>)\n"
     ]
    }
   ],
   "source": [
    "y = x + 2\n",
    "print(y)"
   ]
  },
  {
   "cell_type": "markdown",
   "metadata": {},
   "source": [
    "y是操作的结果，因此它有一个grad_fn属性"
   ]
  },
  {
   "cell_type": "code",
   "execution_count": 23,
   "metadata": {},
   "outputs": [
    {
     "name": "stdout",
     "output_type": "stream",
     "text": [
      "<AddBackward0 object at 0x7f3c87e72f28>\n"
     ]
    }
   ],
   "source": [
    "print(y.grad_fn)"
   ]
  },
  {
   "cell_type": "markdown",
   "metadata": {},
   "source": [
    "在y上进行更多操作"
   ]
  },
  {
   "cell_type": "code",
   "execution_count": 24,
   "metadata": {},
   "outputs": [
    {
     "name": "stdout",
     "output_type": "stream",
     "text": [
      "tensor([[27., 27.],\n",
      "        [27., 27.]], grad_fn=<MulBackward0>) tensor(27., grad_fn=<MeanBackward1>)\n"
     ]
    }
   ],
   "source": [
    "z = y * y * 3\n",
    "out = z.mean()\n",
    "print(z,out)"
   ]
  },
  {
   "cell_type": "markdown",
   "metadata": {},
   "source": [
    "**.requires_grad_（...）**就地更改现有的Tensor的**requires_grad**标志。 如果没有给出，输入标志默认为False。"
   ]
  },
  {
   "cell_type": "code",
   "execution_count": 25,
   "metadata": {},
   "outputs": [
    {
     "name": "stdout",
     "output_type": "stream",
     "text": [
      "False\n",
      "True\n",
      "<SumBackward0 object at 0x7f3ce8b2ab70>\n"
     ]
    }
   ],
   "source": [
    "a = torch.randn(2,2)\n",
    "a = ((a * 3) / (a - 1))\n",
    "print(a.requires_grad)\n",
    "a.requires_grad_(True)\n",
    "print(a.requires_grad)\n",
    "b = (a * a).sum()\n",
    "print(b.grad_fn)"
   ]
  },
  {
   "cell_type": "markdown",
   "metadata": {},
   "source": [
    "## Gradients:梯度"
   ]
  },
  {
   "cell_type": "markdown",
   "metadata": {},
   "source": [
    "现在开始反向传播。由于**out**包含了单个标量(scalar),**out.backward()**等价于**out.backward(torch.tensor(1.))**。"
   ]
  },
  {
   "cell_type": "code",
   "execution_count": 26,
   "metadata": {
    "collapsed": true
   },
   "outputs": [],
   "source": [
    "out.backward()"
   ]
  },
  {
   "cell_type": "markdown",
   "metadata": {},
   "source": [
    "输出梯度 $\\frac {d(out)}{dx}$"
   ]
  },
  {
   "cell_type": "code",
   "execution_count": 27,
   "metadata": {
    "scrolled": true
   },
   "outputs": [
    {
     "name": "stdout",
     "output_type": "stream",
     "text": [
      "tensor([[4.5000, 4.5000],\n",
      "        [4.5000, 4.5000]])\n"
     ]
    }
   ],
   "source": [
    "print(x.grad)"
   ]
  },
  {
   "cell_type": "markdown",
   "metadata": {},
   "source": [
    "这里我们用**Tensor \"o\"**代表**out**，于是我们有$o = \\frac{1}{4}\\sum_{i}z_{i},z_{i}= 3(x_{i}+2)^{2}$,$z_{i}|_{x_{i}=1}=27$。因此$\\frac{\\partial o}{\\partial x_{i}}=\\frac {3}{2}(x_{i}+2)$，$\\frac{\\partial o}{\\partial x_{i}}|_{x_{i}=1}=\\frac{9}{2}=4.5$ 。\n",
    "\n",
    "在数学中，如果你有一个向量值函数$\\overrightarrow{y}=f(\\overrightarrow{x})$，那么$\\overrightarrow{y}$相对于$\\overrightarrow{x}$的梯度是一个雅可比矩阵:\n",
    "\n",
    "<center> $$ J=\\begin{pmatrix}\n",
    "\\frac{\\partial y_{1}}{\\partial x_{1}} & \\cdots & \\frac{\\partial y_{m}}{\\partial x_{1}} \\\\\n",
    "\\vdots & \\ddots & \\vdots \\\\\n",
    "\\frac{\\partial y_{1}}{\\partial x_{n}} & \\cdots & \\frac{\\partial y_{m}}{\\partial x_{n}}\n",
    "\\end{pmatrix} $$ </center>\n",
    "\n",
    "一般来说，**torch.autograd**是一个计算雅可比矢量积的引擎。也就是说，给定任何一个向量$v = (v_{1},v_{2},\\cdots,v_{m})^{T}$，计算**J.v**。\n",
    "\n",
    "如果**v**是标量函数$l=g(\\overrightarrow{x})$的梯度，即$v = (\\frac{\\partial l}{\\partial v_{1}},\\frac{\\partial l}{\\partial v_{2}},\\cdots,\\frac{\\partial l}{\\partial v_{m}})^{T}$，通过链式法则，雅可比矢量积将会是$l$相对于$\\overrightarrow{x}$的梯度:\n",
    "\n",
    "<center> $$\n",
    "J=\\begin{pmatrix}\n",
    "\\frac{\\partial y_{1}}{\\partial x_{1}} & \\cdots & \\frac{\\partial y_{m}}{\\partial x_{1}} \\\\\n",
    "\\vdots & \\ddots  & \\vdots \\\\\n",
    "\\frac{\\partial y_{1}}{\\partial x_{n}} & \\cdots & \\frac{\\partial y_{m}}{\\partial x_{n}}\n",
    "\\end{pmatrix}\n",
    "\\begin{pmatrix} \n",
    "\\frac{\\partial l}{\\partial y_{1}}\\\\\n",
    "\\vdots \\\\\n",
    "\\frac {\\partial l}{\\partial y_{m}}\n",
    "\\end{pmatrix}\n",
    "=\\begin{pmatrix} \n",
    "\\frac {\\partial l}{\\partial x_{1}} \\\\\n",
    "\\vdots \\\\\n",
    "\\frac {\\partial l}{\\partial x_{n}}\n",
    "\\end{pmatrix} $$\n",
    "</center>\n",
    "\n",
    "雅可比矢量积的这种特性使得将外部梯度馈送到具有非标量输出的模型中非常方便。下面看一个雅可比矢量积的例子:"
   ]
  },
  {
   "cell_type": "code",
   "execution_count": 28,
   "metadata": {},
   "outputs": [
    {
     "name": "stdout",
     "output_type": "stream",
     "text": [
      "tensor(1620.9357)\n",
      "tensor([-453.9261, -544.9436, 1457.5389], grad_fn=<MulBackward0>)\n"
     ]
    }
   ],
   "source": [
    "x = torch.randn(3,requires_grad=True)\n",
    "y = x * 2\n",
    "while y.data.norm() < 1000:\n",
    "    y = y * 2\n",
    "print(y.data.norm())\n",
    "print(y)"
   ]
  },
  {
   "cell_type": "markdown",
   "metadata": {},
   "source": [
    "在上面的例子中，y不是一个标量。**torch.autograd**不能直接计算整体的雅可比矩阵，但如果我们想计算雅可比向量积，仅需要给**backward()**传递个向量作为参数即可。"
   ]
  },
  {
   "cell_type": "code",
   "execution_count": 29,
   "metadata": {},
   "outputs": [
    {
     "name": "stdout",
     "output_type": "stream",
     "text": [
      "tensor([1.0240e+02, 1.0240e+03, 1.0240e-01])\n"
     ]
    }
   ],
   "source": [
    "v = torch.tensor([0.1,1.0,0.0001],dtype=torch.float)\n",
    "y.backward(v)\n",
    "print(x.grad)"
   ]
  },
  {
   "cell_type": "markdown",
   "metadata": {},
   "source": [
    "你还可以通过使用**with torch.no_grad（）:**包装代码块来停止使用**.requires_grad = True**跟踪历史记录上的autograd。"
   ]
  },
  {
   "cell_type": "code",
   "execution_count": 30,
   "metadata": {},
   "outputs": [
    {
     "name": "stdout",
     "output_type": "stream",
     "text": [
      "True\n",
      "True\n",
      "False\n"
     ]
    }
   ],
   "source": [
    "print(x.requires_grad)\n",
    "print((x ** 2).requires_grad)\n",
    "with torch.no_grad():\n",
    "    print((x ** 2).requires_grad)"
   ]
  },
  {
   "cell_type": "markdown",
   "metadata": {
    "collapsed": true
   },
   "source": [
    "查阅autograd和Function，请到https://pytorch.org/docs/autograd"
   ]
  },
  {
   "cell_type": "markdown",
   "metadata": {},
   "source": [
    "# Neural Networks"
   ]
  },
  {
   "cell_type": "markdown",
   "metadata": {},
   "source": [
    "神经网络通过**torch.nn**包来构建。**torch.nn**依赖于**autograd**来定义模型和区分模型。\n",
    "\n",
    "**torch.nn.Module**包含layers，以及一个返回**output**的**forward(input)**方法。\n",
    "\n",
    "例如，下面这个卷积神经网络用来分类数字图片:\n",
    "\n",
    "![minist](./image/mnist.png)\n",
    "\n",
    "这是一个简单的前馈神经网络，输入input，将其喂给神经网络，一层接一层的传递，最后输出output。\n",
    "\n",
    "**神经网络典型的训练流程如下：**\n",
    "1. 定义有可学习参数的网络；\n",
    "2. 在输入数据集上迭代；\n",
    "3. 通过网络处理input；\n",
    "4. 计算损失(output相比原值相差有多少)；\n",
    "5. 反向传播梯度到网络参数上；\n",
    "6. 更新网络的weights，通常使用 **weight = weight - learning_rate * gradient ** ;"
   ]
  },
  {
   "cell_type": "markdown",
   "metadata": {
    "collapsed": true
   },
   "source": [
    "## 定义网络"
   ]
  },
  {
   "cell_type": "code",
   "execution_count": 31,
   "metadata": {},
   "outputs": [
    {
     "name": "stdout",
     "output_type": "stream",
     "text": [
      "Net(\n",
      "  (conv1): Conv2d(1, 6, kernel_size=(5, 5), stride=(1, 1))\n",
      "  (conv2): Conv2d(6, 16, kernel_size=(5, 5), stride=(1, 1))\n",
      "  (fc1): Linear(in_features=400, out_features=120, bias=True)\n",
      "  (fc2): Linear(in_features=120, out_features=84, bias=True)\n",
      "  (fc3): Linear(in_features=84, out_features=10, bias=True)\n",
      ")\n"
     ]
    }
   ],
   "source": [
    "import torch\n",
    "import torch.nn as nn\n",
    "import torch.nn.functional as F\n",
    "\n",
    "class Net(nn.Module):\n",
    "    \n",
    "    def __init__(self):\n",
    "        super(Net,self).__init__()\n",
    "        # 1 input image channel,6 output channels,5x5 square convolution\n",
    "        # kernel\n",
    "        self.conv1 = nn.Conv2d(\n",
    "          in_channels=1,\n",
    "          out_channels=6,\n",
    "          kernel_size=5,\n",
    "          stride=1,\n",
    "          padding=0\n",
    "        ) # 此时输出图片有6张特征图，摞在一起便有6个通道，长宽未知\n",
    "        \n",
    "        self.conv2 = nn.Conv2d(6,16,5) # 此时输出图片有16张特征图，摞在一起便有16个通道，长宽都是未知\n",
    "        # 仿射变换:y = wx + b ,全连接层\n",
    "        # 之所以是16*5*5，是因为我们会设置初始输入图片大小为32*32，经过两次卷积和池化后图片变为16*5*5大小了\n",
    "        self.fc1 = nn.Linear(16*5*5,120) \n",
    "        self.fc2 = nn.Linear(120,84)\n",
    "        self.fc3 = nn.Linear(84,10) # 类别是10个\n",
    "    \n",
    "    def forward(self,x):\n",
    "        # 如果输入图片是RGB三通道，则每个卷积核也是三个通道的\n",
    "        #卷积层也是经过了一个y=wx+b计算，每个卷积核的参数相当于w,输入图片相当于x ，卷积后得到一张特征图\n",
    "        #有多少个卷积核，就会得到多少张特征图，有多少张特征图就有多少个通道，同时也构成了下一步池化的输入\n",
    "        x = self.conv1(x)\n",
    "        print('Conv1 output size: ',x.size())\n",
    "        #经过激活函数处理\n",
    "        x = F.relu(x)\n",
    "        # 池化处理，Max pooling over a (2,2) window\n",
    "        x = F.max_pool2d(x,(2,2))\n",
    "        print('Max pool1 output size: ',x.size())\n",
    "        \n",
    "        # 下面再次进行卷积和池化，如果池化的大小为正方形，则指定一个数即可\n",
    "        #x = F.max_pool2d(F.relu(self.conv2(x)),2)\n",
    "        x = self.conv2(x)\n",
    "        print('Conv2 output size: ',x.size())\n",
    "        x = F.relu(x)\n",
    "        x = F.max_pool2d(x,2)\n",
    "        print('Max pool2 output size: ',x.size())\n",
    "        #调整图片输出的形状，将特征图展平成一维\n",
    "        x = x.view(-1,self.num_flat_features(x)) # -1表示第一个维度由程序自行推断，一般是batch_size\n",
    "        # 全连接层处理\n",
    "        x = F.relu(self.fc1(x))\n",
    "        x = F.relu(self.fc2(x))\n",
    "        output = F.relu(self.fc3(x))\n",
    "        return output\n",
    "    \n",
    "    def num_flat_features(self,x):\n",
    "        size = x.size()[1:] # all dimensions except the batch dimension\n",
    "        num_features = 1\n",
    "        for s in size:\n",
    "            num_features *= s # 16*5*5\n",
    "        return num_features\n",
    "\n",
    "net = Net() # 创建网络\n",
    "print(net) # 输出网络结构"
   ]
  },
  {
   "cell_type": "markdown",
   "metadata": {},
   "source": [
    "你只需重写**forward()**函数，反向传播**backward**函数(它是计算梯度的)会自动定义，而你只需要使用**autograd**包即可。你可以在**forward**函数里使用任何**Tensor**操作。"
   ]
  },
  {
   "cell_type": "markdown",
   "metadata": {},
   "source": [
    "### 获取可学习的参数:net.parameters()"
   ]
  },
  {
   "cell_type": "code",
   "execution_count": 32,
   "metadata": {},
   "outputs": [
    {
     "name": "stdout",
     "output_type": "stream",
     "text": [
      "10\n",
      "torch.Size([6, 1, 5, 5])\n"
     ]
    }
   ],
   "source": [
    "params = list(net.parameters())\n",
    "print(len(params))\n",
    "print(params[0].size()) # conv1's weight"
   ]
  },
  {
   "cell_type": "markdown",
   "metadata": {},
   "source": [
    "### 输入图片,计算各层图片的大小"
   ]
  },
  {
   "cell_type": "markdown",
   "metadata": {},
   "source": [
    "现在我们输入一张32x32大小的图片\n",
    "\n",
    "注意:LeNet输入图片大小为32x32，如果要在mnist数据集上使用,需要将图片从28x28重置为32x32。"
   ]
  },
  {
   "cell_type": "code",
   "execution_count": 33,
   "metadata": {},
   "outputs": [
    {
     "name": "stdout",
     "output_type": "stream",
     "text": [
      "Conv1 output size:  torch.Size([1, 6, 28, 28])\n",
      "Max pool1 output size:  torch.Size([1, 6, 14, 14])\n",
      "Conv2 output size:  torch.Size([1, 16, 10, 10])\n",
      "Max pool2 output size:  torch.Size([1, 16, 5, 5])\n",
      "tensor([[0.1014, 0.0305, 0.0192, 0.1725, 0.0000, 0.0000, 0.0144, 0.0000, 0.1162,\n",
      "         0.0000]], grad_fn=<ReluBackward0>)\n"
     ]
    }
   ],
   "source": [
    "x_input = torch.randn(1,1,32,32) # batch size = 1,1个通道（height），length 32,width 32\n",
    "out = net(x_input)\n",
    "print(out)"
   ]
  },
  {
   "cell_type": "markdown",
   "metadata": {},
   "source": [
    "#### 输入图片大小"
   ]
  },
  {
   "cell_type": "code",
   "execution_count": 34,
   "metadata": {},
   "outputs": [
    {
     "name": "stdout",
     "output_type": "stream",
     "text": [
      "torch.Size([1, 1, 32, 32])\n"
     ]
    }
   ],
   "source": [
    "print(x_input.size())"
   ]
  },
  {
   "cell_type": "markdown",
   "metadata": {},
   "source": [
    "1. 第一个1，指代的是batch_size，因为只有一张图片；\n",
    "2. 第二个1，指代的是图片的height，或者说是通道channel,如果图片是RGB的则有3个通道(R,G,B);\n",
    "3. 第三个32和第四个32，指代图片的length和width都是32(像素);"
   ]
  },
  {
   "cell_type": "markdown",
   "metadata": {},
   "source": [
    "#### 第一层卷积后图片的大小"
   ]
  },
  {
   "cell_type": "markdown",
   "metadata": {},
   "source": [
    "Conv1 output size:  torch.Size([1, 6, 28, 28])"
   ]
  },
  {
   "cell_type": "markdown",
   "metadata": {},
   "source": [
    "1. 第一个1，指代的是只有1张图片；\n",
    "2. 第二个6，指代的是输出图片有6张特征图，这是由于卷积核有6个，摞在一起便有6个通道；卷积核也可能是多维的，这里由于原始图片是1个通道，因此卷积核也是1个通道，如果原始图片是RGB三个通道，则卷积核就有三个通道；\n",
    "3. 第三个和第四个28，指代的是特征图片的length和width，计算方式如下:\n",
    "$$ length(width)=\\left \\lfloor \\frac{input_{size}+2padding_{size}-filter_{size}}{stride_{size}}+1 \\right \\rfloor $$\n",
    "\n",
    "$input_{size}$ : 输入图片相应维度的大小；\n",
    "\n",
    "$padding_{size}$ : padding的大小,即在图片左右上下填充像素的大小，像素值一般初始化为0;如果要保持图片在卷积后大小不变，则padding的大小为$\\frac{filter_{size}-1}{2}$ ;\n",
    "\n",
    "$filter_{size}$ : 卷积核的大小;\n",
    "\n",
    "$stride_{size}$ : 卷积核移动的步长;\n",
    "\n",
    "通过以上公式可计算出图片length和width为$\\frac{32+2*0-5}{1}+1=28$"
   ]
  },
  {
   "cell_type": "markdown",
   "metadata": {},
   "source": [
    "#### 第二层池化层后图片大小:采样"
   ]
  },
  {
   "cell_type": "markdown",
   "metadata": {},
   "source": [
    "Max pool1 output size:  torch.Size([1, 6, 14, 14])"
   ]
  },
  {
   "cell_type": "markdown",
   "metadata": {},
   "source": [
    "1. 第一个1，指代一张图片(即特征图)；\n",
    "2. 第二个6，指代特征图有6个通道；\n",
    "3. 第三个和第四个14，指代池化后图片的length和width，由于层池化层的滤波器大小为2x2，即每2x2区域的值中取最大;由于我们没有设置滤波器的移动步长stride，默认为滤波器的大小,因此经过滤波器处理后图片length和width为$\\frac {28x28}{2x2} = 14x14 $"
   ]
  },
  {
   "cell_type": "markdown",
   "metadata": {},
   "source": [
    "#### 第三层卷积层后图片大小"
   ]
  },
  {
   "cell_type": "markdown",
   "metadata": {},
   "source": [
    "Conv2 output size:  torch.Size([1, 16, 10, 10])"
   ]
  },
  {
   "cell_type": "markdown",
   "metadata": {},
   "source": [
    "1. 第一个1，指代是一张图片；\n",
    "2. 第二个16，指代的是有16个卷积核，会生成16张特征图，摞在一起便是16个通道的图片了；由于输入图片是6个通道，因此每个卷积核都是6个通道；\n",
    "3. 第三个和第四个10，指代的是卷积后图片的length和width，计算方式:$\\frac{14+2*0-5}{1}+1=10$"
   ]
  },
  {
   "cell_type": "markdown",
   "metadata": {},
   "source": [
    "#### 第四层池化后图片大小"
   ]
  },
  {
   "cell_type": "markdown",
   "metadata": {},
   "source": [
    "Max pool2 output size:  torch.Size([1, 16, 5, 5])"
   ]
  },
  {
   "cell_type": "markdown",
   "metadata": {},
   "source": [
    "1. 第一个1，指代一张图片；\n",
    "2. 第二个16，指代特征图有16个通道；\n",
    "3. 第三个和第四个5，指代经过池化层的滤波器后，图片length和width，计算方式为:$\\frac {10x10}{2x2} = 5x5 $"
   ]
  },
  {
   "cell_type": "markdown",
   "metadata": {},
   "source": [
    "### 将所有参与反向传播的参数的梯度缓冲区归零和使用随机梯度来优化参数"
   ]
  },
  {
   "cell_type": "code",
   "execution_count": 35,
   "metadata": {
    "collapsed": true
   },
   "outputs": [],
   "source": [
    "net.zero_grad()\n",
    "out.backward(torch.randn(1,10)) # 因为只有一张图片，所以梯度更新便使用随机梯度了"
   ]
  },
  {
   "cell_type": "markdown",
   "metadata": {},
   "source": [
    "**注意：**\n",
    "torch.nn只支持mini_batche(nSamples,nChannels,Height,Width)。如果你只有一个sample，则使用**input.unsqueeze(0)**来增加一个假的维度。"
   ]
  },
  {
   "cell_type": "markdown",
   "metadata": {},
   "source": [
    "**总结:**\n",
    "1. **torch.Tensor**:一个多维数组，它支持**autograd**操作,比如**backward()，并且拥有相应的梯度;\n",
    "2. **nn.Module**:神经网络模块；\n",
    "3. **nn.Parameter**:一种Tensor,当给Module分配一个属性时，它会自动注册为参数;\n",
    "4. **autograd.Function**:实现autograd自动微分的前向和反向操作。每个Tensor操作都至少创建一个Function节点，它连接创建Tensor的functions，同时对其历史编码;"
   ]
  },
  {
   "cell_type": "markdown",
   "metadata": {},
   "source": [
    "## Loss Function"
   ]
  },
  {
   "cell_type": "markdown",
   "metadata": {},
   "source": [
    "损失函数使用(output,target)作为输入input，并且计算两者之间差异程度，例如计算均方差，交叉熵损失。\n",
    "在**torch.nn**模块中有许多损失函数。比如，**torch.nn.MSELoss**,它计算output和target的平均方差值。"
   ]
  },
  {
   "cell_type": "code",
   "execution_count": 36,
   "metadata": {},
   "outputs": [
    {
     "name": "stdout",
     "output_type": "stream",
     "text": [
      "Conv1 output size:  torch.Size([1, 6, 28, 28])\n",
      "Max pool1 output size:  torch.Size([1, 6, 14, 14])\n",
      "Conv2 output size:  torch.Size([1, 16, 10, 10])\n",
      "Max pool2 output size:  torch.Size([1, 16, 5, 5])\n",
      "\n",
      "loss:\n",
      " tensor(0.3069, grad_fn=<MseLossBackward>)\n"
     ]
    }
   ],
   "source": [
    "output = net(x_input)\n",
    "target = torch.randn(10) # a dummy target ,for example\n",
    "target = target.view(-1,1) # make it the same shape as output\n",
    "loss_func = nn.MSELoss()\n",
    "\n",
    "loss = loss_func(output,target)\n",
    "print()\n",
    "print('loss:\\n',loss)"
   ]
  },
  {
   "cell_type": "markdown",
   "metadata": {},
   "source": [
    "### 查看计算图"
   ]
  },
  {
   "cell_type": "markdown",
   "metadata": {},
   "source": [
    "如果你沿着loss反向传播方向走，依次使用每个操作节点的的**.grad_fn**属性，你会得到如下的计算图:\n",
    "\n",
    "input -> conv2d -> relu -> maxpool2d -> conv2d -> relu -> maxpool2d\n",
    "      -> view -> linear -> relu -> linear -> relu -> linear\n",
    "      -> MSELoss\n",
    "      -> loss\n",
    "\n",
    "因此，当我们调用**loss.backward（）**时，考虑到loss,整个计算图会被分为两部分:所有具有**requires_grad = True**的张量为一部分图，图中的张量将使用从loss起始的梯度，沿着链式法则累积得到各自的梯度张量**.grad**Tensor。"
   ]
  },
  {
   "cell_type": "code",
   "execution_count": 37,
   "metadata": {},
   "outputs": [
    {
     "name": "stdout",
     "output_type": "stream",
     "text": [
      "<MseLossBackward object at 0x7f3c87ea28d0>\n",
      "查看 loss.grad_fn 的属性\n",
      "['__call__', '__class__', '__delattr__', '__dir__', '__doc__', '__eq__', '__format__', '__ge__', '__getattribute__', '__gt__', '__hash__', '__init__', '__init_subclass__', '__le__', '__lt__', '__ne__', '__new__', '__reduce__', '__reduce_ex__', '__repr__', '__setattr__', '__sizeof__', '__str__', '__subclasshook__', '_register_hook_dict', 'metadata', 'name', 'next_functions', 'register_hook', 'requires_grad']\n",
      "\n",
      "<class 'tuple'>\n",
      "(<ExpandBackward object at 0x7f3c87ea28d0>, 0)\n",
      "<ExpandBackward object at 0x7f3c87ea2908>\n",
      "<ReluBackward0 object at 0x7f3c87ea28d0>\n"
     ]
    }
   ],
   "source": [
    "print(loss.grad_fn) # MSELoss\n",
    "print('查看 loss.grad_fn 的属性')\n",
    "print(dir(loss.grad_fn))\n",
    "print()\n",
    "print(type(loss.grad_fn.next_functions))\n",
    "print(loss.grad_fn.next_functions[0])\n",
    "print(loss.grad_fn.next_functions[0][0]) # Linear\n",
    "print(loss.grad_fn.next_functions[0][0].next_functions[0][0])  # ReLU"
   ]
  },
  {
   "cell_type": "markdown",
   "metadata": {},
   "source": [
    "## Backprop:反向传播计算梯度"
   ]
  },
  {
   "cell_type": "markdown",
   "metadata": {},
   "source": [
    "反向传播误差只需要调用**loss.backward()**即可。你需要清空梯度缓存区中已经存在的梯度，否则这些梯度会累积到需要更新的参数的梯度上。\n",
    "\n",
    "现在我们调用**loss.backward()**，并且查看conv1层的bias的梯度在反向传播前后的差异。"
   ]
  },
  {
   "cell_type": "code",
   "execution_count": 38,
   "metadata": {
    "scrolled": true
   },
   "outputs": [
    {
     "name": "stdout",
     "output_type": "stream",
     "text": [
      "['__call__', '__class__', '__delattr__', '__dict__', '__dir__', '__doc__', '__eq__', '__format__', '__ge__', '__getattr__', '__getattribute__', '__gt__', '__hash__', '__init__', '__init_subclass__', '__le__', '__lt__', '__module__', '__ne__', '__new__', '__reduce__', '__reduce_ex__', '__repr__', '__setattr__', '__setstate__', '__sizeof__', '__str__', '__subclasshook__', '__weakref__', '_apply', '_backend', '_backward_hooks', '_buffers', '_forward_hooks', '_forward_pre_hooks', '_get_name', '_load_from_state_dict', '_load_state_dict_pre_hooks', '_modules', '_named_members', '_parameters', '_register_load_state_dict_pre_hook', '_register_state_dict_hook', '_slow_forward', '_state_dict_hooks', '_tracing_name', '_version', 'add_module', 'apply', 'buffers', 'children', 'conv1', 'conv2', 'cpu', 'cuda', 'double', 'dump_patches', 'eval', 'extra_repr', 'fc1', 'fc2', 'fc3', 'float', 'forward', 'half', 'load_state_dict', 'modules', 'named_buffers', 'named_children', 'named_modules', 'named_parameters', 'num_flat_features', 'parameters', 'register_backward_hook', 'register_buffer', 'register_forward_hook', 'register_forward_pre_hook', 'register_parameter', 'share_memory', 'state_dict', 'to', 'train', 'training', 'type', 'zero_grad']\n",
      "\n",
      "conv1.bias.grad before backward\n",
      "tensor([0., 0., 0., 0., 0., 0.])\n",
      "conv1.bias.grad after backward\n",
      "tensor([ 0.0032,  0.0035,  0.0013, -0.0011,  0.0044,  0.0009])\n"
     ]
    }
   ],
   "source": [
    "net.zero_grad() # zeroes the gradient buffers of all parameters\n",
    "\n",
    "print(dir(net))\n",
    "print()\n",
    "print('conv1.bias.grad before backward')\n",
    "print(net.conv1.bias.grad)\n",
    "\n",
    "loss.backward()\n",
    "\n",
    "print('conv1.bias.grad after backward')\n",
    "print(net.conv1.bias.grad)"
   ]
  },
  {
   "cell_type": "markdown",
   "metadata": {},
   "source": [
    "## Update the weights:用梯度更新参数"
   ]
  },
  {
   "cell_type": "markdown",
   "metadata": {},
   "source": [
    "实践中最简单的更新规则是随机梯度下降SGD:\n",
    "$$weight = weight - learningRate * gradient $$\n",
    "\n",
    "使用如下代码便可以更新:\n",
    "\n",
    "```Python\n",
    "learning_rate = 0.01\n",
    "for f in net.parameters():\n",
    "   f.data.sub_(f.grad.data*learning_rate)\n",
    "```\n",
    "       \n",
    "在PyTorch中，使用**torch.optim**模块来实现上面的参数更新。"
   ]
  },
  {
   "cell_type": "markdown",
   "metadata": {},
   "source": [
    "```python\n",
    "import torch.optim as optim\n",
    "\n",
    "# create your optimizer\n",
    "optimizer = optim.SGD(net.parameters(),lr=0.01) #优化器\n",
    "\n",
    "# in your training loop:\n",
    "optimizer.zero_grad() # zero the gradient buffers\n",
    "output = net(x_input) # 输出值\n",
    "loss = loss_func(output,target) # 计算误差\n",
    "loss.backward() # 反向传播计算梯度\n",
    "optimizer.step() # 更新参数\n",
    "```"
   ]
  },
  {
   "cell_type": "markdown",
   "metadata": {},
   "source": [
    "# Training a classifier"
   ]
  },
  {
   "cell_type": "markdown",
   "metadata": {},
   "source": [
    "现在，你已经知道如何定义网络，计算损失和更新网络权重了。"
   ]
  },
  {
   "cell_type": "markdown",
   "metadata": {},
   "source": [
    "## What about data?"
   ]
  },
  {
   "cell_type": "markdown",
   "metadata": {},
   "source": [
    "如果你处理过图片，文本，音频或视频数据，你可以使用标准的Python包将数据加载到numpy数组中，然后将此数组转换为**torch.\\*Tensor**。\n",
    "    对于图片，可以使用Pillow,OpenCV  \n",
    "    对于音频，可以用scipy,librosa\n",
    "    对于文本，可以用Python自带的包，NLTK和SpaCy\n",
    "\n",
    "对于视觉识别而言，PyTorch自带有**torchvision**包，并且对于常见的数据集Imagenet,CIFAR10,MNIST有数据加载器，对图片有数据转换器，即**torchvision.datasets**和**torch.utils.data.DataLoader**。\n",
    "\n",
    "本节我们将使用CIFAR10数据集，它有'ariplane','automobile','bird','cat','deer','dog','frog','horse','ship','truck'这些类。图片大小为$3x32x32$，也就是3通道，length和width为32像素大小。\n",
    "\n",
    "![CIFAR10](./image/cifar10.png)"
   ]
  },
  {
   "cell_type": "markdown",
   "metadata": {},
   "source": [
    "## Training an image classifier:训练一个图像分类器"
   ]
  },
  {
   "cell_type": "markdown",
   "metadata": {},
   "source": [
    "我们将以如下流程训练图片分类器:\n",
    "1. 用**torchvision**加载和标准化CIFAR10训练集和测试集\n",
    "2. 定义一个卷积神经网络\n",
    "3. 定义损失函数\n",
    "4. 在训练集上训练网络\n",
    "5. 在测试集上测试网络"
   ]
  },
  {
   "cell_type": "markdown",
   "metadata": {},
   "source": [
    "### 用**torchvision**加载和标准化CIFAR10训练集和测试集"
   ]
  },
  {
   "cell_type": "code",
   "execution_count": 39,
   "metadata": {
    "collapsed": true
   },
   "outputs": [],
   "source": [
    "import torch\n",
    "import torchvision\n",
    "import torchvision.transforms as transforms"
   ]
  },
  {
   "cell_type": "markdown",
   "metadata": {},
   "source": [
    "**torchvision**数据集的输出是[0,1]的PILImage图片，我们将它们转换为归一化范围[-1,1]的Tensors。"
   ]
  },
  {
   "cell_type": "code",
   "execution_count": 40,
   "metadata": {
    "collapsed": true
   },
   "outputs": [],
   "source": [
    "# 数据转换器\n",
    "transform = transforms.Compose(\n",
    "  [transforms.ToTensor(),transforms.Normalize((0.5,0.5,0.5),(0.5,0.5,0.5))]\n",
    ")\n",
    "# 训练集\n",
    "trainset = torchvision.datasets.CIFAR10(root='./data',train=True,download=False,transform=transform)\n",
    "trainloader = torch.utils.data.DataLoader(trainset,batch_size=4,shuffle=True,num_workers=2)\n",
    "# 测试集\n",
    "testset = torchvision.datasets.CIFAR10(root='./data',train=False,download=False,transform=transform)\n",
    "testloader = torch.utils.data.DataLoader(testset,batch_size=4,shuffle=False,num_workers=2)\n",
    "\n",
    "classes = ('plane','car','bird','cat','deer','dog','frog','horse','ship','truck') # 类别"
   ]
  },
  {
   "cell_type": "markdown",
   "metadata": {},
   "source": [
    "我们来查看以下训练集中的图片"
   ]
  },
  {
   "cell_type": "code",
   "execution_count": 41,
   "metadata": {},
   "outputs": [
    {
     "name": "stdout",
     "output_type": "stream",
     "text": [
      "torch.Size([4, 3, 32, 32])\n",
      "torch.Size([3, 36, 138])\n",
      "img shape of imshow() (36, 138, 3)\n"
     ]
    },
    {
     "data": {
      "image/png": "[encoded data removed]",
      "text/plain": [
       "<matplotlib.figure.Figure at 0x7f3c8461f400>"
      ]
     },
     "metadata": {},
     "output_type": "display_data"
    },
    {
     "name": "stdout",
     "output_type": "stream",
     "text": [
      "      ship      plane       frog       bird\n"
     ]
    }
   ],
   "source": [
    "import matplotlib.pyplot as plt\n",
    "import numpy as np\n",
    "\n",
    "def imshow(img):\n",
    "    img = img/2 + 0.5 \n",
    "    npimg = img.numpy() # numpy array\n",
    "    print('img shape of imshow()',np.transpose(npimg,(1,2,0)).shape)\n",
    "    plt.imshow(np.transpose(npimg,(1,2,0)))\n",
    "    plt.show()\n",
    "\n",
    "# get some random training images\n",
    "dataiter = iter(trainloader)\n",
    "images,labels = dataiter.next() # 随机获取batch张图片\n",
    "\n",
    "print(images.size())\n",
    "print(torchvision.utils.make_grid(images).size()) # 雪碧图的尺寸\n",
    "# show images\n",
    "imshow(torchvision.utils.make_grid(images))\n",
    "# print labels\n",
    "print(' '.join('%10s'%classes[labels[j]] for j in range(4))) # %10s输出格式"
   ]
  },
  {
   "cell_type": "markdown",
   "metadata": {},
   "source": [
    "### 定义一个卷积神经网络"
   ]
  },
  {
   "cell_type": "code",
   "execution_count": 42,
   "metadata": {
    "collapsed": true
   },
   "outputs": [],
   "source": [
    "import torch.nn as nn\n",
    "import torch.nn.functional as F\n",
    "\n",
    "class Net(nn.Module):\n",
    "    def __init__(self):\n",
    "        super(Net,self).__init__()\n",
    "        self.conv1 = nn.Conv2d(3,6,5) # input_channel=3,out_channel=6,kernel_size=5\n",
    "        self.pool = nn.MaxPool2d(2,2) # kernel_size=2,stride=2\n",
    "        self.conv2 = nn.Conv2d(6,16,5)\n",
    "        self.fc1 = nn.Linear(16*5*5,120) # input_feature=16*5*5（通过两次卷积和池化后的特征个数）,output_feature=120\n",
    "        self.fc2 = nn.Linear(120,84)\n",
    "        self.fc3 = nn.Linear(84,10)\n",
    "        \n",
    "    def forward(self,x): # x.shape=batch*3*32*32\n",
    "        x = self.pool(F.relu(self.conv1(x)))\n",
    "        x = self.pool(F.relu(self.conv2(x)))\n",
    "        x = x.view(-1,16*5*5)\n",
    "        x = F.relu(self.fc1(x))\n",
    "        x = F.relu(self.fc2(x))\n",
    "        x = self.fc3(x)\n",
    "        return x\n",
    "    \n",
    "net = Net()"
   ]
  },
  {
   "cell_type": "markdown",
   "metadata": {},
   "source": [
    "### 定义损失函数"
   ]
  },
  {
   "cell_type": "markdown",
   "metadata": {},
   "source": [
    "我们使用分类交叉熵损失函数和带动量的SGD优化算法"
   ]
  },
  {
   "cell_type": "code",
   "execution_count": 43,
   "metadata": {
    "collapsed": true
   },
   "outputs": [],
   "source": [
    "import torch.optim as optim\n",
    "\n",
    "loss_func = nn.CrossEntropyLoss() # 交叉熵损失函数\n",
    "optimizer = optim.SGD(net.parameters(),lr=0.001,momentum=0.9)"
   ]
  },
  {
   "cell_type": "markdown",
   "metadata": {},
   "source": [
    "### 训练神经网络"
   ]
  },
  {
   "cell_type": "markdown",
   "metadata": {},
   "source": [
    "我们只需循环遍历数据迭代器，并将输入提供给网络并进行优化。"
   ]
  },
  {
   "cell_type": "code",
   "execution_count": 44,
   "metadata": {},
   "outputs": [
    {
     "name": "stdout",
     "output_type": "stream",
     "text": [
      "[1, 2000] loss: 2.198\n",
      "[1, 4000] loss: 1.882\n",
      "[1, 6000] loss: 1.674\n",
      "[1, 8000] loss: 1.586\n",
      "[1,10000] loss: 1.517\n",
      "[1,12000] loss: 1.481\n",
      "[2, 2000] loss: 1.401\n",
      "[2, 4000] loss: 1.412\n",
      "[2, 6000] loss: 1.381\n",
      "[2, 8000] loss: 1.348\n",
      "[2,10000] loss: 1.345\n",
      "[2,12000] loss: 1.303\n"
     ]
    },
    {
     "data": {
      "image/png": "[encoded data removed]",
      "text/plain": [
       "<matplotlib.figure.Figure at 0x7f3ce87f52b0>"
      ]
     },
     "metadata": {},
     "output_type": "display_data"
    },
    {
     "name": "stdout",
     "output_type": "stream",
     "text": [
      "Finished Training !\n"
     ]
    }
   ],
   "source": [
    "import matplotlib.pyplot as plt\n",
    "plt.rcParams['font.sans-serif'] = ['SimHei']\n",
    "import numpy as np\n",
    "\n",
    "loss_all = []\n",
    "for epoch in range(2): # 循环遍历数据集\n",
    "    running_loss = 0.0 \n",
    "    for i ,data in enumerate(trainloader,0): # 批量训练数据\n",
    "        inputs,labels = data # get the inputs\n",
    "        optimizer.zero_grad() # 清零梯度缓存池\n",
    "        \n",
    "        outputs = net(inputs) # 前向传播\n",
    "        loss = loss_func(outputs,labels) # 计算损失\n",
    "        loss.backward() # 反向传播\n",
    "        optimizer.step() # 更新参数\n",
    "        \n",
    "        #记录总体损失\n",
    "        running_loss += loss.item()\n",
    "        if i%2000 == 1999: # 每2000个mini-batches输出平均损失\n",
    "            print('[%d,%5d] loss: %.3f'%(epoch+1,i+1,running_loss/2000))\n",
    "            loss_all.append(running_loss) # 记录每2000个batch的总损失\n",
    "            running_loss = 0.0 # 损失清零\n",
    "\n",
    "x = np.arange(1,len(loss_all)+1)\n",
    "y = loss_all\n",
    "plt.plot(x,y,'cp--')\n",
    "plt.xlabel('epoch')\n",
    "plt.ylabel('loss')\n",
    "plt.title('每2000个mini-batch的总损失')\n",
    "plt.show()\n",
    "print('Finished Training !')"
   ]
  },
  {
   "cell_type": "markdown",
   "metadata": {},
   "source": [
    "### 在测试集上测试网络"
   ]
  },
  {
   "cell_type": "markdown",
   "metadata": {},
   "source": [
    "我们已经在训练集上训练了2轮，需要检查一下网络是否学习到了东西。通过预测神经网络的输出标签与真实标签的差异，我们可以知道网络学习的结果。如果预测标签是正确的，我们会将它加入到正确预测的列表中。"
   ]
  },
  {
   "cell_type": "markdown",
   "metadata": {},
   "source": [
    "先来看看测试集的数据图片"
   ]
  },
  {
   "cell_type": "code",
   "execution_count": 45,
   "metadata": {},
   "outputs": [
    {
     "name": "stdout",
     "output_type": "stream",
     "text": [
      "img shape of imshow() (36, 138, 3)\n"
     ]
    },
    {
     "data": {
      "image/png": "[encoded data removed]",
      "text/plain": [
       "<matplotlib.figure.Figure at 0x7f3c84a50ef0>"
      ]
     },
     "metadata": {},
     "output_type": "display_data"
    },
    {
     "name": "stdout",
     "output_type": "stream",
     "text": [
      "GroundTruth: \n",
      "        cat       ship       ship      plane\n"
     ]
    }
   ],
   "source": [
    "dataiter = iter(testloader)\n",
    "images,labels = dataiter.next()\n",
    "\n",
    "# print images\n",
    "imshow(torchvision.utils.make_grid(images))\n",
    "print('GroundTruth: \\n', ' '.join('%10s' % classes[labels[j]] for j in range(4)))"
   ]
  },
  {
   "cell_type": "markdown",
   "metadata": {},
   "source": [
    "预测结果"
   ]
  },
  {
   "cell_type": "code",
   "execution_count": 46,
   "metadata": {
    "collapsed": true
   },
   "outputs": [],
   "source": [
    "outputs = net(images)"
   ]
  },
  {
   "cell_type": "markdown",
   "metadata": {},
   "source": [
    "输出outputs是10个类的概率，类的索引对应的概率值越高，就越可能是该类。下面我们获取概率值最高的索引所对应的类"
   ]
  },
  {
   "cell_type": "code",
   "execution_count": 47,
   "metadata": {},
   "outputs": [
    {
     "name": "stdout",
     "output_type": "stream",
     "text": [
      "Predicted:    cat  ship   car plane\n"
     ]
    }
   ],
   "source": [
    "_,predicted = torch.max(outputs,1)\n",
    "print('Predicted: ',' '.join('%5s'%classes[predicted[j]] for j in range(4)))"
   ]
  },
  {
   "cell_type": "markdown",
   "metadata": {},
   "source": [
    "预测结果看起来不错。下面我们在全体测试集上跑一下结果:"
   ]
  },
  {
   "cell_type": "code",
   "execution_count": 48,
   "metadata": {},
   "outputs": [
    {
     "name": "stdout",
     "output_type": "stream",
     "text": [
      "Accuracy of the network on the 10000 test images: 51 %\n"
     ]
    }
   ],
   "source": [
    "correct = 0\n",
    "total = 0\n",
    "with torch.no_grad():\n",
    "    for data in testloader:\n",
    "        images,labels = data\n",
    "        outputs = net(images)\n",
    "        _,predicted = torch.max(outputs.data,1)\n",
    "        total += labels.size(0) # 记录测试的样本个数\n",
    "        correct += (predicted == labels).sum().item() # 记录预测正确的样本个数\n",
    "\n",
    "print('Accuracy of the network on the 10000 test images: %d %%' % (\n",
    "    100 * correct / total))"
   ]
  },
  {
   "cell_type": "markdown",
   "metadata": {},
   "source": [
    "那么，这10个类别各自的准确率呢？"
   ]
  },
  {
   "cell_type": "code",
   "execution_count": 49,
   "metadata": {},
   "outputs": [
    {
     "name": "stdout",
     "output_type": "stream",
     "text": [
      "Accuracy of plane : 47 %\n",
      "Accuracy of   car : 81 %\n",
      "Accuracy of  bird : 34 %\n",
      "Accuracy of   cat : 57 %\n",
      "Accuracy of  deer : 41 %\n",
      "Accuracy of   dog : 42 %\n",
      "Accuracy of  frog : 52 %\n",
      "Accuracy of horse : 68 %\n",
      "Accuracy of  ship : 60 %\n",
      "Accuracy of truck : 33 %\n"
     ]
    }
   ],
   "source": [
    "class_correct = list(0. for i in range(10)) # 记录10个类各自预测正确的测试样本个数\n",
    "class_total = list(0. for i in range(10)) # 记录10个类各自测试样本的个数\n",
    "\n",
    "with torch.no_grad():\n",
    "    for data in testloader:\n",
    "        images,labels = data\n",
    "        outputs = net(images)\n",
    "        _,predicted = torch.max(outputs.data,1)\n",
    "        c = (predicted == labels).squeeze()\n",
    "        for i in range(4):\n",
    "            label = labels[i] #遍历batch中每个测试样本，获取其真实标签(其实为0-9的编号)\n",
    "            class_correct[label] += c[i].item() \n",
    "            class_total[label] += 1\n",
    "            \n",
    "for i in range(10):\n",
    "    print('Accuracy of %5s : %2d %%' % (classes[i], 100 * class_correct[i] / class_total[i]))"
   ]
  },
  {
   "cell_type": "markdown",
   "metadata": {},
   "source": [
    "## Training on GPU:用GPU训练"
   ]
  },
  {
   "cell_type": "markdown",
   "metadata": {},
   "source": [
    "如同你将Tensor移到GPU上计算的方式，也可以将神经网络迁移到GPU上。\n",
    "\n",
    "首先定义一下我们的设备，如果CUDA可用的话"
   ]
  },
  {
   "cell_type": "markdown",
   "metadata": {},
   "source": [
    "```Python\n",
    "device = torch.device('cuda:0' if torch.cuda.is_available() else 'cpu')\n",
    "print(device)\n",
    "```"
   ]
  },
  {
   "cell_type": "markdown",
   "metadata": {},
   "source": [
    "下面的设备便默认使用CUDA.下面的方法会递归地在所有模块上运行，并将它们的参数和缓存转换为CUDA Tensors"
   ]
  },
  {
   "cell_type": "markdown",
   "metadata": {},
   "source": [
    "```Python\n",
    "net.to(device)\n",
    "```"
   ]
  },
  {
   "cell_type": "markdown",
   "metadata": {},
   "source": [
    "同时你还需要将每步的输入inputs和targets迁移到GPU上"
   ]
  },
  {
   "cell_type": "markdown",
   "metadata": {},
   "source": [
    "```Python\n",
    "inputs,labels = inputs.to(device),labels.to(device)\n",
    "```"
   ]
  }
 ],
 "metadata": {
  "kernelspec": {
   "display_name": "Python 3",
   "language": "python",
   "name": "python3"
  },
  "language_info": {
   "codemirror_mode": {
    "name": "ipython",
    "version": 3
   },
   "file_extension": ".py",
   "mimetype": "text/x-python",
   "name": "python",
   "nbconvert_exporter": "python",
   "pygments_lexer": "ipython3",
   "version": "3.6.2"
  },
  "toc": {
   "base_numbering": 1,
   "nav_menu": {},
   "number_sections": true,
   "sideBar": true,
   "skip_h1_title": false,
   "title_cell": "Table of Contents",
   "title_sidebar": "Contents",
   "toc_cell": false,
   "toc_position": {
    "height": "566px",
    "left": "833px",
    "top": "176.133px",
    "width": "326px"
   },
   "toc_section_display": true,
   "toc_window_display": true
  },
  "varInspector": {
   "cols": {
    "lenName": 16,
    "lenType": 16,
    "lenVar": 40
   },
   "kernels_config": {
    "python": {
     "delete_cmd_postfix": "",
     "delete_cmd_prefix": "del ",
     "library": "var_list.py",
     "varRefreshCmd": "print(var_dic_list())"
    },
    "r": {
     "delete_cmd_postfix": ") ",
     "delete_cmd_prefix": "rm(",
     "library": "var_list.r",
     "varRefreshCmd": "cat(var_dic_list()) "
    }
   },
   "types_to_exclude": [
    "module",
    "function",
    "builtin_function_or_method",
    "instance",
    "_Feature"
   ],
   "window_display": false
  }
 },
 "nbformat": 4,
 "nbformat_minor": 2
}
