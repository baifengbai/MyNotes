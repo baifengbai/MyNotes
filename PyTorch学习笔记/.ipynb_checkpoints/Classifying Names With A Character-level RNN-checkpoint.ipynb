{
 "cells": [
  {
   "cell_type": "markdown",
   "metadata": {},
   "source": [
    "本文是对PyTorch Tutorials的学习，原文地址https://pytorch.org/tutorials/intermediate/char_rnn_classification_tutorial.html,\n",
    "编辑:weiyang,微信:damo894127201,Time:2019.2.2"
   ]
  },
  {
   "cell_type": "markdown",
   "metadata": {},
   "source": [
    "这里，我们将会构建和训练一个基础的character-level RNN 来分类单词。character-level RNN读取一系列字符(字母)，每个时间步timestep输出预测值和hidden state,然后将此hidden state输入给下一个时间步。我们将最后一个时间步timestep的预测值作为RNN的输出，也就是类别。\n",
    "\n",
    "具体来说，我们将训练来自18种原始语言的几千个姓氏，并根据拼写预测名称来自哪种语言。\n",
    "\n",
    "```Python\n",
    "$ python predict.py Hinton\n",
    "(-0.47) Scottish\n",
    "(-1.52) English\n",
    "(-3.57) Irish\n",
    "\n",
    "$ python predict.py Schmidhuber\n",
    "(-0.19) German\n",
    "(-2.48) Czech\n",
    "(-2.68) Dutch\n",
    "```"
   ]
  },
  {
   "cell_type": "markdown",
   "metadata": {},
   "source": [
    "# Preparing the Data"
   ]
  },
  {
   "cell_type": "markdown",
   "metadata": {},
   "source": [
    "data/names目录下有18个命名格式为[language].txt的文本文件。每个文件包含一堆names，每个name一行，主要是罗马化的，但我们仍然需要将它们从Unicode编码转为ASCII编码。最后，我们将对每种语言生成一个字典，其值为name的列表，即{language:[names,...]}。通用变量'category'和'line'(这里分别指代language和name)用于稍后的扩展。"
   ]
  },
  {
   "cell_type": "code",
   "execution_count": 1,
   "metadata": {
    "collapsed": true
   },
   "outputs": [],
   "source": [
    "from __future__ import unicode_literals,print_function,division\n",
    "from io import open\n",
    "import glob  # 使用通配符查找文件目录和文件的模块\n",
    "import os\n",
    "import unicodedata # 将文本编码标准化\n",
    "import string"
   ]
  },
  {
   "cell_type": "markdown",
   "metadata": {},
   "source": [
    "## 生成模型的字符列表"
   ]
  },
  {
   "cell_type": "markdown",
   "metadata": {},
   "source": [
    "string.ascii_letters 生成26个字母，包含大小写\n",
    "\n",
    "string.digits 生成0-9的数字"
   ]
  },
  {
   "cell_type": "code",
   "execution_count": 2,
   "metadata": {
    "collapsed": true
   },
   "outputs": [],
   "source": [
    "all_letters = string.ascii_letters + \" .,;'-\" # 所需要的字符集合\n",
    "n_letters = len(all_letters) # 字符类别个数"
   ]
  },
  {
   "cell_type": "markdown",
   "metadata": {},
   "source": [
    "## 定义利用通配符查找文件的函数"
   ]
  },
  {
   "cell_type": "markdown",
   "metadata": {},
   "source": [
    "glob模块支持 * ? [] 三种通配符\n",
    "\n",
    "1. \\*代表0个或多个字符\n",
    "2. ?代表一个字符\n",
    "3. []匹配指定范围内的字符，如[0-9]匹配数字\n",
    "\n",
    "glob.glob(regx):返回符合条件的文件列表\n",
    "\n",
    "glob.iglob(regx):返回符合条件的文件迭代器，适合于大量文件的目录"
   ]
  },
  {
   "cell_type": "code",
   "execution_count": 3,
   "metadata": {},
   "outputs": [
    {
     "name": "stdout",
     "output_type": "stream",
     "text": [
      "['./data/names/English.txt', './data/names/Korean.txt', './data/names/Greek.txt', './data/names/Czech.txt', './data/names/Polish.txt', './data/names/Chinese.txt', './data/names/Japanese.txt', './data/names/Vietnamese.txt', './data/names/Scottish.txt', './data/names/French.txt', './data/names/Russian.txt', './data/names/Portuguese.txt', './data/names/Dutch.txt', './data/names/German.txt', './data/names/Arabic.txt', './data/names/Spanish.txt', './data/names/Irish.txt', './data/names/Italian.txt']\n"
     ]
    }
   ],
   "source": [
    "def findFiles(path):\n",
    "    return glob.glob(path)\n",
    "\n",
    "print(findFiles('./data/names/*.txt'))"
   ]
  },
  {
   "cell_type": "markdown",
   "metadata": {},
   "source": [
    "## 将Unicode字符串转为纯ASCII字符串:字符串标准化"
   ]
  },
  {
   "cell_type": "code",
   "execution_count": 4,
   "metadata": {},
   "outputs": [
    {
     "name": "stdout",
     "output_type": "stream",
     "text": [
      "Slusarski\n"
     ]
    }
   ],
   "source": [
    "def unicodeToAscii(s):\n",
    "    return ''.join(\n",
    "        c for c in unicodedata.normalize('NFD',s) # 把Unicode字符转为Normalization Form D(NFD)格式的字符串\n",
    "        if unicodedata.category(c) != 'Mn' # 该字符c在unicode分类的类型，不是 Mark, Nonspacing\n",
    "        and c in all_letters\n",
    "    ) # join()里其实是个列表推导\n",
    "\n",
    "print(unicodeToAscii('Ślusàrski'))"
   ]
  },
  {
   "cell_type": "markdown",
   "metadata": {},
   "source": [
    "## 读取文件并将其分割成一行一行"
   ]
  },
  {
   "cell_type": "code",
   "execution_count": 5,
   "metadata": {
    "collapsed": true
   },
   "outputs": [],
   "source": [
    "def readLines(filename):\n",
    "    lines = open(filename,encoding='utf-8').read().strip().split('\\n')\n",
    "    return [unicodeToAscii(line) for line in lines]"
   ]
  },
  {
   "cell_type": "markdown",
   "metadata": {},
   "source": [
    "## 构建{语言类别:names}字典，其中names是个name列表"
   ]
  },
  {
   "cell_type": "code",
   "execution_count": 6,
   "metadata": {
    "collapsed": true
   },
   "outputs": [],
   "source": [
    "category_lines = {}\n",
    "all_categories = []\n",
    "# 遍历data/names文件下的文件\n",
    "for filename in findFiles('data/names/*.txt'):\n",
    "    # os.path.basename(filename)返回filename最后位置处的文件名\n",
    "    # os.path.splitext（）分离文件名与扩展名\n",
    "    category = os.path.splitext(os.path.basename(filename))[0]# 获取语言类别\n",
    "    all_categories.append(category)\n",
    "    lines = readLines(filename)\n",
    "    category_lines[category] = lines\n",
    "    \n",
    "n_categories = len(all_categories) # 语言类别个数"
   ]
  },
  {
   "cell_type": "markdown",
   "metadata": {},
   "source": [
    "现在我们便得到了**category_lines**,它是一个language到name列表的字典，即{language:[names,...]}。我们也记录了语言类别**all_categories**和语言类别个数**n_categories**。"
   ]
  },
  {
   "cell_type": "code",
   "execution_count": 7,
   "metadata": {},
   "outputs": [
    {
     "name": "stdout",
     "output_type": "stream",
     "text": [
      "['Abandonato', 'Abatangelo', 'Abatantuono', 'Abate', 'Abategiovanni']\n"
     ]
    }
   ],
   "source": [
    "print(category_lines['Italian'][:5]) # 输出意大利语下面的前5个name"
   ]
  },
  {
   "cell_type": "markdown",
   "metadata": {},
   "source": [
    "## Turning Names into Tensors：将name转为Tensors"
   ]
  },
  {
   "cell_type": "markdown",
   "metadata": {},
   "source": [
    "现在我们需要将name转为tensor以便使用它们。这里，用**1 x n_letters**维度的one-hot向量来表示单个字符(字母)，例如，b可表示为(0,1,0,0,..0)。因此，对于某个单词word而言，可表示为一个二维矩阵,word_length x 1 x n_letters 。\n",
    "\n",
    "额外的1维是因为PyTorch假定所有东西都是批量的 - 我们这里只是使用批量大小为1。"
   ]
  },
  {
   "cell_type": "markdown",
   "metadata": {},
   "source": [
    "### 查找字母在字符列表中的索引编号"
   ]
  },
  {
   "cell_type": "code",
   "execution_count": 8,
   "metadata": {
    "collapsed": true
   },
   "outputs": [],
   "source": [
    "import torch\n",
    "\n",
    "def letterToIndex(letter):\n",
    "    return all_letters.find(letter)"
   ]
  },
  {
   "cell_type": "markdown",
   "metadata": {},
   "source": [
    "### 将字符转为one-hot向量"
   ]
  },
  {
   "cell_type": "code",
   "execution_count": 9,
   "metadata": {
    "collapsed": true
   },
   "outputs": [],
   "source": [
    "def letterToTensor(letter):\n",
    "    tensor = torch.zeros(1,n_letters)\n",
    "    tensor[0][letterToIndex(letter)] = 1\n",
    "    return tensor"
   ]
  },
  {
   "cell_type": "markdown",
   "metadata": {},
   "source": [
    "### 将name转为tensor，size为name_length x 1 x n_letters"
   ]
  },
  {
   "cell_type": "code",
   "execution_count": 10,
   "metadata": {
    "collapsed": true
   },
   "outputs": [],
   "source": [
    "def lineToTensor(line):\n",
    "    tensor = torch.zeros(len(line),1,n_letters)\n",
    "    for li,letter in enumerate(line):\n",
    "        tensor[li][0][letterToIndex(letter)] = 1\n",
    "    return tensor"
   ]
  },
  {
   "cell_type": "code",
   "execution_count": 11,
   "metadata": {},
   "outputs": [
    {
     "name": "stdout",
     "output_type": "stream",
     "text": [
      "tensor([[0., 0., 0., 0., 0., 0., 0., 0., 0., 0., 0., 0., 0., 0., 0., 0., 0., 0.,\n",
      "         0., 0., 0., 0., 0., 0., 0., 0., 0., 0., 0., 0., 0., 0., 0., 0., 0., 1.,\n",
      "         0., 0., 0., 0., 0., 0., 0., 0., 0., 0., 0., 0., 0., 0., 0., 0., 0., 0.,\n",
      "         0., 0., 0., 0.]])\n",
      "torch.Size([5, 1, 58])\n"
     ]
    }
   ],
   "source": [
    "print(letterToTensor('J'))\n",
    "print(lineToTensor('Jones').size())"
   ]
  },
  {
   "cell_type": "markdown",
   "metadata": {},
   "source": [
    "# Creating the Network"
   ]
  },
  {
   "cell_type": "markdown",
   "metadata": {},
   "source": [
    "搭建一个RNN需要复制每一时间步的参数，并且网络保存的hidden state和梯度会由计算图处理。这意味着你可以以很纯粹的方式实现RNN，就像通常的前馈神经网络那样。\n",
    "\n",
    "RNN仅有两个线性层，并且以input和hidden state 为输入，在output后便是LogSoftmax层。\n",
    "\n",
    "![RNN_classifying](./image/RNN_classifying.png)"
   ]
  },
  {
   "cell_type": "code",
   "execution_count": 12,
   "metadata": {
    "collapsed": true
   },
   "outputs": [],
   "source": [
    "import torch.nn as nn\n",
    "\n",
    "class RNN(nn.Module):\n",
    "    def __init__(self,input_size,hidden_size,output_size):\n",
    "        super(RNN,self).__init__()\n",
    "        \n",
    "        self.hidden_size = hidden_size\n",
    "        \n",
    "        self.i2h = nn.Linear(input_size + hidden_size,hidden_size)\n",
    "        self.i2o = nn.Linear(input_size + hidden_size,output_size)\n",
    "        self.softmax = nn.LogSoftmax(dim=1)\n",
    "        \n",
    "    def forward(self,inputs,hidden):\n",
    "        combined = torch.cat((inputs,hidden),1)\n",
    "        hidden = self.i2h(combined)\n",
    "        output = self.i2o(combined)\n",
    "        output = self.softmax(output)\n",
    "        return output,hidden\n",
    "    \n",
    "    def initHidden(self):\n",
    "        return torch.zeros(1,self.hidden_size)\n",
    "    \n",
    "n_hidden = 128\n",
    "rnn = RNN(n_letters,n_hidden,n_categories)"
   ]
  },
  {
   "cell_type": "markdown",
   "metadata": {},
   "source": [
    "我们需要给网络传递一个输入(这里，是当前字母的Tensor)和前一个隐藏状态(初始时，我们置为0)。我们将会返回输出output(即每种语言类别的概率)和当前时刻的隐状态。"
   ]
  },
  {
   "cell_type": "code",
   "execution_count": 13,
   "metadata": {
    "collapsed": true
   },
   "outputs": [],
   "source": [
    "inputs = letterToTensor('A')\n",
    "hidden = torch.zeros(1,n_hidden)\n",
    "output,next_hidden = rnn(inputs,hidden)"
   ]
  },
  {
   "cell_type": "markdown",
   "metadata": {},
   "source": [
    "考虑到效率，我们并不想每一步都为单个字母创建一个Tensor，因此我们调用**lineToTensor()**函数，而不是**letterToTensor()**,并使用切片。这些都会在批处理时，做进一步的优化。"
   ]
  },
  {
   "cell_type": "code",
   "execution_count": 14,
   "metadata": {},
   "outputs": [
    {
     "data": {
      "text/plain": [
       "tensor([[-2.9248, -2.8686, -2.8780, -2.9252, -2.9077, -2.8847, -2.8637, -2.8739,\n",
       "         -2.7826, -2.8916, -2.9324, -2.9592, -2.8987, -2.9042, -2.8950, -2.8131,\n",
       "         -2.9595, -2.8807]], grad_fn=<LogSoftmaxBackward>)"
      ]
     },
     "execution_count": 14,
     "metadata": {},
     "output_type": "execute_result"
    }
   ],
   "source": [
    "inputs = lineToTensor('Albert')\n",
    "hidden = torch.zeros(1,n_hidden)\n",
    "\n",
    "output,next_hidden = rnn(inputs[0],hidden)\n",
    "output"
   ]
  },
  {
   "cell_type": "markdown",
   "metadata": {},
   "source": [
    "输出output是一个**1 x n_categories **的张量，其中每一维的值是相应编号类的概率，值越大概率越大。"
   ]
  },
  {
   "cell_type": "markdown",
   "metadata": {},
   "source": [
    "# Training "
   ]
  },
  {
   "cell_type": "markdown",
   "metadata": {},
   "source": [
    "## Preparing for Training"
   ]
  },
  {
   "cell_type": "markdown",
   "metadata": {},
   "source": [
    "在训练网络之前，我们需要写一些辅助函数，比如，用来解释网络输出output的辅助函数，而网络输出我们知道那是每一个语言类别的输出概率。我们可以使用**Tensor.topk**来获取概率最大的类别对应的索引编码。"
   ]
  },
  {
   "cell_type": "code",
   "execution_count": 15,
   "metadata": {},
   "outputs": [
    {
     "name": "stdout",
     "output_type": "stream",
     "text": [
      "('Scottish', 8)\n"
     ]
    }
   ],
   "source": [
    "def categoryFromOutput(output):\n",
    "    top_n,top_i = output.topk(1) # top_n对应的是概率值,top_i对应的是索引,维度都是k*1\n",
    "    category_i = top_i[0].item()\n",
    "    return all_categories[category_i],category_i # 返回类别和类别编码\n",
    "\n",
    "print(categoryFromOutput(output))"
   ]
  },
  {
   "cell_type": "markdown",
   "metadata": {},
   "source": [
    "快速获取训练数据"
   ]
  },
  {
   "cell_type": "code",
   "execution_count": 16,
   "metadata": {},
   "outputs": [
    {
     "name": "stdout",
     "output_type": "stream",
     "text": [
      "category = Vietnamese / line = Than\n",
      "category = Japanese / line = Yamagata\n",
      "category = Korean / line = Choe\n",
      "category = French / line = Allard\n",
      "category = Chinese / line = Gui\n",
      "category = Italian / line = Nicchi\n",
      "category = German / line = Straub\n",
      "category = Russian / line = Mstislavets\n",
      "category = Polish / line = Sokolowski\n",
      "category = Korean / line = Ryu\n"
     ]
    }
   ],
   "source": [
    "import random\n",
    "\n",
    "def randomChoice(lst):\n",
    "    return lst[random.randint(0,len(lst)-1)]\n",
    "\n",
    "def randomTrainingExample():\n",
    "    category = randomChoice(all_categories)\n",
    "    line = randomChoice(category_lines[category])\n",
    "    category_tensor = torch.tensor([all_categories.index(category)],dtype=torch.long)\n",
    "    line_tensor = lineToTensor(line)\n",
    "    return category,line,category_tensor,line_tensor\n",
    "\n",
    "for i in range(10):\n",
    "    category, line, category_tensor, line_tensor = randomTrainingExample()\n",
    "    print('category =', category, '/ line =', line)"
   ]
  },
  {
   "cell_type": "markdown",
   "metadata": {},
   "source": [
    "## Training the Network"
   ]
  },
  {
   "cell_type": "markdown",
   "metadata": {},
   "source": [
    "经过以上准备工作，现在训练网络所需的就是灌进一批数据，然后预测，再比较预测结果与真实值。对于损失函数用**nn.NLLLoss**，是由于RNN的最后一层是**nn.LogSoftmax**。"
   ]
  },
  {
   "cell_type": "code",
   "execution_count": 17,
   "metadata": {
    "collapsed": true
   },
   "outputs": [],
   "source": [
    "loss_func = nn.NLLLoss()"
   ]
  },
  {
   "cell_type": "markdown",
   "metadata": {},
   "source": [
    "每次循环的训练都会：\n",
    "1. 创建input和target tensors\n",
    "2. 创建一个初始的值为0的hidden state\n",
    "3. 读取每个字母(字符)，并为下一个字母保留hidden state\n",
    "4. 将输出与target做比较\n",
    "5. 反向传播\n",
    "6. 返回输出和loss"
   ]
  },
  {
   "cell_type": "code",
   "execution_count": 18,
   "metadata": {
    "collapsed": true
   },
   "outputs": [],
   "source": [
    "learning_rate = 0.005 #学习率如果设置太大，会产生梯度爆炸；太小，RNN就学不到东西了\n",
    "\n",
    "def train(category_tensor, line_tensor):\n",
    "    hidden = rnn.initHidden() # 初始化RNN的hidden state为0\n",
    "\n",
    "    rnn.zero_grad() # 清空RNN梯度缓存池中的梯度\n",
    "\n",
    "    for i in range(line_tensor.size()[0]): # 遍历name中的每个字母\n",
    "        output, hidden = rnn(line_tensor[i], hidden)\n",
    "\n",
    "    loss = loss_func(output, category_tensor) # 计算损失\n",
    "    loss.backward() # 反向传播\n",
    "\n",
    "    # Add parameters' gradients to their values, multiplied by learning rate\n",
    "    for p in rnn.parameters():\n",
    "        p.data.add_(-learning_rate, p.grad.data) # 更新网络权重\n",
    "\n",
    "    return output, loss.item() # 返回输出和损失"
   ]
  },
  {
   "cell_type": "markdown",
   "metadata": {},
   "source": [
    "现在我们已经在批量数据上将RNN跑了起来。由于**train**函数同时返回网络输出和损失，我们可以输出RNN猜测的类别，记录损失并展示其变化曲线。总共有1000条数据，我们每隔**print_every**输出损失，并对损失取平均。"
   ]
  },
  {
   "cell_type": "code",
   "execution_count": 19,
   "metadata": {},
   "outputs": [
    {
     "name": "stdout",
     "output_type": "stream",
     "text": [
      "5000 5% (0m 8s) 2.2779 Tagawa / Japanese ✓\n",
      "10000 10% (0m 14s) 2.3212 Phocas / Arabic ✗ (Greek)\n",
      "15000 15% (0m 21s) 2.7740 Bakis / Greek ✗ (Russian)\n",
      "20000 20% (0m 27s) 0.1441 Kozlowski / Polish ✓\n",
      "25000 25% (0m 32s) 3.8316 Hargreaves / Greek ✗ (English)\n",
      "30000 30% (0m 38s) 1.3655 Wondracek / Dutch ✗ (Czech)\n",
      "35000 35% (0m 43s) 1.1584 Traverse / French ✓\n",
      "40000 40% (0m 48s) 0.2790 Quach / Vietnamese ✓\n",
      "45000 45% (0m 55s) 1.2893 Melo / Spanish ✗ (Portuguese)\n",
      "50000 50% (1m 1s) 0.8339 Oinuma / Japanese ✓\n",
      "55000 55% (1m 6s) 1.2179 Walentowicz / Polish ✓\n",
      "60000 60% (1m 12s) 0.7997 Babuhin / Russian ✓\n",
      "65000 65% (1m 18s) 1.5098 Polites / Spanish ✗ (Greek)\n",
      "70000 70% (1m 24s) 3.6163 Douglas / Greek ✗ (Scottish)\n",
      "75000 75% (1m 31s) 4.0112 Serafin / Dutch ✗ (Polish)\n",
      "80000 80% (1m 37s) 0.2667 Terakado / Japanese ✓\n",
      "85000 85% (1m 44s) 2.2758 Hay / Chinese ✗ (Scottish)\n",
      "90000 90% (1m 50s) 0.1164 Tupolev / Russian ✓\n",
      "95000 95% (1m 57s) 0.0654 Dinh / Vietnamese ✓\n",
      "100000 100% (2m 5s) 2.6306 Desmond / English ✗ (Irish)\n"
     ]
    }
   ],
   "source": [
    "import time\n",
    "import math\n",
    "\n",
    "n_iters = 100000\n",
    "print_every = 5000\n",
    "plot_every = 1000\n",
    "\n",
    "\n",
    "\n",
    "# Keep track of losses for plotting\n",
    "current_loss = 0\n",
    "all_losses = []\n",
    "\n",
    "def timeSince(since):\n",
    "    now = time.time()\n",
    "    s = now - since\n",
    "    m = math.floor(s / 60)\n",
    "    s -= m * 60\n",
    "    return '%dm %ds' % (m, s)\n",
    "\n",
    "start = time.time()\n",
    "\n",
    "for iter in range(1, n_iters + 1):\n",
    "    category, line, category_tensor, line_tensor = randomTrainingExample()\n",
    "    output, loss = train(category_tensor, line_tensor)\n",
    "    current_loss += loss\n",
    "\n",
    "    # Print iter number, loss, name and guess\n",
    "    if iter % print_every == 0:\n",
    "        guess, guess_i = categoryFromOutput(output)\n",
    "        correct = '✓' if guess == category else '✗ (%s)' % category\n",
    "        print('%d %d%% (%s) %.4f %s / %s %s' % (iter, iter / n_iters * 100, timeSince(start), loss, line, guess, correct))\n",
    "\n",
    "    # Add current loss avg to list of losses\n",
    "    if iter % plot_every == 0:\n",
    "        all_losses.append(current_loss / plot_every)\n",
    "        current_loss = 0"
   ]
  },
  {
   "cell_type": "markdown",
   "metadata": {},
   "source": [
    "## Plotting the Results"
   ]
  },
  {
   "cell_type": "markdown",
   "metadata": {},
   "source": [
    "展示RNN的损失曲线"
   ]
  },
  {
   "cell_type": "code",
   "execution_count": 20,
   "metadata": {},
   "outputs": [
    {
     "data": {
      "image/png": "[encoded data removed]",
      "text/plain": [
       "<matplotlib.figure.Figure at 0x7fccc52858d0>"
      ]
     },
     "metadata": {},
     "output_type": "display_data"
    }
   ],
   "source": [
    "import matplotlib.pyplot as plt\n",
    "import matplotlib.ticker as ticker\n",
    "\n",
    "plt.figure()\n",
    "plt.plot(all_losses)\n",
    "plt.xlabel('Epoch')\n",
    "plt.ylabel('Loss')\n",
    "plt.show()"
   ]
  },
  {
   "cell_type": "markdown",
   "metadata": {},
   "source": [
    "# Evaluating the Results"
   ]
  },
  {
   "cell_type": "markdown",
   "metadata": {},
   "source": [
    "我们想知道RNN在不同类别上学习的结果，因此创建一个混淆矩阵。为了计算混淆矩阵，一堆数据经过RNN并用函数**evaluate()**来评估，除了没有反向传播，它与**train**函数并无多大差异。"
   ]
  },
  {
   "cell_type": "code",
   "execution_count": 21,
   "metadata": {},
   "outputs": [
    {
     "data": {
      "image/png": "[encoded data removed]",
      "text/plain": [
       "<matplotlib.figure.Figure at 0x7fcc62eceef0>"
      ]
     },
     "metadata": {},
     "output_type": "display_data"
    }
   ],
   "source": [
    "# 记录混淆矩阵中预测正确的个数\n",
    "confusion = torch.zeros(n_categories,n_categories)\n",
    "n_confusion = 10000\n",
    "\n",
    "# 返回每个输入name的返回值(类别)\n",
    "def evaluate(line_tensor):\n",
    "    hidden = rnn.initHidden()\n",
    "    \n",
    "    for i in range(line_tensor.size()[0]):\n",
    "        output,hidden = rnn(line_tensor[i],hidden)\n",
    "    \n",
    "    return output\n",
    "\n",
    "# 在大量数据上训练RNN，并记录预测准确的个数\n",
    "for i in range(n_confusion):\n",
    "    category,line,category_tensor,line_tensor = randomTrainingExample()\n",
    "    output = evaluate(line_tensor)\n",
    "    guess,guess_i = categoryFromOutput(output)\n",
    "    category_i = all_categories.index(category)\n",
    "    confusion[category_i][guess_i] += 1\n",
    "\n",
    "for i in range(n_categories):\n",
    "    confusion[i] = confusion[i] / confusion[i].sum() # 计算相应类别的准确率\n",
    "\n",
    "# set up plot\n",
    "fig = plt.figure()\n",
    "ax = fig.add_subplot(111)\n",
    "cax = ax.matshow(confusion.numpy()) # 混淆矩阵可视化\n",
    "fig.colorbar(cax)\n",
    "\n",
    "# set up axes\n",
    "ax.set_xticklabels([''] + all_categories,rotation=90) \n",
    "ax.set_yticklabels([''] + all_categories)\n",
    "\n",
    "# force label at every tick\n",
    "ax.xaxis.set_major_locator(ticker.MultipleLocator(1))\n",
    "ax.yaxis.set_major_locator(ticker.MultipleLocator(1))\n",
    "\n",
    "# sphinx_gallery_thumbnail_number = 2\n",
    "plt.show()"
   ]
  },
  {
   "cell_type": "markdown",
   "metadata": {},
   "source": [
    "你可以从主轴上挑出比较亮的点来查看它猜错的语言，例如： 汉语预测为韩语，西班牙语预测为意大利语。 RNN似乎在希腊语上预测很好，而在英语上很差（可能是因为英语与其他语言的重叠）。"
   ]
  },
  {
   "cell_type": "markdown",
   "metadata": {},
   "source": [
    "# Running on User Input:预测"
   ]
  },
  {
   "cell_type": "code",
   "execution_count": 22,
   "metadata": {},
   "outputs": [
    {
     "name": "stdout",
     "output_type": "stream",
     "text": [
      "\n",
      "> Dovesky\n",
      "(-0.30) Russian\n",
      "(-1.70) Czech\n",
      "(-3.36) English\n",
      "\n",
      "> Jackson\n",
      "(-0.81) Scottish\n",
      "(-1.20) English\n",
      "(-2.06) Russian\n",
      "\n",
      "> Satoshi\n",
      "(-1.15) Polish\n",
      "(-1.74) Arabic\n",
      "(-2.02) Italian\n"
     ]
    }
   ],
   "source": [
    "def predict(input_line,n_predictions=3): # 输出概率最大的前n_predictions个预测结果\n",
    "    print('\\n> %s' % input_line)\n",
    "    with torch.no_grad():\n",
    "        output = evaluate(lineToTensor(input_line))\n",
    "        \n",
    "        # get top N categories\n",
    "        topv,topi = output.topk(n_predictions,1,True)\n",
    "        predictions = []\n",
    "        \n",
    "        for i in range(n_predictions):\n",
    "            value = topv[0][i].item()\n",
    "            category_index = topi[0][i].item()\n",
    "            print('(%.2f) %s' % (value, all_categories[category_index]))\n",
    "            predictions.append([value, all_categories[category_index]])\n",
    "\n",
    "predict('Dovesky')\n",
    "predict('Jackson')\n",
    "predict('Satoshi')"
   ]
  }
 ],
 "metadata": {
  "kernelspec": {
   "display_name": "Python 3",
   "language": "python",
   "name": "python3"
  },
  "language_info": {
   "codemirror_mode": {
    "name": "ipython",
    "version": 3
   },
   "file_extension": ".py",
   "mimetype": "text/x-python",
   "name": "python",
   "nbconvert_exporter": "python",
   "pygments_lexer": "ipython3",
   "version": "3.6.2"
  },
  "toc": {
   "base_numbering": 1,
   "nav_menu": {},
   "number_sections": true,
   "sideBar": true,
   "skip_h1_title": false,
   "title_cell": "Table of Contents",
   "title_sidebar": "Contents",
   "toc_cell": false,
   "toc_position": {},
   "toc_section_display": true,
   "toc_window_display": true
  },
  "varInspector": {
   "cols": {
    "lenName": 16,
    "lenType": 16,
    "lenVar": 40
   },
   "kernels_config": {
    "python": {
     "delete_cmd_postfix": "",
     "delete_cmd_prefix": "del ",
     "library": "var_list.py",
     "varRefreshCmd": "print(var_dic_list())"
    },
    "r": {
     "delete_cmd_postfix": ") ",
     "delete_cmd_prefix": "rm(",
     "library": "var_list.r",
     "varRefreshCmd": "cat(var_dic_list()) "
    }
   },
   "types_to_exclude": [
    "module",
    "function",
    "builtin_function_or_method",
    "instance",
    "_Feature"
   ],
   "window_display": false
  }
 },
 "nbformat": 4,
 "nbformat_minor": 2
}
