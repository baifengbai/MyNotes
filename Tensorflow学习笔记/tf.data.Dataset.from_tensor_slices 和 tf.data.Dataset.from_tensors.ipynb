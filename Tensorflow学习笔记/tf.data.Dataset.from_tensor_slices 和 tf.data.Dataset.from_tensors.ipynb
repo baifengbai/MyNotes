{
 "cells": [
  {
   "cell_type": "markdown",
   "metadata": {},
   "source": [
    "# tf.data.Dataset.from_tensors(tensors)"
   ]
  },
  {
   "cell_type": "markdown",
   "metadata": {},
   "source": [
    "`Creates a Dataset with a single element, comprising the given tensors.`\n",
    "\n",
    "作用：创建一个只包含给定张量的只有一个元素的数据集,类型是`tf.data.Dataset`。"
   ]
  },
  {
   "cell_type": "code",
   "execution_count": 1,
   "metadata": {
    "ExecuteTime": {
     "end_time": "2019-04-24T10:03:17.400022Z",
     "start_time": "2019-04-24T10:03:15.527942Z"
    }
   },
   "outputs": [
    {
     "name": "stdout",
     "output_type": "stream",
     "text": [
      "WARNING:tensorflow:From C:\\Anaconda3\\lib\\site-packages\\tensorflow\\python\\data\\ops\\dataset_ops.py:1419: colocate_with (from tensorflow.python.framework.ops) is deprecated and will be removed in a future version.\n",
      "Instructions for updating:\n",
      "Colocations handled automatically by placer.\n",
      "[[0.12416089 0.09588039]\n",
      " [0.9375211  0.28283274]\n",
      " [0.18138683 0.2928784 ]\n",
      " [0.19639313 0.04871416]\n",
      " [0.79644287 0.17079961]]\n"
     ]
    }
   ],
   "source": [
    "import tensorflow as tf\n",
    "\n",
    "dataset1 = tf.data.Dataset.from_tensors(tf.random_uniform([5,2]))\n",
    "# 初始化数据集\n",
    "iterator = dataset1.make_initializable_iterator()\n",
    "# 开启会话执行初始化\n",
    "sess = tf.Session()\n",
    "sess.run(iterator.initializer)\n",
    "# 构造迭代器\n",
    "x = iterator.get_next()\n",
    "for i in range(1):\n",
    "    # 输出数据集中的每条数据\n",
    "    print(sess.run(x))"
   ]
  },
  {
   "cell_type": "markdown",
   "metadata": {},
   "source": [
    "# tf.data.Dataset.from_tensor_slices(tensors)"
   ]
  },
  {
   "cell_type": "markdown",
   "metadata": {},
   "source": [
    "`Creates a Dataset whose elements are slices of the given tensors`\n",
    "\n",
    "作用：创建一个数据集，它的元素是给定张量的切片，切分是在给定张量第一个维度上进行的。比如，如果`tensors`是一个形状为(5,2)的矩阵，则切分后，形成的数据集里包含5个元素，每个元素的形状是(2,)"
   ]
  },
  {
   "cell_type": "code",
   "execution_count": 2,
   "metadata": {
    "ExecuteTime": {
     "end_time": "2019-04-24T10:03:17.447931Z",
     "start_time": "2019-04-24T10:03:17.402016Z"
    }
   },
   "outputs": [
    {
     "name": "stdout",
     "output_type": "stream",
     "text": [
      "[0.3672725 0.3676982]\n",
      "[0.13410151 0.0534898 ]\n",
      "[0.70852983 0.31331182]\n",
      "[0.53876936 0.2557286 ]\n",
      "[0.04747832 0.58369386]\n"
     ]
    }
   ],
   "source": [
    "import tensorflow as tf\n",
    "\n",
    "dataset2 = tf.data.Dataset.from_tensor_slices(tf.random_uniform([5,2]))\n",
    "# 初始化数据集\n",
    "iterator = dataset2.make_initializable_iterator()\n",
    "# 开启会话执行初始化\n",
    "sess = tf.Session()\n",
    "sess.run(iterator.initializer)\n",
    "# 构造迭代器\n",
    "x = iterator.get_next()\n",
    "for i in range(5):\n",
    "    # 输出数据集中的每条数据\n",
    "    print(sess.run(x))\n",
    "sess.close()"
   ]
  }
 ],
 "metadata": {
  "kernelspec": {
   "display_name": "Python 3",
   "language": "python",
   "name": "python3"
  },
  "language_info": {
   "codemirror_mode": {
    "name": "ipython",
    "version": 3
   },
   "file_extension": ".py",
   "mimetype": "text/x-python",
   "name": "python",
   "nbconvert_exporter": "python",
   "pygments_lexer": "ipython3",
   "version": "3.7.0"
  },
  "toc": {
   "base_numbering": 1,
   "nav_menu": {},
   "number_sections": true,
   "sideBar": true,
   "skip_h1_title": false,
   "title_cell": "Table of Contents",
   "title_sidebar": "Contents",
   "toc_cell": false,
   "toc_position": {},
   "toc_section_display": true,
   "toc_window_display": false
  },
  "varInspector": {
   "cols": {
    "lenName": 16,
    "lenType": 16,
    "lenVar": 40
   },
   "kernels_config": {
    "python": {
     "delete_cmd_postfix": "",
     "delete_cmd_prefix": "del ",
     "library": "var_list.py",
     "varRefreshCmd": "print(var_dic_list())"
    },
    "r": {
     "delete_cmd_postfix": ") ",
     "delete_cmd_prefix": "rm(",
     "library": "var_list.r",
     "varRefreshCmd": "cat(var_dic_list()) "
    }
   },
   "types_to_exclude": [
    "module",
    "function",
    "builtin_function_or_method",
    "instance",
    "_Feature"
   ],
   "window_display": false
  }
 },
 "nbformat": 4,
 "nbformat_minor": 2
}
