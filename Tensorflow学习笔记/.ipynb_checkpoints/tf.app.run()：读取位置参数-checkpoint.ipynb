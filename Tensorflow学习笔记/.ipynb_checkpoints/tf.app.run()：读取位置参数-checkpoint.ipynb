{
 "cells": [
  {
   "cell_type": "markdown",
   "metadata": {},
   "source": [
    "# 用途"
   ]
  },
  {
   "cell_type": "markdown",
   "metadata": {},
   "source": [
    "`tf.app.run(main=None,argv=None)` 的核心意思：执行`参数main`对应的函数，并解析`参数argv`对应的**命令行参数**,并将参数传递给`参数main`对应的函数，因此`参数main`对应的函数必须要设置一个参数位置，用来接收从`tf.app.run()`传递过来的参数，且该参数位置只能是一个参数，代表了一个参数列表。\n",
    "1. 参数main：默认是程序的主函数入口，即main函数；当然我们也可以指定其它名称的函数为入口函数，只需使参数main=入口函数名 即可；\n",
    "2. 参数argv：命令行参数列表，即我们的程序所需要的参数；我们不需要设置其值，它的值从命令行中解析；\n",
    "3. 传递给`参数main`对应的函数的命令行参数，是一个参数列表，其中第一个位置的参数是包含`tf.app.run()`那个程序的文件名；"
   ]
  },
  {
   "cell_type": "markdown",
   "metadata": {},
   "source": [
    "# 源码"
   ]
  },
  {
   "cell_type": "markdown",
   "metadata": {},
   "source": [
    "定义在`C:\\Anaconda3\\Lib\\site-packages\\tensorflow\\python\\platform\\app.py`"
   ]
  },
  {
   "cell_type": "markdown",
   "metadata": {},
   "source": [
    "```Python\n",
    "@tf_export(v1=['app.run'])\n",
    "def run(main=None, argv=None):\n",
    "  \"\"\"Runs the program with an optional 'main' function and 'argv' list.\"\"\"\n",
    "\n",
    "  # Define help flags.\n",
    "  _define_help_flags()\n",
    "\n",
    "  # Parse known flags.\n",
    "  argv = flags.FLAGS(_sys.argv if argv is None else argv, known_only=True)\n",
    "\n",
    "  main = main or _sys.modules['__main__'].main\n",
    "\n",
    "  # Call the main function, passing through any arguments\n",
    "  # to the final program.\n",
    "  _sys.exit(main(argv))\n",
    "\n",
    "```"
   ]
  },
  {
   "cell_type": "markdown",
   "metadata": {},
   "source": [
    "从其源码中可以看出，`tf.app.run()`会首先调用参数main对应的函数，同时接受其参数列表。如果参数main为空,则由代码`main = main or _sys.modules['__main__'].main`可知，会默认调用main函数。"
   ]
  },
  {
   "cell_type": "markdown",
   "metadata": {},
   "source": [
    "# 用法示例"
   ]
  },
  {
   "cell_type": "markdown",
   "metadata": {},
   "source": [
    "## 默认调用main函数"
   ]
  },
  {
   "cell_type": "code",
   "execution_count": 1,
   "metadata": {
    "ExecuteTime": {
     "end_time": "2019-04-23T08:40:46.979953Z",
     "start_time": "2019-04-23T08:40:46.974445Z"
    }
   },
   "outputs": [
    {
     "name": "stdout",
     "output_type": "stream",
     "text": [
      "Overwriting ./code/app_1.py\n"
     ]
    }
   ],
   "source": [
    "%%writefile ./code/app_1.py\n",
    "# _*_coding:utf-8 _*_\n",
    "\n",
    "import tensorflow as tf\n",
    "\n",
    "# 注意参数args实际上是一个参数列表\n",
    "def main(args): \n",
    "    print(args)\n",
    "\n",
    "if __name__ == '__main__':\n",
    "    tf.app.run()"
   ]
  },
  {
   "cell_type": "code",
   "execution_count": 2,
   "metadata": {
    "ExecuteTime": {
     "end_time": "2019-04-23T08:40:49.045116Z",
     "start_time": "2019-04-23T08:40:46.983930Z"
    }
   },
   "outputs": [
    {
     "name": "stdout",
     "output_type": "stream",
     "text": [
      "['./code/app_1.py', '2', '3']\n"
     ]
    }
   ],
   "source": [
    "%run ./code/app_1.py 2 3"
   ]
  },
  {
   "cell_type": "markdown",
   "metadata": {},
   "source": [
    "在上例中，实际上通过命令行输入的参数，我们具体在`main`函数中处理时，应该从`args`第2个参数开始，传递给`main`函数的第一个参数是我们的程序文件名。"
   ]
  },
  {
   "cell_type": "code",
   "execution_count": 3,
   "metadata": {
    "ExecuteTime": {
     "end_time": "2019-04-23T08:40:49.055089Z",
     "start_time": "2019-04-23T08:40:49.048106Z"
    }
   },
   "outputs": [
    {
     "name": "stdout",
     "output_type": "stream",
     "text": [
      "Overwriting ./code/app_2.py\n"
     ]
    }
   ],
   "source": [
    "%%writefile ./code/app_2.py\n",
    "# _*_coding:utf-8 _*_\n",
    "\n",
    "import tensorflow as tf\n",
    "\n",
    "def main(args):\n",
    "    print('第一个参数是: ',args[0])\n",
    "    print('第二个参数是: ',args[1])\n",
    "    print('第三个参数是：',args[2])\n",
    "\n",
    "if __name__ == '__main__':\n",
    "    tf.app.run()"
   ]
  },
  {
   "cell_type": "code",
   "execution_count": 4,
   "metadata": {
    "ExecuteTime": {
     "end_time": "2019-04-23T08:40:49.068055Z",
     "start_time": "2019-04-23T08:40:49.058081Z"
    }
   },
   "outputs": [
    {
     "name": "stdout",
     "output_type": "stream",
     "text": [
      "第一个参数是:  ./code/app_2.py\n",
      "第二个参数是:  2\n",
      "第三个参数是： 3\n"
     ]
    }
   ],
   "source": [
    "%run ./code/app_2.py 2 3"
   ]
  },
  {
   "cell_type": "markdown",
   "metadata": {},
   "source": [
    "## 调用指定的函数：这里指定test函数"
   ]
  },
  {
   "cell_type": "code",
   "execution_count": 5,
   "metadata": {
    "ExecuteTime": {
     "end_time": "2019-04-23T08:40:49.082016Z",
     "start_time": "2019-04-23T08:40:49.071046Z"
    }
   },
   "outputs": [
    {
     "name": "stdout",
     "output_type": "stream",
     "text": [
      "Overwriting ./code/app_3.py\n"
     ]
    }
   ],
   "source": [
    "%%writefile ./code/app_3.py\n",
    "# _*_coding:utf-8 _*_\n",
    "\n",
    "import tensorflow as tf\n",
    "\n",
    "def test(args):\n",
    "    print('第一个参数是: ',args[0])\n",
    "    print('第二个参数是: ',args[1])\n",
    "    print('第三个参数是：',args[2])\n",
    "\n",
    "if __name__ == '__main__':\n",
    "    tf.app.run(test)"
   ]
  },
  {
   "cell_type": "code",
   "execution_count": 6,
   "metadata": {
    "ExecuteTime": {
     "end_time": "2019-04-23T08:40:49.092987Z",
     "start_time": "2019-04-23T08:40:49.085008Z"
    }
   },
   "outputs": [
    {
     "name": "stdout",
     "output_type": "stream",
     "text": [
      "第一个参数是:  ./code/app_2.py\n",
      "第二个参数是:  2\n",
      "第三个参数是： 3\n"
     ]
    }
   ],
   "source": [
    "%run ./code/app_2.py 2 3"
   ]
  }
 ],
 "metadata": {
  "kernelspec": {
   "display_name": "Python 3",
   "language": "python",
   "name": "python3"
  },
  "language_info": {
   "codemirror_mode": {
    "name": "ipython",
    "version": 3
   },
   "file_extension": ".py",
   "mimetype": "text/x-python",
   "name": "python",
   "nbconvert_exporter": "python",
   "pygments_lexer": "ipython3",
   "version": "3.7.0"
  },
  "toc": {
   "base_numbering": 1,
   "nav_menu": {},
   "number_sections": true,
   "sideBar": true,
   "skip_h1_title": false,
   "title_cell": "Table of Contents",
   "title_sidebar": "Contents",
   "toc_cell": false,
   "toc_position": {},
   "toc_section_display": true,
   "toc_window_display": false
  },
  "varInspector": {
   "cols": {
    "lenName": 16,
    "lenType": 16,
    "lenVar": 40
   },
   "kernels_config": {
    "python": {
     "delete_cmd_postfix": "",
     "delete_cmd_prefix": "del ",
     "library": "var_list.py",
     "varRefreshCmd": "print(var_dic_list())"
    },
    "r": {
     "delete_cmd_postfix": ") ",
     "delete_cmd_prefix": "rm(",
     "library": "var_list.r",
     "varRefreshCmd": "cat(var_dic_list()) "
    }
   },
   "types_to_exclude": [
    "module",
    "function",
    "builtin_function_or_method",
    "instance",
    "_Feature"
   ],
   "window_display": false
  }
 },
 "nbformat": 4,
 "nbformat_minor": 2
}
