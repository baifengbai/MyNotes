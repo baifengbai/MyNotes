{
 "cells": [
  {
   "cell_type": "markdown",
   "metadata": {},
   "source": [
    "# 张量: Tensor"
   ]
  },
  {
   "cell_type": "markdown",
   "metadata": {},
   "source": [
    "## 含义"
   ]
  },
  {
   "cell_type": "markdown",
   "metadata": {},
   "source": [
    "正如名称所示，`TensorFlow` 这一框架定义和运行涉及张量的计算。**张量是对矢量和矩阵向潜在的更高维度的泛化**。\n",
    "\n",
    "**`TensorFlow `在内部将张量表示为基本数据类型的 n 维数组**。\n",
    "\n",
    "在编写 `TensorFlow `程序时，您操作和传递的主要对象是` tf.Tensor`。**`tf.Tensor` 对象表示一个部分定义的计算，最终会生成一个值**。 \n",
    "\n",
    "`TensorFlow `程序首先会构建一个 `tf.Tensor` 对象图，详细说明如何基于其他可用张量计算每个张量，然后运行该图的某些部分以获得期望的结果。"
   ]
  },
  {
   "cell_type": "markdown",
   "metadata": {},
   "source": [
    "## 属性：数据类型和形状"
   ]
  },
  {
   "cell_type": "markdown",
   "metadata": {},
   "source": [
    "`tf.Tensor` 具有以下属性：\n",
    "1. 数据类型（例如 float32、int32 或 string）\n",
    "2. 形状\n",
    "\n",
    "张量中的每个元素都具有相同的数据类型，且该数据类型一定是已知的。\n",
    "\n",
    "**形状，即张量的维数和每个维度的大小，可能只有部分已知**。如果其输入的形状也完全已知，则大多数操作会生成形状完全已知的张量，但在某些情况下，只能在执行图时获得张量的形状。"
   ]
  },
  {
   "cell_type": "markdown",
   "metadata": {},
   "source": [
    "## 分类"
   ]
  },
  {
   "cell_type": "markdown",
   "metadata": {},
   "source": [
    "某些类型的张量有点特殊，`TensorFlow `指南的其他部分有所介绍。**以下是主要特殊张量**：\n",
    "1. tf.Variable：变量\n",
    "2. tf.constant：常量\n",
    "3. tf.placeholder：占位符\n",
    "4. tf.SparseTensor：稀疏张量\n",
    "\n",
    "除了` tf.Variable `以外，张量的值是不变的，这意味着对于单个执行任务，张量只有一个值。然而，两次评估同一张量可能会返回不同的值；例如，该张量可能是从磁盘读取数据的结果，或是生成随机数的结果。"
   ]
  },
  {
   "cell_type": "markdown",
   "metadata": {},
   "source": [
    "# 阶"
   ]
  },
  {
   "cell_type": "markdown",
   "metadata": {},
   "source": [
    "`tf.Tensor` 对象的阶是**它本身的维数**。\n",
    "\n",
    "**阶的同义词包括：秩、等级或 n 维**。\n",
    "\n",
    "请注意，`TensorFlow` 中的阶与数学中矩阵的阶并不是同一个概念。如下表所示，`TensorFlow` 中的每个阶都对应一个不同的数学实例：\n",
    "\n",
    "|阶|数学实例|\n",
    "|:--:|:--:|\n",
    "|0|标量（只有大小）|\n",
    "|1|矢量（大小和方向）|\n",
    "|2|矩阵（数据表）|\n",
    "|3|3 阶张量（数据立体）|\n",
    "|n|n 阶张量（自行想象）|"
   ]
  },
  {
   "cell_type": "markdown",
   "metadata": {},
   "source": [
    "## 0 阶"
   ]
  },
  {
   "cell_type": "markdown",
   "metadata": {},
   "source": [
    "以下摘要演示了创建` 0 `阶变量的过程："
   ]
  },
  {
   "cell_type": "code",
   "execution_count": 1,
   "metadata": {
    "ExecuteTime": {
     "end_time": "2019-04-26T23:55:36.847091Z",
     "start_time": "2019-04-26T23:55:34.525721Z"
    }
   },
   "outputs": [
    {
     "name": "stdout",
     "output_type": "stream",
     "text": [
      "WARNING:tensorflow:From C:\\Anaconda3\\lib\\site-packages\\tensorflow\\python\\framework\\op_def_library.py:263: colocate_with (from tensorflow.python.framework.ops) is deprecated and will be removed in a future version.\n",
      "Instructions for updating:\n",
      "Colocations handled automatically by placer.\n",
      "mammal:  b'Elephant'\n",
      "ignition:  451\n",
      "floating:  3.1414592\n",
      "its_complicated:  (12.3-4.85j)\n"
     ]
    }
   ],
   "source": [
    "import tensorflow as tf\n",
    "\n",
    "mammal = tf.Variable('Elephant',tf.string)\n",
    "ignition = tf.Variable(451,tf.int16)\n",
    "floating = tf.Variable(3.141459265359,tf.float64)\n",
    "its_complicated = tf.Variable(12.3 - 4.85j,tf.complex64)\n",
    "\n",
    "sess = tf.Session()\n",
    "sess.run(tf.global_variables_initializer())\n",
    "print('mammal: ',sess.run(mammal))\n",
    "print('ignition: ',sess.run(ignition))\n",
    "print('floating: ',sess.run(floating))\n",
    "print('its_complicated: ',sess.run(its_complicated))"
   ]
  },
  {
   "cell_type": "markdown",
   "metadata": {},
   "source": [
    "注意：**字符串在 `TensorFlow` 中被视为单一项，而不是一连串字符。`TensorFlow` 可以有标量字符串，字符串矢量，等等。**"
   ]
  },
  {
   "cell_type": "markdown",
   "metadata": {},
   "source": [
    "## 1阶"
   ]
  },
  {
   "cell_type": "markdown",
   "metadata": {},
   "source": [
    "要创建` 1 `阶` tf.Tensor` 对象，您可以传递一个项目列表作为初始值。例如："
   ]
  },
  {
   "cell_type": "code",
   "execution_count": 2,
   "metadata": {
    "ExecuteTime": {
     "end_time": "2019-04-26T23:55:36.900988Z",
     "start_time": "2019-04-26T23:55:36.849087Z"
    }
   },
   "outputs": [
    {
     "name": "stdout",
     "output_type": "stream",
     "text": [
      "mystr:  [b'Hello']\n",
      "cool_numbers:  [3.14159 2.71828]\n",
      "first_primes:  [ 2  3  5  8 13]\n",
      "its_very_complicated:  [12.3-4.85j  7.5-6.23j]\n"
     ]
    }
   ],
   "source": [
    "mystr = tf.Variable(['Hello'],tf.string)\n",
    "cool_numbers = tf.Variable([3.14159,2.71828],tf.float32)\n",
    "first_primes = tf.Variable([2,3,5,8,13],tf.int32)\n",
    "its_very_complicated = tf.Variable([12.3 - 4.85j,7.5 - 6.23j],tf.complex64)\n",
    "\n",
    "sess = tf.Session()\n",
    "init = tf.global_variables_initializer()\n",
    "sess.run(init)\n",
    "print('mystr: ',sess.run(mystr))\n",
    "print('cool_numbers: ',sess.run(cool_numbers))\n",
    "print('first_primes: ',sess.run(first_primes))\n",
    "print('its_very_complicated: ',sess.run(its_very_complicated))"
   ]
  },
  {
   "cell_type": "markdown",
   "metadata": {},
   "source": [
    "## 2阶"
   ]
  },
  {
   "cell_type": "markdown",
   "metadata": {},
   "source": [
    "`2 `阶 `tf.Tensor` 对象**至少包含一行和一列**："
   ]
  },
  {
   "cell_type": "code",
   "execution_count": 3,
   "metadata": {
    "ExecuteTime": {
     "end_time": "2019-04-26T23:55:36.969764Z",
     "start_time": "2019-04-26T23:55:36.902944Z"
    }
   },
   "outputs": [
    {
     "name": "stdout",
     "output_type": "stream",
     "text": [
      "mymat: \n",
      " [[ 7]\n",
      " [11]]\n",
      "myxor: \n",
      " [[False  True]\n",
      " [ True False]]\n",
      "linear_squares: \n",
      " [[ 4]\n",
      " [ 9]\n",
      " [16]\n",
      " [25]]\n",
      "squarish_squares: \n",
      " [[ 4  9]\n",
      " [16 25]]\n",
      "rank_of_squares: \n",
      " 2\n",
      "mymatC: \n",
      " [[ 7]\n",
      " [11]]\n"
     ]
    }
   ],
   "source": [
    "mymat = tf.Variable([[7],[11]], tf.int16)\n",
    "myxor = tf.Variable([[False, True],[True, False]], tf.bool)\n",
    "linear_squares = tf.Variable([[4], [9], [16], [25]], tf.int32)\n",
    "squarish_squares = tf.Variable([ [4, 9], [16, 25] ], tf.int32)\n",
    "rank_of_squares = tf.rank(squarish_squares)\n",
    "mymatC = tf.Variable([[7],[11]], tf.int32)\n",
    "\n",
    "sess = tf.Session()\n",
    "init = tf.global_variables_initializer()\n",
    "sess.run(init)\n",
    "print('mymat: \\n',sess.run(mymat))\n",
    "print('myxor: \\n',sess.run(myxor))\n",
    "print('linear_squares: \\n',sess.run(linear_squares))\n",
    "print('squarish_squares: \\n',sess.run(squarish_squares))\n",
    "print('rank_of_squares: \\n',sess.run(rank_of_squares))\n",
    "print('mymatC: \\n',sess.run(mymatC))"
   ]
  },
  {
   "cell_type": "markdown",
   "metadata": {},
   "source": [
    "## 更高阶"
   ]
  },
  {
   "cell_type": "markdown",
   "metadata": {},
   "source": [
    "同样，**更高阶的张量由一个 `n `维数组 组成**。例如，在图像处理过程中，会使用许多 `4 `阶张量，维度对应批次大小、图像宽度、图像高度和颜色通道。"
   ]
  },
  {
   "cell_type": "code",
   "execution_count": 4,
   "metadata": {
    "ExecuteTime": {
     "end_time": "2019-04-26T23:55:36.979738Z",
     "start_time": "2019-04-26T23:55:36.972756Z"
    }
   },
   "outputs": [],
   "source": [
    "import tensorflow as tf\n",
    "\n",
    "my_image = tf.zeros([10, 299, 299, 3])  # batch x height x width x color"
   ]
  },
  {
   "cell_type": "markdown",
   "metadata": {},
   "source": [
    "## 获取tf.Tensor对象的阶"
   ]
  },
  {
   "cell_type": "markdown",
   "metadata": {},
   "source": [
    "要确定 `tf.Tensor` 对象的阶，需调用` tf.rank `方法。\n",
    "\n",
    "例如，以下方法会程序化地确定上一章节中所定义的` tf.Tensor `的阶："
   ]
  },
  {
   "cell_type": "code",
   "execution_count": 5,
   "metadata": {
    "ExecuteTime": {
     "end_time": "2019-04-26T23:55:36.997696Z",
     "start_time": "2019-04-26T23:55:36.981733Z"
    }
   },
   "outputs": [
    {
     "name": "stdout",
     "output_type": "stream",
     "text": [
      "4\n"
     ]
    }
   ],
   "source": [
    "r = tf.rank(my_image)\n",
    "sess = tf.Session()\n",
    "print(sess.run(r))"
   ]
  },
  {
   "cell_type": "markdown",
   "metadata": {},
   "source": [
    "## 引用tf.Tensor切片"
   ]
  },
  {
   "cell_type": "markdown",
   "metadata": {},
   "source": [
    "由于` tf.Tensor` 是` n `维单元数组，因此**要访问 `tf.Tensor` 中的某一单元，需要指定` n `个索引**。"
   ]
  },
  {
   "cell_type": "markdown",
   "metadata": {},
   "source": [
    "### 访问0阶张量"
   ]
  },
  {
   "cell_type": "markdown",
   "metadata": {},
   "source": [
    "`0 `阶张量（标量）**不需要索引**，因为其本身便是单一数字"
   ]
  },
  {
   "cell_type": "markdown",
   "metadata": {},
   "source": [
    "### 访问1阶张量"
   ]
  },
  {
   "cell_type": "markdown",
   "metadata": {},
   "source": [
    "对于` 1 `阶张量（矢量），可以通过**传递一个索引**访问某个数字："
   ]
  },
  {
   "cell_type": "code",
   "execution_count": 6,
   "metadata": {
    "ExecuteTime": {
     "end_time": "2019-04-26T23:55:37.026612Z",
     "start_time": "2019-04-26T23:55:37.000681Z"
    }
   },
   "outputs": [
    {
     "name": "stdout",
     "output_type": "stream",
     "text": [
      "3\n"
     ]
    }
   ],
   "source": [
    "my_vector = tf.constant([1,2,3],tf.int8)\n",
    "\n",
    "my_scalar = my_vector[2]\n",
    "\n",
    "sess = tf.Session()\n",
    "print(sess.run(my_scalar))"
   ]
  },
  {
   "cell_type": "markdown",
   "metadata": {},
   "source": [
    "### 访问2阶及以上的张量"
   ]
  },
  {
   "cell_type": "markdown",
   "metadata": {},
   "source": [
    "对于` 2 `阶及以上的张量，情况更为有趣。对于 `2 `阶` tf.Tensor`，传递两个数字会如预期般返回一个标量："
   ]
  },
  {
   "cell_type": "code",
   "execution_count": 7,
   "metadata": {
    "ExecuteTime": {
     "end_time": "2019-04-26T23:55:37.051545Z",
     "start_time": "2019-04-26T23:55:37.029604Z"
    }
   },
   "outputs": [
    {
     "name": "stdout",
     "output_type": "stream",
     "text": [
      "5\n"
     ]
    }
   ],
   "source": [
    "import tensorflow as tf\n",
    "\n",
    "my_matrix = tf.constant([[1,2,0],[2,3,5]])\n",
    "\n",
    "my_scalar = my_matrix[1,2]\n",
    "sess = tf.Session()\n",
    "print(sess.run(my_scalar))"
   ]
  },
  {
   "cell_type": "markdown",
   "metadata": {},
   "source": [
    "而**传递一个数字则会返回一个矩阵子矢量**，如下所示："
   ]
  },
  {
   "cell_type": "code",
   "execution_count": 8,
   "metadata": {
    "ExecuteTime": {
     "end_time": "2019-04-26T23:55:37.081466Z",
     "start_time": "2019-04-26T23:55:37.056533Z"
    }
   },
   "outputs": [
    {
     "name": "stdout",
     "output_type": "stream",
     "text": [
      "[2 3 5]\n",
      "[2 3]\n"
     ]
    }
   ],
   "source": [
    "my_row_vector = my_matrix[1]\n",
    "my_column_vector = my_matrix[:,1]\n",
    "\n",
    "sess = tf.Session()\n",
    "print(sess.run(my_row_vector))\n",
    "print(sess.run(my_column_vector))"
   ]
  },
  {
   "cell_type": "markdown",
   "metadata": {},
   "source": [
    "符号` :` 是 `Python` 切片语法，意味“不要触碰该维度”。这对更高阶的张量来说很有用，可以帮助访问其子矢量，子矩阵，甚至其他子张量。"
   ]
  },
  {
   "cell_type": "markdown",
   "metadata": {},
   "source": [
    "### 动态选择张量中的元素"
   ]
  },
  {
   "cell_type": "markdown",
   "metadata": {},
   "source": [
    "请注意，如果**想从矢量中动态地选择元素，那么在` [] `内传递的索引本身可以是一个标量` tf.Tensor`**。"
   ]
  },
  {
   "cell_type": "markdown",
   "metadata": {},
   "source": [
    "# 形状：shape"
   ]
  },
  {
   "cell_type": "markdown",
   "metadata": {},
   "source": [
    "**张量的形状是每个维度中元素的数量**。`TensorFlow` 在图的构建过程中自动推理形状。这些推理的形状可能具有已知或未知的阶。如果阶已知，则每个维度的大小可能已知或未知。"
   ]
  },
  {
   "cell_type": "markdown",
   "metadata": {},
   "source": [
    "## TensorFlow中：阶，形状和维数的区别"
   ]
  },
  {
   "cell_type": "markdown",
   "metadata": {},
   "source": [
    "`TensorFlow `文件编制中通过**三种符号**约定来**描述张量维度**：**阶，形状和维数**。下表阐述了三者如何相互关联：\n",
    "\n",
    "![](./image/shape.png)\n",
    "\n",
    "形状可以通过整型` Python` 列表/元组或者` tf.TensorShape` 表示。"
   ]
  },
  {
   "cell_type": "markdown",
   "metadata": {},
   "source": [
    "## 获取tf.Tensor对象的形状"
   ]
  },
  {
   "cell_type": "markdown",
   "metadata": {},
   "source": [
    "可以通过两种方法获取 `tf.Tensor`的形状。"
   ]
  },
  {
   "cell_type": "markdown",
   "metadata": {},
   "source": [
    "### 通过shape属性查看"
   ]
  },
  {
   "cell_type": "markdown",
   "metadata": {},
   "source": [
    "在构建图的时候，询问有关张量形状的已知信息通常很有帮助。可以通过查看 `shape` 属性（属于 `tf.Tensor `对象）获取这些信息。该方法会返回一个 `TensorShape` 对象，这样可以方便地表示部分指定的形状（因为在构建图的时候，并不是所有形状都完全已知）。"
   ]
  },
  {
   "cell_type": "markdown",
   "metadata": {},
   "source": [
    "### 调用tf.shape()查看"
   ]
  },
  {
   "cell_type": "markdown",
   "metadata": {},
   "source": [
    "也可以获取一个将在运行时表示另一个 `tf.Tensor` 的完全指定形状的 `tf.Tensor`。为此，可以调用` tf.shape` 操作。如此一来，您可以构建一个图，通过构建其他取决于输入` tf.Tensor `的动态形状的张量来控制张量的形状。"
   ]
  },
  {
   "cell_type": "markdown",
   "metadata": {},
   "source": [
    "### 创建大小与给定张量相同的零矢量"
   ]
  },
  {
   "cell_type": "markdown",
   "metadata": {},
   "source": [
    "例如，以下代码展示了如何创建大小 与 给定矩阵中的列数 相同的零矢量："
   ]
  },
  {
   "cell_type": "code",
   "execution_count": 9,
   "metadata": {
    "ExecuteTime": {
     "end_time": "2019-04-26T23:55:37.114377Z",
     "start_time": "2019-04-26T23:55:37.083460Z"
    }
   },
   "outputs": [
    {
     "name": "stdout",
     "output_type": "stream",
     "text": [
      "[[1 2 0]\n",
      " [2 3 5]]\n",
      "[[0. 0. 0.]\n",
      " [0. 0. 0.]]\n",
      "\n",
      "[[1 2 0]\n",
      " [2 3 5]]\n",
      "[0. 0. 0.]\n"
     ]
    }
   ],
   "source": [
    "zeros = tf.zeros(my_matrix.shape)\n",
    "\n",
    "print(sess.run(my_matrix))\n",
    "print(sess.run(zeros))\n",
    "\n",
    "print()\n",
    "\n",
    "zeros = tf.zeros(my_matrix.shape[1])\n",
    "\n",
    "print(sess.run(my_matrix))\n",
    "print(sess.run(zeros))"
   ]
  },
  {
   "cell_type": "markdown",
   "metadata": {},
   "source": [
    "## 改变形状：tf.reshape"
   ]
  },
  {
   "cell_type": "markdown",
   "metadata": {},
   "source": [
    "**张量的元素数量 是其所有形状大小的乘积。标量的元素数量永远是 1**。由于通常有许多不同的形状具有相同数量的元素，因此如果能够改变` tf.Tensor `的形状并使其元素固定不变通常会很方便。为此，可以使用` tf.reshape`。\n",
    "\n",
    "以下示例演示如何重构张量："
   ]
  },
  {
   "cell_type": "code",
   "execution_count": 10,
   "metadata": {
    "ExecuteTime": {
     "end_time": "2019-04-26T23:55:37.156266Z",
     "start_time": "2019-04-26T23:55:37.117369Z"
    }
   },
   "outputs": [
    {
     "name": "stdout",
     "output_type": "stream",
     "text": [
      "rank_three_tensor:  [[[1. 1. 1. 1. 1.]\n",
      "  [1. 1. 1. 1. 1.]\n",
      "  [1. 1. 1. 1. 1.]\n",
      "  [1. 1. 1. 1. 1.]]\n",
      "\n",
      " [[1. 1. 1. 1. 1.]\n",
      "  [1. 1. 1. 1. 1.]\n",
      "  [1. 1. 1. 1. 1.]\n",
      "  [1. 1. 1. 1. 1.]]\n",
      "\n",
      " [[1. 1. 1. 1. 1.]\n",
      "  [1. 1. 1. 1. 1.]\n",
      "  [1. 1. 1. 1. 1.]\n",
      "  [1. 1. 1. 1. 1.]]]\n",
      "\n",
      "matrix:  [[1. 1. 1. 1. 1. 1. 1. 1. 1. 1.]\n",
      " [1. 1. 1. 1. 1. 1. 1. 1. 1. 1.]\n",
      " [1. 1. 1. 1. 1. 1. 1. 1. 1. 1.]\n",
      " [1. 1. 1. 1. 1. 1. 1. 1. 1. 1.]\n",
      " [1. 1. 1. 1. 1. 1. 1. 1. 1. 1.]\n",
      " [1. 1. 1. 1. 1. 1. 1. 1. 1. 1.]]\n",
      "\n",
      "matrixB:  [[1. 1. 1. 1. 1. 1. 1. 1. 1. 1. 1. 1. 1. 1. 1. 1. 1. 1. 1. 1.]\n",
      " [1. 1. 1. 1. 1. 1. 1. 1. 1. 1. 1. 1. 1. 1. 1. 1. 1. 1. 1. 1.]\n",
      " [1. 1. 1. 1. 1. 1. 1. 1. 1. 1. 1. 1. 1. 1. 1. 1. 1. 1. 1. 1.]]\n",
      "\n",
      "matrixAlt:  [[[1. 1. 1. 1. 1.]\n",
      "  [1. 1. 1. 1. 1.]\n",
      "  [1. 1. 1. 1. 1.]]\n",
      "\n",
      " [[1. 1. 1. 1. 1.]\n",
      "  [1. 1. 1. 1. 1.]\n",
      "  [1. 1. 1. 1. 1.]]\n",
      "\n",
      " [[1. 1. 1. 1. 1.]\n",
      "  [1. 1. 1. 1. 1.]\n",
      "  [1. 1. 1. 1. 1.]]\n",
      "\n",
      " [[1. 1. 1. 1. 1.]\n",
      "  [1. 1. 1. 1. 1.]\n",
      "  [1. 1. 1. 1. 1.]]]\n"
     ]
    }
   ],
   "source": [
    "rank_three_tensor = tf.ones([3, 4, 5]) # 3阶元素全为1的张量\n",
    "\n",
    "#变为2阶张量\n",
    "matrix = tf.reshape(rank_three_tensor, [6, 10])  # Reshape existing content into\n",
    "                                                 # a 6x10 matrix\n",
    "# -1 告诉reshape，最后维度的形状大小，自动推断\n",
    "# 因为matrix总元素个数是6*10=60个\n",
    "# 第一维度的形状是3，则剩下第二维的形状是20\n",
    "matrixB = tf.reshape(matrix, [3, -1])  #  Reshape existing content into a 3x20\n",
    "                                       # matrix. -1 tells reshape to calculate\n",
    "                                       # the size of this dimension.\n",
    "        \n",
    "# 变为3阶的张量，最后一维度的形状自动推断\n",
    "matrixAlt = tf.reshape(matrixB, [4, 3, -1])  # Reshape existing content into a\n",
    "                                             #4x3x5 tensor\n",
    "\n",
    "print('rank_three_tensor: ',sess.run(rank_three_tensor))\n",
    "print()\n",
    "print('matrix: ',sess.run(matrix))\n",
    "print()\n",
    "print('matrixB: ',sess.run(matrixB))\n",
    "print()\n",
    "print('matrixAlt: ',sess.run(matrixAlt))"
   ]
  },
  {
   "cell_type": "code",
   "execution_count": 11,
   "metadata": {
    "ExecuteTime": {
     "end_time": "2019-04-26T23:55:37.164243Z",
     "start_time": "2019-04-26T23:55:37.160262Z"
    }
   },
   "outputs": [],
   "source": [
    "# Note that the number of elements of the reshaped Tensors has to match the\n",
    "# original number of elements. Therefore, the following example generates an\n",
    "# error because no possible value for the last dimension will match the number\n",
    "# of elements.\n",
    "#yet_another = tf.reshape(matrixAlt, [13, 2, -1])  # ERROR!\n",
    "\n",
    "#print('yet_another: ',sess.run(yet_another))"
   ]
  },
  {
   "cell_type": "markdown",
   "metadata": {},
   "source": [
    "# 数据类型"
   ]
  },
  {
   "cell_type": "markdown",
   "metadata": {},
   "source": [
    "**除维度外，张量还具有数据类型**。如需数据类型的完整列表，请参阅 `tf.DType `页面。\n",
    "\n",
    "一个 `tf.Tensor` 只能有一种数据类型。但是，可以将任意数据结构序列化为 `string `并将其存储在 `tf.Tensor` 中。\n",
    "**可以将` tf.Tensor` 从一种数据类型转型为另一种（通过 `tf.cast`）**："
   ]
  },
  {
   "cell_type": "code",
   "execution_count": 12,
   "metadata": {
    "ExecuteTime": {
     "end_time": "2019-04-26T23:55:37.193167Z",
     "start_time": "2019-04-26T23:55:37.167235Z"
    }
   },
   "outputs": [
    {
     "data": {
      "text/plain": [
       "array([1., 2., 3.], dtype=float32)"
      ]
     },
     "execution_count": 12,
     "metadata": {},
     "output_type": "execute_result"
    }
   ],
   "source": [
    "# Cast a constant integer tensor into floating point.\n",
    "float_tensor = tf.cast(tf.constant([1, 2, 3]), dtype=tf.float32)\n",
    "\n",
    "sess.run(float_tensor)"
   ]
  },
  {
   "cell_type": "markdown",
   "metadata": {},
   "source": [
    "要检查 `tf.Tensor `的数据类型，请使用 `Tensor.dtype` 属性。\n",
    "\n",
    "用 `python` 对象创建` tf.Tensor `时，可以选择指定数据类型。如果不指定数据类型，`TensorFlow `会选择一个可以表示您的数据的数据类型。`TensorFlow` 会将 `Python` 整数转型为` tf.int32`，并将 `python `浮点数转型为 `tf.float32`。此外，`TensorFlow` 使用` Numpy` 在转换至数组时使用的相同规则。"
   ]
  },
  {
   "cell_type": "markdown",
   "metadata": {},
   "source": [
    "# 评估张量: tensor.eval() 和 sess.run(tensor)"
   ]
  },
  {
   "cell_type": "markdown",
   "metadata": {},
   "source": [
    "计算图构建完毕后，您可以运行生成特定 `tf.Tensor` 的计算并获取分配给它的值。这对于程序调试通常很有帮助，也是 `TensorFlow `的大部分功能正常运行所必需的。"
   ]
  },
  {
   "cell_type": "markdown",
   "metadata": {},
   "source": [
    "## tensor.eval()"
   ]
  },
  {
   "cell_type": "markdown",
   "metadata": {},
   "source": [
    "评估张量最简单的方法是使用 `Tensor.eval` 方法。例如："
   ]
  },
  {
   "cell_type": "code",
   "execution_count": 13,
   "metadata": {
    "ExecuteTime": {
     "end_time": "2019-04-26T23:55:37.210121Z",
     "start_time": "2019-04-26T23:55:37.195161Z"
    }
   },
   "outputs": [
    {
     "name": "stdout",
     "output_type": "stream",
     "text": [
      "[1 4 9]\n"
     ]
    }
   ],
   "source": [
    "constant = tf.constant([1,2,3])\n",
    "tensor = constant * constant\n",
    "with tf.Session():\n",
    "    print(tensor.eval())"
   ]
  },
  {
   "cell_type": "markdown",
   "metadata": {},
   "source": [
    "`eval `方法仅在默认 `tf.Session `处于活跃状态时才起作用。\n",
    "\n",
    "`Tensor.eval` 会返回一个与张量内容相同的` NumPy `数组。\n",
    "\n",
    "有时无法在没有背景信息的情况下评估` tf.Tensor`，因为它的值可能取决于无法获取的动态信息。例如，在没有为 `placeholder `提供值的情况下，无法评估依赖于` placeholder `的张量。"
   ]
  },
  {
   "cell_type": "code",
   "execution_count": 14,
   "metadata": {
    "ExecuteTime": {
     "end_time": "2019-04-26T23:55:37.235055Z",
     "start_time": "2019-04-26T23:55:37.215109Z"
    }
   },
   "outputs": [
    {
     "name": "stdout",
     "output_type": "stream",
     "text": [
      "3.0\n"
     ]
    }
   ],
   "source": [
    "p = tf.placeholder(tf.float32)\n",
    "t = p + 1.0\n",
    "with tf.Session():\n",
    "    #t.eval()  # This will fail, since the placeholder did not get a value.\n",
    "    print(t.eval(feed_dict={p:2.0}))  # This will succeed because we're feeding a value\n",
    "                           # to the placeholder."
   ]
  },
  {
   "cell_type": "markdown",
   "metadata": {},
   "source": [
    "请注意，可以提供任何 `tf.Tensor`，而不仅仅是占位符。\n",
    "\n",
    "其他模型构造可能会使评估 `tf.Tensor `变得较为复杂。`TensorFlow` 无法直接评估在函数内部或控制流结构内部定义的 `tf.Tensor`。如果 `tf.Tensor` 取决于队列中的值，那么只有在某个项加入队列后才能评估 `tf.Tensor`；否则，评估将被搁置。在处理队列时，请先调用 `tf.train.start_queue_runners`，再评估任何 `tf.Tensor`。"
   ]
  },
  {
   "cell_type": "markdown",
   "metadata": {},
   "source": [
    "## sess.run(tensor)"
   ]
  },
  {
   "cell_type": "code",
   "execution_count": 15,
   "metadata": {
    "ExecuteTime": {
     "end_time": "2019-04-26T23:55:37.255008Z",
     "start_time": "2019-04-26T23:55:37.237050Z"
    }
   },
   "outputs": [
    {
     "name": "stdout",
     "output_type": "stream",
     "text": [
      "[1 4 9]\n"
     ]
    }
   ],
   "source": [
    "constant = tf.constant([1,2,3])\n",
    "tensor = constant * constant\n",
    "sess = tf.Session()\n",
    "print(sess.run(tensor))"
   ]
  },
  {
   "cell_type": "markdown",
   "metadata": {},
   "source": [
    "# 输出张量"
   ]
  },
  {
   "cell_type": "markdown",
   "metadata": {},
   "source": [
    "出于调试目的，您可能需要输出 `tf.Tensor` 的值。虽然 `tfdbg` 提供高级调试支持，但` TensorFlow` 也有一个操作可以直接输出` tf.Tensor` 的值。\n",
    "\n",
    "请注意，输出 `tf.Tensor` 时很少使用以下模式："
   ]
  },
  {
   "cell_type": "markdown",
   "metadata": {},
   "source": [
    "```Python\n",
    "t = <<some tensorflow operation>>\n",
    "print(t)  # This will print the symbolic tensor when the graph is being built.\n",
    "          # This tensor does not have a value in this context.\n",
    "```"
   ]
  },
  {
   "cell_type": "markdown",
   "metadata": {},
   "source": [
    "上述代码会输出` tf.Tensor `对象（表示延迟计算），而不是其值。`TensorFlow` 提供了 `tf.Print` 操作，该操作会返回其第一个张量参数（保持不变），同时输出作为第二个参数传递的 `tf.Tensor` 集合。\n",
    "\n",
    "要正确使用 `tf.Print`，必须使用其返回的值。请参阅下文的示例："
   ]
  },
  {
   "cell_type": "markdown",
   "metadata": {},
   "source": [
    "```Python\n",
    "t = <<some tensorflow operation>>\n",
    "tf.Print(t, [t])  # This does nothing\n",
    "t = tf.Print(t, [t])  # Here we are using the value returned by tf.Print\n",
    "result = t + 1  # Now when result is evaluated the value of `t` will be printed.\n",
    "```"
   ]
  },
  {
   "cell_type": "markdown",
   "metadata": {},
   "source": [
    "在评估 `result` 时，会评估所有影响` result` 的元素。由于` result `依靠 `t`，而评估 `t `会导致输出其输入（`t` 的旧值），所以系统会输出` t`。"
   ]
  }
 ],
 "metadata": {
  "kernelspec": {
   "display_name": "Python 3",
   "language": "python",
   "name": "python3"
  },
  "language_info": {
   "codemirror_mode": {
    "name": "ipython",
    "version": 3
   },
   "file_extension": ".py",
   "mimetype": "text/x-python",
   "name": "python",
   "nbconvert_exporter": "python",
   "pygments_lexer": "ipython3",
   "version": "3.7.0"
  },
  "toc": {
   "base_numbering": 1,
   "nav_menu": {},
   "number_sections": true,
   "sideBar": true,
   "skip_h1_title": false,
   "title_cell": "Table of Contents",
   "title_sidebar": "Contents",
   "toc_cell": false,
   "toc_position": {},
   "toc_section_display": true,
   "toc_window_display": false
  },
  "varInspector": {
   "cols": {
    "lenName": 16,
    "lenType": 16,
    "lenVar": 40
   },
   "kernels_config": {
    "python": {
     "delete_cmd_postfix": "",
     "delete_cmd_prefix": "del ",
     "library": "var_list.py",
     "varRefreshCmd": "print(var_dic_list())"
    },
    "r": {
     "delete_cmd_postfix": ") ",
     "delete_cmd_prefix": "rm(",
     "library": "var_list.r",
     "varRefreshCmd": "cat(var_dic_list()) "
    }
   },
   "types_to_exclude": [
    "module",
    "function",
    "builtin_function_or_method",
    "instance",
    "_Feature"
   ],
   "window_display": false
  }
 },
 "nbformat": 4,
 "nbformat_minor": 2
}
