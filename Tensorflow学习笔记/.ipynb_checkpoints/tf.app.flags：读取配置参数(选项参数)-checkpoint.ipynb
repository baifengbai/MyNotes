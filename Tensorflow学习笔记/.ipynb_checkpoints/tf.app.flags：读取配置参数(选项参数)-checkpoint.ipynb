{
 "cells": [
  {
   "cell_type": "markdown",
   "metadata": {},
   "source": [
    "很多时候在运行`Python`代码的时候，我们需要从外部定义参数，从而避免每次都需要改动代码，因此一般我们都会使用`argparse`这个库。事实上，`Tensorflow`也提供了这样的功能，那就是`tf.app.flags`。"
   ]
  },
  {
   "cell_type": "markdown",
   "metadata": {},
   "source": [
    "# 可定义的参数类型"
   ]
  },
  {
   "cell_type": "markdown",
   "metadata": {},
   "source": [
    "## 定义bool类型的参数"
   ]
  },
  {
   "cell_type": "markdown",
   "metadata": {},
   "source": [
    "`tf.app.flags.DEFINE_boolean(\"param_name\",\"default_val\",\"description\")`:\n",
    "1. 第一个参数是指参数名\n",
    "2. 第二个参数是指该参数的默认值\n",
    "3. 第三个参数是指对该参数的描述，用于理解该参数的用途"
   ]
  },
  {
   "cell_type": "markdown",
   "metadata": {},
   "source": [
    "## 定义一个整数型的参数"
   ]
  },
  {
   "cell_type": "markdown",
   "metadata": {},
   "source": [
    "`tf.app.flags.DEFINE_integer(\"param_name\",\"default_val\",\"description\")`:\n",
    "1. 第一个参数是指参数名\n",
    "2. 第二个参数是指该参数的默认值\n",
    "3. 第三个参数是指对该参数的描述，用于理解该参数的用途"
   ]
  },
  {
   "cell_type": "markdown",
   "metadata": {},
   "source": [
    "## 定义一个浮点型的参数"
   ]
  },
  {
   "cell_type": "markdown",
   "metadata": {},
   "source": [
    "`tf.app.flags.DEFINE_float(\"param_name\",\"default_val\",\"description\")`:\n",
    "1. 第一个参数是指参数名\n",
    "2. 第二个参数是指该参数的默认值\n",
    "3. 第三个参数是指对该参数的描述，用于理解该参数的用途"
   ]
  },
  {
   "cell_type": "markdown",
   "metadata": {},
   "source": [
    "## 定义一个字符串型的参数"
   ]
  },
  {
   "cell_type": "markdown",
   "metadata": {},
   "source": [
    "`tf.app.flags.DEFINE_string(\"param_name\",\"default_val\",\"description\")`:\n",
    "1. 第一个参数是指参数名\n",
    "2. 第二个参数是指该参数的默认值\n",
    "3. 第三个参数是指对该参数的描述，用于理解该参数的用途"
   ]
  },
  {
   "cell_type": "markdown",
   "metadata": {},
   "source": [
    "# 使用方法"
   ]
  },
  {
   "cell_type": "markdown",
   "metadata": {},
   "source": [
    "## 一个例子"
   ]
  },
  {
   "cell_type": "code",
   "execution_count": 1,
   "metadata": {
    "ExecuteTime": {
     "end_time": "2019-04-23T09:13:51.081778Z",
     "start_time": "2019-04-23T09:13:51.075796Z"
    }
   },
   "outputs": [
    {
     "name": "stdout",
     "output_type": "stream",
     "text": [
      "Overwriting ./code/flags.py\n"
     ]
    }
   ],
   "source": [
    "%%writefile ./code/flags.py\n",
    "# _*_coding:utf-8 _*_\n",
    "\n",
    "import tensorflow as tf\n",
    "\n",
    "flags = tf.app.flags\n",
    "FLAGS = flags.FLAGS\n",
    "\n",
    "# 定义我们的参数\n",
    "tf.app.flags.DEFINE_integer('data',10,'这是数据') # data是我们定义的参数\n",
    "tf.app.flags.DEFINE_boolean('istrain',True,'是否训练') # istrain是我们定义的参数\n",
    "\n",
    "# 定义主函数\n",
    "def main(args):\n",
    "    print('data: {}'.format(FLAGS.data))\n",
    "    print('istrain: {}'.format(FLAGS.istrain))\n",
    "    \n",
    "if __name__ == '__main__':\n",
    "    tf.app.run() # 该函数指明了，程序所需要的参数的具体值，需要从命令行中获取"
   ]
  },
  {
   "cell_type": "code",
   "execution_count": 2,
   "metadata": {
    "ExecuteTime": {
     "end_time": "2019-04-23T09:13:55.145717Z",
     "start_time": "2019-04-23T09:13:53.391203Z"
    }
   },
   "outputs": [
    {
     "name": "stdout",
     "output_type": "stream",
     "text": [
      "data: 20\n",
      "istrain: True\n"
     ]
    }
   ],
   "source": [
    "%run ./code/flags.py --data 20 --istrain False"
   ]
  },
  {
   "cell_type": "markdown",
   "metadata": {},
   "source": [
    "运行该程序，如果我们没有给定相应参数的值，则会输出我们定义的参数默认值。"
   ]
  },
  {
   "cell_type": "markdown",
   "metadata": {},
   "source": [
    "## 其实tf.app.flags定义的是选项参数"
   ]
  },
  {
   "cell_type": "markdown",
   "metadata": {},
   "source": [
    "从上面那个例子中，我们可以看出我们所定义的参数`data和istrain`都是选项参数，而位置参数，则由`tf.app.run()`传递给`main`函数,如下例子："
   ]
  },
  {
   "cell_type": "code",
   "execution_count": 3,
   "metadata": {
    "ExecuteTime": {
     "end_time": "2019-04-23T09:19:58.766115Z",
     "start_time": "2019-04-23T09:19:58.758174Z"
    }
   },
   "outputs": [
    {
     "name": "stdout",
     "output_type": "stream",
     "text": [
      "Writing ./code/flags2.py\n"
     ]
    }
   ],
   "source": [
    "%%writefile ./code/flags2.py\n",
    "# _*_coding:utf-8 _*_\n",
    "\n",
    "import tensorflow as tf\n",
    "\n",
    "flags = tf.app.flags\n",
    "FLAGS = flags.FLAGS\n",
    "\n",
    "# 定义我们的参数\n",
    "tf.app.flags.DEFINE_integer('new_data',10,'这是数据') # data是我们定义的参数\n",
    "tf.app.flags.DEFINE_boolean('new_istrain',True,'是否训练') # istrain是我们定义的参数\n",
    "\n",
    "# 定义主函数\n",
    "def main(args):\n",
    "    print('这是选项参数data: {}'.format(FLAGS.new_data))\n",
    "    print('这是选项参数istrain: {}'.format(FLAGS.new_istrain))\n",
    "    print('这是位置参数的第一个参数：',args[0])\n",
    "    print('这是位置参数的第二个参数：',args[1])\n",
    "    print('这是位置参数的第三个参数：',args[2])\n",
    "    \n",
    "if __name__ == '__main__':\n",
    "    tf.app.run() # 该函数指明了，程序所需要的参数的具体值，需要从命令行中获取"
   ]
  },
  {
   "cell_type": "code",
   "execution_count": 4,
   "metadata": {
    "ExecuteTime": {
     "end_time": "2019-04-23T09:20:02.409804Z",
     "start_time": "2019-04-23T09:20:02.401815Z"
    }
   },
   "outputs": [
    {
     "name": "stdout",
     "output_type": "stream",
     "text": [
      "这是选项参数data: 10\n",
      "这是选项参数istrain: True\n",
      "这是位置参数的第一个参数： ./code/flags2.py\n",
      "这是位置参数的第二个参数： 88\n",
      "这是位置参数的第三个参数： 99\n"
     ]
    }
   ],
   "source": [
    "%run ./code/flags2.py 88 99 --data 100 --istrain False"
   ]
  }
 ],
 "metadata": {
  "kernelspec": {
   "display_name": "Python 3",
   "language": "python",
   "name": "python3"
  },
  "language_info": {
   "codemirror_mode": {
    "name": "ipython",
    "version": 3
   },
   "file_extension": ".py",
   "mimetype": "text/x-python",
   "name": "python",
   "nbconvert_exporter": "python",
   "pygments_lexer": "ipython3",
   "version": "3.7.0"
  },
  "toc": {
   "base_numbering": 1,
   "nav_menu": {},
   "number_sections": true,
   "sideBar": true,
   "skip_h1_title": false,
   "title_cell": "Table of Contents",
   "title_sidebar": "Contents",
   "toc_cell": false,
   "toc_position": {},
   "toc_section_display": true,
   "toc_window_display": false
  },
  "varInspector": {
   "cols": {
    "lenName": 16,
    "lenType": 16,
    "lenVar": 40
   },
   "kernels_config": {
    "python": {
     "delete_cmd_postfix": "",
     "delete_cmd_prefix": "del ",
     "library": "var_list.py",
     "varRefreshCmd": "print(var_dic_list())"
    },
    "r": {
     "delete_cmd_postfix": ") ",
     "delete_cmd_prefix": "rm(",
     "library": "var_list.r",
     "varRefreshCmd": "cat(var_dic_list()) "
    }
   },
   "types_to_exclude": [
    "module",
    "function",
    "builtin_function_or_method",
    "instance",
    "_Feature"
   ],
   "window_display": false
  }
 },
 "nbformat": 4,
 "nbformat_minor": 2
}
