{
 "cells": [
  {
   "cell_type": "markdown",
   "metadata": {},
   "source": [
    "`tf.train.Saver` 类提供了**保存和恢复模型的方法**。通过 `tf.saved_model.simple_save` 函数可轻松地保存适合投入使用的模型。 `Estimator` 会自动保存和恢复 `model_dir` 中的变量。"
   ]
  },
  {
   "cell_type": "markdown",
   "metadata": {},
   "source": [
    "# 保存和恢复变量"
   ]
  },
  {
   "cell_type": "markdown",
   "metadata": {},
   "source": [
    "`TensorFlow `**变量**是表示由程序操作的共享持久状态的最佳方法。`tf.train.Saver` 构造函数会针对图中所有变量或指定列表的变量将` save` 和` restore` 操作添加到图中。`Saver `对象提供了运行这些操作的方法，并指定写入或读取检查点文件的路径。\n",
    "\n",
    "`Saver` 会恢复已经在模型中定义的所有变量。如果您在不知道如何构建图的情况下加载模型（例如，如果您要编写用于加载各种模型的通用程序），那么请阅读本文档后面的**保存和恢复模型**概述部分。\n",
    "\n",
    "`TensorFlow` 将变量保存在二进制检查点文件中，这类文件会将变量名称映射到张量值。"
   ]
  },
  {
   "cell_type": "markdown",
   "metadata": {},
   "source": [
    "## 保存变量"
   ]
  },
  {
   "cell_type": "markdown",
   "metadata": {},
   "source": [
    "创建` Saver`（使用` tf.train.Saver()`）来管理模型中的所有变量。例如，以下代码段展示了如何调用` tf.train.Saver.save `方法以将变量保存到检查点文件中："
   ]
  },
  {
   "cell_type": "code",
   "execution_count": 1,
   "metadata": {
    "ExecuteTime": {
     "end_time": "2019-04-30T02:29:42.180018Z",
     "start_time": "2019-04-30T02:29:39.993513Z"
    }
   },
   "outputs": [
    {
     "name": "stdout",
     "output_type": "stream",
     "text": [
      "WARNING:tensorflow:From C:\\Anaconda3\\lib\\site-packages\\tensorflow\\python\\framework\\op_def_library.py:263: colocate_with (from tensorflow.python.framework.ops) is deprecated and will be removed in a future version.\n",
      "Instructions for updating:\n",
      "Colocations handled automatically by placer.\n",
      "Model saved in path: ./data/model.ckpt\n"
     ]
    }
   ],
   "source": [
    "import tensorflow as tf\n",
    "\n",
    "# 创建一些变量\n",
    "v1 = tf.get_variable('v1',shape=[3],initializer=tf.zeros_initializer)\n",
    "v2 = tf.get_variable('v2',shape=[5],initializer=tf.zeros_initializer)\n",
    "\n",
    "# 添加操作\n",
    "inc_v1 = v1.assign(v1+1)\n",
    "dec_v2 = v2.assign(v2-1)\n",
    "\n",
    "# 添加操作来初始化变量\n",
    "init_op = tf.global_variables_initializer()\n",
    "\n",
    "# 添加操作来保存和恢复所有变量\n",
    "saver = tf.train.Saver()\n",
    "\n",
    "# 稍后，启动模型，初始化变量，做一些工作，并将变量保存到磁盘\n",
    "with tf.Session() as sess:\n",
    "    sess.run(init_op)\n",
    "    # 做一些事情\n",
    "    inc_v1.op.run()\n",
    "    dec_v2.op.run()\n",
    "    # 将变量保存到磁盘上\n",
    "    save_path = saver.save(sess,'./data/model.ckpt')\n",
    "    print(\"Model saved in path: %s\"%save_path)"
   ]
  },
  {
   "cell_type": "markdown",
   "metadata": {},
   "source": [
    "## 恢复变量"
   ]
  },
  {
   "cell_type": "markdown",
   "metadata": {},
   "source": [
    "`tf.train.Saver` 对象不仅将变量保存到检查点文件中，还将恢复变量。请注意，**当您恢复变量时，您不必事先将其初始化**。例如，以下代码段展示了如何调用 `tf.train.Saver.restore `方法以从检查点文件中恢复变量："
   ]
  },
  {
   "cell_type": "code",
   "execution_count": 2,
   "metadata": {
    "ExecuteTime": {
     "end_time": "2019-04-30T02:29:42.256801Z",
     "start_time": "2019-04-30T02:29:42.184996Z"
    }
   },
   "outputs": [
    {
     "name": "stdout",
     "output_type": "stream",
     "text": [
      "WARNING:tensorflow:From C:\\Anaconda3\\lib\\site-packages\\tensorflow\\python\\training\\saver.py:1266: checkpoint_exists (from tensorflow.python.training.checkpoint_management) is deprecated and will be removed in a future version.\n",
      "Instructions for updating:\n",
      "Use standard file APIs to check for files with this prefix.\n",
      "INFO:tensorflow:Restoring parameters from ./data/model.ckpt\n",
      "Model restored.\n",
      "v1: [1. 1. 1.]\n",
      "v2: [-1. -1. -1. -1. -1.]\n"
     ]
    }
   ],
   "source": [
    "tf.reset_default_graph()\n",
    "\n",
    "# 创建一些变量\n",
    "v1 = tf.get_variable('v1',shape=[3])\n",
    "v2 = tf.get_variable('v2',shape=[5])\n",
    "\n",
    "# 添加操作\n",
    "inc_v1 = v1.assign(v1+1)\n",
    "dec_v2 = v2.assign(v2-1)\n",
    "\n",
    "# 添加操作来初始化变量\n",
    "init_op = tf.global_variables_initializer()\n",
    "\n",
    "# 添加操作来保存和恢复所有变量\n",
    "saver = tf.train.Saver()\n",
    "\n",
    "# 稍后，启动模型，初始化变量，做一些工作，并将变量保存到磁盘\n",
    "with tf.Session() as sess:\n",
    "    # 从磁盘中恢复变量\n",
    "    saver.restore(sess,'./data/model.ckpt')\n",
    "    print('Model restored.')\n",
    "    # 检查变量的值\n",
    "    print('v1: %s' % v1.eval())\n",
    "    print('v2: %s' % v2.eval())"
   ]
  },
  {
   "cell_type": "markdown",
   "metadata": {},
   "source": [
    "注意：**并没有名为 `./data/model.ckpt` 的实体文件**。它是为检查点创建的文件名的前缀。用户仅与前缀（而非检查点实体文件）互动。"
   ]
  },
  {
   "cell_type": "markdown",
   "metadata": {},
   "source": [
    "## 选择要保存和恢复的变量"
   ]
  },
  {
   "cell_type": "markdown",
   "metadata": {},
   "source": [
    "如果您没有向 `tf.train.Saver()` 传递任何参数，则` Saver` 会处理图中的所有变量。每个变量都保存在创建变量时所传递的名称下。\n",
    "\n",
    "**在检查点文件中明确指定变量名称的这种做法有时会非常有用**。例如，您可能已经使用名为`\"weights\"`的变量训练了一个模型，而您想要将该变量的值恢复到名为`\"params\"`的变量中。\n",
    "\n",
    "**有时候，仅保存或恢复模型使用的变量子集也会很有裨益**。例如，您可能已经训练了一个五层的神经网络，现在您想要训练一个六层的新模型，并重用该五层的现有权重。您可以使用 `Saver` 只恢复这前五层的权重。\n",
    "\n",
    "您可以通过向` tf.train.Saver()` 构造函数传递以下任一内容，**轻松指定 要保存或加载的 名称和变量**：\n",
    "\n",
    "1. 变量列表（将以其本身的名称保存）\n",
    "2. `Python` 字典，其中，键是要使用的名称，键值是要管理的变量。\n",
    "\n",
    "继续前面所示的保存/恢复示例："
   ]
  },
  {
   "cell_type": "code",
   "execution_count": 3,
   "metadata": {
    "ExecuteTime": {
     "end_time": "2019-04-30T02:29:42.313648Z",
     "start_time": "2019-04-30T02:29:42.260790Z"
    }
   },
   "outputs": [
    {
     "name": "stdout",
     "output_type": "stream",
     "text": [
      "INFO:tensorflow:Restoring parameters from ./data/model.ckpt\n",
      "v1 : [0. 0. 0.]\n",
      "v2 : [-1. -1. -1. -1. -1.]\n"
     ]
    }
   ],
   "source": [
    "tf.reset_default_graph()\n",
    "\n",
    "# 创建一些变量\n",
    "v1 = tf.get_variable(\"v1\",[3],initializer=tf.zeros_initializer)\n",
    "v2 = tf.get_variable('v2',[5],initializer=tf.zeros_initializer)\n",
    "\n",
    "# 仅保存和恢复变量'v2'，并使用名字'v2'\n",
    "saver = tf.train.Saver({\"v2\":v2})\n",
    "\n",
    "# 然后像平时一样使用saver对象\n",
    "with tf.Session() as sess:\n",
    "    # 初始化v1 ，因为saver并不会对它初始化(由于只保存了变量v2，会初始化v2)\n",
    "    v1.initializer.run()\n",
    "    saver.restore(sess,'./data/model.ckpt')\n",
    "    \n",
    "    print(\"v1 : %s\" % v1.eval())\n",
    "    print(\"v2 : %s\" % v2.eval())"
   ]
  },
  {
   "cell_type": "markdown",
   "metadata": {},
   "source": [
    "显然，由于变量v1并没有保存，其值是其初始化后的值，而变量v2则恢复到了保存前时的值。"
   ]
  },
  {
   "cell_type": "markdown",
   "metadata": {},
   "source": [
    "注意：\n",
    "1. 如果要保存和恢复模型变量的不同子集，您可以根据需要创建任意数量的` Saver `对象。同一个变量可以列在多个` Saver `对象中，变量的值只有在` Saver.restore()` 方法运行时才会更改。\n",
    "\n",
    "\n",
    "2. 如果您在会话开始时仅恢复一部分模型变量，则必须为其他变量运行初始化操作。详情请参阅 `tf.variables_initializer`。\n",
    "\n",
    "\n",
    "3. 要检查某个检查点中的变量，您可以使用 `inspect_checkpoint` 库，尤其是` print_tensors_in_checkpoint_file` 函数。\n",
    "\n",
    "\n",
    "4. 默认情况下，`Saver `会针对每个变量使用` tf.Variable.name` 属性的值。但是，当您创建 `Saver `对象时，您可以选择为检查点文件中的变量选择名称。"
   ]
  },
  {
   "cell_type": "markdown",
   "metadata": {},
   "source": [
    "## 检查某个检查点中的变量"
   ]
  },
  {
   "cell_type": "markdown",
   "metadata": {},
   "source": [
    "我们可以使用 `inspect_checkpoint` 库**快速检查某个检查点中的变量**。\n",
    "\n",
    "继续前面所示的保存/恢复示例："
   ]
  },
  {
   "cell_type": "code",
   "execution_count": 4,
   "metadata": {
    "ExecuteTime": {
     "end_time": "2019-04-30T02:29:52.336768Z",
     "start_time": "2019-04-30T02:29:42.316640Z"
    }
   },
   "outputs": [
    {
     "name": "stderr",
     "output_type": "stream",
     "text": [
      "Exception in callback BaseAsyncIOLoop._handle_events(904, 1)\n",
      "handle: <Handle BaseAsyncIOLoop._handle_events(904, 1)>\n",
      "Traceback (most recent call last):\n",
      "  File \"C:\\Anaconda3\\lib\\asyncio\\events.py\", line 88, in _run\n",
      "    self._context.run(self._callback, *self._args)\n",
      "  File \"C:\\Anaconda3\\lib\\site-packages\\tornado\\platform\\asyncio.py\", line 122, in _handle_events\n",
      "    handler_func(fileobj, events)\n",
      "  File \"C:\\Anaconda3\\lib\\site-packages\\tornado\\stack_context.py\", line 300, in null_wrapper\n",
      "    return fn(*args, **kwargs)\n",
      "  File \"C:\\Anaconda3\\lib\\site-packages\\zmq\\eventloop\\zmqstream.py\", line 450, in _handle_events\n",
      "    self._handle_recv()\n",
      "  File \"C:\\Anaconda3\\lib\\site-packages\\zmq\\eventloop\\zmqstream.py\", line 480, in _handle_recv\n",
      "    self._run_callback(callback, msg)\n",
      "  File \"C:\\Anaconda3\\lib\\site-packages\\zmq\\eventloop\\zmqstream.py\", line 432, in _run_callback\n",
      "    callback(*args, **kwargs)\n",
      "  File \"C:\\Anaconda3\\lib\\site-packages\\tornado\\stack_context.py\", line 300, in null_wrapper\n",
      "    return fn(*args, **kwargs)\n",
      "  File \"C:\\Anaconda3\\lib\\site-packages\\ipykernel\\iostream.py\", line 120, in _handle_event\n",
      "    event_f()\n",
      "  File \"C:\\Anaconda3\\lib\\site-packages\\ipykernel\\iostream.py\", line 380, in _flush\n",
      "    parent=self.parent_header, ident=self.topic)\n",
      "  File \"C:\\Anaconda3\\lib\\site-packages\\jupyter_client\\session.py\", line 737, in send\n",
      "    to_send = self.serialize(msg, ident)\n",
      "  File \"C:\\Anaconda3\\lib\\site-packages\\jupyter_client\\session.py\", line 625, in serialize\n",
      "    content = self.pack(content)\n",
      "  File \"C:\\Anaconda3\\lib\\site-packages\\jupyter_client\\session.py\", line 103, in <lambda>\n",
      "    ensure_ascii=False, allow_nan=False,\n",
      "  File \"C:\\Anaconda3\\lib\\site-packages\\zmq\\utils\\jsonapi.py\", line 43, in dumps\n",
      "    s = s.encode('utf8')\n",
      "UnicodeEncodeError: 'utf-8' codec can't encode character '\\udcd5' in position 166: surrogates not allowed\n"
     ]
    }
   ],
   "source": [
    "# inmport the inspect_checkpoint library\n",
    "from tensorflow.python.tools import inspect_checkpoint as chkp\n",
    "\n",
    "# print all tensors in checkpoint file\n",
    "chkp.print_tensors_in_checkpoint_file(\"/data/model.ckpt\", tensor_name='', all_tensors=True)\n",
    "\n",
    "# print only tensor v1 in checkpoint file\n",
    "chkp.print_tensors_in_checkpoint_file(\"/data/model.ckpt\", tensor_name='v1', all_tensors=False)\n",
    "\n",
    "# print only tensor v2 in checkpoint file\n",
    "chkp.print_tensors_in_checkpoint_file(\"/data/model.ckpt\", tensor_name='v2', all_tensors=False)"
   ]
  },
  {
   "cell_type": "markdown",
   "metadata": {},
   "source": [
    "# 保存和恢复模型"
   ]
  },
  {
   "cell_type": "markdown",
   "metadata": {},
   "source": [
    "使用 `SavedModel` **保存和加载模型 - 变量、图和图的元数据**。`SavedModel` 是一种独立于语言且可恢复的神秘序列化格式，使较高级别的系统和工具可以创建、使用和转换` TensorFlow `模型。`TensorFlow` 提供了多种与 `SavedModel` 交互的方式，包括 `tf.saved_model` API、`tf.estimator.Estimator` 和 `命令行界面` 。"
   ]
  },
  {
   "cell_type": "markdown",
   "metadata": {},
   "source": [
    "# 构建和加载SavedModel"
   ]
  },
  {
   "cell_type": "markdown",
   "metadata": {},
   "source": [
    "## 简单保存"
   ]
  },
  {
   "cell_type": "markdown",
   "metadata": {},
   "source": [
    "创建 `SavedModel` 的最简单方法是使用 `tf.saved_model.simple_save` 函数："
   ]
  },
  {
   "cell_type": "markdown",
   "metadata": {},
   "source": [
    "```Python\n",
    "simple_save(session,\n",
    "            export_dir,\n",
    "            inputs={\"x\": x, \"y\": y},\n",
    "            outputs={\"z\": z})\n",
    "```"
   ]
  },
  {
   "cell_type": "markdown",
   "metadata": {},
   "source": [
    "这样可以配置 `SavedModel`，使其能够通过` TensorFlow Serving` 进行加载，并支持 `Predict `API。要访问 `classify `API、`regress `API 或 `multi-inference `API，请使用手动 `SavedModel builder `API 或 `tf.estimator.Estimator`。"
   ]
  },
  {
   "cell_type": "markdown",
   "metadata": {},
   "source": [
    "## 手动构建SavedModel"
   ]
  },
  {
   "cell_type": "markdown",
   "metadata": {},
   "source": [
    "如果您的用例不在 `tf.saved_model.simple_save` 涵盖范围内，请使用手动 `builder` API 创建 `SavedModel`。\n",
    "\n",
    "`tf.saved_model.builder.SavedModelBuilder` 类提供了保存多个` MetaGraphDef `的功能。`MetaGraph` 是一种数据流图，并包含相关变量、资源和签名。`MetaGraphDef` 是 `MetaGraph` 的协议缓冲区表示法。`签名` 是一组与图有关的输入和输出。\n",
    "\n",
    "如果需要将资源保存并写入或复制到磁盘，则可以在首次添加 `MetaGraphDef` 时提供这些资源。如果多个` MetaGraphDef` 与同名资源相关联，则只保留首个版本。\n",
    "\n",
    "必须使用用户指定的标签对每个添加到 `SavedModel` 的 `MetaGraphDef` 进行标注。这些标签提供了一种方法来识别要加载和恢复的特定 `MetaGraphDef`，以及共享的变量和资源子集。这些标签一般会标注 `MetaGraphDef `的功能（例如服务或训练），有时也会标注特定的硬件方面的信息（如 GPU）。\n",
    "\n",
    "例如，以下代码展示了使用` SavedModelBuilder` 构建 `SavedModel` 的典型方法："
   ]
  },
  {
   "cell_type": "markdown",
   "metadata": {},
   "source": [
    "```Python\n",
    "export_dir = ...\n",
    "...\n",
    "builder = tf.saved_model.builder.SavedModelBuilder(export_dir)\n",
    "with tf.Session(graph=tf.Graph()) as sess:\n",
    "  ...\n",
    "  builder.add_meta_graph_and_variables(sess,\n",
    "                                       [tag_constants.TRAINING],\n",
    "                                       signature_def_map=foo_signatures,\n",
    "                                       assets_collection=foo_assets,\n",
    "                                       strip_default_attrs=True)\n",
    "...\n",
    "# Add a second MetaGraphDef for inference.\n",
    "with tf.Session(graph=tf.Graph()) as sess:\n",
    "  ...\n",
    "  builder.add_meta_graph([tag_constants.SERVING], strip_default_attrs=True)\n",
    "...\n",
    "builder.save()\n",
    "```"
   ]
  },
  {
   "cell_type": "markdown",
   "metadata": {},
   "source": [
    "通过 strip_default_attrs=True 确保向前兼容性\n",
    "\n",
    "只有在操作集没有变化的情况下，遵循以下指南才能带来向前兼容性。\n",
    "\n",
    "SavedModelBuilder 类允许用户控制在将元图添加到 SavedModel 软件包时，是否必须从 NodeDefs 剥离默认值属性。\n",
    "SavedModelBuilder.add_meta_graph_and_variables 和 SavedModelBuilder.add_meta_graph 方法都接受控制此行为的布尔标记 strip_default_attrs。\n",
    "\n",
    "如果 strip_default_attrs 为 False，则导出的 tf.MetaGraphDef 将在其所有 tf.NodeDef 实例中具有设为默认值的属性。这样会破坏向前兼容性并出现一系列事件，例如：\n",
    "\n",
    "1. 现有的操作 (Foo) 会更新为在版本 101 中包含具有默认 (bool) 的新属性 (T)。\n",
    "\n",
    "2. 诸如“训练方二进制文件”之类的模型提供方将此更改（版本 101）提交给 OpDef 并重新导出使用操作 Foo 的现有模型。\n",
    "\n",
    "3. 运行较旧二进制文件（版本 100）的模型使用方（例如 Tensorflow Serving）在操作 Foo 中没有属性 T，但会尝试导入此模型。模型使用方无法在使用操作 Foo 的 NodeDef 中识别属性 T，因此无法加载模型。\n",
    "\n",
    "4. 通过将 strip_default_attrs 设置为 True，模型提供方可以剥离 NodeDefs 中任何具有默认值的属性。这有助于确保新添加的属性（具有默认值）不会导致早期的模型使用方无法加载使用较新的训练二进制文件重新生成的模型。\n",
    "\n",
    "详情请参阅兼容性指南。"
   ]
  },
  {
   "cell_type": "markdown",
   "metadata": {},
   "source": [
    "## 加载Python版SavedModel"
   ]
  },
  {
   "cell_type": "markdown",
   "metadata": {},
   "source": [
    "## 加载C++版SavedModel"
   ]
  },
  {
   "cell_type": "markdown",
   "metadata": {},
   "source": [
    "## 在TensorFlow Serving中加载和提供SavedModel"
   ]
  },
  {
   "cell_type": "markdown",
   "metadata": {},
   "source": [
    "## 标准常量"
   ]
  },
  {
   "cell_type": "markdown",
   "metadata": {},
   "source": [
    "# 搭配Estimator使用SavedModel"
   ]
  },
  {
   "cell_type": "markdown",
   "metadata": {},
   "source": [
    "## 准备提供输入"
   ]
  },
  {
   "cell_type": "markdown",
   "metadata": {},
   "source": [
    "## 指定自定义模型输出"
   ]
  },
  {
   "cell_type": "markdown",
   "metadata": {},
   "source": [
    "## 导出Estimator"
   ]
  },
  {
   "cell_type": "markdown",
   "metadata": {},
   "source": [
    "## 在本地提供导出的模型"
   ]
  },
  {
   "cell_type": "markdown",
   "metadata": {},
   "source": [
    "## 从本地服务器请求预测"
   ]
  },
  {
   "cell_type": "markdown",
   "metadata": {},
   "source": [
    "# 使用CLI检查并执行SavedModel"
   ]
  },
  {
   "cell_type": "markdown",
   "metadata": {},
   "source": [
    "## 安装SavedModel CLI"
   ]
  },
  {
   "cell_type": "markdown",
   "metadata": {},
   "source": [
    "## 命令概述"
   ]
  },
  {
   "cell_type": "markdown",
   "metadata": {},
   "source": [
    "## show命令"
   ]
  },
  {
   "cell_type": "markdown",
   "metadata": {},
   "source": [
    "## run命令"
   ]
  },
  {
   "cell_type": "markdown",
   "metadata": {},
   "source": [
    "# SavedModel 目录的结构"
   ]
  }
 ],
 "metadata": {
  "kernelspec": {
   "display_name": "Python 3",
   "language": "python",
   "name": "python3"
  },
  "language_info": {
   "codemirror_mode": {
    "name": "ipython",
    "version": 3
   },
   "file_extension": ".py",
   "mimetype": "text/x-python",
   "name": "python",
   "nbconvert_exporter": "python",
   "pygments_lexer": "ipython3",
   "version": "3.7.0"
  },
  "toc": {
   "base_numbering": 1,
   "nav_menu": {},
   "number_sections": true,
   "sideBar": true,
   "skip_h1_title": false,
   "title_cell": "Table of Contents",
   "title_sidebar": "Contents",
   "toc_cell": false,
   "toc_position": {},
   "toc_section_display": true,
   "toc_window_display": false
  },
  "varInspector": {
   "cols": {
    "lenName": 16,
    "lenType": 16,
    "lenVar": 40
   },
   "kernels_config": {
    "python": {
     "delete_cmd_postfix": "",
     "delete_cmd_prefix": "del ",
     "library": "var_list.py",
     "varRefreshCmd": "print(var_dic_list())"
    },
    "r": {
     "delete_cmd_postfix": ") ",
     "delete_cmd_prefix": "rm(",
     "library": "var_list.r",
     "varRefreshCmd": "cat(var_dic_list()) "
    }
   },
   "types_to_exclude": [
    "module",
    "function",
    "builtin_function_or_method",
    "instance",
    "_Feature"
   ],
   "window_display": false
  }
 },
 "nbformat": 4,
 "nbformat_minor": 2
}
