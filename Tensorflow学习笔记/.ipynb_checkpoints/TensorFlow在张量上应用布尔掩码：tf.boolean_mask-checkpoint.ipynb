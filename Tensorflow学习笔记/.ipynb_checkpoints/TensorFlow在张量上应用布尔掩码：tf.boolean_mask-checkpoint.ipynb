{
 "cells": [
  {
   "cell_type": "markdown",
   "metadata": {},
   "source": [
    "`tf.boolean_mask()`将输入的张量，选定指定维度的数据进行输出\n",
    "\n",
    "tf.boolean_mask(tensor,mask,name='boolean_mask',axis=None):\n",
    "\n",
    "1. 参数tensor：输入的张量，维度记为N\n",
    "2. 参数mask: 用于标记哪些维度的数据输出(True)，哪些维度的数据不输出(False)，维度记为K\n",
    "3. 参数name：操作的名字\n",
    "4. 参数axis：沿指定的轴\n",
    "\n",
    "注意：$K\\leq N$；axis是一个0维度的int型tensor，即一个整数，它表示从参数tensor的哪个axis开始mask。默认情况下，axis=0，表示从第一个维度进行mask。一般来说，0 < dim(mask)=K < dim(tensor)=N,mask的大小必须匹配参数tensor的shape的前K维度"
   ]
  },
  {
   "cell_type": "markdown",
   "metadata": {},
   "source": [
    "# 张量的维度"
   ]
  },
  {
   "cell_type": "code",
   "execution_count": 1,
   "metadata": {
    "ExecuteTime": {
     "end_time": "2019-04-17T14:16:41.976858Z",
     "start_time": "2019-04-17T14:16:39.835155Z"
    }
   },
   "outputs": [
    {
     "name": "stdout",
     "output_type": "stream",
     "text": [
      "a的结构:  Tensor(\"Const:0\", shape=(3,), dtype=int32)\n",
      "\n",
      "a:  [1 2 3]\n"
     ]
    }
   ],
   "source": [
    "import tensorflow as tf\n",
    "\n",
    "a = tf.constant([1,2,3])\n",
    "print('a的结构: ',a)\n",
    "print()\n",
    "sess = tf.Session()\n",
    "print('a: ',sess.run(a))"
   ]
  },
  {
   "cell_type": "markdown",
   "metadata": {},
   "source": [
    "a 为一维张量,维度为1"
   ]
  },
  {
   "cell_type": "code",
   "execution_count": 2,
   "metadata": {
    "ExecuteTime": {
     "end_time": "2019-04-17T14:16:41.992815Z",
     "start_time": "2019-04-17T14:16:41.979849Z"
    }
   },
   "outputs": [
    {
     "name": "stdout",
     "output_type": "stream",
     "text": [
      "b的结构:  Tensor(\"Const_1:0\", shape=(1, 3), dtype=int32)\n",
      "\n",
      "b:  [[1 2 3]]\n"
     ]
    }
   ],
   "source": [
    "b = tf.constant([[1,2,3]])\n",
    "print('b的结构: ',b)\n",
    "print()\n",
    "sess = tf.Session()\n",
    "print('b: ',sess.run(b))"
   ]
  },
  {
   "cell_type": "markdown",
   "metadata": {},
   "source": [
    "b为二维张量，维度值为(1,3)"
   ]
  },
  {
   "cell_type": "code",
   "execution_count": 3,
   "metadata": {
    "ExecuteTime": {
     "end_time": "2019-04-17T14:16:42.008778Z",
     "start_time": "2019-04-17T14:16:41.996805Z"
    }
   },
   "outputs": [
    {
     "name": "stdout",
     "output_type": "stream",
     "text": [
      "c的结构:  Tensor(\"Const_2:0\", shape=(2, 3), dtype=int32)\n",
      "\n",
      "c:  [[1 2 3]\n",
      " [4 5 6]]\n"
     ]
    }
   ],
   "source": [
    "c = tf.constant([[1,2,3],[4,5,6]])\n",
    "print('c的结构: ',c)\n",
    "print()\n",
    "sess = tf.Session()\n",
    "print('c: ',sess.run(c))"
   ]
  },
  {
   "cell_type": "markdown",
   "metadata": {},
   "source": [
    "c为二维张量，维度值为(2,3)"
   ]
  },
  {
   "cell_type": "markdown",
   "metadata": {},
   "source": [
    "# tf.boolean_mask()"
   ]
  },
  {
   "cell_type": "markdown",
   "metadata": {},
   "source": [
    "## 1-D 张量的mask"
   ]
  },
  {
   "cell_type": "code",
   "execution_count": 4,
   "metadata": {
    "ExecuteTime": {
     "end_time": "2019-04-17T14:16:42.057156Z",
     "start_time": "2019-04-17T14:16:42.015268Z"
    }
   },
   "outputs": [
    {
     "name": "stdout",
     "output_type": "stream",
     "text": [
      "[1 3]\n"
     ]
    }
   ],
   "source": [
    "a = tf.constant([1,2,3,4])\n",
    "mask = [True,False,True,False] # mask需对应a中某些元素\n",
    "sess = tf.Session()\n",
    "print(sess.run(tf.boolean_mask(a,mask)))"
   ]
  },
  {
   "cell_type": "markdown",
   "metadata": {},
   "source": [
    "## 2-D张量的mask"
   ]
  },
  {
   "cell_type": "code",
   "execution_count": 5,
   "metadata": {
    "ExecuteTime": {
     "end_time": "2019-04-17T14:16:42.099044Z",
     "start_time": "2019-04-17T14:16:42.060148Z"
    }
   },
   "outputs": [
    {
     "name": "stdout",
     "output_type": "stream",
     "text": [
      "[[1 2 3 4]\n",
      " [8 9 1 2]]\n"
     ]
    }
   ],
   "source": [
    "import tensorflow as tf\n",
    "\n",
    "b = tf.constant([[1,2,3,4],[4,5,6,7],[8,9,1,2]],dtype=tf.int32)\n",
    "mask = [True,False,True]\n",
    "sess = tf.Session()\n",
    "print(sess.run(tf.boolean_mask(b,mask)))"
   ]
  },
  {
   "cell_type": "markdown",
   "metadata": {},
   "source": [
    "## 3-D张量的mask"
   ]
  },
  {
   "cell_type": "code",
   "execution_count": 6,
   "metadata": {
    "ExecuteTime": {
     "end_time": "2019-04-17T14:16:42.115009Z",
     "start_time": "2019-04-17T14:16:42.103033Z"
    }
   },
   "outputs": [
    {
     "name": "stdout",
     "output_type": "stream",
     "text": [
      "a:  [[[-0.33846176 -0.4830055  -0.10628448]\n",
      "  [-0.27707716 -0.02307034  1.711797  ]\n",
      "  [-1.49439232  0.53137998  0.17385866]]\n",
      "\n",
      " [[-0.84534258  0.44280724 -0.39423404]\n",
      "  [-0.01508783  1.44352154  0.63948286]\n",
      "  [-0.85265869 -0.0748227  -0.00359441]]\n",
      "\n",
      " [[-0.97451997  0.63335422  1.01843759]\n",
      "  [-0.57418278  0.19962646  1.22451244]\n",
      "  [ 1.77860163 -1.15927377 -0.60151356]]]\n",
      "\n",
      "b:  [[-0.10628448  1.711797    0.53137998]\n",
      " [ 0.44280724  1.44352154 -0.00359441]\n",
      " [ 1.01843759  1.22451244  1.77860163]]\n",
      "\n",
      "mask:  [[False  True  True]\n",
      " [False  True False]\n",
      " [ True  True  True]]\n"
     ]
    }
   ],
   "source": [
    "import numpy as np\n",
    "\n",
    "a = np.random.randn(3,3,3)\n",
    "b = np.max(a,axis=-1) # 沿着最后一个维度比较\n",
    "mask = b > 0.5\n",
    "print('a: ',a)\n",
    "print()\n",
    "print('b: ',b)\n",
    "print()\n",
    "print('mask: ',mask)"
   ]
  },
  {
   "cell_type": "code",
   "execution_count": 7,
   "metadata": {
    "ExecuteTime": {
     "end_time": "2019-04-17T14:16:42.155891Z",
     "start_time": "2019-04-17T14:16:42.116996Z"
    }
   },
   "outputs": [
    {
     "name": "stdout",
     "output_type": "stream",
     "text": [
      "[[-0.27707716 -0.02307034  1.711797  ]\n",
      " [-1.49439232  0.53137998  0.17385866]\n",
      " [-0.01508783  1.44352154  0.63948286]\n",
      " [-0.97451997  0.63335422  1.01843759]\n",
      " [-0.57418278  0.19962646  1.22451244]\n",
      " [ 1.77860163 -1.15927377 -0.60151356]]\n"
     ]
    }
   ],
   "source": [
    "sess = tf.Session()\n",
    "print(sess.run(tf.boolean_mask(a,mask)))"
   ]
  },
  {
   "cell_type": "markdown",
   "metadata": {},
   "source": [
    "mask匹配参数a的前K维度,即(3,3)"
   ]
  }
 ],
 "metadata": {
  "kernelspec": {
   "display_name": "Python 3",
   "language": "python",
   "name": "python3"
  },
  "language_info": {
   "codemirror_mode": {
    "name": "ipython",
    "version": 3
   },
   "file_extension": ".py",
   "mimetype": "text/x-python",
   "name": "python",
   "nbconvert_exporter": "python",
   "pygments_lexer": "ipython3",
   "version": "3.7.0"
  },
  "toc": {
   "base_numbering": 1,
   "nav_menu": {},
   "number_sections": true,
   "sideBar": true,
   "skip_h1_title": false,
   "title_cell": "Table of Contents",
   "title_sidebar": "Contents",
   "toc_cell": false,
   "toc_position": {},
   "toc_section_display": true,
   "toc_window_display": false
  },
  "varInspector": {
   "cols": {
    "lenName": 16,
    "lenType": 16,
    "lenVar": 40
   },
   "kernels_config": {
    "python": {
     "delete_cmd_postfix": "",
     "delete_cmd_prefix": "del ",
     "library": "var_list.py",
     "varRefreshCmd": "print(var_dic_list())"
    },
    "r": {
     "delete_cmd_postfix": ") ",
     "delete_cmd_prefix": "rm(",
     "library": "var_list.r",
     "varRefreshCmd": "cat(var_dic_list()) "
    }
   },
   "types_to_exclude": [
    "module",
    "function",
    "builtin_function_or_method",
    "instance",
    "_Feature"
   ],
   "window_display": false
  }
 },
 "nbformat": 4,
 "nbformat_minor": 2
}
