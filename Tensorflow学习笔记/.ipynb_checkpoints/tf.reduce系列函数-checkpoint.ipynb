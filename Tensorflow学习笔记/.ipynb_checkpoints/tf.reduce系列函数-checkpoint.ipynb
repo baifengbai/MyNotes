{
 "cells": [
  {
   "cell_type": "markdown",
   "metadata": {},
   "source": [
    "# tf.reduce_mean"
   ]
  },
  {
   "cell_type": "markdown",
   "metadata": {},
   "source": [
    "`tf.reduce_mean()`函数用于计算张量`Tensor`沿着指定轴(tensor的某一维度)上的平均值，主要用作降维或者计算tensor的平均值.`tf.reduce_mean(input_tensor,axis=None,keep_dims=False,name=None,reduction_indices=None)`\n",
    "\n",
    "1. 参数input_tensor:输入的tensor\n",
    "2. 参数axis:指定的轴，如果不指定，则计算所有元素的均值\n",
    "3. 参数keep_dims:是否降维度。设置为True,输出的结果保持输入tensor的形状；设置为False，输出的结果会降低维度\n",
    "4. 参数name:操作的名字\n",
    "5. 参数reduction_indices:在以前版本中用来指定轴，已弃用"
   ]
  },
  {
   "cell_type": "code",
   "execution_count": 1,
   "metadata": {
    "ExecuteTime": {
     "end_time": "2019-04-17T11:11:04.263797Z",
     "start_time": "2019-04-17T11:11:02.360714Z"
    }
   },
   "outputs": [
    {
     "name": "stdout",
     "output_type": "stream",
     "text": [
      "xx:  [[1. 2. 3.]\n",
      " [1. 2. 3.]]\n"
     ]
    }
   ],
   "source": [
    "'以shape=(2,3,3)的tensor为例'\n",
    "import tensorflow as tf\n",
    "\n",
    "x = [\n",
    "    [1,2,3],\n",
    "    [1,2,3]\n",
    "]\n",
    "\n",
    "xx = tf.cast(x,tf.float32)\n",
    "sess = tf.Session()\n",
    "xx = sess.run(xx)\n",
    "print('xx: ',xx)"
   ]
  },
  {
   "cell_type": "code",
   "execution_count": 2,
   "metadata": {
    "ExecuteTime": {
     "end_time": "2019-04-17T11:11:04.291721Z",
     "start_time": "2019-04-17T11:11:04.265791Z"
    }
   },
   "outputs": [
    {
     "name": "stdout",
     "output_type": "stream",
     "text": [
      "mean_all :  2.0\n",
      "mean_0 :  [1. 2. 3.]\n",
      "mean_1 :  [2. 2.]\n"
     ]
    }
   ],
   "source": [
    "mean_all = tf.reduce_mean(xx,keep_dims=False) # xx中所有值的均值\n",
    "mean_0 = tf.reduce_mean(xx,axis=0,keep_dims=False) # 沿纵轴计算均值\n",
    "mean_1 = tf.reduce_mean(xx,axis=1,keep_dims=False) # 沿横轴计算均值\n",
    "m_a , m_0,m_1 = sess.run([mean_all,mean_0,mean_1])\n",
    "print('mean_all : ',m_a)\n",
    "print('mean_0 : ',m_0)\n",
    "print('mean_1 : ',m_1)"
   ]
  },
  {
   "cell_type": "code",
   "execution_count": 3,
   "metadata": {
    "ExecuteTime": {
     "end_time": "2019-04-17T11:11:04.324634Z",
     "start_time": "2019-04-17T11:11:04.294737Z"
    }
   },
   "outputs": [
    {
     "name": "stdout",
     "output_type": "stream",
     "text": [
      "mean_all :  [[2.]]\n",
      "mean_0 :  [[1. 2. 3.]]\n",
      "mean_1 :  [[2.]\n",
      " [2.]]\n"
     ]
    }
   ],
   "source": [
    "'设置keep_dims=True,使得结果保持原来的张量的维度'\n",
    "mean_all = tf.reduce_mean(xx,keep_dims=True) # xx中所有值的均值\n",
    "mean_0 = tf.reduce_mean(xx,axis=0,keep_dims=True) # 沿纵轴计算均值\n",
    "mean_1 = tf.reduce_mean(xx,axis=1,keep_dims=True) # 沿横轴计算均值\n",
    "m_a , m_0,m_1 = sess.run([mean_all,mean_0,mean_1])\n",
    "print('mean_all : ',m_a)\n",
    "print('mean_0 : ',m_0)\n",
    "print('mean_1 : ',m_1)"
   ]
  },
  {
   "cell_type": "markdown",
   "metadata": {},
   "source": [
    "# tf.reduce_sum"
   ]
  },
  {
   "cell_type": "markdown",
   "metadata": {},
   "source": [
    "`tf.reduce_sum()`函数用于计算张量`Tensor`沿着指定轴(tensor的某一维度)上的和，主要用作降维或者计算tensor的平和.`tf.reduce_sum(input_tensor,axis=None,keep_dims=False,name=None,reduction_indices=None)`\n",
    "\n",
    "1. 参数input_tensor:输入的tensor\n",
    "2. 参数axis:指定的轴，如果不指定，则计算所有元素的和\n",
    "3. 参数keep_dims:是否降维度。设置为True,输出的结果保持输入tensor的形状；设置为False，输出的结果会降低维度\n",
    "4. 参数name:操作的名字\n",
    "5. 参数reduction_indices:在以前版本中用来指定轴，已弃用"
   ]
  },
  {
   "cell_type": "code",
   "execution_count": 4,
   "metadata": {
    "ExecuteTime": {
     "end_time": "2019-04-17T11:11:04.356548Z",
     "start_time": "2019-04-17T11:11:04.326628Z"
    }
   },
   "outputs": [
    {
     "name": "stdout",
     "output_type": "stream",
     "text": [
      "WARNING:tensorflow:From <ipython-input-4-e5ef2a6e0063>:1: calling reduce_sum_v1 (from tensorflow.python.ops.math_ops) with keep_dims is deprecated and will be removed in a future version.\n",
      "Instructions for updating:\n",
      "keep_dims is deprecated, use keepdims instead\n",
      "mean_all :  12.0\n",
      "mean_0 :  [2. 4. 6.]\n",
      "mean_1 :  [6. 6.]\n"
     ]
    }
   ],
   "source": [
    "sum_all = tf.reduce_sum(xx,keep_dims=False) # xx中所有值的和\n",
    "sum_0 = tf.reduce_sum(xx,axis=0,keep_dims=False) # 沿纵轴计算和\n",
    "sum_1 = tf.reduce_sum(xx,axis=1,keep_dims=False) # 沿横轴计算和\n",
    "s_a,s_0,s_1 = sess.run([sum_all,sum_0,sum_1])\n",
    "print('mean_all : ',s_a)\n",
    "print('mean_0 : ',s_0)\n",
    "print('mean_1 : ',s_1)"
   ]
  },
  {
   "cell_type": "markdown",
   "metadata": {},
   "source": [
    "# tf.reduce_max"
   ]
  },
  {
   "cell_type": "markdown",
   "metadata": {},
   "source": [
    "`tf.reduce_max()`函数用于计算张量`Tensor`沿着指定轴(tensor的某一维度)上的和，主要用作降维或者计算tensor的最大值.`tf.reduce_max(input_tensor,axis=None,keep_dims=False,name=None,reduction_indices=None)`\n",
    "\n",
    "1. 参数input_tensor:输入的tensor\n",
    "2. 参数axis:指定的轴，如果不指定，则计算所有元素的最大值\n",
    "3. 参数keep_dims:是否降维度。设置为True,输出的结果保持输入tensor的形状；设置为False，输出的结果会降低维度\n",
    "4. 参数name:操作的名字\n",
    "5. 参数reduction_indices:在以前版本中用来指定轴，已弃用"
   ]
  },
  {
   "cell_type": "code",
   "execution_count": 5,
   "metadata": {
    "ExecuteTime": {
     "end_time": "2019-04-17T11:11:04.395506Z",
     "start_time": "2019-04-17T11:11:04.357545Z"
    }
   },
   "outputs": [
    {
     "name": "stdout",
     "output_type": "stream",
     "text": [
      "WARNING:tensorflow:From <ipython-input-5-81ec6fcdfe3c>:1: calling reduce_max_v1 (from tensorflow.python.ops.math_ops) with keep_dims is deprecated and will be removed in a future version.\n",
      "Instructions for updating:\n",
      "keep_dims is deprecated, use keepdims instead\n",
      "mean_all :  3.0\n",
      "mean_0 :  [1. 2. 3.]\n",
      "mean_1 :  [3. 3.]\n"
     ]
    }
   ],
   "source": [
    "max_all = tf.reduce_max(xx,keep_dims=False) # xx中所有值的最大值\n",
    "max_0 = tf.reduce_max(xx,axis=0,keep_dims=False) # 沿纵轴计算最大值\n",
    "max_1 = tf.reduce_max(xx,axis=1,keep_dims=False) # 沿横轴计算最大值\n",
    "s_a,s_0,s_1 = sess.run([max_all,max_0,max_1])\n",
    "print('mean_all : ',s_a)\n",
    "print('mean_0 : ',s_0)\n",
    "print('mean_1 : ',s_1)"
   ]
  },
  {
   "cell_type": "markdown",
   "metadata": {},
   "source": [
    "# tf.reduce_all"
   ]
  },
  {
   "cell_type": "markdown",
   "metadata": {},
   "source": [
    "`tf.reduce_all()`函数用于计算张量`Tensor`沿着指定轴(tensor的某一维度)上的各个元素的逻辑和(and运算).`tf.reduce_all(input_tensor,axis=None,keep_dims=False,name=None,reduction_indices=None)`\n",
    "\n",
    "1. 参数input_tensor:输入的tensor\n",
    "2. 参数axis:指定的轴，如果不指定，则计算所有元素的逻辑和\n",
    "3. 参数keep_dims:是否降维度。设置为True,输出的结果保持输入tensor的形状；设置为False，输出的结果会降低维度\n",
    "4. 参数name:操作的名字\n",
    "5. 参数reduction_indices:在以前版本中用来指定轴，已弃用"
   ]
  },
  {
   "cell_type": "code",
   "execution_count": 6,
   "metadata": {
    "ExecuteTime": {
     "end_time": "2019-04-17T11:11:04.413456Z",
     "start_time": "2019-04-17T11:11:04.397499Z"
    }
   },
   "outputs": [
    {
     "name": "stdout",
     "output_type": "stream",
     "text": [
      "xx:  [[1. 0. 1.]\n",
      " [1. 0. 3.]]\n"
     ]
    }
   ],
   "source": [
    "'以shape=(2,3,3)的tensor为例'\n",
    "import tensorflow as tf\n",
    "\n",
    "x = [\n",
    "    [1,0,1],\n",
    "    [1,0,3]\n",
    "]\n",
    "\n",
    "xx = tf.cast(x,tf.float32)\n",
    "sess = tf.Session()\n",
    "xx = sess.run(xx)\n",
    "print('xx: ',xx)"
   ]
  },
  {
   "cell_type": "code",
   "execution_count": 7,
   "metadata": {
    "ExecuteTime": {
     "end_time": "2019-04-17T11:11:04.447371Z",
     "start_time": "2019-04-17T11:11:04.415463Z"
    }
   },
   "outputs": [
    {
     "name": "stdout",
     "output_type": "stream",
     "text": [
      "WARNING:tensorflow:From <ipython-input-7-d6ff0c6b7adb>:1: calling reduce_all_v1 (from tensorflow.python.ops.math_ops) with keep_dims is deprecated and will be removed in a future version.\n",
      "Instructions for updating:\n",
      "keep_dims is deprecated, use keepdims instead\n",
      "mean_all :  False\n",
      "mean_0 :  [ True False  True]\n",
      "mean_1 :  [False False]\n"
     ]
    }
   ],
   "source": [
    "and_all = tf.reduce_all(xx,keep_dims=False) # xx中所有值的逻辑和\n",
    "and_0 = tf.reduce_all(xx,axis=0,keep_dims=False) # 沿纵轴计算各个元素的逻辑和\n",
    "and_1 = tf.reduce_all(xx,axis=1,keep_dims=False) # 沿横轴计算各个元素的逻辑和\n",
    "s_a,s_0,s_1 = sess.run([and_all,and_0,and_1])\n",
    "print('mean_all : ',s_a)\n",
    "print('mean_0 : ',s_0)\n",
    "print('mean_1 : ',s_1)"
   ]
  },
  {
   "cell_type": "markdown",
   "metadata": {},
   "source": [
    "# tf.reduce_any"
   ]
  },
  {
   "cell_type": "markdown",
   "metadata": {},
   "source": [
    "`tf.reduce_any()`函数用于计算张量`Tensor`沿着指定轴(tensor的某一维度)上的各个元素的逻辑或(or运算).`tf.reduce_any(input_tensor,axis=None,keep_dims=False,name=None,reduction_indices=None)`\n",
    "\n",
    "1. 参数input_tensor:输入的tensor\n",
    "2. 参数axis:指定的轴，如果不指定，则计算所有元素的逻辑或\n",
    "3. 参数keep_dims:是否降维度。设置为True,输出的结果保持输入tensor的形状；设置为False，输出的结果会降低维度\n",
    "4. 参数name:操作的名字\n",
    "5. 参数reduction_indices:在以前版本中用来指定轴，已弃用"
   ]
  },
  {
   "cell_type": "code",
   "execution_count": 8,
   "metadata": {
    "ExecuteTime": {
     "end_time": "2019-04-17T11:11:04.508711Z",
     "start_time": "2019-04-17T11:11:04.451356Z"
    }
   },
   "outputs": [
    {
     "name": "stdout",
     "output_type": "stream",
     "text": [
      "WARNING:tensorflow:From <ipython-input-8-da9340e838d6>:1: calling reduce_any_v1 (from tensorflow.python.ops.math_ops) with keep_dims is deprecated and will be removed in a future version.\n",
      "Instructions for updating:\n",
      "keep_dims is deprecated, use keepdims instead\n",
      "mean_all :  True\n",
      "mean_0 :  [ True False  True]\n",
      "mean_1 :  [ True  True]\n"
     ]
    }
   ],
   "source": [
    "any_all = tf.reduce_any(xx,keep_dims=False) # xx中所有值的逻辑和\n",
    "any_0 = tf.reduce_any(xx,axis=0,keep_dims=False) # 沿纵轴计算各个元素的逻辑和\n",
    "any_1 = tf.reduce_any(xx,axis=1,keep_dims=False) # 沿横轴计算各个元素的逻辑和\n",
    "s_a,s_0,s_1 = sess.run([any_all,any_0,any_1])\n",
    "print('mean_all : ',s_a)\n",
    "print('mean_0 : ',s_0)\n",
    "print('mean_1 : ',s_1)"
   ]
  }
 ],
 "metadata": {
  "kernelspec": {
   "display_name": "Python 3",
   "language": "python",
   "name": "python3"
  },
  "language_info": {
   "codemirror_mode": {
    "name": "ipython",
    "version": 3
   },
   "file_extension": ".py",
   "mimetype": "text/x-python",
   "name": "python",
   "nbconvert_exporter": "python",
   "pygments_lexer": "ipython3",
   "version": "3.7.0"
  },
  "toc": {
   "base_numbering": 1,
   "nav_menu": {},
   "number_sections": true,
   "sideBar": true,
   "skip_h1_title": false,
   "title_cell": "Table of Contents",
   "title_sidebar": "Contents",
   "toc_cell": false,
   "toc_position": {},
   "toc_section_display": true,
   "toc_window_display": false
  },
  "varInspector": {
   "cols": {
    "lenName": 16,
    "lenType": 16,
    "lenVar": 40
   },
   "kernels_config": {
    "python": {
     "delete_cmd_postfix": "",
     "delete_cmd_prefix": "del ",
     "library": "var_list.py",
     "varRefreshCmd": "print(var_dic_list())"
    },
    "r": {
     "delete_cmd_postfix": ") ",
     "delete_cmd_prefix": "rm(",
     "library": "var_list.r",
     "varRefreshCmd": "cat(var_dic_list()) "
    }
   },
   "types_to_exclude": [
    "module",
    "function",
    "builtin_function_or_method",
    "instance",
    "_Feature"
   ],
   "window_display": false
  }
 },
 "nbformat": 4,
 "nbformat_minor": 2
}
