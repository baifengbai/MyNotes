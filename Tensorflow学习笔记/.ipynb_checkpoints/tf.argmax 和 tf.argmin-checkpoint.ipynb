{
 "cells": [
  {
   "cell_type": "markdown",
   "metadata": {},
   "source": [
    "# tf.argmax 与 tf.arg_max"
   ]
  },
  {
   "cell_type": "markdown",
   "metadata": {},
   "source": [
    "tf.argmax(input,axis=None,name=None)\n",
    "\n",
    "1. 参数input: 输入张量\n",
    "2. 参数axis: 描述输入向量的哪个轴减少，即求这个轴对应的最大值\n",
    "3. 参数name：操作的名字\n",
    "\n",
    "返回在张量的坐标轴axis上，最大值的索引\n",
    "\n",
    "**tf.arg_max(input,dimension,name)与它效果一样**"
   ]
  },
  {
   "cell_type": "code",
   "execution_count": 1,
   "metadata": {
    "ExecuteTime": {
     "end_time": "2019-04-18T13:05:22.839841Z",
     "start_time": "2019-04-18T13:05:20.875407Z"
    }
   },
   "outputs": [
    {
     "name": "stdout",
     "output_type": "stream",
     "text": [
      "[4]\n",
      "[2 1]\n",
      "-----------------------------\n",
      "WARNING:tensorflow:From <ipython-input-1-09ece79dfc8a>:10: arg_max (from tensorflow.python.ops.gen_math_ops) is deprecated and will be removed in a future version.\n",
      "Instructions for updating:\n",
      "Use `tf.math.argmax` instead\n",
      "[4]\n",
      "[2 1]\n"
     ]
    }
   ],
   "source": [
    "import tensorflow as tf\n",
    "\n",
    "a = tf.constant([[1,3,4,5,6]])\n",
    "b = tf.constant([[1,3,4],[2,4,1]])\n",
    "\n",
    "with tf.Session() as sess:\n",
    "    print(sess.run(tf.argmax(a,axis=1))) # 沿横轴\n",
    "    print(sess.run(tf.argmax(b,axis=1)))\n",
    "    print('-----------------------------')\n",
    "    print(sess.run(tf.arg_max(a,dimension=1))) # 沿横轴\n",
    "    print(sess.run(tf.arg_max(b,dimension=1)))"
   ]
  },
  {
   "cell_type": "markdown",
   "metadata": {},
   "source": [
    "# tf.argmin 与 tf.arg_min"
   ]
  },
  {
   "cell_type": "markdown",
   "metadata": {},
   "source": [
    "tf.argmin(input,axis=None,name=None)\n",
    "\n",
    "1. 参数input: 输入张量\n",
    "2. 参数axis: 描述输入向量的哪个轴减少，即求这个轴对应的最小值\n",
    "3. 参数name：操作的名字\n",
    "\n",
    "返回在张量的坐标轴axis上，最小值的索引\n",
    "\n",
    "**tf.arg_min(input,dimension,name)与它效果一样**"
   ]
  },
  {
   "cell_type": "code",
   "execution_count": 2,
   "metadata": {
    "ExecuteTime": {
     "end_time": "2019-04-18T13:05:22.882740Z",
     "start_time": "2019-04-18T13:05:22.843826Z"
    }
   },
   "outputs": [
    {
     "name": "stdout",
     "output_type": "stream",
     "text": [
      "[0]\n",
      "[0 2]\n",
      "----------------------------\n",
      "WARNING:tensorflow:From <ipython-input-2-2fd8ffa2451b>:10: arg_min (from tensorflow.python.ops.gen_math_ops) is deprecated and will be removed in a future version.\n",
      "Instructions for updating:\n",
      "Use `tf.math.argmin` instead\n",
      "[0]\n",
      "[0 2]\n"
     ]
    }
   ],
   "source": [
    "import tensorflow as tf\n",
    "\n",
    "a = tf.constant([[1,3,4,5,6]])\n",
    "b = tf.constant([[1,3,4],[2,4,1]])\n",
    "\n",
    "with tf.Session() as sess:\n",
    "    print(sess.run(tf.argmin(a,axis=1))) # 沿横轴\n",
    "    print(sess.run(tf.argmin(b,axis=1)))\n",
    "    print('----------------------------')\n",
    "    print(sess.run(tf.arg_min(a,dimension=1))) # 沿横轴\n",
    "    print(sess.run(tf.arg_min(b,dimension=1)))"
   ]
  }
 ],
 "metadata": {
  "kernelspec": {
   "display_name": "Python 3",
   "language": "python",
   "name": "python3"
  },
  "language_info": {
   "codemirror_mode": {
    "name": "ipython",
    "version": 3
   },
   "file_extension": ".py",
   "mimetype": "text/x-python",
   "name": "python",
   "nbconvert_exporter": "python",
   "pygments_lexer": "ipython3",
   "version": "3.7.0"
  },
  "toc": {
   "base_numbering": 1,
   "nav_menu": {},
   "number_sections": true,
   "sideBar": true,
   "skip_h1_title": false,
   "title_cell": "Table of Contents",
   "title_sidebar": "Contents",
   "toc_cell": false,
   "toc_position": {},
   "toc_section_display": true,
   "toc_window_display": false
  },
  "varInspector": {
   "cols": {
    "lenName": 16,
    "lenType": 16,
    "lenVar": 40
   },
   "kernels_config": {
    "python": {
     "delete_cmd_postfix": "",
     "delete_cmd_prefix": "del ",
     "library": "var_list.py",
     "varRefreshCmd": "print(var_dic_list())"
    },
    "r": {
     "delete_cmd_postfix": ") ",
     "delete_cmd_prefix": "rm(",
     "library": "var_list.r",
     "varRefreshCmd": "cat(var_dic_list()) "
    }
   },
   "types_to_exclude": [
    "module",
    "function",
    "builtin_function_or_method",
    "instance",
    "_Feature"
   ],
   "window_display": false
  }
 },
 "nbformat": 4,
 "nbformat_minor": 2
}
