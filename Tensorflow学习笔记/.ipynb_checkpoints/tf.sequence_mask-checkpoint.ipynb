{
 "cells": [
  {
   "cell_type": "markdown",
   "metadata": {},
   "source": [
    "# tf.sequence_mask 函数"
   ]
  },
  {
   "cell_type": "markdown",
   "metadata": {},
   "source": [
    "tf.sequence_mask(lengths,maxlen=None,dtype=tf.bool,name=None)\n",
    "\n",
    "1. 参数lengths: 整数张量，其所有值小于等于maxlen\n",
    "2. 参数maxlen: 默认值是lengths中最大值\n",
    "3. 参数dtype：输出张量的类型\n",
    "4. 参数name：操作的名字\n",
    "5. 函数返回值形状为(lengths.shape,maxlen),即如果lengths的形状为$[d_{1}, d_{2}, ..., d_{n}]$,由此产生的张量mask有dtype类型和形状$[d_{1}, d_{2}, ..., d_{n}, maxlen]$\n",
    "6.返回一个表示每个单元的前N个位置的mask张量"
   ]
  },
  {
   "cell_type": "code",
   "execution_count": 1,
   "metadata": {
    "ExecuteTime": {
     "end_time": "2019-04-18T12:42:02.519120Z",
     "start_time": "2019-04-18T12:42:00.560129Z"
    }
   },
   "outputs": [
    {
     "name": "stdout",
     "output_type": "stream",
     "text": [
      "a:  [[ True False False False False]\n",
      " [ True  True  True False False]\n",
      " [ True  True False False False]]\n",
      "\n",
      "b:  [[[ True False False]\n",
      "  [ True  True  True]]\n",
      "\n",
      " [[ True  True False]\n",
      "  [False False False]]]\n"
     ]
    }
   ],
   "source": [
    "import tensorflow as tf\n",
    "\n",
    "sess = tf.Session()\n",
    "a = tf.sequence_mask([1,3,2],5)\n",
    "print('a: ',sess.run(a))\n",
    "print()\n",
    "b = tf.sequence_mask([[1,3],[2,0]])\n",
    "print('b: ',sess.run(b))\n",
    "sess.close()"
   ]
  }
 ],
 "metadata": {
  "kernelspec": {
   "display_name": "Python 3",
   "language": "python",
   "name": "python3"
  },
  "language_info": {
   "codemirror_mode": {
    "name": "ipython",
    "version": 3
   },
   "file_extension": ".py",
   "mimetype": "text/x-python",
   "name": "python",
   "nbconvert_exporter": "python",
   "pygments_lexer": "ipython3",
   "version": "3.7.0"
  },
  "toc": {
   "base_numbering": 1,
   "nav_menu": {},
   "number_sections": true,
   "sideBar": true,
   "skip_h1_title": false,
   "title_cell": "Table of Contents",
   "title_sidebar": "Contents",
   "toc_cell": false,
   "toc_position": {},
   "toc_section_display": true,
   "toc_window_display": false
  },
  "varInspector": {
   "cols": {
    "lenName": 16,
    "lenType": 16,
    "lenVar": 40
   },
   "kernels_config": {
    "python": {
     "delete_cmd_postfix": "",
     "delete_cmd_prefix": "del ",
     "library": "var_list.py",
     "varRefreshCmd": "print(var_dic_list())"
    },
    "r": {
     "delete_cmd_postfix": ") ",
     "delete_cmd_prefix": "rm(",
     "library": "var_list.r",
     "varRefreshCmd": "cat(var_dic_list()) "
    }
   },
   "types_to_exclude": [
    "module",
    "function",
    "builtin_function_or_method",
    "instance",
    "_Feature"
   ],
   "window_display": false
  }
 },
 "nbformat": 4,
 "nbformat_minor": 2
}
