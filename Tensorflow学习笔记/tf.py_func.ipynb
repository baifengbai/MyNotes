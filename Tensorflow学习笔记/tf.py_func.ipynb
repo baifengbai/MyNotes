{
 "cells": [
  {
   "cell_type": "markdown",
   "metadata": {},
   "source": [
    "# tf.py_func"
   ]
  },
  {
   "cell_type": "markdown",
   "metadata": {},
   "source": [
    "`tf.py_func(func,inp,Tout,stateful=True,name=None)`: 包装Python函数并将其用作TensorFlow的操作。\n",
    "\n",
    "给定一个Python函数func，它以numpy数组作为参数，并返回numpy数组作为输出，将该函数包装为一个TensorFlow图中的操作。\n",
    "1. func：我们定义的Python函数，它以inp作为输入\n",
    "2. inp: 一个tensor对象列表\n",
    "3. Tout: 一个TensorFlow数据类型的列表或元组，或是一个单独的TensorFlow数据类型，指明函数func返回的数据类型及其形状\n",
    "\n",
    "下面的代码构造了一个简单的TensorFlow图，它调用np.sinh()numpy函数作为图中的操作："
   ]
  },
  {
   "cell_type": "code",
   "execution_count": 1,
   "metadata": {
    "ExecuteTime": {
     "end_time": "2019-04-25T11:52:04.514138Z",
     "start_time": "2019-04-25T11:52:02.780282Z"
    }
   },
   "outputs": [
    {
     "name": "stdout",
     "output_type": "stream",
     "text": [
      "WARNING:tensorflow:From <ipython-input-1-0e0d9e3143df>:9: py_func (from tensorflow.python.ops.script_ops) is deprecated and will be removed in a future version.\n",
      "Instructions for updating:\n",
      "tf.py_func is deprecated in TF V2. Instead, use\n",
      "    tf.py_function, which takes a python function which manipulates tf eager\n",
      "    tensors instead of numpy arrays. It's easy to convert a tf eager tensor to\n",
      "    an ndarray (just call tensor.numpy()) but having access to eager tensors\n",
      "    means `tf.py_function`s can use accelerators such as GPUs as well as\n",
      "    being differentiable using a gradient tape.\n",
      "    \n",
      "[ 1.1752012  3.6268604 10.017875 ]\n",
      "\n",
      "[[  1.1752012   3.6268604  10.017875 ]\n",
      " [ 27.289917   74.20321   201.71315  ]]\n",
      "\n",
      "[[[1.1752012e+00 3.6268604e+00 1.0017875e+01]\n",
      "  [2.7289917e+01 7.4203209e+01 2.0171315e+02]]\n",
      "\n",
      " [[5.4831610e+02 1.4904789e+03 4.0515420e+03]\n",
      "  [1.1752012e+00 3.6268604e+00 1.0017875e+01]]]\n"
     ]
    }
   ],
   "source": [
    "import tensorflow as tf\n",
    "import numpy as np\n",
    "\n",
    "def my_func(x):\n",
    "    # x 是一个numpy数组，其包含以下占位符的内容\n",
    "    return np.sinh(x)\n",
    "\n",
    "input = tf.placeholder(tf.float32)\n",
    "y = tf.py_func(my_func,[input],tf.float32)\n",
    "\n",
    "sess = tf.Session()\n",
    "print(sess.run(y,feed_dict={input:np.array([1,2,3])})) # 一维数组\n",
    "print()\n",
    "print(sess.run(y,feed_dict={input:np.array([[1,2,3],[4,5,6]])})) # 二维数组\n",
    "print()\n",
    "print(sess.run(y,feed_dict={input:np.array([[[1,2,3],[4,5,6]],[[7,8,9],[1,2,3]]])})) # 三维数组\n",
    "sess.close()"
   ]
  }
 ],
 "metadata": {
  "kernelspec": {
   "display_name": "Python 3",
   "language": "python",
   "name": "python3"
  },
  "language_info": {
   "codemirror_mode": {
    "name": "ipython",
    "version": 3
   },
   "file_extension": ".py",
   "mimetype": "text/x-python",
   "name": "python",
   "nbconvert_exporter": "python",
   "pygments_lexer": "ipython3",
   "version": "3.7.0"
  },
  "toc": {
   "base_numbering": 1,
   "nav_menu": {},
   "number_sections": true,
   "sideBar": true,
   "skip_h1_title": false,
   "title_cell": "Table of Contents",
   "title_sidebar": "Contents",
   "toc_cell": false,
   "toc_position": {},
   "toc_section_display": true,
   "toc_window_display": false
  },
  "varInspector": {
   "cols": {
    "lenName": 16,
    "lenType": 16,
    "lenVar": 40
   },
   "kernels_config": {
    "python": {
     "delete_cmd_postfix": "",
     "delete_cmd_prefix": "del ",
     "library": "var_list.py",
     "varRefreshCmd": "print(var_dic_list())"
    },
    "r": {
     "delete_cmd_postfix": ") ",
     "delete_cmd_prefix": "rm(",
     "library": "var_list.r",
     "varRefreshCmd": "cat(var_dic_list()) "
    }
   },
   "types_to_exclude": [
    "module",
    "function",
    "builtin_function_or_method",
    "instance",
    "_Feature"
   ],
   "window_display": false
  }
 },
 "nbformat": 4,
 "nbformat_minor": 2
}
