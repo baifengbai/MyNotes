{
 "cells": [
  {
   "cell_type": "markdown",
   "metadata": {},
   "source": [
    "# 简介"
   ]
  },
  {
   "cell_type": "markdown",
   "metadata": {},
   "source": [
    "本指南旨在指导您使用低级别` TensorFlow API `(`TensorFlow Core`) 开始编程。您可以学习执行以下操作：\n",
    "1. 管理您自己的 `TensorFlow` 程序 (`tf.Graph`) 和` TensorFlow `运行时 (`tf.Session`)，而不是依靠 `Estimator` 来管理它们\n",
    "2. 使用 `tf.Session` 运行 `TensorFlow` 操作\n",
    "3. 在此低级别环境中使用高级别组件（`数据集`、`层`和` feature_columns`）\n",
    "4. 构建自己的训练循环，而不是使用` Estimator` 提供的训练循环\n",
    "\n",
    "\n",
    "我们建议尽可能使用更高阶的` API` 构建模型。以下是 `TensorFlow Core` 为何很重要的原因：\n",
    "1. 如果您能够直接使用低阶 `TensorFlow` 操作，实验和调试都会更直接\n",
    "2. 在使用更高阶的` API` 时，能够理解其内部工作原理"
   ]
  },
  {
   "cell_type": "markdown",
   "metadata": {},
   "source": [
    "# 设置"
   ]
  },
  {
   "cell_type": "markdown",
   "metadata": {},
   "source": [
    "要充分理解本指南中的内容，您应当具备以下方面的知识：\n",
    "1. 如何使用 Python 编程\n",
    "2. 对阵列有所了解\n",
    "3. 理想情况下，最好对机器学习有一定的了解\n",
    "\n",
    "您随时可以启动` python`，并按照以下演示进行操作。运行以下行来设置您的` Python `环境："
   ]
  },
  {
   "cell_type": "code",
   "execution_count": 1,
   "metadata": {
    "ExecuteTime": {
     "end_time": "2019-04-26T11:33:33.373811Z",
     "start_time": "2019-04-26T11:33:33.369815Z"
    }
   },
   "outputs": [],
   "source": [
    "from __future__ import absolute_import"
   ]
  },
  {
   "cell_type": "markdown",
   "metadata": {},
   "source": [
    "绝对引入，即不在当前目录搜寻模块，而是直接从系统路径中搜寻相应的模块。"
   ]
  },
  {
   "cell_type": "code",
   "execution_count": 2,
   "metadata": {
    "ExecuteTime": {
     "end_time": "2019-04-26T11:33:33.383777Z",
     "start_time": "2019-04-26T11:33:33.380784Z"
    }
   },
   "outputs": [],
   "source": [
    "from __future__ import division"
   ]
  },
  {
   "cell_type": "markdown",
   "metadata": {},
   "source": [
    "在python2中，3/2 = 1，而如果我们想使用python3中的除法，则需要导入该语句，它使得3/2 = 1.5"
   ]
  },
  {
   "cell_type": "code",
   "execution_count": 3,
   "metadata": {
    "ExecuteTime": {
     "end_time": "2019-04-26T11:33:33.393749Z",
     "start_time": "2019-04-26T11:33:33.389760Z"
    }
   },
   "outputs": [],
   "source": [
    "from __future__ import print_function"
   ]
  },
  {
   "cell_type": "markdown",
   "metadata": {},
   "source": [
    "在python2中使用python3的print函数。"
   ]
  },
  {
   "cell_type": "markdown",
   "metadata": {},
   "source": [
    "# 张量值"
   ]
  },
  {
   "cell_type": "markdown",
   "metadata": {},
   "source": [
    "`TensorFlow `中的核心数据单位是**张量**。一个张量由一组形成阵列（任意维数）的原始值组成。**张量的阶**是它的维数，而**它的形状**是一个**整数元组，指定了阵列每个维度的长度**。以下是张量值的一些示例："
   ]
  },
  {
   "cell_type": "markdown",
   "metadata": {},
   "source": [
    "```Python\n",
    "3. # a rank 0 tensor; a scalar with shape [],       0阶张量，形状是[]\n",
    "[1., 2., 3.] # a rank 1 tensor; a vector with shape [3]  1阶张量，形状是[3]\n",
    "[[1., 2., 3.], [4., 5., 6.]] # a rank 2 tensor; a matrix with shape [2, 3]  2阶张量，形状是[2,3]\n",
    "[[[1., 2., 3.]], [[7., 8., 9.]]] # a rank 3 tensor with shape [2, 1, 3]  3阶张量，形状是[2,1,3]\n",
    "```"
   ]
  },
  {
   "cell_type": "markdown",
   "metadata": {},
   "source": [
    "TensorFlow 使用 numpy 阵列来表示张量**值**"
   ]
  },
  {
   "cell_type": "markdown",
   "metadata": {},
   "source": [
    "# TensorFlow Core 演示"
   ]
  },
  {
   "cell_type": "markdown",
   "metadata": {},
   "source": [
    "您可以将 `TensorFlow Core` 程序看作由**两个互相独立的部分**组成：\n",
    "1. 构建计算图 (`tf.Graph`)\n",
    "2. 运行计算图（使用 `tf.Session`）"
   ]
  },
  {
   "cell_type": "markdown",
   "metadata": {},
   "source": [
    "## 图"
   ]
  },
  {
   "cell_type": "markdown",
   "metadata": {},
   "source": [
    "**计算图**是排列成一个图的一系列 `TensorFlow `指令。图由**两种类型的对象**组成:\n",
    "\n",
    "1. 操作（简称“op”）：图的节点。操作描述了消耗和生成张量的计算\n",
    "2. 张量：图的边。它们代表将流经图的值。大多数` TensorFlow` 函数会返回 `tf.Tensors`\n",
    "\n",
    "<font color='red'>重要提示：`tf.Tensors` 不具有值，它们只是计算图中元素的手柄</font>"
   ]
  },
  {
   "cell_type": "markdown",
   "metadata": {},
   "source": [
    "我们来构建一个简单的计算图。\n",
    "\n",
    "最基本的指令是一个常量。构建指令的` Python `函数将一个张量值作为输入值。生成的指令不需要输入值。它在运行时输出的是被传递给构造函数的值。我们可以创建如下所示的两个浮点数常量` a` 和 `b`："
   ]
  },
  {
   "cell_type": "code",
   "execution_count": 4,
   "metadata": {
    "ExecuteTime": {
     "end_time": "2019-04-26T11:33:36.199250Z",
     "start_time": "2019-04-26T11:33:33.403723Z"
    }
   },
   "outputs": [
    {
     "name": "stdout",
     "output_type": "stream",
     "text": [
      "Tensor(\"Const:0\", shape=(), dtype=float32)\n",
      "Tensor(\"Const_1:0\", shape=(), dtype=float32)\n",
      "Tensor(\"add:0\", shape=(), dtype=float32)\n"
     ]
    }
   ],
   "source": [
    "import tensorflow as tf\n",
    "\n",
    "a = tf.constant(3.0,dtype=tf.float32)\n",
    "b = tf.constant(4.0) # also tf.float32\n",
    "total = a + b\n",
    "print(a)\n",
    "print(b)\n",
    "print(total)"
   ]
  },
  {
   "cell_type": "markdown",
   "metadata": {},
   "source": [
    "请注意，打印张量并不会如您可能预期的那样输出值 3.0、4.0 和 7.0。上述语句只会构建计算图。这些 `tf.Tensor `对象仅代表将要运行的操作的结果。\n",
    "\n",
    "图中的每个指令都拥有唯一的名称。这个名称不同于使用 `Python `分配给相应对象的名称。**张量是根据生成它们的指令命名的，后面跟着输出索引**，如上文的 \"add:0\" 所示。"
   ]
  },
  {
   "cell_type": "markdown",
   "metadata": {},
   "source": [
    "## TensorBoard"
   ]
  },
  {
   "cell_type": "markdown",
   "metadata": {},
   "source": [
    "`TensorFlow `提供了一个名为` TensorBoard `的实用程序。`TensorBoard` 的诸多功能之一是**将计算图可视化**。您只需要使用几个简单的命令就能轻松完成此操作。"
   ]
  },
  {
   "cell_type": "markdown",
   "metadata": {},
   "source": [
    "### 将计算图保存为摘要文件"
   ]
  },
  {
   "cell_type": "markdown",
   "metadata": {},
   "source": [
    "首先将计算图保存为 `TensorBoard `摘要文件，具体操作如下所示："
   ]
  },
  {
   "cell_type": "code",
   "execution_count": 5,
   "metadata": {
    "ExecuteTime": {
     "end_time": "2019-04-26T11:33:36.394726Z",
     "start_time": "2019-04-26T11:33:36.201245Z"
    }
   },
   "outputs": [],
   "source": [
    "writer = tf.summary.FileWriter('./code/')\n",
    "writer.add_graph(tf.get_default_graph())"
   ]
  },
  {
   "cell_type": "markdown",
   "metadata": {},
   "source": [
    "这将在当前目录中生成一个`event`文件，其名称格式如下：\n",
    "`events.out.tfevents.{timestamp}.{hostname}`"
   ]
  },
  {
   "cell_type": "markdown",
   "metadata": {},
   "source": [
    "### 在shell终端启动TensorBoard"
   ]
  },
  {
   "cell_type": "markdown",
   "metadata": {},
   "source": [
    "```Python\n",
    "tensorboard --logdir .\n",
    "```"
   ]
  },
  {
   "cell_type": "markdown",
   "metadata": {},
   "source": [
    "## 会话(Session)"
   ]
  },
  {
   "cell_type": "markdown",
   "metadata": {},
   "source": [
    "要评估张量，需要实例化一个 `tf.Session` 对象（非正式名称为会话）。会话会封装` TensorFlow` 运行时的状态，并运行 `TensorFlow `操作。**如果说` tf.Graph` 像一个 `.py` 文件，那么 `tf.Session` 就像一个 `python` 可执行对象**。"
   ]
  },
  {
   "cell_type": "markdown",
   "metadata": {},
   "source": [
    "### 创建会话，并传递一个张量"
   ]
  },
  {
   "cell_type": "markdown",
   "metadata": {},
   "source": [
    "下面的代码会创建一个` tf.Session `对象，然后调用其 `run `方法来评估我们在上文中创建的 `total `张量："
   ]
  },
  {
   "cell_type": "code",
   "execution_count": 6,
   "metadata": {
    "ExecuteTime": {
     "end_time": "2019-04-26T11:33:36.424647Z",
     "start_time": "2019-04-26T11:33:36.396722Z"
    }
   },
   "outputs": [
    {
     "name": "stdout",
     "output_type": "stream",
     "text": [
      "7.0\n"
     ]
    }
   ],
   "source": [
    "sess = tf.Session()\n",
    "print(sess.run(total))"
   ]
  },
  {
   "cell_type": "markdown",
   "metadata": {},
   "source": [
    "当您使用 `Session.run `请求输出节点时，`TensorFlow` 会回溯整个图，并流经 提供了所请求的 输出节点对应的输入值的所有节点。因此此指令会打印预期的值 7.0："
   ]
  },
  {
   "cell_type": "markdown",
   "metadata": {},
   "source": [
    "### 将多个张量传递给会话"
   ]
  },
  {
   "cell_type": "markdown",
   "metadata": {},
   "source": [
    "您可以将多个张量传递给` tf.Session.run`。`run` 方法以透明方式处理**元组或字典的任何组合**，如下例所示："
   ]
  },
  {
   "cell_type": "code",
   "execution_count": 7,
   "metadata": {
    "ExecuteTime": {
     "end_time": "2019-04-26T11:33:36.436652Z",
     "start_time": "2019-04-26T11:33:36.427640Z"
    }
   },
   "outputs": [
    {
     "name": "stdout",
     "output_type": "stream",
     "text": [
      "{'ab': (3.0, 4.0), 'total': 7.0}\n"
     ]
    }
   ],
   "source": [
    "print(sess.run({'ab':(a,b),'total':total}))"
   ]
  },
  {
   "cell_type": "markdown",
   "metadata": {},
   "source": [
    "它返回的结果拥有相同的布局结构。"
   ]
  },
  {
   "cell_type": "markdown",
   "metadata": {},
   "source": [
    "在调用 `tf.Session.run` 期间，任何 `tf.Tensor `都只有**单个值**。例如，以下代码调用 `tf.random_uniform `来生成一个 `tf.Tensor`，后者会生成随机的**三元素矢量（值位于 \\[0,1) 区间内）**："
   ]
  },
  {
   "cell_type": "code",
   "execution_count": 8,
   "metadata": {
    "ExecuteTime": {
     "end_time": "2019-04-26T11:33:36.462546Z",
     "start_time": "2019-04-26T11:33:36.438610Z"
    }
   },
   "outputs": [
    {
     "name": "stdout",
     "output_type": "stream",
     "text": [
      "[0.18239975 0.8381349  0.51726115]\n",
      "[0.09218693 0.6186353  0.62429035]\n",
      "(array([1.6016812, 1.4864638, 1.2159048], dtype=float32), array([2.6016812, 2.4864638, 2.2159047], dtype=float32))\n"
     ]
    }
   ],
   "source": [
    "vec = tf.random_uniform(shape=(3,))\n",
    "out1 = vec + 1\n",
    "out2 = vec + 2\n",
    "print(sess.run(vec))\n",
    "print(sess.run(vec))\n",
    "print(sess.run((out1,out2)))"
   ]
  },
  {
   "cell_type": "markdown",
   "metadata": {},
   "source": [
    "每次调用 `run `时，结果都会显示不同的随机值，但在单个` run` 期间（`out1` 和` out2 `接收到相同的随机输入值），结果显示的值是一致的。\n",
    "\n",
    "部分 `TensorFlow` 函数会返回 `tf.Operations`，而不是` tf.Tensors`。对指令调用` run `的结果是` None`。您运行指令是为了产生副作用，而不是为了检索一个值。这方面的例子包括稍后将演示的初始化和训练操作。"
   ]
  },
  {
   "cell_type": "markdown",
   "metadata": {},
   "source": [
    "## 供给：占位符和feed_dict"
   ]
  },
  {
   "cell_type": "markdown",
   "metadata": {},
   "source": [
    "目前来讲，这个图不是特别有趣，因为它总是生成一个常量结果。**图可以参数化以便接受外部输入，也称为占位符。占位符表示承诺在稍后提供值，它就像函数参数**。"
   ]
  },
  {
   "cell_type": "code",
   "execution_count": 9,
   "metadata": {
    "ExecuteTime": {
     "end_time": "2019-04-26T11:33:36.472523Z",
     "start_time": "2019-04-26T11:33:36.464541Z"
    }
   },
   "outputs": [],
   "source": [
    "x = tf.placeholder(tf.float32)\n",
    "y = tf.placeholder(tf.float32)\n",
    "z = x + y"
   ]
  },
  {
   "cell_type": "markdown",
   "metadata": {},
   "source": [
    "前面三行有点像函数。我们定义了这个函数的两个输入参数（`x` 和` y`），然后对它们运行指令。我们可以使用 `run` 方法的 `feed_dict` 参数为**占位符提供具体的值**，从而评估这个具有多个输入的图："
   ]
  },
  {
   "cell_type": "code",
   "execution_count": 10,
   "metadata": {
    "ExecuteTime": {
     "end_time": "2019-04-26T11:33:36.486482Z",
     "start_time": "2019-04-26T11:33:36.475516Z"
    }
   },
   "outputs": [
    {
     "name": "stdout",
     "output_type": "stream",
     "text": [
      "7.5\n",
      "[3. 7.]\n"
     ]
    }
   ],
   "source": [
    "print(sess.run(z,feed_dict={x:3,y:4.5}))\n",
    "print(sess.run(z,feed_dict={x:[1,3],y:[2,4]}))"
   ]
  },
  {
   "cell_type": "markdown",
   "metadata": {},
   "source": [
    "另请注意，`feed_dict `参数可用于覆盖图中的任何张量。占位符和其他` tf.Tensors` 的唯一不同之处在于**如果没有为占位符提供值，那么占位符会抛出错误**。"
   ]
  },
  {
   "cell_type": "markdown",
   "metadata": {},
   "source": [
    "# 数据集："
   ]
  },
  {
   "cell_type": "markdown",
   "metadata": {},
   "source": [
    "**占位符**适用于简单的实验，而**数据集是将数据流式传输到模型的首选方法**。\n",
    "\n",
    "要从数据集中获取可运行的 `tf.Tensor`，您必须先将其转换成` tf.data.Iterator`，然后调用迭代器的 `get_next `方法。"
   ]
  },
  {
   "cell_type": "markdown",
   "metadata": {},
   "source": [
    "## 为数据集创建迭代器"
   ]
  },
  {
   "cell_type": "markdown",
   "metadata": {},
   "source": [
    "创建迭代器的最简单的方式是采用` make_one_shot_iterator` 方法。例如，在下面的代码中，`next_item `张量将在每次` run` 调用时从 `my_data `阵列返回一行："
   ]
  },
  {
   "cell_type": "code",
   "execution_count": 11,
   "metadata": {
    "ExecuteTime": {
     "end_time": "2019-04-26T11:33:36.512412Z",
     "start_time": "2019-04-26T11:33:36.488477Z"
    }
   },
   "outputs": [],
   "source": [
    "my_data = [\n",
    "    [0,1],\n",
    "    [2,3],\n",
    "    [4,5],\n",
    "    [6,7],\n",
    "]\n",
    "\n",
    "slices = tf.data.Dataset.from_tensor_slices(my_data)\n",
    "next_item = slices.make_one_shot_iterator().get_next()"
   ]
  },
  {
   "cell_type": "markdown",
   "metadata": {},
   "source": [
    "## 检查是否到达数据集末端"
   ]
  },
  {
   "cell_type": "markdown",
   "metadata": {},
   "source": [
    "到达数据流末端时，`Dataset `会抛出` OutOfRangeError`。例如，下面的代码会一直读取` next_item`，直到没有数据可读："
   ]
  },
  {
   "cell_type": "code",
   "execution_count": 12,
   "metadata": {
    "ExecuteTime": {
     "end_time": "2019-04-26T11:33:36.545324Z",
     "start_time": "2019-04-26T11:33:36.514408Z"
    }
   },
   "outputs": [
    {
     "name": "stdout",
     "output_type": "stream",
     "text": [
      "[0 1]\n",
      "[2 3]\n",
      "[4 5]\n",
      "[6 7]\n"
     ]
    }
   ],
   "source": [
    "while True:\n",
    "    try:\n",
    "        print(sess.run(next_item))\n",
    "    except tf.errors.OutOfRangeError:\n",
    "        break"
   ]
  },
  {
   "cell_type": "markdown",
   "metadata": {},
   "source": [
    "## 初始化迭代器"
   ]
  },
  {
   "cell_type": "markdown",
   "metadata": {},
   "source": [
    "如果` Dataset` 依赖于有状态操作，则可能需要**在使用迭代器之前先初始化它**，如下所示："
   ]
  },
  {
   "cell_type": "code",
   "execution_count": 13,
   "metadata": {
    "ExecuteTime": {
     "end_time": "2019-04-26T11:33:36.589208Z",
     "start_time": "2019-04-26T11:33:36.547319Z"
    }
   },
   "outputs": [
    {
     "name": "stdout",
     "output_type": "stream",
     "text": [
      "WARNING:tensorflow:From C:\\Anaconda3\\lib\\site-packages\\tensorflow\\python\\data\\ops\\dataset_ops.py:1419: colocate_with (from tensorflow.python.framework.ops) is deprecated and will be removed in a future version.\n",
      "Instructions for updating:\n",
      "Colocations handled automatically by placer.\n",
      "[-0.8745127  1.1531501  3.148776 ]\n",
      "[ 1.0594535   0.02045189 -0.7889617 ]\n",
      "[ 0.03965719 -0.306316   -0.33138922]\n",
      "[-2.252769   0.2920087  1.0636153]\n",
      "[-0.94206524  1.159319   -0.41664416]\n",
      "[0.00402342 1.732038   1.6371913 ]\n",
      "[ 0.7096187 -1.0286368 -1.1046615]\n",
      "[-0.5538976   0.69938475  2.1647782 ]\n",
      "[ 0.9300321  1.174774  -0.117594 ]\n",
      "[-1.4865223 -1.1875577 -1.4742011]\n"
     ]
    }
   ],
   "source": [
    "r = tf.random_normal([10,3])\n",
    "dataset = tf.data.Dataset.from_tensor_slices(r)\n",
    "iterator = dataset.make_initializable_iterator()\n",
    "next_row = iterator.get_next()\n",
    "\n",
    "# 初始化迭代器\n",
    "sess.run(iterator.initializer)\n",
    "while True:\n",
    "    try:\n",
    "        print(sess.run(next_row))\n",
    "    except tf.errors.OutOfRangeError:\n",
    "        break"
   ]
  },
  {
   "cell_type": "markdown",
   "metadata": {},
   "source": [
    "# 层"
   ]
  },
  {
   "cell_type": "markdown",
   "metadata": {},
   "source": [
    "可训练的模型必须修改图中的值，以便在输入相同值的情况下获得新的输出值。**将可训练参数添加到图中的首选方法是`层`**。\n",
    "\n",
    "**层将变量和作用于它们的操作打包在一起**。例如，密集连接层会对每个输出对应的所有输入执行加权和，并应用激活函数（可选）。**连接权重和偏差由层对象管理**。"
   ]
  },
  {
   "cell_type": "markdown",
   "metadata": {},
   "source": [
    "## 创建层"
   ]
  },
  {
   "cell_type": "markdown",
   "metadata": {},
   "source": [
    "下面的代码会创建一个` Dense `层，该层会接受一批输入矢量，并为每个矢量生成一个输出值。**要将层应用于输入值，请将该层当做函数来调用**。例如："
   ]
  },
  {
   "cell_type": "code",
   "execution_count": 14,
   "metadata": {
    "ExecuteTime": {
     "end_time": "2019-04-26T11:33:36.666001Z",
     "start_time": "2019-04-26T11:33:36.642066Z"
    }
   },
   "outputs": [],
   "source": [
    "x = tf.placeholder(tf.float32,shape=[None,3])\n",
    "linear_model = tf.layers.Dense(units=1)\n",
    "y = linear_model(x)"
   ]
  },
  {
   "cell_type": "markdown",
   "metadata": {},
   "source": [
    "**层会检查其输入数据，以确定其内部变量的大小**。因此，我们必须在这里**设置` x` 占位符的形状**，以便层构建正确大小的权重矩阵。\n",
    "\n",
    "我们现在已经定义了输出值` y `的计算，在我们运行计算之前，还需要处理一个细节。"
   ]
  },
  {
   "cell_type": "markdown",
   "metadata": {},
   "source": [
    "## 初始化层"
   ]
  },
  {
   "cell_type": "markdown",
   "metadata": {},
   "source": [
    "层包含的变量必须先初始化，然后才能使用。尽管可以单独初始化各个变量，但也可以轻松地初始化一个` TensorFlow `图中的所有变量（如下所示）："
   ]
  },
  {
   "cell_type": "code",
   "execution_count": 15,
   "metadata": {
    "ExecuteTime": {
     "end_time": "2019-04-26T11:33:36.823618Z",
     "start_time": "2019-04-26T11:33:36.809624Z"
    }
   },
   "outputs": [],
   "source": [
    "init = tf.global_variables_initializer()\n",
    "sess.run(init)"
   ]
  },
  {
   "cell_type": "markdown",
   "metadata": {},
   "source": [
    "重要提示：调用 `tf.global_variables_initializer `仅会创建并返回 `TensorFlow `操作的句柄。当我们使用 `tf.Session.run` 运行该操作时，该操作**将初始化所有全局变量**。\n",
    "\n",
    "另请注意，此 `global_variables_initializer` **仅会初始化创建初始化程序时图中就存在的变量**。因此您应该**在构建图表的最后一步添加初始化程序**。"
   ]
  },
  {
   "cell_type": "markdown",
   "metadata": {},
   "source": [
    "## 执行层"
   ]
  },
  {
   "cell_type": "markdown",
   "metadata": {},
   "source": [
    "我们现在已经完成了层的初始化，可以像处理任何其他张量一样评估 `linear_model `的输出张量了。例如，下面的代码："
   ]
  },
  {
   "cell_type": "code",
   "execution_count": 16,
   "metadata": {
    "ExecuteTime": {
     "end_time": "2019-04-26T11:33:36.992130Z",
     "start_time": "2019-04-26T11:33:36.981160Z"
    }
   },
   "outputs": [
    {
     "name": "stdout",
     "output_type": "stream",
     "text": [
      "[[2.265516 ]\n",
      " [4.5221624]]\n"
     ]
    }
   ],
   "source": [
    "print(sess.run(y,{x:[[1,2,3],[4,5,6]]}))"
   ]
  },
  {
   "cell_type": "markdown",
   "metadata": {},
   "source": [
    "生成一个两元素输出向量。"
   ]
  },
  {
   "cell_type": "markdown",
   "metadata": {},
   "source": [
    "## 层函数的快捷方式"
   ]
  },
  {
   "cell_type": "markdown",
   "metadata": {},
   "source": [
    "对于每个**层类**（如 `tf.layers.Dense`)，`TensorFlow `还提供了一个快捷函数（如 `tf.layers.dense`）。两者唯一的区别是快捷函数版本是在单次调用中创建和运行层。例如，以下代码等同于较早的版本："
   ]
  },
  {
   "cell_type": "code",
   "execution_count": 17,
   "metadata": {
    "ExecuteTime": {
     "end_time": "2019-04-26T11:33:37.188605Z",
     "start_time": "2019-04-26T11:33:37.145720Z"
    }
   },
   "outputs": [
    {
     "name": "stdout",
     "output_type": "stream",
     "text": [
      "WARNING:tensorflow:From <ipython-input-17-b7e714f7a3e1>:2: dense (from tensorflow.python.layers.core) is deprecated and will be removed in a future version.\n",
      "Instructions for updating:\n",
      "Use keras.layers.dense instead.\n",
      "[[-1.6517069]\n",
      " [-2.493249 ]]\n"
     ]
    }
   ],
   "source": [
    "x = tf.placeholder(tf.float32, shape=[None, 3])\n",
    "y = tf.layers.dense(x, units=1)\n",
    "\n",
    "init = tf.global_variables_initializer()\n",
    "sess.run(init)\n",
    "\n",
    "print(sess.run(y, {x: [[1, 2, 3], [4, 5, 6]]}))"
   ]
  },
  {
   "cell_type": "markdown",
   "metadata": {},
   "source": [
    "尽管这种方法很方便，但无法访问 `tf.layers.Layer `对象。**这会让自省和调试变得更加困难，并且无法重复使用相应的层**。"
   ]
  },
  {
   "cell_type": "markdown",
   "metadata": {},
   "source": [
    "# 特征列"
   ]
  },
  {
   "cell_type": "markdown",
   "metadata": {},
   "source": [
    "使用特征列进行实验的最简单方法是使用 `tf.feature_column.input_layer` 函数。此函数只接受密集列作为输入，因此要查看类别列的结果，您必须将其封装在` tf.feature_column.indicator_column` 中。例如："
   ]
  },
  {
   "cell_type": "code",
   "execution_count": 18,
   "metadata": {
    "ExecuteTime": {
     "end_time": "2019-04-26T11:33:37.405025Z",
     "start_time": "2019-04-26T11:33:37.344190Z"
    }
   },
   "outputs": [
    {
     "name": "stdout",
     "output_type": "stream",
     "text": [
      "WARNING:tensorflow:From C:\\Anaconda3\\lib\\site-packages\\tensorflow\\python\\feature_column\\feature_column.py:205: IndicatorColumn._get_dense_tensor (from tensorflow.python.feature_column.feature_column_v2) is deprecated and will be removed after 2018-11-30.\n",
      "Instructions for updating:\n",
      "The old _FeatureColumn APIs are being deprecated. Please use the new FeatureColumn APIs instead.\n",
      "WARNING:tensorflow:From C:\\Anaconda3\\lib\\site-packages\\tensorflow\\python\\feature_column\\feature_column.py:2121: IndicatorColumn._transform_feature (from tensorflow.python.feature_column.feature_column_v2) is deprecated and will be removed after 2018-11-30.\n",
      "Instructions for updating:\n",
      "The old _FeatureColumn APIs are being deprecated. Please use the new FeatureColumn APIs instead.\n",
      "WARNING:tensorflow:From C:\\Anaconda3\\lib\\site-packages\\tensorflow\\python\\feature_column\\feature_column_v2.py:4295: VocabularyListCategoricalColumn._get_sparse_tensors (from tensorflow.python.feature_column.feature_column_v2) is deprecated and will be removed after 2018-11-30.\n",
      "Instructions for updating:\n",
      "The old _FeatureColumn APIs are being deprecated. Please use the new FeatureColumn APIs instead.\n",
      "WARNING:tensorflow:From C:\\Anaconda3\\lib\\site-packages\\tensorflow\\python\\feature_column\\feature_column.py:2121: VocabularyListCategoricalColumn._transform_feature (from tensorflow.python.feature_column.feature_column_v2) is deprecated and will be removed after 2018-11-30.\n",
      "Instructions for updating:\n",
      "The old _FeatureColumn APIs are being deprecated. Please use the new FeatureColumn APIs instead.\n",
      "WARNING:tensorflow:From C:\\Anaconda3\\lib\\site-packages\\tensorflow\\python\\ops\\lookup_ops.py:1137: to_int64 (from tensorflow.python.ops.math_ops) is deprecated and will be removed in a future version.\n",
      "Instructions for updating:\n",
      "Use tf.cast instead.\n",
      "WARNING:tensorflow:From C:\\Anaconda3\\lib\\site-packages\\tensorflow\\python\\feature_column\\feature_column_v2.py:4266: IndicatorColumn._variable_shape (from tensorflow.python.feature_column.feature_column_v2) is deprecated and will be removed after 2018-11-30.\n",
      "Instructions for updating:\n",
      "The old _FeatureColumn APIs are being deprecated. Please use the new FeatureColumn APIs instead.\n",
      "WARNING:tensorflow:From C:\\Anaconda3\\lib\\site-packages\\tensorflow\\python\\feature_column\\feature_column_v2.py:4321: VocabularyListCategoricalColumn._num_buckets (from tensorflow.python.feature_column.feature_column_v2) is deprecated and will be removed after 2018-11-30.\n",
      "Instructions for updating:\n",
      "The old _FeatureColumn APIs are being deprecated. Please use the new FeatureColumn APIs instead.\n",
      "WARNING:tensorflow:From C:\\Anaconda3\\lib\\site-packages\\tensorflow\\python\\feature_column\\feature_column.py:205: NumericColumn._get_dense_tensor (from tensorflow.python.feature_column.feature_column_v2) is deprecated and will be removed after 2018-11-30.\n",
      "Instructions for updating:\n",
      "The old _FeatureColumn APIs are being deprecated. Please use the new FeatureColumn APIs instead.\n",
      "WARNING:tensorflow:From C:\\Anaconda3\\lib\\site-packages\\tensorflow\\python\\feature_column\\feature_column.py:2121: NumericColumn._transform_feature (from tensorflow.python.feature_column.feature_column_v2) is deprecated and will be removed after 2018-11-30.\n",
      "Instructions for updating:\n",
      "The old _FeatureColumn APIs are being deprecated. Please use the new FeatureColumn APIs instead.\n",
      "WARNING:tensorflow:From C:\\Anaconda3\\lib\\site-packages\\tensorflow\\python\\feature_column\\feature_column_v2.py:2703: to_float (from tensorflow.python.ops.math_ops) is deprecated and will be removed in a future version.\n",
      "Instructions for updating:\n",
      "Use tf.cast instead.\n",
      "WARNING:tensorflow:From C:\\Anaconda3\\lib\\site-packages\\tensorflow\\python\\feature_column\\feature_column.py:206: NumericColumn._variable_shape (from tensorflow.python.feature_column.feature_column_v2) is deprecated and will be removed after 2018-11-30.\n",
      "Instructions for updating:\n",
      "The old _FeatureColumn APIs are being deprecated. Please use the new FeatureColumn APIs instead.\n"
     ]
    }
   ],
   "source": [
    "import warnings\n",
    "warnings.filterwarnings('ignore')\n",
    "\n",
    "features = {\n",
    "    'sales':[[5],[10],[8],[9]],\n",
    "    'department':['sports','sports','gardening','gardening']\n",
    "}\n",
    "\n",
    "department_column = tf.feature_column.categorical_column_with_vocabulary_list(\n",
    "    'department',['sports','gardening']\n",
    ")\n",
    "\n",
    "department_column = tf.feature_column.indicator_column(department_column)\n",
    "\n",
    "columns = [\n",
    "    tf.feature_column.numeric_column('sales'),\n",
    "    department_column\n",
    "]\n",
    "\n",
    "inputs = tf.feature_column.input_layer(features,columns)"
   ]
  },
  {
   "cell_type": "markdown",
   "metadata": {},
   "source": [
    "运行` inputs `张量会将` features `解析为一批向量。\n",
    "\n",
    "**特征列 和 层 一样具有内部状态，因此通常需要将它们初始化**。类别列会在内部使用**对照表**，而这些表需要**单独的初始化操作** `tf.tables_initializer`"
   ]
  },
  {
   "cell_type": "code",
   "execution_count": 19,
   "metadata": {
    "ExecuteTime": {
     "end_time": "2019-04-26T11:33:37.481820Z",
     "start_time": "2019-04-26T11:33:37.450904Z"
    }
   },
   "outputs": [
    {
     "data": {
      "text/plain": [
       "(None, None)"
      ]
     },
     "execution_count": 19,
     "metadata": {},
     "output_type": "execute_result"
    }
   ],
   "source": [
    "var_init = tf.global_variables_initializer()\n",
    "\n",
    "# 对类别列单独初始化\n",
    "table_init = tf.tables_initializer()\n",
    "\n",
    "sess = tf.Session()\n",
    "sess.run((var_init,table_init))"
   ]
  },
  {
   "cell_type": "markdown",
   "metadata": {},
   "source": [
    "初始化内部状态后，您可以运行` inputs`（像运行任何其他 `tf.Tensor `一样）："
   ]
  },
  {
   "cell_type": "code",
   "execution_count": 20,
   "metadata": {
    "ExecuteTime": {
     "end_time": "2019-04-26T11:33:37.562604Z",
     "start_time": "2019-04-26T11:33:37.543656Z"
    }
   },
   "outputs": [
    {
     "name": "stdout",
     "output_type": "stream",
     "text": [
      "[[ 1.  0.  5.]\n",
      " [ 1.  0. 10.]\n",
      " [ 0.  1.  8.]\n",
      " [ 0.  1.  9.]]\n"
     ]
    }
   ],
   "source": [
    "print(sess.run(inputs))"
   ]
  },
  {
   "cell_type": "markdown",
   "metadata": {},
   "source": [
    "这显示了特征列如何打包输入矢量，并将**独热“department”**作为第一和第二个索引，将**“sales”**作为第三个索引。"
   ]
  },
  {
   "cell_type": "markdown",
   "metadata": {},
   "source": [
    "# 训练"
   ]
  },
  {
   "cell_type": "markdown",
   "metadata": {},
   "source": [
    "您现在已经了解 `TensorFlow `核心部分的基础知识了，我们来手动训练一个小型回归模型吧。"
   ]
  },
  {
   "cell_type": "markdown",
   "metadata": {},
   "source": [
    "## 定义数据"
   ]
  },
  {
   "cell_type": "markdown",
   "metadata": {},
   "source": [
    "我们首先来定义一些输入值` x`，以及每个输入值的预期输出值` y_true`："
   ]
  },
  {
   "cell_type": "code",
   "execution_count": 21,
   "metadata": {
    "ExecuteTime": {
     "end_time": "2019-04-26T11:33:37.793985Z",
     "start_time": "2019-04-26T11:33:37.787005Z"
    }
   },
   "outputs": [],
   "source": [
    "x = tf.constant([[1],[2],[3],[4]],dtype=tf.float32)\n",
    "y_true = tf.constant([[0],[-1],[-2],[-3]],dtype=tf.float32)"
   ]
  },
  {
   "cell_type": "markdown",
   "metadata": {},
   "source": [
    "## 定义模型"
   ]
  },
  {
   "cell_type": "markdown",
   "metadata": {},
   "source": [
    "接下来，建立一个简单的线性模型，其输出值只有 `1 `个："
   ]
  },
  {
   "cell_type": "code",
   "execution_count": 22,
   "metadata": {
    "ExecuteTime": {
     "end_time": "2019-04-26T11:33:37.893719Z",
     "start_time": "2019-04-26T11:33:37.873773Z"
    }
   },
   "outputs": [],
   "source": [
    "linear_model = tf.layers.Dense(units=1)\n",
    "y_pred = linear_model(x)"
   ]
  },
  {
   "cell_type": "markdown",
   "metadata": {},
   "source": [
    "您可以如下评估预测值："
   ]
  },
  {
   "cell_type": "code",
   "execution_count": 23,
   "metadata": {
    "ExecuteTime": {
     "end_time": "2019-04-26T11:33:37.985474Z",
     "start_time": "2019-04-26T11:33:37.961538Z"
    }
   },
   "outputs": [],
   "source": [
    "sess = tf.Session()\n",
    "init = tf.global_variables_initializer()\n",
    "sess.run(init)"
   ]
  },
  {
   "cell_type": "markdown",
   "metadata": {},
   "source": [
    "该模型尚未接受训练，因此四个“预测”值并不理想。以下是我们得到的结果，您自己的输出应该有所不同："
   ]
  },
  {
   "cell_type": "code",
   "execution_count": 24,
   "metadata": {
    "ExecuteTime": {
     "end_time": "2019-04-26T11:33:38.064263Z",
     "start_time": "2019-04-26T11:33:38.052296Z"
    }
   },
   "outputs": [
    {
     "name": "stdout",
     "output_type": "stream",
     "text": [
      "[[-1.4092606]\n",
      " [-2.8185213]\n",
      " [-4.227782 ]\n",
      " [-5.6370425]]\n"
     ]
    }
   ],
   "source": [
    "print(sess.run(y_pred))"
   ]
  },
  {
   "cell_type": "markdown",
   "metadata": {},
   "source": [
    "## 损失"
   ]
  },
  {
   "cell_type": "markdown",
   "metadata": {},
   "source": [
    "要优化模型，您首先需要定义损失。我们将使用**均方误差，这是回归问题的标准损失**。\n",
    "\n",
    "虽然您可以使用较低级别的数学运算手动定义，但 `tf.losses` 模块提供了一系列常用的损失函数。您可以使用它来计算均方误差，具体操作如下所示："
   ]
  },
  {
   "cell_type": "code",
   "execution_count": 25,
   "metadata": {
    "ExecuteTime": {
     "end_time": "2019-04-26T11:33:38.165995Z",
     "start_time": "2019-04-26T11:33:38.142055Z"
    }
   },
   "outputs": [],
   "source": [
    "loss = tf.losses.mean_squared_error(labels=y_true,predictions=y_pred)"
   ]
  },
  {
   "cell_type": "markdown",
   "metadata": {},
   "source": [
    "这会生成如下所示的一个损失值："
   ]
  },
  {
   "cell_type": "code",
   "execution_count": 26,
   "metadata": {
    "ExecuteTime": {
     "end_time": "2019-04-26T11:33:38.251765Z",
     "start_time": "2019-04-26T11:33:38.231816Z"
    }
   },
   "outputs": [
    {
     "name": "stdout",
     "output_type": "stream",
     "text": [
      "4.30251\n"
     ]
    }
   ],
   "source": [
    "print(sess.run(loss))"
   ]
  },
  {
   "cell_type": "markdown",
   "metadata": {},
   "source": [
    "## 训练"
   ]
  },
  {
   "cell_type": "markdown",
   "metadata": {},
   "source": [
    "`TensorFlow `提供了执行标准优化算法的优化器。这些优化器被实现为` tf.train.Optimizer `的子类。它们会逐渐改变每个变量，以便将损失最小化。\n",
    "\n",
    "最简单的优化算法是梯度下降法，由 `tf.train.GradientDescentOptimizer` 实现。它会根据损失相对于变量的导数大小来修改各个变量。例如："
   ]
  },
  {
   "cell_type": "code",
   "execution_count": 27,
   "metadata": {
    "ExecuteTime": {
     "end_time": "2019-04-26T11:33:38.422306Z",
     "start_time": "2019-04-26T11:33:38.328557Z"
    }
   },
   "outputs": [],
   "source": [
    "optimizer = tf.train.GradientDescentOptimizer(0.01)\n",
    "train = optimizer.minimize(loss)"
   ]
  },
  {
   "cell_type": "markdown",
   "metadata": {},
   "source": [
    "该代码构建了优化所需的所有图组件，并返回一个训练指令。该训练指令在运行时会更新图中的变量。您可以按以下方式运行该指令："
   ]
  },
  {
   "cell_type": "code",
   "execution_count": 28,
   "metadata": {
    "ExecuteTime": {
     "end_time": "2019-04-26T11:33:38.470178Z",
     "start_time": "2019-04-26T11:33:38.433277Z"
    }
   },
   "outputs": [
    {
     "name": "stdout",
     "output_type": "stream",
     "text": [
      "4.30251\n",
      "3.0152617\n",
      "2.1218882\n",
      "1.5018175\n",
      "1.071387\n",
      "0.77254593\n",
      "0.56501186\n",
      "0.42083547\n",
      "0.3206222\n",
      "0.2509153\n"
     ]
    }
   ],
   "source": [
    "for _ in range(10):\n",
    "    _,loss_value = sess.run((train,loss))\n",
    "    print(loss_value)"
   ]
  },
  {
   "cell_type": "markdown",
   "metadata": {},
   "source": [
    "由于 `train` 是**一个指令而不是张量，因此它在运行时不会返回一个值**。为了查看训练期间损失的进展，我们会同时运行损失张量，生成如上所示的输出值。"
   ]
  },
  {
   "cell_type": "markdown",
   "metadata": {},
   "source": [
    "## 完整程序"
   ]
  },
  {
   "cell_type": "code",
   "execution_count": 29,
   "metadata": {
    "ExecuteTime": {
     "end_time": "2019-04-26T11:33:38.711534Z",
     "start_time": "2019-04-26T11:33:38.553956Z"
    }
   },
   "outputs": [
    {
     "name": "stdout",
     "output_type": "stream",
     "text": [
      "1.7991261\n",
      "1.3135391\n",
      "0.97621125\n",
      "0.7417592\n",
      "0.5786929\n",
      "0.465162\n",
      "0.38600498\n",
      "0.3307014\n",
      "0.29195175\n",
      "0.26469046\n",
      "[[-0.641314 ]\n",
      " [-1.1986932]\n",
      " [-1.7560723]\n",
      " [-2.3134515]]\n"
     ]
    }
   ],
   "source": [
    "x = tf.constant([[1], [2], [3], [4]], dtype=tf.float32)\n",
    "y_true = tf.constant([[0], [-1], [-2], [-3]], dtype=tf.float32)\n",
    "\n",
    "linear_model = tf.layers.Dense(units=1)\n",
    "\n",
    "y_pred = linear_model(x)\n",
    "loss = tf.losses.mean_squared_error(labels=y_true, predictions=y_pred)\n",
    "\n",
    "optimizer = tf.train.GradientDescentOptimizer(0.01)\n",
    "train = optimizer.minimize(loss)\n",
    "\n",
    "init = tf.global_variables_initializer()\n",
    "\n",
    "sess = tf.Session()\n",
    "sess.run(init)\n",
    "for i in range(10):\n",
    "  _, loss_value = sess.run((train, loss))\n",
    "  print(loss_value)\n",
    "\n",
    "print(sess.run(y_pred))"
   ]
  },
  {
   "cell_type": "markdown",
   "metadata": {},
   "source": [
    "# 后续步骤"
   ]
  },
  {
   "cell_type": "markdown",
   "metadata": {},
   "source": [
    "要详细了解如何使用` TensorFlow` 构建模型，请参阅: 自定义` Estimator`，了解如何使用 `TensorFlow `构建自定义模型。掌握 `TensorFlow Core` 知识有助于理解和调试您自己的模型。"
   ]
  }
 ],
 "metadata": {
  "kernelspec": {
   "display_name": "Python 3",
   "language": "python",
   "name": "python3"
  },
  "language_info": {
   "codemirror_mode": {
    "name": "ipython",
    "version": 3
   },
   "file_extension": ".py",
   "mimetype": "text/x-python",
   "name": "python",
   "nbconvert_exporter": "python",
   "pygments_lexer": "ipython3",
   "version": "3.7.0"
  },
  "toc": {
   "base_numbering": 1,
   "nav_menu": {},
   "number_sections": true,
   "sideBar": true,
   "skip_h1_title": false,
   "title_cell": "Table of Contents",
   "title_sidebar": "Contents",
   "toc_cell": false,
   "toc_position": {},
   "toc_section_display": true,
   "toc_window_display": false
  },
  "varInspector": {
   "cols": {
    "lenName": 16,
    "lenType": 16,
    "lenVar": 40
   },
   "kernels_config": {
    "python": {
     "delete_cmd_postfix": "",
     "delete_cmd_prefix": "del ",
     "library": "var_list.py",
     "varRefreshCmd": "print(var_dic_list())"
    },
    "r": {
     "delete_cmd_postfix": ") ",
     "delete_cmd_prefix": "rm(",
     "library": "var_list.r",
     "varRefreshCmd": "cat(var_dic_list()) "
    }
   },
   "types_to_exclude": [
    "module",
    "function",
    "builtin_function_or_method",
    "instance",
    "_Feature"
   ],
   "window_display": false
  }
 },
 "nbformat": 4,
 "nbformat_minor": 2
}
