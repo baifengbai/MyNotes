{
 "cells": [
  {
   "cell_type": "markdown",
   "metadata": {},
   "source": [
    "`Tensorflow`的`tf.Graph`是静态的图（对比`eager execution`），它表示模型的骨架，定义图不需要输入数据也不会执行运算。"
   ]
  },
  {
   "cell_type": "markdown",
   "metadata": {},
   "source": [
    "# 图的创建和使用: 通过添加tf.Operation和tf.Tensor来构建图"
   ]
  },
  {
   "cell_type": "markdown",
   "metadata": {},
   "source": [
    "一个图对应一个模型，尽量不要出现子图。训练模型时，整理代码的一种常用方法是**使用一个图训练模型**，然后**使用另一个图对受训模型进行评估或推理**。在通常情况下，推理图与训练图不同。"
   ]
  },
  {
   "cell_type": "code",
   "execution_count": 1,
   "metadata": {
    "ExecuteTime": {
     "end_time": "2019-04-28T12:06:20.640961Z",
     "start_time": "2019-04-28T12:06:15.793886Z"
    }
   },
   "outputs": [],
   "source": [
    "import tensorflow as tf\n",
    "\n",
    "# 创建图\n",
    "g_1 = tf.Graph()\n",
    "\n",
    "# 在命名空间中构件图\n",
    "with g_1.as_default():\n",
    "    a = tf.constant(42.0,name='const1')\n",
    "    b = tf.constant(2.0,name='const2')\n",
    "    c = tf.add(a,b,name='add1')"
   ]
  },
  {
   "cell_type": "markdown",
   "metadata": {},
   "source": [
    "`tf.constant(42.0, name='const1')`创建名为`const1`的`Operation`并将该`const1`的结果作为返回值返回，其中`const1`用于生成值为`42`的`scalar Tensor`。\n",
    "\n",
    "`tf.add(a, b, name='add1')`创建名为`add1`的`Operation`并返回其结果，其中`add1`接收`2`个`Tensor`作为输入。"
   ]
  },
  {
   "cell_type": "markdown",
   "metadata": {},
   "source": [
    "# 通过tf.Session()执行图"
   ]
  },
  {
   "cell_type": "markdown",
   "metadata": {},
   "source": [
    "`TensorFlow` 使用`tf.Session类` 来表示`客户端程序`（通常为 `Python `程序，但也提供了其他语言的类似接口）与 `C++ `运行时之间的连接。"
   ]
  },
  {
   "cell_type": "code",
   "execution_count": 2,
   "metadata": {
    "ExecuteTime": {
     "end_time": "2019-04-28T12:06:24.520932Z",
     "start_time": "2019-04-28T12:06:24.403704Z"
    }
   },
   "outputs": [
    {
     "name": "stdout",
     "output_type": "stream",
     "text": [
      "[44.0, array([1., 4., 9.], dtype=float32)]\n"
     ]
    }
   ],
   "source": [
    "with tf.Session(graph=g_1) as sess:\n",
    "    x = tf.placeholder(tf.float32,shape=[3])\n",
    "    y = tf.square(x)\n",
    "    fetch = [c,y]\n",
    "    feed_dict = {x:[1.0,2.0,3.0]}\n",
    "    print(sess.run(fetch,feed_dict))"
   ]
  },
  {
   "cell_type": "markdown",
   "metadata": {},
   "source": [
    "# 使用TensorBoard显示图"
   ]
  },
  {
   "cell_type": "code",
   "execution_count": 3,
   "metadata": {
    "ExecuteTime": {
     "end_time": "2019-04-28T12:09:03.159635Z",
     "start_time": "2019-04-28T12:09:02.920669Z"
    }
   },
   "outputs": [],
   "source": [
    "with tf.Session(graph=g_1) as sess:\n",
    "    writer = tf.summary.FileWriter('./data/1.ckpt',sess.graph)\n",
    "    \n",
    "   # Perform your computation...\n",
    "   #for i in range(1000):\n",
    "        #sess.run(train_op)\n",
    "        # ...\n",
    "\n",
    "    writer.close()"
   ]
  },
  {
   "cell_type": "markdown",
   "metadata": {},
   "source": [
    "在终端中输入`tensorboard --logdir='path' `以启动 `tensorboard`"
   ]
  },
  {
   "cell_type": "markdown",
   "metadata": {},
   "source": [
    "# 使用多个图进行编程"
   ]
  },
  {
   "cell_type": "markdown",
   "metadata": {},
   "source": [
    "```Python\n",
    "g_1 = tf.Graph()\n",
    "with g_1.as_default():\n",
    "  # Operations created in this scope will be added to `g_1`.\n",
    "  c = tf.constant(\"Node in g_1\")\n",
    "\n",
    "  # Sessions created in this scope will run operations from `g_1`.\n",
    "  sess_1 = tf.Session()\n",
    "\n",
    "g_2 = tf.Graph()\n",
    "with g_2.as_default():\n",
    "  # Operations created in this scope will be added to `g_2`.\n",
    "  d = tf.constant(\"Node in g_2\")\n",
    "\n",
    "# Alternatively, you can pass a graph when constructing a session\n",
    "# `sess_2` will run operations from `g_2`.\n",
    "sess_2 = tf.Session(graph=g_2)\n",
    "\n",
    "# Get the default graph.\n",
    "g = tf.get_default_graph()\n",
    "```"
   ]
  }
 ],
 "metadata": {
  "kernelspec": {
   "display_name": "Python 3",
   "language": "python",
   "name": "python3"
  },
  "language_info": {
   "codemirror_mode": {
    "name": "ipython",
    "version": 3
   },
   "file_extension": ".py",
   "mimetype": "text/x-python",
   "name": "python",
   "nbconvert_exporter": "python",
   "pygments_lexer": "ipython3",
   "version": "3.7.0"
  },
  "toc": {
   "base_numbering": 1,
   "nav_menu": {},
   "number_sections": true,
   "sideBar": true,
   "skip_h1_title": false,
   "title_cell": "Table of Contents",
   "title_sidebar": "Contents",
   "toc_cell": false,
   "toc_position": {},
   "toc_section_display": true,
   "toc_window_display": false
  },
  "varInspector": {
   "cols": {
    "lenName": 16,
    "lenType": 16,
    "lenVar": 40
   },
   "kernels_config": {
    "python": {
     "delete_cmd_postfix": "",
     "delete_cmd_prefix": "del ",
     "library": "var_list.py",
     "varRefreshCmd": "print(var_dic_list())"
    },
    "r": {
     "delete_cmd_postfix": ") ",
     "delete_cmd_prefix": "rm(",
     "library": "var_list.r",
     "varRefreshCmd": "cat(var_dic_list()) "
    }
   },
   "types_to_exclude": [
    "module",
    "function",
    "builtin_function_or_method",
    "instance",
    "_Feature"
   ],
   "window_display": false
  }
 },
 "nbformat": 4,
 "nbformat_minor": 2
}
