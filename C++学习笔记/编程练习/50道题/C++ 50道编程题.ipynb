{
 "cells": [
  {
   "cell_type": "markdown",
   "metadata": {},
   "source": [
    "# 第一题"
   ]
  },
  {
   "cell_type": "markdown",
   "metadata": {},
   "source": [
    "题目：输入3个数，求最大值"
   ]
  },
  {
   "cell_type": "code",
   "execution_count": 16,
   "metadata": {
    "ExecuteTime": {
     "end_time": "2019-04-23T02:12:51.638299Z",
     "start_time": "2019-04-23T02:12:51.632307Z"
    }
   },
   "outputs": [
    {
     "name": "stdout",
     "output_type": "stream",
     "text": [
      "Overwriting ./code/1.cpp\n"
     ]
    }
   ],
   "source": [
    "%%writefile ./code/1.cpp\n",
    "#include <iostream>\n",
    "using namespace std;\n",
    "\n",
    "int main()\n",
    "{\n",
    "    int a,b,c,m;\n",
    "    cout << \"\\b请输入第1个数\"<<endl;\n",
    "    cin >> a ;\n",
    "    cout << \"\\b请输入第2个数\"<<endl;\n",
    "    cin >>  b ;\n",
    "    cout << \"\\b请输入第3个数\"<<endl;\n",
    "    cin >> c;\n",
    "    m = a;\n",
    "    if (b > m) m = b;/*m始终保存较大的值*/\n",
    "    if (c > m) m = c;\n",
    "    cout << \"\\b输入的三个数最大值为：\" << m << endl;\n",
    "}"
   ]
  },
  {
   "cell_type": "markdown",
   "metadata": {},
   "source": [
    "# 第二题"
   ]
  },
  {
   "cell_type": "markdown",
   "metadata": {},
   "source": [
    "题目：求方程$ax^2 + bx + c = 0$的根"
   ]
  },
  {
   "cell_type": "code",
   "execution_count": 25,
   "metadata": {
    "ExecuteTime": {
     "end_time": "2019-04-23T03:49:59.900613Z",
     "start_time": "2019-04-23T03:49:59.893634Z"
    }
   },
   "outputs": [
    {
     "name": "stdout",
     "output_type": "stream",
     "text": [
      "Overwriting ./code/2.cpp\n"
     ]
    }
   ],
   "source": [
    "%%writefile ./code/2.cpp\n",
    "#include <iostream>\n",
    "#include <cmath>\n",
    "using namespace std;\n",
    "\n",
    "int main()\n",
    "{\n",
    "    double a,b,c,d,x1,x2;\n",
    "    cout<< \"\\b请输入方程二次项的系数：\" << endl;\n",
    "    cin >> a ;\n",
    "    cout << \"\\b请输入方程一次项的系数：\"<< endl;\n",
    "    cin >> b ;\n",
    "    cout << \"\\b请输入方程零次项的系数：\" << endl;\n",
    "    cin >> c;\n",
    "    /*判断输入的系数是否合理*/\n",
    "    if(a==0){\n",
    "        if(b==0){\n",
    "            cout << \"error\\n\";\n",
    "        }else{\n",
    "            cout << \"x=\"<< -c/b << endl;\n",
    "        }\n",
    "    }else{\n",
    "        d = b * b - 4 * a* c;\n",
    "        if(fabs(d) <= 1e-6){\n",
    "            cout << \"x1 = x2 = \" << -b/(2*a) << endl;\n",
    "        }else if(d > 1e-6){\n",
    "                x1 = (-b+sqrt(d))/(2*a);\n",
    "                x2 = (-b-sqrt(d))/(2*a);\n",
    "                cout << \"x1 =\" << x1 << \", x2 = \" << x2 << endl;\n",
    "        }else{\n",
    "               cout << \"\\b方程无实根\\n\";\n",
    "           }\n",
    "    }\n",
    "}"
   ]
  },
  {
   "cell_type": "markdown",
   "metadata": {},
   "source": [
    "# 第三题"
   ]
  },
  {
   "cell_type": "markdown",
   "metadata": {},
   "source": [
    "题目：输入一个成绩，打印相应的等级"
   ]
  },
  {
   "cell_type": "code",
   "execution_count": 28,
   "metadata": {
    "ExecuteTime": {
     "end_time": "2019-04-23T03:57:42.187958Z",
     "start_time": "2019-04-23T03:57:42.182006Z"
    }
   },
   "outputs": [
    {
     "name": "stdout",
     "output_type": "stream",
     "text": [
      "Overwriting ./code/3.cpp\n"
     ]
    }
   ],
   "source": [
    "%%writefile ./code/3.cpp\n",
    "#include <iostream>\n",
    "using namespace std;\n",
    "\n",
    "int main(){\n",
    "    int a;\n",
    "    cout << \"\\b请输入你的成绩：\\n\";\n",
    "    cin >> a ;\n",
    "    if (a >= 90){\n",
    "        cout << \"\\b你的等级是：A\";\n",
    "    }else if (a >= 80){\n",
    "        cout << \"\\b你的等级是：B\";\n",
    "    }else if (a >= 70){\n",
    "        cout << \"\\b你的等级是：C\";\n",
    "    }else if (a >= 60){\n",
    "        cout << \"\\b你的等级是：D\";\n",
    "    }else{\n",
    "        cout << \"\\b你的等级是：E\";\n",
    "    }\n",
    "}"
   ]
  },
  {
   "cell_type": "markdown",
   "metadata": {},
   "source": [
    "# 第四题"
   ]
  },
  {
   "cell_type": "markdown",
   "metadata": {},
   "source": [
    "题目：输入3个double类型的值，判断这3个值是否可以表示一个三角形的三条边。"
   ]
  },
  {
   "cell_type": "code",
   "execution_count": null,
   "metadata": {},
   "outputs": [],
   "source": []
  },
  {
   "cell_type": "markdown",
   "metadata": {},
   "source": [
    "# 第五题"
   ]
  },
  {
   "cell_type": "markdown",
   "metadata": {},
   "source": [
    "题目：输入20个数，求其最大值、最小值和平均值"
   ]
  },
  {
   "cell_type": "code",
   "execution_count": null,
   "metadata": {},
   "outputs": [],
   "source": []
  },
  {
   "cell_type": "markdown",
   "metadata": {},
   "source": [
    "# 第六题"
   ]
  },
  {
   "cell_type": "markdown",
   "metadata": {},
   "source": [
    "题目：输入若干个数，设输入的第一个数为后面要输入的数的个数，求平均值及最大值"
   ]
  },
  {
   "cell_type": "markdown",
   "metadata": {},
   "source": [
    "# 第七题"
   ]
  },
  {
   "cell_type": "markdown",
   "metadata": {},
   "source": [
    "题目：输入若干个数，输入-999表示结束，求平均值及最大值"
   ]
  },
  {
   "cell_type": "markdown",
   "metadata": {},
   "source": [
    "# 第八题"
   ]
  },
  {
   "cell_type": "markdown",
   "metadata": {},
   "source": [
    "题目：求和 $s = 1*1 + 2*2 + 3*3 + ... + 100*100$"
   ]
  },
  {
   "cell_type": "markdown",
   "metadata": {},
   "source": [
    "# 第九题"
   ]
  },
  {
   "cell_type": "markdown",
   "metadata": {},
   "source": [
    "题目：印度国王的奖励，求和$s = 2^0 + 2^1 + 2^2 + ... + 2^{63}$"
   ]
  },
  {
   "cell_type": "markdown",
   "metadata": {},
   "source": [
    "# 第十题"
   ]
  },
  {
   "cell_type": "markdown",
   "metadata": {},
   "source": [
    "题目：求和 $s = 1! + 2! + 3! + ... + 10!$"
   ]
  },
  {
   "cell_type": "markdown",
   "metadata": {},
   "source": [
    "# 第十一题"
   ]
  },
  {
   "cell_type": "markdown",
   "metadata": {},
   "source": [
    "题目：求PI值，$PI = 1 - \\frac{1}{3} + \\frac{1}{5} - \\frac{1}{7} + ...$"
   ]
  },
  {
   "cell_type": "markdown",
   "metadata": {},
   "source": [
    "# 第十二题"
   ]
  },
  {
   "cell_type": "markdown",
   "metadata": {},
   "source": [
    "题目：求PI值，$\\frac{PI}{2} = 1 + \\frac{1}{3} + \\frac{1}{3}*\\frac{2}{5} + \\frac{1}{3}*\\frac{2}{5}*\\frac{3}{7} + ...$"
   ]
  },
  {
   "cell_type": "markdown",
   "metadata": {},
   "source": [
    "# 第十三题"
   ]
  },
  {
   "cell_type": "markdown",
   "metadata": {},
   "source": [
    "题目：求$e = 1 + \\frac{1}{1!} + \\frac{1}{2!} + \\frac{1}{3!} + ...$"
   ]
  },
  {
   "cell_type": "markdown",
   "metadata": {},
   "source": [
    "# 第十四题"
   ]
  },
  {
   "cell_type": "markdown",
   "metadata": {},
   "source": [
    "题目：输入20个数，统计其中正数、负数和零的个数"
   ]
  },
  {
   "cell_type": "markdown",
   "metadata": {},
   "source": [
    "# 第十五题"
   ]
  },
  {
   "cell_type": "markdown",
   "metadata": {},
   "source": [
    "题目：输入若干个整数，计算其中的奇数之和与偶数之和，假设输入0表示结束"
   ]
  },
  {
   "cell_type": "markdown",
   "metadata": {},
   "source": [
    "# 第十六题"
   ]
  },
  {
   "cell_type": "markdown",
   "metadata": {},
   "source": [
    "题目：写一函数，计算 $x$ 的 $y$ 次方，假设 $x,y$ 都为正整数"
   ]
  },
  {
   "cell_type": "markdown",
   "metadata": {},
   "source": [
    "# 第十七题"
   ]
  },
  {
   "cell_type": "markdown",
   "metadata": {},
   "source": [
    "题目：求水仙花数(一个三位数，其各位数字立方和等于该数字本身)"
   ]
  },
  {
   "cell_type": "markdown",
   "metadata": {},
   "source": [
    "# 第十八题"
   ]
  },
  {
   "cell_type": "markdown",
   "metadata": {},
   "source": [
    "题目：编写一个函数，确定一个整数是否为完全数(一个数，等于它的因子之和)。用这个函数确定和打印1 到 100 之间的所有完全数。"
   ]
  },
  {
   "cell_type": "markdown",
   "metadata": {},
   "source": [
    "# 第十九题"
   ]
  },
  {
   "cell_type": "markdown",
   "metadata": {},
   "source": [
    "题目：写一个函数，求斐波那契数列的第 n 项"
   ]
  },
  {
   "cell_type": "markdown",
   "metadata": {},
   "source": [
    "# 第二十题"
   ]
  },
  {
   "cell_type": "markdown",
   "metadata": {},
   "source": [
    "题目：写一个函数，取一个整数值并返回将此整数的各数字反序的数值。"
   ]
  },
  {
   "cell_type": "code",
   "execution_count": null,
   "metadata": {},
   "outputs": [],
   "source": []
  },
  {
   "cell_type": "code",
   "execution_count": null,
   "metadata": {},
   "outputs": [],
   "source": []
  },
  {
   "cell_type": "code",
   "execution_count": null,
   "metadata": {},
   "outputs": [],
   "source": []
  },
  {
   "cell_type": "code",
   "execution_count": null,
   "metadata": {},
   "outputs": [],
   "source": []
  },
  {
   "cell_type": "code",
   "execution_count": null,
   "metadata": {},
   "outputs": [],
   "source": []
  },
  {
   "cell_type": "code",
   "execution_count": null,
   "metadata": {},
   "outputs": [],
   "source": []
  },
  {
   "cell_type": "code",
   "execution_count": null,
   "metadata": {},
   "outputs": [],
   "source": []
  },
  {
   "cell_type": "code",
   "execution_count": null,
   "metadata": {},
   "outputs": [],
   "source": []
  },
  {
   "cell_type": "code",
   "execution_count": null,
   "metadata": {},
   "outputs": [],
   "source": []
  },
  {
   "cell_type": "code",
   "execution_count": null,
   "metadata": {},
   "outputs": [],
   "source": []
  },
  {
   "cell_type": "code",
   "execution_count": null,
   "metadata": {},
   "outputs": [],
   "source": []
  }
 ],
 "metadata": {
  "kernelspec": {
   "display_name": "Python 3",
   "language": "python",
   "name": "python3"
  },
  "language_info": {
   "codemirror_mode": {
    "name": "ipython",
    "version": 3
   },
   "file_extension": ".py",
   "mimetype": "text/x-python",
   "name": "python",
   "nbconvert_exporter": "python",
   "pygments_lexer": "ipython3",
   "version": "3.7.0"
  },
  "toc": {
   "base_numbering": 1,
   "nav_menu": {},
   "number_sections": true,
   "sideBar": true,
   "skip_h1_title": false,
   "title_cell": "Table of Contents",
   "title_sidebar": "Contents",
   "toc_cell": false,
   "toc_position": {},
   "toc_section_display": true,
   "toc_window_display": false
  },
  "varInspector": {
   "cols": {
    "lenName": 16,
    "lenType": 16,
    "lenVar": 40
   },
   "kernels_config": {
    "python": {
     "delete_cmd_postfix": "",
     "delete_cmd_prefix": "del ",
     "library": "var_list.py",
     "varRefreshCmd": "print(var_dic_list())"
    },
    "r": {
     "delete_cmd_postfix": ") ",
     "delete_cmd_prefix": "rm(",
     "library": "var_list.r",
     "varRefreshCmd": "cat(var_dic_list()) "
    }
   },
   "types_to_exclude": [
    "module",
    "function",
    "builtin_function_or_method",
    "instance",
    "_Feature"
   ],
   "window_display": false
  }
 },
 "nbformat": 4,
 "nbformat_minor": 2
}
