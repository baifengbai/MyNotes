{
 "cells": [
  {
   "cell_type": "markdown",
   "metadata": {},
   "source": [
    "本文学习于《Effective Python:编写高质量Python代码的59个有效方法》，作者:布雷特.斯拉特金;整理:Weiyang,微信号:damo894127201,Time:2019.02.05"
   ]
  },
  {
   "cell_type": "markdown",
   "metadata": {},
   "source": [
    "作为一门面向对象的编程语言，Python提供了**继承**，**多态**，**封装**等各种面向对象的特性。用Python编程时，我们经常需要编写新的类，并且需要规定这些新类的使用者应该如何通过接口与继承体系同该类相交互。"
   ]
  },
  {
   "cell_type": "markdown",
   "metadata": {},
   "source": [
    "# 尽量用辅助类来维护程序的状态，而不要用字典和元组"
   ]
  },
  {
   "cell_type": "markdown",
   "metadata": {},
   "source": [
    "我们很容易就能用Python内置的字典与元组类型构建出**分层的数据结构**，从而保存程序的内部状态。但是，当嵌套多于一层的时候，就应该避免这种做法，例如，不要使用包含字典的字典。这种多层嵌套的代码，其他程序员很难看懂，而且自己维护起来也很麻烦。\n",
    "\n",
    "用来保存程序状态的数据结构一旦变得过于复杂，就应该将其**拆解为类**，以便提供更为明确的接口，并更好地封装数据。这样做也能够在接口与具体实现之间创建抽象层。\n",
    "\n",
    "与字典嵌套层级逐渐变深一样，元组长度逐步扩张，也意味着代码渐趋复杂，元组里的元素一旦超过两项，就应该考虑用其他办法来实现了。collections模块中的**namedtuple(具名元组)**类型非常适合实现这种需求。它很容易就能定义出精简而又不可变的数据类：\n",
    "```Python\n",
    "import collections\n",
    "\n",
    "Grade = collections.namedtuple('Grade',('score','weight'))\n",
    "```\n",
    "\n",
    "构建具名元组时，既可以按位置指定其中各项，也可以采用关键字来指定。这些字段都可以通过属性名称访问。由于元组的属性都带有名称，所以当需求发生变化，以致要给简单的数据容器添加新的行为时，很容易就能从namedtuple迁移到自己定义的类。"
   ]
  },
  {
   "cell_type": "markdown",
   "metadata": {},
   "source": [
    "要点：\n",
    "1. 不要使用包含其他字典的字典，也不要使用过长的元组\n",
    "2. 如果容器中包含简单而又不可变的数据，那么可以先使用namedtuple来表示，稍后有需要时，再修改为完整的类\n",
    "3. 保存内部状态的字典如果变得复杂，那就应该把这些代码拆解为多个辅助类"
   ]
  },
  {
   "cell_type": "markdown",
   "metadata": {},
   "source": [
    "# 简单的接口应该接受函数，而不是类的实例"
   ]
  },
  {
   "cell_type": "markdown",
   "metadata": {},
   "source": []
  },
  {
   "cell_type": "markdown",
   "metadata": {},
   "source": [
    "# 以@classmethod形式的多态去通用地构建对象"
   ]
  },
  {
   "cell_type": "markdown",
   "metadata": {},
   "source": [
    "# 用super初始化父类"
   ]
  },
  {
   "cell_type": "markdown",
   "metadata": {},
   "source": [
    "# 只在使用Mix-in 组件制作工具类时进行多重继承"
   ]
  },
  {
   "cell_type": "markdown",
   "metadata": {},
   "source": [
    "# 多用public属性，少用private属性"
   ]
  },
  {
   "cell_type": "markdown",
   "metadata": {},
   "source": [
    "# 继承collections.abc以实现自定义的容器类型"
   ]
  }
 ],
 "metadata": {
  "kernelspec": {
   "display_name": "Python 3",
   "language": "python",
   "name": "python3"
  },
  "language_info": {
   "codemirror_mode": {
    "name": "ipython",
    "version": 3
   },
   "file_extension": ".py",
   "mimetype": "text/x-python",
   "name": "python",
   "nbconvert_exporter": "python",
   "pygments_lexer": "ipython3",
   "version": "3.7.0"
  },
  "toc": {
   "base_numbering": 1,
   "nav_menu": {},
   "number_sections": true,
   "sideBar": true,
   "skip_h1_title": false,
   "title_cell": "Table of Contents",
   "title_sidebar": "Contents",
   "toc_cell": false,
   "toc_position": {},
   "toc_section_display": true,
   "toc_window_display": false
  },
  "varInspector": {
   "cols": {
    "lenName": 16,
    "lenType": 16,
    "lenVar": 40
   },
   "kernels_config": {
    "python": {
     "delete_cmd_postfix": "",
     "delete_cmd_prefix": "del ",
     "library": "var_list.py",
     "varRefreshCmd": "print(var_dic_list())"
    },
    "r": {
     "delete_cmd_postfix": ") ",
     "delete_cmd_prefix": "rm(",
     "library": "var_list.r",
     "varRefreshCmd": "cat(var_dic_list()) "
    }
   },
   "types_to_exclude": [
    "module",
    "function",
    "builtin_function_or_method",
    "instance",
    "_Feature"
   ],
   "window_display": false
  }
 },
 "nbformat": 4,
 "nbformat_minor": 2
}
