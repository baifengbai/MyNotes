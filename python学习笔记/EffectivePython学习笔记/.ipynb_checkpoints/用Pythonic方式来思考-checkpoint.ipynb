{
 "cells": [
  {
   "cell_type": "markdown",
   "metadata": {},
   "source": [
    "本文学习于《Effective Python:编写高质量Python代码的59个有效方法》，作者:布雷特.斯拉特金;整理:Weiyang,微信号:damo894127201,Time:2019.01.31"
   ]
  },
  {
   "cell_type": "markdown",
   "metadata": {},
   "source": [
    "一门语言的编程习惯是由用户来确定的，而以最佳方式完成常见的Python编程工作便是Pythonic方式。"
   ]
  },
  {
   "cell_type": "markdown",
   "metadata": {},
   "source": [
    "# 确认自己所用的Python版本"
   ]
  },
  {
   "cell_type": "markdown",
   "metadata": {},
   "source": [
    "Python社区把开发重点放在Python3上，因此在开发项目时应优先使用Python3;而Python2的功能开发已经冻结，只会进行bug修复，安全增强以及移植等工作，以便开发者能顺利从Python2迁移到Python3。"
   ]
  },
  {
   "cell_type": "markdown",
   "metadata": {},
   "source": [
    "#查看Python版本\n",
    "\n",
    "命令: python --version"
   ]
  },
  {
   "cell_type": "code",
   "execution_count": 1,
   "metadata": {},
   "outputs": [
    {
     "name": "stdout",
     "output_type": "stream",
     "text": [
      "sys.version_info(major=3, minor=6, micro=2, releaselevel='final', serial=0)\n",
      "3.6.2 |Anaconda custom (64-bit)| (default, Sep 22 2017, 02:03:08) \n",
      "[GCC 7.2.0]\n"
     ]
    }
   ],
   "source": [
    "import sys\n",
    "\n",
    "print(sys.version_info)\n",
    "print(sys.version)"
   ]
  },
  {
   "cell_type": "markdown",
   "metadata": {},
   "source": [
    "# 遵循PEP 8 风格指南"
   ]
  },
  {
   "cell_type": "markdown",
   "metadata": {},
   "source": [
    "《Python Enhancement Proposal #\\8》(8号Python增强提案)又称为PEP8，它是针对Python代码格式而编订的风格指南。\n",
    "\n",
    "下面几条是绝对应该遵守的规则"
   ]
  },
  {
   "cell_type": "markdown",
   "metadata": {},
   "source": [
    "## 空白"
   ]
  },
  {
   "cell_type": "markdown",
   "metadata": {},
   "source": [
    "1. 使用space(空格)来表示缩进，而不要用tab(制表符)\n",
    "2. 和语法相关的每一层缩进都用4个空格来表示\n",
    "3. 每行的字符数不超过79个\n",
    "4. 对于占据多行的长表达式来说，除了首行之外的其余各行都应该在通常的缩进级别之上再加4个空格\n",
    "5. 文件中的函数与类之间应该用两个空行隔开\n",
    "6. 在同一个类中，各方法之间应该用一个空行隔开\n",
    "7. 在使用下标来获取列表元素，调用函数或给关键字参数赋值的时候，不要在两旁添加空格\n",
    "8. 为变量赋值的时候，赋值符号的左侧和右侧应该各自写上一个空格，而且只写一个就好"
   ]
  },
  {
   "cell_type": "markdown",
   "metadata": {},
   "source": [
    "## 命名"
   ]
  },
  {
   "cell_type": "markdown",
   "metadata": {},
   "source": [
    "PEP 8 提倡采用不同的命名风格来编写Python代码中的各个部分，以便在阅读代码时可以根据这些名称看出它们在Python语言中的角色。"
   ]
  },
  {
   "cell_type": "markdown",
   "metadata": {},
   "source": [
    "1. 函数，变量及属性应该用小写字母来拼写，各单词之间以下划线相连，例如，lowercase_underscore\n",
    "2. 受保护的实例属性，应该以单个下划线开头，例如，\\_leading_underscore\n",
    "3. 私有的实例属性，应该以两个下划线开头，例如，\\__double_leading_underscore\n",
    "4. 类与异常，应该以每个单词首字母均大写的形式来命名，例如，CapitalizedWord\n",
    "5. 模块级别的常量，应该全部采用大写字母来拼写，各单词之间以下划线相连，例如，ALL_CAPS\n",
    "6. 类中的实例方法(instance method)，应该把首个参数命名为self,以表示该对象本身\n",
    "7. 类方法(class method)的首个参数，应该命名为cls，以表示该类本身"
   ]
  },
  {
   "cell_type": "markdown",
   "metadata": {},
   "source": [
    "## 表达式和语句"
   ]
  },
  {
   "cell_type": "markdown",
   "metadata": {},
   "source": [
    "每件事都应该有直白的做法，而且最好只有一种。PEP 8在制定表达式和语句风格时，就试着体现了这种思想。"
   ]
  },
  {
   "cell_type": "markdown",
   "metadata": {},
   "source": [
    "1. 采用内联形式的否定词，而不要把否定词放在整个表达式的前面，例如，应该写if a is not b而不是if not a is b\n",
    "2. 不要通过检测长度的方法(如 if len(somelist) == 0)来判断somelist是否为[]或''等空值，而是应该采用if not somelist这种写法来判断，它会假定:空值将自动评估为False"
   ]
  },
  {
   "cell_type": "code",
   "execution_count": 2,
   "metadata": {},
   "outputs": [
    {
     "name": "stdout",
     "output_type": "stream",
     "text": [
      "somelist1 length :  1\n",
      "somelist2 length :  1\n",
      "somelist3 length :  0\n",
      "somelist3 is None\n"
     ]
    }
   ],
   "source": [
    "somelist1 = [[]]\n",
    "somelist2 = ['']\n",
    "somelist3 = []\n",
    "print('somelist1 length : ',len(somelist1))\n",
    "print('somelist2 length : ',len(somelist2))\n",
    "print('somelist3 length : ',len(somelist3))\n",
    "if not somelist1:\n",
    "    print('somelist1 is None')\n",
    "if not somelist2:\n",
    "    print('somelist2 is None')\n",
    "if not somelist3:\n",
    "    print('somelist3 is None')"
   ]
  },
  {
   "cell_type": "markdown",
   "metadata": {},
   "source": [
    "1. 检测somelist是否为[1]或'hi'等非空值时，也应该如此，if somelist语句默认会把非空的值判断为True\n",
    "2. 不要编写单行的if语句，for循环,while循环及except复合语句，而是应该把这些语句分成多行来书写，以示清晰\n",
    "3. import语句应该总是放在文件开头\n",
    "4. 引入模块的时候，总是应该使用绝对名称，而不应该根据当前模块的路径来使用相对名称。例如，引入bar包中的foo模块时，应该完整地写出from bar import foo，而不应该简写为import foo\n",
    "5. 如果一定要以相对名称来编写import语句，那就采用明确的写法: from . import foo\n",
    "6. 文件中的那些import语句应该按顺序划分成三个部分，分别表示标准库模块，第三方模块以及自用模块。在每一部分中，各import语句应该按模块的字母顺序来排列"
   ]
  },
  {
   "cell_type": "markdown",
   "metadata": {},
   "source": [
    "# 了解bytes、str与unicode的区别"
   ]
  },
  {
   "cell_type": "markdown",
   "metadata": {},
   "source": [
    "原始的8位值，表示原始的字节，由于每个字节有8个二进制位，故称原生8位值，它们是二进制数据"
   ]
  },
  {
   "cell_type": "markdown",
   "metadata": {},
   "source": [
    "## Python2中两种表示字符序列的类型"
   ]
  },
  {
   "cell_type": "markdown",
   "metadata": {},
   "source": [
    "1. str,包含原始的8位值\n",
    "2. unicode，包含Unicode字符"
   ]
  },
  {
   "cell_type": "markdown",
   "metadata": {},
   "source": [
    "## Python3中两种表示字符序列的类型"
   ]
  },
  {
   "cell_type": "markdown",
   "metadata": {},
   "source": [
    "1. bytes，包含原始的8位值\n",
    "2. str，包含Unicode字符"
   ]
  },
  {
   "cell_type": "markdown",
   "metadata": {},
   "source": [
    "Python3的str实例和Python2的unicode实例都没有和特定的**二进制编码形式**相关联。要想把Unicode字符转换成二进制数据（原生8位值），就必须使用encode方法；要想把二进制数据转换成Unicode字符，则必须decode。\n",
    "\n",
    "在编写Python程序时，一定要把编码和解码操作放在界面最外围来做，而程序的核心部分应该使用Unicode字符类型(也就是Python3的str，Python2的unicode)，而不要对字符编码做任何假设。这种方式既可以令程序接受多种类型的文本编码，又可以保证输出的文本信息只采用一种编码形式，最好是utf-8。"
   ]
  },
  {
   "cell_type": "markdown",
   "metadata": {},
   "source": [
    "在Python3中，bytes是一种包含8位值的序列，str是一种包含Unicode字符的序列。开发者不能以>或+等操作符来混同操作bytes和str实例。\n",
    "\n",
    "在Python2中，str是一种包含8位值的序列，unicode是一种包含Unicode字符的序列。如果str只含有7位的ASCII字符，那么可以通过相关的操作来同时使用str与unicode。"
   ]
  },
  {
   "cell_type": "markdown",
   "metadata": {},
   "source": [
    "# 用辅助函数来取代复杂的表达式"
   ]
  },
  {
   "cell_type": "markdown",
   "metadata": {},
   "source": [
    "表达式如果变得比较复杂，那就应该考虑将其拆解成小块，并把这些逻辑移入辅助函数中。这会令代码更加易读，它比原来那种密集的写法更好。编写Python程序时，不要一味追求过于紧凑的写法，那样会写出非常复杂的表达式。\n",
    "\n",
    "请把复杂的表达式移入辅助函数中，如果要反复使用相同的逻辑，那就更应该这么做。\n",
    "\n",
    "使用if/else表达式，要比用or或and这样的Boolean操作符写成的表达式更加清晰。"
   ]
  },
  {
   "cell_type": "markdown",
   "metadata": {},
   "source": [
    "# 了解切割序列的方法"
   ]
  },
  {
   "cell_type": "markdown",
   "metadata": {},
   "source": [
    "Python提供了一种把序列切割成小块的写法，这种切片(slice)操作，使得开发者能够轻易地访问由序列中的某些元素所构成的子集。\n",
    "\n",
    "切割操作的基本写法是somelist[start:end]，其中start（起始索引） 所指的元素涵盖在切割后的范围内，而end(结束索引)所指的元素则不包含在切割结果之内。"
   ]
  },
  {
   "cell_type": "code",
   "execution_count": 3,
   "metadata": {
    "collapsed": true
   },
   "outputs": [],
   "source": [
    "a = [1,2,3,4,5,6,7,8]"
   ]
  },
  {
   "cell_type": "markdown",
   "metadata": {},
   "source": [
    "从列表头部获取切片，start应该省略"
   ]
  },
  {
   "cell_type": "code",
   "execution_count": 4,
   "metadata": {},
   "outputs": [
    {
     "data": {
      "text/plain": [
       "[1, 2, 3, 4, 5]"
      ]
     },
     "execution_count": 4,
     "metadata": {},
     "output_type": "execute_result"
    }
   ],
   "source": [
    "a[:5]"
   ]
  },
  {
   "cell_type": "markdown",
   "metadata": {},
   "source": [
    "如果切片一直取到列表末尾，则end应该省略"
   ]
  },
  {
   "cell_type": "code",
   "execution_count": 5,
   "metadata": {},
   "outputs": [
    {
     "data": {
      "text/plain": [
       "[4, 5, 6, 7, 8]"
      ]
     },
     "execution_count": 5,
     "metadata": {},
     "output_type": "execute_result"
    }
   ],
   "source": [
    "a[3:]"
   ]
  },
  {
   "cell_type": "markdown",
   "metadata": {},
   "source": [
    "若要从列表尾部向前获取元素，可用负值来表示相关偏移量"
   ]
  },
  {
   "cell_type": "code",
   "execution_count": 6,
   "metadata": {},
   "outputs": [
    {
     "data": {
      "text/plain": [
       "([8], [7, 8], [4, 5, 6, 7, 8], [], [4, 5, 6])"
      ]
     },
     "execution_count": 6,
     "metadata": {},
     "output_type": "execute_result"
    }
   ],
   "source": [
    "a[-1:],a[-2:],a[-5:],a[-2:-5],a[-5:-2]"
   ]
  },
  {
   "cell_type": "markdown",
   "metadata": {},
   "source": [
    "切割列表时，即便start和end索引越界也不会出问题，利用这一特性便可以限定输入序列的最大长度"
   ]
  },
  {
   "cell_type": "code",
   "execution_count": 7,
   "metadata": {},
   "outputs": [
    {
     "data": {
      "text/plain": [
       "[1, 2, 3, 4, 5, 6, 7, 8]"
      ]
     },
     "execution_count": 7,
     "metadata": {},
     "output_type": "execute_result"
    }
   ],
   "source": [
    "first_twenty_items = a[:20]\n",
    "first_twenty_items"
   ]
  },
  {
   "cell_type": "markdown",
   "metadata": {},
   "source": [
    "访问单个元素时，下标不能越界"
   ]
  },
  {
   "cell_type": "markdown",
   "metadata": {},
   "source": [
    "对原列表进行切割后，会产生另外一份全新的列表。系统依然维护着指向原列表中各个对象的引用。因此，在切割后得到的新列表上进行修改，不会影响原列表。"
   ]
  },
  {
   "cell_type": "markdown",
   "metadata": {},
   "source": [
    "在赋值时对左侧列表使用切片操作，会把该列表中处在指定范围的对象替换为新值，并且两侧的值的个数可以不等，因此列表会根据新值的个数相应地扩张或收缩"
   ]
  },
  {
   "cell_type": "code",
   "execution_count": 8,
   "metadata": {},
   "outputs": [
    {
     "data": {
      "text/plain": [
       "[1, 2, 0, 0, 7, 8]"
      ]
     },
     "execution_count": 8,
     "metadata": {},
     "output_type": "execute_result"
    }
   ],
   "source": [
    "a[2:6] = [0,0]\n",
    "a"
   ]
  },
  {
   "cell_type": "markdown",
   "metadata": {},
   "source": [
    "如果将start和end都省略，那就会产生一份原列表的拷贝"
   ]
  },
  {
   "cell_type": "code",
   "execution_count": 9,
   "metadata": {},
   "outputs": [
    {
     "data": {
      "text/plain": [
       "False"
      ]
     },
     "execution_count": 9,
     "metadata": {},
     "output_type": "execute_result"
    }
   ],
   "source": [
    "b = a[:]\n",
    "a is b"
   ]
  },
  {
   "cell_type": "markdown",
   "metadata": {},
   "source": [
    "对列表重新赋值"
   ]
  },
  {
   "cell_type": "code",
   "execution_count": 10,
   "metadata": {},
   "outputs": [
    {
     "data": {
      "text/plain": [
       "[2, 3, 4]"
      ]
     },
     "execution_count": 10,
     "metadata": {},
     "output_type": "execute_result"
    }
   ],
   "source": [
    "a[:] = [2,3,4]\n",
    "a"
   ]
  },
  {
   "cell_type": "markdown",
   "metadata": {},
   "source": [
    "# 在单词切片操作内，不要同时指定start、end和stride"
   ]
  },
  {
   "cell_type": "markdown",
   "metadata": {},
   "source": [
    "除了基本的切片操作之外，Python还提供了**步进式**切割，即每n个元素取1个，somelist[start:end:stride]"
   ]
  },
  {
   "cell_type": "code",
   "execution_count": 11,
   "metadata": {
    "collapsed": true
   },
   "outputs": [],
   "source": [
    "a = ['red','orange','yellow','green','blue','purple']"
   ]
  },
  {
   "cell_type": "markdown",
   "metadata": {},
   "source": [
    "偶数索引处的元素"
   ]
  },
  {
   "cell_type": "code",
   "execution_count": 12,
   "metadata": {},
   "outputs": [
    {
     "data": {
      "text/plain": [
       "['red', 'yellow', 'blue']"
      ]
     },
     "execution_count": 12,
     "metadata": {},
     "output_type": "execute_result"
    }
   ],
   "source": [
    "a[::2]"
   ]
  },
  {
   "cell_type": "markdown",
   "metadata": {},
   "source": [
    "奇数索引处的元素"
   ]
  },
  {
   "cell_type": "code",
   "execution_count": 13,
   "metadata": {},
   "outputs": [
    {
     "data": {
      "text/plain": [
       "['orange', 'green', 'purple']"
      ]
     },
     "execution_count": 13,
     "metadata": {},
     "output_type": "execute_result"
    }
   ],
   "source": [
    "a[1::2]"
   ]
  },
  {
   "cell_type": "markdown",
   "metadata": {},
   "source": [
    "如果stride=-1,则会将列表反转"
   ]
  },
  {
   "cell_type": "code",
   "execution_count": 14,
   "metadata": {},
   "outputs": [
    {
     "data": {
      "text/plain": [
       "['purple', 'blue', 'green', 'yellow', 'orange', 'red']"
      ]
     },
     "execution_count": 14,
     "metadata": {},
     "output_type": "execute_result"
    }
   ],
   "source": [
    "a[::-1]"
   ]
  },
  {
   "cell_type": "markdown",
   "metadata": {},
   "source": [
    "为避免代码难以阅读，我们不应该把stride与start和end同时写在一起。如果非要用stride，则尽量用正值；如果一定要配合start或end索引来使用stride，则尽量分成两步：先做范围切割[1:9]，再在结果上做步进式切片[::2]"
   ]
  },
  {
   "cell_type": "markdown",
   "metadata": {},
   "source": [
    "# 用列表推导来取代map和filter"
   ]
  },
  {
   "cell_type": "markdown",
   "metadata": {},
   "source": [
    "Python提供了一种精炼的写法，可以根据一份列表来制作另一份，这种表达式便是list comprehension(列表推导)。"
   ]
  },
  {
   "cell_type": "markdown",
   "metadata": {},
   "source": [
    "用列表中每个元素的平方值构建另一份列表"
   ]
  },
  {
   "cell_type": "code",
   "execution_count": 15,
   "metadata": {},
   "outputs": [
    {
     "data": {
      "text/plain": [
       "[1, 4, 9]"
      ]
     },
     "execution_count": 15,
     "metadata": {},
     "output_type": "execute_result"
    }
   ],
   "source": [
    "[i**2 for i in [1,2,3]]"
   ]
  },
  {
   "cell_type": "markdown",
   "metadata": {},
   "source": [
    "除非是调用只有一个参数的函数，否则，对于简单的情况来说，列表推导要比内置的map函数更清晰。要使用map，就要创建lambda函数，以便计算新列表中各个元素的值。"
   ]
  },
  {
   "cell_type": "code",
   "execution_count": 16,
   "metadata": {},
   "outputs": [
    {
     "data": {
      "text/plain": [
       "[1, 4, 9]"
      ]
     },
     "execution_count": 16,
     "metadata": {},
     "output_type": "execute_result"
    }
   ],
   "source": [
    "b = map(lambda x:x**2,[1,2,3])\n",
    "list(b)"
   ]
  },
  {
   "cell_type": "markdown",
   "metadata": {},
   "source": [
    "列表推导可以直接过滤原列表中不符合要求的元素，使得生成的新列表不会包含对应的计算结果"
   ]
  },
  {
   "cell_type": "code",
   "execution_count": 17,
   "metadata": {},
   "outputs": [
    {
     "data": {
      "text/plain": [
       "[4, 16]"
      ]
     },
     "execution_count": 17,
     "metadata": {},
     "output_type": "execute_result"
    }
   ],
   "source": [
    "[i**2 for i in [1,2,3,4,5] if i % 2 == 0]"
   ]
  },
  {
   "cell_type": "markdown",
   "metadata": {},
   "source": [
    "把内置的filter函数与map结合起来，也能达到同样的效果，但代码会复杂"
   ]
  },
  {
   "cell_type": "code",
   "execution_count": 18,
   "metadata": {},
   "outputs": [
    {
     "data": {
      "text/plain": [
       "[4, 16]"
      ]
     },
     "execution_count": 18,
     "metadata": {},
     "output_type": "execute_result"
    }
   ],
   "source": [
    "b = map(lambda x:x**2,filter(lambda x:x % 2 == 0,[1,2,3,4,5]))\n",
    "list(b)"
   ]
  },
  {
   "cell_type": "markdown",
   "metadata": {},
   "source": [
    "字典dict与集合set，也有和列表类似的推导机制"
   ]
  },
  {
   "cell_type": "code",
   "execution_count": 19,
   "metadata": {},
   "outputs": [
    {
     "data": {
      "text/plain": [
       "{1: 'a', 2: 'b'}"
      ]
     },
     "execution_count": 19,
     "metadata": {},
     "output_type": "execute_result"
    }
   ],
   "source": [
    "{value:key for key,value in {'a':1,'b':2}.items()}"
   ]
  },
  {
   "cell_type": "code",
   "execution_count": 20,
   "metadata": {},
   "outputs": [
    {
     "data": {
      "text/plain": [
       "<generator object <genexpr> at 0x7f06201acba0>"
      ]
     },
     "execution_count": 20,
     "metadata": {},
     "output_type": "execute_result"
    }
   ],
   "source": [
    "b = (i for i in [1,2,3])\n",
    "b"
   ]
  },
  {
   "cell_type": "markdown",
   "metadata": {},
   "source": [
    "# 不要使用含有两个以上表达式的列表推导"
   ]
  },
  {
   "cell_type": "markdown",
   "metadata": {},
   "source": [
    "列表推导支持多重循环"
   ]
  },
  {
   "cell_type": "code",
   "execution_count": 21,
   "metadata": {},
   "outputs": [
    {
     "data": {
      "text/plain": [
       "[1, 2, 3, 4, 5, 6, 7, 8, 9]"
      ]
     },
     "execution_count": 21,
     "metadata": {},
     "output_type": "execute_result"
    }
   ],
   "source": [
    "matrix = [[1,2,3],[4,5,6],[7,8,9]]\n",
    "flat = [x for row in matrix for x in row] # 先遍历每行，再遍历每行中每个元素\n",
    "flat"
   ]
  },
  {
   "cell_type": "markdown",
   "metadata": {},
   "source": [
    "根据输入列表来创建有两层深度的新列表"
   ]
  },
  {
   "cell_type": "code",
   "execution_count": 22,
   "metadata": {},
   "outputs": [
    {
     "data": {
      "text/plain": [
       "[[1, 4, 9], [16, 25, 36], [49, 64, 81]]"
      ]
     },
     "execution_count": 22,
     "metadata": {},
     "output_type": "execute_result"
    }
   ],
   "source": [
    "b = [[x**2 for x in row] for row in matrix]\n",
    "b "
   ]
  },
  {
   "cell_type": "markdown",
   "metadata": {},
   "source": [
    "列表推导支持多个if条件，处在同一循环级别中的多项条件，彼此之间默认形成and表达式。每一级循环的for表达式后面都可以指定条件。"
   ]
  },
  {
   "cell_type": "code",
   "execution_count": 23,
   "metadata": {},
   "outputs": [
    {
     "data": {
      "text/plain": [
       "([6, 8], [6, 8], [2, 4, 5, 6, 7, 8, 9])"
      ]
     },
     "execution_count": 23,
     "metadata": {},
     "output_type": "execute_result"
    }
   ],
   "source": [
    "a = [1,2,3,4,5,6,7,8,9]\n",
    "b = [x for x in a if x > 4 if x % 2 == 0]\n",
    "c = [x for x in a if x > 4 and x % 2 == 0]\n",
    "d = [x for x in a if x > 4 or x % 2 == 0]\n",
    "b,c,d"
   ]
  },
  {
   "cell_type": "markdown",
   "metadata": {},
   "source": [
    "在列表推导中，最好不要使用两个以上的表达式。可以使用两个条件，两个循环或一个条件搭配一个循环。如果要写的代码比这还复杂，那就应该使用普通的if和for语句，并编写辅助函数。"
   ]
  },
  {
   "cell_type": "markdown",
   "metadata": {},
   "source": [
    "# 用生成器表达式来改写数据量较大的列表推导"
   ]
  },
  {
   "cell_type": "markdown",
   "metadata": {},
   "source": [
    "列表推导的缺点是，在推导过程中，对于输入序列中的每个值来说，可能都要创建仅含一项元素的全新列表。当输入的数据比较少时，不会出现问题，但如果输入的数据非常多，那么可能会消耗大量内存，并导致程序崩溃。"
   ]
  },
  {
   "cell_type": "markdown",
   "metadata": {},
   "source": [
    "为了解决此问题，Python提供了**生成器表达式**(generator expression),它是对列表推导和生成器的一种泛化。生成器表达式在运行的时候，并不会把整个输出序列都呈现出来，而是会估值为**迭代器**(iterator)，这个迭代器每次可以根据生成器表达式产生一项数据。"
   ]
  },
  {
   "cell_type": "markdown",
   "metadata": {},
   "source": [
    "生成器表达式实现方法:\n",
    "\n",
    "把实现列表推导所用的那种写法放在一对圆括号中，就构成了生成器表达式。生成器表达式会返回一个迭代器。"
   ]
  },
  {
   "cell_type": "code",
   "execution_count": 24,
   "metadata": {},
   "outputs": [
    {
     "data": {
      "text/plain": [
       "<generator object <genexpr> at 0x7f06201ac2b0>"
      ]
     },
     "execution_count": 24,
     "metadata": {},
     "output_type": "execute_result"
    }
   ],
   "source": [
    "it = (len(x) for x in ['aa','b','dddd'])\n",
    "it"
   ]
  },
  {
   "cell_type": "markdown",
   "metadata": {},
   "source": [
    "以刚才的迭代器为参数，逐次调用内置的next()函数，即可使其按照生成器表达式来输出下一个值。可以根据自己的需要，多次命令迭代器根据生成器表达式来生成新值，而不用担心内存用量激增。"
   ]
  },
  {
   "cell_type": "code",
   "execution_count": 25,
   "metadata": {},
   "outputs": [
    {
     "data": {
      "text/plain": [
       "2"
      ]
     },
     "execution_count": 25,
     "metadata": {},
     "output_type": "execute_result"
    }
   ],
   "source": [
    "next(it)"
   ]
  },
  {
   "cell_type": "markdown",
   "metadata": {},
   "source": [
    "使用生成器表达式还有个好处便是，生成器之间可以互相结合。将某个生成器表达式所返回的迭代器，放在另一个生成器表达式的for子表达式中，即可将二者结合起来。下面这行代码便利用了上面那个生成器所返回的迭代器来创造另一个生成器"
   ]
  },
  {
   "cell_type": "code",
   "execution_count": 26,
   "metadata": {},
   "outputs": [
    {
     "data": {
      "text/plain": [
       "<generator object <genexpr> at 0x7f06201acaf0>"
      ]
     },
     "execution_count": 26,
     "metadata": {},
     "output_type": "execute_result"
    }
   ],
   "source": [
    "roots = ((x,x**0.5) for x in it)\n",
    "roots"
   ]
  },
  {
   "cell_type": "markdown",
   "metadata": {},
   "source": [
    "外围的迭代器每次前进时，都会推动内部那个迭代器，这就产生了连锁反应，使得执行循环，评估条件，对接输入和输出等逻辑都组合在一起了。注意，由于生成器表达式所返回的那个迭代器是**有状态的**，用过一轮后，就不要反复使用了。"
   ]
  },
  {
   "cell_type": "markdown",
   "metadata": {},
   "source": [
    "# 尽量用enumerate取代range"
   ]
  },
  {
   "cell_type": "markdown",
   "metadata": {},
   "source": [
    "1. enumerate()函数提供了一种精简的写法，可以在遍历迭代器时获知每个元素的索引\n",
    "2. 尽量用enumerate()来改写那种将range与下标访问相结合的序列遍历代码\n",
    "3. 可以给enumerate()提供第二个参数，以指定开始计数时所用的值(默认为0)"
   ]
  },
  {
   "cell_type": "code",
   "execution_count": 27,
   "metadata": {},
   "outputs": [
    {
     "name": "stdout",
     "output_type": "stream",
     "text": [
      "0: vanilla\n",
      "1: chocolate\n",
      "2: pecan\n",
      "3: strawberry\n",
      "\n",
      "1: vanilla\n",
      "2: chocolate\n",
      "3: pecan\n",
      "4: strawberry\n"
     ]
    }
   ],
   "source": [
    "flavor_list = ['vanilla','chocolate','pecan','strawberry']\n",
    "for i,flavor in enumerate(flavor_list):\n",
    "    print('%d: %s'%(i,flavor))\n",
    "print()\n",
    "for i,flavor in enumerate(flavor_list,1):\n",
    "    print('%d: %s'%(i,flavor))"
   ]
  },
  {
   "cell_type": "markdown",
   "metadata": {},
   "source": [
    "# 用zip函数同时遍历两个迭代器"
   ]
  },
  {
   "cell_type": "markdown",
   "metadata": {},
   "source": [
    "1. 内置的zip函数可以平行地遍历多个迭代器\n",
    "2. Python3中的zip函数相当于生成器，会在遍历过程中逐次产生元组；Python2中的zip函数则是直接把这些元素完全生成好，并一次性地返回整份列表，在数据量大时，会占用很多内存\n",
    "3. 如果提供的迭代器(或列表)长度不等，那么只要有一个耗尽，zip就会自动提前终止，不再产生元组\n",
    "4. itertools内置模块中的zip_longest函数可以平行遍历多个迭代器，而不用在乎它们的长度是否相等；此函数在Python2中叫izip_longest"
   ]
  },
  {
   "cell_type": "code",
   "execution_count": 28,
   "metadata": {},
   "outputs": [
    {
     "data": {
      "text/plain": [
       "('Cecilia', 7)"
      ]
     },
     "execution_count": 28,
     "metadata": {},
     "output_type": "execute_result"
    }
   ],
   "source": [
    "names = ['Cecilia','Lise','Marie']\n",
    "letters = [len(n) for n in names]\n",
    "\n",
    "max_letters = 0 # 最长的名字长度\n",
    "longest_name = None\n",
    "for name,count in zip(names,letters):\n",
    "    if count > max_letters:\n",
    "        longest_name = name\n",
    "        max_letters = count\n",
    "longest_name,max_letters"
   ]
  },
  {
   "cell_type": "markdown",
   "metadata": {},
   "source": [
    "# 不要在for和while 循环后面写else模块"
   ]
  },
  {
   "cell_type": "markdown",
   "metadata": {},
   "source": [
    "1. Python有种特殊语法，可在for及while循环的内部语句块之后紧跟一个else块\n",
    "2. **只有当整个循环主体都没有遇到break语句时，循环后面的else块才会执行**\n",
    "3. 不要在循环后面使用else块，因为这种写法既不直观，又费解"
   ]
  },
  {
   "cell_type": "markdown",
   "metadata": {},
   "source": [
    "for循环中没有遇到break语句，会执行else块"
   ]
  },
  {
   "cell_type": "code",
   "execution_count": 29,
   "metadata": {},
   "outputs": [
    {
     "name": "stdout",
     "output_type": "stream",
     "text": [
      "Testing 2\n",
      "Testing 3\n",
      "Testing 4\n",
      "Coprime\n"
     ]
    }
   ],
   "source": [
    "a,b = 4,9\n",
    "for i in range(2,min(a,b) + 1):\n",
    "    print('Testing',i)\n",
    "    if a % i == 0 and b % i == 0:\n",
    "        print('Not coprime')\n",
    "        break\n",
    "else:\n",
    "    print('Coprime')"
   ]
  },
  {
   "cell_type": "markdown",
   "metadata": {},
   "source": [
    "for 循环中没有遇到break语句，会执行else块"
   ]
  },
  {
   "cell_type": "code",
   "execution_count": 30,
   "metadata": {},
   "outputs": [
    {
     "name": "stdout",
     "output_type": "stream",
     "text": [
      "Loop 0\n",
      "Loop 1\n",
      "Loop 2\n",
      "Else block !\n"
     ]
    }
   ],
   "source": [
    "for i in range(3):\n",
    "    print('Loop %d'% i)\n",
    "else:\n",
    "    print('Else block !')"
   ]
  },
  {
   "cell_type": "markdown",
   "metadata": {},
   "source": [
    "for 循环语句中遇到break语句，不会执行else块"
   ]
  },
  {
   "cell_type": "code",
   "execution_count": 31,
   "metadata": {},
   "outputs": [
    {
     "name": "stdout",
     "output_type": "stream",
     "text": [
      "Loop 0\n",
      "Loop 1\n"
     ]
    }
   ],
   "source": [
    "for i in range(3):\n",
    "    print('Loop %d'% i)\n",
    "    if i == 1:\n",
    "        break\n",
    "else:\n",
    "    print('Else block!')"
   ]
  },
  {
   "cell_type": "markdown",
   "metadata": {},
   "source": [
    "for 循环遍历的序列是空的，会执行else块"
   ]
  },
  {
   "cell_type": "code",
   "execution_count": 32,
   "metadata": {},
   "outputs": [
    {
     "name": "stdout",
     "output_type": "stream",
     "text": [
      "For Else block !\n"
     ]
    }
   ],
   "source": [
    "for x in []:\n",
    "    print('Never runs')\n",
    "else:\n",
    "    print('For Else block !')"
   ]
  },
  {
   "cell_type": "markdown",
   "metadata": {},
   "source": [
    "while循环的初始循环条件为False,会执行else块"
   ]
  },
  {
   "cell_type": "code",
   "execution_count": 33,
   "metadata": {},
   "outputs": [
    {
     "name": "stdout",
     "output_type": "stream",
     "text": [
      "While Else block !\n"
     ]
    }
   ],
   "source": [
    "while False:\n",
    "    print('Never runs')\n",
    "else:\n",
    "    print('While Else block !')"
   ]
  },
  {
   "cell_type": "markdown",
   "metadata": {},
   "source": [
    "# 合理利用try/except/else/finally结构中的每个代码块"
   ]
  },
  {
   "cell_type": "markdown",
   "metadata": {},
   "source": [
    "Python程序的异常处理可能要考虑四种不同的时机。这些时机可以用try,except,else和finally块来表述。复合语句中的每个块都有特定的用途，它们可以构成很多组合方式。"
   ]
  },
  {
   "cell_type": "markdown",
   "metadata": {},
   "source": [
    "## try块"
   ]
  },
  {
   "cell_type": "markdown",
   "metadata": {},
   "source": [
    "异常可能发生的地方，用于检测异常发生的部分"
   ]
  },
  {
   "cell_type": "markdown",
   "metadata": {},
   "source": [
    "## except块"
   ]
  },
  {
   "cell_type": "markdown",
   "metadata": {},
   "source": [
    "处理try块中可能发生的异常"
   ]
  },
  {
   "cell_type": "markdown",
   "metadata": {},
   "source": [
    "## else块"
   ]
  },
  {
   "cell_type": "markdown",
   "metadata": {},
   "source": [
    "如果不发生异常，便会执行此代码块。因此我们可以将try中代码块的代码尽量挪到此处。\n",
    "\n",
    "try/except/else"
   ]
  },
  {
   "cell_type": "markdown",
   "metadata": {},
   "source": [
    "## finally块"
   ]
  },
  {
   "cell_type": "markdown",
   "metadata": {},
   "source": [
    "无论是否发生异常，该代码块必然会执行，我们可以将一些清理工作放在这里，这样可以保证，比如文件句柄必然会被关闭。\n",
    "\n",
    "try/finally 块既可以将异常向上传播，又可以在异常发生时执行清理工作。"
   ]
  }
 ],
 "metadata": {
  "kernelspec": {
   "display_name": "Python 3",
   "language": "python",
   "name": "python3"
  },
  "language_info": {
   "codemirror_mode": {
    "name": "ipython",
    "version": 3
   },
   "file_extension": ".py",
   "mimetype": "text/x-python",
   "name": "python",
   "nbconvert_exporter": "python",
   "pygments_lexer": "ipython3",
   "version": "3.6.2"
  },
  "toc": {
   "base_numbering": 1,
   "nav_menu": {},
   "number_sections": true,
   "sideBar": true,
   "skip_h1_title": false,
   "title_cell": "Table of Contents",
   "title_sidebar": "Contents",
   "toc_cell": false,
   "toc_position": {},
   "toc_section_display": true,
   "toc_window_display": true
  },
  "varInspector": {
   "cols": {
    "lenName": 16,
    "lenType": 16,
    "lenVar": 40
   },
   "kernels_config": {
    "python": {
     "delete_cmd_postfix": "",
     "delete_cmd_prefix": "del ",
     "library": "var_list.py",
     "varRefreshCmd": "print(var_dic_list())"
    },
    "r": {
     "delete_cmd_postfix": ") ",
     "delete_cmd_prefix": "rm(",
     "library": "var_list.r",
     "varRefreshCmd": "cat(var_dic_list()) "
    }
   },
   "types_to_exclude": [
    "module",
    "function",
    "builtin_function_or_method",
    "instance",
    "_Feature"
   ],
   "window_display": false
  }
 },
 "nbformat": 4,
 "nbformat_minor": 2
}
