{
 "cells": [
  {
   "cell_type": "markdown",
   "metadata": {},
   "source": [
    "python的 **configparser模块** 用来读取**配置文件**(文件后缀为**.conf**)。配置文件是包含一个或多个节(section)，每个节可以有多个参数(键=值)的文件。使用配置文件的好处就是如果更改程序配置，只需修改配置文件即可。"
   ]
  },
  {
   "cell_type": "markdown",
   "metadata": {},
   "source": [
    "# 配置文件.conf的写法"
   ]
  },
  {
   "cell_type": "markdown",
   "metadata": {},
   "source": [
    "在\\[section\\] 下，配置key=value。section可以自己命名，key便是待配置的属性名，value是其对应的值。下面是`./code/myConfig.conf`配置文件："
   ]
  },
  {
   "cell_type": "code",
   "execution_count": 1,
   "metadata": {
    "ExecuteTime": {
     "end_time": "2019-04-18T23:37:52.569717Z",
     "start_time": "2019-04-18T23:37:52.563737Z"
    }
   },
   "outputs": [
    {
     "name": "stdout",
     "output_type": "stream",
     "text": [
      "[logging] # section1\n",
      "\n",
      "level = 20 # option1\n",
      "\n",
      "path = './code/myLog.log' # option2\n",
      "\n",
      "server = 220.168.25.32 # # option3\n",
      "\n",
      "\n",
      "\n",
      "[mysql] # section2\n",
      "\n",
      "host = 127.0.0.1\n",
      "\n",
      "port = 3360\n",
      "\n",
      "user = root\n",
      "\n",
      "password = 123456\n"
     ]
    }
   ],
   "source": [
    "with open('./code/myConfig.ini','r') as fi:\n",
    "    for line in fi:\n",
    "        print(line)"
   ]
  },
  {
   "cell_type": "markdown",
   "metadata": {},
   "source": [
    "方括号里的叫section，等号左侧的是一个option，右侧是option的value 。 `#`后面是注释，但注意，注释只能是英文，中文会报错"
   ]
  },
  {
   "cell_type": "markdown",
   "metadata": {},
   "source": [
    "# 读取配置文件"
   ]
  },
  {
   "cell_type": "code",
   "execution_count": 2,
   "metadata": {
    "ExecuteTime": {
     "end_time": "2019-04-18T23:37:52.649501Z",
     "start_time": "2019-04-18T23:37:52.632557Z"
    }
   },
   "outputs": [
    {
     "data": {
      "text/plain": [
       "['./code/myConfig.conf']"
      ]
     },
     "execution_count": 2,
     "metadata": {},
     "output_type": "execute_result"
    }
   ],
   "source": [
    "import configparser\n",
    "\n",
    "cfg = configparser.ConfigParser() # 创建配置文件对象\n",
    "cfg.read('./code/myConfig.ini') # 读取配置文件"
   ]
  },
  {
   "cell_type": "markdown",
   "metadata": {},
   "source": [
    "## 读取所有的section"
   ]
  },
  {
   "cell_type": "code",
   "execution_count": 3,
   "metadata": {
    "ExecuteTime": {
     "end_time": "2019-04-18T23:37:52.680419Z",
     "start_time": "2019-04-18T23:37:52.675433Z"
    }
   },
   "outputs": [
    {
     "data": {
      "text/plain": [
       "['logging', 'mysql']"
      ]
     },
     "execution_count": 3,
     "metadata": {},
     "output_type": "execute_result"
    }
   ],
   "source": [
    "sections = cfg.sections()\n",
    "sections"
   ]
  },
  {
   "cell_type": "markdown",
   "metadata": {},
   "source": [
    "## 读取指定section下所有的option"
   ]
  },
  {
   "cell_type": "code",
   "execution_count": 4,
   "metadata": {
    "ExecuteTime": {
     "end_time": "2019-04-18T23:37:52.715326Z",
     "start_time": "2019-04-18T23:37:52.711337Z"
    }
   },
   "outputs": [
    {
     "data": {
      "text/plain": [
       "['host', 'port', 'user', 'password']"
      ]
     },
     "execution_count": 4,
     "metadata": {},
     "output_type": "execute_result"
    }
   ],
   "source": [
    "options = cfg.options('mysql')\n",
    "options"
   ]
  },
  {
   "cell_type": "markdown",
   "metadata": {},
   "source": [
    "## 读取指定section下所有的option对"
   ]
  },
  {
   "cell_type": "code",
   "execution_count": 5,
   "metadata": {
    "ExecuteTime": {
     "end_time": "2019-04-18T23:37:52.751230Z",
     "start_time": "2019-04-18T23:37:52.746244Z"
    }
   },
   "outputs": [
    {
     "data": {
      "text/plain": [
       "[('host', '127.0.0.1'),\n",
       " ('port', '3360'),\n",
       " ('user', 'root'),\n",
       " ('password', '123456')]"
      ]
     },
     "execution_count": 5,
     "metadata": {},
     "output_type": "execute_result"
    }
   ],
   "source": [
    "items = cfg.items('mysql')\n",
    "items"
   ]
  },
  {
   "cell_type": "markdown",
   "metadata": {},
   "source": [
    "## 读取指定section下指定的option"
   ]
  },
  {
   "cell_type": "code",
   "execution_count": 6,
   "metadata": {
    "ExecuteTime": {
     "end_time": "2019-04-18T23:37:52.786138Z",
     "start_time": "2019-04-18T23:37:52.782150Z"
    }
   },
   "outputs": [
    {
     "name": "stdout",
     "output_type": "stream",
     "text": [
      "<class 'str'> 127.0.0.1\n"
     ]
    }
   ],
   "source": [
    "value = cfg.get('mysql','host')\n",
    "print(type(value),value)"
   ]
  },
  {
   "cell_type": "code",
   "execution_count": 7,
   "metadata": {
    "ExecuteTime": {
     "end_time": "2019-04-18T23:37:52.794115Z",
     "start_time": "2019-04-18T23:37:52.789129Z"
    }
   },
   "outputs": [
    {
     "data": {
      "text/plain": [
       "int"
      ]
     },
     "execution_count": 7,
     "metadata": {},
     "output_type": "execute_result"
    }
   ],
   "source": [
    "value = cfg.getint('mysql','port')\n",
    "type(value)"
   ]
  },
  {
   "cell_type": "code",
   "execution_count": 8,
   "metadata": {
    "ExecuteTime": {
     "end_time": "2019-04-18T23:37:52.801096Z",
     "start_time": "2019-04-18T23:37:52.796110Z"
    }
   },
   "outputs": [
    {
     "data": {
      "text/plain": [
       "float"
      ]
     },
     "execution_count": 8,
     "metadata": {},
     "output_type": "execute_result"
    }
   ],
   "source": [
    "value = cfg.getfloat('mysql','password')\n",
    "type(value)"
   ]
  },
  {
   "cell_type": "markdown",
   "metadata": {},
   "source": [
    "## 添加配置"
   ]
  },
  {
   "cell_type": "code",
   "execution_count": 9,
   "metadata": {
    "ExecuteTime": {
     "end_time": "2019-04-18T23:37:52.832014Z",
     "start_time": "2019-04-18T23:37:52.828026Z"
    }
   },
   "outputs": [],
   "source": [
    "cfg.add_section('newSection') # 增加新的一节\n",
    "cfg.set('newSection','name','xiaoming') # 第一个参数是section，第二个参数是option，第三个参数是option的值"
   ]
  },
  {
   "cell_type": "markdown",
   "metadata": {},
   "source": [
    "## 删除配置"
   ]
  },
  {
   "cell_type": "code",
   "execution_count": 10,
   "metadata": {
    "ExecuteTime": {
     "end_time": "2019-04-18T23:37:52.869912Z",
     "start_time": "2019-04-18T23:37:52.864927Z"
    }
   },
   "outputs": [
    {
     "data": {
      "text/plain": [
       "True"
      ]
     },
     "execution_count": 10,
     "metadata": {},
     "output_type": "execute_result"
    }
   ],
   "source": [
    "cfg.remove_option('logging','level') # 删除指定section下的指定option\n",
    "cfg.remove_section('logging') # 删除指定section"
   ]
  },
  {
   "cell_type": "markdown",
   "metadata": {},
   "source": [
    "## 将新配置写到文件中"
   ]
  },
  {
   "cell_type": "code",
   "execution_count": 11,
   "metadata": {
    "ExecuteTime": {
     "end_time": "2019-04-18T23:37:52.907811Z",
     "start_time": "2019-04-18T23:37:52.903822Z"
    }
   },
   "outputs": [],
   "source": [
    "with open('./code/newConfig.conf','w') as fi:\n",
    "    cfg.write(fi)"
   ]
  },
  {
   "cell_type": "markdown",
   "metadata": {},
   "source": [
    "# configparser优缺点"
   ]
  },
  {
   "cell_type": "markdown",
   "metadata": {},
   "source": [
    "1. 读取出来的配置参数都是字符串类型，参数运算时，注意类型转换\n",
    "2. 配置文件的注释用`#`，但注释内容只能是英文，中文会报错\n",
    "3. 同一section下，option的值不区分大小写，即大写和小写的参数，会认为是同一个，如果出现，则会报错；"
   ]
  },
  {
   "cell_type": "markdown",
   "metadata": {},
   "source": [
    "# 其他方法定义配置文件"
   ]
  },
  {
   "cell_type": "markdown",
   "metadata": {},
   "source": [
    "## 单独一个conf.py文件定义一个conf类，然后将各个参数作为类的属性"
   ]
  },
  {
   "cell_type": "markdown",
   "metadata": {},
   "source": [
    "```Python\n",
    "'conf.py'\n",
    "\n",
    "class MyConf(object):\n",
    "    '配置参数'\n",
    "    host = 127.0.0.1\n",
    "    port = 3360\n",
    "    user = root\n",
    "    password = 123456\n",
    "    ...\n",
    " \n",
    "conf = MyConf()\n",
    "host = conf.host\n",
    "port = conf.port\n",
    "user = conf.user\n",
    "password = conf.password\n",
    " ```"
   ]
  }
 ],
 "metadata": {
  "kernelspec": {
   "display_name": "Python 3",
   "language": "python",
   "name": "python3"
  },
  "language_info": {
   "codemirror_mode": {
    "name": "ipython",
    "version": 3
   },
   "file_extension": ".py",
   "mimetype": "text/x-python",
   "name": "python",
   "nbconvert_exporter": "python",
   "pygments_lexer": "ipython3",
   "version": "3.6.7"
  },
  "toc": {
   "base_numbering": 1,
   "nav_menu": {},
   "number_sections": true,
   "sideBar": true,
   "skip_h1_title": false,
   "title_cell": "Table of Contents",
   "title_sidebar": "Contents",
   "toc_cell": false,
   "toc_position": {},
   "toc_section_display": true,
   "toc_window_display": false
  },
  "varInspector": {
   "cols": {
    "lenName": 16,
    "lenType": 16,
    "lenVar": 40
   },
   "kernels_config": {
    "python": {
     "delete_cmd_postfix": "",
     "delete_cmd_prefix": "del ",
     "library": "var_list.py",
     "varRefreshCmd": "print(var_dic_list())"
    },
    "r": {
     "delete_cmd_postfix": ") ",
     "delete_cmd_prefix": "rm(",
     "library": "var_list.r",
     "varRefreshCmd": "cat(var_dic_list()) "
    }
   },
   "types_to_exclude": [
    "module",
    "function",
    "builtin_function_or_method",
    "instance",
    "_Feature"
   ],
   "window_display": false
  }
 },
 "nbformat": 4,
 "nbformat_minor": 2
}
