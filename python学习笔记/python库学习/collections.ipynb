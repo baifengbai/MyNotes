{
 "cells": [
  {
   "cell_type": "markdown",
   "metadata": {},
   "source": [
    "Python拥有一些内置的数据类型，比如`str,int,float,list,tuple,dict`等，`collections`模块在这些内置数据类型的基础上，提供了几个额外的数据类型：\n",
    "\n",
    "1. Counter：计数器，主要用来计数\n",
    "2. deque：双端队列，可以快速地从另外一侧追加和弹出对象\n",
    "3. defaultdict：默认字典，带有默认值的字典\n",
    "4. OrderedDict：有序字典\n",
    "5. namedtuple：可命名元组，生成可以使用名字来访问元素内容的tuple"
   ]
  },
  {
   "cell_type": "markdown",
   "metadata": {},
   "source": [
    "# collections.Counter"
   ]
  },
  {
   "cell_type": "markdown",
   "metadata": {},
   "source": [
    "`Counter`作为字典`dicit()`的一个子类用来进行`hashtable`计数，将元素进行数量统计，计数后返回一个字典，键key为元素，值value为元素个数。"
   ]
  },
  {
   "cell_type": "markdown",
   "metadata": {},
   "source": [
    "## 常用方法"
   ]
  },
  {
   "cell_type": "markdown",
   "metadata": {},
   "source": [
    "|由Counter()生成的字典，它的方法|用途|\n",
    "|--|--|\n",
    "|most_common(num)|按照元素出现的次数进行从高到低的排序，返回前num个元素的字典|\n",
    "|elements()|返回经过计算器Counter后的元素，返回的是一个迭代器|\n",
    "|update(element)|和set集合的update一样，对集合进行并集更新|\n",
    "|subtract(element)|和update类似，只是update是做加法，subtract做减法,从另一个集合中减去本集合的元素|\n",
    "|items()|返回由Counter生成的字典的所有item|\n",
    "|keys()|返回由Counter生成的字典的所有key|\n",
    "|values()|返回由Counter生成的字典的所有value|"
   ]
  },
  {
   "cell_type": "markdown",
   "metadata": {},
   "source": [
    "## 例子"
   ]
  },
  {
   "cell_type": "code",
   "execution_count": 1,
   "metadata": {
    "ExecuteTime": {
     "end_time": "2019-04-22T06:06:50.000153Z",
     "start_time": "2019-04-22T06:06:49.995165Z"
    }
   },
   "outputs": [],
   "source": [
    "from collections import Counter\n",
    "\n",
    "string = 'abababcdefdedfe' # 字符串\n",
    "lst = [\"a\",\"b\",\"c\",\"a\",\"b\",\"b\"] # 列表\n",
    "d = {\"1\":3, \"3\":2, \"17\":2} # 字典"
   ]
  },
  {
   "cell_type": "markdown",
   "metadata": {},
   "source": [
    "### Counter获取各元素的个数，以字典形式返回"
   ]
  },
  {
   "cell_type": "code",
   "execution_count": 2,
   "metadata": {
    "ExecuteTime": {
     "end_time": "2019-04-22T06:06:50.119832Z",
     "start_time": "2019-04-22T06:06:50.114846Z"
    }
   },
   "outputs": [
    {
     "name": "stdout",
     "output_type": "stream",
     "text": [
      "Counter(string):  Counter({'a': 3, 'b': 3, 'd': 3, 'e': 3, 'f': 2, 'c': 1})\n",
      "Counter(lst):  Counter({'b': 3, 'a': 2, 'c': 1})\n",
      "Counter(d):  Counter({'1': 3, '3': 2, '17': 2})\n"
     ]
    }
   ],
   "source": [
    "print('Counter(string): ',Counter(string))\n",
    "print('Counter(lst): ',Counter(lst))\n",
    "print('Counter(d): ',Counter(d))"
   ]
  },
  {
   "cell_type": "markdown",
   "metadata": {},
   "source": [
    "### most_common(num)按照元素出现的次数进行从高到低的排序，返回前num个元素的字典"
   ]
  },
  {
   "cell_type": "code",
   "execution_count": 3,
   "metadata": {
    "ExecuteTime": {
     "end_time": "2019-04-22T06:06:50.208594Z",
     "start_time": "2019-04-22T06:06:50.203608Z"
    }
   },
   "outputs": [
    {
     "name": "stdout",
     "output_type": "stream",
     "text": [
      "d1.most_common(2):  [('a', 3), ('b', 3)]\n"
     ]
    }
   ],
   "source": [
    "d1 = Counter(string)\n",
    "print('d1.most_common(2): ',d1.most_common(2))"
   ]
  },
  {
   "cell_type": "markdown",
   "metadata": {},
   "source": [
    "### elements返回经过计算器Counter后的元素，返回的是一个迭代器"
   ]
  },
  {
   "cell_type": "code",
   "execution_count": 4,
   "metadata": {
    "ExecuteTime": {
     "end_time": "2019-04-22T06:06:50.308328Z",
     "start_time": "2019-04-22T06:06:50.303342Z"
    }
   },
   "outputs": [
    {
     "name": "stdout",
     "output_type": "stream",
     "text": [
      "sorted(d1.elements()):  ['a', 'a', 'a', 'b', 'b', 'b', 'c', 'd', 'd', 'd', 'e', 'e', 'e', 'f', 'f']\n",
      "(''.join(d1.elements())):  aaabbbcdddeeeff\n",
      "\n",
      "若是字典的话返回value个key: ['1', '1', '1', '17', '17', '3', '3']\n"
     ]
    }
   ],
   "source": [
    "print('sorted(d1.elements()): ',sorted(d1.elements()))\n",
    "print(\"(''.join(d1.elements())): \",''.join(d1.elements()))\n",
    "print()\n",
    "#若是字典的话返回value个key\n",
    "d2 = Counter(d)\n",
    "print(\"若是字典的话返回value个key:\", sorted(d2.elements()))"
   ]
  },
  {
   "cell_type": "markdown",
   "metadata": {},
   "source": [
    "### update和set集合的update一样，对集合进行并集更新"
   ]
  },
  {
   "cell_type": "code",
   "execution_count": 5,
   "metadata": {
    "ExecuteTime": {
     "end_time": "2019-04-22T06:06:50.403080Z",
     "start_time": "2019-04-22T06:06:50.398094Z"
    }
   },
   "outputs": [
    {
     "name": "stdout",
     "output_type": "stream",
     "text": [
      "d1.update(\"sas1\"):  None\n",
      "Counter({'a': 4, 'b': 3, 'd': 3, 'e': 3, 'f': 2, 's': 2, 'c': 1, '1': 1})\n"
     ]
    }
   ],
   "source": [
    "print('d1.update(\"sas1\"): ',d1.update(\"sas1\"))\n",
    "print(d1)"
   ]
  },
  {
   "cell_type": "markdown",
   "metadata": {},
   "source": [
    "### items返回Counter生成的字典的所有item"
   ]
  },
  {
   "cell_type": "code",
   "execution_count": 6,
   "metadata": {
    "ExecuteTime": {
     "end_time": "2019-04-22T06:06:50.524749Z",
     "start_time": "2019-04-22T06:06:50.520760Z"
    }
   },
   "outputs": [
    {
     "name": "stdout",
     "output_type": "stream",
     "text": [
      "dict_items([('a', 4), ('b', 3), ('c', 1), ('d', 3), ('e', 3), ('f', 2), ('s', 2), ('1', 1)])\n",
      "\n",
      "dict_keys(['a', 'b', 'c', 'd', 'e', 'f', 's', '1'])\n",
      "\n",
      "dict_values([4, 3, 1, 3, 3, 2, 2, 1])\n"
     ]
    }
   ],
   "source": [
    "print(d1.items())\n",
    "print()\n",
    "print(d1.keys())\n",
    "print()\n",
    "print(d1.values())"
   ]
  },
  {
   "cell_type": "markdown",
   "metadata": {},
   "source": [
    "# collections.deque"
   ]
  },
  {
   "cell_type": "markdown",
   "metadata": {},
   "source": [
    "`deque`其实是 `double-ended queue` 的缩写,即`双端队列`，它最大的好处就是**实现了从队列 头部快速增加和取出对象**: `.popleft()`, `.appendleft()` 。你可能会说，原生的list也可以从头部添加和取出对象啊？就像这样：\n",
    "\n",
    "1. lst.insert(0, v)\n",
    "2. lst.pop(0)\n",
    "\n",
    "但是值得注意的是，**list对象**的这两种用法的**时间复杂度是 O(n)** ，也就是说随着元素数量的增加耗时呈 线性上升。而使用**deque对象**则是 **O(1) 的复杂度**，所以当你的代码有这样的需求的时候， 一定要记得使用deque。"
   ]
  },
  {
   "cell_type": "markdown",
   "metadata": {},
   "source": [
    "## deque对象的方法"
   ]
  },
  {
   "cell_type": "markdown",
   "metadata": {},
   "source": [
    "|由deque()生成的双端队列，它的方法|作用|\n",
    "|--|--|\n",
    "|append(x)|队列右边添加元素|\n",
    "|appendleft(x)|队列左边添加元素|\n",
    "|clear()|清空队列中的所有元素|\n",
    "|count(x)|返回队列中包含value的个数|\n",
    "|extend(iterable)|在队列右边扩展，iterable可以是列表、元组或字典，如果是字典则将字典的key加入到deque|\n",
    "|extendleft(iterable)|同extend，在左边扩展|\n",
    "|pop()|移除并返回队列右边的元素|\n",
    "|popleft()|移除并返回队列左边的元素|\n",
    "|remove(value)|移除队列第一个出现的元素value|\n",
    "|reverse()|队列的所有元素进行反转|\n",
    "|rotate(n)|对队列数移动n个元素，移出的元素加到队列的另一端；如果n为负数，则向左移动。|\n",
    "|maxlen|队列的最大长度，如果为None,则队列没有边界|"
   ]
  },
  {
   "cell_type": "markdown",
   "metadata": {},
   "source": [
    "## 例子"
   ]
  },
  {
   "cell_type": "markdown",
   "metadata": {},
   "source": [
    "### 创建队列和迭代队列元素"
   ]
  },
  {
   "cell_type": "code",
   "execution_count": 7,
   "metadata": {
    "ExecuteTime": {
     "end_time": "2019-04-22T06:06:51.088242Z",
     "start_time": "2019-04-22T06:06:51.083256Z"
    }
   },
   "outputs": [
    {
     "name": "stdout",
     "output_type": "stream",
     "text": [
      "d:  deque(['g', 'h', 'i'])\n",
      "\n",
      "g\n",
      "h\n",
      "i\n"
     ]
    }
   ],
   "source": [
    "from collections import deque\n",
    "\n",
    "# 创建队列\n",
    "d = deque('ghi')\n",
    "print('d: ',d)\n",
    "print()\n",
    "# 迭代队列元素\n",
    "for elem in d:\n",
    "    print(elem)"
   ]
  },
  {
   "cell_type": "markdown",
   "metadata": {},
   "source": [
    "### 元素入队：从左侧头部 和 从右侧尾部"
   ]
  },
  {
   "cell_type": "code",
   "execution_count": 8,
   "metadata": {
    "ExecuteTime": {
     "end_time": "2019-04-22T06:06:51.155066Z",
     "start_time": "2019-04-22T06:06:51.150082Z"
    }
   },
   "outputs": [
    {
     "name": "stdout",
     "output_type": "stream",
     "text": [
      "d:  deque(['g', 'h', 'i', 'j', 'f'])\n"
     ]
    }
   ],
   "source": [
    "d.append('j') # 在右侧给队列尾部添加元素\n",
    "d.append('f') # 在左侧队列头部添加元素\n",
    "print('d: ',d)"
   ]
  },
  {
   "cell_type": "markdown",
   "metadata": {},
   "source": [
    "### 元素出队：从左侧头部 和 从右侧尾部"
   ]
  },
  {
   "cell_type": "code",
   "execution_count": 9,
   "metadata": {
    "ExecuteTime": {
     "end_time": "2019-04-22T06:06:51.221885Z",
     "start_time": "2019-04-22T06:06:51.210914Z"
    }
   },
   "outputs": [
    {
     "data": {
      "text/plain": [
       "'f'"
      ]
     },
     "execution_count": 9,
     "metadata": {},
     "output_type": "execute_result"
    }
   ],
   "source": [
    "d.pop() # 从右侧尾部出队，并返回出队的元素"
   ]
  },
  {
   "cell_type": "code",
   "execution_count": 10,
   "metadata": {
    "ExecuteTime": {
     "end_time": "2019-04-22T06:06:51.229865Z",
     "start_time": "2019-04-22T06:06:51.224879Z"
    }
   },
   "outputs": [
    {
     "data": {
      "text/plain": [
       "'g'"
      ]
     },
     "execution_count": 10,
     "metadata": {},
     "output_type": "execute_result"
    }
   ],
   "source": [
    "d.popleft() # 从左侧头部出队，并返回出队的元素"
   ]
  },
  {
   "cell_type": "code",
   "execution_count": 11,
   "metadata": {
    "ExecuteTime": {
     "end_time": "2019-04-22T06:06:51.236845Z",
     "start_time": "2019-04-22T06:06:51.231858Z"
    }
   },
   "outputs": [
    {
     "name": "stdout",
     "output_type": "stream",
     "text": [
      "d:  deque(['h', 'i', 'j'])\n"
     ]
    }
   ],
   "source": [
    "print('d: ',d)"
   ]
  },
  {
   "cell_type": "markdown",
   "metadata": {},
   "source": [
    "### 查看队列头部和尾部元素：队列元素可通过索引查看"
   ]
  },
  {
   "cell_type": "code",
   "execution_count": 12,
   "metadata": {
    "ExecuteTime": {
     "end_time": "2019-04-22T06:06:51.297683Z",
     "start_time": "2019-04-22T06:06:51.292695Z"
    }
   },
   "outputs": [
    {
     "data": {
      "text/plain": [
       "'h'"
      ]
     },
     "execution_count": 12,
     "metadata": {},
     "output_type": "execute_result"
    }
   ],
   "source": [
    "d[0] # 队列左侧头部元素"
   ]
  },
  {
   "cell_type": "code",
   "execution_count": 13,
   "metadata": {
    "ExecuteTime": {
     "end_time": "2019-04-22T06:06:51.305661Z",
     "start_time": "2019-04-22T06:06:51.300674Z"
    }
   },
   "outputs": [
    {
     "data": {
      "text/plain": [
       "'j'"
      ]
     },
     "execution_count": 13,
     "metadata": {},
     "output_type": "execute_result"
    }
   ],
   "source": [
    "d[-1] # 队列右侧尾部元素"
   ]
  },
  {
   "cell_type": "code",
   "execution_count": 14,
   "metadata": {
    "ExecuteTime": {
     "end_time": "2019-04-22T06:06:51.312642Z",
     "start_time": "2019-04-22T06:06:51.307657Z"
    }
   },
   "outputs": [
    {
     "data": {
      "text/plain": [
       "'i'"
      ]
     },
     "execution_count": 14,
     "metadata": {},
     "output_type": "execute_result"
    }
   ],
   "source": [
    "d[1] # 索引查看元素"
   ]
  },
  {
   "cell_type": "markdown",
   "metadata": {},
   "source": [
    "### 扩展队列：用可迭代的对象来扩展"
   ]
  },
  {
   "cell_type": "code",
   "execution_count": 15,
   "metadata": {
    "ExecuteTime": {
     "end_time": "2019-04-22T06:06:51.393426Z",
     "start_time": "2019-04-22T06:06:51.389438Z"
    }
   },
   "outputs": [],
   "source": [
    "ex1 = [1,2,3] # 列表\n",
    "ex2 = {'a':3,'b':5} # 字典\n",
    "ex3 = (99,88) # 元组"
   ]
  },
  {
   "cell_type": "code",
   "execution_count": 16,
   "metadata": {
    "ExecuteTime": {
     "end_time": "2019-04-22T06:06:51.400407Z",
     "start_time": "2019-04-22T06:06:51.395421Z"
    }
   },
   "outputs": [
    {
     "name": "stdout",
     "output_type": "stream",
     "text": [
      "d:  deque(['h', 'i', 'j'])\n"
     ]
    }
   ],
   "source": [
    "print('d: ',d)"
   ]
  },
  {
   "cell_type": "code",
   "execution_count": 17,
   "metadata": {
    "ExecuteTime": {
     "end_time": "2019-04-22T06:06:51.408386Z",
     "start_time": "2019-04-22T06:06:51.402409Z"
    }
   },
   "outputs": [
    {
     "data": {
      "text/plain": [
       "deque(['h', 'i', 'j', 1, 2, 3])"
      ]
     },
     "execution_count": 17,
     "metadata": {},
     "output_type": "execute_result"
    }
   ],
   "source": [
    "d.extend(ex1) # 从队列尾部扩展\n",
    "d"
   ]
  },
  {
   "cell_type": "code",
   "execution_count": 18,
   "metadata": {
    "ExecuteTime": {
     "end_time": "2019-04-22T06:06:51.417363Z",
     "start_time": "2019-04-22T06:06:51.410381Z"
    }
   },
   "outputs": [
    {
     "data": {
      "text/plain": [
       "deque(['b', 'a', 'h', 'i', 'j', 1, 2, 3])"
      ]
     },
     "execution_count": 18,
     "metadata": {},
     "output_type": "execute_result"
    }
   ],
   "source": [
    "d.extendleft(ex2) # 从队列头部扩展\n",
    "d"
   ]
  },
  {
   "cell_type": "code",
   "execution_count": 19,
   "metadata": {
    "ExecuteTime": {
     "end_time": "2019-04-22T06:06:51.425341Z",
     "start_time": "2019-04-22T06:06:51.419357Z"
    }
   },
   "outputs": [
    {
     "data": {
      "text/plain": [
       "deque(['b', 'a', 'h', 'i', 'j', 1, 2, 3, 99, 88])"
      ]
     },
     "execution_count": 19,
     "metadata": {},
     "output_type": "execute_result"
    }
   ],
   "source": [
    "d.extend(ex3)\n",
    "d"
   ]
  },
  {
   "cell_type": "markdown",
   "metadata": {},
   "source": [
    "### 旋转队列：从尾部和头部"
   ]
  },
  {
   "cell_type": "code",
   "execution_count": 20,
   "metadata": {
    "ExecuteTime": {
     "end_time": "2019-04-22T06:06:51.491165Z",
     "start_time": "2019-04-22T06:06:51.486178Z"
    }
   },
   "outputs": [
    {
     "data": {
      "text/plain": [
       "deque([88, 'b', 'a', 'h', 'i', 'j', 1, 2, 3, 99])"
      ]
     },
     "execution_count": 20,
     "metadata": {},
     "output_type": "execute_result"
    }
   ],
   "source": [
    "d.rotate(1) # 从尾部\n",
    "d"
   ]
  },
  {
   "cell_type": "code",
   "execution_count": 21,
   "metadata": {
    "ExecuteTime": {
     "end_time": "2019-04-22T06:06:51.499143Z",
     "start_time": "2019-04-22T06:06:51.494157Z"
    }
   },
   "outputs": [
    {
     "data": {
      "text/plain": [
       "deque(['b', 'a', 'h', 'i', 'j', 1, 2, 3, 99, 88])"
      ]
     },
     "execution_count": 21,
     "metadata": {},
     "output_type": "execute_result"
    }
   ],
   "source": [
    "d.rotate(-1)\n",
    "d"
   ]
  },
  {
   "cell_type": "markdown",
   "metadata": {},
   "source": [
    "### 反转队列元素"
   ]
  },
  {
   "cell_type": "code",
   "execution_count": 22,
   "metadata": {
    "ExecuteTime": {
     "end_time": "2019-04-22T06:06:51.566962Z",
     "start_time": "2019-04-22T06:06:51.561976Z"
    }
   },
   "outputs": [
    {
     "data": {
      "text/plain": [
       "deque([88, 99, 3, 2, 1, 'j', 'i', 'h', 'a', 'b'])"
      ]
     },
     "execution_count": 22,
     "metadata": {},
     "output_type": "execute_result"
    }
   ],
   "source": [
    "d.reverse()\n",
    "d"
   ]
  },
  {
   "cell_type": "markdown",
   "metadata": {},
   "source": [
    "### 队列长度"
   ]
  },
  {
   "cell_type": "code",
   "execution_count": 23,
   "metadata": {
    "ExecuteTime": {
     "end_time": "2019-04-22T06:06:51.633784Z",
     "start_time": "2019-04-22T06:06:51.628797Z"
    }
   },
   "outputs": [
    {
     "name": "stdout",
     "output_type": "stream",
     "text": [
      "None\n"
     ]
    }
   ],
   "source": [
    "print(d.maxlen)"
   ]
  },
  {
   "cell_type": "markdown",
   "metadata": {},
   "source": [
    "# collections.defaultdict"
   ]
  },
  {
   "cell_type": "markdown",
   "metadata": {},
   "source": [
    "默认字典，字典的一个子类，继承所有字典的方法，**默认字典**在进行定义初始化的时候,得指定字典 值value 的**默认类型**"
   ]
  },
  {
   "cell_type": "code",
   "execution_count": 24,
   "metadata": {
    "ExecuteTime": {
     "end_time": "2019-04-22T06:06:51.768423Z",
     "start_time": "2019-04-22T06:06:51.762440Z"
    }
   },
   "outputs": [
    {
     "name": "stdout",
     "output_type": "stream",
     "text": [
      "dic1:  defaultdict(<class 'dict'>, {'k1': {'asda': 123}})\n"
     ]
    }
   ],
   "source": [
    "from collections import defaultdict\n",
    "\n",
    "# 可以指定字典的 value 默认类型为 一个字典\n",
    "dic1 = defaultdict(dict)\n",
    "dic1['k1'].update({'asda':123})\n",
    "print('dic1: ',dic1)"
   ]
  },
  {
   "cell_type": "markdown",
   "metadata": {},
   "source": [
    "字典dic在定义的时候，就定义好了值为字典类型。 虽然现在字典中还没有键值key，但仍然可以执行字典的update方法. 这种操作方式在传统的字典类型中是无法实现的,必须赋值以后才能进行值得更新操作，否则会报错。"
   ]
  },
  {
   "cell_type": "markdown",
   "metadata": {},
   "source": [
    "# collections.OrderedDict"
   ]
  },
  {
   "cell_type": "markdown",
   "metadata": {},
   "source": [
    "在Python中，`dict`这个数据结构由于hash的特性，是无序的，这在有的时候会给我们带来一些麻烦。 幸运的是，`collections`模块为我们提供了`OrderedDict`，当你要获得一个有序的字典对象时，用它就对了。"
   ]
  },
  {
   "cell_type": "code",
   "execution_count": 25,
   "metadata": {
    "ExecuteTime": {
     "end_time": "2019-04-22T06:06:51.983847Z",
     "start_time": "2019-04-22T06:06:51.978922Z"
    }
   },
   "outputs": [
    {
     "name": "stdout",
     "output_type": "stream",
     "text": [
      "a 123\n",
      "b 456\n",
      "c 789\n",
      "d 963\n"
     ]
    }
   ],
   "source": [
    "from collections import OrderedDict\n",
    "\n",
    "dic = OrderedDict()\n",
    "dic['a'] = 123\n",
    "dic['b'] = 456\n",
    "dic['c'] = 789\n",
    "dic['d'] = 963\n",
    "for k,v in dic.items():\n",
    "    print(k,v)"
   ]
  },
  {
   "cell_type": "markdown",
   "metadata": {},
   "source": [
    "# collections.namedtuple"
   ]
  },
  {
   "cell_type": "markdown",
   "metadata": {},
   "source": [
    "主要用来产生可以使用名称来访问元素的数据对象，通常用来增强代码的可读性， 在访问一些tuple类型的数据时尤其好用。`namedtuple`由自己的类工厂`namedtuple()`进行创建，而不是由表中的元组进行初始化，通过`namedtuple`创建类的参数 包括**类名称** 和 一个包含**元素名称的字符串**"
   ]
  },
  {
   "cell_type": "code",
   "execution_count": 26,
   "metadata": {
    "ExecuteTime": {
     "end_time": "2019-04-22T06:06:52.105522Z",
     "start_time": "2019-04-22T06:06:52.099538Z"
    }
   },
   "outputs": [
    {
     "name": "stdout",
     "output_type": "stream",
     "text": [
      "p的类型:  <class 'type'>\n",
      "person(name='zhangjialin', age=29, sex='male')\n",
      "zhangjialin 29 male\n"
     ]
    }
   ],
   "source": [
    "from collections import namedtuple\n",
    "\n",
    "# 其中，person是创建的类名称，字符串'name,age,sex'是每个类应的元组：(name,age,sex)\n",
    "# 它有三个元素，且每个元素都有名称\n",
    "p = namedtuple('person','name,age,sex',rename=True) \n",
    "print('p的类型: ',type(p))\n",
    "zhangjialin = p('zhangjialin',29,'male')\n",
    "print(zhangjialin)\n",
    "print(zhangjialin.name,zhangjialin.age,zhangjialin.sex)"
   ]
  },
  {
   "cell_type": "markdown",
   "metadata": {},
   "source": [
    "`参数rename`: 使用namedtuple()来创建类的时候，传递的成员属性参数名称不能非法(不能重复，不能为系统标识符)，否则会报错。`namedtuple`提供`rename=True`参数会使系统自动的将错误的参数通过“下划线+参数索引”的方式将参数名称替换。"
   ]
  }
 ],
 "metadata": {
  "kernelspec": {
   "display_name": "Python 3",
   "language": "python",
   "name": "python3"
  },
  "language_info": {
   "codemirror_mode": {
    "name": "ipython",
    "version": 3
   },
   "file_extension": ".py",
   "mimetype": "text/x-python",
   "name": "python",
   "nbconvert_exporter": "python",
   "pygments_lexer": "ipython3",
   "version": "3.6.7"
  },
  "toc": {
   "base_numbering": 1,
   "nav_menu": {},
   "number_sections": true,
   "sideBar": true,
   "skip_h1_title": false,
   "title_cell": "Table of Contents",
   "title_sidebar": "Contents",
   "toc_cell": false,
   "toc_position": {
    "height": "calc(100% - 180px)",
    "left": "10px",
    "top": "150px",
    "width": "375.391px"
   },
   "toc_section_display": true,
   "toc_window_display": true
  },
  "varInspector": {
   "cols": {
    "lenName": 16,
    "lenType": 16,
    "lenVar": 40
   },
   "kernels_config": {
    "python": {
     "delete_cmd_postfix": "",
     "delete_cmd_prefix": "del ",
     "library": "var_list.py",
     "varRefreshCmd": "print(var_dic_list())"
    },
    "r": {
     "delete_cmd_postfix": ") ",
     "delete_cmd_prefix": "rm(",
     "library": "var_list.r",
     "varRefreshCmd": "cat(var_dic_list()) "
    }
   },
   "types_to_exclude": [
    "module",
    "function",
    "builtin_function_or_method",
    "instance",
    "_Feature"
   ],
   "window_display": false
  }
 },
 "nbformat": 4,
 "nbformat_minor": 2
}
