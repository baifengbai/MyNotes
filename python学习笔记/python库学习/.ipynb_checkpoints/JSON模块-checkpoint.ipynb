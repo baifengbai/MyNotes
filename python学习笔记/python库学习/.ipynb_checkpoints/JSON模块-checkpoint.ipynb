{
 "cells": [
  {
   "cell_type": "markdown",
   "metadata": {},
   "source": [
    "# 如何写JSON文件"
   ]
  },
  {
   "cell_type": "markdown",
   "metadata": {},
   "source": [
    "## JSON简介"
   ]
  },
  {
   "cell_type": "markdown",
   "metadata": {},
   "source": [
    "JSON 是JavaScript 对象表示法(JavaScript Object Notation),是存储和交换文本信息的语法，类似XML。JSON比XML更小、更快，更易解析。例如：\n",
    "\n",
    "```JSON\n",
    "{\n",
    "    \"employees\":[\n",
    "        {\"firstName\":\"Bill\",\"lastName\":\"Gates\"},\n",
    "        {\"firstName\":\"George\",\"lastName\":\"Bush\"},\n",
    "        {\"firstName\":\"Thomas\",\"lastName\":\"Carter\"}\n",
    "    ]\n",
    "}\n",
    "```\n",
    "\n",
    "这个 employees 对象是包含 3 个员工记录(对象)的数组。\n",
    "\n",
    "JSON是轻量级的文本数据交换格式，独立于语言(JSON虽然使用JavaScript语法来描述数据对象，但JSON仍然独立于语言和平台)"
   ]
  },
  {
   "cell_type": "markdown",
   "metadata": {},
   "source": [
    "JSON总结：\n",
    "1. JSON是纯文本\n",
    "2. JSON具有自我描述性(人类可读)\n",
    "3. JSON具有层级结构(值中存在值)\n",
    "4. JSON可通过JavaScript进行解析\n",
    "5. JSON数据可使用AJAX进行传输"
   ]
  },
  {
   "cell_type": "markdown",
   "metadata": {},
   "source": [
    "## JSON语法规则"
   ]
  },
  {
   "cell_type": "markdown",
   "metadata": {},
   "source": [
    "JSON语法是JavaScript对象表示法 语法的自给：\n",
    "1. 数据在 名称/值 对 中\n",
    "2. 数据由逗号分隔\n",
    "3. 花括号 {} 保存对象\n",
    "4. 方括号 [] 保存数组"
   ]
  },
  {
   "cell_type": "markdown",
   "metadata": {},
   "source": [
    "## JSON 名称/值 对"
   ]
  },
  {
   "cell_type": "markdown",
   "metadata": {},
   "source": [
    "JSON数据的书写格式是：**名称/值 对**，即 **名称/值 对** 包括 **字段名称(在双引号中)**，后面写一个**冒号(:)**，然后是 **值** ，即：\n",
    "\n",
    "    \"firstName\" : \"John\"\n",
    "\n",
    "等价于这条JavaScript语句：firstName = \"John\""
   ]
  },
  {
   "cell_type": "markdown",
   "metadata": {},
   "source": [
    "## JSON值"
   ]
  },
  {
   "cell_type": "markdown",
   "metadata": {},
   "source": [
    "JSON的值可以是:\n",
    "1. 数字，整数或浮点数\n",
    "2. 字符串，在双引号中\n",
    "3. 逻辑值，true或false\n",
    "4. 数组，在方括号中\n",
    "5. 对象，在花括号中\n",
    "6. null"
   ]
  },
  {
   "cell_type": "markdown",
   "metadata": {},
   "source": [
    "## JSON 对象"
   ]
  },
  {
   "cell_type": "markdown",
   "metadata": {},
   "source": [
    "JSON对象在花括号中书写，每个对象可以包含多个名称/值对，例如：\n",
    "\n",
    "{ \"firstName\":\"John\" , \"lastName\":\"Doe\" }\n",
    "\n",
    "这等价于JavaScript语句：\n",
    "\n",
    "firstName = \"John\"\n",
    "\n",
    "lastName = \"Doe\""
   ]
  },
  {
   "cell_type": "markdown",
   "metadata": {},
   "source": [
    "## JSON 数组"
   ]
  },
  {
   "cell_type": "markdown",
   "metadata": {},
   "source": [
    "JSON数组在方括号中书写，数组可以包含多个对象，例如：\n",
    "\n",
    "```JSON\n",
    "{\n",
    "    \"employees\":[\n",
    "        {\"firstName\":\"Bill\",\"lastName\":\"Gates\"},\n",
    "        {\"firstName\":\"George\",\"lastName\":\"Bush\"},\n",
    "        {\"firstName\":\"Thomas\",\"lastName\":\"Carter\"}\n",
    "    ]\n",
    "}\n",
    "```\n",
    "\n",
    "对象 \"employees\" 是包含三个对象的数组。每个对象代表一条关于某人（有姓和名）的记录。"
   ]
  },
  {
   "cell_type": "markdown",
   "metadata": {},
   "source": [
    "## 书写JSON文件"
   ]
  },
  {
   "cell_type": "markdown",
   "metadata": {},
   "source": [
    "JSON文件的文件类型是 \".json\" ，其采用完全独立于编程语言的文本格式来存储和表示数据。简单和清晰的层次结构使得JSON成为理想的数据交换语言。JSON可以生成也可以自己来写。"
   ]
  },
  {
   "cell_type": "markdown",
   "metadata": {},
   "source": [
    "### 创建一个以 .json 结尾的文件"
   ]
  },
  {
   "cell_type": "markdown",
   "metadata": {},
   "source": [
    "例如，文件example.json"
   ]
  },
  {
   "cell_type": "markdown",
   "metadata": {},
   "source": [
    "### JSON是JS对象的字符串表示法，它使用文本表示一个对象的信息，本质是一个字符串"
   ]
  },
  {
   "cell_type": "markdown",
   "metadata": {},
   "source": [
    "如example.json文件的内容为:\n",
    "```\n",
    "{\n",
    "  \"pages\":[\n",
    "    \"pages/index/index\",\n",
    "\t\"pages/logs/logs\"\n",
    "  ],\n",
    "  \"windos\":{\n",
    "  \"backgroundTextStyle\":\"light\",\n",
    "  \"navigationBarBackgroundColor\":\"#fff\",\n",
    "  \"navigationBarTitleText\":\"WeChat\",\n",
    "  \"navigationBarTextStyle\":\"black\"\n",
    "  }\n",
    "}\n",
    "```"
   ]
  },
  {
   "cell_type": "markdown",
   "metadata": {},
   "source": [
    "JSON的语法和JS很相似，但是在 键 和 值 之间用的不是`=`，而是`:` 来进行链接。例如：\n",
    "\n",
    "```\n",
    "/*js语法*/\n",
    "window = {backgroundTextStyle='light'}\n",
    "\n",
    "/*json语法*/\n",
    "\"window\":{\"backgroundTextStyle\":\"light\"}\n",
    "```"
   ]
  },
  {
   "cell_type": "markdown",
   "metadata": {},
   "source": [
    "# python处理JSON文件的库：json 和 Demjson"
   ]
  },
  {
   "cell_type": "markdown",
   "metadata": {},
   "source": [
    "下面介绍如何用Python语言来编码和解码JSON对象，JSON是一种轻量级的数据交换格式，易于人阅读和编写。"
   ]
  },
  {
   "cell_type": "markdown",
   "metadata": {},
   "source": [
    "## JSON类型和Python类型的转化对照表"
   ]
  },
  {
   "cell_type": "markdown",
   "metadata": {},
   "source": [
    "|Python|JSON|\n",
    "|:--:|:--:|\n",
    "|dict|object|\n",
    "|list,tuple|array|\n",
    "|str,unicode|string|\n",
    "|int,long,float|number|\n",
    "|True|true|\n",
    "|False|false|\n",
    "|None|null|"
   ]
  },
  {
   "cell_type": "markdown",
   "metadata": {},
   "source": [
    "## json库"
   ]
  },
  {
   "cell_type": "markdown",
   "metadata": {},
   "source": [
    "### 序列化"
   ]
  },
  {
   "cell_type": "markdown",
   "metadata": {},
   "source": [
    "#### json.dumps()：只是将Python对象序列化为JSON字符串，无文件操作"
   ]
  },
  {
   "cell_type": "markdown",
   "metadata": {},
   "source": [
    "json.dumps(obj, skipkeys=False, ensure_ascii=True, check_circular=True, allow_nan=True, cls=None, indent=None, separators=None, encoding=\"utf-8\", default=None, sort_keys=False, **kw)\n",
    "\n",
    "作用：将**Python对象**编码成**JSON字符串**"
   ]
  },
  {
   "cell_type": "code",
   "execution_count": 1,
   "metadata": {
    "ExecuteTime": {
     "end_time": "2019-04-22T01:37:14.484685Z",
     "start_time": "2019-04-22T01:37:14.478696Z"
    }
   },
   "outputs": [
    {
     "name": "stdout",
     "output_type": "stream",
     "text": [
      "[{\"a\": 1, \"b\": 2, \"c\": 3, \"d\": 4, \"e\": 5}]\n",
      "<class 'str'>\n"
     ]
    }
   ],
   "source": [
    "import json\n",
    "\n",
    "data = [ { 'a' : 1, 'b' : 2, 'c' : 3, 'd' : 4, 'e' : 5 } ]\n",
    "json_data = json.dumps(data)\n",
    "print(json_data)\n",
    "print(type(json_data))"
   ]
  },
  {
   "cell_type": "code",
   "execution_count": 2,
   "metadata": {
    "ExecuteTime": {
     "end_time": "2019-04-22T01:37:14.492657Z",
     "start_time": "2019-04-22T01:37:14.487671Z"
    },
    "code_folding": []
   },
   "outputs": [
    {
     "name": "stdout",
     "output_type": "stream",
     "text": [
      "[\n",
      "    {\n",
      "        \"a\": 1,\n",
      "        \"b\": 2,\n",
      "        \"c\": 3,\n",
      "        \"d\": 4,\n",
      "        \"e\": 5\n",
      "    }\n",
      "]\n"
     ]
    }
   ],
   "source": [
    "# 将JSON数据格式化输出\n",
    "print(json.dumps(data,sort_keys=True,indent=4,separators=(',',': ')))"
   ]
  },
  {
   "cell_type": "markdown",
   "metadata": {},
   "source": [
    "#### json.dump()：将Python对象序列化为JSON字符串并存储到文件中，有文件操作"
   ]
  },
  {
   "cell_type": "markdown",
   "metadata": {},
   "source": [
    "`json.dump(obj,fp,indent)`:\n",
    "1. obj: Python对象\n",
    "2. fp: 文件对象\n",
    "3. indent: 表示缩进的空格数，可用于格式化JSON字符串"
   ]
  },
  {
   "cell_type": "markdown",
   "metadata": {},
   "source": [
    "#### 将Python对象转为JSON字符串，并写入文件"
   ]
  },
  {
   "cell_type": "markdown",
   "metadata": {},
   "source": [
    "#### 构造Python对象"
   ]
  },
  {
   "cell_type": "code",
   "execution_count": 3,
   "metadata": {
    "ExecuteTime": {
     "end_time": "2019-04-22T01:37:14.603594Z",
     "start_time": "2019-04-22T01:37:14.599606Z"
    }
   },
   "outputs": [],
   "source": [
    "data = {\n",
    "  \"pages\":[\n",
    "    \"pages/index/index\",\n",
    "\t\"pages/logs/logs\"\n",
    "  ],\n",
    "  \"windos\":{\n",
    "  \"backgroundTextStyle\":\"light\",\n",
    "  \"navigationBarBackgroundColor\":\"#fff\",\n",
    "  \"navigationBarTitleText\":\"WeChat\",\n",
    "  \"navigationBarTextStyle\":\"black\"\n",
    "  }\n",
    "}"
   ]
  },
  {
   "cell_type": "markdown",
   "metadata": {},
   "source": [
    "#### 转为JSON字符串，并写入文件"
   ]
  },
  {
   "cell_type": "code",
   "execution_count": 4,
   "metadata": {
    "ExecuteTime": {
     "end_time": "2019-04-22T01:37:14.664432Z",
     "start_time": "2019-04-22T01:37:14.657453Z"
    }
   },
   "outputs": [],
   "source": [
    "# 写入文件\n",
    "# json.dumps()方法\n",
    "with open('./code/example1.json','w',encoding='utf-8') as fi:\n",
    "    # indent 可用于格式化JSON字符串，默认为None，表示缩进的空格数\n",
    "    fi.write(json.dumps(data,indent=4)) \n",
    "    \n",
    "# json.dump()方法\n",
    "with open('./code/example2.json','w',encoding='utf-8') as fi:\n",
    "    json.dump(data,fi,indent=4)"
   ]
  },
  {
   "cell_type": "markdown",
   "metadata": {},
   "source": [
    "### 反序列化"
   ]
  },
  {
   "cell_type": "markdown",
   "metadata": {},
   "source": [
    "结果可查看`./code/example1.json , ./code/example2.json`"
   ]
  },
  {
   "cell_type": "markdown",
   "metadata": {},
   "source": [
    "#### json.loads()：将JSON字符串反序列化为Python对象，无文件操作"
   ]
  },
  {
   "cell_type": "markdown",
   "metadata": {},
   "source": [
    "json.loads(s, encoding, cls, object_hook, parse_float, parse_int, parse_constant, object_pairs_hook, **kw)\n",
    "\n",
    "作用：将已编码的**JSON字符串**解码为**Python对象**,该函数返回Python字段的数据类型"
   ]
  },
  {
   "cell_type": "code",
   "execution_count": 5,
   "metadata": {
    "ExecuteTime": {
     "end_time": "2019-04-22T01:37:14.774139Z",
     "start_time": "2019-04-22T01:37:14.770150Z"
    }
   },
   "outputs": [
    {
     "name": "stdout",
     "output_type": "stream",
     "text": [
      "{'a': 1, 'b': 2, 'c': 3, 'd': 4, 'e': 5}\n"
     ]
    }
   ],
   "source": [
    "import json\n",
    "\n",
    "jsonData = '{\"a\":1,\"b\":2,\"c\":3,\"d\":4,\"e\":5}' # 注意json对象是用字符串表示的\n",
    "text = json.loads(jsonData)\n",
    "print(text)"
   ]
  },
  {
   "cell_type": "markdown",
   "metadata": {},
   "source": [
    "#### json.load(): 将JSON文件，反序列化为Python对象，同时完成读取文件和反序列化，有文件操作"
   ]
  },
  {
   "cell_type": "markdown",
   "metadata": {},
   "source": [
    "`json.load(fp)`: fp是文件描述符"
   ]
  },
  {
   "cell_type": "markdown",
   "metadata": {},
   "source": [
    "#### 读取JSON文件"
   ]
  },
  {
   "cell_type": "code",
   "execution_count": 6,
   "metadata": {
    "ExecuteTime": {
     "end_time": "2019-04-22T01:37:14.903792Z",
     "start_time": "2019-04-22T01:37:14.897813Z"
    }
   },
   "outputs": [
    {
     "name": "stdout",
     "output_type": "stream",
     "text": [
      "json_data_1:  {'pages': ['pages/index/index', 'pages/logs/logs'], 'windos': {'backgroundTextStyle': 'light', 'navigationBarBackgroundColor': '#fff', 'navigationBarTitleText': 'WeChat', 'navigationBarTextStyle': 'black'}}\n",
      "\n",
      "json_data_1:  {'pages': ['pages/index/index', 'pages/logs/logs'], 'windos': {'backgroundTextStyle': 'light', 'navigationBarBackgroundColor': '#fff', 'navigationBarTitleText': 'WeChat', 'navigationBarTextStyle': 'black'}}\n"
     ]
    }
   ],
   "source": [
    "# json.loads()方法\n",
    "with open('./code/example1.json','r',encoding='utf-8') as fi:\n",
    "    json_data_1 = json.loads(fi.read())\n",
    "\n",
    "#json.load()方法\n",
    "with open('./code/example1.json','r',encoding='utf-8') as fi:\n",
    "    json_data_2 = json.load(fi)\n",
    "\n",
    "print('json_data_1: ',json_data_1)\n",
    "print()\n",
    "print('json_data_1: ',json_data_1)"
   ]
  },
  {
   "cell_type": "markdown",
   "metadata": {},
   "source": [
    "## Demjson库"
   ]
  },
  {
   "cell_type": "markdown",
   "metadata": {},
   "source": [
    "Demjson库是Python的第三方库，用于编码和解码JSON数据，包含了JSONLint的格式化及检验功能。"
   ]
  },
  {
   "cell_type": "markdown",
   "metadata": {},
   "source": [
    "### demjson.encode()"
   ]
  },
  {
   "cell_type": "markdown",
   "metadata": {},
   "source": [
    "作用：将Python对象编码成JSON字符串"
   ]
  },
  {
   "cell_type": "code",
   "execution_count": 7,
   "metadata": {
    "ExecuteTime": {
     "end_time": "2019-04-22T01:37:14.915760Z",
     "start_time": "2019-04-22T01:37:14.905786Z"
    }
   },
   "outputs": [
    {
     "name": "stdout",
     "output_type": "stream",
     "text": [
      "[{'a': 1, 'b': 2, 'c': 3, 'd': 4, 'e': 5}]\n"
     ]
    }
   ],
   "source": [
    "import demjson\n",
    "\n",
    "data = [ { 'a' : 1, 'b' : 2, 'c' : 3, 'd' : 4, 'e' : 5 } ]\n",
    "jsondata = demjson.encode(data)\n",
    "print(data)"
   ]
  },
  {
   "cell_type": "markdown",
   "metadata": {},
   "source": [
    "### demjson.decode()"
   ]
  },
  {
   "cell_type": "markdown",
   "metadata": {},
   "source": [
    "作用：将已编码的JSON字符串解码为Python对象"
   ]
  },
  {
   "cell_type": "code",
   "execution_count": 8,
   "metadata": {
    "ExecuteTime": {
     "end_time": "2019-04-22T01:37:14.923738Z",
     "start_time": "2019-04-22T01:37:14.917755Z"
    }
   },
   "outputs": [
    {
     "name": "stdout",
     "output_type": "stream",
     "text": [
      "{'a': 1, 'b': 2, 'c': 3, 'd': 4, 'e': 5}\n"
     ]
    }
   ],
   "source": [
    "import demjson\n",
    "\n",
    "json = '{\"a\":1,\"b\":2,\"c\":3,\"d\":4,\"e\":5}';\n",
    "text = demjson.decode(json)\n",
    "print(text)"
   ]
  }
 ],
 "metadata": {
  "kernelspec": {
   "display_name": "Python 3",
   "language": "python",
   "name": "python3"
  },
  "language_info": {
   "codemirror_mode": {
    "name": "ipython",
    "version": 3
   },
   "file_extension": ".py",
   "mimetype": "text/x-python",
   "name": "python",
   "nbconvert_exporter": "python",
   "pygments_lexer": "ipython3",
   "version": "3.7.0"
  },
  "toc": {
   "base_numbering": 1,
   "nav_menu": {},
   "number_sections": true,
   "sideBar": true,
   "skip_h1_title": false,
   "title_cell": "Table of Contents",
   "title_sidebar": "Contents",
   "toc_cell": false,
   "toc_position": {},
   "toc_section_display": true,
   "toc_window_display": true
  },
  "varInspector": {
   "cols": {
    "lenName": 16,
    "lenType": 16,
    "lenVar": 40
   },
   "kernels_config": {
    "python": {
     "delete_cmd_postfix": "",
     "delete_cmd_prefix": "del ",
     "library": "var_list.py",
     "varRefreshCmd": "print(var_dic_list())"
    },
    "r": {
     "delete_cmd_postfix": ") ",
     "delete_cmd_prefix": "rm(",
     "library": "var_list.r",
     "varRefreshCmd": "cat(var_dic_list()) "
    }
   },
   "types_to_exclude": [
    "module",
    "function",
    "builtin_function_or_method",
    "instance",
    "_Feature"
   ],
   "window_display": false
  }
 },
 "nbformat": 4,
 "nbformat_minor": 2
}
