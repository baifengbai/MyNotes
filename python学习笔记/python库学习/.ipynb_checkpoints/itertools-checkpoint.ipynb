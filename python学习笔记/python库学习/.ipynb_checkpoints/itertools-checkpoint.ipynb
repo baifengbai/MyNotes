{
 "cells": [
  {
   "cell_type": "markdown",
   "metadata": {},
   "source": [
    "本文学习于[PyMOTW](https://pymotw.com/2/itertools/) 和 [python itertools](https://docs.python.org/2/library/itertools.html) 。"
   ]
  },
  {
   "cell_type": "markdown",
   "metadata": {},
   "source": [
    "`itertools`包 是为有效循环而创建迭代器的函数库，它提供了非常有用的用于操作迭代对象的函数，它们返回的不是`list`，而是迭代对象，只有用`for循环`迭代时才真正计算。、\n",
    "\n",
    "基于迭代器的代码可能比使用列表的代码更好。由于在需要迭代器之前，数据不会从迭代器中生成，因此所有数据不会同时存储在内存中。减少内存占用可以减少大数据集的交换和其它副作用，进而提升性能。"
   ]
  },
  {
   "cell_type": "markdown",
   "metadata": {},
   "source": [
    "# 概览"
   ]
  },
  {
   "cell_type": "markdown",
   "metadata": {},
   "source": [
    "## 生成无限序列的迭代器"
   ]
  },
  {
   "cell_type": "markdown",
   "metadata": {},
   "source": [
    "![](./image/infinite_iterator.png)"
   ]
  },
  {
   "cell_type": "markdown",
   "metadata": {},
   "source": [
    "## 在最短输入序列上终止的迭代器"
   ]
  },
  {
   "cell_type": "markdown",
   "metadata": {},
   "source": [
    "![](./image/iterators_short.png)"
   ]
  },
  {
   "cell_type": "markdown",
   "metadata": {},
   "source": [
    "## 序列元素排列组合的生成器"
   ]
  },
  {
   "cell_type": "markdown",
   "metadata": {},
   "source": [
    "![](./image/combinatoric_generators.png)"
   ]
  },
  {
   "cell_type": "markdown",
   "metadata": {},
   "source": [
    "# 合并和分割数据集的迭代器"
   ]
  },
  {
   "cell_type": "markdown",
   "metadata": {},
   "source": [
    "## chain()"
   ]
  },
  {
   "cell_type": "markdown",
   "metadata": {},
   "source": [
    "`itertools.chain(*iterables)`将多个迭代器作为参数，但只返回单个迭代器，它产生所有作为参数的迭代器的元素，就好像这些元素来自于一个单一的序列。"
   ]
  },
  {
   "cell_type": "code",
   "execution_count": 1,
   "metadata": {
    "ExecuteTime": {
     "end_time": "2019-04-22T14:11:50.636563Z",
     "start_time": "2019-04-22T14:11:50.628584Z"
    }
   },
   "outputs": [
    {
     "name": "stdout",
     "output_type": "stream",
     "text": [
      "it1: \n",
      "1,2,3,a,b,c,\n",
      "\n",
      "it2: \n",
      "1,2,3,a,b,c,11,12,13,"
     ]
    }
   ],
   "source": [
    "from itertools import chain\n",
    "\n",
    "it1 = chain([1,2,3],['a','b','c'])\n",
    "it2 = chain([1,2,3],['a','b','c'],[11,12,13])\n",
    "print('it1: ')\n",
    "for i in it1:\n",
    "    print(i,end=',')\n",
    "print('\\n')\n",
    "print('it2: ')\n",
    "for i in it2:\n",
    "    print(i,end=',')"
   ]
  },
  {
   "cell_type": "markdown",
   "metadata": {},
   "source": [
    "## chain.from_iterable()"
   ]
  },
  {
   "cell_type": "markdown",
   "metadata": {},
   "source": [
    "`itertools.chain.from_iterable(iterable)`作用与`itertools.chain(*iterables)`一样,但是参数却只能有一个。参数`iterable`本身是一个可迭代的对象，且其每个元素也是可迭代的。"
   ]
  },
  {
   "cell_type": "code",
   "execution_count": 2,
   "metadata": {
    "ExecuteTime": {
     "end_time": "2019-04-22T14:11:50.644543Z",
     "start_time": "2019-04-22T14:11:50.638557Z"
    }
   },
   "outputs": [
    {
     "name": "stdout",
     "output_type": "stream",
     "text": [
      "a, b, c, d, e, f, \n",
      "\n",
      "1, 2, 3, 4, 5, \n",
      "\n"
     ]
    }
   ],
   "source": [
    "from itertools import chain\n",
    "\n",
    "for i in chain.from_iterable(['abc','def']):\n",
    "    print(i,end=', ')\n",
    "print('\\n')\n",
    "\n",
    "for i in chain.from_iterable([[1,2,3],[4,5]]):\n",
    "    print(i,end=', ')\n",
    "print('\\n')"
   ]
  },
  {
   "cell_type": "markdown",
   "metadata": {},
   "source": [
    "## zip_longest()"
   ]
  },
  {
   "cell_type": "markdown",
   "metadata": {},
   "source": [
    "`itertools.zip_longest(*iterables，fillvalue)` 返回一个合并了多个迭代器为一个元组的迭代器。它类似于内置函数`zip()`，只是它返回的是一个迭代器而不是一个列表。\n",
    "\n",
    "创建一个迭代器，生成元组($i_1, i_2, ... i_N$)，其中$i_1，i_2 ... i_N$ 分别来自迭代器$iter_1，iter_2 ... iter_N$，不像内置函数`zip()`只要提供的某个迭代器不再生成值，迭代就会停止。`itertools.zip_longest(*iterables)`迭代是以最长的迭代器为准，如果某个迭代器元素耗尽了，则以 `参数fillvalue` 的值来填充。"
   ]
  },
  {
   "cell_type": "code",
   "execution_count": 3,
   "metadata": {
    "ExecuteTime": {
     "end_time": "2019-04-22T14:11:50.656510Z",
     "start_time": "2019-04-22T14:11:50.651523Z"
    }
   },
   "outputs": [
    {
     "name": "stdout",
     "output_type": "stream",
     "text": [
      "type(it1):  <class 'zip'>\n",
      "type(it2):  <class 'itertools.zip_longest'>\n",
      "(1, 'a'),(2, 'b'),(3, 'c'),(4, 'd'),(5, 'd'),\n",
      "\n"
     ]
    }
   ],
   "source": [
    "from itertools import zip_longest\n",
    "\n",
    "it1 = zip([1,2,3],['a','b','c'])\n",
    "it2 = zip_longest([1,2,3,4,5],['a','b','c'],fillvalue='d')\n",
    "print('type(it1): ',type(it1))\n",
    "print('type(it2): ',type(it2))\n",
    "\n",
    "for i in it2:\n",
    "    print(i,end=',')\n",
    "print('\\n')"
   ]
  },
  {
   "cell_type": "markdown",
   "metadata": {},
   "source": [
    "## islice()"
   ]
  },
  {
   "cell_type": "markdown",
   "metadata": {},
   "source": [
    "`itertools.islice(iterable,start,stop,step)` ：返回一个迭代器，其元素是是输入迭代器根据索引来选取的项。\n",
    "\n",
    "创建一个迭代器，生成项的方式类似于切片返回值： `iterable[start : stop : step]`，将跳过前start个项，迭代在stop所指定的位置停止，step指定用于跳过项的步幅。 与切片不同，负值不会用于任何start，stop和step， 如果省略了start，迭代将从0开始，如果省略了step，步幅将采用1。start从0开始。"
   ]
  },
  {
   "cell_type": "code",
   "execution_count": 4,
   "metadata": {
    "ExecuteTime": {
     "end_time": "2019-04-22T14:11:50.663491Z",
     "start_time": "2019-04-22T14:11:50.658504Z"
    }
   },
   "outputs": [
    {
     "name": "stdout",
     "output_type": "stream",
     "text": [
      "C E \n",
      "\n"
     ]
    }
   ],
   "source": [
    "from itertools import islice\n",
    "\n",
    "for i in islice('ABCDEFG',2,6,2):\n",
    "    print(i,end=' ')\n",
    "print('\\n')"
   ]
  },
  {
   "cell_type": "markdown",
   "metadata": {},
   "source": [
    "## tee()"
   ]
  },
  {
   "cell_type": "markdown",
   "metadata": {},
   "source": [
    "`itertools.tee(iterable,n=2)`：返回**n**个基于原始迭代器的独立迭代器(默认为2),也就是会把原始迭代器复制n个。\n",
    "\n",
    "从iterable创建n个独立的迭代器，创建的迭代器以n元组的形式返回，n的默认值为2，此函数适用于任何可迭代的对象，但是，为了克隆原始迭代器，生成的项会被缓存，并在所有新创建的迭代器中使用，一定要注意，不要在调用tee()之后使用原始迭代器iterable，否则缓存机制可能无法正确工作。\n",
    "\n",
    "把一个迭代器分为n个迭代器, 以元组的形式返回，默认是两个迭代器。"
   ]
  },
  {
   "cell_type": "code",
   "execution_count": 5,
   "metadata": {
    "ExecuteTime": {
     "end_time": "2019-04-22T14:11:50.674462Z",
     "start_time": "2019-04-22T14:11:50.669490Z"
    }
   },
   "outputs": [
    {
     "name": "stdout",
     "output_type": "stream",
     "text": [
      "1 1 1\n",
      "2 2 2\n",
      "3 3 3\n",
      "4 4 4\n",
      "5 5 5\n",
      "6 6 6\n",
      "7 7 7\n",
      "8 8 8\n",
      "9 9 9\n"
     ]
    }
   ],
   "source": [
    "from itertools import tee\n",
    "\n",
    "i1,i2,i3 = tee([1,2,3,4,5,6,7,8,9],3)\n",
    "for i,j,k in zip(i1,i2,i3):\n",
    "    print(i,j,k)"
   ]
  },
  {
   "cell_type": "markdown",
   "metadata": {},
   "source": [
    "# 可以转换输入的迭代器"
   ]
  },
  {
   "cell_type": "markdown",
   "metadata": {},
   "source": [
    "## starmap()"
   ]
  },
  {
   "cell_type": "markdown",
   "metadata": {},
   "source": [
    "`itertools.starmap(function,iterable)`：对序列迭代器iterable中的每个元素，都将其作为函数function的参数执行, 最后返回每个元素执行结果组成的迭代器。"
   ]
  },
  {
   "cell_type": "code",
   "execution_count": 6,
   "metadata": {
    "ExecuteTime": {
     "end_time": "2019-04-22T14:11:50.682440Z",
     "start_time": "2019-04-22T14:11:50.676456Z"
    }
   },
   "outputs": [
    {
     "name": "stdout",
     "output_type": "stream",
     "text": [
      "0 * 5 = 0\n",
      "1 * 6 = 6\n",
      "2 * 7 = 14\n",
      "3 * 8 = 24\n",
      "4 * 9 = 36\n"
     ]
    }
   ],
   "source": [
    "from itertools import starmap\n",
    "\n",
    "values = [(0, 5), (1, 6), (2, 7), (3, 8), (4, 9)]\n",
    "for i in starmap(lambda x,y:(x,y,x*y),values):\n",
    "    print('%d * %d = %d' % i)"
   ]
  },
  {
   "cell_type": "markdown",
   "metadata": {},
   "source": [
    "# 可以生成新数据的无限迭代器"
   ]
  },
  {
   "cell_type": "markdown",
   "metadata": {},
   "source": [
    "## count()"
   ]
  },
  {
   "cell_type": "markdown",
   "metadata": {},
   "source": [
    "`itertools.count(start=0,step=1)`：创建一个迭代器，生成从n开始的连续整数，如果忽略n，则从0开始计算。如果超出了sys.maxint，计数器将溢出并继续从-sys.maxint-1开始计算。\n",
    "\n",
    "注意，该函数会无限生成数字，需要通过其它方式来限制生成数字的数量。"
   ]
  },
  {
   "cell_type": "code",
   "execution_count": 7,
   "metadata": {
    "ExecuteTime": {
     "end_time": "2019-04-22T14:11:50.821577Z",
     "start_time": "2019-04-22T14:11:50.816590Z"
    }
   },
   "outputs": [
    {
     "name": "stdout",
     "output_type": "stream",
     "text": [
      "(1, 'a')\n",
      "(2, 'b')\n",
      "(3, 'c')\n"
     ]
    }
   ],
   "source": [
    "from itertools import count\n",
    "\n",
    "for i in zip(count(1),['a','b','c']):\n",
    "    print(i)"
   ]
  },
  {
   "cell_type": "markdown",
   "metadata": {},
   "source": [
    "## cycle()"
   ]
  },
  {
   "cell_type": "markdown",
   "metadata": {},
   "source": [
    "`itertools.cycle(iterable)`：创建一个迭代器，其元素来源于iterable，并保存每个元素的副本。当iterable耗尽时，从保存的副本中继续返回元素，无限重复下去。"
   ]
  },
  {
   "cell_type": "code",
   "execution_count": 8,
   "metadata": {
    "ExecuteTime": {
     "end_time": "2019-04-22T14:11:50.919318Z",
     "start_time": "2019-04-22T14:11:50.914333Z"
    }
   },
   "outputs": [
    {
     "name": "stdout",
     "output_type": "stream",
     "text": [
      "A,B,C,D,A,B,C,D,A,B,C,D,"
     ]
    }
   ],
   "source": [
    "from itertools import cycle\n",
    "\n",
    "count = 0\n",
    "for i in cycle('ABCD'):\n",
    "    print(i,end=',')\n",
    "    if count > 10:\n",
    "        break\n",
    "    count += 1"
   ]
  },
  {
   "cell_type": "markdown",
   "metadata": {},
   "source": [
    "## repeat()"
   ]
  },
  {
   "cell_type": "markdown",
   "metadata": {},
   "source": [
    "`itertools.repeat(object,times)`：创建一个迭代器，重复生成object，times（如果已提供）指定重复计数，如果未提供times，将无止尽返回该对象。"
   ]
  },
  {
   "cell_type": "code",
   "execution_count": 9,
   "metadata": {
    "ExecuteTime": {
     "end_time": "2019-04-22T14:11:51.005086Z",
     "start_time": "2019-04-22T14:11:51.001104Z"
    }
   },
   "outputs": [
    {
     "name": "stdout",
     "output_type": "stream",
     "text": [
      "over-and-over\n",
      "over-and-over\n",
      "over-and-over\n",
      "over-and-over\n",
      "over-and-over\n"
     ]
    }
   ],
   "source": [
    "from itertools import repeat\n",
    "\n",
    "for i in repeat('over-and-over',times=5):\n",
    "    print(i)"
   ]
  },
  {
   "cell_type": "markdown",
   "metadata": {},
   "source": [
    "# 可用于过滤数据的迭代器"
   ]
  },
  {
   "cell_type": "markdown",
   "metadata": {},
   "source": [
    "## compress()"
   ]
  },
  {
   "cell_type": "markdown",
   "metadata": {},
   "source": [
    "`itertools.compress(data,selectors)`：从data中，依据selectors对原始数据进行筛选，即 `(d[0] if s[0]), (d[1] if s[1]), …`"
   ]
  },
  {
   "cell_type": "code",
   "execution_count": 10,
   "metadata": {
    "ExecuteTime": {
     "end_time": "2019-04-22T14:11:51.091854Z",
     "start_time": "2019-04-22T14:11:51.087865Z"
    }
   },
   "outputs": [
    {
     "name": "stdout",
     "output_type": "stream",
     "text": [
      "A,C,E,F,"
     ]
    }
   ],
   "source": [
    "from itertools import compress\n",
    "\n",
    "for i in compress('ABCDEF',[1,0,1,0,1,1]):\n",
    "    print(i,end=',')"
   ]
  },
  {
   "cell_type": "markdown",
   "metadata": {},
   "source": [
    "## dropwhile()"
   ]
  },
  {
   "cell_type": "markdown",
   "metadata": {},
   "source": [
    "`itertools.dropwhile(predicate,iterable)`：创建一个迭代器，只要函数predicate(item)为True，就丢弃iterable中的item项，只有predicate第一次返回False，就会返回iterable中的项和所有后续项。即：在条件为false之后的第一次, 返回迭代器中剩下来的项。"
   ]
  },
  {
   "cell_type": "code",
   "execution_count": 11,
   "metadata": {
    "ExecuteTime": {
     "end_time": "2019-04-22T14:11:51.176627Z",
     "start_time": "2019-04-22T14:11:51.171645Z"
    }
   },
   "outputs": [
    {
     "name": "stdout",
     "output_type": "stream",
     "text": [
      "6,4,1,"
     ]
    }
   ],
   "source": [
    "from itertools import dropwhile\n",
    "\n",
    "for i in dropwhile(lambda x:x<5,[1,4,6,4,1]):\n",
    "    print(i,end=',')"
   ]
  },
  {
   "cell_type": "markdown",
   "metadata": {},
   "source": [
    "## takewhile()"
   ]
  },
  {
   "cell_type": "markdown",
   "metadata": {},
   "source": [
    "`itertools.takewhile(predicate,iterable)`：和dropwhile相反，创建一个迭代器，生成iterable中predicate(item)为True的项，只要predicate计算为False，迭代就会立即停止。即：从序列的头开始, 直到执行函数func失败."
   ]
  },
  {
   "cell_type": "code",
   "execution_count": 12,
   "metadata": {
    "ExecuteTime": {
     "end_time": "2019-04-22T14:11:51.276362Z",
     "start_time": "2019-04-22T14:11:51.272371Z"
    }
   },
   "outputs": [
    {
     "name": "stdout",
     "output_type": "stream",
     "text": [
      "1,4,"
     ]
    }
   ],
   "source": [
    "from itertools import takewhile\n",
    "\n",
    "for i in takewhile(lambda x:x<5,[1,4,6,4,1]):\n",
    "    print(i,end=',')"
   ]
  },
  {
   "cell_type": "markdown",
   "metadata": {},
   "source": [
    "## filterfalse()"
   ]
  },
  {
   "cell_type": "markdown",
   "metadata": {},
   "source": [
    "`itertools.filterfalse(predicate,iterable)`：返回一个包含那些测试函数(predicate)返回false的项的迭代器。\n",
    "\n",
    "创建一个迭代器，仅生成iterable中predicate(item)为False的项，如果predicate为None，则返回iterable中所有计算为False的项。"
   ]
  },
  {
   "cell_type": "code",
   "execution_count": 13,
   "metadata": {
    "ExecuteTime": {
     "end_time": "2019-04-22T14:11:51.358146Z",
     "start_time": "2019-04-22T14:11:51.354155Z"
    }
   },
   "outputs": [
    {
     "name": "stdout",
     "output_type": "stream",
     "text": [
      "0,2,4,6,8,"
     ]
    }
   ],
   "source": [
    "from itertools import filterfalse\n",
    "\n",
    "for i in filterfalse(lambda x:x%2,range(10)):\n",
    "    print(i,end=',')"
   ]
  },
  {
   "cell_type": "markdown",
   "metadata": {},
   "source": [
    "# 可用于分组数据的迭代器"
   ]
  },
  {
   "cell_type": "markdown",
   "metadata": {},
   "source": [
    "## groupby()"
   ]
  },
  {
   "cell_type": "markdown",
   "metadata": {},
   "source": [
    "`itertools.groupby(iterable,key)`：返回一个产生按照key进行分组后的值集合的迭代器。其中iterable是可迭代对象，key是一个用于分组的函数。\n",
    "\n",
    "如果iterable在多次连续迭代中生成了同一项，则会定义一个组。如果将此函数应用一个分类列表，那么分组将定义该列表中的所有唯一项，key（如果已提供）是一个函数，应用于每一项，如果此函数存在返回值，该值将用于后续项而不是该项本身进行比较，**此函数返回的迭代器生成元素(key, group)，其中key是分组的键值，group是迭代器，生成组成该组的所有项**。即：按照key函数对序列每个元素执行后的结果分组(每个分组是一个迭代器), 返回这些分组的迭代器。"
   ]
  },
  {
   "cell_type": "code",
   "execution_count": 14,
   "metadata": {
    "ExecuteTime": {
     "end_time": "2019-04-22T14:11:51.527688Z",
     "start_time": "2019-04-22T14:11:51.521705Z"
    }
   },
   "outputs": [
    {
     "name": "stdout",
     "output_type": "stream",
     "text": [
      "(2, <itertools._grouper object at 0x000001BF6D37D828>)\n",
      "(3, <itertools._grouper object at 0x000001BF6D37DA58>)\n",
      "(5, <itertools._grouper object at 0x000001BF6D37D828>)\n",
      "\n",
      "2 ['aa', 'bb']\n",
      "3 ['abc', 'bcd']\n",
      "5 ['abcde']\n"
     ]
    }
   ],
   "source": [
    "from itertools import groupby\n",
    "\n",
    "a = ['aa','bb','abc','bcd','abcde']\n",
    "for i in groupby(a,len): # 按长度分组，此时key函数是len\n",
    "    print(i)\n",
    "print()\n",
    "for i,k in groupby(a,len):\n",
    "    print(i,list(k))"
   ]
  },
  {
   "cell_type": "markdown",
   "metadata": {},
   "source": [
    "# 元素排列组合的生成器"
   ]
  },
  {
   "cell_type": "markdown",
   "metadata": {},
   "source": [
    "## product()"
   ]
  },
  {
   "cell_type": "markdown",
   "metadata": {},
   "source": [
    "`itertools.product(*iterables,repeat)`：求笛卡尔积。创建一个迭代器，生成表示item1，item2等中的项目的笛卡尔积的元组，repeat是一个关键字参数，指定重复生成序列的次数,即生成序列中每个元素的长度。"
   ]
  },
  {
   "cell_type": "code",
   "execution_count": 15,
   "metadata": {
    "ExecuteTime": {
     "end_time": "2019-04-22T14:11:51.617448Z",
     "start_time": "2019-04-22T14:11:51.611498Z"
    }
   },
   "outputs": [
    {
     "name": "stdout",
     "output_type": "stream",
     "text": [
      "('A', 'A'),('A', 'B'),('A', 'C'),('A', 'D'),('B', 'A'),('B', 'B'),('B', 'C'),('B', 'D'),('C', 'A'),('C', 'B'),('C', 'C'),('C', 'D'),('D', 'A'),('D', 'B'),('D', 'C'),('D', 'D'),\n",
      "\n",
      "('A', 'A', 'A'),('A', 'A', 'B'),('A', 'A', 'C'),('A', 'A', 'D'),('A', 'B', 'A'),('A', 'B', 'B'),('A', 'B', 'C'),('A', 'B', 'D'),('A', 'C', 'A'),('A', 'C', 'B'),('A', 'C', 'C'),('A', 'C', 'D'),('A', 'D', 'A'),('A', 'D', 'B'),('A', 'D', 'C'),('A', 'D', 'D'),('B', 'A', 'A'),('B', 'A', 'B'),('B', 'A', 'C'),('B', 'A', 'D'),('B', 'B', 'A'),('B', 'B', 'B'),('B', 'B', 'C'),('B', 'B', 'D'),('B', 'C', 'A'),('B', 'C', 'B'),('B', 'C', 'C'),('B', 'C', 'D'),('B', 'D', 'A'),('B', 'D', 'B'),('B', 'D', 'C'),('B', 'D', 'D'),('C', 'A', 'A'),('C', 'A', 'B'),('C', 'A', 'C'),('C', 'A', 'D'),('C', 'B', 'A'),('C', 'B', 'B'),('C', 'B', 'C'),('C', 'B', 'D'),('C', 'C', 'A'),('C', 'C', 'B'),('C', 'C', 'C'),('C', 'C', 'D'),('C', 'D', 'A'),('C', 'D', 'B'),('C', 'D', 'C'),('C', 'D', 'D'),('D', 'A', 'A'),('D', 'A', 'B'),('D', 'A', 'C'),('D', 'A', 'D'),('D', 'B', 'A'),('D', 'B', 'B'),('D', 'B', 'C'),('D', 'B', 'D'),('D', 'C', 'A'),('D', 'C', 'B'),('D', 'C', 'C'),('D', 'C', 'D'),('D', 'D', 'A'),('D', 'D', 'B'),('D', 'D', 'C'),('D', 'D', 'D'),\n",
      "\n"
     ]
    }
   ],
   "source": [
    "from itertools import product\n",
    "\n",
    "for i in product('ABCD',repeat=2):\n",
    "    print(i,end=',')\n",
    "print('\\n')\n",
    "\n",
    "for i in product('ABCD',repeat=3):\n",
    "    print(i,end=',')\n",
    "print('\\n')"
   ]
  },
  {
   "cell_type": "markdown",
   "metadata": {},
   "source": [
    "## permutations()"
   ]
  },
  {
   "cell_type": "markdown",
   "metadata": {},
   "source": [
    "`itertools.permutations(iterable,r)`：返回iterable中,任意取r个元素做排列的元组的迭代器\n",
    "\n",
    "创建一个迭代器，返回iterable中所有长度为r的项目序列，如果省略了r，那么序列的长度与iterable中的项目数量相同。返回p中任意取r个元素做排列的元组的迭代器"
   ]
  },
  {
   "cell_type": "code",
   "execution_count": 16,
   "metadata": {
    "ExecuteTime": {
     "end_time": "2019-04-22T14:11:51.704216Z",
     "start_time": "2019-04-22T14:11:51.699230Z"
    }
   },
   "outputs": [
    {
     "name": "stdout",
     "output_type": "stream",
     "text": [
      "('A', 'B'),('A', 'C'),('A', 'D'),('B', 'A'),('B', 'C'),('B', 'D'),('C', 'A'),('C', 'B'),('C', 'D'),('D', 'A'),('D', 'B'),('D', 'C'),\n",
      "\n"
     ]
    }
   ],
   "source": [
    "from itertools import permutations\n",
    "\n",
    "for i in permutations('ABCD',2):\n",
    "    print(i,end=',')\n",
    "print('\\n')"
   ]
  },
  {
   "cell_type": "markdown",
   "metadata": {},
   "source": [
    "## combinations()"
   ]
  },
  {
   "cell_type": "markdown",
   "metadata": {},
   "source": [
    "`itertools.combinations(iterable,r)`：创建一个迭代器，返回iterable中所有长度为r的子序列，返回的子序列中的项按输入iterable中的顺序排序 (不带重复)。注意，子序列中各个元素的相对顺序与原输入序列一致。"
   ]
  },
  {
   "cell_type": "code",
   "execution_count": 17,
   "metadata": {
    "ExecuteTime": {
     "end_time": "2019-04-22T14:11:51.792980Z",
     "start_time": "2019-04-22T14:11:51.787992Z"
    }
   },
   "outputs": [
    {
     "name": "stdout",
     "output_type": "stream",
     "text": [
      "('A', 'B'),('A', 'C'),('A', 'D'),('B', 'C'),('B', 'D'),('C', 'D'),\n",
      "\n"
     ]
    }
   ],
   "source": [
    "from itertools import combinations\n",
    "\n",
    "for i in combinations('ABCD',2):\n",
    "    print(i,end=',')\n",
    "print('\\n')"
   ]
  },
  {
   "cell_type": "markdown",
   "metadata": {},
   "source": [
    "## combinations_with_replacement()"
   ]
  },
  {
   "cell_type": "markdown",
   "metadata": {},
   "source": [
    "`itertools.combinations_with_replacement(iterable,r)`：创建一个迭代器，返回iterable中所有长度为r的子序列，返回的子序列中的项按输入iterable中的顺序排序 (带重复)。"
   ]
  },
  {
   "cell_type": "code",
   "execution_count": 18,
   "metadata": {
    "ExecuteTime": {
     "end_time": "2019-04-22T14:11:51.877753Z",
     "start_time": "2019-04-22T14:11:51.873763Z"
    }
   },
   "outputs": [
    {
     "name": "stdout",
     "output_type": "stream",
     "text": [
      "('A', 'A'),('A', 'B'),('A', 'C'),('A', 'D'),('B', 'B'),('B', 'C'),('B', 'D'),('C', 'C'),('C', 'D'),('D', 'D'),\n",
      "\n"
     ]
    }
   ],
   "source": [
    "from itertools import combinations_with_replacement\n",
    "\n",
    "for i in combinations_with_replacement('ABCD',2):\n",
    "    print(i,end=',')\n",
    "print('\\n')"
   ]
  },
  {
   "cell_type": "markdown",
   "metadata": {},
   "source": [
    "# 计算累计值的生成器：可以是累计和，累计差，累计值"
   ]
  },
  {
   "cell_type": "markdown",
   "metadata": {},
   "source": [
    "## accumulate()"
   ]
  },
  {
   "cell_type": "markdown",
   "metadata": {},
   "source": [
    "`itertools.accumulate(p,func)`：生成一个迭代器，返回累积和或其他二进制函数的累积结果（通过可选的func参数指定）\n",
    "1. p：是可迭代对象\n",
    "2. func：是用于计算累计值的函数，接受两个参数，默认是加法操作\n",
    "\n",
    "如果提供了func，则它应该是两个参数的函数。输入iterable的元素可以是任何可以作为func参数接受的类型。"
   ]
  },
  {
   "cell_type": "code",
   "execution_count": 19,
   "metadata": {
    "ExecuteTime": {
     "end_time": "2019-04-22T14:11:52.108647Z",
     "start_time": "2019-04-22T14:11:52.101666Z"
    }
   },
   "outputs": [
    {
     "name": "stdout",
     "output_type": "stream",
     "text": [
      "计算累计和： \n",
      "1,3,6,10,15,21,28,36,45,\n",
      "\n",
      "计算累计积：\n",
      "1,2,6,24,120,720,5040,40320,362880,\n",
      "\n",
      "计算累计商：\n",
      "9,1.125,0.16071428571428573,0.026785714285714288,0.005357142857142857,0.0013392857142857143,0.0004464285714285714,0.0002232142857142857,0.0002232142857142857,\n",
      "\n"
     ]
    }
   ],
   "source": [
    "from itertools import accumulate\n",
    "\n",
    "p = [1,2,3,4,5,6,7,8,9]\n",
    "#计算累加和\n",
    "print('计算累计和： ')\n",
    "for i in accumulate(p):\n",
    "    print(i,end=',')\n",
    "print('\\n')\n",
    "\n",
    "# 计算累计积，即阶乘\n",
    "print('计算累计积：')\n",
    "for i in accumulate(p,lambda x,y:x*y):\n",
    "    print(i,end=',')\n",
    "print('\\n')\n",
    "\n",
    "# 计算累计商\n",
    "print('计算累计商：')\n",
    "for i in accumulate(reversed(p),lambda x,y:x / float(y)):\n",
    "    print(i,end=',')\n",
    "print('\\n')"
   ]
  }
 ],
 "metadata": {
  "kernelspec": {
   "display_name": "Python 3",
   "language": "python",
   "name": "python3"
  },
  "language_info": {
   "codemirror_mode": {
    "name": "ipython",
    "version": 3
   },
   "file_extension": ".py",
   "mimetype": "text/x-python",
   "name": "python",
   "nbconvert_exporter": "python",
   "pygments_lexer": "ipython3",
   "version": "3.7.0"
  },
  "toc": {
   "base_numbering": 1,
   "nav_menu": {},
   "number_sections": true,
   "sideBar": true,
   "skip_h1_title": false,
   "title_cell": "Table of Contents",
   "title_sidebar": "Contents",
   "toc_cell": false,
   "toc_position": {
    "height": "calc(100% - 180px)",
    "left": "10px",
    "top": "150px",
    "width": "384px"
   },
   "toc_section_display": true,
   "toc_window_display": false
  },
  "varInspector": {
   "cols": {
    "lenName": 16,
    "lenType": 16,
    "lenVar": 40
   },
   "kernels_config": {
    "python": {
     "delete_cmd_postfix": "",
     "delete_cmd_prefix": "del ",
     "library": "var_list.py",
     "varRefreshCmd": "print(var_dic_list())"
    },
    "r": {
     "delete_cmd_postfix": ") ",
     "delete_cmd_prefix": "rm(",
     "library": "var_list.r",
     "varRefreshCmd": "cat(var_dic_list()) "
    }
   },
   "types_to_exclude": [
    "module",
    "function",
    "builtin_function_or_method",
    "instance",
    "_Feature"
   ],
   "window_display": false
  }
 },
 "nbformat": 4,
 "nbformat_minor": 2
}
