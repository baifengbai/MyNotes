{
 "cells": [
  {
   "cell_type": "markdown",
   "metadata": {},
   "source": [
    "`argparse` 是python标准库里面用来处理命令行参数的库。"
   ]
  },
  {
   "cell_type": "markdown",
   "metadata": {},
   "source": [
    "# 命令行参数"
   ]
  },
  {
   "cell_type": "markdown",
   "metadata": {},
   "source": [
    "**命令行参数**分为**位置参数**和**选项参数**"
   ]
  },
  {
   "cell_type": "markdown",
   "metadata": {},
   "source": [
    "## 位置参数"
   ]
  },
  {
   "cell_type": "markdown",
   "metadata": {},
   "source": [
    "位置参数就是程序根据该参数出现的位置来决定的，比如：\n",
    "\n",
    "```Python\n",
    "ls /home/weiyang/python \n",
    "```\n",
    "\n",
    "`/home/weiyang/python`便是位置参数"
   ]
  },
  {
   "cell_type": "markdown",
   "metadata": {},
   "source": [
    "## 选项参数"
   ]
  },
  {
   "cell_type": "markdown",
   "metadata": {},
   "source": [
    "选项参数是应用程序已经事先定义好的参数，不能随意指定，只能从该命令提供的选项中选定，比如：\n",
    "\n",
    "```Python\n",
    "ls -a\n",
    "```\n",
    "这里 a 便是选项参数。一般选项参数前面都有一个命令前缀，即 '-' 。这个命令前缀可以在`argparse.ArgumentParser(prefix_chars='-')`中设置和更改。"
   ]
  },
  {
   "cell_type": "markdown",
   "metadata": {},
   "source": [
    "# argparse使用步骤"
   ]
  },
  {
   "cell_type": "markdown",
   "metadata": {},
   "source": [
    "##  导入模块"
   ]
  },
  {
   "cell_type": "markdown",
   "metadata": {},
   "source": [
    "```Python\n",
    "import argparse # 导入模块\n",
    "```"
   ]
  },
  {
   "cell_type": "markdown",
   "metadata": {},
   "source": [
    "## 实例化一个参数解析对象"
   ]
  },
  {
   "cell_type": "markdown",
   "metadata": {},
   "source": [
    "```Python\n",
    "parser = argparse.ArgumentParser() # 实例化一个对象\n",
    "```"
   ]
  },
  {
   "cell_type": "markdown",
   "metadata": {},
   "source": [
    "## 添加需要指定的位置参数和选项参数"
   ]
  },
  {
   "cell_type": "markdown",
   "metadata": {},
   "source": [
    "```Python\n",
    "parser.add_argument() # 添加位置参数或选项参数\n",
    "```"
   ]
  },
  {
   "cell_type": "markdown",
   "metadata": {},
   "source": [
    "注意每次只能添加一个，添加多个时，多次调用即可"
   ]
  },
  {
   "cell_type": "markdown",
   "metadata": {},
   "source": [
    "## 获取命令行的参数"
   ]
  },
  {
   "cell_type": "markdown",
   "metadata": {},
   "source": [
    "```Python\n",
    "args = parser.parse_args() # 获取参数，这时可以通过args.参数名的方式来获取每一个参数的值\n",
    "```"
   ]
  },
  {
   "cell_type": "markdown",
   "metadata": {},
   "source": [
    "## 例子"
   ]
  },
  {
   "cell_type": "markdown",
   "metadata": {},
   "source": [
    "注意，对于python来说，命令行的第一个参数是待执行的程序名，其后才是我们设置的各个命令行参数。下面是用jupyter notebook的命令行写的python文件和执行的结果："
   ]
  },
  {
   "cell_type": "code",
   "execution_count": 1,
   "metadata": {
    "ExecuteTime": {
     "end_time": "2019-04-22T01:54:19.723450Z",
     "start_time": "2019-04-22T01:54:19.716469Z"
    }
   },
   "outputs": [
    {
     "name": "stdout",
     "output_type": "stream",
     "text": [
      "Writing ./code/demo1.py\n"
     ]
    }
   ],
   "source": [
    "%%writefile ./code/demo1.py\n",
    "import argparse\n",
    "\n",
    "parser = argparse.ArgumentParser()\n",
    "parser.add_argument('args_1') # 添加位置参数\n",
    "parser.add_argument('-ver','-v',action='store_true') # 添加选项参数，第一个完整的参数名，第二个是省略的参数名，两者等价\n",
    "args = parser.parse_args()\n",
    "print(args.args_1,args.ver)"
   ]
  },
  {
   "cell_type": "code",
   "execution_count": 2,
   "metadata": {
    "ExecuteTime": {
     "end_time": "2019-04-22T01:54:19.733422Z",
     "start_time": "2019-04-22T01:54:19.725445Z"
    }
   },
   "outputs": [
    {
     "name": "stdout",
     "output_type": "stream",
     "text": [
      "foo True\n"
     ]
    }
   ],
   "source": [
    "%run ./code/demo1.py foo -v"
   ]
  },
  {
   "cell_type": "code",
   "execution_count": 3,
   "metadata": {
    "ExecuteTime": {
     "end_time": "2019-04-22T01:54:19.744394Z",
     "start_time": "2019-04-22T01:54:19.737413Z"
    }
   },
   "outputs": [
    {
     "name": "stdout",
     "output_type": "stream",
     "text": [
      "haha True\n"
     ]
    }
   ],
   "source": [
    "%run ./code/demo1.py haha -ver"
   ]
  },
  {
   "cell_type": "markdown",
   "metadata": {},
   "source": [
    "由此可知，第一个位置参数'haha'被赋值给了源代码中的`args_1`,args_1可以换成任何的名字。选项参数`-v`和`-ver`会将源代码中的`v`和`ver`赋值为`True`，如果没有给定选项参数，则默认值为`False`,例如下面，并未给出选项参数："
   ]
  },
  {
   "cell_type": "code",
   "execution_count": 4,
   "metadata": {
    "ExecuteTime": {
     "end_time": "2019-04-22T01:54:19.754367Z",
     "start_time": "2019-04-22T01:54:19.746388Z"
    }
   },
   "outputs": [
    {
     "name": "stdout",
     "output_type": "stream",
     "text": [
      "haha False\n"
     ]
    }
   ],
   "source": [
    "%run ./code/demo1.py haha"
   ]
  },
  {
   "cell_type": "markdown",
   "metadata": {},
   "source": [
    "# 函数argparse.ArgumentParser()的解释"
   ]
  },
  {
   "cell_type": "markdown",
   "metadata": {},
   "source": [
    "argparse.ArgumentParser(\n",
    "\n",
    "prog=None, # 程序名\n",
    "\n",
    "usage=None, # 描述程序用法的字符串，默认从解析器的参数生成\n",
    "\n",
    "description=None, # -h时，参数帮助信息之前的文本\n",
    "\n",
    "epilog=None, # 参数帮助信息之后的文本\n",
    "\n",
    "parents=\\[\\], # 对象的一个列表，这些对象的参数应该包括进去\n",
    "\n",
    "formatter_class=argparse.HelpFormatter, # 定制化帮助信息的类\n",
    "\n",
    "prefix_chars='-', # 选项参数的前缀字符集，默认为 '-'\n",
    "\n",
    "fromfile_prefix_chars=None, # Characters that prefix files containing additional arguments\n",
    "\n",
    "argument_default=None, # 参数的全局默认值\n",
    "\n",
    "conflict_handler='error', # 解决冲突的可选参数的策略\n",
    "\n",
    "add_help=True # 给解析器添加 -h/-help 选项，默认为True\n",
    "\n",
    ")\n",
    "\n",
    "我们一般只选择用 description参数，来描述当前模块的功能"
   ]
  },
  {
   "cell_type": "code",
   "execution_count": 5,
   "metadata": {
    "ExecuteTime": {
     "end_time": "2019-04-22T01:54:19.763343Z",
     "start_time": "2019-04-22T01:54:19.756362Z"
    }
   },
   "outputs": [
    {
     "name": "stdout",
     "output_type": "stream",
     "text": [
      "Writing ./code/demo2.py\n"
     ]
    }
   ],
   "source": [
    "%%writefile ./code/demo2.py\n",
    "\n",
    "import argparse\n",
    "\n",
    "parser = argparse.ArgumentParser(description='这是当前模块功能的介绍',usage='这是模块用法的介绍')\n",
    "parser.add_argument('argv1') # 添加位置参数\n",
    "parser.add_argument('-d','-del',action='store_true') # 添加选项参数\n",
    "args = parser.parse_args()\n",
    "print(args.argv1,args.d)"
   ]
  },
  {
   "cell_type": "code",
   "execution_count": 6,
   "metadata": {
    "ExecuteTime": {
     "end_time": "2019-04-22T01:54:19.778307Z",
     "start_time": "2019-04-22T01:54:19.771322Z"
    }
   },
   "outputs": [
    {
     "name": "stdout",
     "output_type": "stream",
     "text": [
      "usage: 这是模块用法的介绍\n",
      "\n",
      "这是当前模块功能的介绍\n",
      "\n",
      "positional arguments:\n",
      "  argv1\n",
      "\n",
      "optional arguments:\n",
      "  -h, --help  show this help message and exit\n",
      "  -d, -del\n"
     ]
    }
   ],
   "source": [
    "% run ./code/demo2.py 56 -d -h"
   ]
  },
  {
   "cell_type": "markdown",
   "metadata": {},
   "source": [
    "# 对象方法add_argument()的解释"
   ]
  },
  {
   "cell_type": "markdown",
   "metadata": {},
   "source": [
    "添加自定义参数的过程，就是反复调用`add_argument()`，一次加入一个参数。另外加入参数的同时，help的内容也会自动添加,即加上选项参数`-h`，我们就可以知道目标模块的各个参数详细情况:"
   ]
  },
  {
   "cell_type": "code",
   "execution_count": 7,
   "metadata": {
    "ExecuteTime": {
     "end_time": "2019-04-22T01:54:19.788277Z",
     "start_time": "2019-04-22T01:54:19.780297Z"
    }
   },
   "outputs": [
    {
     "name": "stdout",
     "output_type": "stream",
     "text": [
      "usage: demo1.py [-h] [-ver] args_1\n",
      "\n",
      "positional arguments:\n",
      "  args_1\n",
      "\n",
      "optional arguments:\n",
      "  -h, --help  show this help message and exit\n",
      "  -ver, -v\n"
     ]
    }
   ],
   "source": [
    "%run ./code/demo1.py -h"
   ]
  },
  {
   "cell_type": "markdown",
   "metadata": {},
   "source": [
    "选项参数：-h 或 --help ，是查看帮助信息"
   ]
  },
  {
   "cell_type": "markdown",
   "metadata": {},
   "source": [
    "## 位置参数的设置"
   ]
  },
  {
   "cell_type": "markdown",
   "metadata": {},
   "source": [
    "### 添加参数说明：参数help"
   ]
  },
  {
   "cell_type": "markdown",
   "metadata": {},
   "source": [
    "调用`add_argument()`，并且设置其关键词参数`help`，来添加相应参数的参数说明"
   ]
  },
  {
   "cell_type": "code",
   "execution_count": 8,
   "metadata": {
    "ExecuteTime": {
     "end_time": "2019-04-22T01:54:19.798250Z",
     "start_time": "2019-04-22T01:54:19.792266Z"
    }
   },
   "outputs": [
    {
     "name": "stdout",
     "output_type": "stream",
     "text": [
      "Writing ./code/demo3.py\n"
     ]
    }
   ],
   "source": [
    "%%writefile ./code/demo3.py\n",
    "\n",
    "import argparse\n",
    "\n",
    "parser = argparse.ArgumentParser()\n",
    "parser.add_argument('echo',help='这里是参数echo的说明') # 添加位置参数和其说明\n",
    "args = parser.parse_args()\n",
    "print(args)"
   ]
  },
  {
   "cell_type": "code",
   "execution_count": 9,
   "metadata": {
    "ExecuteTime": {
     "end_time": "2019-04-22T01:54:19.807226Z",
     "start_time": "2019-04-22T01:54:19.801242Z"
    }
   },
   "outputs": [
    {
     "name": "stdout",
     "output_type": "stream",
     "text": [
      "usage: demo3.py [-h] echo\n",
      "\n",
      "positional arguments:\n",
      "  echo        这里是参数echo的说明\n",
      "\n",
      "optional arguments:\n",
      "  -h, --help  show this help message and exit\n"
     ]
    }
   ],
   "source": [
    "%run ./code/demo3.py -h"
   ]
  },
  {
   "cell_type": "markdown",
   "metadata": {},
   "source": [
    "### 设置参数的数据类型：参数type"
   ]
  },
  {
   "cell_type": "markdown",
   "metadata": {},
   "source": [
    "所有的参数输入都是`str`类型，如果需要使用`int`类型的参数，通过关键词参数`type`可以方便实现"
   ]
  },
  {
   "cell_type": "code",
   "execution_count": 10,
   "metadata": {
    "ExecuteTime": {
     "end_time": "2019-04-22T01:54:19.815204Z",
     "start_time": "2019-04-22T01:54:19.809229Z"
    }
   },
   "outputs": [
    {
     "name": "stdout",
     "output_type": "stream",
     "text": [
      "Writing ./code/demo4.py\n"
     ]
    }
   ],
   "source": [
    "%%writefile ./code/demo4.py\n",
    "# _*_coding:utf-8 _*_\n",
    "\n",
    "import argparse\n",
    "\n",
    "parser = argparse.ArgumentParser()\n",
    "parser.add_argument('echo',help='这里是参数echo的说明',type=int) # 添加位置参数和其说明\n",
    "args = parser.parse_args()\n",
    "print('参数echo的数据类型是：',type(args.echo))"
   ]
  },
  {
   "cell_type": "code",
   "execution_count": 11,
   "metadata": {
    "ExecuteTime": {
     "end_time": "2019-04-22T01:54:19.824182Z",
     "start_time": "2019-04-22T01:54:19.818197Z"
    }
   },
   "outputs": [
    {
     "name": "stdout",
     "output_type": "stream",
     "text": [
      "参数echo的数据类型是： <class 'int'>\n"
     ]
    }
   ],
   "source": [
    "%run ./code/demo4.py 25"
   ]
  },
  {
   "cell_type": "markdown",
   "metadata": {},
   "source": [
    "### 使用文件作为参数：参数type=argparse.FileType('r')"
   ]
  },
  {
   "cell_type": "markdown",
   "metadata": {},
   "source": [
    "如果使用文件作为参数，则仍需设置关键词参数`type`，应设置为 `type=argparse.FileType('r')`,便可直接对文件进行**读取操作**；如果设置为 `type=argparse.FileType('w')`,便可对文件进行**写操作**。下面是参数直接输入一个文件路径后打印文件内容的例子："
   ]
  },
  {
   "cell_type": "code",
   "execution_count": 12,
   "metadata": {
    "ExecuteTime": {
     "end_time": "2019-04-22T01:54:19.832159Z",
     "start_time": "2019-04-22T01:54:19.826175Z"
    }
   },
   "outputs": [
    {
     "name": "stdout",
     "output_type": "stream",
     "text": [
      "Writing ./code/demo5.py\n"
     ]
    }
   ],
   "source": [
    "%%writefile ./code/demo5.py\n",
    "\n",
    "import argparse\n",
    "\n",
    "parser = argparse.ArgumentParser()\n",
    "parser.add_argument('file',help='这里是参数echo的说明',type=argparse.FileType('r',encoding='utf-8')) # 添加位置参数和其说明\n",
    "args = parser.parse_args()\n",
    "print('参数echo的数据类型是：',type(args.file))\n",
    "print()\n",
    "# 读取文件\n",
    "for line in args.file:\n",
    "    print(line)"
   ]
  },
  {
   "cell_type": "code",
   "execution_count": 13,
   "metadata": {
    "ExecuteTime": {
     "end_time": "2019-04-22T01:54:19.843130Z",
     "start_time": "2019-04-22T01:54:19.835151Z"
    }
   },
   "outputs": [
    {
     "name": "stderr",
     "output_type": "stream",
     "text": [
      "usage: demo5.py [-h] file\n",
      "demo5.py: error: argument file: can't open 'demo4.py': [Errno 2] No such file or directory: 'demo4.py'\n"
     ]
    },
    {
     "ename": "SystemExit",
     "evalue": "2",
     "output_type": "error",
     "traceback": [
      "An exception has occurred, use %tb to see the full traceback.\n",
      "\u001b[1;31mSystemExit\u001b[0m\u001b[1;31m:\u001b[0m 2\n"
     ]
    }
   ],
   "source": [
    "# 这里我们用demo4.py文件做输入\n",
    "%run ./code/demo5.py demo4.py"
   ]
  },
  {
   "cell_type": "markdown",
   "metadata": {},
   "source": [
    "### 定义参数的默认值以及相应参数的数量：参数default，参数nargs='?',nargs='+',nargs='*'"
   ]
  },
  {
   "cell_type": "markdown",
   "metadata": {},
   "source": [
    "默认值用来解决不带相应参数允许程序的情况。\n",
    "\n",
    "参数`default`用来设置默认值；\n",
    "\n",
    "参数`nargs`用来设置输入该参数的个数，默认情况下我们必须输入1个。\n",
    "1. `nargs='?'`表示可以不输入或输入一个\n",
    "2. `nargs='+'` 表示输入1个或多个，也可以使用数字\n",
    "3. `nargs='*'` 表示允许多个参数\n",
    "\n",
    "此时所有参数将组成一个列表。"
   ]
  },
  {
   "cell_type": "code",
   "execution_count": 14,
   "metadata": {
    "ExecuteTime": {
     "end_time": "2019-04-22T01:54:19.852106Z",
     "start_time": "2019-04-22T01:54:19.846122Z"
    }
   },
   "outputs": [
    {
     "name": "stdout",
     "output_type": "stream",
     "text": [
      "Writing ./code/demo6.py\n"
     ]
    }
   ],
   "source": [
    "%%writefile ./code/demo6.py\n",
    "\n",
    "import argparse\n",
    "\n",
    "parser = argparse.ArgumentParser()\n",
    "parser.add_argument('number',type=int,default=0,nargs='+') # 添加位置参数和其说明\n",
    "args = parser.parse_args()\n",
    "# 求参数 number的和，number可能会输入多个值\n",
    "print(sum(args.number))"
   ]
  },
  {
   "cell_type": "code",
   "execution_count": 15,
   "metadata": {
    "ExecuteTime": {
     "end_time": "2019-04-22T01:54:19.861082Z",
     "start_time": "2019-04-22T01:54:19.855097Z"
    }
   },
   "outputs": [
    {
     "name": "stdout",
     "output_type": "stream",
     "text": [
      "1\n"
     ]
    }
   ],
   "source": [
    "%run ./code/demo6.py 1"
   ]
  },
  {
   "cell_type": "code",
   "execution_count": 16,
   "metadata": {
    "ExecuteTime": {
     "end_time": "2019-04-22T01:54:19.870061Z",
     "start_time": "2019-04-22T01:54:19.863077Z"
    }
   },
   "outputs": [
    {
     "name": "stdout",
     "output_type": "stream",
     "text": [
      "15\n"
     ]
    }
   ],
   "source": [
    "%run ./code/demo6.py 1 2 3 4 5"
   ]
  },
  {
   "cell_type": "markdown",
   "metadata": {},
   "source": [
    "### 参数候选值：参数choices"
   ]
  },
  {
   "cell_type": "markdown",
   "metadata": {},
   "source": [
    "使用关键词参数choices，可以限定相应参数的值必须在候选的列表内，并且如果此时设置了default参数，default的值也必须在候选列表内"
   ]
  },
  {
   "cell_type": "code",
   "execution_count": 17,
   "metadata": {
    "ExecuteTime": {
     "end_time": "2019-04-22T01:54:19.878040Z",
     "start_time": "2019-04-22T01:54:19.872052Z"
    }
   },
   "outputs": [
    {
     "name": "stdout",
     "output_type": "stream",
     "text": [
      "Writing ./code/demo7.py\n"
     ]
    }
   ],
   "source": [
    "%%writefile ./code/demo7.py\n",
    "\n",
    "import argparse\n",
    "\n",
    "parser = argparse.ArgumentParser()\n",
    "parser.add_argument('number',type=int,default=0,choices=[0,1,2]) # 添加位置参数和其说明\n",
    "args = parser.parse_args()\n",
    "print(args.number)"
   ]
  },
  {
   "cell_type": "code",
   "execution_count": 18,
   "metadata": {
    "ExecuteTime": {
     "end_time": "2019-04-22T01:54:19.887013Z",
     "start_time": "2019-04-22T01:54:19.880033Z"
    }
   },
   "outputs": [
    {
     "name": "stdout",
     "output_type": "stream",
     "text": [
      "1\n"
     ]
    }
   ],
   "source": [
    "%run ./code/demo7.py 1"
   ]
  },
  {
   "cell_type": "code",
   "execution_count": 19,
   "metadata": {
    "ExecuteTime": {
     "end_time": "2019-04-22T01:54:19.896986Z",
     "start_time": "2019-04-22T01:54:19.889007Z"
    }
   },
   "outputs": [
    {
     "name": "stderr",
     "output_type": "stream",
     "text": [
      "usage: demo7.py [-h] {0,1,2}\n",
      "demo7.py: error: argument number: invalid choice: 5 (choose from 0, 1, 2)\n"
     ]
    },
    {
     "ename": "SystemExit",
     "evalue": "2",
     "output_type": "error",
     "traceback": [
      "An exception has occurred, use %tb to see the full traceback.\n",
      "\u001b[1;31mSystemExit\u001b[0m\u001b[1;31m:\u001b[0m 2\n"
     ]
    }
   ],
   "source": [
    "%run ./code/demo7.py 5"
   ]
  },
  {
   "cell_type": "markdown",
   "metadata": {},
   "source": [
    "5不在候选值内，故发生错误。"
   ]
  },
  {
   "cell_type": "markdown",
   "metadata": {},
   "source": [
    "## 选项参数"
   ]
  },
  {
   "cell_type": "markdown",
   "metadata": {},
   "source": [
    "像 -h 和 --help一样，也可以设置自己的选项参数。设置的时候，短参数和长参数可以只设置一个，如果没有冲突的话，建议都写上。**设置选项参数的方法**便是在参数名前面加上`'-'` 。\n",
    "\n",
    "和**位置参数**相反，选项参数默认是非必须的。不输入选项参数的情况下，取到的值是None。输入选项但是又没在后面跟上相应的值，则会报错。如果需要，也可以将选项参数设置为必须输入。"
   ]
  },
  {
   "cell_type": "markdown",
   "metadata": {},
   "source": [
    "### 指定选项参数的变量名：关键词参数dest"
   ]
  },
  {
   "cell_type": "code",
   "execution_count": 20,
   "metadata": {
    "ExecuteTime": {
     "end_time": "2019-04-22T01:54:19.905962Z",
     "start_time": "2019-04-22T01:54:19.899978Z"
    }
   },
   "outputs": [
    {
     "name": "stdout",
     "output_type": "stream",
     "text": [
      "Writing ./code/demo8.py\n"
     ]
    }
   ],
   "source": [
    "%%writefile ./code/demo8.py\n",
    "\n",
    "import argparse\n",
    "\n",
    "parser = argparse.ArgumentParser()\n",
    "parser.add_argument('-v','--verbose',dest='ver') # 添加选项参数'-v'，并用dest来指定'-v'后跟着的值，赋给变量ver\n",
    "args = parser.parse_args()\n",
    "print(args.ver,type(args.ver)) # 获取参数值，并打印出来。这里的变量名args.ver是在dest里定义的\n",
    "print(args)"
   ]
  },
  {
   "cell_type": "code",
   "execution_count": 21,
   "metadata": {
    "ExecuteTime": {
     "end_time": "2019-04-22T01:54:19.914938Z",
     "start_time": "2019-04-22T01:54:19.907956Z"
    }
   },
   "outputs": [
    {
     "name": "stdout",
     "output_type": "stream",
     "text": [
      "56 <class 'str'>\n",
      "Namespace(ver='56')\n"
     ]
    }
   ],
   "source": [
    "%run ./code/demo8.py -v 56"
   ]
  },
  {
   "cell_type": "markdown",
   "metadata": {},
   "source": [
    "这里 -v 后面的56便是相应的参数值"
   ]
  },
  {
   "cell_type": "markdown",
   "metadata": {},
   "source": [
    "### 选项参数设为必须：关键词参数required=True"
   ]
  },
  {
   "cell_type": "markdown",
   "metadata": {},
   "source": [
    "使用`required=True`后，相应的参数便是必须输入的"
   ]
  },
  {
   "cell_type": "code",
   "execution_count": 22,
   "metadata": {
    "ExecuteTime": {
     "end_time": "2019-04-22T01:54:19.922916Z",
     "start_time": "2019-04-22T01:54:19.917929Z"
    }
   },
   "outputs": [
    {
     "name": "stdout",
     "output_type": "stream",
     "text": [
      "Writing ./code/demo9.py\n"
     ]
    }
   ],
   "source": [
    "%%writefile ./code/demo9.py\n",
    "\n",
    "import argparse\n",
    "\n",
    "parser = argparse.ArgumentParser()\n",
    "parser.add_argument('-v','--verbose',required=True) # 添加选项参数'-v'，且设置参数为必须\n",
    "args = parser.parse_args()\n",
    "print(args.verbose,type(args.verbose)) # 获取参数值，并打印出来\n",
    "print(args)"
   ]
  },
  {
   "cell_type": "code",
   "execution_count": 23,
   "metadata": {
    "ExecuteTime": {
     "end_time": "2019-04-22T01:54:19.931892Z",
     "start_time": "2019-04-22T01:54:19.924912Z"
    }
   },
   "outputs": [
    {
     "name": "stdout",
     "output_type": "stream",
     "text": [
      "12 <class 'str'>\n",
      "Namespace(verbose='12')\n"
     ]
    }
   ],
   "source": [
    "%run ./code/demo9.py -v 12"
   ]
  },
  {
   "cell_type": "code",
   "execution_count": 24,
   "metadata": {
    "ExecuteTime": {
     "end_time": "2019-04-22T01:54:19.969798Z",
     "start_time": "2019-04-22T01:54:19.953834Z"
    }
   },
   "outputs": [
    {
     "name": "stderr",
     "output_type": "stream",
     "text": [
      "usage: demo9.py [-h] -v VERBOSE\n",
      "demo9.py: error: the following arguments are required: -v/--verbose\n"
     ]
    },
    {
     "ename": "SystemExit",
     "evalue": "2",
     "output_type": "error",
     "traceback": [
      "An exception has occurred, use %tb to see the full traceback.\n",
      "\u001b[1;31mSystemExit\u001b[0m\u001b[1;31m:\u001b[0m 2\n"
     ]
    }
   ],
   "source": [
    "%run ./code/demo9.py"
   ]
  },
  {
   "cell_type": "markdown",
   "metadata": {},
   "source": [
    "未输入 -v 参数的结果"
   ]
  },
  {
   "cell_type": "markdown",
   "metadata": {},
   "source": [
    "### 选项参数 设为 布尔值或固定值： action='store_true'或action='store_false'"
   ]
  },
  {
   "cell_type": "markdown",
   "metadata": {},
   "source": [
    "#### 选项参数设为布尔值"
   ]
  },
  {
   "cell_type": "markdown",
   "metadata": {},
   "source": [
    "上面使用可选参数的时候，必须在后面给这个参数赋值，但有时候我们只需要一个标识，而不需要一个确切的值，比如 -h 和 --help。这个可以通过使用 `action='store_true'` 或 `action='store_false'`来实现。"
   ]
  },
  {
   "cell_type": "code",
   "execution_count": 25,
   "metadata": {
    "ExecuteTime": {
     "end_time": "2019-04-22T01:54:19.977770Z",
     "start_time": "2019-04-22T01:54:19.971786Z"
    }
   },
   "outputs": [
    {
     "name": "stdout",
     "output_type": "stream",
     "text": [
      "Writing ./code/demo10.py\n"
     ]
    }
   ],
   "source": [
    "%%writefile ./code/demo10.py\n",
    "\n",
    "import argparse\n",
    "\n",
    "parser = argparse.ArgumentParser(description='解析命令行参数')\n",
    "parser.add_argument('-v','--verbose',action='store_true') # 添加选项参数'-v'，且设置参数为布尔值，此时默认为False\n",
    "args = parser.parse_args()\n",
    "print(args.verbose,type(args.verbose)) # 获取参数值，并打印出来\n",
    "print(args)"
   ]
  },
  {
   "cell_type": "code",
   "execution_count": 26,
   "metadata": {
    "ExecuteTime": {
     "end_time": "2019-04-22T01:54:19.994725Z",
     "start_time": "2019-04-22T01:54:19.988741Z"
    }
   },
   "outputs": [
    {
     "name": "stdout",
     "output_type": "stream",
     "text": [
      "True <class 'bool'>\n",
      "Namespace(verbose=True)\n"
     ]
    }
   ],
   "source": [
    "%run ./code/demo10.py -v"
   ]
  },
  {
   "cell_type": "markdown",
   "metadata": {},
   "source": [
    "如果不输入选项参数-v"
   ]
  },
  {
   "cell_type": "code",
   "execution_count": 27,
   "metadata": {
    "ExecuteTime": {
     "end_time": "2019-04-22T01:54:20.005696Z",
     "start_time": "2019-04-22T01:54:19.997724Z"
    }
   },
   "outputs": [
    {
     "name": "stdout",
     "output_type": "stream",
     "text": [
      "False <class 'bool'>\n",
      "Namespace(verbose=False)\n"
     ]
    }
   ],
   "source": [
    "%run ./code/demo10.py"
   ]
  },
  {
   "cell_type": "markdown",
   "metadata": {},
   "source": [
    "如果带参数运行，参数`-v`取到的值便是True；如果不带参数运行，参数`-v`取到的值便是False。也可以使用`action='store_false'`,效果正好相反。"
   ]
  },
  {
   "cell_type": "markdown",
   "metadata": {},
   "source": [
    "#### 选项参数 设为 固定值 ：action='store_const' 且 const= 固定值"
   ]
  },
  {
   "cell_type": "markdown",
   "metadata": {},
   "source": [
    "也可以设置选项参数为 固定值。如果不带选项参数，则该选项参数默认为None,带选项参数时，则为 指定的固定值，此时选项参数后面便不能跟值了。如果有的话，便会当做位置参数处理。"
   ]
  },
  {
   "cell_type": "code",
   "execution_count": 28,
   "metadata": {
    "ExecuteTime": {
     "end_time": "2019-04-22T01:54:20.013674Z",
     "start_time": "2019-04-22T01:54:20.007690Z"
    }
   },
   "outputs": [
    {
     "name": "stdout",
     "output_type": "stream",
     "text": [
      "Writing ./code/demo11.py\n"
     ]
    }
   ],
   "source": [
    "%%writefile ./code/demo11.py\n",
    "\n",
    "import argparse\n",
    "\n",
    "parser = argparse.ArgumentParser(description='解析命令行参数')\n",
    "parser.add_argument('-v','--verbose',action='store_const',const='Test') # 添加选项参数'-v'，且设置参数为布尔值，此时默认为False\n",
    "args = parser.parse_args()\n",
    "print(args.verbose,type(args.verbose)) # 获取参数值，并打印出来\n",
    "print(args)"
   ]
  },
  {
   "cell_type": "code",
   "execution_count": 29,
   "metadata": {
    "ExecuteTime": {
     "end_time": "2019-04-22T01:54:20.023166Z",
     "start_time": "2019-04-22T01:54:20.015668Z"
    }
   },
   "outputs": [
    {
     "name": "stdout",
     "output_type": "stream",
     "text": [
      "None <class 'NoneType'>\n",
      "Namespace(verbose=None)\n"
     ]
    }
   ],
   "source": [
    "%run ./code/demo11.py"
   ]
  },
  {
   "cell_type": "code",
   "execution_count": 30,
   "metadata": {
    "ExecuteTime": {
     "end_time": "2019-04-22T01:54:20.032142Z",
     "start_time": "2019-04-22T01:54:20.025161Z"
    }
   },
   "outputs": [
    {
     "name": "stdout",
     "output_type": "stream",
     "text": [
      "Test <class 'str'>\n",
      "Namespace(verbose='Test')\n"
     ]
    }
   ],
   "source": [
    "%run ./code/demo11.py -v"
   ]
  },
  {
   "cell_type": "markdown",
   "metadata": {},
   "source": [
    "#### 存储参数值：action='store'"
   ]
  },
  {
   "cell_type": "markdown",
   "metadata": {},
   "source": [
    "action的默认值为`store`，会存储该选项参数后面跟的值。"
   ]
  },
  {
   "cell_type": "markdown",
   "metadata": {},
   "source": [
    "## 将参数和其值转化为字典的形式：vars(args)"
   ]
  },
  {
   "cell_type": "markdown",
   "metadata": {},
   "source": [
    "使用内置函数`vars()`，将参数和值转化为字典的形式"
   ]
  },
  {
   "cell_type": "code",
   "execution_count": 31,
   "metadata": {
    "ExecuteTime": {
     "end_time": "2019-04-22T01:54:20.040121Z",
     "start_time": "2019-04-22T01:54:20.034137Z"
    }
   },
   "outputs": [
    {
     "name": "stdout",
     "output_type": "stream",
     "text": [
      "Writing ./code/demo12.py\n"
     ]
    }
   ],
   "source": [
    "%%writefile ./code/demo12.py\n",
    "\n",
    "import argparse\n",
    "\n",
    "parser = argparse.ArgumentParser(description='解析命令行参数')\n",
    "parser.add_argument('-v','--verbose',action='store_const',const='Test') # 添加选项参数'-v'，且设置参数为布尔值，此时默认为False\n",
    "args = parser.parse_args()\n",
    "print(vars(args))"
   ]
  },
  {
   "cell_type": "code",
   "execution_count": 32,
   "metadata": {
    "ExecuteTime": {
     "end_time": "2019-04-22T01:54:20.051094Z",
     "start_time": "2019-04-22T01:54:20.044111Z"
    }
   },
   "outputs": [
    {
     "name": "stdout",
     "output_type": "stream",
     "text": [
      "{'verbose': 'Test'}\n"
     ]
    }
   ],
   "source": [
    "%run ./code/demo12.py -v"
   ]
  },
  {
   "cell_type": "markdown",
   "metadata": {},
   "source": [
    "# 对象方法parse_args()的解释"
   ]
  },
  {
   "cell_type": "markdown",
   "metadata": {},
   "source": [
    "从命令行中解析各个参数的值"
   ]
  },
  {
   "cell_type": "markdown",
   "metadata": {},
   "source": [
    "# 在程序中使用的方式"
   ]
  },
  {
   "cell_type": "markdown",
   "metadata": {},
   "source": [
    "一般设计自己的命令行参数时，最好写到一个函数里，进而将参数分配到相应的变量中。"
   ]
  },
  {
   "cell_type": "code",
   "execution_count": 33,
   "metadata": {
    "ExecuteTime": {
     "end_time": "2019-04-22T01:54:20.059071Z",
     "start_time": "2019-04-22T01:54:20.053086Z"
    }
   },
   "outputs": [
    {
     "name": "stdout",
     "output_type": "stream",
     "text": [
      "Writing ./code/demo13.py\n"
     ]
    }
   ],
   "source": [
    "%%writefile ./code/demo13.py\n",
    "\n",
    "import argparse\n",
    "\n",
    "def parse_args():\n",
    "    parser = argparse.ArgumentParser(description='解析命令行参数')\n",
    "    # 依次添加每一个参数\n",
    "    parser.add_argument('echo')\n",
    "    parser.add_argument('num')\n",
    "    parser.add_argument('-v','--verbose',action='store_const',const=52)\n",
    "    return parser.parse_args()\n",
    "\n",
    "if __name__ == '__main__':\n",
    "    args = parse_args()\n",
    "    print(vars(args))"
   ]
  },
  {
   "cell_type": "code",
   "execution_count": 34,
   "metadata": {
    "ExecuteTime": {
     "end_time": "2019-04-22T01:54:20.067059Z",
     "start_time": "2019-04-22T01:54:20.061065Z"
    }
   },
   "outputs": [
    {
     "name": "stdout",
     "output_type": "stream",
     "text": [
      "{'echo': 'haha', 'num': '52', 'verbose': 52}\n"
     ]
    }
   ],
   "source": [
    "%run ./code/demo13.py haha 52 -v"
   ]
  }
 ],
 "metadata": {
  "kernelspec": {
   "display_name": "Python 3",
   "language": "python",
   "name": "python3"
  },
  "language_info": {
   "codemirror_mode": {
    "name": "ipython",
    "version": 3
   },
   "file_extension": ".py",
   "mimetype": "text/x-python",
   "name": "python",
   "nbconvert_exporter": "python",
   "pygments_lexer": "ipython3",
   "version": "3.7.0"
  },
  "toc": {
   "base_numbering": 1,
   "nav_menu": {},
   "number_sections": true,
   "sideBar": true,
   "skip_h1_title": false,
   "title_cell": "Table of Contents",
   "title_sidebar": "Contents",
   "toc_cell": false,
   "toc_position": {},
   "toc_section_display": true,
   "toc_window_display": false
  },
  "varInspector": {
   "cols": {
    "lenName": 16,
    "lenType": 16,
    "lenVar": 40
   },
   "kernels_config": {
    "python": {
     "delete_cmd_postfix": "",
     "delete_cmd_prefix": "del ",
     "library": "var_list.py",
     "varRefreshCmd": "print(var_dic_list())"
    },
    "r": {
     "delete_cmd_postfix": ") ",
     "delete_cmd_prefix": "rm(",
     "library": "var_list.r",
     "varRefreshCmd": "cat(var_dic_list()) "
    }
   },
   "types_to_exclude": [
    "module",
    "function",
    "builtin_function_or_method",
    "instance",
    "_Feature"
   ],
   "window_display": false
  }
 },
 "nbformat": 4,
 "nbformat_minor": 2
}
