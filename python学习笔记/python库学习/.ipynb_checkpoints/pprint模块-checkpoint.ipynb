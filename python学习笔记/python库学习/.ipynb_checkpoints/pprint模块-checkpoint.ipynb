{
 "cells": [
  {
   "cell_type": "markdown",
   "metadata": {},
   "source": [
    "print(打印)，是所有程序员必备的技能，遇事不决打印一下，是DEBUG最简单且不依赖IDE的方式。自定义各种日志输出，也是项目成型后必备的功能。但是，为了优雅地打印格式，往往需要对各种对象进行特殊格式化，可遇到字典dict和大段字符串也不好处理.下面介绍的这个模块，便可以快速有效地解决**所有python对象的打印输出**，是所有！"
   ]
  },
  {
   "cell_type": "code",
   "execution_count": 1,
   "metadata": {
    "ExecuteTime": {
     "end_time": "2019-04-19T11:34:51.952738Z",
     "start_time": "2019-04-19T11:34:51.948749Z"
    }
   },
   "outputs": [],
   "source": [
    "game = {'players': [{'name': 'player_1', 'hp': 3}, {'name': 'player_2', 'hp': 5}]}\n",
    "stuff = [['spam', 'eggs', 'lumberjack', 'knights', 'ni'],'spam','eggs','lumberjack','knights','ni']"
   ]
  },
  {
   "cell_type": "markdown",
   "metadata": {},
   "source": [
    "# pprint模块"
   ]
  },
  {
   "cell_type": "markdown",
   "metadata": {},
   "source": [
    "这是python标准库模块，全称pretty printer，可以让各种数据结构更美观地输出。"
   ]
  },
  {
   "cell_type": "markdown",
   "metadata": {},
   "source": [
    "## pprint.pprint()"
   ]
  },
  {
   "cell_type": "markdown",
   "metadata": {},
   "source": [
    "pprint.pprint(object,stream=None,indent=1,width=80,depth=None,\\*,compact=False)\n",
    "\n",
    "1. stream：输出流，默认是sys.stdout，也就是屏幕输出\n",
    "2. indent：输出的每行缩进空格数\n",
    "3. width: 每行最大宽度，默认为80个字符，超过宽度会换行；但如果单个对象超过不会换行，比如一段长字符串\n",
    "4. depth：限制数据的层级，设置后可以限制过多的嵌套\n",
    "5. compact：若设为True，则输出会在接近width限制才进行换行"
   ]
  },
  {
   "cell_type": "code",
   "execution_count": 2,
   "metadata": {
    "ExecuteTime": {
     "end_time": "2019-04-19T11:34:52.063449Z",
     "start_time": "2019-04-19T11:34:52.057460Z"
    }
   },
   "outputs": [
    {
     "name": "stdout",
     "output_type": "stream",
     "text": [
      "{'players': [{'hp': 3, 'name': 'player_1'}, {'hp': 5, 'name': 'player_2'}]}\n",
      "\n",
      "[   ['spam', 'eggs', 'lumberjack', 'knights', 'ni'],\n",
      "    'spam',\n",
      "    'eggs',\n",
      "    'lumberjack',\n",
      "    'knights',\n",
      "    'ni']\n",
      "\n",
      "[['spam', 'eggs', 'lumberjack',\n",
      "  'knights', 'ni'],\n",
      " 'spam', 'eggs', 'lumberjack', 'knights',\n",
      " 'ni']\n"
     ]
    }
   ],
   "source": [
    "import pprint\n",
    "\n",
    "pprint.pprint(game,indent=4)\n",
    "print()\n",
    "pprint.pprint(stuff,indent=4)\n",
    "print()\n",
    "pprint.pprint(stuff,width=41,compact=True)"
   ]
  },
  {
   "cell_type": "markdown",
   "metadata": {},
   "source": [
    "## pprint.pformat()"
   ]
  },
  {
   "cell_type": "markdown",
   "metadata": {},
   "source": [
    "pprint.pformat(object,indent=1,width=80,depth=None,\\*,compact=False)\n",
    "\n",
    "参数和上面的类似，与pprint.pprint()的区别是，该函数**不会打印到输出流**，而是**返回一个格式化字符串**。"
   ]
  },
  {
   "cell_type": "code",
   "execution_count": 3,
   "metadata": {
    "ExecuteTime": {
     "end_time": "2019-04-19T11:34:52.126273Z",
     "start_time": "2019-04-19T11:34:52.115303Z"
    }
   },
   "outputs": [
    {
     "data": {
      "text/plain": [
       "\"{'players': [{'hp': 3, 'name': 'player_1'}, {'hp': 5, 'name': 'player_2'}]}\""
      ]
     },
     "execution_count": 3,
     "metadata": {},
     "output_type": "execute_result"
    }
   ],
   "source": [
    "t1 = pprint.pformat(game)\n",
    "t1"
   ]
  },
  {
   "cell_type": "code",
   "execution_count": 4,
   "metadata": {
    "ExecuteTime": {
     "end_time": "2019-04-19T11:34:52.134252Z",
     "start_time": "2019-04-19T11:34:52.128269Z"
    }
   },
   "outputs": [
    {
     "data": {
      "text/plain": [
       "\"[['spam', 'eggs', 'lumberjack', 'knights', 'ni'],\\n 'spam',\\n 'eggs',\\n 'lumberjack',\\n 'knights',\\n 'ni']\""
      ]
     },
     "execution_count": 4,
     "metadata": {},
     "output_type": "execute_result"
    }
   ],
   "source": [
    "t2 = pprint.pformat(stuff)\n",
    "t2"
   ]
  }
 ],
 "metadata": {
  "kernelspec": {
   "display_name": "Python 3",
   "language": "python",
   "name": "python3"
  },
  "language_info": {
   "codemirror_mode": {
    "name": "ipython",
    "version": 3
   },
   "file_extension": ".py",
   "mimetype": "text/x-python",
   "name": "python",
   "nbconvert_exporter": "python",
   "pygments_lexer": "ipython3",
   "version": "3.7.0"
  },
  "toc": {
   "base_numbering": 1,
   "nav_menu": {},
   "number_sections": true,
   "sideBar": true,
   "skip_h1_title": false,
   "title_cell": "Table of Contents",
   "title_sidebar": "Contents",
   "toc_cell": false,
   "toc_position": {},
   "toc_section_display": true,
   "toc_window_display": false
  },
  "varInspector": {
   "cols": {
    "lenName": 16,
    "lenType": 16,
    "lenVar": 40
   },
   "kernels_config": {
    "python": {
     "delete_cmd_postfix": "",
     "delete_cmd_prefix": "del ",
     "library": "var_list.py",
     "varRefreshCmd": "print(var_dic_list())"
    },
    "r": {
     "delete_cmd_postfix": ") ",
     "delete_cmd_prefix": "rm(",
     "library": "var_list.r",
     "varRefreshCmd": "cat(var_dic_list()) "
    }
   },
   "types_to_exclude": [
    "module",
    "function",
    "builtin_function_or_method",
    "instance",
    "_Feature"
   ],
   "window_display": false
  }
 },
 "nbformat": 4,
 "nbformat_minor": 2
}
