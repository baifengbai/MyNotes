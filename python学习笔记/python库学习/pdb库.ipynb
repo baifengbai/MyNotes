{
 "cells": [
  {
   "cell_type": "markdown",
   "metadata": {},
   "source": [
    "用Pdb调试Python程序有三种方式"
   ]
  },
  {
   "cell_type": "markdown",
   "metadata": {},
   "source": [
    "# 命令行加m参数"
   ]
  },
  {
   "cell_type": "markdown",
   "metadata": {},
   "source": [
    "命令行启动目标程序，加上`-m`参数，即：`python -m pdb testPdb.py`\n",
    "\n",
    "这样调用目标函数的话，断点就是程序执行的前一行"
   ]
  },
  {
   "cell_type": "markdown",
   "metadata": {},
   "source": [
    "## 构建测试函数"
   ]
  },
  {
   "cell_type": "code",
   "execution_count": 1,
   "metadata": {
    "ExecuteTime": {
     "end_time": "2019-04-19T14:33:54.249567Z",
     "start_time": "2019-04-19T14:33:54.241589Z"
    }
   },
   "outputs": [
    {
     "name": "stdout",
     "output_type": "stream",
     "text": [
      "Overwriting testPdb1.py\n"
     ]
    }
   ],
   "source": [
    "%%writefile testPdb1.py\n",
    "\n",
    "# _*_coding:utf-8 _*_\n",
    "def add(a,b):\n",
    "    return a + b\n",
    "\n",
    "if __name__ == '__main__':\n",
    "    print('- - - - - - - - - ')\n",
    "    i = 0\n",
    "    a = 1\n",
    "    while(i < 100):\n",
    "        a = add(a,1)\n",
    "        i = i + 1\n",
    "    print('累加结果： ',a)\n",
    "    \n",
    "    print('= = = = = = = = = = ')\n",
    "    for letter in 'Pdb':\n",
    "        print('当前字母是： ',letter)\n",
    "    \n",
    "    print('* * * * * * * * * * ')\n",
    "    fruits = ['banana','apple','mango']\n",
    "    for fruit in fruits:\n",
    "        print('当前水果是： ',fruit)"
   ]
  },
  {
   "cell_type": "markdown",
   "metadata": {},
   "source": [
    "## pdb命令"
   ]
  },
  {
   "cell_type": "markdown",
   "metadata": {},
   "source": [
    "|命令|用途|示例|解释|\n",
    "|:--:|:--:|:--:|:--:|\n",
    "|break 或 b|设置断点|b 　　函数名或行号|在第2行设置断点；如果当前代码中有add()函数,则`b add`便是在add处加断点|\n",
    "|cl|清除断点|cl |cl 清除所有断点；cl bpnumber1 bpnumber2 ...,清除断点号为bpnumber1,bpnumber2..的断点|\n",
    "|continue 或 c|继续执行程序，或跳到下个断点| c　　||\n",
    "|list 或 l|列出源码| l 　　|列出当前执行语句周围11条代码；**l first**,列出first行周围11条代码|\n",
    "|step 或 s|进入函数| s add| 进入add函数|假如当前有一个函数被调用，s 会进入被调用的函数体内|\n",
    "|return 或 r|执行代码直到从当前函数返回||\n",
    "|exit 或 q |终止调试并退出|\n",
    "|next 或 n |执行下一行|\n",
    "|p 或 ! |打印变量的值| p a| 打印变量a的值|\n",
    "|a|打印当前函数的参数|\n",
    "|condition|给断点设置条件|condition bpnumber condition_1|当参数condition_1返回True时，bpnumber断点才有效|\n",
    "|j|让程序调到指定的行数|j 20|假设当前程序执行到了第10行，j 20 会让程序直接调到第20行，而11-19行之间的代码并没有执行，如果这段代码中有变量声明，则有可能导致报错！|\n",
    "|run|重新启动debug，相当于restart|\n",
    "|help 或 h|帮助|"
   ]
  },
  {
   "cell_type": "code",
   "execution_count": 2,
   "metadata": {
    "ExecuteTime": {
     "end_time": "2019-04-19T14:34:47.952418Z",
     "start_time": "2019-04-19T14:33:54.251563Z"
    }
   },
   "outputs": [
    {
     "name": "stdout",
     "output_type": "stream",
     "text": [
      "> h:\\mynotes\\python学习\\python库学习\\testpdb1.py(3)<module>()\n",
      "-> def add(a,b):\n",
      "(Pdb) b 12\n",
      "Breakpoint 1 at h:\\mynotes\\python学习\\python库学习\\testpdb1.py:12\n",
      "(Pdb) b 22\n",
      "Breakpoint 2 at h:\\mynotes\\python学习\\python库学习\\testpdb1.py:22\n",
      "(Pdb) b 25\n",
      "End of file\n",
      "(Pdb) l\n",
      "  1  \t\n",
      "  2  \t# _*_coding:utf-8 _*_\n",
      "  3  ->\tdef add(a,b):\n",
      "  4  \t    return a + b\n",
      "  5  \t\n",
      "  6  \tif __name__ == '__main__':\n",
      "  7  \t    print('- - - - - - - - - ')\n",
      "  8  \t    i = 0\n",
      "  9  \t    a = 1\n",
      " 10  \t    while(i < 100):\n",
      " 11  \t        a = add(a,1)\n",
      "(Pdb) n\n",
      "> h:\\mynotes\\python学习\\python库学习\\testpdb1.py(6)<module>()\n",
      "-> if __name__ == '__main__':\n",
      "(Pdb) n\n",
      "> h:\\mynotes\\python学习\\python库学习\\testpdb1.py(7)<module>()\n",
      "-> print('- - - - - - - - - ')\n",
      "(Pdb) n\n",
      "- - - - - - - - - \n",
      "> h:\\mynotes\\python学习\\python库学习\\testpdb1.py(8)<module>()\n",
      "-> i = 0\n",
      "(Pdb) p i\n",
      "*** NameError: name 'i' is not defined\n",
      "(Pdb) n\n",
      "> h:\\mynotes\\python学习\\python库学习\\testpdb1.py(9)<module>()\n",
      "-> a = 1\n",
      "(Pdb) p i\n",
      "0\n",
      "(Pdb) n\n",
      "> h:\\mynotes\\python学习\\python库学习\\testpdb1.py(10)<module>()\n",
      "-> while(i < 100):\n",
      "(Pdb) p a\n",
      "1\n",
      "(Pdb) j 15\n",
      "> h:\\mynotes\\python学习\\python库学习\\testpdb1.py(15)<module>()\n",
      "-> print('= = = = = = = = = = ')\n",
      "(Pdb) q\n"
     ]
    }
   ],
   "source": [
    "%run -m pdb testPdb1.py"
   ]
  },
  {
   "cell_type": "markdown",
   "metadata": {},
   "source": [
    "# 在代码中设置断点"
   ]
  },
  {
   "cell_type": "markdown",
   "metadata": {},
   "source": [
    "在源代码中导入pdb模块，并在代码中需要调试的地方放置一个`pdb.set_trace()`,程序就会在`pdb.set_trace()`处暂停，并进入`pdb`调试环境，之后便可使用`pdb`命令进行调试。"
   ]
  },
  {
   "cell_type": "markdown",
   "metadata": {},
   "source": [
    "## 构建测试函数"
   ]
  },
  {
   "cell_type": "code",
   "execution_count": 3,
   "metadata": {
    "ExecuteTime": {
     "end_time": "2019-04-19T14:34:47.961353Z",
     "start_time": "2019-04-19T14:34:47.954371Z"
    }
   },
   "outputs": [
    {
     "name": "stdout",
     "output_type": "stream",
     "text": [
      "Overwriting testPdb2.py\n"
     ]
    }
   ],
   "source": [
    "%%writefile testPdb2.py\n",
    "\n",
    "# _*_coding:utf-8 _*_\n",
    "import pdb\n",
    "\n",
    "__DEBUG__ = True # 设置是否进行调试\n",
    "\n",
    "def add(a,b):\n",
    "    return a + b\n",
    "\n",
    "if __name__ == '__main__':\n",
    "    print('- - - - - - - - - ')\n",
    "    i = 0\n",
    "    a = 1\n",
    "    if __DEBUG__ == True:\n",
    "        pdb.set_trace()\n",
    "    while(i < 100):\n",
    "        a = add(a,1)\n",
    "        i = i + 1\n",
    "    print('累加结果： ',a)\n",
    "    \n",
    "    print('= = = = = = = = = = ')\n",
    "    for letter in 'Pdb':\n",
    "        if __DEBUG__ == True:\n",
    "            pdb.set_trace()\n",
    "        print('当前字母是： ',letter)\n",
    "    \n",
    "    print('* * * * * * * * * * ')\n",
    "    fruits = ['banana','apple','mango']\n",
    "    for fruit in fruits:\n",
    "        if __DEBUG__ == True:\n",
    "            pdb.set_trace()\n",
    "        print('当前水果是： ',fruit)"
   ]
  },
  {
   "cell_type": "markdown",
   "metadata": {},
   "source": [
    "## 调试"
   ]
  },
  {
   "cell_type": "code",
   "execution_count": 4,
   "metadata": {
    "ExecuteTime": {
     "end_time": "2019-04-19T14:35:21.235534Z",
     "start_time": "2019-04-19T14:34:47.964345Z"
    }
   },
   "outputs": [
    {
     "name": "stdout",
     "output_type": "stream",
     "text": [
      "- - - - - - - - - \n",
      "> h:\\mynotes\\python学习\\python库学习\\testpdb2.py(16)<module>()\n",
      "-> while(i < 100):\n",
      "(Pdb) l\n",
      " 11  \t    print('- - - - - - - - - ')\n",
      " 12  \t    i = 0\n",
      " 13  \t    a = 1\n",
      " 14  \t    if __DEBUG__ == True:\n",
      " 15  \t        pdb.set_trace()\n",
      " 16  ->\t    while(i < 100):\n",
      " 17  \t        a = add(a,1)\n",
      " 18  \t        i = i + 1\n",
      " 19  \t    print('累加结果： ',a)\n",
      " 20  \t\n",
      " 21  \t    print('= = = = = = = = = = ')\n",
      "(Pdb) n\n",
      "> h:\\mynotes\\python学习\\python库学习\\testpdb2.py(17)<module>()\n",
      "-> a = add(a,1)\n",
      "(Pdb) n\n",
      "> h:\\mynotes\\python学习\\python库学习\\testpdb2.py(18)<module>()\n",
      "-> i = i + 1\n",
      "(Pdb) c\n",
      "累加结果：  101\n",
      "= = = = = = = = = = \n",
      "> h:\\mynotes\\python学习\\python库学习\\testpdb2.py(25)<module>()\n",
      "-> print('当前字母是： ',letter)\n",
      "(Pdb) q\n"
     ]
    },
    {
     "ename": "BdbQuit",
     "evalue": "",
     "output_type": "error",
     "traceback": [
      "\u001b[1;31m---------------------------------------------------------------------------\u001b[0m",
      "\u001b[1;31mBdbQuit\u001b[0m                                   Traceback (most recent call last)",
      "\u001b[1;32mH:\\MyNotes\\python学习\\python库学习\\testPdb2.py\u001b[0m in \u001b[0;36m<module>\u001b[1;34m()\u001b[0m\n\u001b[0;32m     23\u001b[0m         \u001b[1;32mif\u001b[0m \u001b[0m__DEBUG__\u001b[0m \u001b[1;33m==\u001b[0m \u001b[1;32mTrue\u001b[0m\u001b[1;33m:\u001b[0m\u001b[1;33m\u001b[0m\u001b[0m\n\u001b[0;32m     24\u001b[0m             \u001b[0mpdb\u001b[0m\u001b[1;33m.\u001b[0m\u001b[0mset_trace\u001b[0m\u001b[1;33m(\u001b[0m\u001b[1;33m)\u001b[0m\u001b[1;33m\u001b[0m\u001b[0m\n\u001b[1;32m---> 25\u001b[1;33m         \u001b[0mprint\u001b[0m\u001b[1;33m(\u001b[0m\u001b[1;34m'当前字母是： '\u001b[0m\u001b[1;33m,\u001b[0m\u001b[0mletter\u001b[0m\u001b[1;33m)\u001b[0m\u001b[1;33m\u001b[0m\u001b[0m\n\u001b[0m\u001b[0;32m     26\u001b[0m \u001b[1;33m\u001b[0m\u001b[0m\n\u001b[0;32m     27\u001b[0m     \u001b[0mprint\u001b[0m\u001b[1;33m(\u001b[0m\u001b[1;34m'* * * * * * * * * * '\u001b[0m\u001b[1;33m)\u001b[0m\u001b[1;33m\u001b[0m\u001b[0m\n",
      "\u001b[1;32mH:\\MyNotes\\python学习\\python库学习\\testPdb2.py\u001b[0m in \u001b[0;36m<module>\u001b[1;34m()\u001b[0m\n\u001b[0;32m     23\u001b[0m         \u001b[1;32mif\u001b[0m \u001b[0m__DEBUG__\u001b[0m \u001b[1;33m==\u001b[0m \u001b[1;32mTrue\u001b[0m\u001b[1;33m:\u001b[0m\u001b[1;33m\u001b[0m\u001b[0m\n\u001b[0;32m     24\u001b[0m             \u001b[0mpdb\u001b[0m\u001b[1;33m.\u001b[0m\u001b[0mset_trace\u001b[0m\u001b[1;33m(\u001b[0m\u001b[1;33m)\u001b[0m\u001b[1;33m\u001b[0m\u001b[0m\n\u001b[1;32m---> 25\u001b[1;33m         \u001b[0mprint\u001b[0m\u001b[1;33m(\u001b[0m\u001b[1;34m'当前字母是： '\u001b[0m\u001b[1;33m,\u001b[0m\u001b[0mletter\u001b[0m\u001b[1;33m)\u001b[0m\u001b[1;33m\u001b[0m\u001b[0m\n\u001b[0m\u001b[0;32m     26\u001b[0m \u001b[1;33m\u001b[0m\u001b[0m\n\u001b[0;32m     27\u001b[0m     \u001b[0mprint\u001b[0m\u001b[1;33m(\u001b[0m\u001b[1;34m'* * * * * * * * * * '\u001b[0m\u001b[1;33m)\u001b[0m\u001b[1;33m\u001b[0m\u001b[0m\n",
      "\u001b[1;32mC:\\Anaconda3\\lib\\bdb.py\u001b[0m in \u001b[0;36mtrace_dispatch\u001b[1;34m(self, frame, event, arg)\u001b[0m\n\u001b[0;32m     86\u001b[0m             \u001b[1;32mreturn\u001b[0m \u001b[1;31m# None\u001b[0m\u001b[1;33m\u001b[0m\u001b[0m\n\u001b[0;32m     87\u001b[0m         \u001b[1;32mif\u001b[0m \u001b[0mevent\u001b[0m \u001b[1;33m==\u001b[0m \u001b[1;34m'line'\u001b[0m\u001b[1;33m:\u001b[0m\u001b[1;33m\u001b[0m\u001b[0m\n\u001b[1;32m---> 88\u001b[1;33m             \u001b[1;32mreturn\u001b[0m \u001b[0mself\u001b[0m\u001b[1;33m.\u001b[0m\u001b[0mdispatch_line\u001b[0m\u001b[1;33m(\u001b[0m\u001b[0mframe\u001b[0m\u001b[1;33m)\u001b[0m\u001b[1;33m\u001b[0m\u001b[0m\n\u001b[0m\u001b[0;32m     89\u001b[0m         \u001b[1;32mif\u001b[0m \u001b[0mevent\u001b[0m \u001b[1;33m==\u001b[0m \u001b[1;34m'call'\u001b[0m\u001b[1;33m:\u001b[0m\u001b[1;33m\u001b[0m\u001b[0m\n\u001b[0;32m     90\u001b[0m             \u001b[1;32mreturn\u001b[0m \u001b[0mself\u001b[0m\u001b[1;33m.\u001b[0m\u001b[0mdispatch_call\u001b[0m\u001b[1;33m(\u001b[0m\u001b[0mframe\u001b[0m\u001b[1;33m,\u001b[0m \u001b[0marg\u001b[0m\u001b[1;33m)\u001b[0m\u001b[1;33m\u001b[0m\u001b[0m\n",
      "\u001b[1;32mC:\\Anaconda3\\lib\\bdb.py\u001b[0m in \u001b[0;36mdispatch_line\u001b[1;34m(self, frame)\u001b[0m\n\u001b[0;32m    111\u001b[0m         \u001b[1;32mif\u001b[0m \u001b[0mself\u001b[0m\u001b[1;33m.\u001b[0m\u001b[0mstop_here\u001b[0m\u001b[1;33m(\u001b[0m\u001b[0mframe\u001b[0m\u001b[1;33m)\u001b[0m \u001b[1;32mor\u001b[0m \u001b[0mself\u001b[0m\u001b[1;33m.\u001b[0m\u001b[0mbreak_here\u001b[0m\u001b[1;33m(\u001b[0m\u001b[0mframe\u001b[0m\u001b[1;33m)\u001b[0m\u001b[1;33m:\u001b[0m\u001b[1;33m\u001b[0m\u001b[0m\n\u001b[0;32m    112\u001b[0m             \u001b[0mself\u001b[0m\u001b[1;33m.\u001b[0m\u001b[0muser_line\u001b[0m\u001b[1;33m(\u001b[0m\u001b[0mframe\u001b[0m\u001b[1;33m)\u001b[0m\u001b[1;33m\u001b[0m\u001b[0m\n\u001b[1;32m--> 113\u001b[1;33m             \u001b[1;32mif\u001b[0m \u001b[0mself\u001b[0m\u001b[1;33m.\u001b[0m\u001b[0mquitting\u001b[0m\u001b[1;33m:\u001b[0m \u001b[1;32mraise\u001b[0m \u001b[0mBdbQuit\u001b[0m\u001b[1;33m\u001b[0m\u001b[0m\n\u001b[0m\u001b[0;32m    114\u001b[0m         \u001b[1;32mreturn\u001b[0m \u001b[0mself\u001b[0m\u001b[1;33m.\u001b[0m\u001b[0mtrace_dispatch\u001b[0m\u001b[1;33m\u001b[0m\u001b[0m\n\u001b[0;32m    115\u001b[0m \u001b[1;33m\u001b[0m\u001b[0m\n",
      "\u001b[1;31mBdbQuit\u001b[0m: "
     ]
    }
   ],
   "source": [
    "%run testPdb2.py"
   ]
  }
 ],
 "metadata": {
  "kernelspec": {
   "display_name": "Python 3",
   "language": "python",
   "name": "python3"
  },
  "language_info": {
   "codemirror_mode": {
    "name": "ipython",
    "version": 3
   },
   "file_extension": ".py",
   "mimetype": "text/x-python",
   "name": "python",
   "nbconvert_exporter": "python",
   "pygments_lexer": "ipython3",
   "version": "3.7.0"
  },
  "toc": {
   "base_numbering": 1,
   "nav_menu": {},
   "number_sections": true,
   "sideBar": true,
   "skip_h1_title": false,
   "title_cell": "Table of Contents",
   "title_sidebar": "Contents",
   "toc_cell": false,
   "toc_position": {},
   "toc_section_display": true,
   "toc_window_display": false
  },
  "varInspector": {
   "cols": {
    "lenName": 16,
    "lenType": 16,
    "lenVar": 40
   },
   "kernels_config": {
    "python": {
     "delete_cmd_postfix": "",
     "delete_cmd_prefix": "del ",
     "library": "var_list.py",
     "varRefreshCmd": "print(var_dic_list())"
    },
    "r": {
     "delete_cmd_postfix": ") ",
     "delete_cmd_prefix": "rm(",
     "library": "var_list.r",
     "varRefreshCmd": "cat(var_dic_list()) "
    }
   },
   "types_to_exclude": [
    "module",
    "function",
    "builtin_function_or_method",
    "instance",
    "_Feature"
   ],
   "window_display": false
  }
 },
 "nbformat": 4,
 "nbformat_minor": 2
}
