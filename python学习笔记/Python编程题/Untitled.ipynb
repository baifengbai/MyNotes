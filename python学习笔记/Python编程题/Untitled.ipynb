{
 "cells": [
  {
   "cell_type": "markdown",
   "metadata": {},
   "source": [
    "# 斐波那契数列"
   ]
  },
  {
   "cell_type": "markdown",
   "metadata": {},
   "source": [
    "大家都知道斐波那契数列，现在要求输入一个整数n，请你输出斐波那契数列的第n项(从0开始，第0项为0),n<=39"
   ]
  },
  {
   "cell_type": "markdown",
   "metadata": {},
   "source": [
    "## 循环方法"
   ]
  },
  {
   "cell_type": "code",
   "execution_count": 13,
   "metadata": {},
   "outputs": [
    {
     "name": "stdout",
     "output_type": "stream",
     "text": [
      "0,1,1,2,3,5,8,13,"
     ]
    },
    {
     "data": {
      "text/plain": [
       "13"
      ]
     },
     "execution_count": 13,
     "metadata": {},
     "output_type": "execute_result"
    }
   ],
   "source": [
    "def Fibonacci(n):\n",
    "    first = 0 # 相邻两项的第一项\n",
    "    second = 1 # 相邻两项的第二项\n",
    "    print(first,end=',')\n",
    "    for i in range(n):\n",
    "        temp = second # 保存下一个第一项\n",
    "        second += first # 下一个第二项\n",
    "        first = temp\n",
    "        print(first,end=',')\n",
    "    return first\n",
    "\n",
    "Fibonacci(7)"
   ]
  },
  {
   "cell_type": "markdown",
   "metadata": {},
   "source": [
    "## 动态规划+递归"
   ]
  },
  {
   "cell_type": "markdown",
   "metadata": {},
   "source": [
    "由于F(n) = F(n-1)+F(n-2) = F(n-2)+F(n-3) + F(n-2) = ...  存在很多重复子问题，因此单纯用递归，会造成栈溢出(递归本质上一个栈)。故考虑动态规划：递归时需要存储子问题，并且进入子递归前要判断子问题的解是否已知。"
   ]
  },
  {
   "cell_type": "code",
   "execution_count": 14,
   "metadata": {},
   "outputs": [
    {
     "data": {
      "text/plain": [
       "13"
      ]
     },
     "execution_count": 14,
     "metadata": {},
     "output_type": "execute_result"
    }
   ],
   "source": [
    "class Solution:\n",
    "    def __init__(self):\n",
    "        # 存储子问题\n",
    "        self.result = [0,1] + [0]*38\n",
    "    def Fibonacci(self,n):\n",
    "        if n<= 1:\n",
    "            return n\n",
    "        # 判断子问题的解是否存在\n",
    "        if self.result[n-1] != 0 and self.result[n-2] != 0:\n",
    "            self.result[n] = self.result[n-1] + self.result[n-2]\n",
    "            return self.result[n]\n",
    "        else:\n",
    "            return self.Fibonacci(n-1) + self.Fibonacci(n-2)\n",
    "s = Solution()\n",
    "s.Fibonacci(7)"
   ]
  },
  {
   "cell_type": "markdown",
   "metadata": {},
   "source": [
    "# 找出字符串中对称的子字符串的最大长度(最长回文)"
   ]
  },
  {
   "cell_type": "markdown",
   "metadata": {},
   "source": [
    "## 背景"
   ]
  },
  {
   "cell_type": "markdown",
   "metadata": {},
   "source": [
    "所谓对称子字符串，就是这个子字符串要么是以其中一个词对称：比如 “aba”， “abcba”；要么就完全对称：比如\"abba\", \"abccba\"。"
   ]
  },
  {
   "cell_type": "markdown",
   "metadata": {},
   "source": [
    "## 问题"
   ]
  },
  {
   "cell_type": "markdown",
   "metadata": {},
   "source": [
    "给你一个字符串，找出该字符串中对称的子字符串的最大长度。"
   ]
  },
  {
   "cell_type": "markdown",
   "metadata": {},
   "source": [
    "## 思路"
   ]
  },
  {
   "cell_type": "markdown",
   "metadata": {},
   "source": [
    "首先，我们用字符数组 char[] array 来保持这个字符串，假设现在已经遍历到第 i 个字符，要找出以该字符为“中心”的最长对称字符串，我们需要用另两个指针分别向前和向后移动，直到指针到达字符串两端或者两个指针所指的字符不相等。因为对称子字符串有两种情况，所以需要写出两种情况下的代码：\n",
    "\n",
    "1. 第 i 个字符是该对称字符串的真正的中心，也就是说该对称字符串以第 i 个字符对称， 比如： “aba”，代码里用 index 来代表 i ，对称子串长度为奇数；\n",
    "2. 第 i 个字符串是对称字符串的其中一个中心，比如“abba”，对称子串长度为偶数；"
   ]
  },
  {
   "cell_type": "markdown",
   "metadata": {},
   "source": [
    "## 代码"
   ]
  },
  {
   "cell_type": "code",
   "execution_count": 30,
   "metadata": {},
   "outputs": [
    {
     "name": "stdout",
     "output_type": "stream",
     "text": [
      "{'cc': 2, 'bccb': 4, 'abccba': 6}\n"
     ]
    },
    {
     "data": {
      "text/plain": [
       "('abccba', 6)"
      ]
     },
     "execution_count": 30,
     "metadata": {},
     "output_type": "execute_result"
    }
   ],
   "source": [
    "def GetTheLongestSymmetrySubString(s):\n",
    "    charlst = list(s) # 字符列表\n",
    "    SymmetrySubString = dict() # 存储对称子串和其长度\n",
    "    for i in range(len(charlst)): # 遍历字符列表\n",
    "        if i == 0 or i == len(charlst)-1:\n",
    "            continue\n",
    "        # 对称子串长度为奇数\n",
    "        for j in range(1,i+1):\n",
    "            # 判断左右两侧对应的字符是否相同\n",
    "            if charlst[i-j] == charlst[i+j]:\n",
    "                subString = ''.join(charlst[i-j:i+j+1])\n",
    "                SymmetrySubString[subString] = 2*j+1\n",
    "            else:\n",
    "                break\n",
    "        # 对称子串长度为偶数\n",
    "        # 先判断下一个字符与当前字符是否相同\n",
    "        if charlst[i+1] != charlst[i]:\n",
    "            continue\n",
    "        SymmetrySubString[''.join(charlst[i:i+2])] = 2\n",
    "        for j in range(1,i+1):\n",
    "            # 判断左右两侧对应的字符是否相同\n",
    "            if charlst[i-j] == charlst[i+1+j]:\n",
    "                subString = ''.join(charlst[i-j:i+1+j+1])\n",
    "                SymmetrySubString[subString] = 2 + 2*j\n",
    "            else:\n",
    "                break\n",
    "    print(SymmetrySubString)\n",
    "    return sorted(SymmetrySubString.items(),key=lambda x:x[1],reverse=True)[0]\n",
    "\n",
    "GetTheLongestSymmetrySubString('abccba')"
   ]
  },
  {
   "cell_type": "markdown",
   "metadata": {},
   "source": [
    "# 连续子数组的最大和"
   ]
  },
  {
   "cell_type": "markdown",
   "metadata": {},
   "source": [
    "在古老的一维模式识别中,常常需要计算连续子向量的最大和,当向量全为正数的时候,问题很好解决。但是,如果向量中包含负数,是否应该包含某个负数,并期望旁边的正数会弥补它呢？例如:{6,-3,-2,7,-15,1,2,2},连续子向量的最大和为8(从第0个开始,到第3个为止)。给一个数组，返回它的最大连续子序列的和，你会不会被他忽悠住？(子向量的长度至少是1)"
   ]
  },
  {
   "cell_type": "markdown",
   "metadata": {},
   "source": [
    "## 动态规划"
   ]
  },
  {
   "cell_type": "markdown",
   "metadata": {},
   "source": [
    "最大和连续子数组一定有如下几个特点：\n",
    "1. 第一个不为负数\n",
    "2. 如果前面数的累加值加上当前数后的值会比当前数小，说明累计值对整体和是有害的；如果前面数的累加值加上当前数后的值比当前数大或者等于，则说明累计值对整体和是有益的。\n",
    "\n",
    "步骤：\n",
    "1. 定义两个变量，一个用来存储之前的累加值，一个用来存储当前的最大和。遍历数组中的每个元素，假设遍历到第i个数时：\n",
    " 1. 如果前面的累加值为负数或者等于0，那对累加值清0重新累加，把当前的第i个数的值赋给累加值\n",
    " 2. 如果前面的累加值为正数，那么继续累加，即之前的累加值加上当前第i个数的值作为新的累加值  \n",
    "2. 判断累加值是否大于最大值：如果大于最大值，则最大和更新；否则，继续保留之前的最大和"
   ]
  },
  {
   "cell_type": "markdown",
   "metadata": {},
   "source": [
    "需要求出$max[f(i)]$,其中 $0 \\leq i < n$,我们可用如下递归公式求 $f(i)$:\n",
    "\n",
    "$$f(i) = \\left\\{\\begin{matrix}\n",
    "pData[i] & i=0或者f(i-1) \\leq 0\\\\\n",
    "f(i-1)+pData[i] & i \\neq 0并且f(i-1)>0 \\\\\n",
    "\\end{matrix}\\right.$$\n",
    "\n",
    "注，$pData[i]$ 是数组中第 $i$ 个值"
   ]
  },
  {
   "cell_type": "markdown",
   "metadata": {},
   "source": [
    "## 代码"
   ]
  },
  {
   "cell_type": "code",
   "execution_count": null,
   "metadata": {},
   "outputs": [],
   "source": []
  }
 ],
 "metadata": {
  "kernelspec": {
   "display_name": "Python 3",
   "language": "python",
   "name": "python3"
  },
  "language_info": {
   "codemirror_mode": {
    "name": "ipython",
    "version": 3
   },
   "file_extension": ".py",
   "mimetype": "text/x-python",
   "name": "python",
   "nbconvert_exporter": "python",
   "pygments_lexer": "ipython3",
   "version": "3.7.0"
  },
  "toc": {
   "base_numbering": 1,
   "nav_menu": {},
   "number_sections": true,
   "sideBar": true,
   "skip_h1_title": false,
   "title_cell": "Table of Contents",
   "title_sidebar": "Contents",
   "toc_cell": false,
   "toc_position": {},
   "toc_section_display": true,
   "toc_window_display": false
  },
  "varInspector": {
   "cols": {
    "lenName": 16,
    "lenType": 16,
    "lenVar": 40
   },
   "kernels_config": {
    "python": {
     "delete_cmd_postfix": "",
     "delete_cmd_prefix": "del ",
     "library": "var_list.py",
     "varRefreshCmd": "print(var_dic_list())"
    },
    "r": {
     "delete_cmd_postfix": ") ",
     "delete_cmd_prefix": "rm(",
     "library": "var_list.r",
     "varRefreshCmd": "cat(var_dic_list()) "
    }
   },
   "types_to_exclude": [
    "module",
    "function",
    "builtin_function_or_method",
    "instance",
    "_Feature"
   ],
   "window_display": false
  }
 },
 "nbformat": 4,
 "nbformat_minor": 2
}
