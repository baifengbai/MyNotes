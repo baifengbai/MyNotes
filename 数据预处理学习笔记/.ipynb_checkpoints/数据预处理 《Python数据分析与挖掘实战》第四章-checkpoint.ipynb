{
 "cells": [
  {
   "cell_type": "markdown",
   "metadata": {},
   "source": [
    "本文学习于《Python数据分析与挖掘实战》第四章，作者:张良均； 编辑:Weiyang,Time:2019.01.31"
   ]
  },
  {
   "cell_type": "markdown",
   "metadata": {},
   "source": [
    "数据预处理一方面是要提高数据的质量，另一方面是要让数据更好地适应特定的挖掘技术和工具。在数据挖掘过程中，数据预处理工作量占到了整个过程的60%。\n",
    "\n",
    "数据预处理过程主要包括以下过程:\n",
    "1. 数据清洗\n",
    "2. 数据集成\n",
    "3. 数据变换\n",
    "4. 数据规约"
   ]
  },
  {
   "cell_type": "markdown",
   "metadata": {},
   "source": [
    "# 数据清洗"
   ]
  },
  {
   "cell_type": "markdown",
   "metadata": {},
   "source": [
    "数据清洗主要是删除原始数据集中的无关数据、重复数据，平滑噪声数据，筛选掉与挖掘主题无关的数据，处理缺失值和异常值等。"
   ]
  },
  {
   "cell_type": "markdown",
   "metadata": {},
   "source": [
    "## 缺失值处理"
   ]
  },
  {
   "cell_type": "markdown",
   "metadata": {},
   "source": [
    "处理缺失值的方法可分为三类:\n",
    "1. 删除记录\n",
    "2. 数据插补\n",
    "3. 不处理"
   ]
  },
  {
   "cell_type": "markdown",
   "metadata": {},
   "source": [
    "<center>常见的插补方法</center>\n",
    "\n",
    "|插补方法|方法描述|\n",
    "|:-----:|:-----:|\n",
    "|均值/中位数/众数插补|根据属性值的类型，用该属性取值的平均数/中位数/众数进行插补|\n",
    "|使用固定值|将缺失值的属性值用一个常量替换|\n",
    "|最近邻插补|在记录中找到与缺失样本最接近的样本的该属性值插补|\n",
    "|回归方法|对带有缺失值的变量，根据已有数据和与其有关的其他变量(因变量)的数据建立拟合模型来预测缺失的属性值|\n",
    "|插值法|插值法是利用已知点建立合适的插值函数$f(x)$，未知值由对应点$x_{i}$求出的函数值$f(x_{i})$近似代替|"
   ]
  },
  {
   "cell_type": "markdown",
   "metadata": {},
   "source": [
    "如果通过简单的删除小部分记录达到既定的目标，那么删除含有缺失值的记录的方法是最有效的。然而，这种方法是以减少历史数据来换取数据的完备，会造成资源的大量浪费，将丢弃大量隐藏在这些记录中的信息。尤其在数据集本来就包含很少记录的情况下，删除少量记录可能会严重影响到分析结果的客观性和正确性。一些模型可以将缺失值视作一种特殊的取值，允许直接在含有缺失值的数据上进行建模。"
   ]
  },
  {
   "cell_type": "markdown",
   "metadata": {},
   "source": [
    "下面重点介绍**拉格朗日插值法**和**牛顿插值法**。其他的差值方法还有 Hermite插值，分段插值，样条插值法等。"
   ]
  },
  {
   "cell_type": "markdown",
   "metadata": {},
   "source": [
    "### 拉格朗日插值法"
   ]
  },
  {
   "cell_type": "markdown",
   "metadata": {},
   "source": [
    "### 牛顿插值法"
   ]
  },
  {
   "cell_type": "markdown",
   "metadata": {},
   "source": [
    "## 异常值处理"
   ]
  },
  {
   "cell_type": "markdown",
   "metadata": {},
   "source": [
    "在数据预处理中，异常值是否剔除，需视情况而定，因为有些异常值可能蕴含着有用的信息。"
   ]
  },
  {
   "cell_type": "markdown",
   "metadata": {},
   "source": [
    "<center>异常值处理常用方法</center>\n",
    "\n",
    "|异常值处理方法|方法描述|\n",
    "|:----------:|:-----:|\n",
    "|删除含有异常值的记录|直接将含有异常值的记录删除|\n",
    "|视为缺失值|将异常值视为缺失值，利用缺失值处理的方法进行处理|\n",
    "|平均值修正|可用前后两个观测值的平均值修正该异常值|\n",
    "|不处理|直接在具有异常值的数据集上进行挖掘建模|"
   ]
  },
  {
   "cell_type": "markdown",
   "metadata": {},
   "source": [
    "将含有异常值的记录直接删除的方法简单易行，但缺点也很明显，在观测值很少的情况下，这种删除会造成样本量不足，可能会改变变量的原有分布，从而造成分析结果的不准确。\n",
    "\n",
    "视为缺失值处理的好处是可以利用现有变量的信息，对异常值(缺失值)进行填补。\n",
    "\n",
    "在很多情况下，要先分析异常值出现的可能原因，再判断异常值是否应该舍弃。"
   ]
  },
  {
   "cell_type": "markdown",
   "metadata": {},
   "source": [
    "# 数据集成"
   ]
  },
  {
   "cell_type": "markdown",
   "metadata": {},
   "source": [
    "数据挖掘需要的数据往往分布在不同的数据源中，数据集成就是将多个数据源合并存放在一个一致的数据存储中的过程。\n",
    "\n",
    "在数据集成时，来自多个数据源的现实世界实体的表达形式是不一样的，有可能不匹配，要考虑**实体识别**和**属性冗余**问题，从而将源数据在最低层上加以转换、提炼和集成。"
   ]
  },
  {
   "cell_type": "markdown",
   "metadata": {},
   "source": [
    "## 实体识别"
   ]
  },
  {
   "cell_type": "markdown",
   "metadata": {},
   "source": [
    "实体识别是指从不同数据源识别出现实世界的同一实体，它的任务是同一不同源数据的矛盾之处:\n",
    "1. 同名异义\n",
    "2. 异名同义\n",
    "3. 单位不统一"
   ]
  },
  {
   "cell_type": "markdown",
   "metadata": {},
   "source": [
    "## 冗余属性识别"
   ]
  },
  {
   "cell_type": "markdown",
   "metadata": {},
   "source": [
    "数据集成往往导致数据冗余:\n",
    "1. 同一属性多次出现\n",
    "2. 同一属性命名不一致导致重复\n",
    "\n",
    "有些冗余属性可以用相关分析检测。给定两个数值型的属性A和B，根据其属性值，用相关系数度量一个属性在多大程度上蕴含另一个属性。"
   ]
  }
 ],
 "metadata": {
  "kernelspec": {
   "display_name": "Python 3",
   "language": "python",
   "name": "python3"
  },
  "language_info": {
   "codemirror_mode": {
    "name": "ipython",
    "version": 3
   },
   "file_extension": ".py",
   "mimetype": "text/x-python",
   "name": "python",
   "nbconvert_exporter": "python",
   "pygments_lexer": "ipython3",
   "version": "3.6.2"
  },
  "toc": {
   "base_numbering": 1,
   "nav_menu": {},
   "number_sections": true,
   "sideBar": true,
   "skip_h1_title": false,
   "title_cell": "Table of Contents",
   "title_sidebar": "Contents",
   "toc_cell": false,
   "toc_position": {},
   "toc_section_display": true,
   "toc_window_display": false
  },
  "varInspector": {
   "cols": {
    "lenName": 16,
    "lenType": 16,
    "lenVar": 40
   },
   "kernels_config": {
    "python": {
     "delete_cmd_postfix": "",
     "delete_cmd_prefix": "del ",
     "library": "var_list.py",
     "varRefreshCmd": "print(var_dic_list())"
    },
    "r": {
     "delete_cmd_postfix": ") ",
     "delete_cmd_prefix": "rm(",
     "library": "var_list.r",
     "varRefreshCmd": "cat(var_dic_list()) "
    }
   },
   "types_to_exclude": [
    "module",
    "function",
    "builtin_function_or_method",
    "instance",
    "_Feature"
   ],
   "window_display": false
  }
 },
 "nbformat": 4,
 "nbformat_minor": 2
}
